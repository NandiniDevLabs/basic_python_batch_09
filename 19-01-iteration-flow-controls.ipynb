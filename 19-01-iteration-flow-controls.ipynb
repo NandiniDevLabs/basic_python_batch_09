{
 "cells": [
  {
   "cell_type": "code",
   "execution_count": 3,
   "id": "38c67a21-18d9-4d46-a268-274005369d6c",
   "metadata": {},
   "outputs": [],
   "source": [
    "input_nums = [91, 92, 93, 94, 95]"
   ]
  },
  {
   "cell_type": "code",
   "execution_count": 9,
   "id": "d0e30c6c-f82d-4092-a344-b77588aaae70",
   "metadata": {},
   "outputs": [
    {
     "name": "stdout",
     "output_type": "stream",
     "text": [
      "91\n",
      "discount: 4.55\n",
      "92\n",
      "discount: 4.6000000000000005\n",
      "Inside if statement\n",
      "94\n",
      "discount: 4.7\n",
      "95\n",
      "discount: 4.75\n"
     ]
    }
   ],
   "source": [
    "for i in input_nums:\n",
    "    if i == 93:\n",
    "        print(\"Inside if statement\")\n",
    "        continue\n",
    "    # End of if\n",
    "    print(i)\n",
    "    print(f\"discount: {i*0.05}\")"
   ]
  },
  {
   "cell_type": "code",
   "execution_count": 11,
   "id": "a9f97d6a-dbd1-44ed-97ce-d81b25ae3e8a",
   "metadata": {},
   "outputs": [],
   "source": [
    "input_strings = ['Hanugna','','Yasawini','Srinivas','','Gopi','Vishnu','Ajay','Aravind']"
   ]
  },
  {
   "cell_type": "code",
   "execution_count": 25,
   "id": "2afd17bc-2e00-448b-acf7-7d87014fc75e",
   "metadata": {},
   "outputs": [
    {
     "name": "stdout",
     "output_type": "stream",
     "text": [
      "Name: Hanugna, Length: 7, Status: Odd\n",
      "Name: Yasawini, Length: 8, Status: Even\n",
      "Name: Srinivas, Length: 8, Status: Even\n",
      "Name: Gopi, Length: 4, Status: Even\n",
      "Name: Vishnu, Length: 6, Status: Even\n",
      "Name: Ajay, Length: 4, Status: Even\n",
      "Name: Aravind, Length: 7, Status: Odd\n"
     ]
    }
   ],
   "source": [
    "# Requirement\n",
    "# Print - Name, length of name and 'Even'/'Odd' based on len of name\n",
    "# For empty string, do not perform any operation\n",
    "\n",
    "for i in input_strings:\n",
    "    if len(i) == 0:\n",
    "        continue\n",
    "    # print(i,len(i),'Even' if len(i)%2==0 else 'Odd')\n",
    "    # print('Even' if len(i)%2==0 else 'Odd')  # Ternary Operatory\n",
    "    \n",
    "    status = 'Even' if len(i)%2==0 else 'Odd'\n",
    "    print(f\"Name: {i}, Length: {len(i)}, Status: {status}\")\n",
    "## End of for loop"
   ]
  },
  {
   "cell_type": "code",
   "execution_count": null,
   "id": "b180b75e-4144-421e-98b0-5fb75672ca14",
   "metadata": {},
   "outputs": [],
   "source": []
  },
  {
   "cell_type": "code",
   "execution_count": 29,
   "id": "ab05c6d7-7699-4755-b586-5e032a789110",
   "metadata": {},
   "outputs": [],
   "source": [
    "input_nums = [91, 92, 93, 94, 95]"
   ]
  },
  {
   "cell_type": "code",
   "execution_count": 35,
   "id": "a8652a8a-2d8b-401c-a577-aedb8b535aa3",
   "metadata": {},
   "outputs": [
    {
     "name": "stdout",
     "output_type": "stream",
     "text": [
      "91 1\n",
      "92 2\n",
      "94 4\n",
      "95 0\n"
     ]
    }
   ],
   "source": [
    "# Divide each number by 5 and print the reminder, but exclude number 93\n",
    "for num in input_nums:\n",
    "    if num == 93:\n",
    "        continue    # ignore execution of current iteration and moves to next iteration\n",
    "    print(num, num%5)"
   ]
  },
  {
   "cell_type": "code",
   "execution_count": 37,
   "id": "ddede4dd-62b8-4564-ab07-4f981bbda40e",
   "metadata": {},
   "outputs": [
    {
     "data": {
      "text/plain": [
       "1"
      ]
     },
     "execution_count": 37,
     "metadata": {},
     "output_type": "execute_result"
    }
   ],
   "source": [
    "91%5"
   ]
  },
  {
   "cell_type": "code",
   "execution_count": 39,
   "id": "92b84b44-d32a-4120-9e9b-836f288c4dae",
   "metadata": {},
   "outputs": [
    {
     "data": {
      "text/plain": [
       "True"
      ]
     },
     "execution_count": 39,
     "metadata": {},
     "output_type": "execute_result"
    }
   ],
   "source": [
    "93 == 93"
   ]
  },
  {
   "cell_type": "code",
   "execution_count": 43,
   "id": "0d86fafd-0c44-4704-9c6a-63386f10349d",
   "metadata": {},
   "outputs": [],
   "source": [
    "input_strs = ['a','b','c','d','e']"
   ]
  },
  {
   "cell_type": "code",
   "execution_count": 61,
   "id": "76f11228-5ae7-4614-8fe7-7fda220abfaa",
   "metadata": {},
   "outputs": [],
   "source": [
    "# Vowels --> a, e, i, o, u"
   ]
  },
  {
   "cell_type": "code",
   "execution_count": 63,
   "id": "5dc535e3-b89d-4058-8e6f-624edce0a557",
   "metadata": {},
   "outputs": [
    {
     "name": "stdout",
     "output_type": "stream",
     "text": [
      "Char found is not vowel. b\n",
      "Char found is not vowel. c\n",
      "Char found is not vowel. d\n"
     ]
    }
   ],
   "source": [
    "for input_str in input_strs:  # for a e, do not print output\n",
    "    if input_str in ['a', 'e']:    # try this condition too: if input_str == 'a' or input_str == 'e'\n",
    "        continue\n",
    "    print(\"Char found is not vowel.\", input_str)"
   ]
  },
  {
   "cell_type": "code",
   "execution_count": 59,
   "id": "fb4f42bc-9871-4317-8a6f-4955d0e4f29e",
   "metadata": {},
   "outputs": [
    {
     "data": {
      "text/plain": [
       "True"
      ]
     },
     "execution_count": 59,
     "metadata": {},
     "output_type": "execute_result"
    }
   ],
   "source": [
    "'e' in ['a', 'e']"
   ]
  },
  {
   "cell_type": "code",
   "execution_count": 67,
   "id": "008dce27-190c-4eed-b0a2-c5ad2a49d152",
   "metadata": {},
   "outputs": [
    {
     "name": "stdout",
     "output_type": "stream",
     "text": [
      "Char found is not vowel.  b\n",
      "Char found is not vowel.  c\n",
      "Char found is not vowel.  d\n",
      "['b', 'c', 'd']\n"
     ]
    }
   ],
   "source": [
    "input_strs =  ['a','b','c','d','e']\n",
    "output_strs = []\n",
    "for input_str in input_strs:  # for a e, do not print output\n",
    "    if input_str in ['a', 'e']:    # try this condition too: str == 'a' or str == 'e'\n",
    "        continue\n",
    "    print(\"Char found is not vowel. \", input_str)\n",
    "    output_strs.append(input_str)\n",
    "print(output_strs)"
   ]
  },
  {
   "cell_type": "code",
   "execution_count": 71,
   "id": "240bca9d-e2ae-4910-8618-17e65f48ae7d",
   "metadata": {},
   "outputs": [
    {
     "name": "stdout",
     "output_type": "stream",
     "text": [
      "Char found is not vowel.  b\n",
      "Char found is not vowel.  c\n",
      "Char found is not vowel.  d\n",
      "['b', 'c', 'd']\n"
     ]
    }
   ],
   "source": [
    "input_strs =  ['a','b','c','d','e']\n",
    "output_strs = []\n",
    "for input_str in input_strs:  # for a e, do not print output\n",
    "    if input_str not in ['a', 'e']:    # try this condition too: str == 'a' or str == 'e'\n",
    "        print(\"Char found is not vowel. \", input_str)\n",
    "        output_strs.append(input_str)\n",
    "print(output_strs)"
   ]
  },
  {
   "cell_type": "code",
   "execution_count": 75,
   "id": "a8cc48ac-7f54-4dd6-ad32-cf3ca6647948",
   "metadata": {},
   "outputs": [
    {
     "data": {
      "text/plain": [
       "True"
      ]
     },
     "execution_count": 75,
     "metadata": {},
     "output_type": "execute_result"
    }
   ],
   "source": [
    "'b' not in ['a', 'e']"
   ]
  },
  {
   "cell_type": "code",
   "execution_count": 77,
   "id": "215b678d-379d-4e5b-b1f5-0bf6eba75140",
   "metadata": {},
   "outputs": [
    {
     "data": {
      "text/plain": [
       "['b', 'c', 'd']"
      ]
     },
     "execution_count": 77,
     "metadata": {},
     "output_type": "execute_result"
    }
   ],
   "source": [
    "[input_str for input_str in input_strs if input_str not in ['a','e']]"
   ]
  },
  {
   "cell_type": "code",
   "execution_count": null,
   "id": "411de987",
   "metadata": {},
   "outputs": [],
   "source": []
  }
 ],
 "metadata": {
  "kernelspec": {
   "display_name": "Python 3 (ipykernel)",
   "language": "python",
   "name": "python3"
  },
  "language_info": {
   "codemirror_mode": {
    "name": "ipython",
    "version": 3
   },
   "file_extension": ".py",
   "mimetype": "text/x-python",
   "name": "python",
   "nbconvert_exporter": "python",
   "pygments_lexer": "ipython3",
   "version": "3.12.4"
  }
 },
 "nbformat": 4,
 "nbformat_minor": 5
}
