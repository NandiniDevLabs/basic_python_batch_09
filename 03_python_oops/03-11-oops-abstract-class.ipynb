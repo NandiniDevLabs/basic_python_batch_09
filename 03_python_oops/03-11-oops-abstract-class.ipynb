{
 "cells": [
  {
   "cell_type": "code",
   "execution_count": 3,
   "metadata": {},
   "outputs": [],
   "source": [
    "# Function without implementation\n",
    "def my_func(a,b):\n",
    "    pass"
   ]
  },
  {
   "cell_type": "code",
   "execution_count": 4,
   "metadata": {},
   "outputs": [],
   "source": [
    "my_func(1,2)"
   ]
  },
  {
   "cell_type": "code",
   "execution_count": 5,
   "metadata": {},
   "outputs": [],
   "source": [
    "# Function with implementation\n",
    "def my_fuc2(a,b):\n",
    "    print(f'a: {a}')\n",
    "    "
   ]
  },
  {
   "cell_type": "code",
   "execution_count": 6,
   "metadata": {},
   "outputs": [
    {
     "name": "stdout",
     "output_type": "stream",
     "text": [
      "a: 1\n"
     ]
    }
   ],
   "source": [
    "my_fuc2(1,2)"
   ]
  },
  {
   "cell_type": "code",
   "execution_count": null,
   "metadata": {},
   "outputs": [],
   "source": []
  },
  {
   "cell_type": "markdown",
   "metadata": {},
   "source": [
    "# OOPs - Abstract Class\n",
    "- Will contain both **Abstract methods** and **concrete methods**\n",
    "- You cannot create objects for Abstract clas\n",
    "\n",
    "- Abstract methods? \n",
    "    - Will not have any implementation\n",
    "    - Within sub-class of this abstract class, the method will be implemented\n",
    "    - Decorator @abstractmethod\n",
    "- Concrete method?\n",
    "    - Will have implementation\n",
    "\n",
    "- You cannot create objects for sub-class of Abstract class, until abstract methods are implemented"
   ]
  },
  {
   "cell_type": "code",
   "execution_count": 15,
   "metadata": {},
   "outputs": [],
   "source": [
    "from abc import ABC,abstractmethod\n",
    "class Person(ABC):\n",
    "    def __init__(self, name, age):\n",
    "        print(\"Person Class initializer\")\n",
    "        self.name = name\n",
    "        self.age = age\n",
    "\n",
    "    def getName(self):\n",
    "        return self.name\n",
    "    \n",
    "    @abstractmethod\n",
    "    def setName(self,new_name):\n",
    "        pass"
   ]
  },
  {
   "cell_type": "code",
   "execution_count": 16,
   "metadata": {},
   "outputs": [
    {
     "ename": "TypeError",
     "evalue": "Can't instantiate abstract class Person without an implementation for abstract method 'setName'",
     "output_type": "error",
     "traceback": [
      "\u001b[1;31m---------------------------------------------------------------------------\u001b[0m",
      "\u001b[1;31mTypeError\u001b[0m                                 Traceback (most recent call last)",
      "Cell \u001b[1;32mIn[16], line 1\u001b[0m\n\u001b[1;32m----> 1\u001b[0m p1 \u001b[38;5;241m=\u001b[39m \u001b[43mPerson\u001b[49m\u001b[43m(\u001b[49m\u001b[38;5;124;43m\"\u001b[39;49m\u001b[38;5;124;43mKrishna\u001b[39;49m\u001b[38;5;124;43m\"\u001b[39;49m\u001b[43m,\u001b[49m\u001b[38;5;241;43m19\u001b[39;49m\u001b[43m)\u001b[49m\n",
      "\u001b[1;31mTypeError\u001b[0m: Can't instantiate abstract class Person without an implementation for abstract method 'setName'"
     ]
    }
   ],
   "source": [
    "p1 = Person(\"Krishna\",19)"
   ]
  },
  {
   "cell_type": "code",
   "execution_count": 18,
   "metadata": {},
   "outputs": [
    {
     "name": "stdout",
     "output_type": "stream",
     "text": [
      "inf\n"
     ]
    }
   ],
   "source": [
    "from math import inf\n",
    "try:\n",
    "    result = 1/0\n",
    "except ZeroDivisionError as e:\n",
    "    result = inf\n",
    "print(result)"
   ]
  },
  {
   "cell_type": "code",
   "execution_count": 19,
   "metadata": {},
   "outputs": [
    {
     "name": "stdout",
     "output_type": "stream",
     "text": [
      "Person Class\n"
     ]
    }
   ],
   "source": [
    "from abc import ABC, abstractmethod\n",
    "class Person(ABC):\n",
    "    print(\"Person Class\")\n",
    "    def __init__(self, name, age):\n",
    "        print(\"Person Class initializer\")\n",
    "        self.name = name\n",
    "        self.age = age\n",
    "    \n",
    "    def getName(self):  # Concrete method - implementation is already defined\n",
    "        return self.name\n",
    "    \n",
    "    @abstractmethod\n",
    "    def setName(self,new_name):  # Abstract method -> it is not implemented and decorated with @abstractmethod\n",
    "        pass\n",
    "    \n",
    "    def getAge(self):  # Concrete method - implementation is already defined\n",
    "        return self.age\n",
    "    \n",
    "    @abstractmethod\n",
    "    def setAge(self,new_age):  # Abstract Method\n",
    "        pass"
   ]
  },
  {
   "cell_type": "code",
   "execution_count": 20,
   "metadata": {},
   "outputs": [
    {
     "ename": "TypeError",
     "evalue": "Can't instantiate abstract class Person without an implementation for abstract methods 'setAge', 'setName'",
     "output_type": "error",
     "traceback": [
      "\u001b[1;31m---------------------------------------------------------------------------\u001b[0m",
      "\u001b[1;31mTypeError\u001b[0m                                 Traceback (most recent call last)",
      "Cell \u001b[1;32mIn[20], line 1\u001b[0m\n\u001b[1;32m----> 1\u001b[0m p1 \u001b[38;5;241m=\u001b[39m \u001b[43mPerson\u001b[49m\u001b[43m(\u001b[49m\n\u001b[0;32m      2\u001b[0m \u001b[43m    \u001b[49m\u001b[43mname\u001b[49m\u001b[38;5;241;43m=\u001b[39;49m\u001b[38;5;124;43m\"\u001b[39;49m\u001b[38;5;124;43mRam\u001b[39;49m\u001b[38;5;124;43m\"\u001b[39;49m\u001b[43m,\u001b[49m\n\u001b[0;32m      3\u001b[0m \u001b[43m    \u001b[49m\u001b[43mage\u001b[49m\u001b[43m \u001b[49m\u001b[38;5;241;43m=\u001b[39;49m\u001b[43m \u001b[49m\u001b[38;5;241;43m21\u001b[39;49m\n\u001b[0;32m      4\u001b[0m \u001b[43m)\u001b[49m\n",
      "\u001b[1;31mTypeError\u001b[0m: Can't instantiate abstract class Person without an implementation for abstract methods 'setAge', 'setName'"
     ]
    }
   ],
   "source": [
    "p1 = Person(\n",
    "    name=\"Ram\",\n",
    "    age = 21\n",
    ")"
   ]
  },
  {
   "cell_type": "code",
   "execution_count": 27,
   "metadata": {},
   "outputs": [
    {
     "name": "stdout",
     "output_type": "stream",
     "text": [
      "Student Class\n"
     ]
    }
   ],
   "source": [
    "# Student class is sub-class of Abstract class\n",
    "class Student(Person):\n",
    "    print(\"Student Class\")\n",
    "    def __init__(self, name, age):\n",
    "        print(\"Student Class Initializer\")\n",
    "        super().__init__(name, age)\n",
    "    #\n",
    "   \n",
    "    def setName(self,new_name):\n",
    "        print(\"setName from Student class\")\n",
    "        # self.name = new_name.upper()\n",
    "    #\n",
    "\n",
    "    # def setAge(self,new_age):\n",
    "    #     print(\"setAge from Student class\")"
   ]
  },
  {
   "cell_type": "code",
   "execution_count": 28,
   "metadata": {},
   "outputs": [
    {
     "ename": "TypeError",
     "evalue": "Can't instantiate abstract class Student without an implementation for abstract method 'setAge'",
     "output_type": "error",
     "traceback": [
      "\u001b[1;31m---------------------------------------------------------------------------\u001b[0m",
      "\u001b[1;31mTypeError\u001b[0m                                 Traceback (most recent call last)",
      "Cell \u001b[1;32mIn[28], line 1\u001b[0m\n\u001b[1;32m----> 1\u001b[0m stud1 \u001b[38;5;241m=\u001b[39m \u001b[43mStudent\u001b[49m\u001b[43m(\u001b[49m\n\u001b[0;32m      2\u001b[0m \u001b[43m    \u001b[49m\u001b[43mname\u001b[49m\u001b[38;5;241;43m=\u001b[39;49m\u001b[38;5;124;43m\"\u001b[39;49m\u001b[38;5;124;43mRam\u001b[39;49m\u001b[38;5;124;43m\"\u001b[39;49m\u001b[43m,\u001b[49m\n\u001b[0;32m      3\u001b[0m \u001b[43m    \u001b[49m\u001b[43mage\u001b[49m\u001b[43m \u001b[49m\u001b[38;5;241;43m=\u001b[39;49m\u001b[43m \u001b[49m\u001b[38;5;241;43m21\u001b[39;49m\n\u001b[0;32m      4\u001b[0m \u001b[43m)\u001b[49m\n",
      "\u001b[1;31mTypeError\u001b[0m: Can't instantiate abstract class Student without an implementation for abstract method 'setAge'"
     ]
    }
   ],
   "source": [
    "stud1 = Student(\n",
    "    name=\"Ram\",\n",
    "    age = 21\n",
    ")"
   ]
  },
  {
   "cell_type": "code",
   "execution_count": 35,
   "metadata": {},
   "outputs": [
    {
     "name": "stdout",
     "output_type": "stream",
     "text": [
      "Student Class\n"
     ]
    }
   ],
   "source": [
    "# Student class is sub-class of Abstract class\n",
    "class Student(Person):\n",
    "    print(\"Student Class\")\n",
    "    def __init__(self, name, age):\n",
    "        print(\"Student Class Initializer\")\n",
    "        super().__init__(name, age)\n",
    "    #\n",
    "   \n",
    "    def setName(self,new_name):\n",
    "        print(\"setName from Student class\")\n",
    "        # self.name = new_name.upper()\n",
    "    ##\n",
    "\n",
    "    def setAge(self, new_age):\n",
    "        print(\"setAge from Student class\")\n",
    "        if new_age > 0:\n",
    "            self.age = new_age\n",
    "        else:\n",
    "            self.age = -1 * new_age\n",
    "    ##"
   ]
  },
  {
   "cell_type": "code",
   "execution_count": 36,
   "metadata": {},
   "outputs": [
    {
     "name": "stdout",
     "output_type": "stream",
     "text": [
      "Student Class Initializer\n",
      "Person Class initializer\n"
     ]
    }
   ],
   "source": [
    "stud1 = Student(\n",
    "    name=\"Ram\",\n",
    "    age = 21\n",
    ")"
   ]
  },
  {
   "cell_type": "code",
   "execution_count": 37,
   "metadata": {},
   "outputs": [
    {
     "data": {
      "text/plain": [
       "21"
      ]
     },
     "execution_count": 37,
     "metadata": {},
     "output_type": "execute_result"
    }
   ],
   "source": [
    "stud1.getAge()"
   ]
  },
  {
   "cell_type": "code",
   "execution_count": 38,
   "metadata": {},
   "outputs": [
    {
     "name": "stdout",
     "output_type": "stream",
     "text": [
      "setAge from Student class\n"
     ]
    }
   ],
   "source": [
    "stud1.setAge(56)"
   ]
  },
  {
   "cell_type": "code",
   "execution_count": 39,
   "metadata": {},
   "outputs": [
    {
     "data": {
      "text/plain": [
       "56"
      ]
     },
     "execution_count": 39,
     "metadata": {},
     "output_type": "execute_result"
    }
   ],
   "source": [
    "stud1.getAge()"
   ]
  },
  {
   "cell_type": "code",
   "execution_count": 40,
   "metadata": {},
   "outputs": [
    {
     "name": "stdout",
     "output_type": "stream",
     "text": [
      "setAge from Student class\n"
     ]
    }
   ],
   "source": [
    "stud1.setAge(-34)"
   ]
  },
  {
   "cell_type": "code",
   "execution_count": 41,
   "metadata": {},
   "outputs": [
    {
     "data": {
      "text/plain": [
       "34"
      ]
     },
     "execution_count": 41,
     "metadata": {},
     "output_type": "execute_result"
    }
   ],
   "source": [
    "stud1.getAge()"
   ]
  },
  {
   "cell_type": "code",
   "execution_count": 46,
   "metadata": {},
   "outputs": [
    {
     "name": "stdout",
     "output_type": "stream",
     "text": [
      "Employee Class\n"
     ]
    }
   ],
   "source": [
    "class Employee(Person):\n",
    "    print(\"Employee Class\")\n",
    "    def __init__(self, name, age):\n",
    "        print(\"Employee Class Initializer\")\n",
    "        super().__init__(name, age)\n",
    "    \n",
    "    def setName(self,new_name):\n",
    "        self.name = new_name.swapcase()\n",
    "        print(\"Employee name updated successfully.\")\n",
    "    \n",
    "    def setAge(self, new_age):\n",
    "        print(\"setAge from Employee class\")\n",
    "        if new_age >= 18:\n",
    "            self.age = new_age\n",
    "        else:\n",
    "            self.age = 0"
   ]
  },
  {
   "cell_type": "code",
   "execution_count": 47,
   "metadata": {},
   "outputs": [
    {
     "name": "stdout",
     "output_type": "stream",
     "text": [
      "Employee Class Initializer\n",
      "Person Class initializer\n"
     ]
    }
   ],
   "source": [
    "emp1 = Employee(\n",
    "    name = \"Joseph\",\n",
    "    age = 21\n",
    ")"
   ]
  },
  {
   "cell_type": "code",
   "execution_count": 48,
   "metadata": {},
   "outputs": [
    {
     "data": {
      "text/plain": [
       "21"
      ]
     },
     "execution_count": 48,
     "metadata": {},
     "output_type": "execute_result"
    }
   ],
   "source": [
    "emp1.getAge()"
   ]
  },
  {
   "cell_type": "code",
   "execution_count": 49,
   "metadata": {},
   "outputs": [
    {
     "data": {
      "text/plain": [
       "'Joseph'"
      ]
     },
     "execution_count": 49,
     "metadata": {},
     "output_type": "execute_result"
    }
   ],
   "source": [
    "emp1.getName()"
   ]
  },
  {
   "cell_type": "code",
   "execution_count": 50,
   "metadata": {},
   "outputs": [
    {
     "name": "stdout",
     "output_type": "stream",
     "text": [
      "Employee name updated successfully.\n"
     ]
    }
   ],
   "source": [
    "emp1.setName(\"Andrew Joseph\")"
   ]
  },
  {
   "cell_type": "code",
   "execution_count": 51,
   "metadata": {},
   "outputs": [
    {
     "data": {
      "text/plain": [
       "'aNDREW jOSEPH'"
      ]
     },
     "execution_count": 51,
     "metadata": {},
     "output_type": "execute_result"
    }
   ],
   "source": [
    "emp1.getName()"
   ]
  },
  {
   "cell_type": "code",
   "execution_count": 52,
   "metadata": {},
   "outputs": [
    {
     "name": "stdout",
     "output_type": "stream",
     "text": [
      "setAge from Employee class\n"
     ]
    }
   ],
   "source": [
    "emp1.setAge(13)"
   ]
  },
  {
   "cell_type": "code",
   "execution_count": 53,
   "metadata": {},
   "outputs": [
    {
     "data": {
      "text/plain": [
       "0"
      ]
     },
     "execution_count": 53,
     "metadata": {},
     "output_type": "execute_result"
    }
   ],
   "source": [
    "emp1.getAge()"
   ]
  },
  {
   "cell_type": "code",
   "execution_count": null,
   "metadata": {},
   "outputs": [],
   "source": []
  }
 ],
 "metadata": {
  "kernelspec": {
   "display_name": "Python 3",
   "language": "python",
   "name": "python3"
  },
  "language_info": {
   "codemirror_mode": {
    "name": "ipython",
    "version": 3
   },
   "file_extension": ".py",
   "mimetype": "text/x-python",
   "name": "python",
   "nbconvert_exporter": "python",
   "pygments_lexer": "ipython3",
   "version": "3.12.8"
  }
 },
 "nbformat": 4,
 "nbformat_minor": 4
}
