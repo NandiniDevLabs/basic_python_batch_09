{
 "cells": [
  {
   "cell_type": "markdown",
   "metadata": {},
   "source": [
    "# Multiple Inheritance"
   ]
  },
  {
   "cell_type": "code",
   "execution_count": 1,
   "metadata": {},
   "outputs": [
    {
     "name": "stdout",
     "output_type": "stream",
     "text": [
      "Person class\n"
     ]
    }
   ],
   "source": [
    "# Parent1\n",
    "class Person:\n",
    "    print(\"Person class\")\n",
    "    def __init__(self,name,age):\n",
    "        print(\"Person class initializer\")\n",
    "        self.name = name\n",
    "        self.age = age\n",
    "    \n",
    "    def update_name(self,new_name):\n",
    "        print(\"Person class: update_name function\")\n",
    "        self.name = new_name\n",
    "\n",
    "    def update_age(self,new_age):\n",
    "        print(\"Person class: update_age function\")\n",
    "        self.age = new_age\n",
    "\n",
    "    def get_attributes(self):\n",
    "        print(\"Person class: get_attributes function\")\n",
    "        return {\"name\": self.name, \"age\": self.age}\n",
    "# End of Person"
   ]
  },
  {
   "cell_type": "code",
   "execution_count": 2,
   "metadata": {},
   "outputs": [
    {
     "name": "stdout",
     "output_type": "stream",
     "text": [
      "Address class\n"
     ]
    }
   ],
   "source": [
    "#Parent2\n",
    "class Address:\n",
    "    print(\"Address class\")\n",
    "    def __init__(self,plotno,street,pincode):\n",
    "        print(\"Address class intializer\")\n",
    "        self.plotno = plotno\n",
    "        self.street = street\n",
    "        self.pincode = pincode\n",
    "\n",
    "    def get_attributes(self):\n",
    "        print(\"Address class: get_attributes function\")\n",
    "        return {\"plotno\": self.plotno, \"street\": self.street, \"pincode\": self.pincode}"
   ]
  },
  {
   "cell_type": "code",
   "execution_count": 3,
   "metadata": {},
   "outputs": [
    {
     "name": "stdout",
     "output_type": "stream",
     "text": [
      "Student class\n"
     ]
    }
   ],
   "source": [
    "#Child\n",
    "class Student(Person, Address):\n",
    "    print(\"Student class\")\n",
    "    def __init__(self,name,age,plotno,street,pincode,sId,section):\n",
    "        print(\"Student class initializer\")\n",
    "        # To initialize Person class attributes\n",
    "        Person.__init__(self,name,age)\n",
    "        # To initialize Address class attributes\n",
    "        Address.__init__(self,plotno,street,pincode)\n",
    "        # Student class Attributes\n",
    "        self.sId = sId\n",
    "        self.section = section\n",
    "\n",
    "    def get_attributes(self):\n",
    "        print(\"Student class: get_attributes function\")\n",
    "        return {\"sId\": self.sId, \"section\": self.section}\n",
    "\n",
    "    def get_all_attributes(self):\n",
    "        print(\"Student class: get_all_attributes function\")\n",
    "        return {\"name\": self.name, \"age\": self.age, \"plotno\": self.plotno, \"street\": self.street, \"pincode\": self.pincode, \"sId\": self.sId, \"section\": self.section}\n",
    "#"
   ]
  },
  {
   "cell_type": "code",
   "execution_count": 4,
   "metadata": {},
   "outputs": [
    {
     "name": "stdout",
     "output_type": "stream",
     "text": [
      "Student class initializer\n",
      "Person class initializer\n",
      "Address class intializer\n"
     ]
    }
   ],
   "source": [
    "s1 = Student(\n",
    "    name=\"Krishna\",\n",
    "    age=19,\n",
    "    plotno=\"12-2-2\",\n",
    "    street=\"Sri nagar\",\n",
    "    pincode=520012,\n",
    "    sId=\"2019CSE0012\",\n",
    "    section=\"B\"\n",
    ")"
   ]
  },
  {
   "cell_type": "code",
   "execution_count": 5,
   "metadata": {},
   "outputs": [
    {
     "name": "stdout",
     "output_type": "stream",
     "text": [
      "Student class: get_attributes function\n"
     ]
    },
    {
     "data": {
      "text/plain": [
       "{'sId': '2019CSE0012', 'section': 'B'}"
      ]
     },
     "execution_count": 5,
     "metadata": {},
     "output_type": "execute_result"
    }
   ],
   "source": [
    "s1.get_attributes()\n",
    "# Student.get_attributes(s1)"
   ]
  },
  {
   "cell_type": "code",
   "execution_count": 6,
   "metadata": {},
   "outputs": [
    {
     "name": "stdout",
     "output_type": "stream",
     "text": [
      "Student class: get_all_attributes function\n"
     ]
    },
    {
     "data": {
      "text/plain": [
       "{'name': 'Krishna',\n",
       " 'age': 19,\n",
       " 'plotno': '12-2-2',\n",
       " 'street': 'Sri nagar',\n",
       " 'pincode': 520012,\n",
       " 'sId': '2019CSE0012',\n",
       " 'section': 'B'}"
      ]
     },
     "execution_count": 6,
     "metadata": {},
     "output_type": "execute_result"
    }
   ],
   "source": [
    "s1.get_all_attributes()"
   ]
  },
  {
   "cell_type": "code",
   "execution_count": 7,
   "metadata": {},
   "outputs": [
    {
     "name": "stdout",
     "output_type": "stream",
     "text": [
      "Person class: get_attributes function\n"
     ]
    },
    {
     "data": {
      "text/plain": [
       "{'name': 'Krishna', 'age': 19}"
      ]
     },
     "execution_count": 7,
     "metadata": {},
     "output_type": "execute_result"
    }
   ],
   "source": [
    "Person.get_attributes(s1)"
   ]
  },
  {
   "cell_type": "code",
   "execution_count": 8,
   "metadata": {},
   "outputs": [
    {
     "name": "stdout",
     "output_type": "stream",
     "text": [
      "Address class: get_attributes function\n"
     ]
    },
    {
     "data": {
      "text/plain": [
       "{'plotno': '12-2-2', 'street': 'Sri nagar', 'pincode': 520012}"
      ]
     },
     "execution_count": 8,
     "metadata": {},
     "output_type": "execute_result"
    }
   ],
   "source": [
    "Address.get_attributes(s1)"
   ]
  },
  {
   "cell_type": "code",
   "execution_count": null,
   "metadata": {},
   "outputs": [],
   "source": []
  }
 ],
 "metadata": {
  "kernelspec": {
   "display_name": "Python 3",
   "language": "python",
   "name": "python3"
  },
  "language_info": {
   "codemirror_mode": {
    "name": "ipython",
    "version": 3
   },
   "file_extension": ".py",
   "mimetype": "text/x-python",
   "name": "python",
   "nbconvert_exporter": "python",
   "pygments_lexer": "ipython3",
   "version": "3.12.8"
  }
 },
 "nbformat": 4,
 "nbformat_minor": 2
}
