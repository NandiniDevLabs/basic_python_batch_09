{
 "cells": [
  {
   "cell_type": "markdown",
   "metadata": {},
   "source": [
    "# OOPs - Interface\n",
    "- Will contain only **abstract methods**\n",
    "- In the below example\n",
    "    - Person class is **Interface**\n",
    "    - Student class is **Implementation class**\n",
    "\n",
    "# Note\n",
    "- Interface or Abstract Class will have abstract methods\n",
    "- Implementation class will implement those abstract methods"
   ]
  },
  {
   "cell_type": "code",
   "execution_count": 1,
   "metadata": {},
   "outputs": [
    {
     "name": "stdout",
     "output_type": "stream",
     "text": [
      "Person Class\n"
     ]
    }
   ],
   "source": [
    "# Interface\n",
    "class Person:\n",
    "    print(\"Person Class\")\n",
    "    def __init__(self, name, age):\n",
    "        print(\"Person Class initializer\")\n",
    "        self.name = name\n",
    "        self.age = age\n",
    "    #\n",
    "\n",
    "    def getName(self):  # Abstract method\n",
    "        raise NotImplementedError(\"getName method is not implemented\")\n",
    "    \n",
    "    def setName(self,new_name):  # Abstract method\n",
    "        raise NotImplementedError(\"setName method is not implemented\")\n",
    "    \n",
    "    def getAge(self): # Abstract method\n",
    "        raise NotImplementedError(\"getAge method is not implemented\")\n",
    "    \n",
    "    def setAge(self,new_age): # Abstract method\n",
    "        raise NotImplementedError(\"setAge method is not implemented\")"
   ]
  },
  {
   "cell_type": "code",
   "execution_count": 2,
   "metadata": {},
   "outputs": [
    {
     "name": "stdout",
     "output_type": "stream",
     "text": [
      "Person Class initializer\n"
     ]
    }
   ],
   "source": [
    "p1 = Person(\n",
    "    name = \"Joseph\",\n",
    "    age = 21\n",
    ")"
   ]
  },
  {
   "cell_type": "code",
   "execution_count": 3,
   "metadata": {},
   "outputs": [
    {
     "ename": "NotImplementedError",
     "evalue": "getAge method is not implemented",
     "output_type": "error",
     "traceback": [
      "\u001b[1;31m---------------------------------------------------------------------------\u001b[0m",
      "\u001b[1;31mNotImplementedError\u001b[0m                       Traceback (most recent call last)",
      "Cell \u001b[1;32mIn[3], line 1\u001b[0m\n\u001b[1;32m----> 1\u001b[0m \u001b[43mp1\u001b[49m\u001b[38;5;241;43m.\u001b[39;49m\u001b[43mgetAge\u001b[49m\u001b[43m(\u001b[49m\u001b[43m)\u001b[49m\n",
      "Cell \u001b[1;32mIn[1], line 17\u001b[0m, in \u001b[0;36mPerson.getAge\u001b[1;34m(self)\u001b[0m\n\u001b[0;32m     16\u001b[0m \u001b[38;5;28;01mdef\u001b[39;00m\u001b[38;5;250m \u001b[39m\u001b[38;5;21mgetAge\u001b[39m(\u001b[38;5;28mself\u001b[39m): \u001b[38;5;66;03m# Abstract method\u001b[39;00m\n\u001b[1;32m---> 17\u001b[0m     \u001b[38;5;28;01mraise\u001b[39;00m \u001b[38;5;167;01mNotImplementedError\u001b[39;00m(\u001b[38;5;124m\"\u001b[39m\u001b[38;5;124mgetAge method is not implemented\u001b[39m\u001b[38;5;124m\"\u001b[39m)\n",
      "\u001b[1;31mNotImplementedError\u001b[0m: getAge method is not implemented"
     ]
    }
   ],
   "source": [
    "p1.getAge()"
   ]
  },
  {
   "cell_type": "code",
   "execution_count": 4,
   "metadata": {},
   "outputs": [
    {
     "ename": "NotImplementedError",
     "evalue": "getName method is not implemented",
     "output_type": "error",
     "traceback": [
      "\u001b[1;31m---------------------------------------------------------------------------\u001b[0m",
      "\u001b[1;31mNotImplementedError\u001b[0m                       Traceback (most recent call last)",
      "Cell \u001b[1;32mIn[4], line 1\u001b[0m\n\u001b[1;32m----> 1\u001b[0m \u001b[43mp1\u001b[49m\u001b[38;5;241;43m.\u001b[39;49m\u001b[43mgetName\u001b[49m\u001b[43m(\u001b[49m\u001b[43m)\u001b[49m\n",
      "Cell \u001b[1;32mIn[1], line 11\u001b[0m, in \u001b[0;36mPerson.getName\u001b[1;34m(self)\u001b[0m\n\u001b[0;32m     10\u001b[0m \u001b[38;5;28;01mdef\u001b[39;00m\u001b[38;5;250m \u001b[39m\u001b[38;5;21mgetName\u001b[39m(\u001b[38;5;28mself\u001b[39m):  \u001b[38;5;66;03m# Abstract method\u001b[39;00m\n\u001b[1;32m---> 11\u001b[0m     \u001b[38;5;28;01mraise\u001b[39;00m \u001b[38;5;167;01mNotImplementedError\u001b[39;00m(\u001b[38;5;124m\"\u001b[39m\u001b[38;5;124mgetName method is not implemented\u001b[39m\u001b[38;5;124m\"\u001b[39m)\n",
      "\u001b[1;31mNotImplementedError\u001b[0m: getName method is not implemented"
     ]
    }
   ],
   "source": [
    "p1.getName()"
   ]
  },
  {
   "cell_type": "code",
   "execution_count": 5,
   "metadata": {},
   "outputs": [
    {
     "ename": "NotImplementedError",
     "evalue": "setName method is not implemented",
     "output_type": "error",
     "traceback": [
      "\u001b[1;31m---------------------------------------------------------------------------\u001b[0m",
      "\u001b[1;31mNotImplementedError\u001b[0m                       Traceback (most recent call last)",
      "Cell \u001b[1;32mIn[5], line 1\u001b[0m\n\u001b[1;32m----> 1\u001b[0m \u001b[43mp1\u001b[49m\u001b[38;5;241;43m.\u001b[39;49m\u001b[43msetName\u001b[49m\u001b[43m(\u001b[49m\u001b[38;5;124;43m\"\u001b[39;49m\u001b[38;5;124;43mAndrew Joseph\u001b[39;49m\u001b[38;5;124;43m\"\u001b[39;49m\u001b[43m)\u001b[49m\n",
      "Cell \u001b[1;32mIn[1], line 14\u001b[0m, in \u001b[0;36mPerson.setName\u001b[1;34m(self, new_name)\u001b[0m\n\u001b[0;32m     13\u001b[0m \u001b[38;5;28;01mdef\u001b[39;00m\u001b[38;5;250m \u001b[39m\u001b[38;5;21msetName\u001b[39m(\u001b[38;5;28mself\u001b[39m,new_name):  \u001b[38;5;66;03m# Abstract method\u001b[39;00m\n\u001b[1;32m---> 14\u001b[0m     \u001b[38;5;28;01mraise\u001b[39;00m \u001b[38;5;167;01mNotImplementedError\u001b[39;00m(\u001b[38;5;124m\"\u001b[39m\u001b[38;5;124msetName method is not implemented\u001b[39m\u001b[38;5;124m\"\u001b[39m)\n",
      "\u001b[1;31mNotImplementedError\u001b[0m: setName method is not implemented"
     ]
    }
   ],
   "source": [
    "p1.setName(\"Andrew Joseph\")"
   ]
  },
  {
   "cell_type": "code",
   "execution_count": 14,
   "metadata": {},
   "outputs": [
    {
     "name": "stdout",
     "output_type": "stream",
     "text": [
      "Student Class\n"
     ]
    }
   ],
   "source": [
    "# Implementation class -> Sub-class of Interface\n",
    "# All the abstract methods of Inteface will be implemented in the implementation class\n",
    "class Student(Person):\n",
    "    print(\"Student Class\")\n",
    "    def __init__(self, name, age):\n",
    "        print(\"Student Class Initializer\")\n",
    "        super().__init__(name, age)\n",
    "\n",
    "    def getName(self): \n",
    "        print(\"Student class: getName method\")\n",
    "        return self.name\n",
    "    \n",
    "    def setName(self,new_name):\n",
    "        print(\"Student class: setName method\")\n",
    "        self.name = new_name.upper()\n",
    "    \n",
    "    def getAge(self): \n",
    "        print(\"Student class: getAge method\")\n",
    "        return self.age\n",
    "    \n",
    "    def setAge(self, new_age):\n",
    "        print(\"Student class: setAge method\")\n",
    "        if new_age > 0:\n",
    "            self.age = new_age\n",
    "        else:\n",
    "            self.age = 0"
   ]
  },
  {
   "cell_type": "code",
   "execution_count": 15,
   "metadata": {},
   "outputs": [
    {
     "name": "stdout",
     "output_type": "stream",
     "text": [
      "Student Class Initializer\n",
      "Person Class initializer\n"
     ]
    }
   ],
   "source": [
    "s1 = Student(\n",
    "    name = \"Joseph\",\n",
    "    age = 21\n",
    ")"
   ]
  },
  {
   "cell_type": "code",
   "execution_count": 16,
   "metadata": {},
   "outputs": [
    {
     "name": "stdout",
     "output_type": "stream",
     "text": [
      "Student class: getName method\n"
     ]
    },
    {
     "data": {
      "text/plain": [
       "'Joseph'"
      ]
     },
     "execution_count": 16,
     "metadata": {},
     "output_type": "execute_result"
    }
   ],
   "source": [
    "s1.getName()"
   ]
  },
  {
   "cell_type": "code",
   "execution_count": 17,
   "metadata": {},
   "outputs": [
    {
     "name": "stdout",
     "output_type": "stream",
     "text": [
      "Student class: getAge method\n"
     ]
    },
    {
     "data": {
      "text/plain": [
       "21"
      ]
     },
     "execution_count": 17,
     "metadata": {},
     "output_type": "execute_result"
    }
   ],
   "source": [
    "s1.getAge()"
   ]
  },
  {
   "cell_type": "code",
   "execution_count": 18,
   "metadata": {},
   "outputs": [
    {
     "name": "stdout",
     "output_type": "stream",
     "text": [
      "Student class: setName method\n"
     ]
    }
   ],
   "source": [
    "s1.setName(\"Andrew Joseph\")"
   ]
  },
  {
   "cell_type": "code",
   "execution_count": 19,
   "metadata": {},
   "outputs": [
    {
     "name": "stdout",
     "output_type": "stream",
     "text": [
      "Student class: getName method\n"
     ]
    },
    {
     "data": {
      "text/plain": [
       "'ANDREW JOSEPH'"
      ]
     },
     "execution_count": 19,
     "metadata": {},
     "output_type": "execute_result"
    }
   ],
   "source": [
    "s1.getName()"
   ]
  },
  {
   "cell_type": "code",
   "execution_count": null,
   "metadata": {},
   "outputs": [],
   "source": []
  }
 ],
 "metadata": {
  "kernelspec": {
   "display_name": "Python 3",
   "language": "python",
   "name": "python3"
  },
  "language_info": {
   "codemirror_mode": {
    "name": "ipython",
    "version": 3
   },
   "file_extension": ".py",
   "mimetype": "text/x-python",
   "name": "python",
   "nbconvert_exporter": "python",
   "pygments_lexer": "ipython3",
   "version": "3.12.8"
  }
 },
 "nbformat": 4,
 "nbformat_minor": 2
}
