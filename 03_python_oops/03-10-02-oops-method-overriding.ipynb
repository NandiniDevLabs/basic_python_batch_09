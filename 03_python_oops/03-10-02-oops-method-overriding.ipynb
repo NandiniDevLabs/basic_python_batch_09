{
 "cells": [
  {
   "cell_type": "code",
   "execution_count": 1,
   "metadata": {},
   "outputs": [
    {
     "name": "stdout",
     "output_type": "stream",
     "text": [
      "Person class\n"
     ]
    }
   ],
   "source": [
    "# Parent\n",
    "class Person:\n",
    "    print(\"Person class\")\n",
    "    def __init__(self,name,age):\n",
    "        print(\"This is Person class initializer\")\n",
    "        self.name = name\n",
    "        self.age = age\n",
    "    \n",
    "    def set_name(self,new_name):\n",
    "        print(\"Person class: set_name function\")\n",
    "        self.name = new_name\n",
    "\n",
    "    def set_age(self,new_age):\n",
    "        print(\"Person class: set_name function\")\n",
    "        self.age = new_age\n",
    "\n",
    "    def get_attributes(self):\n",
    "        print(\"Person class: get_attributes function\")\n",
    "        return {\"name\": self.name, \"age\": self.age}    # {\"name\":\"Ayesha\",\"age\":11}\n",
    "# End of Person"
   ]
  },
  {
   "cell_type": "code",
   "execution_count": 2,
   "metadata": {},
   "outputs": [
    {
     "name": "stdout",
     "output_type": "stream",
     "text": [
      "Student class\n"
     ]
    }
   ],
   "source": [
    "# Child\n",
    "class Student(Person):\n",
    "    print(\"Student class\")\n",
    "    def __init__(self,name,age,stdId,yoj):\n",
    "        print(\"Student class initializer\")\n",
    "        super().__init__(name,age)\n",
    "        self.stdId = stdId\n",
    "        self.yoj = yoj\n",
    "    #\n",
    "# End of Student class"
   ]
  },
  {
   "cell_type": "code",
   "execution_count": 3,
   "metadata": {},
   "outputs": [
    {
     "name": "stdout",
     "output_type": "stream",
     "text": [
      "Student class initializer\n",
      "This is Person class initializer\n"
     ]
    }
   ],
   "source": [
    "s1 = Student(\n",
    "    name=\"Krishna\",\n",
    "    age=19,\n",
    "    stdId=\"20CSE12\",\n",
    "    yoj=\"2019\",\n",
    ")"
   ]
  },
  {
   "cell_type": "code",
   "execution_count": 5,
   "metadata": {},
   "outputs": [
    {
     "name": "stdout",
     "output_type": "stream",
     "text": [
      "s1.__class__\n",
      "s1.__delattr__\n",
      "s1.__dict__\n",
      "s1.__dir__\n",
      "s1.__doc__\n",
      "s1.__eq__\n",
      "s1.__format__\n",
      "s1.__ge__\n",
      "s1.__getattribute__\n",
      "s1.__getstate__\n",
      "s1.__gt__\n",
      "s1.__hash__\n",
      "s1.__init__\n",
      "s1.__init_subclass__\n",
      "s1.__le__\n",
      "s1.__lt__\n",
      "s1.__module__\n",
      "s1.__ne__\n",
      "s1.__new__\n",
      "s1.__reduce__\n",
      "s1.__reduce_ex__\n",
      "s1.__repr__\n",
      "s1.__setattr__\n",
      "s1.__sizeof__\n",
      "s1.__str__\n",
      "s1.__subclasshook__\n",
      "s1.__weakref__\n",
      "s1.age\n",
      "s1.get_attributes\n",
      "s1.name\n",
      "s1.set_age\n",
      "s1.set_name\n",
      "s1.stdId\n",
      "s1.yoj"
     ]
    }
   ],
   "source": [
    "s1.*?"
   ]
  },
  {
   "cell_type": "code",
   "execution_count": 4,
   "metadata": {},
   "outputs": [
    {
     "name": "stdout",
     "output_type": "stream",
     "text": [
      "Person class: get_attributes function\n"
     ]
    },
    {
     "data": {
      "text/plain": [
       "{'name': 'Krishna', 'age': 19}"
      ]
     },
     "execution_count": 4,
     "metadata": {},
     "output_type": "execute_result"
    }
   ],
   "source": [
    "s1.get_attributes() # Parent class function is being called"
   ]
  },
  {
   "cell_type": "code",
   "execution_count": null,
   "metadata": {},
   "outputs": [],
   "source": []
  },
  {
   "cell_type": "markdown",
   "metadata": {},
   "source": [
    "# Redefining Child class"
   ]
  },
  {
   "cell_type": "code",
   "execution_count": 15,
   "metadata": {},
   "outputs": [
    {
     "name": "stdout",
     "output_type": "stream",
     "text": [
      "Student class\n"
     ]
    }
   ],
   "source": [
    "# Child\n",
    "class Student(Person):\n",
    "    print(\"Student class\")\n",
    "    def __init__(self,name,age,stdId,yoj):\n",
    "        print(\"Student class initializer\")\n",
    "        super().__init__(name,age)\n",
    "        self.stdId = stdId\n",
    "        self.yoj = yoj\n",
    "    #\n",
    "\n",
    "    # This get_attribute function exists in Parent class as well.\n",
    "    # As we are defining the same function here, it is overriding the parent class get_attribute function\n",
    "    def get_attributes(self):\n",
    "        print(\"Student class: get_attributes function\")\n",
    "        return {\"name\": self.name, \"age\": self.age,\"stdId\": self.stdId, \"yoj\": self.yoj}\n",
    "# End of Student class"
   ]
  },
  {
   "cell_type": "code",
   "execution_count": 16,
   "metadata": {},
   "outputs": [
    {
     "name": "stdout",
     "output_type": "stream",
     "text": [
      "Student class initializer\n",
      "This is Person class initializer\n"
     ]
    }
   ],
   "source": [
    "s2 = Student(\n",
    "    name=\"Krishna\",\n",
    "    age=19,\n",
    "    stdId=\"20CSE12\",\n",
    "    yoj=\"2019\",\n",
    ")"
   ]
  },
  {
   "cell_type": "code",
   "execution_count": 8,
   "metadata": {},
   "outputs": [
    {
     "name": "stdout",
     "output_type": "stream",
     "text": [
      "Student class: get_attributes function\n"
     ]
    },
    {
     "data": {
      "text/plain": [
       "{'name': 'Krishna', 'age': 19, 'stdId': '20CSE12', 'yoj': '2019'}"
      ]
     },
     "execution_count": 8,
     "metadata": {},
     "output_type": "execute_result"
    }
   ],
   "source": [
    "s2.get_attributes() # Child class function is being called - and that is called Method Overriding"
   ]
  },
  {
   "cell_type": "code",
   "execution_count": 18,
   "metadata": {},
   "outputs": [],
   "source": [
    "# Polymorphisim"
   ]
  },
  {
   "cell_type": "code",
   "execution_count": null,
   "metadata": {},
   "outputs": [],
   "source": []
  }
 ],
 "metadata": {
  "kernelspec": {
   "display_name": "Python 3",
   "language": "python",
   "name": "python3"
  },
  "language_info": {
   "codemirror_mode": {
    "name": "ipython",
    "version": 3
   },
   "file_extension": ".py",
   "mimetype": "text/x-python",
   "name": "python",
   "nbconvert_exporter": "python",
   "pygments_lexer": "ipython3",
   "version": "3.12.8"
  }
 },
 "nbformat": 4,
 "nbformat_minor": 2
}
