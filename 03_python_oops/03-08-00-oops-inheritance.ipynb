{
 "cells": [
  {
   "cell_type": "markdown",
   "metadata": {},
   "source": [
    "# Refer this link for inheritance \n",
    "https://www.scientecheasy.com/2023/09/types-of-inheritance-in-python.html/"
   ]
  },
  {
   "cell_type": "code",
   "execution_count": null,
   "metadata": {},
   "outputs": [],
   "source": [
    "#-------- Single Inheritance--------------\n",
    "# Person -> Parent Class\n",
    "# Student(Person) -> Child Class"
   ]
  },
  {
   "cell_type": "code",
   "execution_count": null,
   "metadata": {},
   "outputs": [],
   "source": [
    "#-------- Multiple Inheritance--------------\n",
    "# Person -> Parent1 Class\n",
    "# Address -> Parent2 Class\n",
    "# Student(Person, Address) -> Child Class"
   ]
  },
  {
   "cell_type": "code",
   "execution_count": null,
   "metadata": {},
   "outputs": [],
   "source": [
    "#-------- Hiearchical Inheritance--------------\n",
    "# Person -> Parent Class\n",
    "# Student(Person) -> Child1 \n",
    "# Employee(Person) -> Child2 "
   ]
  },
  {
   "cell_type": "code",
   "execution_count": 1,
   "metadata": {},
   "outputs": [],
   "source": [
    "#-------- Multi-level Inheritance --------------\n",
    "# Person -> Parent\n",
    "# Student(Person) -> Child\n",
    "# Ece(Student) -> Grand Child\n",
    "\n",
    "# Or \n",
    "#-------- Multi-level Inheritance--------------\n",
    "# Person -> Grand Parent\n",
    "# Student(Person) -> Parent\n",
    "# Ece(Student) -> Child"
   ]
  },
  {
   "cell_type": "code",
   "execution_count": null,
   "metadata": {},
   "outputs": [],
   "source": [
    "#------- Hybrid-Inheritance -------\n",
    "# Person -> Grand Parent\n",
    "# Student(Person) -> Parent1\n",
    "# Employee(Person) -> Parent2\n",
    "# Researcher(Student, Employee) -> Child"
   ]
  }
 ],
 "metadata": {
  "kernelspec": {
   "display_name": "Python 3",
   "language": "python",
   "name": "python3"
  },
  "language_info": {
   "codemirror_mode": {
    "name": "ipython",
    "version": 3
   },
   "file_extension": ".py",
   "mimetype": "text/x-python",
   "name": "python",
   "nbconvert_exporter": "python",
   "pygments_lexer": "ipython3",
   "version": "3.11.9"
  }
 },
 "nbformat": 4,
 "nbformat_minor": 2
}
