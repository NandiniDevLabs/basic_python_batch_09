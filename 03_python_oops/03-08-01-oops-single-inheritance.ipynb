{
 "cells": [
  {
   "cell_type": "code",
   "execution_count": 1,
   "metadata": {},
   "outputs": [],
   "source": [
    "#-------- Single Inheritance--------------\n",
    "# Person -> Parent Class\n",
    "# Student(Person) -> Child Class"
   ]
  },
  {
   "cell_type": "code",
   "execution_count": 3,
   "metadata": {},
   "outputs": [
    {
     "name": "stdout",
     "output_type": "stream",
     "text": [
      "Person class\n"
     ]
    }
   ],
   "source": [
    "class Person:\n",
    "    print(\"Person class\")\n",
    "    def __init__(self,name,dob,mobile,aadhar):\n",
    "        self.name = name\n",
    "        self.dob = dob\n",
    "        self.mobile = mobile\n",
    "        self.aadhar = aadhar\n",
    "        print(\"Person class attributes are created\")\n",
    "    \n",
    "    def update_mobile(self,mobile_num):\n",
    "        self.mobile = mobile_num\n",
    "\n",
    "    def read_attributes(self):\n",
    "        return {'name':self.name, 'dob':self.dob, 'mobile':self.mobile, 'aadhar':self.aadhar}\n",
    "# End of Person class"
   ]
  },
  {
   "cell_type": "code",
   "execution_count": 4,
   "metadata": {},
   "outputs": [
    {
     "name": "stdout",
     "output_type": "stream",
     "text": [
      "Person class attributes are created\n"
     ]
    }
   ],
   "source": [
    "p1 = Person(\"Lakshmi\",'20/10/2003','','346798684334')"
   ]
  },
  {
   "cell_type": "code",
   "execution_count": 5,
   "metadata": {},
   "outputs": [
    {
     "data": {
      "text/plain": [
       "{'name': 'Lakshmi',\n",
       " 'dob': '20/10/2003',\n",
       " 'mobile': '',\n",
       " 'aadhar': '346798684334'}"
      ]
     },
     "execution_count": 5,
     "metadata": {},
     "output_type": "execute_result"
    }
   ],
   "source": [
    "p1.read_attributes()"
   ]
  },
  {
   "cell_type": "code",
   "execution_count": 14,
   "metadata": {},
   "outputs": [
    {
     "name": "stdout",
     "output_type": "stream",
     "text": [
      "First line of Student class\n"
     ]
    }
   ],
   "source": [
    "# Person - is parent class\n",
    "# Student - is child class\n",
    "\n",
    "# Because __init__ constructor is not defined in Student class, __init__ constructor of Person class will be invoked during object creation\n",
    "class Student(Person):\n",
    "    print(\"First line of Student class\")\n",
    "    pass\n"
   ]
  },
  {
   "cell_type": "code",
   "execution_count": 10,
   "metadata": {},
   "outputs": [
    {
     "name": "stdout",
     "output_type": "stream",
     "text": [
      "Person class attributes are created\n"
     ]
    }
   ],
   "source": [
    "s1 = Student(\"Lakshmi\",10,'','346798684334')"
   ]
  },
  {
   "cell_type": "code",
   "execution_count": 12,
   "metadata": {},
   "outputs": [],
   "source": [
    "# s1.*?\n",
    "\n",
    "# s1.aadhar\n",
    "# s1.dob\n",
    "# s1.mobile\n",
    "# s1.name\n",
    "# s1.read_attributes\n",
    "# s1.update_mobile"
   ]
  },
  {
   "cell_type": "code",
   "execution_count": 13,
   "metadata": {},
   "outputs": [
    {
     "data": {
      "text/plain": [
       "{'name': 'Lakshmi', 'dob': 10, 'mobile': '', 'aadhar': '346798684334'}"
      ]
     },
     "execution_count": 13,
     "metadata": {},
     "output_type": "execute_result"
    }
   ],
   "source": [
    "s1.read_attributes()"
   ]
  },
  {
   "cell_type": "markdown",
   "metadata": {},
   "source": [
    "# Refer this link for inheritance \n",
    "https://www.scientecheasy.com/2023/09/types-of-inheritance-in-python.html/"
   ]
  },
  {
   "cell_type": "code",
   "execution_count": 27,
   "metadata": {},
   "outputs": [
    {
     "name": "stdout",
     "output_type": "stream",
     "text": [
      "This is Student class\n"
     ]
    }
   ],
   "source": [
    "# Person __init__ constructor will not be invoked\n",
    "class Student(Person):\n",
    "    print(\"This is Student class\") \n",
    "    def __init__(self,stdId,yoj,branch,section):\n",
    "        print(\"This is Student class __init__ constructor\") \n",
    "        self.stdId = stdId\n",
    "        self.yoj = yoj          # yoj : year_of_joining\n",
    "        self.branch = branch\n",
    "        self.section = section\n",
    "\n",
    "    def get_student_attributes(self):\n",
    "        return [self.stdId, self.yoj, self.branch, self.section]"
   ]
  },
  {
   "cell_type": "code",
   "execution_count": 28,
   "metadata": {},
   "outputs": [
    {
     "name": "stdout",
     "output_type": "stream",
     "text": [
      "This is Student class __init__ constructor\n"
     ]
    }
   ],
   "source": [
    "s1 = Student(\"417\",2024,\"ECE\",\"B\")"
   ]
  },
  {
   "cell_type": "code",
   "execution_count": 29,
   "metadata": {},
   "outputs": [
    {
     "data": {
      "text/plain": [
       "['417', 2024, 'ECE', 'B']"
      ]
     },
     "execution_count": 29,
     "metadata": {},
     "output_type": "execute_result"
    }
   ],
   "source": [
    "s1.get_student_attributes()"
   ]
  },
  {
   "cell_type": "code",
   "execution_count": 18,
   "metadata": {},
   "outputs": [
    {
     "name": "stdout",
     "output_type": "stream",
     "text": [
      "This is Student class\n"
     ]
    }
   ],
   "source": [
    "# During object creation, __init__ of Student class will be invoked, which will invoke __init__ of Person class\n",
    "class Student(Person):\n",
    "    print(\"This is Student class\") \n",
    "    def __init__(self,name,dob,mobile,aadhar,stdId,yoj,branch,section):\n",
    "        print(\"Inside Student class __init__constructor\") \n",
    "        super().__init__(name,dob,mobile,aadhar)\n",
    "        print(\"Creating student attributes\") \n",
    "        self.stdId = stdId\n",
    "        self.yoj = yoj\n",
    "        self.branch = branch\n",
    "        self.section = section\n",
    "\n",
    "    def get_student_attributes(self):\n",
    "        return [self.stdId, self.yoj, self.branch, self.section]"
   ]
  },
  {
   "cell_type": "code",
   "execution_count": 19,
   "metadata": {},
   "outputs": [
    {
     "name": "stdout",
     "output_type": "stream",
     "text": [
      "Inside Student class __init__constructor\n",
      "Person class attributes are created\n",
      "Creating student attributes\n"
     ]
    }
   ],
   "source": [
    "s2 = Student(\"Lakshmi\",'20/10/2003','','346798684334',\"417\",2024,\"ECE\",\"B\")"
   ]
  },
  {
   "cell_type": "code",
   "execution_count": 21,
   "metadata": {},
   "outputs": [],
   "source": [
    "# s2.*?\n",
    "\n",
    "# s2.aadhar\n",
    "# s2.dob\n",
    "# s2.mobile\n",
    "# s2.name\n",
    "# s2.branch\n",
    "# s2.section\n",
    "# s2.stdId\n",
    "# s2.yoj\n",
    "# s2.get_student_attributes\n",
    "# s2.read_attributes\n",
    "# s2.update_mobile"
   ]
  },
  {
   "cell_type": "code",
   "execution_count": 22,
   "metadata": {},
   "outputs": [
    {
     "data": {
      "text/plain": [
       "{'name': 'Lakshmi',\n",
       " 'dob': '20/10/2003',\n",
       " 'mobile': '',\n",
       " 'aadhar': '346798684334'}"
      ]
     },
     "execution_count": 22,
     "metadata": {},
     "output_type": "execute_result"
    }
   ],
   "source": [
    "s2.read_attributes()"
   ]
  },
  {
   "cell_type": "code",
   "execution_count": 23,
   "metadata": {},
   "outputs": [
    {
     "data": {
      "text/plain": [
       "['417', 2024, 'ECE', 'B']"
      ]
     },
     "execution_count": 23,
     "metadata": {},
     "output_type": "execute_result"
    }
   ],
   "source": [
    "s2.get_student_attributes()"
   ]
  },
  {
   "cell_type": "code",
   "execution_count": 26,
   "metadata": {},
   "outputs": [
    {
     "name": "stdout",
     "output_type": "stream",
     "text": [
      "346798684334\n",
      "ECE\n",
      "417\n"
     ]
    }
   ],
   "source": [
    "print(s2.aadhar)\n",
    "print(s2.branch)\n",
    "print(s2.stdId)"
   ]
  },
  {
   "cell_type": "code",
   "execution_count": null,
   "metadata": {},
   "outputs": [],
   "source": []
  }
 ],
 "metadata": {
  "kernelspec": {
   "display_name": "Python 3",
   "language": "python",
   "name": "python3"
  },
  "language_info": {
   "codemirror_mode": {
    "name": "ipython",
    "version": 3
   },
   "file_extension": ".py",
   "mimetype": "text/x-python",
   "name": "python",
   "nbconvert_exporter": "python",
   "pygments_lexer": "ipython3",
   "version": "3.12.8"
  }
 },
 "nbformat": 4,
 "nbformat_minor": 2
}
