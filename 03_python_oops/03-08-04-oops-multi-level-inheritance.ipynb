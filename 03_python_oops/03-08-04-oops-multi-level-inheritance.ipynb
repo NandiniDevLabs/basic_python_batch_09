{
 "cells": [
  {
   "cell_type": "code",
   "execution_count": 1,
   "metadata": {},
   "outputs": [],
   "source": [
    "#-------- Multi-level Inheritance --------------\n",
    "# Person -> Parent\n",
    "# Student(Person) -> Child\n",
    "# Ece(Student) -> Grand Child\n",
    "\n",
    "# Or \n",
    "#-------- Multi-level Inheritance--------------\n",
    "# Person -> Grand Parent\n",
    "# Student(Person) -> Parent\n",
    "# Ece(Student) -> Child"
   ]
  },
  {
   "cell_type": "code",
   "execution_count": 1,
   "metadata": {},
   "outputs": [
    {
     "name": "stdout",
     "output_type": "stream",
     "text": [
      "Person class\n"
     ]
    }
   ],
   "source": [
    "# Grand Parent Class\n",
    "class Person:\n",
    "    print(\"Person class\")\n",
    "    def __init__(self,name,age,mobile,aadhar):\n",
    "        print(\"This is Person initializer\")\n",
    "        self.name = name\n",
    "        self.age = age\n",
    "        self.mobile = mobile\n",
    "        self.aadhar = aadhar\n",
    "    \n",
    "    def set_mobile(self,mobile_num):\n",
    "        self.mobile = mobile_num\n",
    "\n",
    "    def get_person_attributes(self):\n",
    "        return [self.name, self.age, self.mobile, self.aadhar]\n",
    "#End of Person Class"
   ]
  },
  {
   "cell_type": "code",
   "execution_count": 2,
   "metadata": {},
   "outputs": [],
   "source": [
    "# Parent Class\n",
    "class Student(Person):\n",
    "    def __init__(self,name,age,mobile,aadhar,stdId,yoj,branch,section):\n",
    "        print(\"This is Student initializer\")\n",
    "        super().__init__(name,age,mobile,aadhar)\n",
    "        self.stdId = stdId\n",
    "        self.yoj = yoj\n",
    "        self.branch = branch\n",
    "        self.section = section\n",
    "\n",
    "    def get_student_attributes(self):\n",
    "        return [self.stdId, self.yoj, self.branch, self.section]\n",
    "#"
   ]
  },
  {
   "cell_type": "code",
   "execution_count": 12,
   "metadata": {},
   "outputs": [
    {
     "name": "stdout",
     "output_type": "stream",
     "text": [
      "This is Ece class\n"
     ]
    }
   ],
   "source": [
    "# Child Class\n",
    "class Ece(Student):\n",
    "    print(\"This is Ece class\")\n",
    "    def __init__(self,name,age,mobile,aadhar,stdId,yoj,branch,section,lab1,lab2):\n",
    "        print(\"Ece class initializer\")\n",
    "        super().__init__(name,age,mobile,aadhar,stdId,yoj,branch,section) ##\n",
    "        print(\"Creating ECE class attributes\")\n",
    "        self.lab1 = lab1\n",
    "        self.lab2 = lab2\n",
    "        print(\"End of Ece class initializer\")\n",
    "    #\n",
    "\n",
    "    def get_ece_properties(self):\n",
    "        return [self.lab1, self.lab2]\n",
    "\n",
    "    def get_all_properties(self):\n",
    "        return [self.name, self.age, self.mobile, self.aadhar, self.stdId, self.yoj, self.branch, self.section, self.lab1, self.lab2]"
   ]
  },
  {
   "cell_type": "code",
   "execution_count": 14,
   "metadata": {},
   "outputs": [
    {
     "name": "stdout",
     "output_type": "stream",
     "text": [
      "Ece class initializer\n",
      "This is Student initializer\n",
      "This is Person initializer\n",
      "Creating ECE class attributes\n",
      "End of Ece class initializer\n"
     ]
    }
   ],
   "source": [
    "# This is best practice when there are too many properties in the class\n",
    "e1 = Ece(\n",
    "    name=\"Ramesh\",\n",
    "    age=23,\n",
    "    mobile=\"9888777000\",\n",
    "    aadhar=\"NA\",\n",
    "    stdId=\"2024ECE1234\",\n",
    "    yoj=\"2024\",\n",
    "    branch=\"ECE\",\n",
    "    section=\"D\",\n",
    "    lab1=\"Signal And Systems\",\n",
    "    lab2=\"Digital Electronics\"\n",
    ")"
   ]
  },
  {
   "cell_type": "code",
   "execution_count": 15,
   "metadata": {},
   "outputs": [],
   "source": [
    "# e1.*?"
   ]
  },
  {
   "cell_type": "code",
   "execution_count": 16,
   "metadata": {},
   "outputs": [
    {
     "data": {
      "text/plain": [
       "['Ramesh',\n",
       " 23,\n",
       " '9888777000',\n",
       " 'NA',\n",
       " '2024ECE1234',\n",
       " '2024',\n",
       " 'ECE',\n",
       " 'D',\n",
       " 'Signal And Systems',\n",
       " 'Digital Electronics']"
      ]
     },
     "execution_count": 16,
     "metadata": {},
     "output_type": "execute_result"
    }
   ],
   "source": [
    "e1.get_all_properties()"
   ]
  },
  {
   "cell_type": "code",
   "execution_count": 17,
   "metadata": {},
   "outputs": [
    {
     "data": {
      "text/plain": [
       "['2024ECE1234', '2024', 'ECE', 'D']"
      ]
     },
     "execution_count": 17,
     "metadata": {},
     "output_type": "execute_result"
    }
   ],
   "source": [
    "e1.get_student_attributes()"
   ]
  },
  {
   "cell_type": "code",
   "execution_count": 18,
   "metadata": {},
   "outputs": [
    {
     "data": {
      "text/plain": [
       "['Ramesh', 23, '9888777000', 'NA']"
      ]
     },
     "execution_count": 18,
     "metadata": {},
     "output_type": "execute_result"
    }
   ],
   "source": [
    "e1.get_person_attributes()"
   ]
  },
  {
   "cell_type": "code",
   "execution_count": 19,
   "metadata": {},
   "outputs": [
    {
     "data": {
      "text/plain": [
       "['Signal And Systems', 'Digital Electronics']"
      ]
     },
     "execution_count": 19,
     "metadata": {},
     "output_type": "execute_result"
    }
   ],
   "source": [
    "e1.get_ece_properties()"
   ]
  },
  {
   "cell_type": "code",
   "execution_count": null,
   "metadata": {},
   "outputs": [],
   "source": []
  },
  {
   "cell_type": "code",
   "execution_count": 20,
   "metadata": {},
   "outputs": [
    {
     "name": "stdout",
     "output_type": "stream",
     "text": [
      "Ece class initializer\n",
      "This is Student initializer\n",
      "This is Person initializer\n",
      "Creating ECE class attributes\n",
      "End of Ece class initializer\n"
     ]
    }
   ],
   "source": [
    "e2 = Ece(\"Ram\",21,'9999999999','',\"452\",2023,\"ECE\",\"A\",\"Networks\",\"Digital Electronics\")"
   ]
  },
  {
   "cell_type": "code",
   "execution_count": 21,
   "metadata": {},
   "outputs": [
    {
     "data": {
      "text/plain": [
       "'Ram'"
      ]
     },
     "execution_count": 21,
     "metadata": {},
     "output_type": "execute_result"
    }
   ],
   "source": [
    "e2.name"
   ]
  },
  {
   "cell_type": "code",
   "execution_count": 22,
   "metadata": {},
   "outputs": [
    {
     "data": {
      "text/plain": [
       "'Networks'"
      ]
     },
     "execution_count": 22,
     "metadata": {},
     "output_type": "execute_result"
    }
   ],
   "source": [
    "e2.lab1"
   ]
  },
  {
   "cell_type": "code",
   "execution_count": 23,
   "metadata": {},
   "outputs": [
    {
     "data": {
      "text/plain": [
       "['Ram',\n",
       " 21,\n",
       " '9999999999',\n",
       " '',\n",
       " '452',\n",
       " 2023,\n",
       " 'ECE',\n",
       " 'A',\n",
       " 'Networks',\n",
       " 'Digital Electronics']"
      ]
     },
     "execution_count": 23,
     "metadata": {},
     "output_type": "execute_result"
    }
   ],
   "source": [
    "e2.get_all_properties()"
   ]
  },
  {
   "cell_type": "code",
   "execution_count": 24,
   "metadata": {},
   "outputs": [
    {
     "data": {
      "text/plain": [
       "['Networks', 'Digital Electronics']"
      ]
     },
     "execution_count": 24,
     "metadata": {},
     "output_type": "execute_result"
    }
   ],
   "source": [
    "e2.get_ece_properties()"
   ]
  },
  {
   "cell_type": "code",
   "execution_count": 25,
   "metadata": {},
   "outputs": [
    {
     "data": {
      "text/plain": [
       "['452', 2023, 'ECE', 'A']"
      ]
     },
     "execution_count": 25,
     "metadata": {},
     "output_type": "execute_result"
    }
   ],
   "source": [
    "e2.get_student_attributes()"
   ]
  },
  {
   "cell_type": "code",
   "execution_count": 26,
   "metadata": {},
   "outputs": [
    {
     "data": {
      "text/plain": [
       "['Ram', 21, '9999999999', '']"
      ]
     },
     "execution_count": 26,
     "metadata": {},
     "output_type": "execute_result"
    }
   ],
   "source": [
    "e2.get_person_attributes()"
   ]
  },
  {
   "cell_type": "markdown",
   "metadata": {},
   "source": [
    "### The below code will not inherit properties of Parent class because super() is commented"
   ]
  },
  {
   "cell_type": "code",
   "execution_count": 27,
   "metadata": {},
   "outputs": [
    {
     "name": "stdout",
     "output_type": "stream",
     "text": [
      "This is Ece class\n"
     ]
    }
   ],
   "source": [
    "class Ece(Student):\n",
    "    print(\"This is Ece class\")\n",
    "    def __init__(self,name,age,mobile,aadhar,stdId,yoj,branch,section,lab1,lab2):\n",
    "        print(\"Ece class initializer\")\n",
    "        # super().__init__(name,age,mobile,aadhar,stdId,yoj,branch,section) # Parent class attributes/properties will not be inherted\n",
    "        print(\"Creating Ece class attributes\")\n",
    "        self.lab1 = lab1\n",
    "        self.lab2 = lab2\n",
    "        print(\"End of Ece class initializer\")\n",
    "    #\n",
    "\n",
    "    def get_ece_properties(self):\n",
    "        return [self.lab1, self.lab2]\n",
    "\n",
    "    def get_all_properties(self):\n",
    "        return [self.name, self.age, self.mobile, self.aadhar, self.stdId, self.yoj, self.branch, self.section, self.lab1, self.lab2]"
   ]
  },
  {
   "cell_type": "code",
   "execution_count": 28,
   "metadata": {},
   "outputs": [
    {
     "name": "stdout",
     "output_type": "stream",
     "text": [
      "Ece class initializer\n",
      "Creating Ece class attributes\n",
      "End of Ece class initializer\n"
     ]
    }
   ],
   "source": [
    "e3 = Ece(\n",
    "    name=\"Ram\",\n",
    "    age=21,\n",
    "    mobile='9999999999',\n",
    "    aadhar='',\n",
    "    stdId=\"452\",\n",
    "    yoj=2023,\n",
    "    branch=\"ECE\",\n",
    "    section=\"A\",\n",
    "    lab1=\"Networks\",\n",
    "    lab2=\"Digital Electronics\"\n",
    ")"
   ]
  },
  {
   "cell_type": "code",
   "execution_count": 30,
   "metadata": {},
   "outputs": [
    {
     "name": "stdout",
     "output_type": "stream",
     "text": [
      "e3.__class__\n",
      "e3.__delattr__\n",
      "e3.__dict__\n",
      "e3.__dir__\n",
      "e3.__doc__\n",
      "e3.__eq__\n",
      "e3.__format__\n",
      "e3.__ge__\n",
      "e3.__getattribute__\n",
      "e3.__getstate__\n",
      "e3.__gt__\n",
      "e3.__hash__\n",
      "e3.__init__\n",
      "e3.__init_subclass__\n",
      "e3.__le__\n",
      "e3.__lt__\n",
      "e3.__module__\n",
      "e3.__ne__\n",
      "e3.__new__\n",
      "e3.__reduce__\n",
      "e3.__reduce_ex__\n",
      "e3.__repr__\n",
      "e3.__setattr__\n",
      "e3.__sizeof__\n",
      "e3.__str__\n",
      "e3.__subclasshook__\n",
      "e3.__weakref__\n",
      "e3.get_all_properties\n",
      "e3.get_ece_properties\n",
      "e3.get_person_attributes\n",
      "e3.get_student_attributes\n",
      "e3.lab1\n",
      "e3.lab2\n",
      "e3.set_mobile"
     ]
    }
   ],
   "source": [
    "e3.*?"
   ]
  },
  {
   "cell_type": "code",
   "execution_count": 32,
   "metadata": {},
   "outputs": [
    {
     "ename": "AttributeError",
     "evalue": "'Ece' object has no attribute 'name'",
     "output_type": "error",
     "traceback": [
      "\u001b[1;31m---------------------------------------------------------------------------\u001b[0m",
      "\u001b[1;31mAttributeError\u001b[0m                            Traceback (most recent call last)",
      "Cell \u001b[1;32mIn[32], line 1\u001b[0m\n\u001b[1;32m----> 1\u001b[0m \u001b[43me3\u001b[49m\u001b[38;5;241;43m.\u001b[39;49m\u001b[43mname\u001b[49m\n",
      "\u001b[1;31mAttributeError\u001b[0m: 'Ece' object has no attribute 'name'"
     ]
    }
   ],
   "source": [
    "e3.name"
   ]
  },
  {
   "cell_type": "code",
   "execution_count": 33,
   "metadata": {},
   "outputs": [
    {
     "data": {
      "text/plain": [
       "'Networks'"
      ]
     },
     "execution_count": 33,
     "metadata": {},
     "output_type": "execute_result"
    }
   ],
   "source": [
    "e3.lab1"
   ]
  },
  {
   "cell_type": "code",
   "execution_count": null,
   "metadata": {},
   "outputs": [],
   "source": []
  },
  {
   "cell_type": "markdown",
   "metadata": {},
   "source": [
    "## Can use other names for 'self', but it is NOT RECOMMENDED"
   ]
  },
  {
   "cell_type": "code",
   "execution_count": 1,
   "metadata": {},
   "outputs": [],
   "source": [
    "class Parent:\n",
    "    def __init__(self,name,age):   # This is recommended\n",
    "        print(\"Parent class initializer\")\n",
    "        self.name = name\n",
    "        self.age = age\n",
    "#"
   ]
  },
  {
   "cell_type": "code",
   "execution_count": 2,
   "metadata": {},
   "outputs": [
    {
     "name": "stdout",
     "output_type": "stream",
     "text": [
      "Parent class initializer\n"
     ]
    }
   ],
   "source": [
    "p1 = Parent(name=\"Joseph\", age=43)"
   ]
  },
  {
   "cell_type": "code",
   "execution_count": 3,
   "metadata": {},
   "outputs": [],
   "source": [
    "class Parent:\n",
    "    def __init__(dummy,name,age):\n",
    "        print(\"Parent class initializer\")\n",
    "        dummy.name = name\n",
    "        dummy.age = age\n",
    "#"
   ]
  },
  {
   "cell_type": "code",
   "execution_count": 6,
   "metadata": {},
   "outputs": [
    {
     "name": "stdout",
     "output_type": "stream",
     "text": [
      "Parent class initializer\n"
     ]
    }
   ],
   "source": [
    "p1 = Parent(\"Joseph\", 20)"
   ]
  },
  {
   "cell_type": "code",
   "execution_count": 7,
   "metadata": {},
   "outputs": [
    {
     "data": {
      "text/plain": [
       "'Joseph'"
      ]
     },
     "execution_count": 7,
     "metadata": {},
     "output_type": "execute_result"
    }
   ],
   "source": [
    "p1.name"
   ]
  },
  {
   "cell_type": "code",
   "execution_count": 8,
   "metadata": {},
   "outputs": [
    {
     "data": {
      "text/plain": [
       "20"
      ]
     },
     "execution_count": 8,
     "metadata": {},
     "output_type": "execute_result"
    }
   ],
   "source": [
    "p1.age"
   ]
  },
  {
   "cell_type": "code",
   "execution_count": null,
   "metadata": {},
   "outputs": [],
   "source": []
  }
 ],
 "metadata": {
  "kernelspec": {
   "display_name": "Python 3",
   "language": "python",
   "name": "python3"
  },
  "language_info": {
   "codemirror_mode": {
    "name": "ipython",
    "version": 3
   },
   "file_extension": ".py",
   "mimetype": "text/x-python",
   "name": "python",
   "nbconvert_exporter": "python",
   "pygments_lexer": "ipython3",
   "version": "3.12.8"
  }
 },
 "nbformat": 4,
 "nbformat_minor": 2
}
