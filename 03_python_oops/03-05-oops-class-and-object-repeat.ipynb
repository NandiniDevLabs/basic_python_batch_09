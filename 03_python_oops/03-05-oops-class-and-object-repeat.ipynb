{
 "cells": [
  {
   "cell_type": "markdown",
   "metadata": {},
   "source": [
    "# Python Object Oriented Programming\n",
    "- Class and Object"
   ]
  },
  {
   "cell_type": "code",
   "execution_count": 1,
   "metadata": {},
   "outputs": [],
   "source": [
    "def function_name():\n",
    "    # Some logic here\n",
    "    return None"
   ]
  },
  {
   "cell_type": "code",
   "execution_count": 5,
   "metadata": {},
   "outputs": [],
   "source": [
    "# Creating a class\n",
    "class Employee:\n",
    "    pass\n",
    "#"
   ]
  },
  {
   "cell_type": "code",
   "execution_count": 6,
   "metadata": {},
   "outputs": [
    {
     "data": {
      "text/plain": [
       "<__main__.Employee at 0x1de38eba030>"
      ]
     },
     "execution_count": 6,
     "metadata": {},
     "output_type": "execute_result"
    }
   ],
   "source": [
    "Employee() # This is creating Object"
   ]
  },
  {
   "cell_type": "markdown",
   "metadata": {},
   "source": [
    "#### When an object is created, `__init__` method will be executed"
   ]
  },
  {
   "cell_type": "code",
   "execution_count": 11,
   "metadata": {},
   "outputs": [],
   "source": [
    "emp1 = Employee()  # Object referencing"
   ]
  },
  {
   "cell_type": "code",
   "execution_count": 12,
   "metadata": {},
   "outputs": [],
   "source": [
    "# emp1.*?"
   ]
  },
  {
   "cell_type": "code",
   "execution_count": 21,
   "metadata": {},
   "outputs": [
    {
     "name": "stdout",
     "output_type": "stream",
     "text": [
      "This is starting line of Employee class\n",
      "This is ending line of Employee class\n"
     ]
    }
   ],
   "source": [
    "# Class without attributes and methods\n",
    "class Employee:\n",
    "    print(\"This is starting line of Employee class\")\n",
    "    \n",
    "    def __init__(self):\n",
    "        print(\"This is __init__ constructor of Employee\")\n",
    "        name = \"Vijaya\"   # Not a class attribute\n",
    "        doj = \"26/01/2025\" # Not a class attribute\n",
    "    #\n",
    "    print(\"This is ending line of Employee class\")\n",
    "# End of Employee class"
   ]
  },
  {
   "cell_type": "code",
   "execution_count": 19,
   "metadata": {},
   "outputs": [
    {
     "name": "stdout",
     "output_type": "stream",
     "text": [
      "This is __init__ constructor of Employee\n"
     ]
    }
   ],
   "source": [
    "e2 = Employee()"
   ]
  },
  {
   "cell_type": "code",
   "execution_count": 22,
   "metadata": {},
   "outputs": [],
   "source": [
    "# e2.*?"
   ]
  },
  {
   "cell_type": "code",
   "execution_count": 29,
   "metadata": {},
   "outputs": [
    {
     "name": "stdout",
     "output_type": "stream",
     "text": [
      "This is starting line of Employee class\n",
      "This is ending line of Employee class\n"
     ]
    }
   ],
   "source": [
    "# 2 attributes and 0 methods\n",
    "class Employee:\n",
    "    print(\"This is starting line of Employee class\")\n",
    "    \n",
    "    def __init__(self):\n",
    "        print(\"This is __init__ constructor of Employee\")\n",
    "        self.name = \"Vijaya\"   # A class attribute\n",
    "        self.doj = \"26/01/2025\" # A class attribute\n",
    "    #\n",
    "    print(\"This is ending line of Employee class\")\n",
    "# End of Employee class"
   ]
  },
  {
   "cell_type": "code",
   "execution_count": 30,
   "metadata": {},
   "outputs": [
    {
     "name": "stdout",
     "output_type": "stream",
     "text": [
      "This is __init__ constructor of Employee\n"
     ]
    }
   ],
   "source": [
    "e3 = Employee()"
   ]
  },
  {
   "cell_type": "code",
   "execution_count": 31,
   "metadata": {},
   "outputs": [],
   "source": [
    "# e3.*?\n",
    "\n",
    "# e3.doj\n",
    "# e3.name"
   ]
  },
  {
   "cell_type": "code",
   "execution_count": 33,
   "metadata": {},
   "outputs": [
    {
     "name": "stdout",
     "output_type": "stream",
     "text": [
      "Vijaya\n",
      "26/01/2025\n"
     ]
    }
   ],
   "source": [
    "print(e3.name)\n",
    "print(e3.doj)"
   ]
  },
  {
   "cell_type": "code",
   "execution_count": 34,
   "metadata": {},
   "outputs": [],
   "source": [
    "e3.name = \"Vijaya Nandini\"  # Changing the value of attribute"
   ]
  },
  {
   "cell_type": "code",
   "execution_count": 35,
   "metadata": {},
   "outputs": [
    {
     "name": "stdout",
     "output_type": "stream",
     "text": [
      "Vijaya Nandini\n",
      "26/01/2025\n"
     ]
    }
   ],
   "source": [
    "print(e3.name)\n",
    "print(e3.doj)"
   ]
  },
  {
   "cell_type": "code",
   "execution_count": 45,
   "metadata": {},
   "outputs": [
    {
     "name": "stdout",
     "output_type": "stream",
     "text": [
      "This is starting line of Employee class\n",
      "This is ending line of Employee class\n"
     ]
    }
   ],
   "source": [
    "# 2 attributes and 3 methods\n",
    "class Employee:\n",
    "    print(\"This is starting line of Employee class\")\n",
    "    \n",
    "    def __init__(self):\n",
    "        print(\"This is __init__ constructor of Employee\")\n",
    "        self.name = \"Vijaya\"   # A class attribute\n",
    "        self.doj = \"26/01/2025\" # A class attribute\n",
    "    # End of __init__ constructor\n",
    "\n",
    "    def get_name_attr(self):\n",
    "        return self.name.upper()\n",
    "    #\n",
    "\n",
    "    def get_doj_attr(self):\n",
    "        return self.doj\n",
    "    #\n",
    "\n",
    "    def get_attributes(self):\n",
    "        attr_dict = {'Employee Name':self.name, 'Employee DOJ':self.doj}\n",
    "        return attr_dict\n",
    "    #\n",
    "\n",
    "\n",
    "    print(\"This is ending line of Employee class\")\n",
    "# End of Employee class"
   ]
  },
  {
   "cell_type": "code",
   "execution_count": 46,
   "metadata": {},
   "outputs": [
    {
     "name": "stdout",
     "output_type": "stream",
     "text": [
      "This is __init__ constructor of Employee\n"
     ]
    }
   ],
   "source": [
    "e4 = Employee()"
   ]
  },
  {
   "cell_type": "code",
   "execution_count": 47,
   "metadata": {},
   "outputs": [],
   "source": [
    "# e4.*?\n",
    "\n",
    "# e4.doj\n",
    "# e4.get_attributes\n",
    "# e4.get_doj_attr\n",
    "# e4.get_name_attr\n",
    "# e4.name"
   ]
  },
  {
   "cell_type": "code",
   "execution_count": 48,
   "metadata": {},
   "outputs": [
    {
     "name": "stdout",
     "output_type": "stream",
     "text": [
      "Vijaya\n",
      "26/01/2025\n"
     ]
    }
   ],
   "source": [
    "print(e4.name)\n",
    "print(e4.doj)"
   ]
  },
  {
   "cell_type": "code",
   "execution_count": 49,
   "metadata": {},
   "outputs": [
    {
     "name": "stdout",
     "output_type": "stream",
     "text": [
      "This is before calling method\n",
      "VIJAYA\n",
      "This is after calling method\n"
     ]
    }
   ],
   "source": [
    "print(\"This is before calling method\")\n",
    "print(e4.get_name_attr())\n",
    "print(\"This is after calling method\")"
   ]
  },
  {
   "cell_type": "code",
   "execution_count": 51,
   "metadata": {},
   "outputs": [
    {
     "name": "stdout",
     "output_type": "stream",
     "text": [
      "26/01/2025\n",
      "This is after calling method\n"
     ]
    }
   ],
   "source": [
    "print(e4.get_doj_attr())\n",
    "print(\"This is after calling method\")"
   ]
  },
  {
   "cell_type": "code",
   "execution_count": 53,
   "metadata": {},
   "outputs": [
    {
     "data": {
      "text/plain": [
       "{'Employee Name': 'Vijaya', 'Employee DOJ': '26/01/2025'}"
      ]
     },
     "execution_count": 53,
     "metadata": {},
     "output_type": "execute_result"
    }
   ],
   "source": [
    "e4.get_attributes()"
   ]
  },
  {
   "cell_type": "code",
   "execution_count": 56,
   "metadata": {},
   "outputs": [
    {
     "name": "stdout",
     "output_type": "stream",
     "text": [
      "This is __init__ constructor of Employee\n",
      "{'Employee Name': 'Vijaya', 'Employee DOJ': '26/01/2025'}\n"
     ]
    }
   ],
   "source": [
    "e40 = Employee()\n",
    "print(e40.get_attributes())"
   ]
  },
  {
   "cell_type": "code",
   "execution_count": 58,
   "metadata": {},
   "outputs": [],
   "source": [
    "e40.name = 'Yasywini'\n",
    "e40.doj = '20/12/2023'"
   ]
  },
  {
   "cell_type": "code",
   "execution_count": 59,
   "metadata": {},
   "outputs": [
    {
     "name": "stdout",
     "output_type": "stream",
     "text": [
      "{'Employee Name': 'Yasywini', 'Employee DOJ': '20/12/2023'}\n"
     ]
    }
   ],
   "source": [
    "print(e40.get_attributes())"
   ]
  },
  {
   "cell_type": "code",
   "execution_count": 57,
   "metadata": {},
   "outputs": [
    {
     "name": "stdout",
     "output_type": "stream",
     "text": [
      "This is __init__ constructor of Employee\n",
      "{'Employee Name': 'Vijaya', 'Employee DOJ': '26/01/2025'}\n"
     ]
    }
   ],
   "source": [
    "e41 = Employee()\n",
    "print(e41.get_attributes())"
   ]
  },
  {
   "cell_type": "code",
   "execution_count": 60,
   "metadata": {},
   "outputs": [],
   "source": [
    "e41.name = 'Srinivas'\n",
    "e41.doj = '06/06/2023'"
   ]
  },
  {
   "cell_type": "code",
   "execution_count": 61,
   "metadata": {},
   "outputs": [
    {
     "name": "stdout",
     "output_type": "stream",
     "text": [
      "{'Employee Name': 'Srinivas', 'Employee DOJ': '06/06/2023'}\n"
     ]
    }
   ],
   "source": [
    "print(e41.get_attributes())"
   ]
  },
  {
   "cell_type": "code",
   "execution_count": 72,
   "metadata": {},
   "outputs": [
    {
     "name": "stdout",
     "output_type": "stream",
     "text": [
      "This is starting line of Employee class\n",
      "This is ending line of Employee class\n"
     ]
    }
   ],
   "source": [
    "# 2 attributes and 3 methods --> get attribute values while creating object\n",
    "class Employee:\n",
    "    print(\"This is starting line of Employee class\")\n",
    "    \n",
    "    def __init__(self,name,doj):\n",
    "        print(\"This is __init__ constructor of Employee\")\n",
    "        self.name = name   # A class attribute\n",
    "        self.doj = doj # A class attribute\n",
    "    # End of __init__ constructor\n",
    "\n",
    "    def get_name_attr(self):\n",
    "        return self.name.upper()\n",
    "    #\n",
    "\n",
    "    def get_doj_attr(self):\n",
    "        return self.doj\n",
    "    #\n",
    "\n",
    "    def get_attributes(self):\n",
    "        attr_dict = {'Employee Name':self.name, 'Employee DOJ':self.doj}\n",
    "        return attr_dict\n",
    "    #\n",
    "\n",
    "\n",
    "    print(\"This is ending line of Employee class\")\n",
    "# End of Employee class"
   ]
  },
  {
   "cell_type": "code",
   "execution_count": 73,
   "metadata": {},
   "outputs": [
    {
     "name": "stdout",
     "output_type": "stream",
     "text": [
      "This is __init__ constructor of Employee\n",
      "{'Employee Name': 'Gopi', 'Employee DOJ': '01/01/2025'}\n"
     ]
    }
   ],
   "source": [
    "e5 = Employee(name=\"Gopi\",doj=\"01/01/2025\")\n",
    "print(e5.get_attributes())"
   ]
  },
  {
   "cell_type": "code",
   "execution_count": 74,
   "metadata": {},
   "outputs": [
    {
     "name": "stdout",
     "output_type": "stream",
     "text": [
      "This is __init__ constructor of Employee\n",
      "{'Employee Name': 'Ajay', 'Employee DOJ': '25/01/2025'}\n"
     ]
    }
   ],
   "source": [
    "e51 = Employee(\"Ajay\",\"25/01/2025\")\n",
    "print(e51.get_attributes())"
   ]
  },
  {
   "cell_type": "markdown",
   "metadata": {},
   "source": [
    "# Class with attributes and methods"
   ]
  },
  {
   "cell_type": "code",
   "execution_count": 80,
   "metadata": {},
   "outputs": [
    {
     "name": "stdout",
     "output_type": "stream",
     "text": [
      "This is starting line of Animal class\n",
      "This is ending line of Animal class\n"
     ]
    }
   ],
   "source": [
    "# 4 attributes and 0 methods\n",
    "class Animal:\n",
    "    print(\"This is starting line of Animal class\")\n",
    "    \n",
    "    def __init__(self, name, age, color, weight):\n",
    "        print(\"This is __init__ method\")\n",
    "        self.name = name\n",
    "        self.age = age\n",
    "        self.color = color\n",
    "        self.weight = weight\n",
    "    # End of __init__ method\n",
    "    \n",
    "    print(\"This is ending line of Animal class\")\n",
    "# End of Animal class"
   ]
  },
  {
   "cell_type": "code",
   "execution_count": 81,
   "metadata": {},
   "outputs": [
    {
     "name": "stdout",
     "output_type": "stream",
     "text": [
      "This is __init__ method\n"
     ]
    }
   ],
   "source": [
    "dog = Animal(name=\"Charlie\", age=1, color=\"Black\", weight=10.5)"
   ]
  },
  {
   "cell_type": "code",
   "execution_count": 82,
   "metadata": {},
   "outputs": [
    {
     "name": "stdout",
     "output_type": "stream",
     "text": [
      "Charlie\n",
      "1\n",
      "Black\n",
      "10.5\n"
     ]
    }
   ],
   "source": [
    "print(dog.name)\n",
    "print(dog.age)\n",
    "print(dog.color)\n",
    "print(dog.weight)"
   ]
  },
  {
   "cell_type": "code",
   "execution_count": 83,
   "metadata": {},
   "outputs": [
    {
     "name": "stdout",
     "output_type": "stream",
     "text": [
      "This is starting line of Animal class\n",
      "This is ending line of Animal class\n"
     ]
    }
   ],
   "source": [
    "# 4 attributes and 1 method\n",
    "class Animal:\n",
    "    print(\"This is starting line of Animal class\")\n",
    "    \n",
    "    def __init__(self, name, age, color, weight):\n",
    "        print(\"This is __init__ method\")\n",
    "        self.name = name\n",
    "        self.age = age\n",
    "        self.color = color\n",
    "        self.weight = weight\n",
    "    # End of __init__ method\n",
    "\n",
    "    def update_age(self, new_age):\n",
    "        self.age = new_age\n",
    "    #\n",
    "\n",
    "    print(\"This is ending line of Animal class\")\n",
    "# End of Animal class"
   ]
  },
  {
   "cell_type": "code",
   "execution_count": 84,
   "metadata": {},
   "outputs": [
    {
     "name": "stdout",
     "output_type": "stream",
     "text": [
      "This is __init__ method\n"
     ]
    }
   ],
   "source": [
    "dog1 = Animal(\"Charlie\",1,\"Brown\",9.8)"
   ]
  },
  {
   "cell_type": "code",
   "execution_count": 85,
   "metadata": {},
   "outputs": [
    {
     "name": "stdout",
     "output_type": "stream",
     "text": [
      "Charlie\n",
      "1\n",
      "Brown\n",
      "9.8\n"
     ]
    }
   ],
   "source": [
    "# Printing object state\n",
    "print(dog1.name)\n",
    "print(dog1.age)\n",
    "print(dog1.color)\n",
    "print(dog1.weight)"
   ]
  },
  {
   "cell_type": "code",
   "execution_count": 86,
   "metadata": {},
   "outputs": [],
   "source": [
    "dog1.update_age(3)"
   ]
  },
  {
   "cell_type": "code",
   "execution_count": 87,
   "metadata": {},
   "outputs": [
    {
     "name": "stdout",
     "output_type": "stream",
     "text": [
      "Charlie\n",
      "3\n",
      "Brown\n",
      "9.8\n"
     ]
    }
   ],
   "source": [
    "print(dog1.name)\n",
    "print(dog1.age)\n",
    "print(dog1.color)\n",
    "print(dog1.weight)"
   ]
  },
  {
   "cell_type": "code",
   "execution_count": 88,
   "metadata": {},
   "outputs": [
    {
     "name": "stdout",
     "output_type": "stream",
     "text": [
      "This is starting line of Animal class\n",
      "This is ending line of Animal class\n"
     ]
    }
   ],
   "source": [
    "class Animal:\n",
    "    print(\"This is starting line of Animal class\")\n",
    "    \n",
    "    def __init__(self, name, age, color, weight):\n",
    "        print(\"This is __init__ method\")\n",
    "        self.name = name\n",
    "        self.age = age\n",
    "        self.color = color\n",
    "        self.weight = weight\n",
    "    # End of __init__ method\n",
    "\n",
    "    def update_age(self, new_age):\n",
    "        self.age = new_age\n",
    "    #\n",
    "\n",
    "    def update_name(self, new_name):\n",
    "        self.name = new_name\n",
    "    #\n",
    "\n",
    "    # Assignment\n",
    "    def update_color():\n",
    "        pass\n",
    "    #\n",
    "\n",
    "    # Assignment\n",
    "    def update_weight():\n",
    "        pass\n",
    "    #\n",
    "\n",
    "    print(\"This is ending line of Animal class\")\n",
    "# End of Animal class"
   ]
  },
  {
   "cell_type": "code",
   "execution_count": 89,
   "metadata": {},
   "outputs": [
    {
     "name": "stdout",
     "output_type": "stream",
     "text": [
      "This is __init__ method\n"
     ]
    }
   ],
   "source": [
    "dog2 = Animal(\"NA\",2,\"white\",21.3)"
   ]
  },
  {
   "cell_type": "code",
   "execution_count": 90,
   "metadata": {},
   "outputs": [
    {
     "name": "stdout",
     "output_type": "stream",
     "text": [
      "NA\n",
      "2\n",
      "white\n",
      "21.3\n"
     ]
    }
   ],
   "source": [
    "print(dog2.name)\n",
    "print(dog2.age)\n",
    "print(dog2.color)\n",
    "print(dog2.weight)"
   ]
  },
  {
   "cell_type": "code",
   "execution_count": null,
   "metadata": {},
   "outputs": [],
   "source": []
  }
 ],
 "metadata": {
  "kernelspec": {
   "display_name": "Python 3",
   "language": "python",
   "name": "python3"
  },
  "language_info": {
   "codemirror_mode": {
    "name": "ipython",
    "version": 3
   },
   "file_extension": ".py",
   "mimetype": "text/x-python",
   "name": "python",
   "nbconvert_exporter": "python",
   "pygments_lexer": "ipython3",
   "version": "3.12.8"
  }
 },
 "nbformat": 4,
 "nbformat_minor": 2
}
