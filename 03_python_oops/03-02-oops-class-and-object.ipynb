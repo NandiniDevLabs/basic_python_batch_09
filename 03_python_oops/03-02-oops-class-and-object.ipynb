{
 "cells": [
  {
   "cell_type": "code",
   "execution_count": 38,
   "metadata": {},
   "outputs": [],
   "source": [
    "# Rules for creating a function\n",
    "def function_name(parameter1, parameter2):\n",
    "    # define variables\n",
    "    # some logic\n",
    "    pass"
   ]
  },
  {
   "cell_type": "code",
   "execution_count": 1,
   "metadata": {},
   "outputs": [],
   "source": [
    "# Rules for creating a function\n",
    "class ClassName:\n",
    "    # define attributes\n",
    "    # define methods\n",
    "    pass"
   ]
  },
  {
   "cell_type": "code",
   "execution_count": 8,
   "metadata": {},
   "outputs": [],
   "source": [
    "# Rules for creating a class\n",
    "class Person:\n",
    "    # Attributes -- variables\n",
    "    # Methods -- Functions\n",
    "    pass"
   ]
  },
  {
   "cell_type": "code",
   "execution_count": 10,
   "metadata": {},
   "outputs": [
    {
     "data": {
      "text/plain": [
       "<__main__.Person at 0x1cccbfb1430>"
      ]
     },
     "execution_count": 10,
     "metadata": {},
     "output_type": "execute_result"
    }
   ],
   "source": [
    "Person()"
   ]
  },
  {
   "cell_type": "code",
   "execution_count": 9,
   "metadata": {},
   "outputs": [],
   "source": [
    "person_obj = Person()"
   ]
  },
  {
   "cell_type": "code",
   "execution_count": 11,
   "metadata": {},
   "outputs": [
    {
     "data": {
      "text/plain": [
       "__main__.Person"
      ]
     },
     "execution_count": 11,
     "metadata": {},
     "output_type": "execute_result"
    }
   ],
   "source": [
    "type(person_obj)"
   ]
  },
  {
   "cell_type": "code",
   "execution_count": 15,
   "metadata": {},
   "outputs": [],
   "source": [
    "class Person:\n",
    "    def __init__(self):\n",
    "        print(\"This is inside __init__ constructor\")\n",
    "        self.name = \"Vijaya\"\n",
    "        id = -99\n",
    "    #\n",
    "#"
   ]
  },
  {
   "cell_type": "code",
   "execution_count": 16,
   "metadata": {},
   "outputs": [
    {
     "name": "stdout",
     "output_type": "stream",
     "text": [
      "This is inside __init__ constructor\n"
     ]
    }
   ],
   "source": [
    "p1 = Person()"
   ]
  },
  {
   "cell_type": "code",
   "execution_count": 17,
   "metadata": {},
   "outputs": [
    {
     "name": "stdout",
     "output_type": "stream",
     "text": [
      "p1.__class__\n",
      "p1.__delattr__\n",
      "p1.__dict__\n",
      "p1.__dir__\n",
      "p1.__doc__\n",
      "p1.__eq__\n",
      "p1.__format__\n",
      "p1.__ge__\n",
      "p1.__getattribute__\n",
      "p1.__getstate__\n",
      "p1.__gt__\n",
      "p1.__hash__\n",
      "p1.__init__\n",
      "p1.__init_subclass__\n",
      "p1.__le__\n",
      "p1.__lt__\n",
      "p1.__module__\n",
      "p1.__ne__\n",
      "p1.__new__\n",
      "p1.__reduce__\n",
      "p1.__reduce_ex__\n",
      "p1.__repr__\n",
      "p1.__setattr__\n",
      "p1.__sizeof__\n",
      "p1.__str__\n",
      "p1.__subclasshook__\n",
      "p1.__weakref__\n",
      "p1.name"
     ]
    }
   ],
   "source": [
    "p1.*?"
   ]
  },
  {
   "cell_type": "code",
   "execution_count": 18,
   "metadata": {},
   "outputs": [
    {
     "data": {
      "text/plain": [
       "'Vijaya'"
      ]
     },
     "execution_count": 18,
     "metadata": {},
     "output_type": "execute_result"
    }
   ],
   "source": [
    "p1.name"
   ]
  },
  {
   "cell_type": "code",
   "execution_count": 19,
   "metadata": {},
   "outputs": [
    {
     "ename": "AttributeError",
     "evalue": "'Person' object has no attribute 'id'",
     "output_type": "error",
     "traceback": [
      "\u001b[1;31m---------------------------------------------------------------------------\u001b[0m",
      "\u001b[1;31mAttributeError\u001b[0m                            Traceback (most recent call last)",
      "Cell \u001b[1;32mIn[19], line 1\u001b[0m\n\u001b[1;32m----> 1\u001b[0m \u001b[43mp1\u001b[49m\u001b[38;5;241;43m.\u001b[39;49m\u001b[43mid\u001b[49m\n",
      "\u001b[1;31mAttributeError\u001b[0m: 'Person' object has no attribute 'id'"
     ]
    }
   ],
   "source": [
    "p1.id"
   ]
  },
  {
   "cell_type": "code",
   "execution_count": 11,
   "metadata": {},
   "outputs": [
    {
     "name": "stdout",
     "output_type": "stream",
     "text": [
      "This is inside __init__ constructor\n"
     ]
    }
   ],
   "source": [
    "p1 = Person()\n",
    "# __init__ constructor will execute when object is created\n",
    "# What is an object creation?\n",
    "# ClassName()\n",
    "\n",
    "# What is an object referencing?\n",
    "# Assigning a variable name to object created\n",
    "# obj_name = ClassName()"
   ]
  },
  {
   "cell_type": "code",
   "execution_count": 20,
   "metadata": {},
   "outputs": [],
   "source": [
    "class Person:\n",
    "    def __init__(self):\n",
    "        print(\"This is inside __init__ constructor\")\n",
    "        self.name = \"Vijaya\"\n",
    "        self.id = -99\n",
    "    #\n",
    "#"
   ]
  },
  {
   "cell_type": "code",
   "execution_count": 21,
   "metadata": {},
   "outputs": [
    {
     "name": "stdout",
     "output_type": "stream",
     "text": [
      "This is inside __init__ constructor\n"
     ]
    }
   ],
   "source": [
    "p2 = Person()"
   ]
  },
  {
   "cell_type": "code",
   "execution_count": 22,
   "metadata": {},
   "outputs": [
    {
     "name": "stdout",
     "output_type": "stream",
     "text": [
      "p2.__class__\n",
      "p2.__delattr__\n",
      "p2.__dict__\n",
      "p2.__dir__\n",
      "p2.__doc__\n",
      "p2.__eq__\n",
      "p2.__format__\n",
      "p2.__ge__\n",
      "p2.__getattribute__\n",
      "p2.__getstate__\n",
      "p2.__gt__\n",
      "p2.__hash__\n",
      "p2.__init__\n",
      "p2.__init_subclass__\n",
      "p2.__le__\n",
      "p2.__lt__\n",
      "p2.__module__\n",
      "p2.__ne__\n",
      "p2.__new__\n",
      "p2.__reduce__\n",
      "p2.__reduce_ex__\n",
      "p2.__repr__\n",
      "p2.__setattr__\n",
      "p2.__sizeof__\n",
      "p2.__str__\n",
      "p2.__subclasshook__\n",
      "p2.__weakref__\n",
      "p2.id\n",
      "p2.name"
     ]
    }
   ],
   "source": [
    "p2.*?"
   ]
  },
  {
   "cell_type": "code",
   "execution_count": 23,
   "metadata": {},
   "outputs": [
    {
     "data": {
      "text/plain": [
       "'Vijaya'"
      ]
     },
     "execution_count": 23,
     "metadata": {},
     "output_type": "execute_result"
    }
   ],
   "source": [
    "p2.name"
   ]
  },
  {
   "cell_type": "code",
   "execution_count": 24,
   "metadata": {},
   "outputs": [
    {
     "data": {
      "text/plain": [
       "-99"
      ]
     },
     "execution_count": 24,
     "metadata": {},
     "output_type": "execute_result"
    }
   ],
   "source": [
    "p2.id"
   ]
  },
  {
   "cell_type": "markdown",
   "metadata": {},
   "source": [
    "# Initi constructor"
   ]
  },
  {
   "cell_type": "code",
   "execution_count": 25,
   "metadata": {},
   "outputs": [],
   "source": [
    "class Person:\n",
    "    def __init__(self):\n",
    "        name = 'vijaya'\n",
    "        id = 123\n",
    "        print(f\"name:{name}, id:{id}\")\n",
    "    # End of __init__ constructor\n",
    "# End of Person Class"
   ]
  },
  {
   "cell_type": "code",
   "execution_count": 26,
   "metadata": {},
   "outputs": [
    {
     "name": "stdout",
     "output_type": "stream",
     "text": [
      "name:vijaya, id:123\n"
     ]
    }
   ],
   "source": [
    "p1 = Person()"
   ]
  },
  {
   "cell_type": "code",
   "execution_count": 30,
   "metadata": {},
   "outputs": [
    {
     "name": "stdout",
     "output_type": "stream",
     "text": [
      "p1.__class__\n",
      "p1.__delattr__\n",
      "p1.__dict__\n",
      "p1.__dir__\n",
      "p1.__doc__\n",
      "p1.__eq__\n",
      "p1.__format__\n",
      "p1.__ge__\n",
      "p1.__getattribute__\n",
      "p1.__getstate__\n",
      "p1.__gt__\n",
      "p1.__hash__\n",
      "p1.__init__\n",
      "p1.__init_subclass__\n",
      "p1.__le__\n",
      "p1.__lt__\n",
      "p1.__module__\n",
      "p1.__ne__\n",
      "p1.__new__\n",
      "p1.__reduce__\n",
      "p1.__reduce_ex__\n",
      "p1.__repr__\n",
      "p1.__setattr__\n",
      "p1.__sizeof__\n",
      "p1.__str__\n",
      "p1.__subclasshook__\n",
      "p1.__weakref__"
     ]
    }
   ],
   "source": [
    "p1.*?"
   ]
  },
  {
   "cell_type": "code",
   "execution_count": 34,
   "metadata": {},
   "outputs": [],
   "source": [
    "class Person:\n",
    "    def __init__(self):\n",
    "        self.name = 'vijaya'\n",
    "        self.id = 123\n",
    "        print(f\"name:{self.name}, id:{self.id}\")\n",
    "    # End of __init__ constructor\n",
    "# End of Person Class"
   ]
  },
  {
   "cell_type": "code",
   "execution_count": 32,
   "metadata": {},
   "outputs": [
    {
     "name": "stdout",
     "output_type": "stream",
     "text": [
      "name:vijaya, id:123\n"
     ]
    }
   ],
   "source": [
    "p2 = Person()"
   ]
  },
  {
   "cell_type": "code",
   "execution_count": 33,
   "metadata": {},
   "outputs": [
    {
     "name": "stdout",
     "output_type": "stream",
     "text": [
      "p2.__class__\n",
      "p2.__delattr__\n",
      "p2.__dict__\n",
      "p2.__dir__\n",
      "p2.__doc__\n",
      "p2.__eq__\n",
      "p2.__format__\n",
      "p2.__ge__\n",
      "p2.__getattribute__\n",
      "p2.__getstate__\n",
      "p2.__gt__\n",
      "p2.__hash__\n",
      "p2.__init__\n",
      "p2.__init_subclass__\n",
      "p2.__le__\n",
      "p2.__lt__\n",
      "p2.__module__\n",
      "p2.__ne__\n",
      "p2.__new__\n",
      "p2.__reduce__\n",
      "p2.__reduce_ex__\n",
      "p2.__repr__\n",
      "p2.__setattr__\n",
      "p2.__sizeof__\n",
      "p2.__str__\n",
      "p2.__subclasshook__\n",
      "p2.__weakref__\n",
      "p2.id\n",
      "p2.name"
     ]
    }
   ],
   "source": [
    "p2.*?"
   ]
  },
  {
   "cell_type": "code",
   "execution_count": 37,
   "metadata": {},
   "outputs": [
    {
     "name": "stdout",
     "output_type": "stream",
     "text": [
      "This is start of class Person\n",
      "This is end of class Person\n"
     ]
    }
   ],
   "source": [
    "class Person:\n",
    "    print(\"This is start of class Person\")\n",
    "    def __init__(self):\n",
    "        print(\"This is inside init method\")\n",
    "        first_name = \"Vijaya\"\n",
    "        last_name = \"M\"\n",
    "        age = 0\n",
    "        mobile = \"\"\n",
    "        print(f\"first_name: {first_name} last_name: {last_name}\")\n",
    "        print(f\"age: {age} mobile: {mobile}\")\n",
    "    # End of __init__ constructor\n",
    "    print(\"This is end of class Person\")\n",
    "# End of Person Class"
   ]
  },
  {
   "cell_type": "code",
   "execution_count": 38,
   "metadata": {},
   "outputs": [
    {
     "name": "stdout",
     "output_type": "stream",
     "text": [
      "This is inside init method\n",
      "first_name: Vijaya last_name: M\n",
      "age: 0 mobile: \n"
     ]
    }
   ],
   "source": [
    "p3 = Person()"
   ]
  },
  {
   "cell_type": "code",
   "execution_count": 39,
   "metadata": {},
   "outputs": [
    {
     "name": "stdout",
     "output_type": "stream",
     "text": [
      "p3.__class__\n",
      "p3.__delattr__\n",
      "p3.__dict__\n",
      "p3.__dir__\n",
      "p3.__doc__\n",
      "p3.__eq__\n",
      "p3.__format__\n",
      "p3.__ge__\n",
      "p3.__getattribute__\n",
      "p3.__getstate__\n",
      "p3.__gt__\n",
      "p3.__hash__\n",
      "p3.__init__\n",
      "p3.__init_subclass__\n",
      "p3.__le__\n",
      "p3.__lt__\n",
      "p3.__module__\n",
      "p3.__ne__\n",
      "p3.__new__\n",
      "p3.__reduce__\n",
      "p3.__reduce_ex__\n",
      "p3.__repr__\n",
      "p3.__setattr__\n",
      "p3.__sizeof__\n",
      "p3.__str__\n",
      "p3.__subclasshook__\n",
      "p3.__weakref__"
     ]
    }
   ],
   "source": [
    "p3.*?"
   ]
  },
  {
   "cell_type": "markdown",
   "metadata": {},
   "source": [
    "# Creating a class with attributes"
   ]
  },
  {
   "cell_type": "code",
   "execution_count": 40,
   "metadata": {},
   "outputs": [
    {
     "name": "stdout",
     "output_type": "stream",
     "text": [
      "This is start of class Person\n",
      "This is end of class Person\n"
     ]
    }
   ],
   "source": [
    "class Person:\n",
    "    print(\"This is start of class Person\")\n",
    "    def __init__(self):\n",
    "        print(\"This is inside init method\")\n",
    "        self.first_name = \"Vijaya\"\n",
    "        self.last_name = \"M\"\n",
    "        self.age = 0\n",
    "        self.mobile = \"\"\n",
    "        print(f\"first_name: {self.first_name} last_name: {self.last_name}\")\n",
    "        print(f\"age: {self.age} mobile: {self.mobile}\")\n",
    "    # End of __init__ constructor\n",
    "    print(\"This is end of class Person\")\n",
    "# End of Person Class"
   ]
  },
  {
   "cell_type": "code",
   "execution_count": 41,
   "metadata": {},
   "outputs": [
    {
     "name": "stdout",
     "output_type": "stream",
     "text": [
      "This is inside init method\n",
      "first_name: Vijaya last_name: M\n",
      "age: 0 mobile: \n"
     ]
    }
   ],
   "source": [
    "per1 = Person()"
   ]
  },
  {
   "cell_type": "code",
   "execution_count": 42,
   "metadata": {},
   "outputs": [
    {
     "name": "stdout",
     "output_type": "stream",
     "text": [
      "per1.__class__\n",
      "per1.__delattr__\n",
      "per1.__dict__\n",
      "per1.__dir__\n",
      "per1.__doc__\n",
      "per1.__eq__\n",
      "per1.__format__\n",
      "per1.__ge__\n",
      "per1.__getattribute__\n",
      "per1.__getstate__\n",
      "per1.__gt__\n",
      "per1.__hash__\n",
      "per1.__init__\n",
      "per1.__init_subclass__\n",
      "per1.__le__\n",
      "per1.__lt__\n",
      "per1.__module__\n",
      "per1.__ne__\n",
      "per1.__new__\n",
      "per1.__reduce__\n",
      "per1.__reduce_ex__\n",
      "per1.__repr__\n",
      "per1.__setattr__\n",
      "per1.__sizeof__\n",
      "per1.__str__\n",
      "per1.__subclasshook__\n",
      "per1.__weakref__\n",
      "per1.age\n",
      "per1.first_name\n",
      "per1.last_name\n",
      "per1.mobile"
     ]
    }
   ],
   "source": [
    "per1.*?"
   ]
  },
  {
   "cell_type": "code",
   "execution_count": 43,
   "metadata": {},
   "outputs": [
    {
     "data": {
      "text/plain": [
       "'Vijaya'"
      ]
     },
     "execution_count": 43,
     "metadata": {},
     "output_type": "execute_result"
    }
   ],
   "source": [
    "per1.first_name"
   ]
  },
  {
   "cell_type": "code",
   "execution_count": 47,
   "metadata": {},
   "outputs": [
    {
     "name": "stdout",
     "output_type": "stream",
     "text": [
      "This is start of class Customer\n",
      "This is end of class Customer\n"
     ]
    }
   ],
   "source": [
    "class Customer:\n",
    "    print(\"This is start of class Customer\")\n",
    "\n",
    "    # __init__ will execute only once, when a new object is created\n",
    "    def __init__(self, first_name, last_name, age, mobile):\n",
    "        print(\"This is inside init method\")\n",
    "        self.first_name = first_name\n",
    "        self.last_name = last_name\n",
    "        self.age = age\n",
    "        self.mobile = mobile\n",
    "        print(f\"first_name: {self.first_name}     last_name: {self.last_name}\")\n",
    "        print(f\"age: {self.age}     mobile: {self.mobile}\")\n",
    "    #\n",
    "\n",
    "    print(\"This is end of class Customer\")"
   ]
  },
  {
   "cell_type": "code",
   "execution_count": 46,
   "metadata": {},
   "outputs": [
    {
     "ename": "TypeError",
     "evalue": "Customer.__init__() missing 4 required positional arguments: 'first_name', 'last_name', 'age', and 'mobile'",
     "output_type": "error",
     "traceback": [
      "\u001b[1;31m---------------------------------------------------------------------------\u001b[0m",
      "\u001b[1;31mTypeError\u001b[0m                                 Traceback (most recent call last)",
      "Cell \u001b[1;32mIn[46], line 1\u001b[0m\n\u001b[1;32m----> 1\u001b[0m c1 \u001b[38;5;241m=\u001b[39m \u001b[43mCustomer\u001b[49m\u001b[43m(\u001b[49m\u001b[43m)\u001b[49m\n",
      "\u001b[1;31mTypeError\u001b[0m: Customer.__init__() missing 4 required positional arguments: 'first_name', 'last_name', 'age', and 'mobile'"
     ]
    }
   ],
   "source": [
    "c1 = Customer()"
   ]
  },
  {
   "cell_type": "code",
   "execution_count": 48,
   "metadata": {},
   "outputs": [
    {
     "name": "stdout",
     "output_type": "stream",
     "text": [
      "This is inside init method\n",
      "first_name: Sita     last_name: Lakshmi\n",
      "age: 25     mobile: 000000000\n"
     ]
    }
   ],
   "source": [
    "cust1 = Customer(first_name='Sita', last_name='Lakshmi', age=25, mobile=\"000000000\")"
   ]
  },
  {
   "cell_type": "code",
   "execution_count": 49,
   "metadata": {},
   "outputs": [
    {
     "name": "stdout",
     "output_type": "stream",
     "text": [
      "cust1.__class__\n",
      "cust1.__delattr__\n",
      "cust1.__dict__\n",
      "cust1.__dir__\n",
      "cust1.__doc__\n",
      "cust1.__eq__\n",
      "cust1.__format__\n",
      "cust1.__ge__\n",
      "cust1.__getattribute__\n",
      "cust1.__getstate__\n",
      "cust1.__gt__\n",
      "cust1.__hash__\n",
      "cust1.__init__\n",
      "cust1.__init_subclass__\n",
      "cust1.__le__\n",
      "cust1.__lt__\n",
      "cust1.__module__\n",
      "cust1.__ne__\n",
      "cust1.__new__\n",
      "cust1.__reduce__\n",
      "cust1.__reduce_ex__\n",
      "cust1.__repr__\n",
      "cust1.__setattr__\n",
      "cust1.__sizeof__\n",
      "cust1.__str__\n",
      "cust1.__subclasshook__\n",
      "cust1.__weakref__\n",
      "cust1.age\n",
      "cust1.first_name\n",
      "cust1.last_name\n",
      "cust1.mobile"
     ]
    }
   ],
   "source": [
    "cust1.*?\n",
    "# The below are the attributes of the class\n",
    "# cust1.age\n",
    "# cust1.first_name\n",
    "# cust1.last_name\n",
    "# cust1.mobile"
   ]
  },
  {
   "cell_type": "code",
   "execution_count": null,
   "metadata": {},
   "outputs": [],
   "source": [
    "print(cust1.age)\n",
    "print(cust1.first_name)\n",
    "print(cust1.last_name)\n",
    "print(cust1.mobile)"
   ]
  },
  {
   "cell_type": "code",
   "execution_count": null,
   "metadata": {},
   "outputs": [],
   "source": [
    "cust1.age"
   ]
  },
  {
   "cell_type": "code",
   "execution_count": 53,
   "metadata": {},
   "outputs": [
    {
     "name": "stdout",
     "output_type": "stream",
     "text": [
      "This is start of class Customer\n",
      "This is end of class Customer\n"
     ]
    }
   ],
   "source": [
    "class Customer:\n",
    "    print(\"This is start of class Customer\")\n",
    "\n",
    "    # __init__ will execute only once, when a new object is created\n",
    "    def __init__(self, first_name, last_name, age, mobile):\n",
    "        print(\"This is inside init method\")\n",
    "        self.fname = first_name\n",
    "        self.lname = last_name\n",
    "        self.cust_age = age\n",
    "        self.cust_mobile = mobile\n",
    "        # print(f\"first_name: {self.fname}     last_name: {self.lname}\")\n",
    "        # print(f\"age: {self.cust_age}     mobile: {self.cust_mobile}\")\n",
    "    #\n",
    "\n",
    "    print(\"This is end of class Customer\")"
   ]
  },
  {
   "cell_type": "code",
   "execution_count": 54,
   "metadata": {},
   "outputs": [
    {
     "name": "stdout",
     "output_type": "stream",
     "text": [
      "This is inside init method\n"
     ]
    }
   ],
   "source": [
    "cust2 = Customer(first_name='Ram',last_name='L',age=5,mobile=\"9876453210\")"
   ]
  },
  {
   "cell_type": "code",
   "execution_count": 56,
   "metadata": {},
   "outputs": [],
   "source": [
    "# cust2.*?\n",
    "\n",
    "# cust2.cust_age\n",
    "# cust2.cust_mobile\n",
    "# cust2.fname\n",
    "# cust2.lname"
   ]
  },
  {
   "cell_type": "code",
   "execution_count": null,
   "metadata": {},
   "outputs": [],
   "source": []
  },
  {
   "cell_type": "code",
   "execution_count": 57,
   "metadata": {},
   "outputs": [
    {
     "name": "stdout",
     "output_type": "stream",
     "text": [
      "This is start of class Employee\n",
      "This is end of class Employee\n"
     ]
    }
   ],
   "source": [
    "class Employee:\n",
    "    print(\"This is start of class Employee\")\n",
    "\n",
    "    # __init__ will execute only once, when a new object is created\n",
    "    def __init__(self, name, date_of_join, mobile):\n",
    "        print(\"This is inside init method\")\n",
    "\n",
    "        self.name = name\n",
    "        self.date_of_join = date_of_join\n",
    "        self.mobile = mobile\n",
    "        \n",
    "        print(f\"first_name: {self.name}\")\n",
    "        print(f\"date_of_join: {self.date_of_join}\")\n",
    "        print(f\"mobile: {self.mobile}\")\n",
    "    #\n",
    "\n",
    "    print(\"This is end of class Employee\")"
   ]
  },
  {
   "cell_type": "code",
   "execution_count": 58,
   "metadata": {},
   "outputs": [
    {
     "name": "stdout",
     "output_type": "stream",
     "text": [
      "This is inside init method\n",
      "first_name: Raghu\n",
      "date_of_join: 30/06/2024\n",
      "mobile: 9995551100\n"
     ]
    }
   ],
   "source": [
    "emp1 = Employee(name=\"Raghu\",date_of_join=\"30/06/2024\",mobile=\"9995551100\")"
   ]
  },
  {
   "cell_type": "code",
   "execution_count": 59,
   "metadata": {},
   "outputs": [
    {
     "data": {
      "text/plain": [
       "'Raghu'"
      ]
     },
     "execution_count": 59,
     "metadata": {},
     "output_type": "execute_result"
    }
   ],
   "source": [
    "emp1.name"
   ]
  },
  {
   "cell_type": "code",
   "execution_count": 60,
   "metadata": {},
   "outputs": [
    {
     "data": {
      "text/plain": [
       "'30/06/2024'"
      ]
     },
     "execution_count": 60,
     "metadata": {},
     "output_type": "execute_result"
    }
   ],
   "source": [
    "emp1.date_of_join"
   ]
  },
  {
   "cell_type": "code",
   "execution_count": 61,
   "metadata": {},
   "outputs": [
    {
     "data": {
      "text/plain": [
       "'9995551100'"
      ]
     },
     "execution_count": 61,
     "metadata": {},
     "output_type": "execute_result"
    }
   ],
   "source": [
    "emp1.mobile"
   ]
  },
  {
   "cell_type": "markdown",
   "metadata": {},
   "source": [
    "## Creating employee object"
   ]
  },
  {
   "cell_type": "code",
   "execution_count": 64,
   "metadata": {},
   "outputs": [
    {
     "name": "stdout",
     "output_type": "stream",
     "text": [
      "This is inside init method\n",
      "first_name: Sita\n",
      "date_of_join: Jan 25, 2025\n",
      "mobile: 1234567890\n"
     ]
    }
   ],
   "source": [
    "emp2 = Employee(name=\"Sita\", date_of_join=\"Jan 25, 2025\", mobile=\"1234567890\")"
   ]
  },
  {
   "cell_type": "code",
   "execution_count": 65,
   "metadata": {},
   "outputs": [
    {
     "data": {
      "text/plain": [
       "'Sita'"
      ]
     },
     "execution_count": 65,
     "metadata": {},
     "output_type": "execute_result"
    }
   ],
   "source": [
    "emp2.name"
   ]
  },
  {
   "cell_type": "code",
   "execution_count": 66,
   "metadata": {},
   "outputs": [
    {
     "data": {
      "text/plain": [
       "'Jan 25, 2025'"
      ]
     },
     "execution_count": 66,
     "metadata": {},
     "output_type": "execute_result"
    }
   ],
   "source": [
    "emp2.date_of_join"
   ]
  },
  {
   "cell_type": "code",
   "execution_count": 67,
   "metadata": {},
   "outputs": [
    {
     "data": {
      "text/plain": [
       "'1234567890'"
      ]
     },
     "execution_count": 67,
     "metadata": {},
     "output_type": "execute_result"
    }
   ],
   "source": [
    "emp2.mobile"
   ]
  },
  {
   "cell_type": "code",
   "execution_count": null,
   "metadata": {},
   "outputs": [],
   "source": []
  }
 ],
 "metadata": {
  "kernelspec": {
   "display_name": "base",
   "language": "python",
   "name": "python3"
  },
  "language_info": {
   "codemirror_mode": {
    "name": "ipython",
    "version": 3
   },
   "file_extension": ".py",
   "mimetype": "text/x-python",
   "name": "python",
   "nbconvert_exporter": "python",
   "pygments_lexer": "ipython3",
   "version": "3.12.4"
  }
 },
 "nbformat": 4,
 "nbformat_minor": 2
}
