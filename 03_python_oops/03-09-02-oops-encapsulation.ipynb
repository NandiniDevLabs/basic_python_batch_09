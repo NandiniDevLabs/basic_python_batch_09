{
 "cells": [
  {
   "cell_type": "markdown",
   "metadata": {},
   "source": [
    "# Discussed on 30-Jan-25"
   ]
  },
  {
   "cell_type": "markdown",
   "metadata": {},
   "source": [
    "### Access types of attributes\n",
    "1. public - acessible everywhere (within the class, sub-classes, object) \n",
    "2. protected - accessible within (same) class and sub-class. And not accessible in objects.\n",
    "3. private - only accessible within same class. And not accessible in sub-classes and objects."
   ]
  },
  {
   "cell_type": "code",
   "execution_count": 89,
   "metadata": {},
   "outputs": [
    {
     "name": "stdout",
     "output_type": "stream",
     "text": [
      "This is Person class i.e., Parent class\n"
     ]
    }
   ],
   "source": [
    "class Person:\n",
    "    print(\"This is Person class i.e., Parent class\")\n",
    "    def __init__(self,name,age,mobile):\n",
    "        print(\"Person class initializer\")\n",
    "        # self.name = name\n",
    "        self.setName(name)\n",
    "        self._age = age\n",
    "        self.__mobile = mobile\n",
    "    #\n",
    "\n",
    "    def setName(self,new_name):\n",
    "        print(\"Inside setName\")\n",
    "        if len(new_name) > 5:\n",
    "            self.__name = new_name[0:5]\n",
    "        else:\n",
    "            self.__name = new_name\n",
    "    #\n",
    "\n",
    "    def getName(self):\n",
    "        return self.__name\n",
    "\n",
    "\n",
    "    def getMobile(self):\n",
    "        return self.__mobile\n",
    "\n",
    "    def setMobile(self,new_mobile):  \n",
    "        print(\"inside setMobile\")\n",
    "        self.__mobile = new_mobile\n",
    "\n",
    "# End of the class"
   ]
  },
  {
   "cell_type": "code",
   "execution_count": 90,
   "metadata": {},
   "outputs": [
    {
     "name": "stdout",
     "output_type": "stream",
     "text": [
      "Person class initializer\n",
      "Inside setName\n"
     ]
    }
   ],
   "source": [
    "p1 = Person(name=\"Ayesha\", age=2, mobile='NA')"
   ]
  },
  {
   "cell_type": "code",
   "execution_count": 92,
   "metadata": {},
   "outputs": [
    {
     "data": {
      "text/plain": [
       "'Ayesh'"
      ]
     },
     "execution_count": 92,
     "metadata": {},
     "output_type": "execute_result"
    }
   ],
   "source": [
    "p1.getName()"
   ]
  },
  {
   "cell_type": "code",
   "execution_count": 93,
   "metadata": {},
   "outputs": [
    {
     "name": "stdout",
     "output_type": "stream",
     "text": [
      "Inside setName\n"
     ]
    }
   ],
   "source": [
    "p1.setName(\"Vijaya\")"
   ]
  },
  {
   "cell_type": "code",
   "execution_count": 94,
   "metadata": {},
   "outputs": [
    {
     "data": {
      "text/plain": [
       "'Vijay'"
      ]
     },
     "execution_count": 94,
     "metadata": {},
     "output_type": "execute_result"
    }
   ],
   "source": [
    "p1.getName()"
   ]
  },
  {
   "cell_type": "code",
   "execution_count": 95,
   "metadata": {},
   "outputs": [
    {
     "name": "stdout",
     "output_type": "stream",
     "text": [
      "Inside setName\n"
     ]
    }
   ],
   "source": [
    "p1.setName(\"Nandini\")"
   ]
  },
  {
   "cell_type": "code",
   "execution_count": 96,
   "metadata": {},
   "outputs": [
    {
     "data": {
      "text/plain": [
       "'Nandi'"
      ]
     },
     "execution_count": 96,
     "metadata": {},
     "output_type": "execute_result"
    }
   ],
   "source": [
    "p1.getName()"
   ]
  },
  {
   "cell_type": "code",
   "execution_count": 77,
   "metadata": {},
   "outputs": [
    {
     "data": {
      "text/plain": [
       "2"
      ]
     },
     "execution_count": 77,
     "metadata": {},
     "output_type": "execute_result"
    }
   ],
   "source": [
    "p1._age"
   ]
  },
  {
   "cell_type": "code",
   "execution_count": null,
   "metadata": {},
   "outputs": [],
   "source": []
  },
  {
   "cell_type": "code",
   "execution_count": 45,
   "metadata": {},
   "outputs": [
    {
     "name": "stdout",
     "output_type": "stream",
     "text": [
      "p1.__class__\n",
      "p1.__delattr__\n",
      "p1.__dict__\n",
      "p1.__dir__\n",
      "p1.__doc__\n",
      "p1.__eq__\n",
      "p1.__format__\n",
      "p1.__ge__\n",
      "p1.__getattribute__\n",
      "p1.__getstate__\n",
      "p1.__gt__\n",
      "p1.__hash__\n",
      "p1.__init__\n",
      "p1.__init_subclass__\n",
      "p1.__le__\n",
      "p1.__lt__\n",
      "p1.__module__\n",
      "p1.__ne__\n",
      "p1.__new__\n",
      "p1.__reduce__\n",
      "p1.__reduce_ex__\n",
      "p1.__repr__\n",
      "p1.__setattr__\n",
      "p1.__sizeof__\n",
      "p1.__str__\n",
      "p1.__subclasshook__\n",
      "p1.__weakref__\n",
      "p1.getMobile\n",
      "p1.name"
     ]
    }
   ],
   "source": [
    "# Object of parent class\n",
    "p1.*?"
   ]
  },
  {
   "cell_type": "code",
   "execution_count": 46,
   "metadata": {},
   "outputs": [
    {
     "data": {
      "text/plain": [
       "'Ayesha'"
      ]
     },
     "execution_count": 46,
     "metadata": {},
     "output_type": "execute_result"
    }
   ],
   "source": [
    "p1.name"
   ]
  },
  {
   "cell_type": "code",
   "execution_count": 47,
   "metadata": {},
   "outputs": [
    {
     "ename": "AttributeError",
     "evalue": "'Person' object has no attribute '__mobile'",
     "output_type": "error",
     "traceback": [
      "\u001b[1;31m---------------------------------------------------------------------------\u001b[0m",
      "\u001b[1;31mAttributeError\u001b[0m                            Traceback (most recent call last)",
      "Cell \u001b[1;32mIn[47], line 1\u001b[0m\n\u001b[1;32m----> 1\u001b[0m \u001b[43mp1\u001b[49m\u001b[38;5;241;43m.\u001b[39;49m\u001b[43m__mobile\u001b[49m  \u001b[38;5;66;03m# Private\u001b[39;00m\n",
      "\u001b[1;31mAttributeError\u001b[0m: 'Person' object has no attribute '__mobile'"
     ]
    }
   ],
   "source": [
    "p1.__mobile  # Private"
   ]
  },
  {
   "cell_type": "code",
   "execution_count": 48,
   "metadata": {},
   "outputs": [
    {
     "data": {
      "text/plain": [
       "'NA'"
      ]
     },
     "execution_count": 48,
     "metadata": {},
     "output_type": "execute_result"
    }
   ],
   "source": [
    "p1.getMobile()"
   ]
  },
  {
   "cell_type": "code",
   "execution_count": 49,
   "metadata": {},
   "outputs": [],
   "source": [
    "# p1.setMobile('001')"
   ]
  },
  {
   "cell_type": "code",
   "execution_count": 50,
   "metadata": {},
   "outputs": [
    {
     "data": {
      "text/plain": [
       "'NA'"
      ]
     },
     "execution_count": 50,
     "metadata": {},
     "output_type": "execute_result"
    }
   ],
   "source": [
    "p1.getMobile()"
   ]
  },
  {
   "cell_type": "code",
   "execution_count": 68,
   "metadata": {},
   "outputs": [
    {
     "name": "stdout",
     "output_type": "stream",
     "text": [
      "This is sub-class\n"
     ]
    }
   ],
   "source": [
    "class Student(Person):\n",
    "    print(\"This is sub-class\")\n",
    "    def __init__(self,name,age,mobile,stdId):\n",
    "        print(\"Student class initializer\")\n",
    "        super().__init__(name,age,mobile)\n",
    "        print(\"Creating Student class attibutes\")\n",
    "        self.stdId = stdId\n",
    "    #\n",
    "\n",
    "    "
   ]
  },
  {
   "cell_type": "code",
   "execution_count": 69,
   "metadata": {},
   "outputs": [
    {
     "name": "stdout",
     "output_type": "stream",
     "text": [
      "Student class initializer\n",
      "Person class initializer\n",
      "Creating Student class attibutes\n"
     ]
    }
   ],
   "source": [
    "s1 = Student(\n",
    "    name=\"Ayesha\",\n",
    "    age=20,\n",
    "    mobile=\"9876543210\",\n",
    "    stdId=\"2025A0417\"\n",
    ")"
   ]
  },
  {
   "cell_type": "code",
   "execution_count": 70,
   "metadata": {},
   "outputs": [
    {
     "name": "stdout",
     "output_type": "stream",
     "text": [
      "s1.__class__\n",
      "s1.__delattr__\n",
      "s1.__dict__\n",
      "s1.__dir__\n",
      "s1.__doc__\n",
      "s1.__eq__\n",
      "s1.__format__\n",
      "s1.__ge__\n",
      "s1.__getattribute__\n",
      "s1.__getstate__\n",
      "s1.__gt__\n",
      "s1.__hash__\n",
      "s1.__init__\n",
      "s1.__init_subclass__\n",
      "s1.__le__\n",
      "s1.__lt__\n",
      "s1.__module__\n",
      "s1.__ne__\n",
      "s1.__new__\n",
      "s1.__reduce__\n",
      "s1.__reduce_ex__\n",
      "s1.__repr__\n",
      "s1.__setattr__\n",
      "s1.__sizeof__\n",
      "s1.__str__\n",
      "s1.__subclasshook__\n",
      "s1.__weakref__\n",
      "s1.getMobile\n",
      "s1.name\n",
      "s1.setMobile\n",
      "s1.stdId"
     ]
    }
   ],
   "source": [
    "# Object of sub-class\n",
    "s1.*?"
   ]
  },
  {
   "cell_type": "code",
   "execution_count": 71,
   "metadata": {},
   "outputs": [
    {
     "data": {
      "text/plain": [
       "'Ayesha'"
      ]
     },
     "execution_count": 71,
     "metadata": {},
     "output_type": "execute_result"
    }
   ],
   "source": [
    "s1.name"
   ]
  },
  {
   "cell_type": "code",
   "execution_count": 72,
   "metadata": {},
   "outputs": [
    {
     "ename": "AttributeError",
     "evalue": "'Student' object has no attribute '__mobile'",
     "output_type": "error",
     "traceback": [
      "\u001b[1;31m---------------------------------------------------------------------------\u001b[0m",
      "\u001b[1;31mAttributeError\u001b[0m                            Traceback (most recent call last)",
      "Cell \u001b[1;32mIn[72], line 1\u001b[0m\n\u001b[1;32m----> 1\u001b[0m \u001b[43ms1\u001b[49m\u001b[38;5;241;43m.\u001b[39;49m\u001b[43m__mobile\u001b[49m\n",
      "\u001b[1;31mAttributeError\u001b[0m: 'Student' object has no attribute '__mobile'"
     ]
    }
   ],
   "source": [
    "s1.__mobile"
   ]
  },
  {
   "cell_type": "code",
   "execution_count": 73,
   "metadata": {},
   "outputs": [
    {
     "data": {
      "text/plain": [
       "'9876543210'"
      ]
     },
     "execution_count": 73,
     "metadata": {},
     "output_type": "execute_result"
    }
   ],
   "source": [
    "s1.getMobile()"
   ]
  },
  {
   "cell_type": "code",
   "execution_count": 74,
   "metadata": {},
   "outputs": [
    {
     "name": "stdout",
     "output_type": "stream",
     "text": [
      "inside setMobile\n"
     ]
    }
   ],
   "source": [
    "s1.setMobile('001')"
   ]
  },
  {
   "cell_type": "code",
   "execution_count": 75,
   "metadata": {},
   "outputs": [
    {
     "data": {
      "text/plain": [
       "'9876543210'"
      ]
     },
     "execution_count": 75,
     "metadata": {},
     "output_type": "execute_result"
    }
   ],
   "source": [
    "s1.getMobile()"
   ]
  },
  {
   "cell_type": "code",
   "execution_count": null,
   "metadata": {},
   "outputs": [],
   "source": []
  },
  {
   "cell_type": "markdown",
   "metadata": {},
   "source": [
    "# Revisiting Encapsulation "
   ]
  },
  {
   "cell_type": "code",
   "execution_count": 102,
   "metadata": {},
   "outputs": [
    {
     "name": "stdout",
     "output_type": "stream",
     "text": [
      "Person class i., Parent class\n"
     ]
    }
   ],
   "source": [
    "class Person:\n",
    "    print(\"Person class i., Parent class\")\n",
    "    def __init__(self,name,age,mobile=''):\n",
    "        print(\"Person class initializer\")\n",
    "        self.name = name  # Public Attribute - by default, accessible in same class, sub-class and object\n",
    "        self._age = age     # Protected Attribute - Accessible in same class and sub-classes\n",
    "        self.__mobile = mobile  # Private - Accessible only from same class\n",
    "\n",
    "    def getName(self):\n",
    "        return self.name\n",
    "    \n",
    "    def setName(self, new_name):\n",
    "        self.name = new_name\n",
    "\n",
    "    def getAge(self):\n",
    "        print(\"Inside getAge function\")\n",
    "        return self._age\n",
    "\n",
    "    def setAge(self, new_age):\n",
    "        print(\"Inside setAge function\")\n",
    "        self._age = new_age\n",
    "\n",
    "    def getMobile(self):\n",
    "        print(\"Inside getMobile function\")\n",
    "        return self.__mobile\n",
    "\n",
    "    def setMobile(self, new_mobile):\n",
    "        print(\"Inside setMobile function\")\n",
    "        self.__mobile = new_mobile\n",
    "    \n",
    "    def get_attributes(self):\n",
    "        return {\"name\": self.name, \"age\": self._age, \"mobile\": self.__mobile}"
   ]
  },
  {
   "cell_type": "code",
   "execution_count": 103,
   "metadata": {},
   "outputs": [
    {
     "name": "stdout",
     "output_type": "stream",
     "text": [
      "Person class initializer\n"
     ]
    }
   ],
   "source": [
    "p1 = Person(\n",
    "    name=\"Lakshmi\",\n",
    "    age=\"20\"\n",
    ")"
   ]
  },
  {
   "cell_type": "code",
   "execution_count": 104,
   "metadata": {},
   "outputs": [],
   "source": [
    "p1.name = \"Sita Lakshmi\""
   ]
  },
  {
   "cell_type": "code",
   "execution_count": 105,
   "metadata": {},
   "outputs": [
    {
     "data": {
      "text/plain": [
       "'Sita Lakshmi'"
      ]
     },
     "execution_count": 105,
     "metadata": {},
     "output_type": "execute_result"
    }
   ],
   "source": [
    "p1.name"
   ]
  },
  {
   "cell_type": "code",
   "execution_count": 106,
   "metadata": {},
   "outputs": [
    {
     "data": {
      "text/plain": [
       "'20'"
      ]
     },
     "execution_count": 106,
     "metadata": {},
     "output_type": "execute_result"
    }
   ],
   "source": [
    "# This is not encouraged\n",
    "p1._age   # Protected attribute should not be used via object reference. "
   ]
  },
  {
   "cell_type": "code",
   "execution_count": 107,
   "metadata": {},
   "outputs": [],
   "source": [
    "p1._age = 24  # This is not encouraged"
   ]
  },
  {
   "cell_type": "code",
   "execution_count": 108,
   "metadata": {},
   "outputs": [
    {
     "data": {
      "text/plain": [
       "24"
      ]
     },
     "execution_count": 108,
     "metadata": {},
     "output_type": "execute_result"
    }
   ],
   "source": [
    "p1._age  # This is not encouraged"
   ]
  },
  {
   "cell_type": "code",
   "execution_count": 110,
   "metadata": {},
   "outputs": [
    {
     "name": "stdout",
     "output_type": "stream",
     "text": [
      "Inside getAge function\n"
     ]
    },
    {
     "data": {
      "text/plain": [
       "24"
      ]
     },
     "execution_count": 110,
     "metadata": {},
     "output_type": "execute_result"
    }
   ],
   "source": [
    "p1.getAge()  # This is recommended"
   ]
  },
  {
   "cell_type": "code",
   "execution_count": 111,
   "metadata": {},
   "outputs": [
    {
     "name": "stdout",
     "output_type": "stream",
     "text": [
      "Inside setAge function\n"
     ]
    }
   ],
   "source": [
    "p1.setAge(20)  # This is recommended"
   ]
  },
  {
   "cell_type": "code",
   "execution_count": 112,
   "metadata": {},
   "outputs": [
    {
     "name": "stdout",
     "output_type": "stream",
     "text": [
      "Inside getAge function\n"
     ]
    },
    {
     "data": {
      "text/plain": [
       "20"
      ]
     },
     "execution_count": 112,
     "metadata": {},
     "output_type": "execute_result"
    }
   ],
   "source": [
    "p1.getAge()"
   ]
  },
  {
   "cell_type": "code",
   "execution_count": 113,
   "metadata": {},
   "outputs": [
    {
     "ename": "AttributeError",
     "evalue": "'Person' object has no attribute '__mobile'",
     "output_type": "error",
     "traceback": [
      "\u001b[1;31m---------------------------------------------------------------------------\u001b[0m",
      "\u001b[1;31mAttributeError\u001b[0m                            Traceback (most recent call last)",
      "Cell \u001b[1;32mIn[113], line 1\u001b[0m\n\u001b[1;32m----> 1\u001b[0m \u001b[43mp1\u001b[49m\u001b[38;5;241;43m.\u001b[39;49m\u001b[43m__mobile\u001b[49m\n",
      "\u001b[1;31mAttributeError\u001b[0m: 'Person' object has no attribute '__mobile'"
     ]
    }
   ],
   "source": [
    "p1.__mobile"
   ]
  },
  {
   "cell_type": "code",
   "execution_count": 114,
   "metadata": {},
   "outputs": [
    {
     "name": "stdout",
     "output_type": "stream",
     "text": [
      "Inside getMobile function\n"
     ]
    },
    {
     "data": {
      "text/plain": [
       "''"
      ]
     },
     "execution_count": 114,
     "metadata": {},
     "output_type": "execute_result"
    }
   ],
   "source": [
    "p1.getMobile()"
   ]
  },
  {
   "cell_type": "code",
   "execution_count": 115,
   "metadata": {},
   "outputs": [
    {
     "name": "stdout",
     "output_type": "stream",
     "text": [
      "Inside setMobile function\n"
     ]
    }
   ],
   "source": [
    "p1.setMobile('9998765432')"
   ]
  },
  {
   "cell_type": "code",
   "execution_count": 116,
   "metadata": {},
   "outputs": [
    {
     "name": "stdout",
     "output_type": "stream",
     "text": [
      "Inside getMobile function\n"
     ]
    },
    {
     "data": {
      "text/plain": [
       "'9998765432'"
      ]
     },
     "execution_count": 116,
     "metadata": {},
     "output_type": "execute_result"
    }
   ],
   "source": [
    "p1.getMobile()"
   ]
  },
  {
   "cell_type": "code",
   "execution_count": 126,
   "metadata": {},
   "outputs": [
    {
     "name": "stdout",
     "output_type": "stream",
     "text": [
      "this is sub-class\n"
     ]
    }
   ],
   "source": [
    "class Student(Person):\n",
    "    print(\"this is sub-class\")\n",
    "    def __init__(self,name,age,mobile,sid):\n",
    "        super().__init__(name,age,mobile)\n",
    "        self.sid = sid\n",
    "    #\n",
    "\n",
    "    def test_parent_class_attr_accessibility(self):\n",
    "        print(self.name) \n",
    "        print(self._age)\n",
    "        # print(self.__mobile)  # protected attribute is not accessible in sub-class\n",
    "        print(self.getMobile())\n",
    "        return [self.name, self._age, self.getMobile()]"
   ]
  },
  {
   "cell_type": "code",
   "execution_count": 127,
   "metadata": {},
   "outputs": [
    {
     "name": "stdout",
     "output_type": "stream",
     "text": [
      "Person class initializer\n"
     ]
    }
   ],
   "source": [
    "s1 = Student(\n",
    "    name = \"Lakshmi\",\n",
    "    age=18,\n",
    "    mobile=\"NA\",\n",
    "    sid=\"2025A0417\"\n",
    ")"
   ]
  },
  {
   "cell_type": "code",
   "execution_count": 128,
   "metadata": {},
   "outputs": [
    {
     "name": "stdout",
     "output_type": "stream",
     "text": [
      "Lakshmi\n",
      "18\n",
      "Inside getMobile function\n",
      "NA\n",
      "Inside getMobile function\n"
     ]
    },
    {
     "data": {
      "text/plain": [
       "['Lakshmi', 18, 'NA']"
      ]
     },
     "execution_count": 128,
     "metadata": {},
     "output_type": "execute_result"
    }
   ],
   "source": [
    "s1.test_parent_class_attr_accessibility()"
   ]
  },
  {
   "cell_type": "code",
   "execution_count": null,
   "metadata": {},
   "outputs": [],
   "source": []
  },
  {
   "cell_type": "markdown",
   "metadata": {},
   "source": [
    "#### Encapsulation using @property and @<attrb_name>.setter\n",
    "- @propery for getter\n",
    "- @<attrb_name>.setter for setter\n",
    "\n",
    "Note:\n",
    "1. Used for protected and private attributes.<br>\n",
    "2. Should not be used for public attributes."
   ]
  },
  {
   "cell_type": "code",
   "execution_count": 129,
   "metadata": {},
   "outputs": [
    {
     "name": "stdout",
     "output_type": "stream",
     "text": [
      "Person class\n"
     ]
    }
   ],
   "source": [
    "class Person:\n",
    "    print(\"Person class\")\n",
    "    def __init__(self,name,age,mobile=''):\n",
    "        print(\"Person class initializer\")\n",
    "        self.name = name  # Public - by default\n",
    "        self._age = age     # Protected - Accessible in same class and sub-classes\n",
    "        self.__mobile = mobile  # Private - Accessible only from same class\n",
    "\n",
    "    # @property\n",
    "    def getMobile(self):\n",
    "        print(\"Inside getMobile function\")\n",
    "        return self.__mobile\n",
    "\n",
    "    def setMobile(self, new_mobile):\n",
    "        print(\"Inside setMobile function\")\n",
    "        self.__mobile = new_mobile\n",
    "    \n",
    "    def get_attributes(self):\n",
    "        return {\"name\": self.name, \"age\": self._age, \"mobile\": self.__mobile}"
   ]
  },
  {
   "cell_type": "code",
   "execution_count": 130,
   "metadata": {},
   "outputs": [
    {
     "name": "stdout",
     "output_type": "stream",
     "text": [
      "Person class initializer\n"
     ]
    }
   ],
   "source": [
    "p1 = Person(\n",
    "    name=\"Lakshmi\",\n",
    "    age=20,\n",
    "    mobile=\"9876543210\"\n",
    ")"
   ]
  },
  {
   "cell_type": "code",
   "execution_count": 131,
   "metadata": {},
   "outputs": [
    {
     "name": "stdout",
     "output_type": "stream",
     "text": [
      "Inside getMobile function\n"
     ]
    },
    {
     "data": {
      "text/plain": [
       "'9876543210'"
      ]
     },
     "execution_count": 131,
     "metadata": {},
     "output_type": "execute_result"
    }
   ],
   "source": [
    "p1.getMobile()"
   ]
  },
  {
   "cell_type": "code",
   "execution_count": 132,
   "metadata": {},
   "outputs": [
    {
     "name": "stdout",
     "output_type": "stream",
     "text": [
      "Person class\n"
     ]
    }
   ],
   "source": [
    "class Person:\n",
    "    print(\"Person class\")\n",
    "    def __init__(self,name,age,mobile=''):\n",
    "        print(\"Person class initializer\")\n",
    "        self.name = name  # Public - by default\n",
    "        self._age = age     # Protected - Accessible in same class and sub-classes\n",
    "        self.__mobile = mobile  # Private - Accessible only from same class\n",
    "\n",
    "    @property\n",
    "    def getMobile(self):\n",
    "        print(\"Inside getMobile function\")\n",
    "        return self.__mobile\n",
    "\n",
    "    def setMobile(self, new_mobile):\n",
    "        print(\"Inside setMobile function\")\n",
    "        self.__mobile = new_mobile\n",
    "    \n",
    "    def get_attributes(self):\n",
    "        return {\"name\": self.name, \"age\": self._age, \"mobile\": self.__mobile}"
   ]
  },
  {
   "cell_type": "code",
   "execution_count": 133,
   "metadata": {},
   "outputs": [
    {
     "name": "stdout",
     "output_type": "stream",
     "text": [
      "Person class initializer\n"
     ]
    }
   ],
   "source": [
    "p1 = Person(\n",
    "    name=\"Lakshmi\",\n",
    "    age=20,\n",
    "    mobile=\"9876543210\"\n",
    ")"
   ]
  },
  {
   "cell_type": "code",
   "execution_count": 134,
   "metadata": {},
   "outputs": [
    {
     "name": "stdout",
     "output_type": "stream",
     "text": [
      "Inside getMobile function\n"
     ]
    },
    {
     "data": {
      "text/plain": [
       "'9876543210'"
      ]
     },
     "execution_count": 134,
     "metadata": {},
     "output_type": "execute_result"
    }
   ],
   "source": [
    "p1.getMobile"
   ]
  },
  {
   "cell_type": "code",
   "execution_count": 135,
   "metadata": {},
   "outputs": [
    {
     "name": "stdout",
     "output_type": "stream",
     "text": [
      "Person class\n"
     ]
    }
   ],
   "source": [
    "class Person:\n",
    "    print(\"Person class\")\n",
    "    def __init__(self,name,age,mobile=''):\n",
    "        print(\"Person class initializer\")\n",
    "        self.name = name  # Public - by default\n",
    "        self._age = age     # Protected - Accessible in same class and sub-classes\n",
    "        self.__mobile = mobile  # Private - Accessible only from same class\n",
    "\n",
    "    @property\n",
    "    def mobile(self):   # Getter\n",
    "        print(\"Inside getMobile function\")\n",
    "        return self.__mobile\n",
    "\n",
    "    def setMobile(self, new_mobile):\n",
    "        print(\"Inside setMobile function\")\n",
    "        self.__mobile = new_mobile\n",
    "    \n",
    "    def get_attributes(self):\n",
    "        return {\"name\": self.name, \"age\": self._age, \"mobile\": self.__mobile}"
   ]
  },
  {
   "cell_type": "code",
   "execution_count": 136,
   "metadata": {},
   "outputs": [
    {
     "name": "stdout",
     "output_type": "stream",
     "text": [
      "Person class initializer\n"
     ]
    }
   ],
   "source": [
    "p1 = Person(\n",
    "    name=\"Lakshmi\",\n",
    "    age=20,\n",
    "    mobile=\"9876543210\"\n",
    ")"
   ]
  },
  {
   "cell_type": "code",
   "execution_count": 137,
   "metadata": {},
   "outputs": [
    {
     "name": "stdout",
     "output_type": "stream",
     "text": [
      "Inside getMobile function\n"
     ]
    },
    {
     "data": {
      "text/plain": [
       "'9876543210'"
      ]
     },
     "execution_count": 137,
     "metadata": {},
     "output_type": "execute_result"
    }
   ],
   "source": [
    "p1.mobile"
   ]
  },
  {
   "cell_type": "code",
   "execution_count": 139,
   "metadata": {},
   "outputs": [
    {
     "name": "stdout",
     "output_type": "stream",
     "text": [
      "Inside setMobile function\n"
     ]
    }
   ],
   "source": [
    "p1.setMobile('001')"
   ]
  },
  {
   "cell_type": "code",
   "execution_count": 140,
   "metadata": {},
   "outputs": [
    {
     "name": "stdout",
     "output_type": "stream",
     "text": [
      "Inside getMobile function\n"
     ]
    },
    {
     "data": {
      "text/plain": [
       "'001'"
      ]
     },
     "execution_count": 140,
     "metadata": {},
     "output_type": "execute_result"
    }
   ],
   "source": [
    "p1.mobile"
   ]
  },
  {
   "cell_type": "code",
   "execution_count": 145,
   "metadata": {},
   "outputs": [
    {
     "name": "stdout",
     "output_type": "stream",
     "text": [
      "Person class\n"
     ]
    }
   ],
   "source": [
    "class Person:\n",
    "    print(\"Person class\")\n",
    "    def __init__(self,name,age,mobile=''):\n",
    "        print(\"Person class initializer\")\n",
    "        self.name = name  # Public - by default\n",
    "        self._age = age     # Protected - Accessible in same class and sub-classes\n",
    "        self.__mobile = mobile  # Private - Accessible only from same class\n",
    "\n",
    "    @property\n",
    "    def mobile(self):\n",
    "        print(\"Inside getter function\")\n",
    "        return self.__mobile\n",
    "\n",
    "    @mobile.setter\n",
    "    def setMobile(self, new_mobile):\n",
    "        print(\"Inside setMobile function\")\n",
    "        self.__mobile = new_mobile\n",
    "    \n",
    "    def get_attributes(self):\n",
    "        return {\"name\": self.name, \"age\": self._age, \"mobile\": self.__mobile}"
   ]
  },
  {
   "cell_type": "code",
   "execution_count": 146,
   "metadata": {},
   "outputs": [
    {
     "name": "stdout",
     "output_type": "stream",
     "text": [
      "Person class initializer\n"
     ]
    }
   ],
   "source": [
    "p1 = Person(\n",
    "    name=\"Lakshmi\",\n",
    "    age=20,\n",
    "    mobile=\"9876543210\"\n",
    ")"
   ]
  },
  {
   "cell_type": "code",
   "execution_count": 147,
   "metadata": {},
   "outputs": [
    {
     "name": "stdout",
     "output_type": "stream",
     "text": [
      "Inside getter function\n"
     ]
    },
    {
     "data": {
      "text/plain": [
       "'9876543210'"
      ]
     },
     "execution_count": 147,
     "metadata": {},
     "output_type": "execute_result"
    }
   ],
   "source": [
    "p1.mobile"
   ]
  },
  {
   "cell_type": "code",
   "execution_count": 148,
   "metadata": {},
   "outputs": [
    {
     "name": "stdout",
     "output_type": "stream",
     "text": [
      "Inside setMobile function\n"
     ]
    }
   ],
   "source": [
    "# p1.setMobile(\"001\")\n",
    "\n",
    "p1.setMobile = \"001\""
   ]
  },
  {
   "cell_type": "code",
   "execution_count": 149,
   "metadata": {},
   "outputs": [
    {
     "name": "stdout",
     "output_type": "stream",
     "text": [
      "Inside getter function\n"
     ]
    },
    {
     "data": {
      "text/plain": [
       "'001'"
      ]
     },
     "execution_count": 149,
     "metadata": {},
     "output_type": "execute_result"
    }
   ],
   "source": [
    "p1.mobile"
   ]
  },
  {
   "cell_type": "code",
   "execution_count": 150,
   "metadata": {},
   "outputs": [
    {
     "name": "stdout",
     "output_type": "stream",
     "text": [
      "Person class\n"
     ]
    }
   ],
   "source": [
    "class Person:\n",
    "    print(\"Person class\")\n",
    "    def __init__(self,name,age,mobile=''):\n",
    "        print(\"Person class initializer\")\n",
    "        self.name = name  # Public - by default\n",
    "        self._age = age     # Protected - Accessible in same class and sub-classes\n",
    "        self.__mobile = mobile  # Private - Accessible only from same class\n",
    "\n",
    "    @property\n",
    "    def mobile(self):\n",
    "        print(\"Inside getter function\")\n",
    "        return self.__mobile\n",
    "\n",
    "    @mobile.setter\n",
    "    def mobile(self, new_mobile):\n",
    "        print(\"Inside setMobile function\")\n",
    "        self.__mobile = new_mobile\n",
    "    \n",
    "    def get_attributes(self):\n",
    "        return {\"name\": self.name, \"age\": self._age, \"mobile\": self.__mobile}"
   ]
  },
  {
   "cell_type": "code",
   "execution_count": 151,
   "metadata": {},
   "outputs": [
    {
     "name": "stdout",
     "output_type": "stream",
     "text": [
      "Person class initializer\n"
     ]
    }
   ],
   "source": [
    "p1 = Person(\n",
    "    name=\"Lakshmi\",\n",
    "    age=20,\n",
    "    mobile=\"9876543210\"\n",
    ")"
   ]
  },
  {
   "cell_type": "code",
   "execution_count": 152,
   "metadata": {},
   "outputs": [
    {
     "name": "stdout",
     "output_type": "stream",
     "text": [
      "Inside getter function\n"
     ]
    },
    {
     "data": {
      "text/plain": [
       "'9876543210'"
      ]
     },
     "execution_count": 152,
     "metadata": {},
     "output_type": "execute_result"
    }
   ],
   "source": [
    "p1.mobile"
   ]
  },
  {
   "cell_type": "code",
   "execution_count": 153,
   "metadata": {},
   "outputs": [
    {
     "name": "stdout",
     "output_type": "stream",
     "text": [
      "Inside setMobile function\n"
     ]
    }
   ],
   "source": [
    "p1.mobile = \"001\""
   ]
  },
  {
   "cell_type": "code",
   "execution_count": 154,
   "metadata": {},
   "outputs": [
    {
     "name": "stdout",
     "output_type": "stream",
     "text": [
      "Inside getter function\n"
     ]
    },
    {
     "data": {
      "text/plain": [
       "'001'"
      ]
     },
     "execution_count": 154,
     "metadata": {},
     "output_type": "execute_result"
    }
   ],
   "source": [
    "p1.mobile"
   ]
  },
  {
   "cell_type": "code",
   "execution_count": 166,
   "metadata": {},
   "outputs": [
    {
     "name": "stdout",
     "output_type": "stream",
     "text": [
      "Person class i., Parent class\n"
     ]
    }
   ],
   "source": [
    "class Person:\n",
    "    print(\"Person class i., Parent class\")\n",
    "    def __init__(self,name,age,mobile=''):\n",
    "        print(\"Person class initializer\")\n",
    "        self.name = name  # Public Attribute - by default, accessible in same class, sub-class and object\n",
    "        self._age = age     # Protected Attribute - Accessible in same class and sub-classes\n",
    "        self.__mobile = mobile  # Private - Accessible only from same class\n",
    "\n",
    "    # This must be verified\n",
    "    # @property\n",
    "    def getName(self):\n",
    "        print(\"Getter for name attribute\")\n",
    "        return self.name\n",
    "    \n",
    "    # @name.setter\n",
    "    def setName(self, new_name):\n",
    "        print(\"Setter for name attribute\")\n",
    "        self.name = new_name\n",
    "\n",
    "    @property\n",
    "    def age(self):\n",
    "        print(\"getter for age attribute\")\n",
    "        return self._age\n",
    "\n",
    "    @age.setter\n",
    "    def age(self, new_age):\n",
    "        print(\"setter for age attribute\")\n",
    "        self._age = new_age\n",
    "\n",
    "    @property\n",
    "    def mobile(self):\n",
    "        print(\"getter for mobile attribute\")\n",
    "        return self.__mobile\n",
    "\n",
    "    @mobile.setter\n",
    "    def mobile(self, new_mobile):\n",
    "        print(\"setter for mobile attribute\")\n",
    "        self.__mobile = new_mobile\n",
    "    \n",
    "    def get_attributes(self):\n",
    "        return {\"name\": self.name, \"age\": self._age, \"mobile\": self.__mobile}"
   ]
  },
  {
   "cell_type": "code",
   "execution_count": 165,
   "metadata": {},
   "outputs": [
    {
     "name": "stdout",
     "output_type": "stream",
     "text": [
      "Person class initializer\n"
     ]
    }
   ],
   "source": [
    "p1 = Person(\n",
    "    name=\"Joseph\",\n",
    "    age=\"43\",\n",
    "    mobile=\"8978567700\"\n",
    ")"
   ]
  },
  {
   "cell_type": "code",
   "execution_count": 167,
   "metadata": {},
   "outputs": [],
   "source": [
    "p1.name = \"Joseph M\""
   ]
  },
  {
   "cell_type": "code",
   "execution_count": 168,
   "metadata": {},
   "outputs": [
    {
     "data": {
      "text/plain": [
       "'Joseph M'"
      ]
     },
     "execution_count": 168,
     "metadata": {},
     "output_type": "execute_result"
    }
   ],
   "source": [
    "p1.name"
   ]
  },
  {
   "cell_type": "code",
   "execution_count": 169,
   "metadata": {},
   "outputs": [
    {
     "name": "stdout",
     "output_type": "stream",
     "text": [
      "getter for mobile attribute\n"
     ]
    },
    {
     "data": {
      "text/plain": [
       "'8978567700'"
      ]
     },
     "execution_count": 169,
     "metadata": {},
     "output_type": "execute_result"
    }
   ],
   "source": [
    "p1.mobile"
   ]
  },
  {
   "cell_type": "code",
   "execution_count": 170,
   "metadata": {},
   "outputs": [
    {
     "name": "stdout",
     "output_type": "stream",
     "text": [
      "setter for mobile attribute\n"
     ]
    }
   ],
   "source": [
    "p1.mobile = \"001\""
   ]
  },
  {
   "cell_type": "code",
   "execution_count": 171,
   "metadata": {},
   "outputs": [
    {
     "name": "stdout",
     "output_type": "stream",
     "text": [
      "getter for age attribute\n"
     ]
    },
    {
     "data": {
      "text/plain": [
       "'43'"
      ]
     },
     "execution_count": 171,
     "metadata": {},
     "output_type": "execute_result"
    }
   ],
   "source": [
    "p1.age"
   ]
  },
  {
   "cell_type": "code",
   "execution_count": 172,
   "metadata": {},
   "outputs": [
    {
     "name": "stdout",
     "output_type": "stream",
     "text": [
      "setter for age attribute\n"
     ]
    }
   ],
   "source": [
    "p1.age = 45"
   ]
  },
  {
   "cell_type": "code",
   "execution_count": 174,
   "metadata": {},
   "outputs": [
    {
     "data": {
      "text/plain": [
       "{'name': 'Joseph M', 'age': 45, 'mobile': '001'}"
      ]
     },
     "execution_count": 174,
     "metadata": {},
     "output_type": "execute_result"
    }
   ],
   "source": [
    "p1.get_attributes()"
   ]
  },
  {
   "cell_type": "code",
   "execution_count": null,
   "metadata": {},
   "outputs": [],
   "source": []
  }
 ],
 "metadata": {
  "kernelspec": {
   "display_name": "Python 3",
   "language": "python",
   "name": "python3"
  },
  "language_info": {
   "codemirror_mode": {
    "name": "ipython",
    "version": 3
   },
   "file_extension": ".py",
   "mimetype": "text/x-python",
   "name": "python",
   "nbconvert_exporter": "python",
   "pygments_lexer": "ipython3",
   "version": "3.12.8"
  }
 },
 "nbformat": 4,
 "nbformat_minor": 2
}
