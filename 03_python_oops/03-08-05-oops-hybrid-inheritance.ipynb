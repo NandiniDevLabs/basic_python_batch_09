{
 "cells": [
  {
   "cell_type": "code",
   "execution_count": 1,
   "metadata": {},
   "outputs": [],
   "source": [
    "#------- Hybrid-Inheritance -------\n",
    "# Person -> Grand Parent\n",
    "# Student(Person) -> Parent1\n",
    "# Employee(Person) -> Parent2\n",
    "# Researcher(Student, Employee) -> Child"
   ]
  },
  {
   "cell_type": "code",
   "execution_count": 12,
   "metadata": {},
   "outputs": [
    {
     "name": "stdout",
     "output_type": "stream",
     "text": [
      "Person class\n"
     ]
    }
   ],
   "source": [
    "#Grand Parent\n",
    "class Person:\n",
    "    print(\"Person class\")\n",
    "    def __init__(self,name,age,mobile,aadhar):\n",
    "        print(\"This is Person initializer\")\n",
    "        self.name = name\n",
    "        self.age = age\n",
    "        self.mobile = mobile\n",
    "        self.aadhar = aadhar\n",
    "    \n",
    "    def set_mobile(self,mobile_num):\n",
    "        self.mobile = mobile_num\n",
    "\n",
    "    def get_person_attributes(self):\n",
    "        print(\"Atributes function of Person class\")\n",
    "        return [self.name, self.age, self.mobile, self.aadhar]\n",
    "#End of Person Class"
   ]
  },
  {
   "cell_type": "code",
   "execution_count": 28,
   "metadata": {},
   "outputs": [],
   "source": [
    "# Parent1 \n",
    "class Student(Person):\n",
    "    def __init__(self,name,age,mobile,aadhar,stdId,yoj,branch,section):\n",
    "        print(\"->> This is Student initializer\")\n",
    "        # super().__init__(name,age,mobile,aadhar)   # This is giving error -- Will check and confirm\n",
    "        Person.__init__(self,name,age,mobile,aadhar)\n",
    "        self.stdId = stdId\n",
    "        print(\"created stdId attribute\")\n",
    "        self.yoj = yoj\n",
    "        print(\"created yoj attribute\")\n",
    "        self.branch = branch\n",
    "        self.section = section\n",
    "        print(\"->> End of Student initializer\")\n",
    "\n",
    "    def get_student_attributes(self):\n",
    "        print(\"->> From Student class\")\n",
    "        return [self.stdId, self.yoj, self.branch, self.section]\n",
    "\n",
    "    def get_all_attributes(self):\n",
    "        print(\"->> From Student class\")\n",
    "        return [self.name, self.age, self.mobile, self.aadhar, self.stdId, self.yoj, self.branch, self.section]"
   ]
  },
  {
   "cell_type": "code",
   "execution_count": 29,
   "metadata": {},
   "outputs": [],
   "source": [
    "# Parent2\n",
    "class Employee(Person):\n",
    "    def __init__(self,empId,emp_yoj,designation):\n",
    "        print(\"=> This is Employee initializer\")\n",
    "        self.empId = empId\n",
    "        self.emp_yoj = emp_yoj\n",
    "        self.designation = designation\n",
    "        print(\"=> End of Employee initializer\")\n",
    "\n",
    "    def get_employee_attributes(self):\n",
    "        print(\"=> From Employee class\")\n",
    "        return [self.empId, self.emp_yoj, self.designation]\n",
    "\n",
    "    def get_all_attributes(self):\n",
    "        print(\"=> From Employee class\")\n",
    "        return [self.name, self.age, self.mobile, self.aadhar, self.empId, self.emp_yoj, self.designation]"
   ]
  },
  {
   "cell_type": "code",
   "execution_count": 30,
   "metadata": {},
   "outputs": [
    {
     "name": "stdout",
     "output_type": "stream",
     "text": [
      "Researcher class\n"
     ]
    }
   ],
   "source": [
    "# Child\n",
    "class Researcher(Student, Employee): \n",
    "    print(\"Researcher class\")\n",
    "    def __init__(self,name,age,mobile,aadhar,stdId,yoj,branch,section,empId,emp_yoj,designation, researcherId, subject): #\n",
    "        print(\"Researcher class initializer\")\n",
    "        # Student class and Person class attributes initialization\n",
    "        Student.__init__(self,name,age,mobile,aadhar,stdId,yoj,branch,section)\n",
    "        # Employee class attributes initialization\n",
    "        Employee.__init__(self,empId,emp_yoj,designation)\n",
    "        # Researcher class attributes initialization\n",
    "        self.researcherId = researcherId\n",
    "        self.subject = subject\n",
    "        print(\"End of Researcher class initializer\")\n",
    "    #\n",
    "\n",
    "    def get_researcher_attributes(self):\n",
    "        print(\"From Researcher class\")\n",
    "        return {\"researcherId\":self.researcherId, \"subject\": self.subject}\n",
    "\n",
    "\n",
    "    def get_all_attributes(self):\n",
    "        print(\"Researcher class\")\n",
    "        return {\"name\": self.name, \"age\": self.age, \"mobile\": self.mobile, \"aadhar\":self.aadhar,\n",
    "                \"stdId\": self.stdId, \"yoj\": self.yoj, \"branch\":self.branch, \"section\": self.section,\n",
    "                \"empId\": self.empId, \"emp_yoj\": self.emp_yoj, \"designation\": self.designation, \"researcherId\":self.researcherId, \"subject\": self.subject}\n"
   ]
  },
  {
   "cell_type": "code",
   "execution_count": 31,
   "metadata": {},
   "outputs": [
    {
     "name": "stdout",
     "output_type": "stream",
     "text": [
      "Researcher class initializer\n",
      "->> This is Student initializer\n",
      "This is Person initializer\n",
      "->> End of Student initializer\n",
      "=> This is Employee initializer\n",
      "=> End of Employee initializer\n",
      "End of Researcher class initializer\n"
     ]
    }
   ],
   "source": [
    "r1 = Researcher(\n",
    "    name=\"Ram\",\n",
    "    age=21,\n",
    "    mobile='9999999999',\n",
    "    aadhar='',\n",
    "    stdId=\"452\",\n",
    "    yoj=2019,\n",
    "    branch=\"ECE\",\n",
    "    section=\"A\",\n",
    "    empId = \"12170123\",\n",
    "    emp_yoj = 2024,\n",
    "    designation = \"Data Scientist\",\n",
    "    researcherId=\"01101\",\n",
    "    subject=\"AI and DS\"\n",
    ")"
   ]
  },
  {
   "cell_type": "code",
   "execution_count": 32,
   "metadata": {},
   "outputs": [
    {
     "name": "stdout",
     "output_type": "stream",
     "text": [
      "r1.__class__\n",
      "r1.__delattr__\n",
      "r1.__dict__\n",
      "r1.__dir__\n",
      "r1.__doc__\n",
      "r1.__eq__\n",
      "r1.__format__\n",
      "r1.__ge__\n",
      "r1.__getattribute__\n",
      "r1.__getstate__\n",
      "r1.__gt__\n",
      "r1.__hash__\n",
      "r1.__init__\n",
      "r1.__init_subclass__\n",
      "r1.__le__\n",
      "r1.__lt__\n",
      "r1.__module__\n",
      "r1.__ne__\n",
      "r1.__new__\n",
      "r1.__reduce__\n",
      "r1.__reduce_ex__\n",
      "r1.__repr__\n",
      "r1.__setattr__\n",
      "r1.__sizeof__\n",
      "r1.__str__\n",
      "r1.__subclasshook__\n",
      "r1.__weakref__\n",
      "r1.aadhar\n",
      "r1.age\n",
      "r1.branch\n",
      "r1.designation\n",
      "r1.empId\n",
      "r1.emp_yoj\n",
      "r1.get_all_attributes\n",
      "r1.get_employee_attributes\n",
      "r1.get_person_attributes\n",
      "r1.get_researcher_attributes\n",
      "r1.get_student_attributes\n",
      "r1.mobile\n",
      "r1.name\n",
      "r1.researcherId\n",
      "r1.section\n",
      "r1.set_mobile\n",
      "r1.stdId\n",
      "r1.subject\n",
      "r1.yoj"
     ]
    }
   ],
   "source": [
    "r1.*?"
   ]
  },
  {
   "cell_type": "code",
   "execution_count": 33,
   "metadata": {},
   "outputs": [
    {
     "name": "stdout",
     "output_type": "stream",
     "text": [
      "=> From Employee class\n"
     ]
    },
    {
     "data": {
      "text/plain": [
       "['12170123', 2024, 'Data Scientist']"
      ]
     },
     "execution_count": 33,
     "metadata": {},
     "output_type": "execute_result"
    }
   ],
   "source": [
    "r1.get_employee_attributes()"
   ]
  },
  {
   "cell_type": "code",
   "execution_count": 34,
   "metadata": {},
   "outputs": [
    {
     "name": "stdout",
     "output_type": "stream",
     "text": [
      "Atributes function of Person class\n"
     ]
    },
    {
     "data": {
      "text/plain": [
       "['Ram', 21, '9999999999', '']"
      ]
     },
     "execution_count": 34,
     "metadata": {},
     "output_type": "execute_result"
    }
   ],
   "source": [
    "r1.get_person_attributes()"
   ]
  },
  {
   "cell_type": "code",
   "execution_count": 35,
   "metadata": {},
   "outputs": [
    {
     "name": "stdout",
     "output_type": "stream",
     "text": [
      "From Researcher class\n"
     ]
    },
    {
     "data": {
      "text/plain": [
       "{'researcherId': '01101', 'subject': 'AI and DS'}"
      ]
     },
     "execution_count": 35,
     "metadata": {},
     "output_type": "execute_result"
    }
   ],
   "source": [
    "r1.get_researcher_attributes()"
   ]
  },
  {
   "cell_type": "code",
   "execution_count": 36,
   "metadata": {},
   "outputs": [
    {
     "name": "stdout",
     "output_type": "stream",
     "text": [
      "->> From Student class\n"
     ]
    },
    {
     "data": {
      "text/plain": [
       "['452', 2019, 'ECE', 'A']"
      ]
     },
     "execution_count": 36,
     "metadata": {},
     "output_type": "execute_result"
    }
   ],
   "source": [
    "r1.get_student_attributes()"
   ]
  },
  {
   "cell_type": "code",
   "execution_count": 37,
   "metadata": {},
   "outputs": [
    {
     "name": "stdout",
     "output_type": "stream",
     "text": [
      "Researcher class\n"
     ]
    },
    {
     "data": {
      "text/plain": [
       "{'name': 'Ram',\n",
       " 'age': 21,\n",
       " 'mobile': '9999999999',\n",
       " 'aadhar': '',\n",
       " 'stdId': '452',\n",
       " 'yoj': 2019,\n",
       " 'branch': 'ECE',\n",
       " 'section': 'A',\n",
       " 'empId': '12170123',\n",
       " 'emp_yoj': 2024,\n",
       " 'designation': 'Data Scientist',\n",
       " 'researcherId': '01101',\n",
       " 'subject': 'AI and DS'}"
      ]
     },
     "execution_count": 37,
     "metadata": {},
     "output_type": "execute_result"
    }
   ],
   "source": [
    "r1.get_all_attributes()"
   ]
  },
  {
   "cell_type": "code",
   "execution_count": null,
   "metadata": {},
   "outputs": [],
   "source": []
  }
 ],
 "metadata": {
  "kernelspec": {
   "display_name": "Python 3",
   "language": "python",
   "name": "python3"
  },
  "language_info": {
   "codemirror_mode": {
    "name": "ipython",
    "version": 3
   },
   "file_extension": ".py",
   "mimetype": "text/x-python",
   "name": "python",
   "nbconvert_exporter": "python",
   "pygments_lexer": "ipython3",
   "version": "3.12.8"
  }
 },
 "nbformat": 4,
 "nbformat_minor": 2
}
