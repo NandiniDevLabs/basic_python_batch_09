{
 "cells": [
  {
   "cell_type": "code",
   "execution_count": 1,
   "metadata": {},
   "outputs": [],
   "source": [
    "#-------- Multiple Inheritance--------------\n",
    "# Person -> Parent1 Class\n",
    "# Address -> Parent2 Class\n",
    "# Student(Person, Address) -> Child Class"
   ]
  },
  {
   "cell_type": "code",
   "execution_count": 5,
   "metadata": {},
   "outputs": [
    {
     "name": "stdout",
     "output_type": "stream",
     "text": [
      "Person class\n"
     ]
    }
   ],
   "source": [
    "class Person:\n",
    "    print(\"Person class\")\n",
    "    def __init__(self,name,age,mobile,aadhar):\n",
    "        print(\"This is Person class initializer\")\n",
    "        self.name = name\n",
    "        self.age = age\n",
    "        self.mobile = mobile\n",
    "        self.aadhar = aadhar\n",
    "        print(\"Person class attributes are created\")\n",
    "    \n",
    "    def update_mobile(self,mobile_num):\n",
    "        self.mobile = mobile_num\n",
    "\n",
    "    def get_person_attributes(self):\n",
    "        print(\"Atributes function of Person class\")\n",
    "        return [self.name, self.age, self.mobile, self.aadhar]\n",
    "#End of Person Class"
   ]
  },
  {
   "cell_type": "code",
   "execution_count": 7,
   "metadata": {},
   "outputs": [
    {
     "name": "stdout",
     "output_type": "stream",
     "text": [
      "Address class\n"
     ]
    }
   ],
   "source": [
    "class Address:\n",
    "    print(\"Address class\")\n",
    "    def __init__(self,dno,hname,street,location,pincode):\n",
    "        print(\"Address class intializer\")\n",
    "        self.dno = dno\n",
    "        self.hname = hname\n",
    "        self.street = street\n",
    "        self.location = location\n",
    "        self.pincode = pincode\n",
    "        print(\"Address class attributes are ceated\")\n",
    "    #\n",
    "\n",
    "    def get_address_attributes(self):\n",
    "        print(\"Attributes function of Address class\")\n",
    "        return {\"dno\": self.dno, \"hname\": self.hname, \"street\": self.street, \"location\":self.location, \"pincode\": self.pincode}"
   ]
  },
  {
   "cell_type": "code",
   "execution_count": 9,
   "metadata": {},
   "outputs": [
    {
     "name": "stdout",
     "output_type": "stream",
     "text": [
      "Student class\n"
     ]
    }
   ],
   "source": [
    "# Without calling __init__ constructor of Person and Address class\n",
    "class Student(Person, Address):\n",
    "    print(\"Student class\")\n",
    "    def __init__(self,name,age,mobile,aadhar,dno,hname,street,location,pincode,sId,yoj,branch,section):\n",
    "        print(\"Student class initializer\")\n",
    "        self.name = name\n",
    "        self.age = age\n",
    "        self.mobile = mobile\n",
    "        self.aadhar = aadhar\n",
    "        self.dno = dno\n",
    "        self.hname = hname\n",
    "        self.street = street\n",
    "        self.location = location\n",
    "        self.pincode = pincode\n",
    "        self.sId = sId\n",
    "        self.yoj = yoj\n",
    "        self.branch = branch\n",
    "        self.section = section\n",
    "        print(\"Student class attributes are created\")\n",
    "    #\n",
    "\n",
    "    def get_all_attributes(self):\n",
    "        print(\"From Student class\")\n",
    "        return {\"name\": self.name, \"age\": self.age, \"mobile\": self.mobile, \"aadhar\":self.aadhar, \"dno\": self.dno, \"hname\": self.hname, \"street\": self.street, \"location\":self.location, \"pincode\": self.pincode, \"sId\": self.sId, \"yoj\": self.yoj, \"branch\":self.branch, \"section\": self.section}\n",
    "    \n",
    "    def get_student_attributes(self):\n",
    "        print(\"From Student class\")\n",
    "        return {\"sId\": self.sId, \"yoj\": self.yoj, \"branch\":self.branch, \"section\": self.section}\n",
    "#"
   ]
  },
  {
   "cell_type": "code",
   "execution_count": 10,
   "metadata": {},
   "outputs": [
    {
     "name": "stdout",
     "output_type": "stream",
     "text": [
      "Student class initializer\n",
      "Student class attributes are created\n"
     ]
    }
   ],
   "source": [
    "s1 = Student(\n",
    "    name=\"Krishna\",\n",
    "    age=19,\n",
    "    mobile=\"7878787878\",\n",
    "    aadhar=\"123456789012\",\n",
    "    dno=\"12-2-2\",\n",
    "    hname=\"Om Nilayam\",\n",
    "    street=\"Sri nagar\",\n",
    "    location=\"Vijayawada\",\n",
    "    pincode=520012,\n",
    "    sId=\"20CSE12\",\n",
    "    yoj=\"2019\",\n",
    "    branch=\"CSE\",\n",
    "    section=\"B\"\n",
    ")"
   ]
  },
  {
   "cell_type": "code",
   "execution_count": 11,
   "metadata": {},
   "outputs": [
    {
     "name": "stdout",
     "output_type": "stream",
     "text": [
      "s1.__class__\n",
      "s1.__delattr__\n",
      "s1.__dict__\n",
      "s1.__dir__\n",
      "s1.__doc__\n",
      "s1.__eq__\n",
      "s1.__format__\n",
      "s1.__ge__\n",
      "s1.__getattribute__\n",
      "s1.__getstate__\n",
      "s1.__gt__\n",
      "s1.__hash__\n",
      "s1.__init__\n",
      "s1.__init_subclass__\n",
      "s1.__le__\n",
      "s1.__lt__\n",
      "s1.__module__\n",
      "s1.__ne__\n",
      "s1.__new__\n",
      "s1.__reduce__\n",
      "s1.__reduce_ex__\n",
      "s1.__repr__\n",
      "s1.__setattr__\n",
      "s1.__sizeof__\n",
      "s1.__str__\n",
      "s1.__subclasshook__\n",
      "s1.__weakref__\n",
      "s1.aadhar\n",
      "s1.age\n",
      "s1.branch\n",
      "s1.dno\n",
      "s1.get_address_attributes\n",
      "s1.get_all_attributes\n",
      "s1.get_person_attributes\n",
      "s1.get_student_attributes\n",
      "s1.hname\n",
      "s1.location\n",
      "s1.mobile\n",
      "s1.name\n",
      "s1.pincode\n",
      "s1.sId\n",
      "s1.section\n",
      "s1.street\n",
      "s1.update_mobile\n",
      "s1.yoj"
     ]
    }
   ],
   "source": [
    "s1.*?"
   ]
  },
  {
   "cell_type": "code",
   "execution_count": 12,
   "metadata": {},
   "outputs": [
    {
     "name": "stdout",
     "output_type": "stream",
     "text": [
      "Atributes function of Person class\n"
     ]
    },
    {
     "data": {
      "text/plain": [
       "['Krishna', 19, '7878787878', '123456789012']"
      ]
     },
     "execution_count": 12,
     "metadata": {},
     "output_type": "execute_result"
    }
   ],
   "source": [
    "s1.get_person_attributes()"
   ]
  },
  {
   "cell_type": "code",
   "execution_count": 13,
   "metadata": {},
   "outputs": [
    {
     "name": "stdout",
     "output_type": "stream",
     "text": [
      "Attributes function of Address class\n"
     ]
    },
    {
     "data": {
      "text/plain": [
       "{'dno': '12-2-2',\n",
       " 'hname': 'Om Nilayam',\n",
       " 'street': 'Sri nagar',\n",
       " 'location': 'Vijayawada',\n",
       " 'pincode': 520012}"
      ]
     },
     "execution_count": 13,
     "metadata": {},
     "output_type": "execute_result"
    }
   ],
   "source": [
    "s1.get_address_attributes()"
   ]
  },
  {
   "cell_type": "code",
   "execution_count": 14,
   "metadata": {},
   "outputs": [
    {
     "name": "stdout",
     "output_type": "stream",
     "text": [
      "From Student class\n"
     ]
    },
    {
     "data": {
      "text/plain": [
       "{'name': 'Krishna',\n",
       " 'age': 19,\n",
       " 'mobile': '7878787878',\n",
       " 'aadhar': '123456789012',\n",
       " 'dno': '12-2-2',\n",
       " 'hname': 'Om Nilayam',\n",
       " 'street': 'Sri nagar',\n",
       " 'location': 'Vijayawada',\n",
       " 'pincode': 520012,\n",
       " 'sId': '20CSE12',\n",
       " 'yoj': '2019',\n",
       " 'branch': 'CSE',\n",
       " 'section': 'B'}"
      ]
     },
     "execution_count": 14,
     "metadata": {},
     "output_type": "execute_result"
    }
   ],
   "source": [
    "s1.get_all_attributes()"
   ]
  },
  {
   "cell_type": "code",
   "execution_count": 15,
   "metadata": {},
   "outputs": [
    {
     "name": "stdout",
     "output_type": "stream",
     "text": [
      "From Student class\n"
     ]
    },
    {
     "data": {
      "text/plain": [
       "{'sId': '20CSE12', 'yoj': '2019', 'branch': 'CSE', 'section': 'B'}"
      ]
     },
     "execution_count": 15,
     "metadata": {},
     "output_type": "execute_result"
    }
   ],
   "source": [
    "s1.get_student_attributes()"
   ]
  },
  {
   "cell_type": "markdown",
   "metadata": {},
   "source": [
    "# Discussed from 28/01/2025"
   ]
  },
  {
   "cell_type": "code",
   "execution_count": 57,
   "metadata": {},
   "outputs": [
    {
     "name": "stdout",
     "output_type": "stream",
     "text": [
      "This is Person class\n"
     ]
    }
   ],
   "source": [
    "class Person:\n",
    "    print(\"This is Person class\")\n",
    "    def __init__(self,name,age,mobile,aadhar):\n",
    "        print('Person class initializer')\n",
    "        self.name = name\n",
    "        self.age = age\n",
    "        self.mobile = mobile\n",
    "        self.aadhar = aadhar\n",
    "    #\n",
    "\n",
    "    def update_aadhar(self,new_aadhar):\n",
    "        print(\"Inside Person class, updating aadhar\")\n",
    "        self.aadhar = new_aadhar\n",
    "    #\n",
    "\n",
    "    def get_person_attributes(self):\n",
    "        print(\"Getting Person class attributes.\")\n",
    "        return {'Name':self.name, 'Age':self.age, 'Mobile Number':self.mobile, 'Aadhar':self.aadhar}  # This is recommended\n",
    "        # return {'Attr1':self.name, 'Attr2':self.age, 'Attr3':self.mobile,  'Attr4':self.aadhar}\n",
    "    #\n",
    "    "
   ]
  },
  {
   "cell_type": "code",
   "execution_count": 19,
   "metadata": {},
   "outputs": [
    {
     "name": "stdout",
     "output_type": "stream",
     "text": [
      "Person class initializer\n"
     ]
    }
   ],
   "source": [
    "p1 = Person(name='Krishna',age=24,mobile='9898786543',aadhar='019898786543')"
   ]
  },
  {
   "cell_type": "code",
   "execution_count": 20,
   "metadata": {},
   "outputs": [
    {
     "name": "stdout",
     "output_type": "stream",
     "text": [
      "Getting Person class attributes.\n"
     ]
    },
    {
     "data": {
      "text/plain": [
       "{'Attr1': 'Krishna',\n",
       " 'Attr2': 24,\n",
       " 'Attr3': '9898786543',\n",
       " 'Attr4': '019898786543'}"
      ]
     },
     "execution_count": 20,
     "metadata": {},
     "output_type": "execute_result"
    }
   ],
   "source": [
    "# p1.*?\n",
    "\n",
    "p1.get_person_attributes()"
   ]
  },
  {
   "cell_type": "code",
   "execution_count": 64,
   "metadata": {},
   "outputs": [
    {
     "name": "stdout",
     "output_type": "stream",
     "text": [
      "This is Address Class\n"
     ]
    }
   ],
   "source": [
    "class Address:\n",
    "    print('This is Address Class')\n",
    "    def __init__(self,dno,hname,street,location,pincode):\n",
    "        print(\"Address class initializer\")\n",
    "        self.dno = dno\n",
    "        self.hname = hname\n",
    "        self.street = street\n",
    "        self.location = location\n",
    "        self.pincode = pincode\n",
    "    #\n",
    "\n",
    "    def set_location(self, newLocation):\n",
    "        print(\"Inside Address class, updating location\")\n",
    "        self.location = newLocation\n",
    "    #\n",
    "\n",
    "    def get_address_attributes(self):\n",
    "        print(\"Getting Address attribute values\")\n",
    "        # return [self.dno, self.hname, self.street, self.location, self.pincode]\n",
    "        return {\"dno\": self.dno, \"hname\":self.hname, \"street\": self.street, \"location\":self.location, \"pincode\": self.pincode}\n",
    "    #\n"
   ]
  },
  {
   "cell_type": "code",
   "execution_count": 41,
   "metadata": {},
   "outputs": [
    {
     "name": "stdout",
     "output_type": "stream",
     "text": [
      "Address class initializer\n"
     ]
    }
   ],
   "source": [
    "addr1 = Address(\n",
    "    dno=\"12-2-2\",\n",
    "    hname=\"Om Nilayam\",\n",
    "    street=\"Sri nagar\",\n",
    "    location=\"Vijayawada\",\n",
    "    pincode=520012,\n",
    ")"
   ]
  },
  {
   "cell_type": "code",
   "execution_count": 42,
   "metadata": {},
   "outputs": [],
   "source": [
    "# addr1.*?"
   ]
  },
  {
   "cell_type": "code",
   "execution_count": 43,
   "metadata": {},
   "outputs": [
    {
     "name": "stdout",
     "output_type": "stream",
     "text": [
      "Getting Address attribute values\n"
     ]
    },
    {
     "data": {
      "text/plain": [
       "['12-2-2', 'Om Nilayam', 'Sri nagar', 'Vijayawada', 520012]"
      ]
     },
     "execution_count": 43,
     "metadata": {},
     "output_type": "execute_result"
    }
   ],
   "source": [
    "Address.get_address_attributes(addr1)"
   ]
  },
  {
   "cell_type": "code",
   "execution_count": 44,
   "metadata": {},
   "outputs": [
    {
     "name": "stdout",
     "output_type": "stream",
     "text": [
      "Getting Address attribute values\n"
     ]
    },
    {
     "data": {
      "text/plain": [
       "['12-2-2', 'Om Nilayam', 'Sri nagar', 'Vijayawada', 520012]"
      ]
     },
     "execution_count": 44,
     "metadata": {},
     "output_type": "execute_result"
    }
   ],
   "source": [
    "addr1.get_address_attributes()"
   ]
  },
  {
   "cell_type": "code",
   "execution_count": 33,
   "metadata": {},
   "outputs": [
    {
     "name": "stdout",
     "output_type": "stream",
     "text": [
      "Inside Address class, updating location\n"
     ]
    }
   ],
   "source": [
    "addr1.set_location('Hyderabad')"
   ]
  },
  {
   "cell_type": "code",
   "execution_count": 34,
   "metadata": {},
   "outputs": [
    {
     "name": "stdout",
     "output_type": "stream",
     "text": [
      "Getting Address attribute values\n"
     ]
    },
    {
     "data": {
      "text/plain": [
       "['12-2-2', 'Om Nilayam', 'Sri nagar', 'Hyderabad', 520012]"
      ]
     },
     "execution_count": 34,
     "metadata": {},
     "output_type": "execute_result"
    }
   ],
   "source": [
    "addr1.get_address_attributes()"
   ]
  },
  {
   "cell_type": "markdown",
   "metadata": {},
   "source": [
    "# Multiple-Inheritance Continued"
   ]
  },
  {
   "cell_type": "code",
   "execution_count": 107,
   "metadata": {},
   "outputs": [],
   "source": [
    "class Student(Person, Address):\n",
    "    def __init__(self,name,age,mobile,aadhar,dno,hname,street,location,pincode,sId,yoj,branch,section):\n",
    "        print(\"Inside Student class initializer\")\n",
    "        super().__init__(name,age,mobile,aadhar)  # \n",
    "        # Person.__init__(self,name,age,mobile,aadhar)\n",
    "        Address.__init__(self,dno,hname,street,location,pincode)\n",
    "        #\n",
    "        print(\"Creating attributes in Student class\")\n",
    "        self.sId = sId\n",
    "        self.yoj = yoj\n",
    "        self.branch = branch\n",
    "        self.section = section\n",
    "        print(\"Leaving from Student class initializer\")   \n",
    "    #\n",
    "\n",
    "    def get_student_attributes(self):\n",
    "        print(\"Getting Student attributes\")\n",
    "        return {\"sId\": self.sId, \"yoj\":self.yoj, \"branch\":self.branch, \"section\": self.section}\n",
    "    \n",
    "\n",
    "    def get_all_attributes(self):\n",
    "        print(\"Getting all attributes i.e., person, address and student attributes\")\n",
    "        person_attr_dict = self.get_person_attributes()\n",
    "        addr_attr_dict = self.get_address_attributes()\n",
    "        std_attr_dict = self.get_student_attributes()\n",
    "\n",
    "        # Method 1\n",
    "        # all_attr_doct = person_attr_dict.copy()\n",
    "        # all_attr_doct.update(addr_attr_dict)\n",
    "        # all_attr_doct.update(std_attr_dict)\n",
    "        # return all_attr_doct\n",
    "\n",
    "        # Method 2\n",
    "        return {**person_attr_dict, **addr_attr_dict, **std_attr_dict}\n",
    "\n",
    "        ## Without using get attribute methods \n",
    "        # return {\n",
    "        #     \"name\": self.name, \n",
    "        #     \"age\": self.age, \n",
    "        #     \"mobile\":self.mobile,\n",
    "        #     \"aadhar\":self.aadhar, \n",
    "        #     \"dno\": self.dno, \n",
    "        #     \"hname\":self.hname, \n",
    "        #     \"street\": self.street, \n",
    "        #     \"location\":self.location, \n",
    "        #     \"pincode\": self.pincode, \n",
    "        #     \"sId\": self.sId, \n",
    "        #     \"yoj\":self.yoj, \n",
    "        #     \"branch\":self.branch, \n",
    "        #     \"section\": self.section\n",
    "        #     }    \n",
    "        # Multi-line comments --> ctrl + /\n",
    "    "
   ]
  },
  {
   "cell_type": "code",
   "execution_count": 108,
   "metadata": {},
   "outputs": [
    {
     "name": "stdout",
     "output_type": "stream",
     "text": [
      "Inside Student class initializer\n",
      "Person class initializer\n",
      "Address class initializer\n",
      "Creating attributes in Student class\n",
      "Leaving from Student class initializer\n"
     ]
    }
   ],
   "source": [
    "std1 = Student(\n",
    "    name=\"Krishna\",\n",
    "    age=19,\n",
    "    mobile=\"7878787878\",\n",
    "    aadhar=\"123456789012\",\n",
    "    dno=\"12-2-2\",\n",
    "    hname=\"Om Nilayam\",\n",
    "    street=\"Sri nagar\",\n",
    "    location=\"Vijayawada\",\n",
    "    pincode=520012,\n",
    "    sId=\"20CSE12\",\n",
    "    yoj=\"2019\",\n",
    "    branch=\"CSE\",\n",
    "    section=\"B\"\n",
    ")"
   ]
  },
  {
   "cell_type": "code",
   "execution_count": 109,
   "metadata": {},
   "outputs": [],
   "source": [
    "# std1.*?"
   ]
  },
  {
   "cell_type": "code",
   "execution_count": 110,
   "metadata": {},
   "outputs": [
    {
     "name": "stdout",
     "output_type": "stream",
     "text": [
      "Getting Student attributes\n"
     ]
    },
    {
     "data": {
      "text/plain": [
       "{'sId': '20CSE12', 'yoj': '2019', 'branch': 'CSE', 'section': 'B'}"
      ]
     },
     "execution_count": 110,
     "metadata": {},
     "output_type": "execute_result"
    }
   ],
   "source": [
    "std1.get_student_attributes()"
   ]
  },
  {
   "cell_type": "code",
   "execution_count": 111,
   "metadata": {},
   "outputs": [
    {
     "name": "stdout",
     "output_type": "stream",
     "text": [
      "Getting Person class attributes.\n"
     ]
    },
    {
     "data": {
      "text/plain": [
       "{'Name': 'Krishna',\n",
       " 'Age': 19,\n",
       " 'Mobile Number': '7878787878',\n",
       " 'Aadhar': '123456789012'}"
      ]
     },
     "execution_count": 111,
     "metadata": {},
     "output_type": "execute_result"
    }
   ],
   "source": [
    "std1.get_person_attributes()"
   ]
  },
  {
   "cell_type": "code",
   "execution_count": 112,
   "metadata": {},
   "outputs": [
    {
     "name": "stdout",
     "output_type": "stream",
     "text": [
      "Getting Address attribute values\n"
     ]
    },
    {
     "data": {
      "text/plain": [
       "{'dno': '12-2-2',\n",
       " 'hname': 'Om Nilayam',\n",
       " 'street': 'Sri nagar',\n",
       " 'location': 'Vijayawada',\n",
       " 'pincode': 520012}"
      ]
     },
     "execution_count": 112,
     "metadata": {},
     "output_type": "execute_result"
    }
   ],
   "source": [
    "std1.get_address_attributes()"
   ]
  },
  {
   "cell_type": "code",
   "execution_count": 113,
   "metadata": {},
   "outputs": [
    {
     "name": "stdout",
     "output_type": "stream",
     "text": [
      "Getting all attributes i.e., person, address and student attributes\n",
      "Getting Person class attributes.\n",
      "Getting Address attribute values\n",
      "Getting Student attributes\n"
     ]
    },
    {
     "data": {
      "text/plain": [
       "{'Name': 'Krishna',\n",
       " 'Age': 19,\n",
       " 'Mobile Number': '7878787878',\n",
       " 'Aadhar': '123456789012',\n",
       " 'dno': '12-2-2',\n",
       " 'hname': 'Om Nilayam',\n",
       " 'street': 'Sri nagar',\n",
       " 'location': 'Vijayawada',\n",
       " 'pincode': 520012,\n",
       " 'sId': '20CSE12',\n",
       " 'yoj': '2019',\n",
       " 'branch': 'CSE',\n",
       " 'section': 'B'}"
      ]
     },
     "execution_count": 113,
     "metadata": {},
     "output_type": "execute_result"
    }
   ],
   "source": [
    "std1.get_all_attributes()"
   ]
  },
  {
   "cell_type": "code",
   "execution_count": null,
   "metadata": {},
   "outputs": [],
   "source": []
  },
  {
   "cell_type": "code",
   "execution_count": null,
   "metadata": {},
   "outputs": [],
   "source": []
  },
  {
   "cell_type": "code",
   "execution_count": 100,
   "metadata": {},
   "outputs": [
    {
     "data": {
      "text/plain": [
       "{'a': 1, 'b': 2, 'c': 10, 'd': 20}"
      ]
     },
     "execution_count": 100,
     "metadata": {},
     "output_type": "execute_result"
    }
   ],
   "source": [
    "# print(**d1)\n",
    "# {**d1, **d2}\n",
    "{ i[0]:i[1] for i in [('a',1),('b',2)] + [('c',10),('d',20)]}"
   ]
  },
  {
   "cell_type": "code",
   "execution_count": 103,
   "metadata": {},
   "outputs": [
    {
     "data": {
      "text/plain": [
       "dict_items([('a', 1), ('b', 2), ('c', 10), ('d', 20), ('e', 100), ('f', 200)])"
      ]
     },
     "execution_count": 103,
     "metadata": {},
     "output_type": "execute_result"
    }
   ],
   "source": [
    "d1.items()"
   ]
  },
  {
   "cell_type": "code",
   "execution_count": 104,
   "metadata": {},
   "outputs": [],
   "source": [
    "d1 = {'a':1,'b':2}\n",
    "d2 = {'c':10,'d':20}\n",
    "d3 = {'e':100,'f':200}"
   ]
  },
  {
   "cell_type": "code",
   "execution_count": 106,
   "metadata": {},
   "outputs": [
    {
     "data": {
      "text/plain": [
       "{'a': 1, 'b': 2, 'c': 10, 'd': 20}"
      ]
     },
     "execution_count": 106,
     "metadata": {},
     "output_type": "execute_result"
    }
   ],
   "source": [
    "{ i[0]:i[1] for i in list(d1.items()) + list(d2.items())}"
   ]
  },
  {
   "cell_type": "code",
   "execution_count": 83,
   "metadata": {},
   "outputs": [],
   "source": [
    "d1 = {'a':1,'b':2}\n",
    "d2 = {'c':10,'d':20}\n",
    "d3 = {'e':100,'f':200}"
   ]
  },
  {
   "cell_type": "code",
   "execution_count": 85,
   "metadata": {},
   "outputs": [],
   "source": [
    "d1.update(d2)"
   ]
  },
  {
   "cell_type": "code",
   "execution_count": 86,
   "metadata": {},
   "outputs": [
    {
     "data": {
      "text/plain": [
       "{'a': 1, 'b': 2, 'c': 10, 'd': 20}"
      ]
     },
     "execution_count": 86,
     "metadata": {},
     "output_type": "execute_result"
    }
   ],
   "source": [
    "d1"
   ]
  },
  {
   "cell_type": "code",
   "execution_count": 87,
   "metadata": {},
   "outputs": [],
   "source": [
    "d1.update(d3)"
   ]
  },
  {
   "cell_type": "code",
   "execution_count": 88,
   "metadata": {},
   "outputs": [
    {
     "data": {
      "text/plain": [
       "{'a': 1, 'b': 2, 'c': 10, 'd': 20, 'e': 100, 'f': 200}"
      ]
     },
     "execution_count": 88,
     "metadata": {},
     "output_type": "execute_result"
    }
   ],
   "source": [
    "d1"
   ]
  },
  {
   "cell_type": "code",
   "execution_count": 89,
   "metadata": {},
   "outputs": [],
   "source": [
    "d = {**d1, **d2, **d3}"
   ]
  },
  {
   "cell_type": "code",
   "execution_count": 90,
   "metadata": {},
   "outputs": [
    {
     "data": {
      "text/plain": [
       "{'a': 1, 'b': 2, 'c': 10, 'd': 20, 'e': 100, 'f': 200}"
      ]
     },
     "execution_count": 90,
     "metadata": {},
     "output_type": "execute_result"
    }
   ],
   "source": [
    "d"
   ]
  },
  {
   "cell_type": "code",
   "execution_count": null,
   "metadata": {},
   "outputs": [],
   "source": []
  },
  {
   "cell_type": "code",
   "execution_count": 114,
   "metadata": {},
   "outputs": [
    {
     "name": "stdout",
     "output_type": "stream",
     "text": [
      "Student class\n"
     ]
    }
   ],
   "source": [
    "class Student(Person, Address):\n",
    "    print(\"Student class\")\n",
    "    def __init__(self,name,age,mobile,aadhar,dno,hname,street,location,pincode,sId,yoj,branch,section):\n",
    "        print(\"Student class initializer\")\n",
    "        super().__init__(name,age,mobile,aadhar)\n",
    "        self.dno = dno\n",
    "        self.hname = hname\n",
    "        self.street = street\n",
    "        self.location = location\n",
    "        self.pincode = pincode\n",
    "        self.sId = sId\n",
    "        self.yoj = yoj\n",
    "        self.branch = branch\n",
    "        self.section = section\n",
    "        print(\"Student class attributes are created\")\n",
    "    #\n",
    "#"
   ]
  },
  {
   "cell_type": "code",
   "execution_count": 115,
   "metadata": {},
   "outputs": [
    {
     "name": "stdout",
     "output_type": "stream",
     "text": [
      "Student class initializer\n",
      "Person class initializer\n",
      "Student class attributes are created\n"
     ]
    }
   ],
   "source": [
    "std2 = Student(\n",
    "    name=\"Govinda\",\n",
    "    age=24,\n",
    "    mobile=\"7878787878\",\n",
    "    aadhar=\"123456789012\",\n",
    "    dno=\"12-2-2\",\n",
    "    hname=\"Om Nilayam\",\n",
    "    street=\"Sri nagar\",\n",
    "    location=\"Vijayawada\",\n",
    "    pincode=520012,\n",
    "    sId=\"20CSE12\",\n",
    "    yoj=\"2023\",\n",
    "    branch=\"ECE\",\n",
    "    section=\"D\"\n",
    ")"
   ]
  },
  {
   "cell_type": "code",
   "execution_count": 116,
   "metadata": {},
   "outputs": [
    {
     "name": "stdout",
     "output_type": "stream",
     "text": [
      "Getting Person class attributes.\n"
     ]
    },
    {
     "data": {
      "text/plain": [
       "{'Name': 'Govinda',\n",
       " 'Age': 24,\n",
       " 'Mobile Number': '7878787878',\n",
       " 'Aadhar': '123456789012'}"
      ]
     },
     "execution_count": 116,
     "metadata": {},
     "output_type": "execute_result"
    }
   ],
   "source": [
    "std2.get_person_attributes()"
   ]
  },
  {
   "cell_type": "code",
   "execution_count": 117,
   "metadata": {},
   "outputs": [
    {
     "name": "stdout",
     "output_type": "stream",
     "text": [
      "Getting Address attribute values\n"
     ]
    },
    {
     "data": {
      "text/plain": [
       "{'dno': '12-2-2',\n",
       " 'hname': 'Om Nilayam',\n",
       " 'street': 'Sri nagar',\n",
       " 'location': 'Vijayawada',\n",
       " 'pincode': 520012}"
      ]
     },
     "execution_count": 117,
     "metadata": {},
     "output_type": "execute_result"
    }
   ],
   "source": [
    "std2.get_address_attributes()"
   ]
  },
  {
   "cell_type": "code",
   "execution_count": null,
   "metadata": {},
   "outputs": [],
   "source": []
  }
 ],
 "metadata": {
  "kernelspec": {
   "display_name": "Python 3",
   "language": "python",
   "name": "python3"
  },
  "language_info": {
   "codemirror_mode": {
    "name": "ipython",
    "version": 3
   },
   "file_extension": ".py",
   "mimetype": "text/x-python",
   "name": "python",
   "nbconvert_exporter": "python",
   "pygments_lexer": "ipython3",
   "version": "3.12.8"
  }
 },
 "nbformat": 4,
 "nbformat_minor": 2
}
