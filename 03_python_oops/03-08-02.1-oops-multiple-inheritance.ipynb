{
 "cells": [
  {
   "cell_type": "code",
   "execution_count": 1,
   "metadata": {},
   "outputs": [],
   "source": [
    "#-------- Multiple Inheritance--------------\n",
    "# Person -> Parent1 Class\n",
    "# Address -> Parent2 Class\n",
    "# Student(Person, Address) -> Child Class"
   ]
  },
  {
   "cell_type": "code",
   "execution_count": 5,
   "metadata": {},
   "outputs": [
    {
     "name": "stdout",
     "output_type": "stream",
     "text": [
      "Person class\n"
     ]
    }
   ],
   "source": [
    "class Person:\n",
    "    print(\"Person class\")\n",
    "    def __init__(self,name,age,mobile,aadhar):\n",
    "        print(\"This is Person class initializer\")\n",
    "        self.name = name\n",
    "        self.age = age\n",
    "        self.mobile = mobile\n",
    "        self.aadhar = aadhar\n",
    "        print(\"Person class attributes are created\")\n",
    "    \n",
    "    def update_mobile(self,mobile_num):\n",
    "        self.mobile = mobile_num\n",
    "\n",
    "    def get_person_attributes(self):\n",
    "        print(\"Atributes function of Person class\")\n",
    "        return [self.name, self.age, self.mobile, self.aadhar]\n",
    "#End of Person Class"
   ]
  },
  {
   "cell_type": "code",
   "execution_count": 7,
   "metadata": {},
   "outputs": [
    {
     "name": "stdout",
     "output_type": "stream",
     "text": [
      "Address class\n"
     ]
    }
   ],
   "source": [
    "class Address:\n",
    "    print(\"Address class\")\n",
    "    def __init__(self,dno,hname,street,location,pincode):\n",
    "        print(\"Address class intializer\")\n",
    "        self.dno = dno\n",
    "        self.hname = hname\n",
    "        self.street = street\n",
    "        self.location = location\n",
    "        self.pincode = pincode\n",
    "        print(\"Address class attributes are ceated\")\n",
    "    #\n",
    "\n",
    "    def get_address_attributes(self):\n",
    "        print(\"Attributes function of Address class\")\n",
    "        return {\"dno\": self.dno, \"hname\": self.hname, \"street\": self.street, \"location\":self.location, \"pincode\": self.pincode}"
   ]
  },
  {
   "cell_type": "code",
   "execution_count": 9,
   "metadata": {},
   "outputs": [
    {
     "name": "stdout",
     "output_type": "stream",
     "text": [
      "Student class\n"
     ]
    }
   ],
   "source": [
    "# Without calling __init__ constructor of Person and Address class\n",
    "class Student(Person, Address):\n",
    "    print(\"Student class\")\n",
    "    def __init__(self,name,age,mobile,aadhar,dno,hname,street,location,pincode,sId,yoj,branch,section):\n",
    "        print(\"Student class initializer\")\n",
    "        self.name = name\n",
    "        self.age = age\n",
    "        self.mobile = mobile\n",
    "        self.aadhar = aadhar\n",
    "        self.dno = dno\n",
    "        self.hname = hname\n",
    "        self.street = street\n",
    "        self.location = location\n",
    "        self.pincode = pincode\n",
    "        self.sId = sId\n",
    "        self.yoj = yoj\n",
    "        self.branch = branch\n",
    "        self.section = section\n",
    "        print(\"Student class attributes are created\")\n",
    "    #\n",
    "\n",
    "    def get_all_attributes(self):\n",
    "        print(\"From Student class\")\n",
    "        return {\"name\": self.name, \"age\": self.age, \"mobile\": self.mobile, \"aadhar\":self.aadhar, \"dno\": self.dno, \"hname\": self.hname, \"street\": self.street, \"location\":self.location, \"pincode\": self.pincode, \"sId\": self.sId, \"yoj\": self.yoj, \"branch\":self.branch, \"section\": self.section}\n",
    "    \n",
    "    def get_student_attributes(self):\n",
    "        print(\"From Student class\")\n",
    "        return {\"sId\": self.sId, \"yoj\": self.yoj, \"branch\":self.branch, \"section\": self.section}\n",
    "#"
   ]
  },
  {
   "cell_type": "code",
   "execution_count": 10,
   "metadata": {},
   "outputs": [
    {
     "name": "stdout",
     "output_type": "stream",
     "text": [
      "Student class initializer\n",
      "Student class attributes are created\n"
     ]
    }
   ],
   "source": [
    "s1 = Student(\n",
    "    name=\"Krishna\",\n",
    "    age=19,\n",
    "    mobile=\"7878787878\",\n",
    "    aadhar=\"123456789012\",\n",
    "    dno=\"12-2-2\",\n",
    "    hname=\"Om Nilayam\",\n",
    "    street=\"Sri nagar\",\n",
    "    location=\"Vijayawada\",\n",
    "    pincode=520012,\n",
    "    sId=\"20CSE12\",\n",
    "    yoj=\"2019\",\n",
    "    branch=\"CSE\",\n",
    "    section=\"B\"\n",
    ")"
   ]
  },
  {
   "cell_type": "code",
   "execution_count": 11,
   "metadata": {},
   "outputs": [
    {
     "name": "stdout",
     "output_type": "stream",
     "text": [
      "s1.__class__\n",
      "s1.__delattr__\n",
      "s1.__dict__\n",
      "s1.__dir__\n",
      "s1.__doc__\n",
      "s1.__eq__\n",
      "s1.__format__\n",
      "s1.__ge__\n",
      "s1.__getattribute__\n",
      "s1.__getstate__\n",
      "s1.__gt__\n",
      "s1.__hash__\n",
      "s1.__init__\n",
      "s1.__init_subclass__\n",
      "s1.__le__\n",
      "s1.__lt__\n",
      "s1.__module__\n",
      "s1.__ne__\n",
      "s1.__new__\n",
      "s1.__reduce__\n",
      "s1.__reduce_ex__\n",
      "s1.__repr__\n",
      "s1.__setattr__\n",
      "s1.__sizeof__\n",
      "s1.__str__\n",
      "s1.__subclasshook__\n",
      "s1.__weakref__\n",
      "s1.aadhar\n",
      "s1.age\n",
      "s1.branch\n",
      "s1.dno\n",
      "s1.get_address_attributes\n",
      "s1.get_all_attributes\n",
      "s1.get_person_attributes\n",
      "s1.get_student_attributes\n",
      "s1.hname\n",
      "s1.location\n",
      "s1.mobile\n",
      "s1.name\n",
      "s1.pincode\n",
      "s1.sId\n",
      "s1.section\n",
      "s1.street\n",
      "s1.update_mobile\n",
      "s1.yoj"
     ]
    }
   ],
   "source": [
    "s1.*?"
   ]
  },
  {
   "cell_type": "code",
   "execution_count": 12,
   "metadata": {},
   "outputs": [
    {
     "name": "stdout",
     "output_type": "stream",
     "text": [
      "Atributes function of Person class\n"
     ]
    },
    {
     "data": {
      "text/plain": [
       "['Krishna', 19, '7878787878', '123456789012']"
      ]
     },
     "execution_count": 12,
     "metadata": {},
     "output_type": "execute_result"
    }
   ],
   "source": [
    "s1.get_person_attributes()"
   ]
  },
  {
   "cell_type": "code",
   "execution_count": 13,
   "metadata": {},
   "outputs": [
    {
     "name": "stdout",
     "output_type": "stream",
     "text": [
      "Attributes function of Address class\n"
     ]
    },
    {
     "data": {
      "text/plain": [
       "{'dno': '12-2-2',\n",
       " 'hname': 'Om Nilayam',\n",
       " 'street': 'Sri nagar',\n",
       " 'location': 'Vijayawada',\n",
       " 'pincode': 520012}"
      ]
     },
     "execution_count": 13,
     "metadata": {},
     "output_type": "execute_result"
    }
   ],
   "source": [
    "s1.get_address_attributes()"
   ]
  },
  {
   "cell_type": "code",
   "execution_count": 14,
   "metadata": {},
   "outputs": [
    {
     "name": "stdout",
     "output_type": "stream",
     "text": [
      "From Student class\n"
     ]
    },
    {
     "data": {
      "text/plain": [
       "{'name': 'Krishna',\n",
       " 'age': 19,\n",
       " 'mobile': '7878787878',\n",
       " 'aadhar': '123456789012',\n",
       " 'dno': '12-2-2',\n",
       " 'hname': 'Om Nilayam',\n",
       " 'street': 'Sri nagar',\n",
       " 'location': 'Vijayawada',\n",
       " 'pincode': 520012,\n",
       " 'sId': '20CSE12',\n",
       " 'yoj': '2019',\n",
       " 'branch': 'CSE',\n",
       " 'section': 'B'}"
      ]
     },
     "execution_count": 14,
     "metadata": {},
     "output_type": "execute_result"
    }
   ],
   "source": [
    "s1.get_all_attributes()"
   ]
  },
  {
   "cell_type": "code",
   "execution_count": 15,
   "metadata": {},
   "outputs": [
    {
     "name": "stdout",
     "output_type": "stream",
     "text": [
      "From Student class\n"
     ]
    },
    {
     "data": {
      "text/plain": [
       "{'sId': '20CSE12', 'yoj': '2019', 'branch': 'CSE', 'section': 'B'}"
      ]
     },
     "execution_count": 15,
     "metadata": {},
     "output_type": "execute_result"
    }
   ],
   "source": [
    "s1.get_student_attributes()"
   ]
  },
  {
   "cell_type": "markdown",
   "metadata": {},
   "source": [
    "# Will be discussed in tomorrow's class"
   ]
  },
  {
   "cell_type": "code",
   "execution_count": 9,
   "metadata": {},
   "outputs": [],
   "source": [
    "class Student(Person, Address):\n",
    "    print(\"Student class\")\n",
    "    def __init__(self,name,age,mobile,aadhar,dno,hname,street,location,pincode,sId,yoj,branch,section):\n",
    "        print(\"Student class initializer\")\n",
    "        super().__init__(name,age,mobile,aadhar)\n",
    "        self.dno = dno\n",
    "        self.hname = hname\n",
    "        self.street = street\n",
    "        self.location = location\n",
    "        self.pincode = pincode\n",
    "        self.sId = sId\n",
    "        self.yoj = yoj\n",
    "        self.branch = branch\n",
    "        self.section = section\n",
    "        print(\"Student class attributes are created\")\n",
    "    #\n",
    "#"
   ]
  },
  {
   "cell_type": "code",
   "execution_count": 10,
   "metadata": {},
   "outputs": [],
   "source": [
    "s1 = Student(\n",
    "    name=\"Govinda\",\n",
    "    age=20,\n",
    "    mobile=\"\",\n",
    "    aadhar=\"\"\n",
    ")"
   ]
  },
  {
   "cell_type": "code",
   "execution_count": 11,
   "metadata": {},
   "outputs": [],
   "source": [
    "s1.get_person_attributes()"
   ]
  },
  {
   "cell_type": "code",
   "execution_count": 12,
   "metadata": {},
   "outputs": [],
   "source": [
    "s1.get_address_attributes()"
   ]
  },
  {
   "cell_type": "code",
   "execution_count": 13,
   "metadata": {},
   "outputs": [],
   "source": [
    "class Student(Address, Person):\n",
    "    print(\"Student class\")\n",
    "    def __init__(self,name,age,mobile,aadhar,a=0):\n",
    "        print(\"Student class initializer\")\n",
    "        super().__init__(name,age,mobile,aadhar,a)\n",
    "    #\n",
    "#"
   ]
  },
  {
   "cell_type": "code",
   "execution_count": 14,
   "metadata": {},
   "outputs": [],
   "source": [
    "s1 = Student(\n",
    "    name=\"Govinda\",\n",
    "    age=20,\n",
    "    mobile=\"\",\n",
    "    aadhar=\"\"\n",
    ")"
   ]
  },
  {
   "cell_type": "code",
   "execution_count": 15,
   "metadata": {},
   "outputs": [],
   "source": [
    "s1.get_address_attributes()"
   ]
  },
  {
   "cell_type": "code",
   "execution_count": 28,
   "metadata": {},
   "outputs": [],
   "source": [
    "s1 = Student(\n",
    "    name=\"Krishna\",\n",
    "    age=19,\n",
    "    mobile=\"7878787878\",\n",
    "    aadhar=\"123456789012\",\n",
    "    dno=\"12-2-2\",\n",
    "    hname=\"Om Nilayam\",\n",
    "    street=\"Sri nagar\",\n",
    "    location=\"Vijayawada\",\n",
    "    pincode=520012,\n",
    "    sId=\"20CSE12\",\n",
    "    yoj=\"2019\",\n",
    "    branch=\"CSE\",\n",
    "    section=\"B\"\n",
    ")"
   ]
  },
  {
   "cell_type": "code",
   "execution_count": 29,
   "metadata": {},
   "outputs": [],
   "source": [
    "s1.get_address_attributes()"
   ]
  },
  {
   "cell_type": "code",
   "execution_count": 30,
   "metadata": {},
   "outputs": [],
   "source": [
    "s1.get_person_attributes()"
   ]
  },
  {
   "cell_type": "code",
   "execution_count": 31,
   "metadata": {},
   "outputs": [],
   "source": [
    "s1.get_student_attributes()"
   ]
  },
  {
   "cell_type": "code",
   "execution_count": 26,
   "metadata": {},
   "outputs": [],
   "source": [
    "s1.get_all_attributes()"
   ]
  },
  {
   "cell_type": "code",
   "execution_count": null,
   "metadata": {},
   "outputs": [],
   "source": [
    "class Student(Person, Address):\n",
    "    print(\"Student class\")\n",
    "    def __init__(self):\n",
    "        print(\"Student class intializer\")\n",
    "#"
   ]
  }
 ],
 "metadata": {
  "kernelspec": {
   "display_name": "Python 3",
   "language": "python",
   "name": "python3"
  },
  "language_info": {
   "codemirror_mode": {
    "name": "ipython",
    "version": 3
   },
   "file_extension": ".py",
   "mimetype": "text/x-python",
   "name": "python",
   "nbconvert_exporter": "python",
   "pygments_lexer": "ipython3",
   "version": "3.12.8"
  }
 },
 "nbformat": 4,
 "nbformat_minor": 2
}
