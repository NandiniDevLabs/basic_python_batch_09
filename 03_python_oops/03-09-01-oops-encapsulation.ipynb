{
 "cells": [
  {
   "cell_type": "markdown",
   "metadata": {},
   "source": [
    "# OOPs - Encapsulation"
   ]
  },
  {
   "cell_type": "code",
   "execution_count": 13,
   "metadata": {},
   "outputs": [
    {
     "name": "stdout",
     "output_type": "stream",
     "text": [
      "Person class\n"
     ]
    }
   ],
   "source": [
    "class Person:\n",
    "    print(\"Person class\")\n",
    "    def __init__(self,name,age,mobile,aadhar):\n",
    "        print(\"Person class initializer\")\n",
    "        self.name = name\n",
    "        self.age = age  # Public Attribute\n",
    "        self.mobile = mobile\n",
    "        self.aadhar = aadhar\n",
    "    #\n",
    "    \n",
    "    def get_attributes(self):\n",
    "        return {\"name\": self.name, \"age\": self.age, \n",
    "                \"mobile\": self.mobile, \"aadhar\":self.aadhar}"
   ]
  },
  {
   "cell_type": "code",
   "execution_count": 14,
   "metadata": {},
   "outputs": [
    {
     "name": "stdout",
     "output_type": "stream",
     "text": [
      "Person class initializer\n"
     ]
    }
   ],
   "source": [
    "person1 = Person(\n",
    "    name=\"Krishna\",\n",
    "    age=19,\n",
    "    mobile=\"7878787878\",\n",
    "    aadhar=\"123456789012\",\n",
    ")"
   ]
  },
  {
   "cell_type": "code",
   "execution_count": 15,
   "metadata": {},
   "outputs": [
    {
     "name": "stdout",
     "output_type": "stream",
     "text": [
      "person1.__class__\n",
      "person1.__delattr__\n",
      "person1.__dict__\n",
      "person1.__dir__\n",
      "person1.__doc__\n",
      "person1.__eq__\n",
      "person1.__format__\n",
      "person1.__ge__\n",
      "person1.__getattribute__\n",
      "person1.__getstate__\n",
      "person1.__gt__\n",
      "person1.__hash__\n",
      "person1.__init__\n",
      "person1.__init_subclass__\n",
      "person1.__le__\n",
      "person1.__lt__\n",
      "person1.__module__\n",
      "person1.__ne__\n",
      "person1.__new__\n",
      "person1.__reduce__\n",
      "person1.__reduce_ex__\n",
      "person1.__repr__\n",
      "person1.__setattr__\n",
      "person1.__sizeof__\n",
      "person1.__str__\n",
      "person1.__subclasshook__\n",
      "person1.__weakref__\n",
      "person1.aadhar\n",
      "person1.age\n",
      "person1.get_attributes\n",
      "person1.mobile\n",
      "person1.name"
     ]
    }
   ],
   "source": [
    "person1.*?"
   ]
  },
  {
   "cell_type": "code",
   "execution_count": 6,
   "metadata": {},
   "outputs": [
    {
     "data": {
      "text/plain": [
       "'Krishna'"
      ]
     },
     "execution_count": 6,
     "metadata": {},
     "output_type": "execute_result"
    }
   ],
   "source": [
    "person1.name"
   ]
  },
  {
   "cell_type": "code",
   "execution_count": 7,
   "metadata": {},
   "outputs": [],
   "source": [
    "person1.name = \"Gopi\""
   ]
  },
  {
   "cell_type": "code",
   "execution_count": 8,
   "metadata": {},
   "outputs": [
    {
     "data": {
      "text/plain": [
       "'Gopi'"
      ]
     },
     "execution_count": 8,
     "metadata": {},
     "output_type": "execute_result"
    }
   ],
   "source": [
    "person1.name"
   ]
  },
  {
   "cell_type": "code",
   "execution_count": 9,
   "metadata": {},
   "outputs": [
    {
     "data": {
      "text/plain": [
       "19"
      ]
     },
     "execution_count": 9,
     "metadata": {},
     "output_type": "execute_result"
    }
   ],
   "source": [
    "person1.age"
   ]
  },
  {
   "cell_type": "code",
   "execution_count": 10,
   "metadata": {},
   "outputs": [],
   "source": [
    "person1.age = -100"
   ]
  },
  {
   "cell_type": "code",
   "execution_count": 11,
   "metadata": {},
   "outputs": [
    {
     "data": {
      "text/plain": [
       "-100"
      ]
     },
     "execution_count": 11,
     "metadata": {},
     "output_type": "execute_result"
    }
   ],
   "source": [
    "person1.age"
   ]
  },
  {
   "cell_type": "code",
   "execution_count": 29,
   "metadata": {},
   "outputs": [
    {
     "name": "stdout",
     "output_type": "stream",
     "text": [
      "Person class\n"
     ]
    }
   ],
   "source": [
    "class Person:\n",
    "    print(\"Person class\")\n",
    "    def __init__(self,name,age,mobile,aadhar):\n",
    "        print(\"Person class initializer\")\n",
    "        self.name = name\n",
    "        self.__age = age   # Private Attribute\n",
    "        self.mobile = mobile\n",
    "        self.aadhar = aadhar\n",
    "    \n",
    "    def get_age(self):\n",
    "        return self.__age\n",
    "\n",
    "    def set_age(self, new_age):\n",
    "        if new_age>0:\n",
    "            self.__age = new_age\n",
    "        else:\n",
    "            self.__age = 0\n",
    "    \n",
    "    def get_attributes(self):\n",
    "        return {\"name\": self.name, \"age\": self.age, \n",
    "                \"mobile\": self.mobile, \"aadhar\":self.aadhar}"
   ]
  },
  {
   "cell_type": "code",
   "execution_count": 30,
   "metadata": {},
   "outputs": [
    {
     "name": "stdout",
     "output_type": "stream",
     "text": [
      "Person class initializer\n"
     ]
    }
   ],
   "source": [
    "person2 = Person(\n",
    "    name=\"Krishna\",\n",
    "    age=29,\n",
    "    mobile=\"7878787878\",\n",
    "    aadhar=\"123456789012\",\n",
    ")"
   ]
  },
  {
   "cell_type": "code",
   "execution_count": 31,
   "metadata": {},
   "outputs": [
    {
     "name": "stdout",
     "output_type": "stream",
     "text": [
      "person2.__class__\n",
      "person2.__delattr__\n",
      "person2.__dict__\n",
      "person2.__dir__\n",
      "person2.__doc__\n",
      "person2.__eq__\n",
      "person2.__format__\n",
      "person2.__ge__\n",
      "person2.__getattribute__\n",
      "person2.__getstate__\n",
      "person2.__gt__\n",
      "person2.__hash__\n",
      "person2.__init__\n",
      "person2.__init_subclass__\n",
      "person2.__le__\n",
      "person2.__lt__\n",
      "person2.__module__\n",
      "person2.__ne__\n",
      "person2.__new__\n",
      "person2.__reduce__\n",
      "person2.__reduce_ex__\n",
      "person2.__repr__\n",
      "person2.__setattr__\n",
      "person2.__sizeof__\n",
      "person2.__str__\n",
      "person2.__subclasshook__\n",
      "person2.__weakref__\n",
      "person2.aadhar\n",
      "person2.get_age\n",
      "person2.get_attributes\n",
      "person2.mobile\n",
      "person2.name\n",
      "person2.set_age"
     ]
    }
   ],
   "source": [
    "person2.*?"
   ]
  },
  {
   "cell_type": "code",
   "execution_count": 32,
   "metadata": {},
   "outputs": [
    {
     "data": {
      "text/plain": [
       "29"
      ]
     },
     "execution_count": 32,
     "metadata": {},
     "output_type": "execute_result"
    }
   ],
   "source": [
    "person2.get_age()"
   ]
  },
  {
   "cell_type": "code",
   "execution_count": 34,
   "metadata": {},
   "outputs": [
    {
     "ename": "AttributeError",
     "evalue": "'Person' object has no attribute '__age'",
     "output_type": "error",
     "traceback": [
      "\u001b[1;31m---------------------------------------------------------------------------\u001b[0m",
      "\u001b[1;31mAttributeError\u001b[0m                            Traceback (most recent call last)",
      "Cell \u001b[1;32mIn[34], line 1\u001b[0m\n\u001b[1;32m----> 1\u001b[0m \u001b[43mperson2\u001b[49m\u001b[38;5;241;43m.\u001b[39;49m\u001b[43m__age\u001b[49m  \u001b[38;5;66;03m# Private atrributes are not accessible \u001b[39;00m\n",
      "\u001b[1;31mAttributeError\u001b[0m: 'Person' object has no attribute '__age'"
     ]
    }
   ],
   "source": [
    "person2.__age  # Private atrributes are not accessible "
   ]
  },
  {
   "cell_type": "code",
   "execution_count": 35,
   "metadata": {},
   "outputs": [],
   "source": [
    "person2.set_age(-100)"
   ]
  },
  {
   "cell_type": "code",
   "execution_count": 36,
   "metadata": {},
   "outputs": [
    {
     "data": {
      "text/plain": [
       "0"
      ]
     },
     "execution_count": 36,
     "metadata": {},
     "output_type": "execute_result"
    }
   ],
   "source": [
    "person2.get_age()"
   ]
  },
  {
   "cell_type": "code",
   "execution_count": 37,
   "metadata": {},
   "outputs": [],
   "source": [
    "person2.set_age(23)"
   ]
  },
  {
   "cell_type": "code",
   "execution_count": 38,
   "metadata": {},
   "outputs": [
    {
     "data": {
      "text/plain": [
       "23"
      ]
     },
     "execution_count": 38,
     "metadata": {},
     "output_type": "execute_result"
    }
   ],
   "source": [
    "person2.get_age()"
   ]
  },
  {
   "cell_type": "code",
   "execution_count": 9,
   "metadata": {},
   "outputs": [],
   "source": [
    "# For every attribute, getter and setter methods are created to read and write attribute values"
   ]
  },
  {
   "cell_type": "code",
   "execution_count": 50,
   "metadata": {},
   "outputs": [
    {
     "name": "stdout",
     "output_type": "stream",
     "text": [
      "Person class\n"
     ]
    }
   ],
   "source": [
    "class Person:\n",
    "    print(\"Person class\")\n",
    "    def __init__(self,name,age,mobile,aadhar):\n",
    "        print(\"Person class initializer\")\n",
    "        self.name = name\n",
    "        self.age = age\n",
    "        self.mobile = mobile\n",
    "        self.aadhar = aadhar\n",
    "    \n",
    "    def get_name(self):\n",
    "        return self.name\n",
    "    \n",
    "    def set_name(self,new_name):\n",
    "        self.name = new_name\n",
    "\n",
    "    def get_age(self):\n",
    "        return self.age\n",
    "\n",
    "    def set_age(self, new_age):\n",
    "        if new_age>0:\n",
    "            self.age = new_age\n",
    "        #\n",
    "    \n",
    "    def get_attributes(self):\n",
    "        return {\"name\": self.name, \"age\": self.age, \n",
    "                \"mobile\": self.mobile, \"aadhar\":self.aadhar}"
   ]
  },
  {
   "cell_type": "code",
   "execution_count": 51,
   "metadata": {},
   "outputs": [
    {
     "name": "stdout",
     "output_type": "stream",
     "text": [
      "Person class initializer\n"
     ]
    }
   ],
   "source": [
    "person1 = Person(\n",
    "    name=\"Krishna\",\n",
    "    age=19,\n",
    "    mobile=\"7878787878\",\n",
    "    aadhar=\"123456789012\",\n",
    ")"
   ]
  },
  {
   "cell_type": "code",
   "execution_count": 42,
   "metadata": {},
   "outputs": [
    {
     "data": {
      "text/plain": [
       "'Krishna'"
      ]
     },
     "execution_count": 42,
     "metadata": {},
     "output_type": "execute_result"
    }
   ],
   "source": [
    "person1.name  # Not recommended"
   ]
  },
  {
   "cell_type": "code",
   "execution_count": 44,
   "metadata": {},
   "outputs": [
    {
     "data": {
      "text/plain": [
       "'Krishna'"
      ]
     },
     "execution_count": 44,
     "metadata": {},
     "output_type": "execute_result"
    }
   ],
   "source": [
    "person1.get_name()  # Recommended"
   ]
  },
  {
   "cell_type": "code",
   "execution_count": 46,
   "metadata": {},
   "outputs": [],
   "source": [
    "# person1.name = \"Gopi\"  # Not recommended\n",
    "\n",
    "person1.set_name(\"Gopi\") # Recommended"
   ]
  },
  {
   "cell_type": "code",
   "execution_count": 47,
   "metadata": {},
   "outputs": [
    {
     "data": {
      "text/plain": [
       "'Gopi'"
      ]
     },
     "execution_count": 47,
     "metadata": {},
     "output_type": "execute_result"
    }
   ],
   "source": [
    "person1.get_name()"
   ]
  },
  {
   "cell_type": "code",
   "execution_count": 52,
   "metadata": {},
   "outputs": [
    {
     "data": {
      "text/plain": [
       "19"
      ]
     },
     "execution_count": 52,
     "metadata": {},
     "output_type": "execute_result"
    }
   ],
   "source": [
    "person1.get_age()"
   ]
  },
  {
   "cell_type": "code",
   "execution_count": 53,
   "metadata": {},
   "outputs": [],
   "source": [
    "# person1.age = -100 # Not recommended\n",
    "person1.set_age(-100) # Recommended"
   ]
  },
  {
   "cell_type": "code",
   "execution_count": 54,
   "metadata": {},
   "outputs": [
    {
     "data": {
      "text/plain": [
       "19"
      ]
     },
     "execution_count": 54,
     "metadata": {},
     "output_type": "execute_result"
    }
   ],
   "source": [
    "person1.get_age()"
   ]
  },
  {
   "cell_type": "code",
   "execution_count": 55,
   "metadata": {},
   "outputs": [],
   "source": [
    "person1.set_age(23) # Recommended"
   ]
  },
  {
   "cell_type": "code",
   "execution_count": 56,
   "metadata": {},
   "outputs": [
    {
     "data": {
      "text/plain": [
       "23"
      ]
     },
     "execution_count": 56,
     "metadata": {},
     "output_type": "execute_result"
    }
   ],
   "source": [
    "person1.get_age()"
   ]
  },
  {
   "cell_type": "code",
   "execution_count": 57,
   "metadata": {},
   "outputs": [
    {
     "data": {
      "text/plain": [
       "{'name': 'Krishna',\n",
       " 'age': 23,\n",
       " 'mobile': '7878787878',\n",
       " 'aadhar': '123456789012'}"
      ]
     },
     "execution_count": 57,
     "metadata": {},
     "output_type": "execute_result"
    }
   ],
   "source": [
    "person1.get_attributes()"
   ]
  },
  {
   "cell_type": "code",
   "execution_count": 58,
   "metadata": {},
   "outputs": [
    {
     "name": "stdout",
     "output_type": "stream",
     "text": [
      "Person class\n"
     ]
    }
   ],
   "source": [
    "class Person:\n",
    "    print(\"Person class\")\n",
    "    def __init__(self,name,age,mobile,aadhar):\n",
    "        print(\"Person class initializer\")\n",
    "        self.name = name\n",
    "        self.age = age\n",
    "        self.mobile = mobile\n",
    "        self.aadhar = aadhar\n",
    "    \n",
    "    # Getter for attribute: name\n",
    "    def get_name(self):\n",
    "        return self.name\n",
    "    \n",
    "    # Setter for attribute: name\n",
    "    def set_name(self,new_name):\n",
    "        self.name = new_name\n",
    "\n",
    "    # Getter for attribute: age\n",
    "    def get_age(self):\n",
    "        return self.age\n",
    "    \n",
    "    # Setter for attribute: age\n",
    "    def set_age(self,new_age):\n",
    "        if new_age > 0:\n",
    "            self.age = new_age\n",
    "        else:\n",
    "            print(\"New age is less than zero and hence no changes are made.\")\n",
    "            # self.age = 0\n",
    "\n",
    "    # Getter for attribute: mobile\n",
    "    def get_mobile(self):\n",
    "        return self.mobile\n",
    "    \n",
    "    # Setter for attribute: mobile\n",
    "    def set_mobile(self,new_mobile):\n",
    "        self.mobile = new_mobile\n",
    "\n",
    "    # Getter for attribute: aadhar\n",
    "    def get_aadhar(self):\n",
    "        return self.aadhar\n",
    "    \n",
    "    # Setter for attribute: aadhar\n",
    "    def set_aadhar(self,new_aadhar):\n",
    "        self.aadhar = new_aadhar\n",
    "    \n",
    "    def get_attributes(self):\n",
    "        return {\"name\": self.name, \"age\": self.age, \n",
    "                \"mobile\": self.mobile, \"aadhar\":self.aadhar}"
   ]
  },
  {
   "cell_type": "code",
   "execution_count": 59,
   "metadata": {},
   "outputs": [
    {
     "name": "stdout",
     "output_type": "stream",
     "text": [
      "Person class initializer\n"
     ]
    }
   ],
   "source": [
    "person1 = Person(\n",
    "    name=\"Krishna\",\n",
    "    age=19,\n",
    "    mobile=\"7878787878\",\n",
    "    aadhar=\"123456789012\",\n",
    ")"
   ]
  },
  {
   "cell_type": "code",
   "execution_count": 60,
   "metadata": {},
   "outputs": [
    {
     "data": {
      "text/plain": [
       "{'name': 'Krishna',\n",
       " 'age': 19,\n",
       " 'mobile': '7878787878',\n",
       " 'aadhar': '123456789012'}"
      ]
     },
     "execution_count": 60,
     "metadata": {},
     "output_type": "execute_result"
    }
   ],
   "source": [
    "person1.get_attributes()"
   ]
  },
  {
   "cell_type": "code",
   "execution_count": 61,
   "metadata": {},
   "outputs": [],
   "source": [
    "person1.set_age(54)"
   ]
  },
  {
   "cell_type": "code",
   "execution_count": 62,
   "metadata": {},
   "outputs": [
    {
     "data": {
      "text/plain": [
       "{'name': 'Krishna',\n",
       " 'age': 54,\n",
       " 'mobile': '7878787878',\n",
       " 'aadhar': '123456789012'}"
      ]
     },
     "execution_count": 62,
     "metadata": {},
     "output_type": "execute_result"
    }
   ],
   "source": [
    "person1.get_attributes()"
   ]
  },
  {
   "cell_type": "code",
   "execution_count": 63,
   "metadata": {},
   "outputs": [
    {
     "name": "stdout",
     "output_type": "stream",
     "text": [
      "New age is less than zero and hence no changes are made.\n"
     ]
    }
   ],
   "source": [
    "person1.set_age(-10)"
   ]
  },
  {
   "cell_type": "code",
   "execution_count": 64,
   "metadata": {},
   "outputs": [
    {
     "data": {
      "text/plain": [
       "{'name': 'Krishna',\n",
       " 'age': 54,\n",
       " 'mobile': '7878787878',\n",
       " 'aadhar': '123456789012'}"
      ]
     },
     "execution_count": 64,
     "metadata": {},
     "output_type": "execute_result"
    }
   ],
   "source": [
    "person1.get_attributes()"
   ]
  },
  {
   "cell_type": "markdown",
   "metadata": {},
   "source": [
    "# --"
   ]
  },
  {
   "cell_type": "code",
   "execution_count": 65,
   "metadata": {},
   "outputs": [
    {
     "name": "stdout",
     "output_type": "stream",
     "text": [
      "Person class\n"
     ]
    }
   ],
   "source": [
    "class Person:\n",
    "    print(\"Person class\")\n",
    "    def __init__(self,name,age,mobile,aadhar):\n",
    "        print(\"Person class initializer\")\n",
    "        self.name = name\n",
    "        self.age = age\n",
    "        self.mobile = mobile\n",
    "        self.aadhar = aadhar\n",
    "    \n",
    "    def getName(self):   \n",
    "        return self.name\n",
    "    \n",
    "    def setName(self,new_name):\n",
    "        self.name = new_name\n",
    "\n",
    "    def getAge(self):\n",
    "        return self.age\n",
    "\n",
    "    def setAge(self, new_age):\n",
    "        if new_age>0:\n",
    "            self.age = new_age\n",
    "        else:\n",
    "            print(\"New age cannot be less than zero, hence no changes are made.\")\n",
    "    \n",
    "    def get_attributes(self):\n",
    "        return {\"name\": self.name, \"age\": self.age, \n",
    "                \"mobile\": self.mobile, \"aadhar\":self.aadhar}"
   ]
  },
  {
   "cell_type": "code",
   "execution_count": 66,
   "metadata": {},
   "outputs": [
    {
     "name": "stdout",
     "output_type": "stream",
     "text": [
      "Person class initializer\n"
     ]
    }
   ],
   "source": [
    "person1 = Person(\n",
    "    name=\"Krishna\",\n",
    "    age=19,\n",
    "    mobile=\"7878787878\",\n",
    "    aadhar=\"123456789012\",\n",
    ")"
   ]
  },
  {
   "cell_type": "code",
   "execution_count": 68,
   "metadata": {},
   "outputs": [],
   "source": [
    "person1.setAge(54)"
   ]
  },
  {
   "cell_type": "code",
   "execution_count": 69,
   "metadata": {},
   "outputs": [
    {
     "data": {
      "text/plain": [
       "{'name': 'Krishna',\n",
       " 'age': 54,\n",
       " 'mobile': '7878787878',\n",
       " 'aadhar': '123456789012'}"
      ]
     },
     "execution_count": 69,
     "metadata": {},
     "output_type": "execute_result"
    }
   ],
   "source": [
    "person1.get_attributes()"
   ]
  },
  {
   "cell_type": "code",
   "execution_count": 70,
   "metadata": {},
   "outputs": [
    {
     "name": "stdout",
     "output_type": "stream",
     "text": [
      "New age cannot be less than zero, hence no changes are made.\n"
     ]
    }
   ],
   "source": [
    "person1.setAge(-10)"
   ]
  },
  {
   "cell_type": "code",
   "execution_count": 71,
   "metadata": {},
   "outputs": [
    {
     "data": {
      "text/plain": [
       "{'name': 'Krishna',\n",
       " 'age': 54,\n",
       " 'mobile': '7878787878',\n",
       " 'aadhar': '123456789012'}"
      ]
     },
     "execution_count": 71,
     "metadata": {},
     "output_type": "execute_result"
    }
   ],
   "source": [
    "person1.get_attributes()"
   ]
  },
  {
   "cell_type": "code",
   "execution_count": null,
   "metadata": {},
   "outputs": [],
   "source": []
  },
  {
   "cell_type": "markdown",
   "metadata": {},
   "source": [
    "### Access types of attributes\n",
    "1. public\n",
    "    - acessible everywhere (within the class, sub-classes, object) - Read and write operations\n",
    "    - Ex: name, age, mobile\n",
    "2. protected\n",
    "    - accessible within (same) class and sub-class. And not accessible in objects.\n",
    "    - Ex: _name, _age, _mobile etc.,\n",
    "3. private\n",
    "    - only accessible within same class. And not accessible in sub-classes and objects.\n",
    "    - Ex: __name, __age, __mobile"
   ]
  },
  {
   "cell_type": "markdown",
   "metadata": {},
   "source": [
    "# Public"
   ]
  },
  {
   "cell_type": "code",
   "execution_count": 72,
   "metadata": {},
   "outputs": [
    {
     "name": "stdout",
     "output_type": "stream",
     "text": [
      "Person class\n"
     ]
    }
   ],
   "source": [
    "class PublicPerson:\n",
    "    print(\"Person class\")\n",
    "    def __init__(self,name,age):\n",
    "        print(\"Person class initializer\")\n",
    "        self.name = name  # Public\n",
    "        self.age = age     # Public\n",
    "    \n",
    "    def get_attributes(self):\n",
    "        return {\"name\": self.name, \"age\": self.age}"
   ]
  },
  {
   "cell_type": "code",
   "execution_count": 73,
   "metadata": {},
   "outputs": [
    {
     "name": "stdout",
     "output_type": "stream",
     "text": [
      "Person class initializer\n"
     ]
    }
   ],
   "source": [
    "p1 = PublicPerson(\n",
    "    name=\"Krishna\",\n",
    "    age=45\n",
    ")"
   ]
  },
  {
   "cell_type": "code",
   "execution_count": 74,
   "metadata": {},
   "outputs": [
    {
     "name": "stdout",
     "output_type": "stream",
     "text": [
      "p1.__class__\n",
      "p1.__delattr__\n",
      "p1.__dict__\n",
      "p1.__dir__\n",
      "p1.__doc__\n",
      "p1.__eq__\n",
      "p1.__format__\n",
      "p1.__ge__\n",
      "p1.__getattribute__\n",
      "p1.__getstate__\n",
      "p1.__gt__\n",
      "p1.__hash__\n",
      "p1.__init__\n",
      "p1.__init_subclass__\n",
      "p1.__le__\n",
      "p1.__lt__\n",
      "p1.__module__\n",
      "p1.__ne__\n",
      "p1.__new__\n",
      "p1.__reduce__\n",
      "p1.__reduce_ex__\n",
      "p1.__repr__\n",
      "p1.__setattr__\n",
      "p1.__sizeof__\n",
      "p1.__str__\n",
      "p1.__subclasshook__\n",
      "p1.__weakref__\n",
      "p1.age\n",
      "p1.get_attributes\n",
      "p1.name"
     ]
    }
   ],
   "source": [
    "p1.*?"
   ]
  },
  {
   "cell_type": "code",
   "execution_count": 75,
   "metadata": {},
   "outputs": [
    {
     "data": {
      "text/plain": [
       "45"
      ]
     },
     "execution_count": 75,
     "metadata": {},
     "output_type": "execute_result"
    }
   ],
   "source": [
    "p1.age"
   ]
  },
  {
   "cell_type": "code",
   "execution_count": 76,
   "metadata": {},
   "outputs": [
    {
     "data": {
      "text/plain": [
       "'Krishna'"
      ]
     },
     "execution_count": 76,
     "metadata": {},
     "output_type": "execute_result"
    }
   ],
   "source": [
    "p1.name"
   ]
  },
  {
   "cell_type": "code",
   "execution_count": 77,
   "metadata": {},
   "outputs": [],
   "source": [
    "p1.name = \"Ram\""
   ]
  },
  {
   "cell_type": "code",
   "execution_count": 78,
   "metadata": {},
   "outputs": [
    {
     "data": {
      "text/plain": [
       "{'name': 'Ram', 'age': 45}"
      ]
     },
     "execution_count": 78,
     "metadata": {},
     "output_type": "execute_result"
    }
   ],
   "source": [
    "p1.get_attributes()"
   ]
  },
  {
   "cell_type": "code",
   "execution_count": 82,
   "metadata": {},
   "outputs": [],
   "source": [
    "# Sub-class\n",
    "class Student(PublicPerson):\n",
    "    def __init__(self,name,age,sid):\n",
    "        print(\"Student class initializer\")\n",
    "        super().__init__(name,age)\n",
    "        print(\"Creating Student class attribute\")\n",
    "        self.sid = sid\n",
    "        print(\"Returning from Student class initializer\")\n",
    "    #\n",
    "\n",
    "    def get_all_attributes(self):\n",
    "        return {\"name\": self.name, \"age\": self.age, \"sid\":self.sid}"
   ]
  },
  {
   "cell_type": "code",
   "execution_count": 83,
   "metadata": {},
   "outputs": [
    {
     "name": "stdout",
     "output_type": "stream",
     "text": [
      "Student class initializer\n",
      "Person class initializer\n",
      "Creating Student class attribute\n",
      "Returning from Student class initializer\n"
     ]
    }
   ],
   "source": [
    "s1 = Student(\n",
    "    name='Krishna',\n",
    "    age=20,\n",
    "    sid=1234\n",
    ")"
   ]
  },
  {
   "cell_type": "code",
   "execution_count": 84,
   "metadata": {},
   "outputs": [
    {
     "name": "stdout",
     "output_type": "stream",
     "text": [
      "s1.__class__\n",
      "s1.__delattr__\n",
      "s1.__dict__\n",
      "s1.__dir__\n",
      "s1.__doc__\n",
      "s1.__eq__\n",
      "s1.__format__\n",
      "s1.__ge__\n",
      "s1.__getattribute__\n",
      "s1.__getstate__\n",
      "s1.__gt__\n",
      "s1.__hash__\n",
      "s1.__init__\n",
      "s1.__init_subclass__\n",
      "s1.__le__\n",
      "s1.__lt__\n",
      "s1.__module__\n",
      "s1.__ne__\n",
      "s1.__new__\n",
      "s1.__reduce__\n",
      "s1.__reduce_ex__\n",
      "s1.__repr__\n",
      "s1.__setattr__\n",
      "s1.__sizeof__\n",
      "s1.__str__\n",
      "s1.__subclasshook__\n",
      "s1.__weakref__\n",
      "s1.age\n",
      "s1.get_all_attributes\n",
      "s1.get_attributes\n",
      "s1.name\n",
      "s1.sid"
     ]
    }
   ],
   "source": [
    "s1.*?"
   ]
  },
  {
   "cell_type": "code",
   "execution_count": 85,
   "metadata": {},
   "outputs": [],
   "source": [
    "s1.age = 100"
   ]
  },
  {
   "cell_type": "code",
   "execution_count": 86,
   "metadata": {},
   "outputs": [
    {
     "data": {
      "text/plain": [
       "{'name': 'Krishna', 'age': 100, 'sid': 1234}"
      ]
     },
     "execution_count": 86,
     "metadata": {},
     "output_type": "execute_result"
    }
   ],
   "source": [
    "s1.get_all_attributes()"
   ]
  },
  {
   "cell_type": "code",
   "execution_count": null,
   "metadata": {},
   "outputs": [],
   "source": [
    "# Public attributes"
   ]
  },
  {
   "cell_type": "markdown",
   "metadata": {},
   "source": []
  },
  {
   "cell_type": "markdown",
   "metadata": {},
   "source": [
    "# Protected"
   ]
  },
  {
   "cell_type": "code",
   "execution_count": 87,
   "metadata": {},
   "outputs": [
    {
     "name": "stdout",
     "output_type": "stream",
     "text": [
      "Person class\n"
     ]
    }
   ],
   "source": [
    "class ProtectedPerson:\n",
    "    print(\"Person class\")\n",
    "    def __init__(self,name,age):\n",
    "        print(\"Person class initializer\")\n",
    "        self._name = name  # Protected : Accessible in same class and sub-class\n",
    "        self._age = age     # Protected\n",
    "    \n",
    "    def get_attributes(self):\n",
    "        return {\"name\": self._name, \"age\": self._age}"
   ]
  },
  {
   "cell_type": "code",
   "execution_count": 88,
   "metadata": {},
   "outputs": [
    {
     "name": "stdout",
     "output_type": "stream",
     "text": [
      "Person class initializer\n"
     ]
    }
   ],
   "source": [
    "p2 = ProtectedPerson(\n",
    "    name=\"Krishna\",\n",
    "    age=45\n",
    ")"
   ]
  },
  {
   "cell_type": "code",
   "execution_count": 89,
   "metadata": {},
   "outputs": [
    {
     "name": "stdout",
     "output_type": "stream",
     "text": [
      "p2.__class__\n",
      "p2.__delattr__\n",
      "p2.__dict__\n",
      "p2.__dir__\n",
      "p2.__doc__\n",
      "p2.__eq__\n",
      "p2.__format__\n",
      "p2.__ge__\n",
      "p2.__getattribute__\n",
      "p2.__getstate__\n",
      "p2.__gt__\n",
      "p2.__hash__\n",
      "p2.__init__\n",
      "p2.__init_subclass__\n",
      "p2.__le__\n",
      "p2.__lt__\n",
      "p2.__module__\n",
      "p2.__ne__\n",
      "p2.__new__\n",
      "p2.__reduce__\n",
      "p2.__reduce_ex__\n",
      "p2.__repr__\n",
      "p2.__setattr__\n",
      "p2.__sizeof__\n",
      "p2.__str__\n",
      "p2.__subclasshook__\n",
      "p2.__weakref__\n",
      "p2.get_attributes"
     ]
    }
   ],
   "source": [
    "p2.*?"
   ]
  },
  {
   "cell_type": "code",
   "execution_count": 90,
   "metadata": {},
   "outputs": [
    {
     "data": {
      "text/plain": [
       "{'name': 'Krishna', 'age': 45}"
      ]
     },
     "execution_count": 90,
     "metadata": {},
     "output_type": "execute_result"
    }
   ],
   "source": [
    "p2.get_attributes()"
   ]
  },
  {
   "cell_type": "code",
   "execution_count": 91,
   "metadata": {},
   "outputs": [
    {
     "name": "stdout",
     "output_type": "stream",
     "text": [
      "ProtectedPerson class\n"
     ]
    }
   ],
   "source": [
    "class ProtectedPerson:\n",
    "    print(\"ProtectedPerson class\")\n",
    "    def __init__(self,name,age):\n",
    "        print(\"ProtectedPerson class initializer\")\n",
    "        self._name = name  # Protected : Accessible in same class and sub-class\n",
    "        self._age = age     # Protected\n",
    "    \n",
    "    def getName(self):\n",
    "        return self._name\n",
    "    \n",
    "    def setName(self, new_name):\n",
    "        self._name = new_name\n",
    "    \n",
    "    def getAge(self):\n",
    "        return self._age\n",
    "    \n",
    "    def setAge(self, new_age):\n",
    "        self._age = new_age\n",
    "\n",
    "    def get_attributes(self):\n",
    "        return {\"name\": self._name, \"age\": self._age}"
   ]
  },
  {
   "cell_type": "code",
   "execution_count": 92,
   "metadata": {},
   "outputs": [
    {
     "name": "stdout",
     "output_type": "stream",
     "text": [
      "ProtectedPerson class initializer\n"
     ]
    }
   ],
   "source": [
    "p2 = ProtectedPerson(\n",
    "    name=\"Krishna\",\n",
    "    age=45\n",
    ")"
   ]
  },
  {
   "cell_type": "code",
   "execution_count": 93,
   "metadata": {},
   "outputs": [
    {
     "name": "stdout",
     "output_type": "stream",
     "text": [
      "p2.__class__\n",
      "p2.__delattr__\n",
      "p2.__dict__\n",
      "p2.__dir__\n",
      "p2.__doc__\n",
      "p2.__eq__\n",
      "p2.__format__\n",
      "p2.__ge__\n",
      "p2.__getattribute__\n",
      "p2.__getstate__\n",
      "p2.__gt__\n",
      "p2.__hash__\n",
      "p2.__init__\n",
      "p2.__init_subclass__\n",
      "p2.__le__\n",
      "p2.__lt__\n",
      "p2.__module__\n",
      "p2.__ne__\n",
      "p2.__new__\n",
      "p2.__reduce__\n",
      "p2.__reduce_ex__\n",
      "p2.__repr__\n",
      "p2.__setattr__\n",
      "p2.__sizeof__\n",
      "p2.__str__\n",
      "p2.__subclasshook__\n",
      "p2.__weakref__\n",
      "p2.getAge\n",
      "p2.getName\n",
      "p2.get_attributes\n",
      "p2.setAge\n",
      "p2.setName"
     ]
    }
   ],
   "source": [
    "p2.*?"
   ]
  },
  {
   "cell_type": "code",
   "execution_count": 94,
   "metadata": {},
   "outputs": [
    {
     "data": {
      "text/plain": [
       "'Krishna'"
      ]
     },
     "execution_count": 94,
     "metadata": {},
     "output_type": "execute_result"
    }
   ],
   "source": [
    "p2.getName()  # Best practice"
   ]
  },
  {
   "cell_type": "code",
   "execution_count": 95,
   "metadata": {},
   "outputs": [],
   "source": [
    "p2.setName(\"Ram\") # Best practice"
   ]
  },
  {
   "cell_type": "code",
   "execution_count": 96,
   "metadata": {},
   "outputs": [
    {
     "data": {
      "text/plain": [
       "{'name': 'Ram', 'age': 45}"
      ]
     },
     "execution_count": 96,
     "metadata": {},
     "output_type": "execute_result"
    }
   ],
   "source": [
    "p2.get_attributes()"
   ]
  },
  {
   "cell_type": "code",
   "execution_count": 97,
   "metadata": {},
   "outputs": [],
   "source": [
    "class Student(ProtectedPerson):\n",
    "    def __init__(self,name,age,sId):\n",
    "        print(\"Student class initializer\")\n",
    "        super().__init__(name,age)\n",
    "        print(\"Creating Student class attribute\")\n",
    "        self._sId = sId   # Protected Attribute\n",
    "        print(\"Returning from Student class initializer\")\n",
    "\n",
    "    def getSId(self):\n",
    "        return self._sId\n",
    "\n",
    "    def setSId(self, new_sId):\n",
    "        self._sId = new_sId\n",
    "    \n",
    "    def get_all_attributes(self):\n",
    "        return {\"name\": self._name, \"age\": self._age,  \"sId\": self._sId}  "
   ]
  },
  {
   "cell_type": "code",
   "execution_count": 98,
   "metadata": {},
   "outputs": [
    {
     "name": "stdout",
     "output_type": "stream",
     "text": [
      "Student class initializer\n",
      "ProtectedPerson class initializer\n",
      "Creating Student class attribute\n",
      "Returning from Student class initializer\n"
     ]
    }
   ],
   "source": [
    "s2 = Student(\n",
    "    name=\"Krishna\",\n",
    "    age=\"19\",\n",
    "    sId=\"2020CSE432\"\n",
    ")"
   ]
  },
  {
   "cell_type": "code",
   "execution_count": 99,
   "metadata": {},
   "outputs": [
    {
     "data": {
      "text/plain": [
       "{'name': 'Krishna', 'age': '19', 'sId': '2020CSE432'}"
      ]
     },
     "execution_count": 99,
     "metadata": {},
     "output_type": "execute_result"
    }
   ],
   "source": [
    "s2.get_all_attributes()"
   ]
  },
  {
   "cell_type": "code",
   "execution_count": 100,
   "metadata": {},
   "outputs": [
    {
     "name": "stdout",
     "output_type": "stream",
     "text": [
      "s2.__class__\n",
      "s2.__delattr__\n",
      "s2.__dict__\n",
      "s2.__dir__\n",
      "s2.__doc__\n",
      "s2.__eq__\n",
      "s2.__format__\n",
      "s2.__ge__\n",
      "s2.__getattribute__\n",
      "s2.__getstate__\n",
      "s2.__gt__\n",
      "s2.__hash__\n",
      "s2.__init__\n",
      "s2.__init_subclass__\n",
      "s2.__le__\n",
      "s2.__lt__\n",
      "s2.__module__\n",
      "s2.__ne__\n",
      "s2.__new__\n",
      "s2.__reduce__\n",
      "s2.__reduce_ex__\n",
      "s2.__repr__\n",
      "s2.__setattr__\n",
      "s2.__sizeof__\n",
      "s2.__str__\n",
      "s2.__subclasshook__\n",
      "s2.__weakref__\n",
      "s2.getAge\n",
      "s2.getName\n",
      "s2.getSId\n",
      "s2.get_all_attributes\n",
      "s2.get_attributes\n",
      "s2.setAge\n",
      "s2.setName\n",
      "s2.setSId"
     ]
    }
   ],
   "source": [
    "s2.*?"
   ]
  },
  {
   "cell_type": "code",
   "execution_count": 101,
   "metadata": {},
   "outputs": [
    {
     "data": {
      "text/plain": [
       "'19'"
      ]
     },
     "execution_count": 101,
     "metadata": {},
     "output_type": "execute_result"
    }
   ],
   "source": [
    "s2.getAge()"
   ]
  },
  {
   "cell_type": "code",
   "execution_count": 102,
   "metadata": {},
   "outputs": [
    {
     "data": {
      "text/plain": [
       "'Krishna'"
      ]
     },
     "execution_count": 102,
     "metadata": {},
     "output_type": "execute_result"
    }
   ],
   "source": [
    "s2.getName()"
   ]
  },
  {
   "cell_type": "code",
   "execution_count": 103,
   "metadata": {},
   "outputs": [
    {
     "data": {
      "text/plain": [
       "'2020CSE432'"
      ]
     },
     "execution_count": 103,
     "metadata": {},
     "output_type": "execute_result"
    }
   ],
   "source": [
    "s2.getSId()"
   ]
  },
  {
   "cell_type": "markdown",
   "metadata": {},
   "source": [
    "# Private"
   ]
  },
  {
   "cell_type": "code",
   "execution_count": null,
   "metadata": {},
   "outputs": [],
   "source": [
    "class PrivatePerson:\n",
    "    print(\"Person class\")\n",
    "    def __init__(self,name,age):\n",
    "        print(\"Person class initializer\")\n",
    "        self.__name = name  # Private\n",
    "        self.__age = age     # Private\n",
    "    \n",
    "    def get_attributes(self):\n",
    "        return {\"name\": self.__name, \"age\": self.__age}"
   ]
  },
  {
   "cell_type": "code",
   "execution_count": null,
   "metadata": {},
   "outputs": [],
   "source": [
    "p3 = PrivatePerson(\n",
    "    name=\"Krishna\",\n",
    "    age=45\n",
    ")"
   ]
  },
  {
   "cell_type": "code",
   "execution_count": null,
   "metadata": {},
   "outputs": [],
   "source": [
    "p3.*?"
   ]
  },
  {
   "cell_type": "code",
   "execution_count": null,
   "metadata": {},
   "outputs": [],
   "source": [
    "p3.__name"
   ]
  },
  {
   "cell_type": "markdown",
   "metadata": {},
   "source": [
    "# Private Attributes"
   ]
  },
  {
   "cell_type": "code",
   "execution_count": 104,
   "metadata": {},
   "outputs": [
    {
     "name": "stdout",
     "output_type": "stream",
     "text": [
      "Person class\n"
     ]
    }
   ],
   "source": [
    "class PrivatePerson:\n",
    "    print(\"Person class\")\n",
    "    def __init__(self,name,age):\n",
    "        print(\"Person class initializer\")\n",
    "        self.__name = name  # Private Attribute: Accessible only in same class, not accessible in sub-class or object\n",
    "        self.__age = age     # Private\n",
    "\n",
    "    def getName(self):\n",
    "        return self.__name\n",
    "    \n",
    "    def getAge(self):\n",
    "        return self.__age\n",
    "    \n",
    "    def setName(self,new_name):\n",
    "        self.__name = new_name\n",
    "\n",
    "    def setAge(self,new_age):\n",
    "        self.__age = new_age\n",
    "    \n",
    "    def get_attributes(self):\n",
    "        return {\"name\": self.__name, \"age\": self.__age}"
   ]
  },
  {
   "cell_type": "code",
   "execution_count": 105,
   "metadata": {},
   "outputs": [
    {
     "name": "stdout",
     "output_type": "stream",
     "text": [
      "Person class initializer\n"
     ]
    }
   ],
   "source": [
    "p3 = PrivatePerson(\n",
    "    name=\"Krishna\",\n",
    "    age=45\n",
    ")"
   ]
  },
  {
   "cell_type": "code",
   "execution_count": 106,
   "metadata": {},
   "outputs": [
    {
     "name": "stdout",
     "output_type": "stream",
     "text": [
      "p3.__class__\n",
      "p3.__delattr__\n",
      "p3.__dict__\n",
      "p3.__dir__\n",
      "p3.__doc__\n",
      "p3.__eq__\n",
      "p3.__format__\n",
      "p3.__ge__\n",
      "p3.__getattribute__\n",
      "p3.__getstate__\n",
      "p3.__gt__\n",
      "p3.__hash__\n",
      "p3.__init__\n",
      "p3.__init_subclass__\n",
      "p3.__le__\n",
      "p3.__lt__\n",
      "p3.__module__\n",
      "p3.__ne__\n",
      "p3.__new__\n",
      "p3.__reduce__\n",
      "p3.__reduce_ex__\n",
      "p3.__repr__\n",
      "p3.__setattr__\n",
      "p3.__sizeof__\n",
      "p3.__str__\n",
      "p3.__subclasshook__\n",
      "p3.__weakref__\n",
      "p3.getAge\n",
      "p3.getName\n",
      "p3.get_attributes\n",
      "p3.setAge\n",
      "p3.setName"
     ]
    }
   ],
   "source": [
    "p3.*?"
   ]
  },
  {
   "cell_type": "code",
   "execution_count": 107,
   "metadata": {},
   "outputs": [
    {
     "ename": "AttributeError",
     "evalue": "'PrivatePerson' object has no attribute '__name'",
     "output_type": "error",
     "traceback": [
      "\u001b[1;31m---------------------------------------------------------------------------\u001b[0m",
      "\u001b[1;31mAttributeError\u001b[0m                            Traceback (most recent call last)",
      "Cell \u001b[1;32mIn[107], line 1\u001b[0m\n\u001b[1;32m----> 1\u001b[0m \u001b[43mp3\u001b[49m\u001b[38;5;241;43m.\u001b[39;49m\u001b[43m__name\u001b[49m\n",
      "\u001b[1;31mAttributeError\u001b[0m: 'PrivatePerson' object has no attribute '__name'"
     ]
    }
   ],
   "source": [
    "p3.__name"
   ]
  },
  {
   "cell_type": "code",
   "execution_count": 108,
   "metadata": {},
   "outputs": [
    {
     "data": {
      "text/plain": [
       "'Krishna'"
      ]
     },
     "execution_count": 108,
     "metadata": {},
     "output_type": "execute_result"
    }
   ],
   "source": [
    "p3.getName()"
   ]
  },
  {
   "cell_type": "code",
   "execution_count": 109,
   "metadata": {},
   "outputs": [],
   "source": [
    "class Student(PrivatePerson):\n",
    "    def __init__(self,name,age,sId):\n",
    "        print(\"Student Class Initializer\")\n",
    "        super().__init__(name,age)\n",
    "        self.__sId = sId   # Private\n",
    "        print(\"End of Student Class Initializer\")\n",
    "    \n",
    "    def getSId(self):\n",
    "        return self.__sId\n",
    "    \n",
    "    def setSId(self,new_sId):\n",
    "        self.__sId = new_sId\n",
    "    \n",
    "    def get_all_attributes(self):  # self.__name : private attribute is not accessible here (in sub-class)\n",
    "        return {\"name\": self.__name, \"age\": self.__age, \"sId\": self.__sId}"
   ]
  },
  {
   "cell_type": "code",
   "execution_count": 110,
   "metadata": {},
   "outputs": [
    {
     "name": "stdout",
     "output_type": "stream",
     "text": [
      "Student Class Initializer\n",
      "Person class initializer\n",
      "End of Student Class Initializer\n"
     ]
    }
   ],
   "source": [
    "s3 = Student(\n",
    "    name=\"Ram\",\n",
    "    age=\"19\",\n",
    "    sId=\"2020CSE432\"\n",
    ")"
   ]
  },
  {
   "cell_type": "code",
   "execution_count": 111,
   "metadata": {},
   "outputs": [
    {
     "name": "stdout",
     "output_type": "stream",
     "text": [
      "s3.__class__\n",
      "s3.__delattr__\n",
      "s3.__dict__\n",
      "s3.__dir__\n",
      "s3.__doc__\n",
      "s3.__eq__\n",
      "s3.__format__\n",
      "s3.__ge__\n",
      "s3.__getattribute__\n",
      "s3.__getstate__\n",
      "s3.__gt__\n",
      "s3.__hash__\n",
      "s3.__init__\n",
      "s3.__init_subclass__\n",
      "s3.__le__\n",
      "s3.__lt__\n",
      "s3.__module__\n",
      "s3.__ne__\n",
      "s3.__new__\n",
      "s3.__reduce__\n",
      "s3.__reduce_ex__\n",
      "s3.__repr__\n",
      "s3.__setattr__\n",
      "s3.__sizeof__\n",
      "s3.__str__\n",
      "s3.__subclasshook__\n",
      "s3.__weakref__\n",
      "s3.getAge\n",
      "s3.getName\n",
      "s3.getSId\n",
      "s3.get_all_attributes\n",
      "s3.get_attributes\n",
      "s3.setAge\n",
      "s3.setName\n",
      "s3.setSId"
     ]
    }
   ],
   "source": [
    "s3.*?"
   ]
  },
  {
   "cell_type": "code",
   "execution_count": 112,
   "metadata": {},
   "outputs": [
    {
     "data": {
      "text/plain": [
       "{'name': 'Ram', 'age': '19'}"
      ]
     },
     "execution_count": 112,
     "metadata": {},
     "output_type": "execute_result"
    }
   ],
   "source": [
    "s3.get_attributes()"
   ]
  },
  {
   "cell_type": "code",
   "execution_count": 114,
   "metadata": {},
   "outputs": [
    {
     "ename": "AttributeError",
     "evalue": "'Student' object has no attribute '_Student__name'",
     "output_type": "error",
     "traceback": [
      "\u001b[1;31m---------------------------------------------------------------------------\u001b[0m",
      "\u001b[1;31mAttributeError\u001b[0m                            Traceback (most recent call last)",
      "Cell \u001b[1;32mIn[114], line 1\u001b[0m\n\u001b[1;32m----> 1\u001b[0m \u001b[43ms3\u001b[49m\u001b[38;5;241;43m.\u001b[39;49m\u001b[43mget_all_attributes\u001b[49m\u001b[43m(\u001b[49m\u001b[43m)\u001b[49m\n",
      "Cell \u001b[1;32mIn[109], line 15\u001b[0m, in \u001b[0;36mStudent.get_all_attributes\u001b[1;34m(self)\u001b[0m\n\u001b[0;32m     14\u001b[0m \u001b[38;5;28;01mdef\u001b[39;00m\u001b[38;5;250m \u001b[39m\u001b[38;5;21mget_all_attributes\u001b[39m(\u001b[38;5;28mself\u001b[39m):\n\u001b[1;32m---> 15\u001b[0m     \u001b[38;5;28;01mreturn\u001b[39;00m {\u001b[38;5;124m\"\u001b[39m\u001b[38;5;124mname\u001b[39m\u001b[38;5;124m\"\u001b[39m: \u001b[38;5;28;43mself\u001b[39;49m\u001b[38;5;241;43m.\u001b[39;49m\u001b[43m__name\u001b[49m, \u001b[38;5;124m\"\u001b[39m\u001b[38;5;124mage\u001b[39m\u001b[38;5;124m\"\u001b[39m: \u001b[38;5;28mself\u001b[39m\u001b[38;5;241m.\u001b[39m__age, \u001b[38;5;124m\"\u001b[39m\u001b[38;5;124msId\u001b[39m\u001b[38;5;124m\"\u001b[39m: \u001b[38;5;28mself\u001b[39m\u001b[38;5;241m.\u001b[39m__sId}\n",
      "\u001b[1;31mAttributeError\u001b[0m: 'Student' object has no attribute '_Student__name'"
     ]
    }
   ],
   "source": [
    "s3.get_all_attributes()"
   ]
  },
  {
   "cell_type": "code",
   "execution_count": 119,
   "metadata": {},
   "outputs": [],
   "source": [
    "class Student(PrivatePerson):\n",
    "    def __init__(self,name,age,sId):\n",
    "        print(\"Student Class Initializer\")\n",
    "        super().__init__(name,age)\n",
    "        self.__sId = sId   # Private\n",
    "        print(\"End of Student Class Initializer\")\n",
    "    \n",
    "    def getSId(self):\n",
    "        return self.__sId\n",
    "    \n",
    "    def setSId(self,new_sId):\n",
    "        self.__sId = new_sId\n",
    "    \n",
    "    def get_all_attributes(self):  \n",
    "        return {\"name\": self.getName(), \"age\": self.getAge(), \"sId\": self.__sId}"
   ]
  },
  {
   "cell_type": "code",
   "execution_count": 120,
   "metadata": {},
   "outputs": [
    {
     "name": "stdout",
     "output_type": "stream",
     "text": [
      "Student Class Initializer\n",
      "Person class initializer\n",
      "End of Student Class Initializer\n"
     ]
    }
   ],
   "source": [
    "s3 = Student(\n",
    "    name=\"Ram\",\n",
    "    age=\"19\",\n",
    "    sId=\"2020CSE432\"\n",
    ")"
   ]
  },
  {
   "cell_type": "code",
   "execution_count": 121,
   "metadata": {},
   "outputs": [
    {
     "data": {
      "text/plain": [
       "{'name': 'Ram', 'age': '19', 'sId': '2020CSE432'}"
      ]
     },
     "execution_count": 121,
     "metadata": {},
     "output_type": "execute_result"
    }
   ],
   "source": [
    "s3.get_all_attributes()"
   ]
  },
  {
   "cell_type": "code",
   "execution_count": 122,
   "metadata": {},
   "outputs": [
    {
     "data": {
      "text/plain": [
       "'Ram'"
      ]
     },
     "execution_count": 122,
     "metadata": {},
     "output_type": "execute_result"
    }
   ],
   "source": [
    "s3.getName()"
   ]
  },
  {
   "cell_type": "code",
   "execution_count": 123,
   "metadata": {},
   "outputs": [
    {
     "ename": "AttributeError",
     "evalue": "'Student' object has no attribute '__name'",
     "output_type": "error",
     "traceback": [
      "\u001b[1;31m---------------------------------------------------------------------------\u001b[0m",
      "\u001b[1;31mAttributeError\u001b[0m                            Traceback (most recent call last)",
      "Cell \u001b[1;32mIn[123], line 1\u001b[0m\n\u001b[1;32m----> 1\u001b[0m \u001b[43ms3\u001b[49m\u001b[38;5;241;43m.\u001b[39;49m\u001b[43m__name\u001b[49m\n",
      "\u001b[1;31mAttributeError\u001b[0m: 'Student' object has no attribute '__name'"
     ]
    }
   ],
   "source": [
    "s3.__name"
   ]
  },
  {
   "cell_type": "code",
   "execution_count": null,
   "metadata": {},
   "outputs": [],
   "source": []
  }
 ],
 "metadata": {
  "kernelspec": {
   "display_name": "Python 3",
   "language": "python",
   "name": "python3"
  },
  "language_info": {
   "codemirror_mode": {
    "name": "ipython",
    "version": 3
   },
   "file_extension": ".py",
   "mimetype": "text/x-python",
   "name": "python",
   "nbconvert_exporter": "python",
   "pygments_lexer": "ipython3",
   "version": "3.12.8"
  }
 },
 "nbformat": 4,
 "nbformat_minor": 2
}
