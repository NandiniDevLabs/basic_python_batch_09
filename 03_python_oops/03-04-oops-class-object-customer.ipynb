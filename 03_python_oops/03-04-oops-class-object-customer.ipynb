{
 "cells": [
  {
   "cell_type": "code",
   "execution_count": 1,
   "metadata": {},
   "outputs": [
    {
     "name": "stdout",
     "output_type": "stream",
     "text": [
      "This is start of class Customer\n",
      "This is end of class Customer\n"
     ]
    }
   ],
   "source": [
    "class Customer:\n",
    "    print(\"This is start of class Customer\")\n",
    "\n",
    "    # __init__ will execute only once, when a new object is created\n",
    "    def __init__(self, first_name, last_name, age, mobile):\n",
    "        print(\"This is inside init method\")\n",
    "\n",
    "        # first_name, last_name, age, mobile : are the attributes of the class\n",
    "        self.first_name = first_name\n",
    "        self.last_name = last_name\n",
    "        self.age = age\n",
    "        self.mobile = mobile\n",
    "        print(f\"first_name: {self.first_name}     last_name: {self.last_name}\")\n",
    "        print(f\"age: {self.age}     mobile: {self.mobile}\")\n",
    "    #\n",
    "\n",
    "    # update_first_name, update_last_name: are the methods of the class\n",
    "    def update_first_name(self, new_first_name):\n",
    "        print(new_first_name)\n",
    "        self.first_name = new_first_name\n",
    "        print(f\"first_name is updated as: {self.first_name}\")\n",
    "    #\n",
    "\n",
    "    def update_last_name(self, lst_name):\n",
    "        print(lst_name)\n",
    "        self.last_name = lst_name\n",
    "        print(f\"last_name is updated as: {self.last_name}\")\n",
    "    #\n",
    "\n",
    "    ## Assignment\n",
    "    def update_age():\n",
    "        pass\n",
    "    #\n",
    "\n",
    "    ## Assignment\n",
    "    def update_mobile():\n",
    "        pass\n",
    "    #\n",
    "\n",
    "    print(\"This is end of class Customer\")"
   ]
  },
  {
   "cell_type": "code",
   "execution_count": 2,
   "metadata": {},
   "outputs": [
    {
     "name": "stdout",
     "output_type": "stream",
     "text": [
      "This is inside init method\n",
      "first_name: Sita     last_name: Lakshmi\n",
      "age: 25     mobile: 000000000\n"
     ]
    }
   ],
   "source": [
    "cust1 = Customer(first_name='Sita', last_name='Lakshmi', age=25, mobile=\"000000000\")"
   ]
  },
  {
   "cell_type": "code",
   "execution_count": 3,
   "metadata": {},
   "outputs": [
    {
     "name": "stdout",
     "output_type": "stream",
     "text": [
      "This is inside init method\n",
      "first_name: Ram     last_name: Narayana\n",
      "age: 27     mobile: 9876543210\n"
     ]
    }
   ],
   "source": [
    "cust2 = Customer('Ram', 'Narayana', 27, \"9876543210\")"
   ]
  },
  {
   "cell_type": "code",
   "execution_count": 4,
   "metadata": {},
   "outputs": [
    {
     "name": "stdout",
     "output_type": "stream",
     "text": [
      "This is inside init method\n",
      "first_name: Joseph     last_name: K\n",
      "age: 54     mobile: \n"
     ]
    }
   ],
   "source": [
    "cust3 = Customer('Joseph', 'K', 54, \"\")"
   ]
  },
  {
   "cell_type": "code",
   "execution_count": 5,
   "metadata": {},
   "outputs": [
    {
     "name": "stdout",
     "output_type": "stream",
     "text": [
      "Sita\n",
      "Lakshmi\n",
      "25\n",
      "000000000\n"
     ]
    }
   ],
   "source": [
    "print(cust1.first_name)\n",
    "print(cust1.last_name)\n",
    "print(cust1.age)\n",
    "print(cust1.mobile)"
   ]
  },
  {
   "cell_type": "code",
   "execution_count": 6,
   "metadata": {},
   "outputs": [
    {
     "name": "stdout",
     "output_type": "stream",
     "text": [
      "Sita Lakshmi\n",
      "first_name is updated as: Sita Lakshmi\n"
     ]
    }
   ],
   "source": [
    "cust1.update_first_name(\"Sita Lakshmi\")"
   ]
  },
  {
   "cell_type": "code",
   "execution_count": 7,
   "metadata": {},
   "outputs": [
    {
     "name": "stdout",
     "output_type": "stream",
     "text": [
      "Sita Lakshmi\n",
      "Lakshmi\n",
      "25\n",
      "000000000\n"
     ]
    }
   ],
   "source": [
    "print(cust1.first_name)\n",
    "print(cust1.last_name)\n",
    "print(cust1.age)\n",
    "print(cust1.mobile)"
   ]
  },
  {
   "cell_type": "code",
   "execution_count": 8,
   "metadata": {},
   "outputs": [
    {
     "name": "stdout",
     "output_type": "stream",
     "text": [
      "M\n",
      "last_name is updated as: M\n"
     ]
    }
   ],
   "source": [
    "cust1.update_last_name(\"M\")"
   ]
  },
  {
   "cell_type": "code",
   "execution_count": 9,
   "metadata": {},
   "outputs": [
    {
     "name": "stdout",
     "output_type": "stream",
     "text": [
      "Sita Lakshmi\n",
      "M\n",
      "25\n",
      "000000000\n"
     ]
    }
   ],
   "source": [
    "print(cust1.first_name)\n",
    "print(cust1.last_name)\n",
    "print(cust1.age)\n",
    "print(cust1.mobile)"
   ]
  },
  {
   "cell_type": "code",
   "execution_count": null,
   "metadata": {},
   "outputs": [],
   "source": []
  }
 ],
 "metadata": {
  "kernelspec": {
   "display_name": "Python 3",
   "language": "python",
   "name": "python3"
  },
  "language_info": {
   "codemirror_mode": {
    "name": "ipython",
    "version": 3
   },
   "file_extension": ".py",
   "mimetype": "text/x-python",
   "name": "python",
   "nbconvert_exporter": "python",
   "pygments_lexer": "ipython3",
   "version": "3.12.8"
  }
 },
 "nbformat": 4,
 "nbformat_minor": 2
}
