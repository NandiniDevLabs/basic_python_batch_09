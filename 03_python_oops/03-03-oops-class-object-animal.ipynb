{
 "cells": [
  {
   "cell_type": "markdown",
   "metadata": {},
   "source": [
    "# Defining a class"
   ]
  },
  {
   "cell_type": "code",
   "execution_count": 4,
   "metadata": {},
   "outputs": [
    {
     "name": "stdout",
     "output_type": "stream",
     "text": [
      "This is start line of Animal Class\n",
      "This is end line of Animal Class\n"
     ]
    }
   ],
   "source": [
    "## name, age, color and weight are not attributes, they are variables inside init constructor\n",
    "# init constructor --> is a method that runs when an object is created\n",
    "class Animal:\n",
    "    print(\"This is start line of Animal Class\")\n",
    "\n",
    "    def __init__(self):\n",
    "        print(\"This is inside __init__ method\")\n",
    "        name = \"Charlie\"\n",
    "        age = 2\n",
    "        color = \"black\"\n",
    "        weight = 20.3\n",
    "        print(f\"name: {name}   age: {age}\")\n",
    "        print(f\"color: {color}   weight: {weight}\")\n",
    "    # End of __init__ method\n",
    "\n",
    "    print(\"This is end line of Animal Class\")\n",
    "## End of Animal Class"
   ]
  },
  {
   "cell_type": "markdown",
   "metadata": {},
   "source": [
    "# Creating an Object"
   ]
  },
  {
   "cell_type": "code",
   "execution_count": 5,
   "metadata": {},
   "outputs": [
    {
     "name": "stdout",
     "output_type": "stream",
     "text": [
      "This is inside __init__ method\n",
      "name: Charlie   age: 2\n",
      "color: black   weight: 20.3\n"
     ]
    }
   ],
   "source": [
    "dog = Animal()"
   ]
  },
  {
   "cell_type": "code",
   "execution_count": 6,
   "metadata": {},
   "outputs": [
    {
     "ename": "AttributeError",
     "evalue": "'Animal' object has no attribute 'name'",
     "output_type": "error",
     "traceback": [
      "\u001b[1;31m---------------------------------------------------------------------------\u001b[0m",
      "\u001b[1;31mAttributeError\u001b[0m                            Traceback (most recent call last)",
      "Cell \u001b[1;32mIn[6], line 1\u001b[0m\n\u001b[1;32m----> 1\u001b[0m \u001b[43mdog\u001b[49m\u001b[38;5;241;43m.\u001b[39;49m\u001b[43mname\u001b[49m\n",
      "\u001b[1;31mAttributeError\u001b[0m: 'Animal' object has no attribute 'name'"
     ]
    }
   ],
   "source": [
    "dog.name"
   ]
  },
  {
   "cell_type": "markdown",
   "metadata": {},
   "source": [
    "# Creating class with attributes"
   ]
  },
  {
   "cell_type": "code",
   "execution_count": 7,
   "metadata": {},
   "outputs": [
    {
     "name": "stdout",
     "output_type": "stream",
     "text": [
      "This is start line of Animal Class\n",
      "This is end line of Animal Class\n"
     ]
    }
   ],
   "source": [
    "### Redefining class with attributes and methods\n",
    "class Animal:\n",
    "    print(\"This is start line of Animal Class\")\n",
    "\n",
    "    def __init__(self):\n",
    "        print(\"This is inside __init__ method\")\n",
    "        self.name = \"charlie\"\n",
    "        self.age = 2\n",
    "        self.color = \"black\"\n",
    "        self.weight = 20.3\n",
    "    # End of __init__ method\n",
    "\n",
    "    print(\"This is end line of Animal Class\")\n",
    "## End of Animal Class"
   ]
  },
  {
   "cell_type": "code",
   "execution_count": 8,
   "metadata": {},
   "outputs": [
    {
     "name": "stdout",
     "output_type": "stream",
     "text": [
      "This is inside __init__ method\n"
     ]
    }
   ],
   "source": [
    "dog = Animal()"
   ]
  },
  {
   "cell_type": "code",
   "execution_count": 11,
   "metadata": {},
   "outputs": [
    {
     "name": "stdout",
     "output_type": "stream",
     "text": [
      "Name:charlie, Age:2, Color:black, Weight:20.3\n"
     ]
    }
   ],
   "source": [
    "print(f\"Name:{dog.name}, Age:{dog.age}, Color:{dog.color}, Weight:{dog.weight}\")"
   ]
  },
  {
   "cell_type": "markdown",
   "metadata": {},
   "source": [
    "# Creating second object of Animal class"
   ]
  },
  {
   "cell_type": "code",
   "execution_count": 12,
   "metadata": {},
   "outputs": [
    {
     "name": "stdout",
     "output_type": "stream",
     "text": [
      "This is inside __init__ method\n"
     ]
    }
   ],
   "source": [
    "cat = Animal()"
   ]
  },
  {
   "cell_type": "code",
   "execution_count": 14,
   "metadata": {},
   "outputs": [
    {
     "name": "stdout",
     "output_type": "stream",
     "text": [
      "Name:charlie, Age:2, Color:black, Weight:20.3\n"
     ]
    }
   ],
   "source": [
    "print(f\"Name:{cat.name}, Age:{cat.age}, Color:{cat.color}, Weight:{cat.weight}\")"
   ]
  },
  {
   "cell_type": "markdown",
   "metadata": {},
   "source": [
    "To accept different attribute values for each object"
   ]
  },
  {
   "cell_type": "code",
   "execution_count": 15,
   "metadata": {},
   "outputs": [
    {
     "name": "stdout",
     "output_type": "stream",
     "text": [
      "This is start line of Animal Class\n",
      "This is end line of Animal Class\n"
     ]
    }
   ],
   "source": [
    "### Redefining class with attributes and methods\n",
    "class Animal:\n",
    "    print(\"This is start line of Animal Class\")\n",
    "\n",
    "    def __init__(self,name, age, color, weight):\n",
    "        print(\"This is inside __init__ method\")\n",
    "        self.name = name\n",
    "        self.age = age\n",
    "        self.color = color\n",
    "        self.weight = weight\n",
    "    # End of __init__ method\n",
    "\n",
    "    print(\"This is end line of Animal Class\")\n",
    "## End of Animal Class"
   ]
  },
  {
   "cell_type": "code",
   "execution_count": 16,
   "metadata": {},
   "outputs": [
    {
     "name": "stdout",
     "output_type": "stream",
     "text": [
      "This is inside __init__ method\n"
     ]
    }
   ],
   "source": [
    "dog = Animal(name='Oreo', age=1, color='white', weight=15.4)"
   ]
  },
  {
   "cell_type": "code",
   "execution_count": 17,
   "metadata": {},
   "outputs": [
    {
     "name": "stdout",
     "output_type": "stream",
     "text": [
      "Oreo\n",
      "1\n",
      "white\n",
      "15.4\n"
     ]
    }
   ],
   "source": [
    "print(dog.name)\n",
    "print(dog.age)\n",
    "print(dog.color)\n",
    "print(dog.weight)"
   ]
  },
  {
   "cell_type": "code",
   "execution_count": 18,
   "metadata": {},
   "outputs": [
    {
     "name": "stdout",
     "output_type": "stream",
     "text": [
      "This is inside __init__ method\n"
     ]
    }
   ],
   "source": [
    "cat = Animal(name='XYZ', age=2, color='black', weight=8.1)"
   ]
  },
  {
   "cell_type": "code",
   "execution_count": 19,
   "metadata": {},
   "outputs": [
    {
     "name": "stdout",
     "output_type": "stream",
     "text": [
      "XYZ\n",
      "2\n",
      "black\n",
      "8.1\n"
     ]
    }
   ],
   "source": [
    "print(cat.name)\n",
    "print(cat.age)\n",
    "print(cat.color)\n",
    "print(cat.weight)"
   ]
  },
  {
   "cell_type": "code",
   "execution_count": 20,
   "metadata": {},
   "outputs": [
    {
     "name": "stdout",
     "output_type": "stream",
     "text": [
      "This is start line of Animal Class\n",
      "This is end line of Animal Class\n"
     ]
    }
   ],
   "source": [
    "### Redefining class with attributes and methods\n",
    "class Animal:\n",
    "    print(\"This is start line of Animal Class\")\n",
    "\n",
    "    def __init__(self, name, age, color, weight):\n",
    "        print(\"This is inside __init__ method\")\n",
    "        self.name = name\n",
    "        self.age = age\n",
    "        self.color = color\n",
    "        self.weight = weight\n",
    "    # End of __init__ method\n",
    "\n",
    "    def update_name(self, new_name):\n",
    "        self.name = new_name\n",
    "    #\n",
    "\n",
    "    ## Assignment\n",
    "    def update_age():\n",
    "        pass\n",
    "    #\n",
    "\n",
    "    ## Assignment\n",
    "    def update_color():\n",
    "        pass\n",
    "    #\n",
    "\n",
    "    ## Assignment\n",
    "    def update_weight():\n",
    "        pass\n",
    "    #\n",
    "    \n",
    "    print(\"This is end line of Animal Class\")\n",
    "## End of Animal Class"
   ]
  },
  {
   "cell_type": "code",
   "execution_count": 21,
   "metadata": {},
   "outputs": [
    {
     "name": "stdout",
     "output_type": "stream",
     "text": [
      "This is inside __init__ method\n"
     ]
    }
   ],
   "source": [
    "dog = Animal(name='Oreo', age=1, color='white', weight=15.4)"
   ]
  },
  {
   "cell_type": "code",
   "execution_count": 22,
   "metadata": {},
   "outputs": [
    {
     "name": "stdout",
     "output_type": "stream",
     "text": [
      "dog.__class__\n",
      "dog.__delattr__\n",
      "dog.__dict__\n",
      "dog.__dir__\n",
      "dog.__doc__\n",
      "dog.__eq__\n",
      "dog.__format__\n",
      "dog.__ge__\n",
      "dog.__getattribute__\n",
      "dog.__getstate__\n",
      "dog.__gt__\n",
      "dog.__hash__\n",
      "dog.__init__\n",
      "dog.__init_subclass__\n",
      "dog.__le__\n",
      "dog.__lt__\n",
      "dog.__module__\n",
      "dog.__ne__\n",
      "dog.__new__\n",
      "dog.__reduce__\n",
      "dog.__reduce_ex__\n",
      "dog.__repr__\n",
      "dog.__setattr__\n",
      "dog.__sizeof__\n",
      "dog.__str__\n",
      "dog.__subclasshook__\n",
      "dog.__weakref__\n",
      "dog.age\n",
      "dog.color\n",
      "dog.name\n",
      "dog.update_age\n",
      "dog.update_color\n",
      "dog.update_name\n",
      "dog.update_weight\n",
      "dog.weight"
     ]
    }
   ],
   "source": [
    "dog.*?"
   ]
  },
  {
   "cell_type": "code",
   "execution_count": 23,
   "metadata": {},
   "outputs": [
    {
     "name": "stdout",
     "output_type": "stream",
     "text": [
      "Oreo\n",
      "1\n",
      "white\n",
      "15.4\n"
     ]
    }
   ],
   "source": [
    "print(dog.name)\n",
    "print(dog.age)\n",
    "print(dog.color)\n",
    "print(dog.weight)"
   ]
  },
  {
   "cell_type": "code",
   "execution_count": 24,
   "metadata": {},
   "outputs": [],
   "source": [
    "dog.update_name('Charlie')"
   ]
  },
  {
   "cell_type": "code",
   "execution_count": 25,
   "metadata": {},
   "outputs": [
    {
     "name": "stdout",
     "output_type": "stream",
     "text": [
      "Charlie\n",
      "1\n",
      "white\n",
      "15.4\n"
     ]
    }
   ],
   "source": [
    "print(dog.name)\n",
    "print(dog.age)\n",
    "print(dog.color)\n",
    "print(dog.weight)"
   ]
  },
  {
   "cell_type": "code",
   "execution_count": null,
   "metadata": {},
   "outputs": [],
   "source": []
  },
  {
   "cell_type": "code",
   "execution_count": 10,
   "metadata": {},
   "outputs": [],
   "source": [
    "dog.update_name(\"Charlie\")"
   ]
  },
  {
   "cell_type": "code",
   "execution_count": null,
   "metadata": {},
   "outputs": [],
   "source": [
    "print(dog.name)\n",
    "print(dog.age)\n",
    "print(dog.color)\n",
    "print(dog.weight)"
   ]
  },
  {
   "cell_type": "code",
   "execution_count": null,
   "metadata": {},
   "outputs": [],
   "source": []
  }
 ],
 "metadata": {
  "kernelspec": {
   "display_name": "Python 3",
   "language": "python",
   "name": "python3"
  },
  "language_info": {
   "codemirror_mode": {
    "name": "ipython",
    "version": 3
   },
   "file_extension": ".py",
   "mimetype": "text/x-python",
   "name": "python",
   "nbconvert_exporter": "python",
   "pygments_lexer": "ipython3",
   "version": "3.12.8"
  }
 },
 "nbformat": 4,
 "nbformat_minor": 2
}
