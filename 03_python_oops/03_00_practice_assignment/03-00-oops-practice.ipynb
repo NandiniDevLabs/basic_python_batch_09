{
 "cells": [
  {
   "cell_type": "markdown",
   "metadata": {},
   "source": [
    "# Complete the following assignments"
   ]
  },
  {
   "cell_type": "code",
   "execution_count": 1,
   "metadata": {},
   "outputs": [],
   "source": [
    "# Create class Employee in employee.py\n",
    "# With attributes: \n",
    "# employeeId, firstName, lastName, email, phoneNumber, yoj, jobId, salary, managerId, departmentId\n",
    "# With methods:\n",
    "# 1. __init__ constructor\n",
    "# 2. get_attributes() - should return a dictionary\n",
    "\n",
    "# Create employee instance and call get_attributes()\n",
    "# e1 = Employee()\n",
    "# e1.get_attributes()"
   ]
  },
  {
   "cell_type": "code",
   "execution_count": 2,
   "metadata": {},
   "outputs": [],
   "source": [
    "# Create class Department in deparment.py\n",
    "# With attributes:\n",
    "# departmentId, departmentName, managerId, locationId\n",
    "# With methods:\n",
    "# 1. __init__ constructor\n",
    "# 2. get_attributes() - should return a dictionary\n",
    "\n",
    "# Create department instance and call get_attributes()\n",
    "# d1 = Department(\n",
    "#   departmentId=58,\n",
    "#   departmentName=\"Sales Department\",\n",
    "#   managerId=7890,\n",
    "#   locationId=127\n",
    "# )\n",
    "# d1.get_attributes()"
   ]
  },
  {
   "cell_type": "code",
   "execution_count": 3,
   "metadata": {},
   "outputs": [],
   "source": [
    "# Create class Job in job.py\n",
    "# With attributes:\n",
    "# jobId, jobTitle, minSalary, maxSalary\n",
    "# With methods:\n",
    "# 1. __init__ constructor\n",
    "# 2. get_attributes() - should return a dictionary\n",
    "\n",
    "# Create job instance and call get_attributes()\n",
    "# j1 = Job()\n",
    "# j1.get_attributes()"
   ]
  },
  {
   "cell_type": "code",
   "execution_count": 4,
   "metadata": {},
   "outputs": [],
   "source": [
    "# Create class JobHistory in jobhistory.py\n",
    "# With attributes:\n",
    "# employeeId, startDate, endDate, jobId, departmentId\n",
    "# With methods:\n",
    "# 1. __init__ constructor\n",
    "# 2. get_attributes() - should return a dictionary\n",
    "\n",
    "# Create jobhistory instance and call get_attributes()\n",
    "# job_hist1 = JobHistory()\n",
    "# job_hist1.get_attributes()"
   ]
  },
  {
   "cell_type": "code",
   "execution_count": 5,
   "metadata": {},
   "outputs": [],
   "source": [
    "# Create class Location in location.py\n",
    "# With attributes:\n",
    "# locationId, streetAddress, postalCode, city, state, contryId\n",
    "# With methods:\n",
    "# 1. __init__ constructor\n",
    "# 2. get_attributes() - should return a dictionary\n",
    "\n",
    "# Create location instance and call get_attributes()\n",
    "# loc1 = Location(\n",
    "#   locationId=127,\n",
    "#   ...\n",
    "#)\n",
    "# loc1.get_attributes()"
   ]
  },
  {
   "cell_type": "code",
   "execution_count": 6,
   "metadata": {},
   "outputs": [],
   "source": [
    "# Create class Country in country.py\n",
    "# With attributes:\n",
    "# countryId, countryName, regionId\n",
    "# With methods:\n",
    "# 1. __init__ constructor\n",
    "# 2. get_attributes() - should return a dictionary\n",
    "\n",
    "# Create country instance and call get_attributes()\n",
    "# country1 = Country()\n",
    "# country1.get_attributes()"
   ]
  },
  {
   "cell_type": "code",
   "execution_count": 7,
   "metadata": {},
   "outputs": [],
   "source": [
    "# Create class Region in region.py\n",
    "# With attributes:\n",
    "# regionId, regionName\n",
    "# With methods:\n",
    "# 1. __init__ constructor\n",
    "# 2. get_attributes() - should return a dictionary\n",
    "\n",
    "# Create region instance and call get_attributes()\n",
    "# reg1 = Region()\n",
    "# reg1.get_attributes()"
   ]
  },
  {
   "cell_type": "markdown",
   "metadata": {},
   "source": [
    "#### Creating person instance and calling get_attribute() function"
   ]
  },
  {
   "cell_type": "code",
   "execution_count": 6,
   "metadata": {},
   "outputs": [
    {
     "name": "stdout",
     "output_type": "stream",
     "text": [
      "This is Person initializer\n"
     ]
    }
   ],
   "source": [
    "from person import Person\n",
    "\n",
    "per1 = Person(name=\"Sita\",age=1,mobile=\"NA\",aadhar=\"NA\")"
   ]
  },
  {
   "cell_type": "code",
   "execution_count": 4,
   "metadata": {},
   "outputs": [
    {
     "data": {
      "text/plain": [
       "'Sita'"
      ]
     },
     "execution_count": 4,
     "metadata": {},
     "output_type": "execute_result"
    }
   ],
   "source": [
    "per1.name"
   ]
  },
  {
   "cell_type": "code",
   "execution_count": 7,
   "metadata": {},
   "outputs": [
    {
     "name": "stdout",
     "output_type": "stream",
     "text": [
      "Person class: get_person_attributes function\n"
     ]
    },
    {
     "data": {
      "text/plain": [
       "['Sita', 1, 'NA', 'NA']"
      ]
     },
     "execution_count": 7,
     "metadata": {},
     "output_type": "execute_result"
    }
   ],
   "source": [
    "per1.get_person_attributes()"
   ]
  },
  {
   "cell_type": "code",
   "execution_count": null,
   "metadata": {},
   "outputs": [],
   "source": []
  }
 ],
 "metadata": {
  "kernelspec": {
   "display_name": "Python 3",
   "language": "python",
   "name": "python3"
  },
  "language_info": {
   "codemirror_mode": {
    "name": "ipython",
    "version": 3
   },
   "file_extension": ".py",
   "mimetype": "text/x-python",
   "name": "python",
   "nbconvert_exporter": "python",
   "pygments_lexer": "ipython3",
   "version": "3.11.9"
  }
 },
 "nbformat": 4,
 "nbformat_minor": 2
}
