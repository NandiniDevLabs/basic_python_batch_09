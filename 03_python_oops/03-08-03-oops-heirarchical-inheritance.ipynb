{
 "cells": [
  {
   "cell_type": "code",
   "execution_count": 1,
   "metadata": {},
   "outputs": [],
   "source": [
    "#-------- Hiearchical Inheritance--------------\n",
    "# Person -> Parent Class\n",
    "# Student(Person) -> Child1 \n",
    "# Employee(Person) -> Child2 "
   ]
  },
  {
   "cell_type": "code",
   "execution_count": 1,
   "metadata": {},
   "outputs": [
    {
     "name": "stdout",
     "output_type": "stream",
     "text": [
      "Person class\n"
     ]
    }
   ],
   "source": [
    "# Parent Class\n",
    "class Person:\n",
    "    print(\"Person class\")\n",
    "    def __init__(self,name,age,mobile,aadhar):\n",
    "        print(\">>>> This is Person initializer\")\n",
    "        self.name = name\n",
    "        self.age = age\n",
    "        self.mobile = mobile\n",
    "        self.aadhar = aadhar\n",
    "        print(\">>>> End of Person initializer\")\n",
    "    \n",
    "    def update_mobile(self,mobile_num):\n",
    "        print(\">>>> From Person class\")\n",
    "        self.mobile = mobile_num\n",
    "\n",
    "    def get_person_attributes(self):\n",
    "        print(\">>>> From Person class\")\n",
    "        return [self.name, self.age, self.mobile, self.aadhar]\n",
    "#End of Person Class"
   ]
  },
  {
   "cell_type": "code",
   "execution_count": 2,
   "metadata": {},
   "outputs": [],
   "source": [
    "# Child1 \n",
    "class Student(Person):\n",
    "    def __init__(self,name,age,mobile,aadhar,stdId,yoj,branch,section):\n",
    "        print(\"->> This is Student initializer\")\n",
    "        super().__init__(name,age,mobile,aadhar)\n",
    "        self.stdId = stdId\n",
    "        self.yoj = yoj\n",
    "        self.branch = branch\n",
    "        self.section = section\n",
    "        print(\"->> End of Student initializer\")\n",
    "\n",
    "    def get_student_attributes(self):\n",
    "        print(\"->> From Student class\")\n",
    "        return [self.stdId, self.yoj, self.branch, self.section]\n",
    "\n",
    "    def get_all_attributes(self):\n",
    "        print(\"->> From Student class\")\n",
    "        return [self.name, self.age, self.mobile, self.aadhar, self.stdId, self.yoj, self.branch, self.section]"
   ]
  },
  {
   "cell_type": "code",
   "execution_count": 3,
   "metadata": {},
   "outputs": [],
   "source": [
    "# Child2\n",
    "class Employee(Person):\n",
    "    def __init__(self,name,age,mobile,aadhar,empId,yoj,designation):\n",
    "        print(\"=> This is Employee initializer\")\n",
    "        super().__init__(name,age,mobile,aadhar)\n",
    "        self.empId = empId\n",
    "        self.yoj = yoj\n",
    "        self.designation = designation\n",
    "        print(\"=> End of Employee initializer\")\n",
    "\n",
    "    def get_employee_attributes(self):\n",
    "        print(\"=> From Employee class\")\n",
    "        return [self.empId, self.yoj, self.designation]\n",
    "\n",
    "    def get_all_attributes(self):\n",
    "        print(\"=> From Employee class\")\n",
    "        return [self.name, self.age, self.mobile, self.aadhar, self.empId, self.yoj, self.designation]"
   ]
  },
  {
   "cell_type": "code",
   "execution_count": 4,
   "metadata": {},
   "outputs": [
    {
     "name": "stdout",
     "output_type": "stream",
     "text": [
      "->> This is Student initializer\n",
      ">>>> This is Person initializer\n",
      ">>>> End of Person initializer\n",
      "->> End of Student initializer\n"
     ]
    }
   ],
   "source": [
    "s1 = Student(\n",
    "    name=\"Ram\",\n",
    "    age=21,\n",
    "    mobile='9999999999',\n",
    "    aadhar='',\n",
    "    stdId=\"452\",\n",
    "    yoj=2019,\n",
    "    branch=\"ECE\",\n",
    "    section=\"A\"\n",
    ")"
   ]
  },
  {
   "cell_type": "code",
   "execution_count": 5,
   "metadata": {},
   "outputs": [
    {
     "name": "stdout",
     "output_type": "stream",
     "text": [
      "s1.__class__\n",
      "s1.__delattr__\n",
      "s1.__dict__\n",
      "s1.__dir__\n",
      "s1.__doc__\n",
      "s1.__eq__\n",
      "s1.__format__\n",
      "s1.__ge__\n",
      "s1.__getattribute__\n",
      "s1.__getstate__\n",
      "s1.__gt__\n",
      "s1.__hash__\n",
      "s1.__init__\n",
      "s1.__init_subclass__\n",
      "s1.__le__\n",
      "s1.__lt__\n",
      "s1.__module__\n",
      "s1.__ne__\n",
      "s1.__new__\n",
      "s1.__reduce__\n",
      "s1.__reduce_ex__\n",
      "s1.__repr__\n",
      "s1.__setattr__\n",
      "s1.__sizeof__\n",
      "s1.__str__\n",
      "s1.__subclasshook__\n",
      "s1.__weakref__\n",
      "s1.aadhar\n",
      "s1.age\n",
      "s1.branch\n",
      "s1.get_all_attributes\n",
      "s1.get_person_attributes\n",
      "s1.get_student_attributes\n",
      "s1.mobile\n",
      "s1.name\n",
      "s1.section\n",
      "s1.stdId\n",
      "s1.update_mobile\n",
      "s1.yoj"
     ]
    }
   ],
   "source": [
    "s1.*?"
   ]
  },
  {
   "cell_type": "code",
   "execution_count": 6,
   "metadata": {},
   "outputs": [
    {
     "name": "stdout",
     "output_type": "stream",
     "text": [
      ">>>> From Person class\n"
     ]
    },
    {
     "data": {
      "text/plain": [
       "['Ram', 21, '9999999999', '']"
      ]
     },
     "execution_count": 6,
     "metadata": {},
     "output_type": "execute_result"
    }
   ],
   "source": [
    "s1.get_person_attributes()"
   ]
  },
  {
   "cell_type": "code",
   "execution_count": 7,
   "metadata": {},
   "outputs": [
    {
     "name": "stdout",
     "output_type": "stream",
     "text": [
      "->> From Student class\n"
     ]
    },
    {
     "data": {
      "text/plain": [
       "['Ram', 21, '9999999999', '', '452', 2019, 'ECE', 'A']"
      ]
     },
     "execution_count": 7,
     "metadata": {},
     "output_type": "execute_result"
    }
   ],
   "source": [
    "s1.get_all_attributes()"
   ]
  },
  {
   "cell_type": "code",
   "execution_count": 8,
   "metadata": {},
   "outputs": [
    {
     "name": "stdout",
     "output_type": "stream",
     "text": [
      "=> This is Employee initializer\n",
      ">>>> This is Person initializer\n",
      ">>>> End of Person initializer\n",
      "=> End of Employee initializer\n"
     ]
    }
   ],
   "source": [
    "e1 = Employee(\n",
    "    name=\"Ram\",\n",
    "    age=21,\n",
    "    mobile='9999999999',\n",
    "    aadhar='',\n",
    "    empId=\"12170123\",\n",
    "    yoj=2024,\n",
    "    designation=\"Data Scientist\"\n",
    ")"
   ]
  },
  {
   "cell_type": "code",
   "execution_count": 9,
   "metadata": {},
   "outputs": [
    {
     "name": "stdout",
     "output_type": "stream",
     "text": [
      "e1.__class__\n",
      "e1.__delattr__\n",
      "e1.__dict__\n",
      "e1.__dir__\n",
      "e1.__doc__\n",
      "e1.__eq__\n",
      "e1.__format__\n",
      "e1.__ge__\n",
      "e1.__getattribute__\n",
      "e1.__getstate__\n",
      "e1.__gt__\n",
      "e1.__hash__\n",
      "e1.__init__\n",
      "e1.__init_subclass__\n",
      "e1.__le__\n",
      "e1.__lt__\n",
      "e1.__module__\n",
      "e1.__ne__\n",
      "e1.__new__\n",
      "e1.__reduce__\n",
      "e1.__reduce_ex__\n",
      "e1.__repr__\n",
      "e1.__setattr__\n",
      "e1.__sizeof__\n",
      "e1.__str__\n",
      "e1.__subclasshook__\n",
      "e1.__weakref__\n",
      "e1.aadhar\n",
      "e1.age\n",
      "e1.designation\n",
      "e1.empId\n",
      "e1.get_all_attributes\n",
      "e1.get_employee_attributes\n",
      "e1.get_person_attributes\n",
      "e1.mobile\n",
      "e1.name\n",
      "e1.update_mobile\n",
      "e1.yoj"
     ]
    }
   ],
   "source": [
    "e1.*?"
   ]
  },
  {
   "cell_type": "code",
   "execution_count": 10,
   "metadata": {},
   "outputs": [
    {
     "name": "stdout",
     "output_type": "stream",
     "text": [
      ">>>> From Person class\n"
     ]
    },
    {
     "data": {
      "text/plain": [
       "['Ram', 21, '9999999999', '']"
      ]
     },
     "execution_count": 10,
     "metadata": {},
     "output_type": "execute_result"
    }
   ],
   "source": [
    "e1.get_person_attributes()"
   ]
  },
  {
   "cell_type": "code",
   "execution_count": 11,
   "metadata": {},
   "outputs": [
    {
     "name": "stdout",
     "output_type": "stream",
     "text": [
      "=> From Employee class\n"
     ]
    },
    {
     "data": {
      "text/plain": [
       "['Ram', 21, '9999999999', '', '12170123', 2024, 'Data Scientist']"
      ]
     },
     "execution_count": 11,
     "metadata": {},
     "output_type": "execute_result"
    }
   ],
   "source": [
    "e1.get_all_attributes()"
   ]
  },
  {
   "cell_type": "code",
   "execution_count": 12,
   "metadata": {},
   "outputs": [
    {
     "data": {
      "text/plain": [
       "'Data Scientist'"
      ]
     },
     "execution_count": 12,
     "metadata": {},
     "output_type": "execute_result"
    }
   ],
   "source": [
    "e1.designation"
   ]
  },
  {
   "cell_type": "code",
   "execution_count": null,
   "metadata": {},
   "outputs": [],
   "source": []
  }
 ],
 "metadata": {
  "kernelspec": {
   "display_name": "Python 3",
   "language": "python",
   "name": "python3"
  },
  "language_info": {
   "codemirror_mode": {
    "name": "ipython",
    "version": 3
   },
   "file_extension": ".py",
   "mimetype": "text/x-python",
   "name": "python",
   "nbconvert_exporter": "python",
   "pygments_lexer": "ipython3",
   "version": "3.12.8"
  }
 },
 "nbformat": 4,
 "nbformat_minor": 2
}
