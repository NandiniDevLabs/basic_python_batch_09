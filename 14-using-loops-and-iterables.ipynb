{
 "cells": [
  {
   "cell_type": "code",
   "execution_count": 7,
   "id": "ba679102-600e-4bae-90ff-d7caad630c36",
   "metadata": {},
   "outputs": [
    {
     "name": "stdout",
     "output_type": "stream",
     "text": [
      "[0, 1, 2, 3, 4]\n"
     ]
    }
   ],
   "source": [
    "input_list = [0, 1, 2, 3, 4]\n",
    "print(input_list)"
   ]
  },
  {
   "cell_type": "code",
   "execution_count": 9,
   "id": "b9e87ee7-4b7e-4d0e-9984-fa5cf55234a3",
   "metadata": {},
   "outputs": [
    {
     "name": "stdout",
     "output_type": "stream",
     "text": [
      "0\n",
      "1\n",
      "2\n",
      "3\n",
      "4\n"
     ]
    }
   ],
   "source": [
    "for i in input_list:\n",
    "    print(i)"
   ]
  },
  {
   "cell_type": "code",
   "execution_count": 11,
   "id": "1d820f4e-71a2-4366-bd54-9bbed27bcbd5",
   "metadata": {},
   "outputs": [
    {
     "name": "stdout",
     "output_type": "stream",
     "text": [
      "(1, 2, 3, 4, 5)\n"
     ]
    }
   ],
   "source": [
    "input_tuple = (1, 2, 3, 4, 5)\n",
    "print(input_tuple)"
   ]
  },
  {
   "cell_type": "code",
   "execution_count": 13,
   "id": "d44bf95a-673b-41fc-92ed-cc9dc94be7fb",
   "metadata": {},
   "outputs": [
    {
     "name": "stdout",
     "output_type": "stream",
     "text": [
      "1\n",
      "2\n",
      "3\n",
      "4\n",
      "5\n"
     ]
    }
   ],
   "source": [
    "for i in input_tuple:\n",
    "    print(i)"
   ]
  },
  {
   "cell_type": "code",
   "execution_count": 15,
   "id": "aac4adda-16d4-4d9f-a702-645cf961122c",
   "metadata": {},
   "outputs": [
    {
     "data": {
      "text/plain": [
       "[0, 1, 2, 3, 4]"
      ]
     },
     "execution_count": 15,
     "metadata": {},
     "output_type": "execute_result"
    }
   ],
   "source": [
    "list(range(5))"
   ]
  },
  {
   "cell_type": "code",
   "execution_count": 17,
   "id": "b4fd0b7d-1b21-4390-96c0-d7d563732366",
   "metadata": {},
   "outputs": [
    {
     "name": "stdout",
     "output_type": "stream",
     "text": [
      "0\n",
      "1\n",
      "2\n",
      "3\n",
      "4\n"
     ]
    }
   ],
   "source": [
    "for i in range(5):\n",
    "    print(i)"
   ]
  },
  {
   "cell_type": "code",
   "execution_count": 29,
   "id": "0b5bc3a2-150e-4b2d-beff-6930aba91599",
   "metadata": {},
   "outputs": [],
   "source": [
    "# From 1 to 15, print even number\n",
    "# Even -- number divided by 2 --> reminder is 0"
   ]
  },
  {
   "cell_type": "code",
   "execution_count": 25,
   "id": "72d30a47-d583-435e-828f-c2220cc23788",
   "metadata": {},
   "outputs": [
    {
     "name": "stdout",
     "output_type": "stream",
     "text": [
      "[1, 2, 3, 4, 5, 6, 7, 8, 9, 10, 11, 12, 13, 14, 15]\n"
     ]
    }
   ],
   "source": [
    "input_list = list(range(1,16))\n",
    "print(input_list)"
   ]
  },
  {
   "cell_type": "code",
   "execution_count": 39,
   "id": "4a05d310-753f-40ed-9282-16ab63cf0f29",
   "metadata": {},
   "outputs": [
    {
     "data": {
      "text/plain": [
       "0"
      ]
     },
     "execution_count": 39,
     "metadata": {},
     "output_type": "execute_result"
    }
   ],
   "source": [
    "# modulus -- gives reminder\n",
    "10%2"
   ]
  },
  {
   "cell_type": "code",
   "execution_count": 55,
   "id": "02220356-d0fc-4ed0-97f4-77e387d78ac0",
   "metadata": {},
   "outputs": [
    {
     "data": {
      "text/plain": [
       "1"
      ]
     },
     "execution_count": 55,
     "metadata": {},
     "output_type": "execute_result"
    }
   ],
   "source": [
    "11%2"
   ]
  },
  {
   "cell_type": "code",
   "execution_count": 53,
   "id": "673d15f4-9a5d-4e94-9311-b07223d8bbaa",
   "metadata": {},
   "outputs": [
    {
     "data": {
      "text/plain": [
       "True"
      ]
     },
     "execution_count": 53,
     "metadata": {},
     "output_type": "execute_result"
    }
   ],
   "source": [
    "10%2 == 0 # True when reminder is 0"
   ]
  },
  {
   "cell_type": "code",
   "execution_count": 51,
   "id": "069394de-4ffe-46da-8172-e0dfba8119d4",
   "metadata": {},
   "outputs": [
    {
     "data": {
      "text/plain": [
       "False"
      ]
     },
     "execution_count": 51,
     "metadata": {},
     "output_type": "execute_result"
    }
   ],
   "source": [
    "11%2 == 0 # False when reminder is 1"
   ]
  },
  {
   "cell_type": "code",
   "execution_count": 65,
   "id": "eb13d4bd-7e93-4713-8439-76bf666fb9d1",
   "metadata": {},
   "outputs": [
    {
     "data": {
      "text/plain": [
       "[1, 2, 3, 4, 5, 6, 7, 8, 9, 10, 11, 12, 13, 14, 15]"
      ]
     },
     "execution_count": 65,
     "metadata": {},
     "output_type": "execute_result"
    }
   ],
   "source": [
    "input_list"
   ]
  },
  {
   "cell_type": "code",
   "execution_count": 77,
   "id": "bbe3f221-2c21-4888-be56-814910eb236b",
   "metadata": {},
   "outputs": [
    {
     "data": {
      "text/plain": [
       "False"
      ]
     },
     "execution_count": 77,
     "metadata": {},
     "output_type": "execute_result"
    }
   ],
   "source": [
    "15%2 == 0"
   ]
  },
  {
   "cell_type": "code",
   "execution_count": 79,
   "id": "7feebfdc-14b5-4957-9a19-1232495843ce",
   "metadata": {},
   "outputs": [
    {
     "name": "stdout",
     "output_type": "stream",
     "text": [
      "iteration 1\n",
      "iteration 2\n",
      "2 is even\n",
      "iteration 3\n",
      "iteration 4\n",
      "4 is even\n",
      "iteration 5\n",
      "iteration 6\n",
      "6 is even\n",
      "iteration 7\n",
      "iteration 8\n",
      "8 is even\n",
      "iteration 9\n",
      "iteration 10\n",
      "10 is even\n",
      "iteration 11\n",
      "iteration 12\n",
      "12 is even\n",
      "iteration 13\n",
      "iteration 14\n",
      "14 is even\n",
      "iteration 15\n"
     ]
    }
   ],
   "source": [
    "for i in input_list:\n",
    "    print(\"iteration\", i)\n",
    "    if i%2 == 0:\n",
    "        print(i, \"is even\")\n",
    "# End of for loop"
   ]
  },
  {
   "cell_type": "code",
   "execution_count": 99,
   "id": "4ae65ee2-1f07-4778-8812-4b1d2ad7025b",
   "metadata": {},
   "outputs": [
    {
     "name": "stdout",
     "output_type": "stream",
     "text": [
      "2 is even\n",
      "4 is even\n",
      "6 is even\n",
      "8 is even\n",
      "10 is even\n",
      "12 is even\n",
      "14 is even\n"
     ]
    }
   ],
   "source": [
    "for i in input_list:\n",
    "    # print(\"iteration\", i)\n",
    "    if i%2 == 0:\n",
    "        print(i, \"is even\")\n",
    "# End of for loop"
   ]
  },
  {
   "cell_type": "code",
   "execution_count": 87,
   "id": "4f0444d8-6d53-4b5c-92ab-bff95272e97f",
   "metadata": {},
   "outputs": [],
   "source": [
    "# [2, 4, 6, ..]"
   ]
  },
  {
   "cell_type": "code",
   "execution_count": 97,
   "id": "4e9d3f03-4f0b-405b-b5f0-d62f3ea480f6",
   "metadata": {},
   "outputs": [
    {
     "name": "stdout",
     "output_type": "stream",
     "text": [
      "iteration 1\n",
      "iteration 2\n",
      "even_nums: [2]\n",
      "iteration 3\n",
      "iteration 4\n",
      "even_nums: [2, 4]\n",
      "iteration 5\n",
      "iteration 6\n",
      "even_nums: [2, 4, 6]\n",
      "iteration 7\n",
      "iteration 8\n",
      "even_nums: [2, 4, 6, 8]\n",
      "iteration 9\n",
      "iteration 10\n",
      "even_nums: [2, 4, 6, 8, 10]\n",
      "iteration 11\n",
      "iteration 12\n",
      "even_nums: [2, 4, 6, 8, 10, 12]\n",
      "iteration 13\n",
      "iteration 14\n",
      "even_nums: [2, 4, 6, 8, 10, 12, 14]\n",
      "iteration 15\n",
      "this is outside of for loop\n",
      "output:  [2, 4, 6, 8, 10, 12, 14]\n"
     ]
    }
   ],
   "source": [
    "even_nums = []\n",
    "for i in input_list:\n",
    "    print(\"iteration\", i)\n",
    "    if i%2 == 0:\n",
    "        even_nums.append(i)\n",
    "        print(\"even_nums:\", even_nums)\n",
    "# End of for loop\n",
    "print(\"this is outside of for loop\")\n",
    "print(\"output: \", even_nums)"
   ]
  },
  {
   "cell_type": "code",
   "execution_count": 95,
   "id": "86d3ed4a-4b30-44d2-bcc9-8dac0a4e120d",
   "metadata": {},
   "outputs": [
    {
     "data": {
      "text/plain": [
       "[2, 4, 6, 8, 10, 12, 14]"
      ]
     },
     "execution_count": 95,
     "metadata": {},
     "output_type": "execute_result"
    }
   ],
   "source": [
    "even_nums"
   ]
  },
  {
   "cell_type": "markdown",
   "id": "83a7898e-9963-4a6e-acc5-e19f189893c8",
   "metadata": {},
   "source": [
    "# Assignment\n",
    "1. Print output list with odd numbers from 1 to 100\n",
    "2. Print output list with square root of numbers from 1 to 10\n",
    "3. Print output list with numbers that are odd and divisible by 5, from range 1 to 100."
   ]
  },
  {
   "cell_type": "code",
   "execution_count": 2,
   "id": "75df902d-9efa-4454-921c-e0388df3fa1a",
   "metadata": {},
   "outputs": [],
   "source": [
    "# Example outputs\n",
    "# 1. [1, 3, 5, 7, 9, 11, 13, 15, ..]\n",
    "# 2. [1, 1.414, 1.732, ..]\n",
    "# 3. [5, 15, 25, ..]"
   ]
  },
  {
   "cell_type": "code",
   "execution_count": null,
   "id": "19b821a3-0b63-4362-b164-c7f8fad7d461",
   "metadata": {},
   "outputs": [],
   "source": []
  }
 ],
 "metadata": {
  "kernelspec": {
   "display_name": "Python 3 (ipykernel)",
   "language": "python",
   "name": "python3"
  },
  "language_info": {
   "codemirror_mode": {
    "name": "ipython",
    "version": 3
   },
   "file_extension": ".py",
   "mimetype": "text/x-python",
   "name": "python",
   "nbconvert_exporter": "python",
   "pygments_lexer": "ipython3",
   "version": "3.12.4"
  }
 },
 "nbformat": 4,
 "nbformat_minor": 5
}
