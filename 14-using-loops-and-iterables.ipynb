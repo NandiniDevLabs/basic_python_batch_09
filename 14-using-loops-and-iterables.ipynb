{
 "cells": [
  {
   "cell_type": "code",
   "execution_count": 7,
   "id": "ba679102-600e-4bae-90ff-d7caad630c36",
   "metadata": {},
   "outputs": [
    {
     "name": "stdout",
     "output_type": "stream",
     "text": [
      "[0, 1, 2, 3, 4]\n"
     ]
    }
   ],
   "source": [
    "input_list = [0, 1, 2, 3, 4]\n",
    "print(input_list)"
   ]
  },
  {
   "cell_type": "code",
   "execution_count": 9,
   "id": "b9e87ee7-4b7e-4d0e-9984-fa5cf55234a3",
   "metadata": {},
   "outputs": [
    {
     "name": "stdout",
     "output_type": "stream",
     "text": [
      "0\n",
      "1\n",
      "2\n",
      "3\n",
      "4\n"
     ]
    }
   ],
   "source": [
    "for i in input_list:\n",
    "    print(i)"
   ]
  },
  {
   "cell_type": "code",
   "execution_count": 11,
   "id": "1d820f4e-71a2-4366-bd54-9bbed27bcbd5",
   "metadata": {},
   "outputs": [
    {
     "name": "stdout",
     "output_type": "stream",
     "text": [
      "(1, 2, 3, 4, 5)\n"
     ]
    }
   ],
   "source": [
    "input_tuple = (1, 2, 3, 4, 5)\n",
    "print(input_tuple)"
   ]
  },
  {
   "cell_type": "code",
   "execution_count": 13,
   "id": "d44bf95a-673b-41fc-92ed-cc9dc94be7fb",
   "metadata": {},
   "outputs": [
    {
     "name": "stdout",
     "output_type": "stream",
     "text": [
      "1\n",
      "2\n",
      "3\n",
      "4\n",
      "5\n"
     ]
    }
   ],
   "source": [
    "for i in input_tuple:\n",
    "    print(i)"
   ]
  },
  {
   "cell_type": "code",
   "execution_count": 15,
   "id": "aac4adda-16d4-4d9f-a702-645cf961122c",
   "metadata": {},
   "outputs": [
    {
     "data": {
      "text/plain": [
       "[0, 1, 2, 3, 4]"
      ]
     },
     "execution_count": 15,
     "metadata": {},
     "output_type": "execute_result"
    }
   ],
   "source": [
    "list(range(5))"
   ]
  },
  {
   "cell_type": "code",
   "execution_count": 17,
   "id": "b4fd0b7d-1b21-4390-96c0-d7d563732366",
   "metadata": {},
   "outputs": [
    {
     "name": "stdout",
     "output_type": "stream",
     "text": [
      "0\n",
      "1\n",
      "2\n",
      "3\n",
      "4\n"
     ]
    }
   ],
   "source": [
    "for i in range(5):\n",
    "    print(i)"
   ]
  },
  {
   "cell_type": "code",
   "execution_count": 29,
   "id": "0b5bc3a2-150e-4b2d-beff-6930aba91599",
   "metadata": {},
   "outputs": [],
   "source": [
    "# From 1 to 15, print even number\n",
    "# Even -- number divided by 2 --> reminder is 0"
   ]
  },
  {
   "cell_type": "code",
   "execution_count": 25,
   "id": "72d30a47-d583-435e-828f-c2220cc23788",
   "metadata": {},
   "outputs": [
    {
     "name": "stdout",
     "output_type": "stream",
     "text": [
      "[1, 2, 3, 4, 5, 6, 7, 8, 9, 10, 11, 12, 13, 14, 15]\n"
     ]
    }
   ],
   "source": [
    "input_list = list(range(1,16))\n",
    "print(input_list)"
   ]
  },
  {
   "cell_type": "code",
   "execution_count": 39,
   "id": "4a05d310-753f-40ed-9282-16ab63cf0f29",
   "metadata": {},
   "outputs": [
    {
     "data": {
      "text/plain": [
       "0"
      ]
     },
     "execution_count": 39,
     "metadata": {},
     "output_type": "execute_result"
    }
   ],
   "source": [
    "# modulus -- gives reminder\n",
    "10%2"
   ]
  },
  {
   "cell_type": "code",
   "execution_count": 55,
   "id": "02220356-d0fc-4ed0-97f4-77e387d78ac0",
   "metadata": {},
   "outputs": [
    {
     "data": {
      "text/plain": [
       "1"
      ]
     },
     "execution_count": 55,
     "metadata": {},
     "output_type": "execute_result"
    }
   ],
   "source": [
    "11%2"
   ]
  },
  {
   "cell_type": "code",
   "execution_count": 53,
   "id": "673d15f4-9a5d-4e94-9311-b07223d8bbaa",
   "metadata": {},
   "outputs": [
    {
     "data": {
      "text/plain": [
       "True"
      ]
     },
     "execution_count": 53,
     "metadata": {},
     "output_type": "execute_result"
    }
   ],
   "source": [
    "10%2 == 0 # True when reminder is 0"
   ]
  },
  {
   "cell_type": "code",
   "execution_count": 51,
   "id": "069394de-4ffe-46da-8172-e0dfba8119d4",
   "metadata": {},
   "outputs": [
    {
     "data": {
      "text/plain": [
       "False"
      ]
     },
     "execution_count": 51,
     "metadata": {},
     "output_type": "execute_result"
    }
   ],
   "source": [
    "11%2 == 0 # False when reminder is 1"
   ]
  },
  {
   "cell_type": "code",
   "execution_count": 65,
   "id": "eb13d4bd-7e93-4713-8439-76bf666fb9d1",
   "metadata": {},
   "outputs": [
    {
     "data": {
      "text/plain": [
       "[1, 2, 3, 4, 5, 6, 7, 8, 9, 10, 11, 12, 13, 14, 15]"
      ]
     },
     "execution_count": 65,
     "metadata": {},
     "output_type": "execute_result"
    }
   ],
   "source": [
    "input_list"
   ]
  },
  {
   "cell_type": "code",
   "execution_count": 77,
   "id": "bbe3f221-2c21-4888-be56-814910eb236b",
   "metadata": {},
   "outputs": [
    {
     "data": {
      "text/plain": [
       "False"
      ]
     },
     "execution_count": 77,
     "metadata": {},
     "output_type": "execute_result"
    }
   ],
   "source": [
    "15%2 == 0"
   ]
  },
  {
   "cell_type": "code",
   "execution_count": 79,
   "id": "7feebfdc-14b5-4957-9a19-1232495843ce",
   "metadata": {},
   "outputs": [
    {
     "name": "stdout",
     "output_type": "stream",
     "text": [
      "iteration 1\n",
      "iteration 2\n",
      "2 is even\n",
      "iteration 3\n",
      "iteration 4\n",
      "4 is even\n",
      "iteration 5\n",
      "iteration 6\n",
      "6 is even\n",
      "iteration 7\n",
      "iteration 8\n",
      "8 is even\n",
      "iteration 9\n",
      "iteration 10\n",
      "10 is even\n",
      "iteration 11\n",
      "iteration 12\n",
      "12 is even\n",
      "iteration 13\n",
      "iteration 14\n",
      "14 is even\n",
      "iteration 15\n"
     ]
    }
   ],
   "source": [
    "for i in input_list:\n",
    "    print(\"iteration\", i)\n",
    "    if i%2 == 0:\n",
    "        print(i, \"is even\")\n",
    "# End of for loop"
   ]
  },
  {
   "cell_type": "code",
   "execution_count": 99,
   "id": "4ae65ee2-1f07-4778-8812-4b1d2ad7025b",
   "metadata": {},
   "outputs": [
    {
     "name": "stdout",
     "output_type": "stream",
     "text": [
      "2 is even\n",
      "4 is even\n",
      "6 is even\n",
      "8 is even\n",
      "10 is even\n",
      "12 is even\n",
      "14 is even\n"
     ]
    }
   ],
   "source": [
    "for i in input_list:\n",
    "    # print(\"iteration\", i)\n",
    "    if i%2 == 0:\n",
    "        print(i, \"is even\")\n",
    "# End of for loop"
   ]
  },
  {
   "cell_type": "code",
   "execution_count": 87,
   "id": "4f0444d8-6d53-4b5c-92ab-bff95272e97f",
   "metadata": {},
   "outputs": [],
   "source": [
    "# [2, 4, 6, ..]"
   ]
  },
  {
   "cell_type": "code",
   "execution_count": 97,
   "id": "4e9d3f03-4f0b-405b-b5f0-d62f3ea480f6",
   "metadata": {},
   "outputs": [
    {
     "name": "stdout",
     "output_type": "stream",
     "text": [
      "iteration 1\n",
      "iteration 2\n",
      "even_nums: [2]\n",
      "iteration 3\n",
      "iteration 4\n",
      "even_nums: [2, 4]\n",
      "iteration 5\n",
      "iteration 6\n",
      "even_nums: [2, 4, 6]\n",
      "iteration 7\n",
      "iteration 8\n",
      "even_nums: [2, 4, 6, 8]\n",
      "iteration 9\n",
      "iteration 10\n",
      "even_nums: [2, 4, 6, 8, 10]\n",
      "iteration 11\n",
      "iteration 12\n",
      "even_nums: [2, 4, 6, 8, 10, 12]\n",
      "iteration 13\n",
      "iteration 14\n",
      "even_nums: [2, 4, 6, 8, 10, 12, 14]\n",
      "iteration 15\n",
      "this is outside of for loop\n",
      "output:  [2, 4, 6, 8, 10, 12, 14]\n"
     ]
    }
   ],
   "source": [
    "even_nums = []\n",
    "for i in input_list:\n",
    "    print(\"iteration\", i)\n",
    "    if i%2 == 0:\n",
    "        even_nums.append(i)\n",
    "        print(\"even_nums:\", even_nums)\n",
    "# End of for loop\n",
    "print(\"this is outside of for loop\")\n",
    "print(\"output: \", even_nums)"
   ]
  },
  {
   "cell_type": "code",
   "execution_count": 95,
   "id": "86d3ed4a-4b30-44d2-bcc9-8dac0a4e120d",
   "metadata": {},
   "outputs": [
    {
     "data": {
      "text/plain": [
       "[2, 4, 6, 8, 10, 12, 14]"
      ]
     },
     "execution_count": 95,
     "metadata": {},
     "output_type": "execute_result"
    }
   ],
   "source": [
    "even_nums"
   ]
  },
  {
   "cell_type": "markdown",
   "id": "83a7898e-9963-4a6e-acc5-e19f189893c8",
   "metadata": {},
   "source": [
    "# Assignment\n",
    "1. Print output list with odd numbers from 1 to 100\n",
    "2. Print output list with square root of numbers from 1 to 10\n",
    "3. Print output list with numbers that are odd and divisible by 5, from range 1 to 100."
   ]
  },
  {
   "cell_type": "code",
   "execution_count": 2,
   "id": "75df902d-9efa-4454-921c-e0388df3fa1a",
   "metadata": {},
   "outputs": [],
   "source": [
    "# Example outputs\n",
    "# 1. [1, 3, 5, 7, 9, 11, 13, 15, ..]\n",
    "# 2. [1, 1.414, 1.732, ..]\n",
    "# 3. [5, 15, 25, ..]"
   ]
  },
  {
   "cell_type": "markdown",
   "id": "af07d492-3768-433d-97e8-c211878386d0",
   "metadata": {},
   "source": [
    "# Solution Discussion - Dec 28, 2024"
   ]
  },
  {
   "cell_type": "code",
   "execution_count": 11,
   "id": "33aa5bde-24e3-4155-a5aa-90d47e993658",
   "metadata": {},
   "outputs": [
    {
     "name": "stdout",
     "output_type": "stream",
     "text": [
      "This is outside of for loop\n",
      "Output List [1, 3, 5, 7, 9, 11, 13, 15, 17, 19, 21, 23, 25, 27, 29, 31, 33, 35, 37, 39, 41, 43, 45, 47, 49, 51, 53, 55, 57, 59, 61, 63, 65, 67, 69, 71, 73, 75, 77, 79, 81, 83, 85, 87, 89, 91, 93, 95, 97, 99]\n"
     ]
    }
   ],
   "source": [
    "# Print output list with odd numbers from 1 to 100\n",
    "# Odd numbers -- numbers not divisble by 2 -- i%2 != 0\n",
    "input_list = list(range(1,101))\n",
    "# print(input_list)\n",
    "odd_num_list = []\n",
    "# for i in range(1,101):\n",
    "for i in input_list:\n",
    "    if i%2 != 0:\n",
    "        odd_num_list.append(i)\n",
    "        # print(odd_num_list)\n",
    "#\n",
    "print(\"This is outside of for loop\")\n",
    "print(\"Output List\", odd_num_list)"
   ]
  },
  {
   "cell_type": "code",
   "execution_count": 13,
   "id": "b7cd032a-e4fa-485e-b14d-f9e4c598dd53",
   "metadata": {},
   "outputs": [
    {
     "data": {
      "text/plain": [
       "2.0"
      ]
     },
     "execution_count": 13,
     "metadata": {},
     "output_type": "execute_result"
    }
   ],
   "source": [
    "4**(1/2)"
   ]
  },
  {
   "cell_type": "code",
   "execution_count": 15,
   "id": "035e4d7e-c7d1-48e6-8ad4-313e63e54064",
   "metadata": {},
   "outputs": [
    {
     "data": {
      "text/plain": [
       "2.0"
      ]
     },
     "execution_count": 15,
     "metadata": {},
     "output_type": "execute_result"
    }
   ],
   "source": [
    "import math\n",
    "math.sqrt(4)"
   ]
  },
  {
   "cell_type": "code",
   "execution_count": 23,
   "id": "412ed805-5343-444a-9699-47e3c08389c5",
   "metadata": {},
   "outputs": [
    {
     "name": "stdout",
     "output_type": "stream",
     "text": [
      "Outside of for loop\n",
      "Output list [1.0, 1.4142135623730951, 1.7320508075688772, 2.0, 2.23606797749979, 2.449489742783178, 2.6457513110645907, 2.8284271247461903, 3.0, 3.1622776601683795]\n"
     ]
    }
   ],
   "source": [
    "# Print output list with square root of numbers from 1 to 10\n",
    "output_list = []\n",
    "for i in range(1,11):\n",
    "    # print(\"i:\", i)\n",
    "    sqrt_i = i**(1/2)\n",
    "    output_list.append(sqrt_i)\n",
    "    # print(output_list)\n",
    "# End of for loop\n",
    "print(\"Outside of for loop\")\n",
    "print(\"Output list\", output_list)\n"
   ]
  },
  {
   "cell_type": "code",
   "execution_count": 27,
   "id": "1971eaff-d08c-416a-911e-122317509d51",
   "metadata": {},
   "outputs": [
    {
     "name": "stdout",
     "output_type": "stream",
     "text": [
      "Outside of for loop\n",
      "Output list [1.0, 1.4142135623730951, 1.7320508075688772, 2.0, 2.23606797749979, 2.449489742783178, 2.6457513110645907, 2.8284271247461903, 3.0, 3.1622776601683795]\n"
     ]
    }
   ],
   "source": [
    "# Print output list with square root of numbers from 1 to 10\n",
    "output_list = []\n",
    "for i in range(1,11):\n",
    "    # print(\"i:\", i)\n",
    "    output_list.append(i**(1/2))\n",
    "    # print(output_list)\n",
    "#\n",
    "print(\"Outside of for loop\")\n",
    "print(\"Output list\", output_list)"
   ]
  },
  {
   "cell_type": "code",
   "execution_count": 33,
   "id": "ab2b0dba-443b-4e7b-a3da-195cd9975857",
   "metadata": {},
   "outputs": [
    {
     "name": "stdout",
     "output_type": "stream",
     "text": [
      "Output list [1.0, 1.4142135623730951, 1.7320508075688772, 2.0, 2.23606797749979, 2.449489742783178, 2.6457513110645907, 2.8284271247461903, 3.0, 3.1622776601683795]\n"
     ]
    }
   ],
   "source": [
    "# Print output list with square root of numbers from 1 to 10\n",
    "import math\n",
    "output_list = []\n",
    "for i in range(1,11):\n",
    "    # print(\"i:\", i)\n",
    "    output_list.append(math.sqrt(i))\n",
    "    # print(output_list)\n",
    "#\n",
    "# print(\"Outside of for loop\")\n",
    "print(\"Output list\", output_list)"
   ]
  },
  {
   "cell_type": "code",
   "execution_count": 43,
   "id": "0ae8e016-a7dc-47af-8d8b-e335b97a4deb",
   "metadata": {},
   "outputs": [],
   "source": [
    "num = 10"
   ]
  },
  {
   "cell_type": "code",
   "execution_count": 49,
   "id": "ff890d1b-6826-464d-8718-8f0832cdb82d",
   "metadata": {},
   "outputs": [
    {
     "data": {
      "text/plain": [
       "True"
      ]
     },
     "execution_count": 49,
     "metadata": {},
     "output_type": "execute_result"
    }
   ],
   "source": [
    "num%2 == 0 # Condition to check if num is divisible by 2\n",
    "# True --> number is divisble by 5\n",
    "# False --> number is not divisible by 5"
   ]
  },
  {
   "cell_type": "code",
   "execution_count": 51,
   "id": "bc7282ab-93f4-44f5-a9cb-c1a79c329373",
   "metadata": {},
   "outputs": [
    {
     "data": {
      "text/plain": [
       "True"
      ]
     },
     "execution_count": 51,
     "metadata": {},
     "output_type": "execute_result"
    }
   ],
   "source": [
    "num%5 == 0 # Condition to check if num is divisible by 5. \n",
    "# True --> number is divisble by 5\n",
    "# False --> number is not divisible by 5"
   ]
  },
  {
   "cell_type": "code",
   "execution_count": 55,
   "id": "fb0f4c01-1835-47dd-a43d-6e4e07d9442c",
   "metadata": {},
   "outputs": [
    {
     "data": {
      "text/plain": [
       "False"
      ]
     },
     "execution_count": 55,
     "metadata": {},
     "output_type": "execute_result"
    }
   ],
   "source": [
    "11%5 == 0"
   ]
  },
  {
   "cell_type": "code",
   "execution_count": 67,
   "id": "7025beac-ab3c-4a7d-ba7a-d4677f980f12",
   "metadata": {},
   "outputs": [
    {
     "name": "stdout",
     "output_type": "stream",
     "text": [
      "output_list [5, 15, 25, 35, 45, 55, 65, 75, 85, 95]\n"
     ]
    }
   ],
   "source": [
    "# Print output list with numbers that are odd and divisible by 5, from range 1 to 100.\n",
    "output_list = []\n",
    "for i in range(1,101):\n",
    "    # if i%2 != 0:\n",
    "    #     output_list.append(i)\n",
    "    #     print(output_list)\n",
    "    # if i%5 == 0:\n",
    "    #     output_list.append(i)\n",
    "    #     print(output_list)\n",
    "    if i%2 != 0 and i%5 == 0:\n",
    "        output_list.append(i)\n",
    "        # print(output_list)\n",
    "#\n",
    "print(\"output_list\", output_list)"
   ]
  },
  {
   "cell_type": "markdown",
   "id": "31211361-e7a6-44b1-9d20-8b0b645718ab",
   "metadata": {},
   "source": [
    "# List - pop and remove?"
   ]
  },
  {
   "cell_type": "code",
   "execution_count": 106,
   "id": "438fadc6-54a4-453e-88cd-7f76ce163b19",
   "metadata": {},
   "outputs": [],
   "source": [
    "a = [5, 15, 25, 35, 45, 55, 65, 75, 85, 95]"
   ]
  },
  {
   "cell_type": "code",
   "execution_count": 108,
   "id": "559460db-25a2-450b-9bf5-3a46efb1e5d1",
   "metadata": {},
   "outputs": [
    {
     "data": {
      "text/plain": [
       "\u001b[1;31mSignature:\u001b[0m \u001b[0ma\u001b[0m\u001b[1;33m.\u001b[0m\u001b[0mpop\u001b[0m\u001b[1;33m(\u001b[0m\u001b[0mindex\u001b[0m\u001b[1;33m=\u001b[0m\u001b[1;33m-\u001b[0m\u001b[1;36m1\u001b[0m\u001b[1;33m,\u001b[0m \u001b[1;33m/\u001b[0m\u001b[1;33m)\u001b[0m\u001b[1;33m\u001b[0m\u001b[1;33m\u001b[0m\u001b[0m\n",
       "\u001b[1;31mDocstring:\u001b[0m\n",
       "Remove and return item at index (default last).\n",
       "\n",
       "Raises IndexError if list is empty or index is out of range.\n",
       "\u001b[1;31mType:\u001b[0m      builtin_function_or_method"
      ]
     },
     "metadata": {},
     "output_type": "display_data"
    }
   ],
   "source": [
    "a.pop?\n",
    "# a.remove?"
   ]
  },
  {
   "cell_type": "code",
   "execution_count": 110,
   "id": "7357d322-091b-49e4-a589-d5a28f88a4f0",
   "metadata": {},
   "outputs": [
    {
     "name": "stdout",
     "output_type": "stream",
     "text": [
      "95\n"
     ]
    }
   ],
   "source": [
    "last_item = a.pop() # Remove have return value\n",
    "print(last_item)"
   ]
  },
  {
   "cell_type": "code",
   "execution_count": 112,
   "id": "612b8fac-c5fe-4e47-9fec-f5eb11d810bb",
   "metadata": {},
   "outputs": [
    {
     "data": {
      "text/plain": [
       "[5, 15, 25, 35, 45, 55, 65, 75, 85]"
      ]
     },
     "execution_count": 112,
     "metadata": {},
     "output_type": "execute_result"
    }
   ],
   "source": [
    "a"
   ]
  },
  {
   "cell_type": "code",
   "execution_count": 114,
   "id": "44265f5b-925b-4fd7-92a2-dba06ea94ba6",
   "metadata": {},
   "outputs": [
    {
     "name": "stdout",
     "output_type": "stream",
     "text": [
      "None\n"
     ]
    }
   ],
   "source": [
    "last_item = a.remove(85)  # Remove doesn't have return value\n",
    "print(last_item)"
   ]
  },
  {
   "cell_type": "code",
   "execution_count": 116,
   "id": "0eae7bcc-2e9c-4ed1-8917-385b0a51ad56",
   "metadata": {},
   "outputs": [],
   "source": [
    "last_item"
   ]
  },
  {
   "cell_type": "markdown",
   "id": "21b5ba84-33ac-4b22-8815-23dfd4aa0892",
   "metadata": {},
   "source": [
    "# Set - pop and remove?"
   ]
  },
  {
   "cell_type": "code",
   "execution_count": 133,
   "id": "ded0410d-7686-42b7-ac87-5b14e3451890",
   "metadata": {},
   "outputs": [],
   "source": [
    "s = {5, 15, 25, 35, 45, 55, 65, 75, 85, 95}"
   ]
  },
  {
   "cell_type": "code",
   "execution_count": 135,
   "id": "94131996-fb9b-4d09-8ed0-53ae4a1023f8",
   "metadata": {},
   "outputs": [
    {
     "data": {
      "text/plain": [
       "{5, 15, 25, 35, 45, 55, 65, 75, 85, 95}"
      ]
     },
     "execution_count": 135,
     "metadata": {},
     "output_type": "execute_result"
    }
   ],
   "source": [
    "s"
   ]
  },
  {
   "cell_type": "code",
   "execution_count": 143,
   "id": "33993915-c718-440d-9949-4f635f73b852",
   "metadata": {},
   "outputs": [
    {
     "name": "stdout",
     "output_type": "stream",
     "text": [
      "35\n"
     ]
    }
   ],
   "source": [
    "item_deleted = s.pop()\n",
    "print(item_deleted)"
   ]
  },
  {
   "cell_type": "code",
   "execution_count": 145,
   "id": "deb0e3ef-6640-485b-bcb3-c66ce366e4fd",
   "metadata": {},
   "outputs": [
    {
     "data": {
      "text/plain": [
       "{5, 15, 25, 45, 55, 75, 95}"
      ]
     },
     "execution_count": 145,
     "metadata": {},
     "output_type": "execute_result"
    }
   ],
   "source": [
    "s"
   ]
  },
  {
   "cell_type": "code",
   "execution_count": 141,
   "id": "84c89eb0-2349-48aa-9f2b-f023158d324b",
   "metadata": {},
   "outputs": [
    {
     "name": "stdout",
     "output_type": "stream",
     "text": [
      "None\n"
     ]
    }
   ],
   "source": [
    "item_deleted = s.remove(85)\n",
    "print(item_deleted)"
   ]
  },
  {
   "cell_type": "markdown",
   "id": "40916ebc-cd63-4b6e-8aab-8447f929010c",
   "metadata": {},
   "source": [
    "# For loop"
   ]
  },
  {
   "cell_type": "code",
   "execution_count": 153,
   "id": "e60f5cb6-1901-4b9e-814a-352ee8820f44",
   "metadata": {},
   "outputs": [
    {
     "name": "stdout",
     "output_type": "stream",
     "text": [
      "[1, 5, 9, 13, 17]\n"
     ]
    }
   ],
   "source": [
    "lst = list(range(1,21,4))\n",
    "print(lst)"
   ]
  },
  {
   "cell_type": "code",
   "execution_count": 155,
   "id": "aa09b2f9-76bb-4c6f-8b7d-eaa89453d640",
   "metadata": {},
   "outputs": [
    {
     "name": "stdout",
     "output_type": "stream",
     "text": [
      "1\n",
      "5\n",
      "9\n",
      "13\n",
      "17\n"
     ]
    }
   ],
   "source": [
    "for i in lst:\n",
    "    print(i)"
   ]
  },
  {
   "cell_type": "code",
   "execution_count": 161,
   "id": "3154c379-6494-44d4-9393-a63b32c34030",
   "metadata": {},
   "outputs": [
    {
     "name": "stdout",
     "output_type": "stream",
     "text": [
      "(100, 120, 140, 160, 180)\n"
     ]
    }
   ],
   "source": [
    "tpl = tuple(range(100,200,20))\n",
    "print(tpl)"
   ]
  },
  {
   "cell_type": "code",
   "execution_count": 163,
   "id": "f636ab81-2b00-4811-9185-f08a56f6cf28",
   "metadata": {},
   "outputs": [
    {
     "name": "stdout",
     "output_type": "stream",
     "text": [
      "100\n",
      "120\n",
      "140\n",
      "160\n",
      "180\n"
     ]
    }
   ],
   "source": [
    "for i in tpl:\n",
    "    print(i)"
   ]
  },
  {
   "cell_type": "code",
   "execution_count": 179,
   "id": "481ed803-5dcf-469e-8c01-496a928833ff",
   "metadata": {},
   "outputs": [
    {
     "name": "stdout",
     "output_type": "stream",
     "text": [
      "{-19, -17, -15, -13, -11, -9, -7, -5, -3, -1}\n"
     ]
    }
   ],
   "source": [
    "st = set(range(-1,-20,-2))\n",
    "print(st)"
   ]
  },
  {
   "cell_type": "code",
   "execution_count": 173,
   "id": "3000c926-dd90-433c-ad33-7731a4e3e20a",
   "metadata": {},
   "outputs": [
    {
     "name": "stdout",
     "output_type": "stream",
     "text": [
      "{-20, -18, -16, -14, -12, -10, -8, -6, -4, -2}\n"
     ]
    }
   ],
   "source": [
    "st = set(range(-20,-1,2))\n",
    "print(st)"
   ]
  },
  {
   "cell_type": "code",
   "execution_count": 181,
   "id": "18474ffa-cd9f-44c4-8627-dcdbddd28d90",
   "metadata": {},
   "outputs": [
    {
     "name": "stdout",
     "output_type": "stream",
     "text": [
      "-19\n",
      "-17\n",
      "-15\n",
      "-13\n",
      "-11\n",
      "-9\n",
      "-7\n",
      "-5\n",
      "-3\n",
      "-1\n"
     ]
    }
   ],
   "source": [
    "for i in st:\n",
    "    print(i)"
   ]
  },
  {
   "cell_type": "code",
   "execution_count": 183,
   "id": "14ad5d93-2406-4db3-93e3-06125cb3af88",
   "metadata": {},
   "outputs": [
    {
     "name": "stdout",
     "output_type": "stream",
     "text": [
      "{'a': 1, 'b': 2, 'c': 3, 'd': 4, 'e': 5}\n"
     ]
    }
   ],
   "source": [
    "dict1 = {'a':1, 'b':2, 'c':3, 'd':4, 'e':5}\n",
    "print(dict1)"
   ]
  },
  {
   "cell_type": "code",
   "execution_count": 187,
   "id": "92df798e-b457-42a5-9028-19f6bacb53bf",
   "metadata": {},
   "outputs": [
    {
     "name": "stdout",
     "output_type": "stream",
     "text": [
      "a\n",
      "b\n",
      "c\n",
      "d\n",
      "e\n"
     ]
    }
   ],
   "source": [
    "for i in dict1:   # Only keys will be extracted\n",
    "    print(i)"
   ]
  },
  {
   "cell_type": "code",
   "execution_count": 189,
   "id": "93334c34-19c3-4466-86f0-740989892575",
   "metadata": {},
   "outputs": [
    {
     "data": {
      "text/plain": [
       "dict_values([1, 2, 3, 4, 5])"
      ]
     },
     "execution_count": 189,
     "metadata": {},
     "output_type": "execute_result"
    }
   ],
   "source": [
    "dict1.values()"
   ]
  },
  {
   "cell_type": "code",
   "execution_count": 191,
   "id": "1c534b42-1a8b-45e1-af02-452273fd5f83",
   "metadata": {},
   "outputs": [
    {
     "name": "stdout",
     "output_type": "stream",
     "text": [
      "1\n",
      "2\n",
      "3\n",
      "4\n",
      "5\n"
     ]
    }
   ],
   "source": [
    "for i in dict1.values():   # Only values will be extracted\n",
    "    print(i)"
   ]
  },
  {
   "cell_type": "code",
   "execution_count": 193,
   "id": "023c8c68-15b6-4104-84a4-4268081436d5",
   "metadata": {},
   "outputs": [
    {
     "data": {
      "text/plain": [
       "dict_items([('a', 1), ('b', 2), ('c', 3), ('d', 4), ('e', 5)])"
      ]
     },
     "execution_count": 193,
     "metadata": {},
     "output_type": "execute_result"
    }
   ],
   "source": [
    "dict1.items()"
   ]
  },
  {
   "cell_type": "code",
   "execution_count": 197,
   "id": "045e5097-9d50-47e8-9514-b701e1129974",
   "metadata": {},
   "outputs": [
    {
     "name": "stdout",
     "output_type": "stream",
     "text": [
      "('a', 1)\n",
      "('b', 2)\n",
      "('c', 3)\n",
      "('d', 4)\n",
      "('e', 5)\n"
     ]
    }
   ],
   "source": [
    "for i in dict1.items():   # Key-value pairs will be extracted\n",
    "    print(i)"
   ]
  },
  {
   "cell_type": "code",
   "execution_count": 201,
   "id": "cdaea49e-367e-40bc-a592-c485a3e80b96",
   "metadata": {},
   "outputs": [
    {
     "name": "stdout",
     "output_type": "stream",
     "text": [
      "key a value 1\n",
      "key b value 2\n",
      "key c value 3\n",
      "key d value 4\n",
      "key e value 5\n"
     ]
    }
   ],
   "source": [
    "for i in dict1.items():   # Key-value pairs will be extracted\n",
    "    print('key', i[0], 'value', i[1])\n",
    "    # print('value', i[1])"
   ]
  },
  {
   "cell_type": "code",
   "execution_count": 203,
   "id": "31faebcd-26d8-4ad8-b537-985f4866949b",
   "metadata": {},
   "outputs": [],
   "source": [
    "a, b = 10, 'hi'"
   ]
  },
  {
   "cell_type": "code",
   "execution_count": 207,
   "id": "aafbd1b4-f5c5-4d50-9ba2-a82edc8c78e1",
   "metadata": {},
   "outputs": [
    {
     "name": "stdout",
     "output_type": "stream",
     "text": [
      "a: 10\n",
      "b: hi\n"
     ]
    }
   ],
   "source": [
    "print(\"a:\", a)\n",
    "print(\"b:\", b)"
   ]
  },
  {
   "cell_type": "code",
   "execution_count": 209,
   "id": "ec0e3b67-2105-4171-9003-b5c35fa61e26",
   "metadata": {},
   "outputs": [
    {
     "name": "stdout",
     "output_type": "stream",
     "text": [
      "a: 10\n",
      "b: hi\n",
      "c: True\n",
      "d: None\n"
     ]
    }
   ],
   "source": [
    "a, b, c, d = 10, 'hi', True, None\n",
    "print(\"a:\", a)\n",
    "print(\"b:\", b)\n",
    "print(\"c:\", c)\n",
    "print(\"d:\", d)"
   ]
  },
  {
   "cell_type": "code",
   "execution_count": 211,
   "id": "d053ecb0-bea1-420a-877f-642d8ef5445d",
   "metadata": {},
   "outputs": [
    {
     "data": {
      "text/plain": [
       "dict_items([('a', 1), ('b', 2), ('c', 3), ('d', 4), ('e', 5)])"
      ]
     },
     "execution_count": 211,
     "metadata": {},
     "output_type": "execute_result"
    }
   ],
   "source": [
    "dict1.items()"
   ]
  },
  {
   "cell_type": "code",
   "execution_count": 215,
   "id": "7b2f24c9-0e5f-427b-be86-049722a69d90",
   "metadata": {},
   "outputs": [
    {
     "name": "stdout",
     "output_type": "stream",
     "text": [
      "a 1\n",
      "b 2\n",
      "c 3\n",
      "d 4\n",
      "e 5\n"
     ]
    }
   ],
   "source": [
    "for key, value in dict1.items():   # Key-value pairs will be extracted\n",
    "    # print('key', key, 'value', value)\n",
    "    print(key, value)"
   ]
  },
  {
   "cell_type": "code",
   "execution_count": 217,
   "id": "d7f9b232-c338-4235-97a4-aa51fb09641f",
   "metadata": {},
   "outputs": [
    {
     "name": "stdout",
     "output_type": "stream",
     "text": [
      "[2, 4, 6, 8, 10, 12, 14, 16, 18, 20]\n"
     ]
    }
   ],
   "source": [
    "# list of even number between 1 and 20\n",
    "even_list = []\n",
    "for i in range(1,21):\n",
    "    if i%2 == 0:\n",
    "        even_list.append(i)\n",
    "#\n",
    "print(even_list)"
   ]
  },
  {
   "cell_type": "code",
   "execution_count": 221,
   "id": "ff12fbb7-99dc-40a0-8440-98d8dd7958a9",
   "metadata": {},
   "outputs": [
    {
     "data": {
      "text/plain": [
       "[2, 4, 6, 8, 10, 12, 14, 16, 18, 20]"
      ]
     },
     "execution_count": 221,
     "metadata": {},
     "output_type": "execute_result"
    }
   ],
   "source": [
    "[i for i in range(1,21) if i%2 == 0] # List comprehension"
   ]
  },
  {
   "cell_type": "code",
   "execution_count": 223,
   "id": "204aa277-f880-46cf-82d6-ae12bce689f4",
   "metadata": {},
   "outputs": [
    {
     "name": "stdout",
     "output_type": "stream",
     "text": [
      "[2, 4, 6, 8, 10, 12, 14, 16, 18, 20]\n",
      "[1, 3, 5, 7, 9, 11, 13, 15, 17, 19]\n"
     ]
    }
   ],
   "source": [
    "# list of even number between 1 and 20\n",
    "even_list = []\n",
    "odd_list = []\n",
    "for i in range(1,21):\n",
    "    if i%2 == 0:\n",
    "        even_list.append(i)\n",
    "    else:\n",
    "        odd_list.append(i)\n",
    "#\n",
    "print(even_list)\n",
    "print(odd_list)"
   ]
  },
  {
   "cell_type": "code",
   "execution_count": null,
   "id": "c116dd12-3ac1-42d9-87eb-48250fd5c21d",
   "metadata": {},
   "outputs": [],
   "source": []
  }
 ],
 "metadata": {
  "kernelspec": {
   "display_name": "Python 3 (ipykernel)",
   "language": "python",
   "name": "python3"
  },
  "language_info": {
   "codemirror_mode": {
    "name": "ipython",
    "version": 3
   },
   "file_extension": ".py",
   "mimetype": "text/x-python",
   "name": "python",
   "nbconvert_exporter": "python",
   "pygments_lexer": "ipython3",
   "version": "3.12.4"
  }
 },
 "nbformat": 4,
 "nbformat_minor": 5
}
