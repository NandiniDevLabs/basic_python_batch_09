{
 "cells": [
  {
   "cell_type": "markdown",
   "id": "8c3bec70",
   "metadata": {},
   "source": [
    "# List Comprehensions\n",
    "- List Comprehensions are a unique way of quickly creating a list with Python.\n",
    "- If you find yourself using a for loop along with .append() to create a list, List Comprehensions are a good alternative!\n"
   ]
  },
  {
   "cell_type": "code",
   "execution_count": 1,
   "id": "6e1f81af-fa0a-4c3c-8df2-58d4fd88a20d",
   "metadata": {},
   "outputs": [],
   "source": [
    "input_list =list(range(0,15))"
   ]
  },
  {
   "cell_type": "code",
   "execution_count": null,
   "id": "303bfc7d-a682-4f3f-92b9-8b3a4f7050c6",
   "metadata": {},
   "outputs": [],
   "source": [
    "input_list"
   ]
  },
  {
   "cell_type": "code",
   "execution_count": null,
   "id": "306cd8eb-f3e7-4392-a927-19a3be2b095a",
   "metadata": {},
   "outputs": [],
   "source": [
    "# Add 2 to every item in the list\n",
    "input_list + 2  # will not work"
   ]
  },
  {
   "cell_type": "code",
   "execution_count": null,
   "id": "1e039a90-40ba-4369-8bc5-5241a0c70604",
   "metadata": {},
   "outputs": [],
   "source": [
    "input_list"
   ]
  },
  {
   "cell_type": "code",
   "execution_count": 5,
   "id": "96d034b5-65d2-4a18-88f0-37ae13888c00",
   "metadata": {},
   "outputs": [],
   "source": [
    "output_list = []\n",
    "for i in input_list:\n",
    "    # print(i + 2)\n",
    "    output_list.append(i + 2)\n",
    "# end of for loop"
   ]
  },
  {
   "cell_type": "code",
   "execution_count": null,
   "id": "e9d96f36-d29e-4615-825d-76f00194e017",
   "metadata": {},
   "outputs": [],
   "source": [
    "print(output_list)"
   ]
  },
  {
   "cell_type": "code",
   "execution_count": null,
   "id": "909021ec-c4a0-4e4b-8554-4e99b30bf3d7",
   "metadata": {},
   "outputs": [],
   "source": [
    "input_list"
   ]
  },
  {
   "cell_type": "code",
   "execution_count": null,
   "id": "e1f4820e-7e2c-4fdf-8ce3-b7ebf7e89920",
   "metadata": {},
   "outputs": [],
   "source": [
    "output_list = [i for i in input_list]\n",
    "print(output_list)"
   ]
  },
  {
   "cell_type": "code",
   "execution_count": null,
   "id": "32188594-e2bb-4129-8bb9-3c3e0985628e",
   "metadata": {},
   "outputs": [],
   "source": [
    "[i+2 for i in input_list]"
   ]
  },
  {
   "cell_type": "code",
   "execution_count": null,
   "id": "f1e64013-0ce5-4c27-abbc-3586b6288327",
   "metadata": {},
   "outputs": [],
   "source": [
    "[i*2 for i in input_list]"
   ]
  },
  {
   "cell_type": "code",
   "execution_count": 11,
   "id": "fc6c8aff",
   "metadata": {},
   "outputs": [],
   "source": [
    "a = list(range(15))"
   ]
  },
  {
   "cell_type": "code",
   "execution_count": null,
   "id": "b37330c4",
   "metadata": {},
   "outputs": [],
   "source": [
    "a"
   ]
  },
  {
   "cell_type": "code",
   "execution_count": null,
   "id": "c2e8d25f",
   "metadata": {},
   "outputs": [],
   "source": [
    "output_list = []\n",
    "for i in a:\n",
    "    output_list.append(i + 5)\n",
    "#\n",
    "print(output_list)"
   ]
  },
  {
   "cell_type": "code",
   "execution_count": null,
   "id": "439b980e",
   "metadata": {},
   "outputs": [],
   "source": [
    "[i+5 for i in a]"
   ]
  },
  {
   "cell_type": "code",
   "execution_count": null,
   "id": "9ee535b9",
   "metadata": {},
   "outputs": [],
   "source": [
    "o = [i+5 for i in a]\n",
    "print(o)"
   ]
  },
  {
   "cell_type": "code",
   "execution_count": null,
   "id": "db018661",
   "metadata": {},
   "outputs": [],
   "source": [
    "a"
   ]
  },
  {
   "cell_type": "code",
   "execution_count": null,
   "id": "444e2ea6",
   "metadata": {},
   "outputs": [],
   "source": [
    "output_list = []\n",
    "for i in a:\n",
    "    output_list.append(i//5)\n",
    "#\n",
    "print(output_list)"
   ]
  },
  {
   "cell_type": "code",
   "execution_count": null,
   "id": "c00451ef",
   "metadata": {},
   "outputs": [],
   "source": [
    "o = [i//5 for i in a]\n",
    "print(o)"
   ]
  },
  {
   "cell_type": "code",
   "execution_count": 19,
   "id": "b64fb8be",
   "metadata": {},
   "outputs": [],
   "source": [
    "a=10\n",
    "b=20\n",
    "c=30"
   ]
  },
  {
   "cell_type": "code",
   "execution_count": null,
   "id": "0fd2f62b",
   "metadata": {},
   "outputs": [],
   "source": [
    "a=10 ; b=20; c=30\n",
    "print(a)\n",
    "print(b)\n",
    "print(c)"
   ]
  },
  {
   "cell_type": "code",
   "execution_count": 21,
   "id": "fb2b6c98",
   "metadata": {},
   "outputs": [],
   "source": [
    "input_list = list(range(20))"
   ]
  },
  {
   "cell_type": "code",
   "execution_count": null,
   "id": "8d37d126",
   "metadata": {},
   "outputs": [],
   "source": [
    "input_list"
   ]
  },
  {
   "cell_type": "code",
   "execution_count": 23,
   "id": "90d0377b",
   "metadata": {},
   "outputs": [],
   "source": [
    "# Filter even number from input list\n",
    "# Even number - number divisible by 2 -- n%2 == 0"
   ]
  },
  {
   "cell_type": "code",
   "execution_count": null,
   "id": "9603b5c0",
   "metadata": {},
   "outputs": [],
   "source": [
    "filtered_list = []\n",
    "for i in input_list:\n",
    "    # print(i)\n",
    "    if i%2 == 0:\n",
    "        filtered_list.append(i)\n",
    "# End of for loop\n",
    "print(filtered_list)"
   ]
  },
  {
   "cell_type": "code",
   "execution_count": null,
   "id": "b619d01b",
   "metadata": {},
   "outputs": [],
   "source": [
    "1%2 != 0"
   ]
  },
  {
   "cell_type": "code",
   "execution_count": null,
   "id": "f2170cfe",
   "metadata": {},
   "outputs": [],
   "source": [
    "1%2 == 1"
   ]
  },
  {
   "cell_type": "code",
   "execution_count": null,
   "id": "145458dc",
   "metadata": {},
   "outputs": [],
   "source": [
    "11%2"
   ]
  },
  {
   "cell_type": "code",
   "execution_count": null,
   "id": "6cd7d783",
   "metadata": {},
   "outputs": [],
   "source": [
    "# To Filter even number from input list - Normal approach\n",
    "filtered_list = []\n",
    "for i in input_list:\n",
    "    # print(i)\n",
    "    if i%2 == 0:\n",
    "        filtered_list.append(i)\n",
    "# End of for loop\n",
    "print(filtered_list)"
   ]
  },
  {
   "cell_type": "code",
   "execution_count": null,
   "id": "3e503087",
   "metadata": {},
   "outputs": [],
   "source": [
    "# To Filter even number from input list - using list comprehension\n",
    "[i for i in input_list if i%2 == 0]"
   ]
  },
  {
   "cell_type": "code",
   "execution_count": null,
   "id": "f190f7e3",
   "metadata": {},
   "outputs": [],
   "source": [
    "# To Filter odd number from input list - using list comprehension\n",
    "[i for i in input_list if i%2 != 0]"
   ]
  },
  {
   "cell_type": "code",
   "execution_count": 31,
   "id": "7bff9ca1",
   "metadata": {},
   "outputs": [],
   "source": [
    "# For an input list of numbers\n",
    "# if item number is even, mark it as 'Even'\n",
    "# else if item number is odd, mark it as 'Odd'\n",
    "# Ex: ['Even','Odd','Even','Odd'..]"
   ]
  },
  {
   "cell_type": "code",
   "execution_count": null,
   "id": "b57c6300",
   "metadata": {},
   "outputs": [],
   "source": [
    "input_list = list(range(10))\n",
    "print(input_list)"
   ]
  },
  {
   "cell_type": "code",
   "execution_count": null,
   "id": "099b42a0",
   "metadata": {},
   "outputs": [],
   "source": [
    "output_list = []\n",
    "for i in input_list:\n",
    "    if i%2 == 0:\n",
    "        output_list.append('Even')\n",
    "    else:\n",
    "        output_list.append('Odd')\n",
    "# End of for loop\n",
    "print(output_list)"
   ]
  },
  {
   "cell_type": "code",
   "execution_count": null,
   "id": "9fd6a880",
   "metadata": {},
   "outputs": [],
   "source": [
    "# List comprehension with if else\n",
    "['Even' if i%2 == 0 else 'Odd' for i in input_list]"
   ]
  },
  {
   "cell_type": "code",
   "execution_count": null,
   "id": "f8da6275",
   "metadata": {},
   "outputs": [],
   "source": [
    "[str(i)+'-Even' for i in input_list if i%2 == 0]"
   ]
  },
  {
   "cell_type": "code",
   "execution_count": null,
   "id": "17010a5d",
   "metadata": {},
   "outputs": [],
   "source": [
    "type(input_list[0])"
   ]
  },
  {
   "cell_type": "code",
   "execution_count": null,
   "id": "af858e5e",
   "metadata": {},
   "outputs": [],
   "source": [
    "0 + 'Ram'"
   ]
  },
  {
   "cell_type": "code",
   "execution_count": null,
   "id": "b29fd28b",
   "metadata": {},
   "outputs": [],
   "source": [
    "str(0)"
   ]
  },
  {
   "cell_type": "code",
   "execution_count": null,
   "id": "1067a261",
   "metadata": {},
   "outputs": [],
   "source": [
    "str(0) + '-Ram'"
   ]
  },
  {
   "cell_type": "code",
   "execution_count": null,
   "id": "f85c269e",
   "metadata": {},
   "outputs": [],
   "source": []
  },
  {
   "cell_type": "code",
   "execution_count": null,
   "id": "6aa29ae3-d6dd-4a2e-8589-b1df7c1e0f16",
   "metadata": {},
   "outputs": [],
   "source": []
  }
 ],
 "metadata": {
  "kernelspec": {
   "display_name": "Python 3",
   "language": "python",
   "name": "python3"
  },
  "language_info": {
   "codemirror_mode": {
    "name": "ipython",
    "version": 3
   },
   "file_extension": ".py",
   "mimetype": "text/x-python",
   "name": "python",
   "nbconvert_exporter": "python",
   "pygments_lexer": "ipython3",
   "version": "3.11.9"
  }
 },
 "nbformat": 4,
 "nbformat_minor": 5
}
