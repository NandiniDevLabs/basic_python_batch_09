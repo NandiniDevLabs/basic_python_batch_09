{
 "cells": [
  {
   "cell_type": "code",
   "execution_count": null,
   "id": "fd846166-2722-4356-8881-f541536f2d2f",
   "metadata": {},
   "outputs": [],
   "source": [
    "d1 = {'a':1, 'b':2, 'c':3, 'd':4}"
   ]
  },
  {
   "cell_type": "code",
   "execution_count": null,
   "id": "c750ce08-b2ba-4bf3-9060-575273a9378b",
   "metadata": {},
   "outputs": [],
   "source": [
    "d1"
   ]
  },
  {
   "cell_type": "code",
   "execution_count": null,
   "id": "b5fa2696-6981-48a5-8270-a5ebf5e030ad",
   "metadata": {},
   "outputs": [],
   "source": [
    "type(d1)"
   ]
  },
  {
   "cell_type": "code",
   "execution_count": null,
   "id": "ac2f4fed-d3e0-4640-b686-7341f6ee7687",
   "metadata": {},
   "outputs": [],
   "source": [
    "d1[0]"
   ]
  },
  {
   "cell_type": "code",
   "execution_count": null,
   "id": "fbcb1783-6bf2-40e5-9c4f-4baec66091ff",
   "metadata": {},
   "outputs": [],
   "source": [
    "d1"
   ]
  },
  {
   "cell_type": "code",
   "execution_count": null,
   "id": "a38b2735-0288-424d-9358-1c227335139d",
   "metadata": {},
   "outputs": [],
   "source": [
    "d1['a']"
   ]
  },
  {
   "cell_type": "code",
   "execution_count": null,
   "id": "690928c7-ce01-4a5a-8ae6-e96b109b040e",
   "metadata": {},
   "outputs": [],
   "source": [
    "d1['c']"
   ]
  },
  {
   "cell_type": "code",
   "execution_count": null,
   "id": "811227af-bcf8-4b13-b8f7-2e5d669b23f3",
   "metadata": {},
   "outputs": [],
   "source": [
    "# d1.*?\n",
    "# d1.clear -- \n",
    "# d1.copy ??\n",
    "# d1.fromkeys -- \n",
    "# d1.get --\n",
    "# d1.items --\n",
    "# d1.keys --\n",
    "# d1.pop --\n",
    "# d1.popitem --\n",
    "# d1.setdefault --\n",
    "# d1.update --\n",
    "# d1.values --"
   ]
  },
  {
   "cell_type": "code",
   "execution_count": null,
   "id": "a78b3d23-fbf2-433b-aafb-f257dfd966bb",
   "metadata": {},
   "outputs": [],
   "source": [
    "d1.clear()"
   ]
  },
  {
   "cell_type": "code",
   "execution_count": null,
   "id": "f84b36dc-fd8e-45e9-9f58-66ae99061ebf",
   "metadata": {},
   "outputs": [],
   "source": [
    "d1"
   ]
  },
  {
   "cell_type": "code",
   "execution_count": null,
   "id": "95b857b1-8cc2-4a2f-a403-3e03400010a4",
   "metadata": {},
   "outputs": [],
   "source": [
    "d1 = {'a':1, 'b':2, 'c':3, 'd':4}\n",
    "print(d1)"
   ]
  },
  {
   "cell_type": "code",
   "execution_count": null,
   "id": "36b0aa4a-43ef-431a-9e96-cd4666594813",
   "metadata": {},
   "outputs": [],
   "source": [
    "d1['a']"
   ]
  },
  {
   "cell_type": "code",
   "execution_count": null,
   "id": "fa34aff5-d598-4379-86d2-1afd708c68e8",
   "metadata": {},
   "outputs": [],
   "source": [
    "d1.get('a')"
   ]
  },
  {
   "cell_type": "code",
   "execution_count": null,
   "id": "71b914e1-20bb-4eeb-95c6-068e30ebbb86",
   "metadata": {},
   "outputs": [],
   "source": [
    "d1.get('z')"
   ]
  },
  {
   "cell_type": "code",
   "execution_count": null,
   "id": "aa7ac280-03ba-4396-86e3-9c74fbc565d4",
   "metadata": {},
   "outputs": [],
   "source": [
    "d1['z']"
   ]
  },
  {
   "cell_type": "code",
   "execution_count": null,
   "id": "2e240b61-03ce-4812-a4c5-96f4bc219167",
   "metadata": {},
   "outputs": [],
   "source": [
    "d1"
   ]
  },
  {
   "cell_type": "code",
   "execution_count": null,
   "id": "5ebea2b3-8b29-40c4-bf98-c79d0e11161d",
   "metadata": {},
   "outputs": [],
   "source": [
    "d1.items()"
   ]
  },
  {
   "cell_type": "code",
   "execution_count": null,
   "id": "9505e8fa-4837-48c2-babc-ab78bbb698db",
   "metadata": {},
   "outputs": [],
   "source": [
    "d1"
   ]
  },
  {
   "cell_type": "code",
   "execution_count": null,
   "id": "9b0174a5-c25d-427e-b723-be858c702236",
   "metadata": {},
   "outputs": [],
   "source": [
    "d1.keys()"
   ]
  },
  {
   "cell_type": "code",
   "execution_count": null,
   "id": "f85f5306-6be6-4bf2-8ebd-96a2345ee7d4",
   "metadata": {},
   "outputs": [],
   "source": [
    "d1.values()"
   ]
  },
  {
   "cell_type": "code",
   "execution_count": null,
   "id": "3fefcbaa-b861-4fe8-9413-dc71a6837596",
   "metadata": {},
   "outputs": [],
   "source": [
    "type(d1.values())"
   ]
  },
  {
   "cell_type": "code",
   "execution_count": null,
   "id": "6276116a-a929-4cd5-aed1-c2f3d81a5a68",
   "metadata": {},
   "outputs": [],
   "source": [
    "list(d1.values())"
   ]
  },
  {
   "cell_type": "code",
   "execution_count": null,
   "id": "c21d1113-3045-404a-8603-d7152d73fdc7",
   "metadata": {},
   "outputs": [],
   "source": [
    "d1.pop?"
   ]
  },
  {
   "cell_type": "code",
   "execution_count": null,
   "id": "e4bfab03-3168-4aa2-8126-18dca7fe3c8d",
   "metadata": {},
   "outputs": [],
   "source": [
    "d1"
   ]
  },
  {
   "cell_type": "code",
   "execution_count": null,
   "id": "7f9b93c0-0bc2-4b54-b997-4805cff9882f",
   "metadata": {},
   "outputs": [],
   "source": [
    "d1.pop()"
   ]
  },
  {
   "cell_type": "code",
   "execution_count": null,
   "id": "f698b321-b481-402b-836e-33a0f627ea71",
   "metadata": {},
   "outputs": [],
   "source": [
    "d1.pop('c')"
   ]
  },
  {
   "cell_type": "code",
   "execution_count": null,
   "id": "37b56abd-4b76-4829-9ed4-dba6d839293a",
   "metadata": {},
   "outputs": [],
   "source": [
    "d1"
   ]
  },
  {
   "cell_type": "code",
   "execution_count": null,
   "id": "9dab5a8e-6224-42e2-9b5f-4de4d90e2736",
   "metadata": {},
   "outputs": [],
   "source": [
    "d1.pop('z')"
   ]
  },
  {
   "cell_type": "code",
   "execution_count": null,
   "id": "70d43c65-2c53-407f-b89a-089c9477cdcb",
   "metadata": {},
   "outputs": [],
   "source": [
    "d1.popitem?"
   ]
  },
  {
   "cell_type": "code",
   "execution_count": null,
   "id": "68ceb554-9bf0-478d-ac09-9190da99cc92",
   "metadata": {},
   "outputs": [],
   "source": [
    "d1.popitem()"
   ]
  },
  {
   "cell_type": "code",
   "execution_count": null,
   "id": "e9d1aac4-6ab3-4d39-9413-6dc54be0c53e",
   "metadata": {},
   "outputs": [],
   "source": [
    "d1"
   ]
  },
  {
   "cell_type": "code",
   "execution_count": null,
   "id": "88d87048-3ba6-4e7a-872b-e12f31812815",
   "metadata": {},
   "outputs": [],
   "source": [
    "d1.popitem()"
   ]
  },
  {
   "cell_type": "code",
   "execution_count": null,
   "id": "536f55fc-f31c-4b74-9542-7b1135a35d9d",
   "metadata": {},
   "outputs": [],
   "source": [
    "d1"
   ]
  },
  {
   "cell_type": "code",
   "execution_count": null,
   "id": "190608f3-5eba-40bc-b693-f09e3bcb58cd",
   "metadata": {},
   "outputs": [],
   "source": [
    "d1.popitem()"
   ]
  },
  {
   "cell_type": "code",
   "execution_count": null,
   "id": "900c6137-779d-4f9a-9e73-4f8bf07d046d",
   "metadata": {},
   "outputs": [],
   "source": [
    "d1"
   ]
  },
  {
   "cell_type": "code",
   "execution_count": null,
   "id": "d267dbdb-6e7b-4ba0-b4f9-b9a0f4a17842",
   "metadata": {},
   "outputs": [],
   "source": [
    "d1.popitem()"
   ]
  },
  {
   "cell_type": "code",
   "execution_count": null,
   "id": "79a8ac52-b2ee-4d80-b53e-d8ae57007f36",
   "metadata": {},
   "outputs": [],
   "source": [
    "d1.pop('a')"
   ]
  },
  {
   "cell_type": "code",
   "execution_count": null,
   "id": "cd910843-3c0b-4201-ab86-45cb4b4866a3",
   "metadata": {},
   "outputs": [],
   "source": [
    "l = list(range(1,6))\n",
    "print(l)"
   ]
  },
  {
   "cell_type": "code",
   "execution_count": null,
   "id": "7aa1a13e-84fd-49e5-bb88-639328dbfe24",
   "metadata": {},
   "outputs": [],
   "source": [
    "d2 = dict.fromkeys(l, 'Hello')"
   ]
  },
  {
   "cell_type": "code",
   "execution_count": null,
   "id": "ea20a6db-ec46-46d3-aa56-73078075c85f",
   "metadata": {},
   "outputs": [],
   "source": [
    "d2"
   ]
  },
  {
   "cell_type": "code",
   "execution_count": null,
   "id": "6e372815-a2f2-46b0-bc37-71277955bcbb",
   "metadata": {},
   "outputs": [],
   "source": [
    "d3 = dict.fromkeys(l, None)"
   ]
  },
  {
   "cell_type": "code",
   "execution_count": null,
   "id": "93d55603-c985-4e63-a216-fc1a4f33ea9c",
   "metadata": {},
   "outputs": [],
   "source": [
    "d3"
   ]
  },
  {
   "cell_type": "code",
   "execution_count": null,
   "id": "36a8bfc7-56cd-4309-ade0-1398c068aa5d",
   "metadata": {},
   "outputs": [],
   "source": [
    "d3[2]"
   ]
  },
  {
   "cell_type": "code",
   "execution_count": null,
   "id": "78d49d3c-fc42-49b1-8e31-aed0ddc37974",
   "metadata": {},
   "outputs": [],
   "source": [
    "d3[2] = 'Hi'"
   ]
  },
  {
   "cell_type": "code",
   "execution_count": null,
   "id": "a043d140-0329-4f78-ad41-04f56dfb0d96",
   "metadata": {},
   "outputs": [],
   "source": [
    "d3"
   ]
  },
  {
   "cell_type": "code",
   "execution_count": null,
   "id": "b9f3a70c-09ff-4e6e-bf87-9c1a3fd7c693",
   "metadata": {},
   "outputs": [],
   "source": [
    "d1 = {'a':1, 'b':2, 'c':3, 'd':4}\n",
    "print(d1)"
   ]
  },
  {
   "cell_type": "code",
   "execution_count": null,
   "id": "37a93e26-38c5-4b43-a3a6-c029613d0234",
   "metadata": {},
   "outputs": [],
   "source": [
    "d1.setdefault?"
   ]
  },
  {
   "cell_type": "code",
   "execution_count": null,
   "id": "603357af-6979-424e-a8a8-1f8d0daca27c",
   "metadata": {},
   "outputs": [],
   "source": [
    "d1.setdefault('e',10)"
   ]
  },
  {
   "cell_type": "code",
   "execution_count": null,
   "id": "872e8e16-a423-41b3-8761-2bfc0a81be04",
   "metadata": {},
   "outputs": [],
   "source": [
    "d1"
   ]
  },
  {
   "cell_type": "code",
   "execution_count": null,
   "id": "834162ea-43e5-4f19-8d1f-d04b24361993",
   "metadata": {},
   "outputs": [],
   "source": [
    "d1.get('c')"
   ]
  },
  {
   "cell_type": "code",
   "execution_count": null,
   "id": "13b0addd-6364-46c6-b7c1-28ccd1faccf4",
   "metadata": {},
   "outputs": [],
   "source": [
    "d1.setdefault('c',100)"
   ]
  },
  {
   "cell_type": "code",
   "execution_count": null,
   "id": "c3bc9fed-957c-488e-9602-33289c9375b2",
   "metadata": {},
   "outputs": [],
   "source": [
    "d1.get('c')"
   ]
  },
  {
   "cell_type": "code",
   "execution_count": null,
   "id": "f5f10af5-f2cb-4371-943b-b1db3b5bd343",
   "metadata": {},
   "outputs": [],
   "source": [
    "d1"
   ]
  },
  {
   "cell_type": "code",
   "execution_count": null,
   "id": "d0c691ab-08fe-4147-8300-165f001a710a",
   "metadata": {},
   "outputs": [],
   "source": [
    "d1.update?"
   ]
  },
  {
   "cell_type": "code",
   "execution_count": null,
   "id": "e80115ee-f9f5-4cb6-af16-ea9e75eee135",
   "metadata": {},
   "outputs": [],
   "source": [
    "d1['c'] = 100"
   ]
  },
  {
   "cell_type": "code",
   "execution_count": null,
   "id": "194fb9b8-d221-42df-90fe-b43cf6e8c97f",
   "metadata": {},
   "outputs": [],
   "source": [
    "d1"
   ]
  },
  {
   "cell_type": "code",
   "execution_count": null,
   "id": "3f060e41-c4da-4ccd-aa43-7a5398ccc233",
   "metadata": {},
   "outputs": [],
   "source": [
    "d1.update({'c':500})"
   ]
  },
  {
   "cell_type": "code",
   "execution_count": null,
   "id": "a79d1213-99f1-4c12-ab05-6e66d7cb833c",
   "metadata": {},
   "outputs": [],
   "source": [
    "d1"
   ]
  },
  {
   "cell_type": "code",
   "execution_count": null,
   "id": "4d2e5788-0f18-45d1-af2c-f82125e862c0",
   "metadata": {},
   "outputs": [],
   "source": [
    "d1.update({'d':1500, 'f':3000})"
   ]
  },
  {
   "cell_type": "code",
   "execution_count": null,
   "id": "4eed6b55-7070-4185-8372-f7b133381db9",
   "metadata": {},
   "outputs": [],
   "source": [
    "d1"
   ]
  },
  {
   "cell_type": "code",
   "execution_count": null,
   "id": "4b602679-c275-4f39-9317-50bef6783588",
   "metadata": {},
   "outputs": [],
   "source": [
    "d1['d'] = 2000\n",
    "d1['g'] = 4000"
   ]
  },
  {
   "cell_type": "code",
   "execution_count": null,
   "id": "811e318a-fc4c-4df4-a07f-791017596daa",
   "metadata": {},
   "outputs": [],
   "source": [
    "d1"
   ]
  },
  {
   "cell_type": "markdown",
   "id": "ac88c020",
   "metadata": {},
   "source": [
    "# To be noted\n",
    "1. Strings: Ordered sequence of characters\n",
    "2. Lists: Ordered sequence of objects (mutable)\n",
    "3. Tuples: Ordered sequence of objects (immutable)\n",
    "4. Dictionary: Key-Value pairing that is unordered.\n"
   ]
  },
  {
   "cell_type": "markdown",
   "id": "a55d37dd",
   "metadata": {},
   "source": []
  }
 ],
 "metadata": {
  "kernelspec": {
   "display_name": "Python 3 (ipykernel)",
   "language": "python",
   "name": "python3"
  },
  "language_info": {
   "codemirror_mode": {
    "name": "ipython",
    "version": 3
   },
   "file_extension": ".py",
   "mimetype": "text/x-python",
   "name": "python",
   "nbconvert_exporter": "python",
   "pygments_lexer": "ipython3",
   "version": "3.12.4"
  }
 },
 "nbformat": 4,
 "nbformat_minor": 5
}
