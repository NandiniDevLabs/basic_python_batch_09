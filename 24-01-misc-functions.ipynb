{
 "cells": [
  {
   "cell_type": "markdown",
   "metadata": {},
   "source": [
    "# Python Built-in functions - to work with iterator"
   ]
  },
  {
   "cell_type": "markdown",
   "metadata": {},
   "source": [
    "# Enumerate"
   ]
  },
  {
   "cell_type": "code",
   "execution_count": 2,
   "metadata": {},
   "outputs": [],
   "source": [
    "a = list(range(21,31))"
   ]
  },
  {
   "cell_type": "code",
   "execution_count": 3,
   "metadata": {},
   "outputs": [
    {
     "data": {
      "text/plain": [
       "[21, 22, 23, 24, 25, 26, 27, 28, 29, 30]"
      ]
     },
     "execution_count": 3,
     "metadata": {},
     "output_type": "execute_result"
    }
   ],
   "source": [
    "a"
   ]
  },
  {
   "cell_type": "code",
   "execution_count": 4,
   "metadata": {},
   "outputs": [
    {
     "data": {
      "text/plain": [
       "10"
      ]
     },
     "execution_count": 4,
     "metadata": {},
     "output_type": "execute_result"
    }
   ],
   "source": [
    "len(a)"
   ]
  },
  {
   "cell_type": "code",
   "execution_count": 5,
   "metadata": {},
   "outputs": [
    {
     "name": "stdout",
     "output_type": "stream",
     "text": [
      "0\n",
      "21\n",
      "Completed iteration: 1\n",
      "1\n",
      "22\n",
      "Completed iteration: 2\n",
      "2\n",
      "23\n",
      "Completed iteration: 3\n",
      "3\n",
      "24\n",
      "Completed iteration: 4\n",
      "4\n",
      "25\n",
      "Completed iteration: 5\n",
      "5\n",
      "26\n",
      "Completed iteration: 6\n",
      "6\n",
      "27\n",
      "Completed iteration: 7\n",
      "7\n",
      "28\n",
      "Completed iteration: 8\n",
      "8\n",
      "29\n",
      "Completed iteration: 9\n",
      "9\n",
      "30\n",
      "Completed iteration: 10\n"
     ]
    }
   ],
   "source": [
    "i = 0\n",
    "while i < len(a):\n",
    "    print(i)\n",
    "    print(a[i])\n",
    "    i = i+1\n",
    "    print(f\"Completed iteration: {i}\")\n",
    "# End of while loop"
   ]
  },
  {
   "cell_type": "code",
   "execution_count": 7,
   "metadata": {},
   "outputs": [
    {
     "data": {
      "text/plain": [
       "[21, 22, 23, 24, 25, 26, 27, 28, 29, 30]"
      ]
     },
     "execution_count": 7,
     "metadata": {},
     "output_type": "execute_result"
    }
   ],
   "source": [
    "a"
   ]
  },
  {
   "cell_type": "code",
   "execution_count": 6,
   "metadata": {},
   "outputs": [
    {
     "name": "stdout",
     "output_type": "stream",
     "text": [
      "0\n",
      "21\n",
      "21\n",
      "Completed iteration: 1\n",
      "1\n",
      "22\n",
      "22\n",
      "Completed iteration: 2\n",
      "2\n",
      "23\n",
      "23\n",
      "Completed iteration: 3\n",
      "3\n",
      "24\n",
      "24\n",
      "Completed iteration: 4\n",
      "4\n",
      "25\n",
      "25\n",
      "Completed iteration: 5\n",
      "5\n",
      "26\n",
      "26\n",
      "Completed iteration: 6\n",
      "6\n",
      "27\n",
      "27\n",
      "Completed iteration: 7\n",
      "7\n",
      "28\n",
      "28\n",
      "Completed iteration: 8\n",
      "8\n",
      "29\n",
      "29\n",
      "Completed iteration: 9\n",
      "9\n",
      "30\n",
      "30\n",
      "Completed iteration: 10\n"
     ]
    }
   ],
   "source": [
    "i = 0 ##\n",
    "for item in a:\n",
    "    print(i)\n",
    "    print(item)\n",
    "    print(a[i])\n",
    "    i = i+1  ##\n",
    "    print(f\"Completed iteration: {i}\")\n",
    "# End of for loop"
   ]
  },
  {
   "cell_type": "code",
   "execution_count": 9,
   "metadata": {},
   "outputs": [
    {
     "name": "stdout",
     "output_type": "stream",
     "text": [
      "0 21\n",
      "1 22\n",
      "2 23\n",
      "3 24\n",
      "4 25\n",
      "5 26\n",
      "6 27\n",
      "7 28\n",
      "8 29\n",
      "9 30\n"
     ]
    }
   ],
   "source": [
    "for index, item in enumerate(a):\n",
    "    print(index, item)"
   ]
  },
  {
   "cell_type": "code",
   "execution_count": 10,
   "metadata": {},
   "outputs": [
    {
     "data": {
      "text/plain": [
       "[21, 22, 23, 24, 25, 26, 27, 28, 29, 30]"
      ]
     },
     "execution_count": 10,
     "metadata": {},
     "output_type": "execute_result"
    }
   ],
   "source": [
    "a"
   ]
  },
  {
   "cell_type": "code",
   "execution_count": 11,
   "metadata": {},
   "outputs": [],
   "source": [
    "b = (21, 22, 23, 24, 25, 26, 27, 28, 29, 30)"
   ]
  },
  {
   "cell_type": "code",
   "execution_count": 12,
   "metadata": {},
   "outputs": [
    {
     "name": "stdout",
     "output_type": "stream",
     "text": [
      "0 21\n",
      "1 22\n",
      "2 23\n",
      "3 24\n",
      "4 25\n",
      "5 26\n",
      "6 27\n",
      "7 28\n",
      "8 29\n",
      "9 30\n"
     ]
    }
   ],
   "source": [
    "for index, item in enumerate(b):\n",
    "    print(index, item)"
   ]
  },
  {
   "cell_type": "code",
   "execution_count": 13,
   "metadata": {},
   "outputs": [],
   "source": [
    "c = 'Understanding enumerate'"
   ]
  },
  {
   "cell_type": "code",
   "execution_count": 14,
   "metadata": {},
   "outputs": [
    {
     "name": "stdout",
     "output_type": "stream",
     "text": [
      "0 U\n",
      "1 n\n",
      "2 d\n",
      "3 e\n",
      "4 r\n",
      "5 s\n",
      "6 t\n",
      "7 a\n",
      "8 n\n",
      "9 d\n",
      "10 i\n",
      "11 n\n",
      "12 g\n",
      "13  \n",
      "14 e\n",
      "15 n\n",
      "16 u\n",
      "17 m\n",
      "18 e\n",
      "19 r\n",
      "20 a\n",
      "21 t\n",
      "22 e\n"
     ]
    }
   ],
   "source": [
    "for index, item in enumerate(c):\n",
    "    print(index, item)"
   ]
  },
  {
   "cell_type": "code",
   "execution_count": 15,
   "metadata": {},
   "outputs": [
    {
     "name": "stdout",
     "output_type": "stream",
     "text": [
      "{21, 22, 23, 24, 25, 26, 27, 28, 29, 30}\n"
     ]
    }
   ],
   "source": [
    "d = {21, 22, 23, 24, 25, 26, 27, 28, 29, 30, 25, 26}\n",
    "print(d)"
   ]
  },
  {
   "cell_type": "code",
   "execution_count": 16,
   "metadata": {},
   "outputs": [
    {
     "name": "stdout",
     "output_type": "stream",
     "text": [
      "0 21\n",
      "1 22\n",
      "2 23\n",
      "3 24\n",
      "4 25\n",
      "5 26\n",
      "6 27\n",
      "7 28\n",
      "8 29\n",
      "9 30\n"
     ]
    }
   ],
   "source": [
    "for index, item in enumerate(d):\n",
    "    print(index, item)"
   ]
  },
  {
   "cell_type": "code",
   "execution_count": 17,
   "metadata": {},
   "outputs": [
    {
     "data": {
      "text/plain": [
       "{'aa': 10, 'bb': 20, 'cc': 30, 'dd': 40, 'ee': 50, 'ff': 60}"
      ]
     },
     "execution_count": 17,
     "metadata": {},
     "output_type": "execute_result"
    }
   ],
   "source": [
    "e = {'aa':10, 'bb':20, 'cc':30, 'dd':40, 'ee':50, 'ff':60}\n",
    "e"
   ]
  },
  {
   "cell_type": "code",
   "execution_count": 18,
   "metadata": {},
   "outputs": [
    {
     "name": "stdout",
     "output_type": "stream",
     "text": [
      "aa\n",
      "bb\n",
      "cc\n",
      "dd\n",
      "ee\n",
      "ff\n"
     ]
    }
   ],
   "source": [
    "for item in e:\n",
    "    print(item)"
   ]
  },
  {
   "cell_type": "code",
   "execution_count": 20,
   "metadata": {},
   "outputs": [
    {
     "data": {
      "text/plain": [
       "dict_items([('aa', 10), ('bb', 20), ('cc', 30), ('dd', 40), ('ee', 50), ('ff', 60)])"
      ]
     },
     "execution_count": 20,
     "metadata": {},
     "output_type": "execute_result"
    }
   ],
   "source": [
    "e.items()"
   ]
  },
  {
   "cell_type": "code",
   "execution_count": 19,
   "metadata": {},
   "outputs": [
    {
     "name": "stdout",
     "output_type": "stream",
     "text": [
      "aa 10\n",
      "bb 20\n",
      "cc 30\n",
      "dd 40\n",
      "ee 50\n",
      "ff 60\n"
     ]
    }
   ],
   "source": [
    "for key, value in e.items():\n",
    "    print(key, value)"
   ]
  },
  {
   "cell_type": "code",
   "execution_count": 21,
   "metadata": {},
   "outputs": [
    {
     "name": "stdout",
     "output_type": "stream",
     "text": [
      "0 aa 10\n",
      "1 bb 20\n",
      "2 cc 30\n",
      "3 dd 40\n",
      "4 ee 50\n",
      "5 ff 60\n"
     ]
    }
   ],
   "source": [
    "for index, (key, value) in enumerate(e.items()):\n",
    "    print(index, key, value)"
   ]
  },
  {
   "cell_type": "code",
   "execution_count": null,
   "metadata": {},
   "outputs": [],
   "source": [
    "# 0 ('aa', 10)"
   ]
  },
  {
   "cell_type": "code",
   "execution_count": 22,
   "metadata": {},
   "outputs": [
    {
     "name": "stdout",
     "output_type": "stream",
     "text": [
      "0 ('aa', 10)\n",
      "1 ('bb', 20)\n",
      "2 ('cc', 30)\n",
      "3 ('dd', 40)\n",
      "4 ('ee', 50)\n",
      "5 ('ff', 60)\n"
     ]
    }
   ],
   "source": [
    "for index, dict_item in enumerate(e.items()):\n",
    "    print(index, dict_item)"
   ]
  },
  {
   "cell_type": "code",
   "execution_count": 25,
   "metadata": {},
   "outputs": [
    {
     "name": "stdout",
     "output_type": "stream",
     "text": [
      "0 aa 10\n",
      "1 bb 20\n",
      "2 cc 30\n",
      "3 dd 40\n",
      "4 ee 50\n",
      "5 ff 60\n"
     ]
    }
   ],
   "source": [
    "for (index, (key, value)) in enumerate(e.items()):\n",
    "    print(index, key, value)"
   ]
  },
  {
   "cell_type": "markdown",
   "metadata": {},
   "source": [
    "# Will be discussed in next class"
   ]
  },
  {
   "cell_type": "markdown",
   "metadata": {},
   "source": [
    "# Zip"
   ]
  },
  {
   "cell_type": "code",
   "execution_count": null,
   "metadata": {},
   "outputs": [],
   "source": [
    "a = list(range(21,31))\n",
    "b = list(range(41,51))\n",
    "print(a)\n",
    "print(b)"
   ]
  },
  {
   "cell_type": "code",
   "execution_count": null,
   "metadata": {},
   "outputs": [],
   "source": [
    "list(zip(a,b))"
   ]
  },
  {
   "cell_type": "code",
   "execution_count": null,
   "metadata": {},
   "outputs": [],
   "source": [
    "a = list(range(21,31))\n",
    "b = list(range(31,41))\n",
    "c = list(range(41,51))\n",
    "d = list(range(51,61))\n",
    "\n",
    "print(a)\n",
    "print(b)\n",
    "print(c)\n",
    "print(d)\n",
    "\n",
    "print(list(zip(a,b,c,d)))"
   ]
  },
  {
   "cell_type": "code",
   "execution_count": null,
   "metadata": {},
   "outputs": [],
   "source": [
    "list1 = list(range(21,31))\n",
    "list2 = list(range(41,51))\n",
    "print(list1)\n",
    "print(list2)"
   ]
  },
  {
   "cell_type": "code",
   "execution_count": null,
   "metadata": {},
   "outputs": [],
   "source": [
    "for value in zip(list1, list2):\n",
    "    print(value)"
   ]
  },
  {
   "cell_type": "code",
   "execution_count": null,
   "metadata": {},
   "outputs": [],
   "source": [
    "for value in zip(list1, list2):\n",
    "    print(value[0], value[1])"
   ]
  },
  {
   "cell_type": "code",
   "execution_count": null,
   "metadata": {},
   "outputs": [],
   "source": [
    "output_list = []\n",
    "for value in zip(list1, list2):\n",
    "    print(value[0] ,value[1])\n",
    "    output_list.append(value[0] + value[1])\n",
    "#\n",
    "print(output_list)"
   ]
  },
  {
   "cell_type": "code",
   "execution_count": null,
   "metadata": {},
   "outputs": [],
   "source": [
    "output_list = []\n",
    "for a,b in zip(list1, list2):\n",
    "    print(a,b)\n",
    "    output_list.append(a+b)\n",
    "#\n",
    "print(output_list)"
   ]
  },
  {
   "cell_type": "code",
   "execution_count": null,
   "metadata": {},
   "outputs": [],
   "source": [
    "list1 = list(range(21,31))\n",
    "list2 = list(range(31,41))\n",
    "list3 = list(range(41,51))\n",
    "list4 = list(range(51,61))\n",
    "\n",
    "print(list1)\n",
    "print(list2)\n",
    "print(list3)\n",
    "print(list4)"
   ]
  },
  {
   "cell_type": "code",
   "execution_count": null,
   "metadata": {},
   "outputs": [],
   "source": [
    "output_list = []\n",
    "for a,b,c,d in zip(list1, list2, list3, list4):\n",
    "    print(a,b,c,d)\n",
    "    output_list.append(a+b+c+d)\n",
    "#\n",
    "print(output_list)"
   ]
  },
  {
   "cell_type": "code",
   "execution_count": null,
   "metadata": {},
   "outputs": [],
   "source": [
    "list1 = list(range(21,31))\n",
    "list2 = list(range(31,35))\n",
    "\n",
    "print(list1)\n",
    "print(list2)"
   ]
  },
  {
   "cell_type": "code",
   "execution_count": null,
   "metadata": {},
   "outputs": [],
   "source": [
    "list(zip(list1,list2))"
   ]
  },
  {
   "cell_type": "code",
   "execution_count": 52,
   "metadata": {},
   "outputs": [],
   "source": [
    "# Set\n",
    "# Tuple\n",
    "# String\n",
    "# Dictionary"
   ]
  },
  {
   "cell_type": "code",
   "execution_count": null,
   "metadata": {},
   "outputs": [],
   "source": []
  }
 ],
 "metadata": {
  "kernelspec": {
   "display_name": "Python 3",
   "language": "python",
   "name": "python3"
  },
  "language_info": {
   "codemirror_mode": {
    "name": "ipython",
    "version": 3
   },
   "file_extension": ".py",
   "mimetype": "text/x-python",
   "name": "python",
   "nbconvert_exporter": "python",
   "pygments_lexer": "ipython3",
   "version": "3.11.9"
  }
 },
 "nbformat": 4,
 "nbformat_minor": 2
}
