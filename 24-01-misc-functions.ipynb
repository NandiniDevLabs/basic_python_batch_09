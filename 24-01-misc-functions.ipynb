{
 "cells": [
  {
   "cell_type": "markdown",
   "metadata": {},
   "source": [
    "# Python Built-in functions - to work with iterator"
   ]
  },
  {
   "cell_type": "markdown",
   "metadata": {},
   "source": [
    "# Enumerate"
   ]
  },
  {
   "cell_type": "code",
   "execution_count": 2,
   "metadata": {},
   "outputs": [],
   "source": [
    "a = list(range(21,31))"
   ]
  },
  {
   "cell_type": "code",
   "execution_count": 3,
   "metadata": {},
   "outputs": [
    {
     "data": {
      "text/plain": [
       "[21, 22, 23, 24, 25, 26, 27, 28, 29, 30]"
      ]
     },
     "execution_count": 3,
     "metadata": {},
     "output_type": "execute_result"
    }
   ],
   "source": [
    "a"
   ]
  },
  {
   "cell_type": "code",
   "execution_count": 4,
   "metadata": {},
   "outputs": [
    {
     "data": {
      "text/plain": [
       "10"
      ]
     },
     "execution_count": 4,
     "metadata": {},
     "output_type": "execute_result"
    }
   ],
   "source": [
    "len(a)"
   ]
  },
  {
   "cell_type": "code",
   "execution_count": 5,
   "metadata": {},
   "outputs": [
    {
     "name": "stdout",
     "output_type": "stream",
     "text": [
      "0\n",
      "21\n",
      "Completed iteration: 1\n",
      "1\n",
      "22\n",
      "Completed iteration: 2\n",
      "2\n",
      "23\n",
      "Completed iteration: 3\n",
      "3\n",
      "24\n",
      "Completed iteration: 4\n",
      "4\n",
      "25\n",
      "Completed iteration: 5\n",
      "5\n",
      "26\n",
      "Completed iteration: 6\n",
      "6\n",
      "27\n",
      "Completed iteration: 7\n",
      "7\n",
      "28\n",
      "Completed iteration: 8\n",
      "8\n",
      "29\n",
      "Completed iteration: 9\n",
      "9\n",
      "30\n",
      "Completed iteration: 10\n"
     ]
    }
   ],
   "source": [
    "i = 0\n",
    "while i < len(a):\n",
    "    print(i)\n",
    "    print(a[i])\n",
    "    i = i+1\n",
    "    print(f\"Completed iteration: {i}\")\n",
    "# End of while loop"
   ]
  },
  {
   "cell_type": "code",
   "execution_count": 7,
   "metadata": {},
   "outputs": [
    {
     "data": {
      "text/plain": [
       "[21, 22, 23, 24, 25, 26, 27, 28, 29, 30]"
      ]
     },
     "execution_count": 7,
     "metadata": {},
     "output_type": "execute_result"
    }
   ],
   "source": [
    "a"
   ]
  },
  {
   "cell_type": "code",
   "execution_count": 6,
   "metadata": {},
   "outputs": [
    {
     "name": "stdout",
     "output_type": "stream",
     "text": [
      "0\n",
      "21\n",
      "21\n",
      "Completed iteration: 1\n",
      "1\n",
      "22\n",
      "22\n",
      "Completed iteration: 2\n",
      "2\n",
      "23\n",
      "23\n",
      "Completed iteration: 3\n",
      "3\n",
      "24\n",
      "24\n",
      "Completed iteration: 4\n",
      "4\n",
      "25\n",
      "25\n",
      "Completed iteration: 5\n",
      "5\n",
      "26\n",
      "26\n",
      "Completed iteration: 6\n",
      "6\n",
      "27\n",
      "27\n",
      "Completed iteration: 7\n",
      "7\n",
      "28\n",
      "28\n",
      "Completed iteration: 8\n",
      "8\n",
      "29\n",
      "29\n",
      "Completed iteration: 9\n",
      "9\n",
      "30\n",
      "30\n",
      "Completed iteration: 10\n"
     ]
    }
   ],
   "source": [
    "i = 0 ##\n",
    "for item in a:\n",
    "    print(i)\n",
    "    print(item)\n",
    "    print(a[i])\n",
    "    i = i+1  ##\n",
    "    print(f\"Completed iteration: {i}\")\n",
    "# End of for loop"
   ]
  },
  {
   "cell_type": "code",
   "execution_count": 9,
   "metadata": {},
   "outputs": [
    {
     "name": "stdout",
     "output_type": "stream",
     "text": [
      "0 21\n",
      "1 22\n",
      "2 23\n",
      "3 24\n",
      "4 25\n",
      "5 26\n",
      "6 27\n",
      "7 28\n",
      "8 29\n",
      "9 30\n"
     ]
    }
   ],
   "source": [
    "for index, item in enumerate(a):\n",
    "    print(index, item)"
   ]
  },
  {
   "cell_type": "code",
   "execution_count": 10,
   "metadata": {},
   "outputs": [
    {
     "data": {
      "text/plain": [
       "[21, 22, 23, 24, 25, 26, 27, 28, 29, 30]"
      ]
     },
     "execution_count": 10,
     "metadata": {},
     "output_type": "execute_result"
    }
   ],
   "source": [
    "a"
   ]
  },
  {
   "cell_type": "code",
   "execution_count": 11,
   "metadata": {},
   "outputs": [],
   "source": [
    "b = (21, 22, 23, 24, 25, 26, 27, 28, 29, 30)"
   ]
  },
  {
   "cell_type": "code",
   "execution_count": 12,
   "metadata": {},
   "outputs": [
    {
     "name": "stdout",
     "output_type": "stream",
     "text": [
      "0 21\n",
      "1 22\n",
      "2 23\n",
      "3 24\n",
      "4 25\n",
      "5 26\n",
      "6 27\n",
      "7 28\n",
      "8 29\n",
      "9 30\n"
     ]
    }
   ],
   "source": [
    "for index, item in enumerate(b):\n",
    "    print(index, item)"
   ]
  },
  {
   "cell_type": "code",
   "execution_count": 13,
   "metadata": {},
   "outputs": [],
   "source": [
    "c = 'Understanding enumerate'"
   ]
  },
  {
   "cell_type": "code",
   "execution_count": 14,
   "metadata": {},
   "outputs": [
    {
     "name": "stdout",
     "output_type": "stream",
     "text": [
      "0 U\n",
      "1 n\n",
      "2 d\n",
      "3 e\n",
      "4 r\n",
      "5 s\n",
      "6 t\n",
      "7 a\n",
      "8 n\n",
      "9 d\n",
      "10 i\n",
      "11 n\n",
      "12 g\n",
      "13  \n",
      "14 e\n",
      "15 n\n",
      "16 u\n",
      "17 m\n",
      "18 e\n",
      "19 r\n",
      "20 a\n",
      "21 t\n",
      "22 e\n"
     ]
    }
   ],
   "source": [
    "for index, item in enumerate(c):\n",
    "    print(index, item)"
   ]
  },
  {
   "cell_type": "code",
   "execution_count": 15,
   "metadata": {},
   "outputs": [
    {
     "name": "stdout",
     "output_type": "stream",
     "text": [
      "{21, 22, 23, 24, 25, 26, 27, 28, 29, 30}\n"
     ]
    }
   ],
   "source": [
    "d = {21, 22, 23, 24, 25, 26, 27, 28, 29, 30, 25, 26}\n",
    "print(d)"
   ]
  },
  {
   "cell_type": "code",
   "execution_count": 16,
   "metadata": {},
   "outputs": [
    {
     "name": "stdout",
     "output_type": "stream",
     "text": [
      "0 21\n",
      "1 22\n",
      "2 23\n",
      "3 24\n",
      "4 25\n",
      "5 26\n",
      "6 27\n",
      "7 28\n",
      "8 29\n",
      "9 30\n"
     ]
    }
   ],
   "source": [
    "for index, item in enumerate(d):\n",
    "    print(index, item)"
   ]
  },
  {
   "cell_type": "code",
   "execution_count": 17,
   "metadata": {},
   "outputs": [
    {
     "data": {
      "text/plain": [
       "{'aa': 10, 'bb': 20, 'cc': 30, 'dd': 40, 'ee': 50, 'ff': 60}"
      ]
     },
     "execution_count": 17,
     "metadata": {},
     "output_type": "execute_result"
    }
   ],
   "source": [
    "e = {'aa':10, 'bb':20, 'cc':30, 'dd':40, 'ee':50, 'ff':60}\n",
    "e"
   ]
  },
  {
   "cell_type": "code",
   "execution_count": 18,
   "metadata": {},
   "outputs": [
    {
     "name": "stdout",
     "output_type": "stream",
     "text": [
      "aa\n",
      "bb\n",
      "cc\n",
      "dd\n",
      "ee\n",
      "ff\n"
     ]
    }
   ],
   "source": [
    "for item in e:\n",
    "    print(item)"
   ]
  },
  {
   "cell_type": "code",
   "execution_count": 20,
   "metadata": {},
   "outputs": [
    {
     "data": {
      "text/plain": [
       "dict_items([('aa', 10), ('bb', 20), ('cc', 30), ('dd', 40), ('ee', 50), ('ff', 60)])"
      ]
     },
     "execution_count": 20,
     "metadata": {},
     "output_type": "execute_result"
    }
   ],
   "source": [
    "e.items()"
   ]
  },
  {
   "cell_type": "code",
   "execution_count": 19,
   "metadata": {},
   "outputs": [
    {
     "name": "stdout",
     "output_type": "stream",
     "text": [
      "aa 10\n",
      "bb 20\n",
      "cc 30\n",
      "dd 40\n",
      "ee 50\n",
      "ff 60\n"
     ]
    }
   ],
   "source": [
    "for key, value in e.items():\n",
    "    print(key, value)"
   ]
  },
  {
   "cell_type": "code",
   "execution_count": 21,
   "metadata": {},
   "outputs": [
    {
     "name": "stdout",
     "output_type": "stream",
     "text": [
      "0 aa 10\n",
      "1 bb 20\n",
      "2 cc 30\n",
      "3 dd 40\n",
      "4 ee 50\n",
      "5 ff 60\n"
     ]
    }
   ],
   "source": [
    "for index, (key, value) in enumerate(e.items()):\n",
    "    print(index, key, value)"
   ]
  },
  {
   "cell_type": "code",
   "execution_count": null,
   "metadata": {},
   "outputs": [],
   "source": [
    "# 0 ('aa', 10)"
   ]
  },
  {
   "cell_type": "code",
   "execution_count": 22,
   "metadata": {},
   "outputs": [
    {
     "name": "stdout",
     "output_type": "stream",
     "text": [
      "0 ('aa', 10)\n",
      "1 ('bb', 20)\n",
      "2 ('cc', 30)\n",
      "3 ('dd', 40)\n",
      "4 ('ee', 50)\n",
      "5 ('ff', 60)\n"
     ]
    }
   ],
   "source": [
    "for index, dict_item in enumerate(e.items()):\n",
    "    print(index, dict_item)"
   ]
  },
  {
   "cell_type": "code",
   "execution_count": 25,
   "metadata": {},
   "outputs": [
    {
     "name": "stdout",
     "output_type": "stream",
     "text": [
      "0 aa 10\n",
      "1 bb 20\n",
      "2 cc 30\n",
      "3 dd 40\n",
      "4 ee 50\n",
      "5 ff 60\n"
     ]
    }
   ],
   "source": [
    "for (index, (key, value)) in enumerate(e.items()):\n",
    "    print(index, key, value)"
   ]
  },
  {
   "cell_type": "markdown",
   "metadata": {},
   "source": [
    "# Jan 16, 2024"
   ]
  },
  {
   "cell_type": "markdown",
   "metadata": {},
   "source": [
    "# Zip"
   ]
  },
  {
   "cell_type": "code",
   "execution_count": 1,
   "metadata": {},
   "outputs": [
    {
     "name": "stdout",
     "output_type": "stream",
     "text": [
      "[21, 22, 23, 24, 25, 26, 27, 28, 29, 30]\n",
      "[41, 42, 43, 44, 45, 46, 47, 48, 49, 50]\n"
     ]
    }
   ],
   "source": [
    "a = list(range(21,31))\n",
    "b = list(range(41,51))\n",
    "print(a)\n",
    "print(b)"
   ]
  },
  {
   "cell_type": "code",
   "execution_count": 3,
   "metadata": {},
   "outputs": [
    {
     "data": {
      "text/plain": [
       "[(21, 41),\n",
       " (22, 42),\n",
       " (23, 43),\n",
       " (24, 44),\n",
       " (25, 45),\n",
       " (26, 46),\n",
       " (27, 47),\n",
       " (28, 48),\n",
       " (29, 49),\n",
       " (30, 50)]"
      ]
     },
     "execution_count": 3,
     "metadata": {},
     "output_type": "execute_result"
    }
   ],
   "source": [
    "list(zip(a,b))"
   ]
  },
  {
   "cell_type": "code",
   "execution_count": 4,
   "metadata": {},
   "outputs": [
    {
     "name": "stdout",
     "output_type": "stream",
     "text": [
      "[21, 22, 23, 24, 25, 26, 27, 28, 29, 30]\n",
      "[31, 32, 33, 34, 35, 36, 37, 38, 39, 40]\n",
      "[41, 42, 43, 44, 45, 46, 47, 48, 49, 50]\n",
      "[51, 52, 53, 54, 55, 56, 57, 58, 59, 60]\n",
      "[(21, 31, 41, 51), (22, 32, 42, 52), (23, 33, 43, 53), (24, 34, 44, 54), (25, 35, 45, 55), (26, 36, 46, 56), (27, 37, 47, 57), (28, 38, 48, 58), (29, 39, 49, 59), (30, 40, 50, 60)]\n"
     ]
    }
   ],
   "source": [
    "a = list(range(21,31))\n",
    "b = list(range(31,41))\n",
    "c = list(range(41,51))\n",
    "d = list(range(51,61))\n",
    "\n",
    "print(a)\n",
    "print(b)\n",
    "print(c)\n",
    "print(d)\n",
    "\n",
    "print(list(zip(a,b,c,d)))"
   ]
  },
  {
   "cell_type": "code",
   "execution_count": 5,
   "metadata": {},
   "outputs": [
    {
     "name": "stdout",
     "output_type": "stream",
     "text": [
      "[21, 22, 23, 24, 25, 26, 27, 28, 29, 30]\n",
      "[41, 42, 43, 44, 45, 46, 47, 48, 49, 50]\n"
     ]
    }
   ],
   "source": [
    "list1 = list(range(21,31))\n",
    "list2 = list(range(41,51))\n",
    "print(list1)\n",
    "print(list2)"
   ]
  },
  {
   "cell_type": "code",
   "execution_count": 7,
   "metadata": {},
   "outputs": [
    {
     "name": "stdout",
     "output_type": "stream",
     "text": [
      "[(21, 41), (22, 42), (23, 43), (24, 44), (25, 45), (26, 46), (27, 47), (28, 48), (29, 49), (30, 50)]\n"
     ]
    }
   ],
   "source": [
    "print(list(zip(list1,list2)))"
   ]
  },
  {
   "cell_type": "code",
   "execution_count": 6,
   "metadata": {},
   "outputs": [
    {
     "name": "stdout",
     "output_type": "stream",
     "text": [
      "(21, 41)\n",
      "(22, 42)\n",
      "(23, 43)\n",
      "(24, 44)\n",
      "(25, 45)\n",
      "(26, 46)\n",
      "(27, 47)\n",
      "(28, 48)\n",
      "(29, 49)\n",
      "(30, 50)\n"
     ]
    }
   ],
   "source": [
    "for value in zip(list1, list2):\n",
    "    print(value)"
   ]
  },
  {
   "cell_type": "code",
   "execution_count": 8,
   "metadata": {},
   "outputs": [
    {
     "name": "stdout",
     "output_type": "stream",
     "text": [
      "21 41\n",
      "22 42\n",
      "23 43\n",
      "24 44\n",
      "25 45\n",
      "26 46\n",
      "27 47\n",
      "28 48\n",
      "29 49\n",
      "30 50\n"
     ]
    }
   ],
   "source": [
    "for value in zip(list1, list2):\n",
    "    print(value[0], value[1])"
   ]
  },
  {
   "cell_type": "code",
   "execution_count": 11,
   "metadata": {},
   "outputs": [
    {
     "data": {
      "text/plain": [
       "zip"
      ]
     },
     "execution_count": 11,
     "metadata": {},
     "output_type": "execute_result"
    }
   ],
   "source": [
    "type(zip(list1, list2))"
   ]
  },
  {
   "cell_type": "code",
   "execution_count": 12,
   "metadata": {},
   "outputs": [
    {
     "data": {
      "text/plain": [
       "<zip at 0x1a0d0263580>"
      ]
     },
     "execution_count": 12,
     "metadata": {},
     "output_type": "execute_result"
    }
   ],
   "source": [
    "zip(list1, list2)"
   ]
  },
  {
   "cell_type": "code",
   "execution_count": 10,
   "metadata": {},
   "outputs": [
    {
     "name": "stdout",
     "output_type": "stream",
     "text": [
      "[(21, 41), (22, 42), (23, 43), (24, 44), (25, 45), (26, 46), (27, 47), (28, 48), (29, 49), (30, 50)]\n"
     ]
    }
   ],
   "source": [
    "print(list(zip(list1, list2)))  # For our understanding"
   ]
  },
  {
   "cell_type": "code",
   "execution_count": 14,
   "metadata": {},
   "outputs": [
    {
     "name": "stdout",
     "output_type": "stream",
     "text": [
      "[62, 64, 66, 68, 70, 72, 74, 76, 78, 80]\n"
     ]
    }
   ],
   "source": [
    "output_list = []\n",
    "for value in zip(list1, list2):\n",
    "    # print(value[0] ,value[1])\n",
    "    output_list.append(value[0] + value[1])\n",
    "#\n",
    "print(output_list)"
   ]
  },
  {
   "cell_type": "code",
   "execution_count": 15,
   "metadata": {},
   "outputs": [
    {
     "name": "stdout",
     "output_type": "stream",
     "text": [
      "[(21, 41), (22, 42), (23, 43), (24, 44), (25, 45), (26, 46), (27, 47), (28, 48), (29, 49), (30, 50)]\n"
     ]
    }
   ],
   "source": [
    "print(list(zip(list1, list2)))  # For our understanding"
   ]
  },
  {
   "cell_type": "code",
   "execution_count": 16,
   "metadata": {},
   "outputs": [
    {
     "name": "stdout",
     "output_type": "stream",
     "text": [
      "21 41\n"
     ]
    }
   ],
   "source": [
    "a,b = (21, 41)\n",
    "print(a, b)"
   ]
  },
  {
   "cell_type": "code",
   "execution_count": 18,
   "metadata": {},
   "outputs": [
    {
     "name": "stdout",
     "output_type": "stream",
     "text": [
      "[62, 64, 66, 68, 70, 72, 74, 76, 78, 80]\n"
     ]
    }
   ],
   "source": [
    "output_list = []\n",
    "for a,b in zip(list1, list2):\n",
    "    # print(a,b)\n",
    "    output_list.append(a+b)\n",
    "#\n",
    "print(output_list)"
   ]
  },
  {
   "cell_type": "code",
   "execution_count": 19,
   "metadata": {},
   "outputs": [
    {
     "name": "stdout",
     "output_type": "stream",
     "text": [
      "[21, 22, 23, 24, 25, 26, 27, 28, 29, 30]\n",
      "[31, 32, 33, 34, 35, 36, 37, 38, 39, 40]\n",
      "[41, 42, 43, 44, 45, 46, 47, 48, 49, 50]\n",
      "[51, 52, 53, 54, 55, 56, 57, 58, 59, 60]\n"
     ]
    }
   ],
   "source": [
    "list1 = list(range(21,31))\n",
    "list2 = list(range(31,41))\n",
    "list3 = list(range(41,51))\n",
    "list4 = list(range(51,61))\n",
    "\n",
    "print(list1)\n",
    "print(list2)\n",
    "print(list3)\n",
    "print(list4)"
   ]
  },
  {
   "cell_type": "code",
   "execution_count": 21,
   "metadata": {},
   "outputs": [
    {
     "name": "stdout",
     "output_type": "stream",
     "text": [
      "[144, 148, 152, 156, 160, 164, 168, 172, 176, 180]\n"
     ]
    }
   ],
   "source": [
    "output_list = []\n",
    "for a,b,c,d in zip(list1, list2, list3, list4):\n",
    "    # print(a,b,c,d)\n",
    "    output_list.append(a+b+c+d)\n",
    "#\n",
    "print(output_list)"
   ]
  },
  {
   "cell_type": "code",
   "execution_count": 22,
   "metadata": {},
   "outputs": [
    {
     "name": "stdout",
     "output_type": "stream",
     "text": [
      "[21, 22, 23, 24, 25, 26, 27, 28, 29, 30]\n",
      "[31, 32, 33, 34]\n"
     ]
    }
   ],
   "source": [
    "list1 = list(range(21,31))\n",
    "list2 = list(range(31,35))\n",
    "\n",
    "print(list1)\n",
    "print(list2)"
   ]
  },
  {
   "cell_type": "code",
   "execution_count": 23,
   "metadata": {},
   "outputs": [
    {
     "data": {
      "text/plain": [
       "[(21, 31), (22, 32), (23, 33), (24, 34)]"
      ]
     },
     "execution_count": 23,
     "metadata": {},
     "output_type": "execute_result"
    }
   ],
   "source": [
    "list(zip(list1,list2))"
   ]
  },
  {
   "cell_type": "code",
   "execution_count": 52,
   "metadata": {},
   "outputs": [],
   "source": [
    "# Set\n",
    "# Tuple\n",
    "# String\n",
    "# Dictionary\n",
    "# List"
   ]
  },
  {
   "cell_type": "code",
   "execution_count": 25,
   "metadata": {},
   "outputs": [
    {
     "data": {
      "text/plain": [
       "[(1, 5), (2, 6), (3, 7)]"
      ]
     },
     "execution_count": 25,
     "metadata": {},
     "output_type": "execute_result"
    }
   ],
   "source": [
    "t1 = (1,2,3)\n",
    "t2 = (5,6,7)\n",
    "list(zip(t1,t2))"
   ]
  },
  {
   "cell_type": "code",
   "execution_count": null,
   "metadata": {},
   "outputs": [],
   "source": []
  }
 ],
 "metadata": {
  "kernelspec": {
   "display_name": "Python 3",
   "language": "python",
   "name": "python3"
  },
  "language_info": {
   "codemirror_mode": {
    "name": "ipython",
    "version": 3
   },
   "file_extension": ".py",
   "mimetype": "text/x-python",
   "name": "python",
   "nbconvert_exporter": "python",
   "pygments_lexer": "ipython3",
   "version": "3.11.9"
  }
 },
 "nbformat": 4,
 "nbformat_minor": 2
}
