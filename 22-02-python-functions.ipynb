{
 "cells": [
  {
   "cell_type": "markdown",
   "id": "106e4424-7b04-4cc5-bc98-5da6e2133106",
   "metadata": {},
   "source": [
    "# Functions"
   ]
  },
  {
   "cell_type": "code",
   "execution_count": 18,
   "id": "ebc09c12-89d8-4fb1-832a-06d2d9174e5b",
   "metadata": {},
   "outputs": [],
   "source": [
    "def generate_msg(n):\n",
    "    print(\"Hi\",n)\n",
    "    print(\"Hi\",n)\n",
    "    print(\"Hi\",n)"
   ]
  },
  {
   "cell_type": "code",
   "execution_count": 25,
   "id": "c04c499d-d301-429f-9689-f9469e94931e",
   "metadata": {},
   "outputs": [
    {
     "name": "stdin",
     "output_type": "stream",
     "text": [
      "Enter name 1,2,3,4\n"
     ]
    },
    {
     "name": "stdout",
     "output_type": "stream",
     "text": [
      "Hi 1,2,3,4\n",
      "Hi 1,2,3,4\n",
      "Hi 1,2,3,4\n",
      "Returned to main program\n",
      "Hi 1,2,3,4\n",
      "Hi 1,2,3,4\n",
      "Hi 1,2,3,4\n"
     ]
    }
   ],
   "source": [
    "name = input(\"Enter name\")\n",
    "generate_msg(name)\n",
    "print(\"Returned to main program\")\n",
    "generate_msg(name)"
   ]
  },
  {
   "cell_type": "code",
   "execution_count": 4,
   "id": "ad02ec29-5105-4b67-a622-790a366ba101",
   "metadata": {},
   "outputs": [
    {
     "name": "stdout",
     "output_type": "stream",
     "text": [
      "Vijaya\n"
     ]
    }
   ],
   "source": [
    "print(name)"
   ]
  },
  {
   "cell_type": "code",
   "execution_count": null,
   "id": "fb584347-4745-46c2-89e9-d841149d0c83",
   "metadata": {},
   "outputs": [],
   "source": [
    "def divide(a,b):\n",
    "    if b==0:\n",
    "        return \"\"\n",
    "    else\n",
    "        return a/b"
   ]
  },
  {
   "cell_type": "code",
   "execution_count": 2,
   "id": "85859440-c3e9-4eb4-845e-98ad344d89e0",
   "metadata": {},
   "outputs": [],
   "source": [
    "# Reuse code"
   ]
  },
  {
   "cell_type": "code",
   "execution_count": 1,
   "id": "6edd260c-8cd7-4af9-bf77-28a8ecf66421",
   "metadata": {},
   "outputs": [],
   "source": [
    "def test_func():\n",
    "    print('This is first line')\n",
    "    print('This is second line')"
   ]
  },
  {
   "cell_type": "code",
   "execution_count": 2,
   "id": "3a75652f-0191-4e18-85e9-9793b1d69911",
   "metadata": {},
   "outputs": [
    {
     "name": "stdout",
     "output_type": "stream",
     "text": [
      "This is first line\n",
      "This is second line\n"
     ]
    }
   ],
   "source": [
    "test_func() # Invoking function or function call"
   ]
  },
  {
   "cell_type": "code",
   "execution_count": 5,
   "id": "c92d165d-1f7a-46b9-b642-12d7d5234de7",
   "metadata": {},
   "outputs": [],
   "source": [
    "def subtract(a,b):\n",
    "    print(a-b)"
   ]
  },
  {
   "cell_type": "code",
   "execution_count": 7,
   "id": "fc7978f5-282a-461f-8505-600f7c737e8b",
   "metadata": {},
   "outputs": [
    {
     "name": "stdout",
     "output_type": "stream",
     "text": [
      "-10\n"
     ]
    }
   ],
   "source": [
    "subtract(10,20)"
   ]
  },
  {
   "cell_type": "code",
   "execution_count": 9,
   "id": "268132f0-32b6-4c41-b30b-8887d3d8d789",
   "metadata": {},
   "outputs": [
    {
     "name": "stdout",
     "output_type": "stream",
     "text": [
      "80\n"
     ]
    }
   ],
   "source": [
    "subtract(100,20)"
   ]
  },
  {
   "cell_type": "code",
   "execution_count": 19,
   "id": "3615e044-143f-4dc5-8996-0ef980fe684c",
   "metadata": {},
   "outputs": [
    {
     "name": "stdout",
     "output_type": "stream",
     "text": [
      "80\n"
     ]
    }
   ],
   "source": [
    "result = subtract(100,20)"
   ]
  },
  {
   "cell_type": "code",
   "execution_count": 15,
   "id": "476fe8e6-7f7d-4115-8852-097b9ad27a9d",
   "metadata": {},
   "outputs": [
    {
     "name": "stdout",
     "output_type": "stream",
     "text": [
      "None\n"
     ]
    }
   ],
   "source": [
    "print(result)"
   ]
  },
  {
   "cell_type": "code",
   "execution_count": 29,
   "id": "a7feebaf-2b88-46a1-bfc6-0459558ff960",
   "metadata": {},
   "outputs": [],
   "source": [
    "def subtract2(a,b):\n",
    "    print(\"From subract2 function\",a-b)\n",
    "    return 100*(a-b)"
   ]
  },
  {
   "cell_type": "code",
   "execution_count": 31,
   "id": "b5970136-d67d-4fac-a299-74fca87e63b0",
   "metadata": {},
   "outputs": [
    {
     "name": "stdout",
     "output_type": "stream",
     "text": [
      "From subract2 function 80\n"
     ]
    }
   ],
   "source": [
    "result2 = subtract2(100,20)"
   ]
  },
  {
   "cell_type": "code",
   "execution_count": 33,
   "id": "7e0e19df-667c-4dcd-8273-44b5d9bf2475",
   "metadata": {},
   "outputs": [
    {
     "data": {
      "text/plain": [
       "8000"
      ]
     },
     "execution_count": 33,
     "metadata": {},
     "output_type": "execute_result"
    }
   ],
   "source": [
    "result2"
   ]
  },
  {
   "cell_type": "code",
   "execution_count": null,
   "id": "689c435c-06b7-46c0-9769-58c8ec30c984",
   "metadata": {},
   "outputs": [],
   "source": []
  },
  {
   "cell_type": "code",
   "execution_count": 35,
   "id": "a23a57d5-1f16-4208-b563-5aaa5c90f27a",
   "metadata": {},
   "outputs": [],
   "source": [
    "def your_function_name(a,b): # a and b are called parameters\n",
    "    print('This is sample')"
   ]
  },
  {
   "cell_type": "code",
   "execution_count": 37,
   "id": "a36db2a0-bf48-49d8-9851-17b594ce703a",
   "metadata": {},
   "outputs": [
    {
     "name": "stdout",
     "output_type": "stream",
     "text": [
      "This is sample\n"
     ]
    }
   ],
   "source": [
    "your_function_name(10,20) # 10 and 20 are actual values : arguments"
   ]
  },
  {
   "cell_type": "code",
   "execution_count": 39,
   "id": "7394c191-3703-423b-b5a2-806ae221b3da",
   "metadata": {},
   "outputs": [],
   "source": [
    "def multiply(a,b):\n",
    "    return a * b"
   ]
  },
  {
   "cell_type": "code",
   "execution_count": 41,
   "id": "8fdb7c28-e31e-43fc-8714-1af5e539a5f7",
   "metadata": {},
   "outputs": [
    {
     "data": {
      "text/plain": [
       "200"
      ]
     },
     "execution_count": 41,
     "metadata": {},
     "output_type": "execute_result"
    }
   ],
   "source": [
    "multiply(10,20)"
   ]
  },
  {
   "cell_type": "code",
   "execution_count": 43,
   "id": "8b055d51-63d2-4257-94f4-a2f2973b6218",
   "metadata": {},
   "outputs": [],
   "source": [
    "def multiply_by_2(a):\n",
    "    return 2 * a"
   ]
  },
  {
   "cell_type": "code",
   "execution_count": 45,
   "id": "0da028cb-6807-4152-ac89-102a02c3f4e6",
   "metadata": {},
   "outputs": [
    {
     "data": {
      "text/plain": [
       "200"
      ]
     },
     "execution_count": 45,
     "metadata": {},
     "output_type": "execute_result"
    }
   ],
   "source": [
    "multiply_by_2(100)"
   ]
  },
  {
   "cell_type": "code",
   "execution_count": 51,
   "id": "f38fb2a8-c3ea-4a4c-a341-f59e82631737",
   "metadata": {},
   "outputs": [
    {
     "name": "stdout",
     "output_type": "stream",
     "text": [
      "20\n"
     ]
    }
   ],
   "source": [
    "result = multiply_by_2(10) \n",
    "print(result) # result <- 2 * 10 = 20"
   ]
  },
  {
   "cell_type": "code",
   "execution_count": 55,
   "id": "a9f21202-92e8-4cdd-9132-fc7638e0ac35",
   "metadata": {},
   "outputs": [],
   "source": [
    "def multiply(a,b=10): # Default value of b is 10\n",
    "    return a*b"
   ]
  },
  {
   "cell_type": "code",
   "execution_count": 57,
   "id": "9b3a4299-4743-487d-a272-fdbdbc0953a3",
   "metadata": {},
   "outputs": [
    {
     "data": {
      "text/plain": [
       "40"
      ]
     },
     "execution_count": 57,
     "metadata": {},
     "output_type": "execute_result"
    }
   ],
   "source": [
    "multiply(4)\n",
    "# a = 4 , b = 10 (default value)"
   ]
  },
  {
   "cell_type": "code",
   "execution_count": 61,
   "id": "7a28aad1-3865-49f8-b90c-480930ccc381",
   "metadata": {},
   "outputs": [
    {
     "data": {
      "text/plain": [
       "50"
      ]
     },
     "execution_count": 61,
     "metadata": {},
     "output_type": "execute_result"
    }
   ],
   "source": [
    "multiply(10,5) # b \n",
    "# a = 10 , b = 5"
   ]
  },
  {
   "cell_type": "code",
   "execution_count": 63,
   "id": "efed99dc-ba68-4c55-b3e1-ff3c23104e58",
   "metadata": {},
   "outputs": [
    {
     "data": {
      "text/plain": [
       "\u001b[1;31mSignature:\u001b[0m \u001b[0mmultiply\u001b[0m\u001b[1;33m(\u001b[0m\u001b[0ma\u001b[0m\u001b[1;33m,\u001b[0m \u001b[0mb\u001b[0m\u001b[1;33m=\u001b[0m\u001b[1;36m10\u001b[0m\u001b[1;33m)\u001b[0m\u001b[1;33m\u001b[0m\u001b[1;33m\u001b[0m\u001b[0m\n",
       "\u001b[1;31mDocstring:\u001b[0m <no docstring>\n",
       "\u001b[1;31mFile:\u001b[0m      c:\\users\\vijaya nandini\\appdata\\local\\temp\\ipykernel_20100\\2699383784.py\n",
       "\u001b[1;31mType:\u001b[0m      function"
      ]
     },
     "metadata": {},
     "output_type": "display_data"
    }
   ],
   "source": [
    "multiply?"
   ]
  },
  {
   "cell_type": "code",
   "execution_count": 71,
   "id": "e3841fea-a679-4162-ae12-5b23b537f8ac",
   "metadata": {},
   "outputs": [
    {
     "data": {
      "text/plain": [
       "20"
      ]
     },
     "execution_count": 71,
     "metadata": {},
     "output_type": "execute_result"
    }
   ],
   "source": [
    "# multiply(10,2)\n",
    "multiply(a=10,b=2)"
   ]
  },
  {
   "cell_type": "code",
   "execution_count": 73,
   "id": "d530998a-69b3-4cd1-b388-51c01ded1eb6",
   "metadata": {},
   "outputs": [
    {
     "data": {
      "text/plain": [
       "20"
      ]
     },
     "execution_count": 73,
     "metadata": {},
     "output_type": "execute_result"
    }
   ],
   "source": [
    "multiply(b=2,a=10)"
   ]
  },
  {
   "cell_type": "code",
   "execution_count": 75,
   "id": "c81e4731-40a3-4357-8cee-64c3be077ce3",
   "metadata": {},
   "outputs": [],
   "source": [
    "def division(a,b):\n",
    "    return a/b"
   ]
  },
  {
   "cell_type": "code",
   "execution_count": 77,
   "id": "def15494-917e-4eb7-b0ec-f9489bc00da2",
   "metadata": {},
   "outputs": [
    {
     "data": {
      "text/plain": [
       "2.0"
      ]
     },
     "execution_count": 77,
     "metadata": {},
     "output_type": "execute_result"
    }
   ],
   "source": [
    "division(a=10,b=5)"
   ]
  },
  {
   "cell_type": "code",
   "execution_count": 79,
   "id": "35920002-c4d5-47d4-8e07-51dc08903446",
   "metadata": {},
   "outputs": [
    {
     "data": {
      "text/plain": [
       "2.0"
      ]
     },
     "execution_count": 79,
     "metadata": {},
     "output_type": "execute_result"
    }
   ],
   "source": [
    "division(10,5)"
   ]
  },
  {
   "cell_type": "code",
   "execution_count": 81,
   "id": "dbcad1b9-59eb-42bc-b236-eca73cfbfc94",
   "metadata": {},
   "outputs": [
    {
     "data": {
      "text/plain": [
       "2.0"
      ]
     },
     "execution_count": 81,
     "metadata": {},
     "output_type": "execute_result"
    }
   ],
   "source": [
    "division(b=5,a=10)"
   ]
  },
  {
   "cell_type": "code",
   "execution_count": 83,
   "id": "d27b68a3-57ff-4923-9422-b71b84b9ae77",
   "metadata": {},
   "outputs": [
    {
     "data": {
      "text/plain": [
       "0.5"
      ]
     },
     "execution_count": 83,
     "metadata": {},
     "output_type": "execute_result"
    }
   ],
   "source": [
    "division(5,10)"
   ]
  },
  {
   "cell_type": "code",
   "execution_count": 87,
   "id": "87ca44e8-5ff9-43b0-aef8-688b12d76d67",
   "metadata": {},
   "outputs": [
    {
     "data": {
      "text/plain": [
       "\u001b[1;31mSignature:\u001b[0m \u001b[0mdivision\u001b[0m\u001b[1;33m(\u001b[0m\u001b[0ma\u001b[0m\u001b[1;33m,\u001b[0m \u001b[0mb\u001b[0m\u001b[1;33m)\u001b[0m\u001b[1;33m\u001b[0m\u001b[1;33m\u001b[0m\u001b[0m\n",
       "\u001b[1;31mDocstring:\u001b[0m <no docstring>\n",
       "\u001b[1;31mSource:\u001b[0m   \n",
       "\u001b[1;32mdef\u001b[0m \u001b[0mdivision\u001b[0m\u001b[1;33m(\u001b[0m\u001b[0ma\u001b[0m\u001b[1;33m,\u001b[0m\u001b[0mb\u001b[0m\u001b[1;33m)\u001b[0m\u001b[1;33m:\u001b[0m\u001b[1;33m\n",
       "\u001b[0m    \u001b[1;32mreturn\u001b[0m \u001b[0ma\u001b[0m\u001b[1;33m/\u001b[0m\u001b[0mb\u001b[0m\u001b[1;33m\u001b[0m\u001b[1;33m\u001b[0m\u001b[0m\n",
       "\u001b[1;31mFile:\u001b[0m      c:\\users\\vijaya nandini\\appdata\\local\\temp\\ipykernel_20100\\221599353.py\n",
       "\u001b[1;31mType:\u001b[0m      function"
      ]
     },
     "metadata": {},
     "output_type": "display_data"
    }
   ],
   "source": [
    "division??"
   ]
  },
  {
   "cell_type": "code",
   "execution_count": 89,
   "id": "965d3d80-79ce-45ed-a963-be7eb1066f3b",
   "metadata": {},
   "outputs": [
    {
     "ename": "ZeroDivisionError",
     "evalue": "division by zero",
     "output_type": "error",
     "traceback": [
      "\u001b[1;31m---------------------------------------------------------------------------\u001b[0m",
      "\u001b[1;31mZeroDivisionError\u001b[0m                         Traceback (most recent call last)",
      "Cell \u001b[1;32mIn[89], line 1\u001b[0m\n\u001b[1;32m----> 1\u001b[0m division(a\u001b[38;5;241m=\u001b[39m\u001b[38;5;241m10\u001b[39m,b\u001b[38;5;241m=\u001b[39m\u001b[38;5;241m0\u001b[39m)\n",
      "Cell \u001b[1;32mIn[75], line 2\u001b[0m, in \u001b[0;36mdivision\u001b[1;34m(a, b)\u001b[0m\n\u001b[0;32m      1\u001b[0m \u001b[38;5;28;01mdef\u001b[39;00m \u001b[38;5;21mdivision\u001b[39m(a,b):\n\u001b[1;32m----> 2\u001b[0m     \u001b[38;5;28;01mreturn\u001b[39;00m a\u001b[38;5;241m/\u001b[39mb\n",
      "\u001b[1;31mZeroDivisionError\u001b[0m: division by zero"
     ]
    }
   ],
   "source": [
    "division(a=10,b=0)"
   ]
  },
  {
   "cell_type": "code",
   "execution_count": 112,
   "id": "807a0925-d588-43b8-ad32-0df06b48f7c2",
   "metadata": {},
   "outputs": [],
   "source": [
    "# 10 / 0  - Infinite "
   ]
  },
  {
   "cell_type": "code",
   "execution_count": 91,
   "id": "5fce818e-a08d-4fd8-982e-78031242ea60",
   "metadata": {},
   "outputs": [],
   "source": [
    "def division(a,b):\n",
    "    if b != 0:\n",
    "        return a/b\n",
    "    else:\n",
    "        return \"Not divisible\""
   ]
  },
  {
   "cell_type": "code",
   "execution_count": 93,
   "id": "cafca5ee-2813-43a5-adc7-a72a3fd8e0d0",
   "metadata": {},
   "outputs": [],
   "source": [
    "def division(a,b):\n",
    "    if b == 0:\n",
    "        return \"Not Divisible\"\n",
    "    else:\n",
    "        return a/b"
   ]
  },
  {
   "cell_type": "code",
   "execution_count": 95,
   "id": "1779d06c-6ab8-4278-a2c2-82aebc072e84",
   "metadata": {},
   "outputs": [
    {
     "data": {
      "text/plain": [
       "'Not Divisible'"
      ]
     },
     "execution_count": 95,
     "metadata": {},
     "output_type": "execute_result"
    }
   ],
   "source": [
    "division(10,0)"
   ]
  },
  {
   "cell_type": "code",
   "execution_count": 97,
   "id": "63297f3a-957b-43f9-9a14-703cb7a1643d",
   "metadata": {},
   "outputs": [
    {
     "data": {
      "text/plain": [
       "50.0"
      ]
     },
     "execution_count": 97,
     "metadata": {},
     "output_type": "execute_result"
    }
   ],
   "source": [
    "division(10,0.2)"
   ]
  },
  {
   "cell_type": "code",
   "execution_count": 107,
   "id": "56263632-62e4-4829-adf5-53b0ec571b96",
   "metadata": {},
   "outputs": [],
   "source": [
    "def division(a,b):\n",
    "    if b != 0:\n",
    "        return a/b # Execution returns to main code from this line\n",
    "    else:\n",
    "        return \"Not divisible\" # Execution returns to main code from this line\n",
    "    print('This is third last line from division function')\n",
    "    print('This is second last line from division function')\n",
    "    print('This is last line from division function')\n",
    "    return 100"
   ]
  },
  {
   "cell_type": "code",
   "execution_count": 101,
   "id": "9be2edfa-a117-42c4-9569-acb05b15dfbf",
   "metadata": {},
   "outputs": [
    {
     "name": "stdout",
     "output_type": "stream",
     "text": [
      "This is main code starting line\n",
      "Not divisible\n",
      "This is main code ending line\n"
     ]
    }
   ],
   "source": [
    "print('This is main code starting line')\n",
    "output = division(10,0)\n",
    "print(output)\n",
    "print('This is main code ending line')"
   ]
  },
  {
   "cell_type": "code",
   "execution_count": 105,
   "id": "536bf788-3a85-4006-afe8-a7f08e65cc17",
   "metadata": {},
   "outputs": [
    {
     "name": "stdout",
     "output_type": "stream",
     "text": [
      "This is main code starting line\n",
      "2.0\n",
      "This is main code ending line\n"
     ]
    }
   ],
   "source": [
    "print('This is main code starting line')\n",
    "output = division(10,5)\n",
    "print(output)\n",
    "print('This is main code ending line')"
   ]
  },
  {
   "cell_type": "code",
   "execution_count": null,
   "id": "9c365088-d7c0-4124-9a41-7e0570bb5d16",
   "metadata": {},
   "outputs": [],
   "source": []
  }
 ],
 "metadata": {
  "kernelspec": {
   "display_name": "Python 3 (ipykernel)",
   "language": "python",
   "name": "python3"
  },
  "language_info": {
   "codemirror_mode": {
    "name": "ipython",
    "version": 3
   },
   "file_extension": ".py",
   "mimetype": "text/x-python",
   "name": "python",
   "nbconvert_exporter": "python",
   "pygments_lexer": "ipython3",
   "version": "3.12.4"
  }
 },
 "nbformat": 4,
 "nbformat_minor": 5
}
