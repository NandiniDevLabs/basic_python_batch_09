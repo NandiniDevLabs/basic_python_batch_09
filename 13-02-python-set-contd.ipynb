{
 "cells": [
  {
   "cell_type": "code",
   "execution_count": 1,
   "id": "dae75d56-d299-4a5e-97c6-e2fd13389d71",
   "metadata": {},
   "outputs": [],
   "source": [
    "a = {1,2,3,4,5,4,3}"
   ]
  },
  {
   "cell_type": "code",
   "execution_count": null,
   "id": "4283ef65-8a52-4fc2-9829-2768bce8dc56",
   "metadata": {},
   "outputs": [],
   "source": [
    "a"
   ]
  },
  {
   "cell_type": "code",
   "execution_count": 3,
   "id": "1458f72e-814e-4dc6-aed3-14c5faa6c146",
   "metadata": {},
   "outputs": [],
   "source": [
    "b = set(range(4,10))"
   ]
  },
  {
   "cell_type": "code",
   "execution_count": null,
   "id": "e2e8804a-b48c-4942-a53b-ba24a05a244f",
   "metadata": {},
   "outputs": [],
   "source": [
    "b"
   ]
  },
  {
   "cell_type": "code",
   "execution_count": null,
   "id": "fc4833ed-90ad-426f-8d73-0ead5b755bc7",
   "metadata": {},
   "outputs": [],
   "source": [
    "a.union(b)"
   ]
  },
  {
   "cell_type": "code",
   "execution_count": null,
   "id": "d92e9163-6cc5-468a-9403-5f06b9ecb227",
   "metadata": {},
   "outputs": [],
   "source": [
    "a.intersection(b)"
   ]
  },
  {
   "cell_type": "code",
   "execution_count": null,
   "id": "c48cec88-2cc2-48d8-9795-fcd19e1c8203",
   "metadata": {},
   "outputs": [],
   "source": [
    "a.difference(b)"
   ]
  },
  {
   "cell_type": "code",
   "execution_count": null,
   "id": "cfe99c19-c8a1-443f-ba06-00f872741bcc",
   "metadata": {},
   "outputs": [],
   "source": [
    "b.difference(a)"
   ]
  },
  {
   "cell_type": "code",
   "execution_count": 9,
   "id": "60a0d31a-f438-4558-a968-4a59382b55ab",
   "metadata": {},
   "outputs": [],
   "source": [
    "a.clear()"
   ]
  },
  {
   "cell_type": "code",
   "execution_count": null,
   "id": "ac227039-00d5-4155-9103-8a877bba63f1",
   "metadata": {},
   "outputs": [],
   "source": [
    "a"
   ]
  },
  {
   "cell_type": "code",
   "execution_count": null,
   "id": "f8d2fa78-7836-4282-8a77-bef0ef05a2ad",
   "metadata": {},
   "outputs": [],
   "source": [
    "b"
   ]
  },
  {
   "cell_type": "code",
   "execution_count": null,
   "id": "c0ada278-b684-4db1-85ab-33667d8eb210",
   "metadata": {},
   "outputs": [],
   "source": [
    "a = set(range(1,6))\n",
    "b = set(range(4,10))\n",
    "print(a)\n",
    "print(b)"
   ]
  },
  {
   "cell_type": "code",
   "execution_count": null,
   "id": "6f649308-64f3-4446-9b43-aafa46b5c611",
   "metadata": {},
   "outputs": [],
   "source": [
    "a.union(b)"
   ]
  },
  {
   "cell_type": "code",
   "execution_count": null,
   "id": "14cc30cc-37c9-4a79-af31-d3b3cef55fd4",
   "metadata": {},
   "outputs": [],
   "source": [
    "print(a)\n",
    "print(b)"
   ]
  },
  {
   "cell_type": "code",
   "execution_count": 15,
   "id": "268ac9a9-6688-49ec-8980-9aaa9716c85f",
   "metadata": {},
   "outputs": [],
   "source": [
    "a.update(b)"
   ]
  },
  {
   "cell_type": "code",
   "execution_count": null,
   "id": "0c63d2ef-06aa-4c3c-bd43-21d6b59fe128",
   "metadata": {},
   "outputs": [],
   "source": [
    "print(a)\n",
    "print(b)"
   ]
  },
  {
   "cell_type": "code",
   "execution_count": null,
   "id": "72b6bdd6-663b-44ef-9289-e6e7a409d3dc",
   "metadata": {},
   "outputs": [],
   "source": [
    "a = set(range(1,6))\n",
    "b = set(range(4,10))\n",
    "print(a)\n",
    "print(b)"
   ]
  },
  {
   "cell_type": "code",
   "execution_count": null,
   "id": "0de1694a-2b29-4600-a2b9-1fedb80da3b7",
   "metadata": {},
   "outputs": [],
   "source": [
    "a.difference(b)"
   ]
  },
  {
   "cell_type": "code",
   "execution_count": null,
   "id": "2b0f8be7",
   "metadata": {},
   "outputs": [],
   "source": [
    "print(a)\n",
    "print(b)"
   ]
  },
  {
   "cell_type": "code",
   "execution_count": null,
   "id": "6ab85c32-9665-49e2-bd9c-ff847e089dc1",
   "metadata": {},
   "outputs": [],
   "source": [
    "a.difference_update(b)\n",
    "print(a)\n",
    "print(b)"
   ]
  },
  {
   "cell_type": "code",
   "execution_count": 22,
   "id": "268eceb8-c5b2-4455-ab6c-f0f8209f1bd7",
   "metadata": {},
   "outputs": [],
   "source": [
    "a.add(4)"
   ]
  },
  {
   "cell_type": "code",
   "execution_count": null,
   "id": "baa8aea0-2322-4960-83fb-4f9563050a59",
   "metadata": {},
   "outputs": [],
   "source": [
    "a"
   ]
  },
  {
   "cell_type": "code",
   "execution_count": null,
   "id": "c3f07194-354c-4efe-bd28-acf5183cafd2",
   "metadata": {},
   "outputs": [],
   "source": [
    "a.add(5)\n",
    "print(a)"
   ]
  },
  {
   "cell_type": "code",
   "execution_count": null,
   "id": "c4f0edc4-198b-4d61-8fa7-7fec05955d16",
   "metadata": {},
   "outputs": [],
   "source": [
    "b"
   ]
  },
  {
   "cell_type": "code",
   "execution_count": 26,
   "id": "eb82804e-86c3-4273-8fbb-a504181b9b1a",
   "metadata": {},
   "outputs": [],
   "source": [
    "b.discard(7)"
   ]
  },
  {
   "cell_type": "code",
   "execution_count": null,
   "id": "e11226a5-5738-4198-bad9-45ac97b86e22",
   "metadata": {},
   "outputs": [],
   "source": [
    "b"
   ]
  },
  {
   "cell_type": "code",
   "execution_count": 28,
   "id": "23767c41-f53b-4c45-8695-900071c3968b",
   "metadata": {},
   "outputs": [],
   "source": [
    "b.discard(70)"
   ]
  },
  {
   "cell_type": "code",
   "execution_count": null,
   "id": "de49aead-4c6d-49fa-94bf-08681aa2101d",
   "metadata": {},
   "outputs": [],
   "source": [
    "b.discard?"
   ]
  },
  {
   "cell_type": "code",
   "execution_count": null,
   "id": "4090adb2-bb42-401c-8a5e-caaf97570fd0",
   "metadata": {},
   "outputs": [],
   "source": [
    "b"
   ]
  },
  {
   "cell_type": "code",
   "execution_count": 31,
   "id": "d2aa77a6-0098-4e95-9e33-f4a9364f80d1",
   "metadata": {},
   "outputs": [],
   "source": [
    "b.remove(5)"
   ]
  },
  {
   "cell_type": "code",
   "execution_count": null,
   "id": "a944faac-44b5-4d13-8add-9a9c5bfcca02",
   "metadata": {},
   "outputs": [],
   "source": [
    "b"
   ]
  },
  {
   "cell_type": "code",
   "execution_count": null,
   "id": "eaeb25e4-b95a-44bd-8ea6-daf8418a8650",
   "metadata": {},
   "outputs": [],
   "source": [
    "b.remove(50)"
   ]
  },
  {
   "cell_type": "code",
   "execution_count": null,
   "id": "9cff364d-38ac-4ade-9bf2-3535ab92a153",
   "metadata": {},
   "outputs": [],
   "source": [
    "b"
   ]
  },
  {
   "cell_type": "code",
   "execution_count": null,
   "id": "f829517a-38a3-4da6-9ea5-91b4603ede2d",
   "metadata": {},
   "outputs": [],
   "source": [
    "b.pop()"
   ]
  },
  {
   "cell_type": "code",
   "execution_count": null,
   "id": "d825169f-7b8c-4501-a70b-6ede06e19c49",
   "metadata": {},
   "outputs": [],
   "source": [
    "b"
   ]
  },
  {
   "cell_type": "code",
   "execution_count": null,
   "id": "3d36470f-c8c9-4050-82f7-5bd4a566a6a9",
   "metadata": {},
   "outputs": [],
   "source": [
    "b.pop()"
   ]
  },
  {
   "cell_type": "code",
   "execution_count": null,
   "id": "6494d0eb-b152-4c2a-aedb-89d399fd4311",
   "metadata": {},
   "outputs": [],
   "source": [
    "b"
   ]
  },
  {
   "cell_type": "code",
   "execution_count": null,
   "id": "6d348d05-848e-4c6e-8bb6-7919738b5cf4",
   "metadata": {},
   "outputs": [],
   "source": [
    "b.pop()"
   ]
  },
  {
   "cell_type": "code",
   "execution_count": null,
   "id": "37eb5519-afe2-4412-b486-e4320ceab5fb",
   "metadata": {},
   "outputs": [],
   "source": [
    "b"
   ]
  },
  {
   "cell_type": "code",
   "execution_count": null,
   "id": "dfca091a-85f9-4617-98d1-2793bb6c7e16",
   "metadata": {},
   "outputs": [],
   "source": [
    "b.pop()"
   ]
  },
  {
   "cell_type": "code",
   "execution_count": null,
   "id": "daa5ead9-0187-4d34-bc64-ba48b11ed11e",
   "metadata": {},
   "outputs": [],
   "source": [
    "b"
   ]
  },
  {
   "cell_type": "code",
   "execution_count": null,
   "id": "79ed59ec-1b25-409c-935c-f3604215b658",
   "metadata": {},
   "outputs": [],
   "source": [
    "b.pop()"
   ]
  },
  {
   "cell_type": "code",
   "execution_count": null,
   "id": "6d78c6b0-b718-467f-a6b5-203628430ede",
   "metadata": {},
   "outputs": [],
   "source": [
    "a = set(range(1,6))\n",
    "b = set(range(4,10))\n",
    "print(a)\n",
    "print(b)"
   ]
  },
  {
   "cell_type": "code",
   "execution_count": null,
   "id": "f06b14d8-ffe6-486e-a5e5-6a405ca15f3f",
   "metadata": {},
   "outputs": [],
   "source": [
    "a.symmetric_difference(b)"
   ]
  },
  {
   "cell_type": "code",
   "execution_count": null,
   "id": "f6eb7b95-60b4-4d4d-ae66-a22a84693977",
   "metadata": {},
   "outputs": [],
   "source": [
    "print(a)\n",
    "print(b)"
   ]
  },
  {
   "cell_type": "code",
   "execution_count": null,
   "id": "fd56c5bb-62ae-4f38-bb5a-2fbc9a1092dd",
   "metadata": {},
   "outputs": [],
   "source": [
    "a.isdisjoint(b)"
   ]
  },
  {
   "cell_type": "code",
   "execution_count": null,
   "id": "5cfed259-bdbb-469d-9b78-49ac9936301f",
   "metadata": {},
   "outputs": [],
   "source": [
    "c = set(range(11,16))\n",
    "print(c)\n",
    "print(a)"
   ]
  },
  {
   "cell_type": "code",
   "execution_count": null,
   "id": "1f932cef-e1f6-4214-a130-7e0bb7bd28d6",
   "metadata": {},
   "outputs": [],
   "source": [
    "a.isdisjoint(c)"
   ]
  },
  {
   "cell_type": "code",
   "execution_count": null,
   "id": "10e3b6d5-178b-458e-8c56-df5010f37109",
   "metadata": {},
   "outputs": [],
   "source": [
    "d = {2,3,4}\n",
    "print(d)\n",
    "print(a)"
   ]
  },
  {
   "cell_type": "code",
   "execution_count": null,
   "id": "b3b7161b-29ea-4bfa-b607-a999d68a5411",
   "metadata": {},
   "outputs": [],
   "source": [
    "d.issubset(a)"
   ]
  },
  {
   "cell_type": "code",
   "execution_count": null,
   "id": "0055c379-d60c-4e2b-9dd4-f99a2cf7db69",
   "metadata": {},
   "outputs": [],
   "source": [
    "a.issuperset(d)"
   ]
  },
  {
   "cell_type": "code",
   "execution_count": null,
   "id": "d8f11746-9ea1-4f09-b79c-21b8225985b8",
   "metadata": {},
   "outputs": [],
   "source": [
    "e = {0,1,2}\n",
    "print(e)\n",
    "print(a)"
   ]
  },
  {
   "cell_type": "code",
   "execution_count": null,
   "id": "396bda0a-1595-4678-a352-2c4421656d04",
   "metadata": {},
   "outputs": [],
   "source": [
    "e.issubset(a)"
   ]
  },
  {
   "cell_type": "code",
   "execution_count": null,
   "id": "9e6c63b6-a055-4616-846d-0940d2e574bc",
   "metadata": {},
   "outputs": [],
   "source": [
    "a.issuperset(e)"
   ]
  },
  {
   "cell_type": "code",
   "execution_count": null,
   "id": "77614fe1-fae4-430c-9273-8da1ce3d3eb9",
   "metadata": {},
   "outputs": [],
   "source": [
    "t = (1,2,3,['a','b','c'],5)\n",
    "print(type(t))\n",
    "print(t)"
   ]
  },
  {
   "cell_type": "code",
   "execution_count": null,
   "id": "719db30f-5ff7-4dc5-bd33-a1cb1df825c9",
   "metadata": {},
   "outputs": [],
   "source": [
    "s = {1,2,3,['a','b','c'],5}"
   ]
  },
  {
   "cell_type": "code",
   "execution_count": 58,
   "id": "28805d06-ffde-424b-abe0-41057196d691",
   "metadata": {},
   "outputs": [],
   "source": [
    "s = {10, True, False, 'a', 'b', 23.56, 'a'}"
   ]
  },
  {
   "cell_type": "code",
   "execution_count": null,
   "id": "88464c99-e532-4820-b8c3-927c7b421b22",
   "metadata": {},
   "outputs": [],
   "source": [
    "s"
   ]
  },
  {
   "cell_type": "code",
   "execution_count": 60,
   "id": "265e6473-370e-45f7-91fa-e87b60a82fdb",
   "metadata": {},
   "outputs": [],
   "source": [
    "s = {True, False, 1,2,3,4, 0}"
   ]
  },
  {
   "cell_type": "code",
   "execution_count": null,
   "id": "89df3a81-fa47-4a46-a490-f81394589b3a",
   "metadata": {},
   "outputs": [],
   "source": [
    "s"
   ]
  },
  {
   "cell_type": "code",
   "execution_count": 62,
   "id": "5b1d9125-c2d1-465b-9f48-d85a07df302d",
   "metadata": {},
   "outputs": [],
   "source": [
    "s = {0,1,2,3,4, False, True}"
   ]
  },
  {
   "cell_type": "code",
   "execution_count": null,
   "id": "d70f6b53-0071-42a9-9405-c066f2c4e069",
   "metadata": {},
   "outputs": [],
   "source": [
    "s"
   ]
  },
  {
   "cell_type": "code",
   "execution_count": null,
   "id": "311636c0-b53a-4b3c-8b24-f87f091e45e8",
   "metadata": {},
   "outputs": [],
   "source": [
    "s.pop()"
   ]
  },
  {
   "cell_type": "code",
   "execution_count": null,
   "id": "c17f317a-137c-4680-a017-00777eee2ca9",
   "metadata": {},
   "outputs": [],
   "source": [
    "s"
   ]
  },
  {
   "cell_type": "code",
   "execution_count": null,
   "id": "ad6d1a08",
   "metadata": {},
   "outputs": [],
   "source": []
  }
 ],
 "metadata": {
  "kernelspec": {
   "display_name": "Python 3 (ipykernel)",
   "language": "python",
   "name": "python3"
  },
  "language_info": {
   "codemirror_mode": {
    "name": "ipython",
    "version": 3
   },
   "file_extension": ".py",
   "mimetype": "text/x-python",
   "name": "python",
   "nbconvert_exporter": "python",
   "pygments_lexer": "ipython3",
   "version": "3.12.4"
  }
 },
 "nbformat": 4,
 "nbformat_minor": 5
}
