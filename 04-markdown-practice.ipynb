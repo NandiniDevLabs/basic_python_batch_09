{
 "cells": [
  {
   "cell_type": "markdown",
   "id": "33abc6fe",
   "metadata": {},
   "source": [
    "# Markdown\n",
    "- Markdown is a text-to-HTML conversion tool for web writers. \n",
    "- It allows you to write using an easy-to-read, easy-to-write plain text format, then convert it to structurally valid XHTML (or HTML).\n",
    "- Extensively used in Jupyter notebooks \n",
    "\n",
    "Use the following links for further reference\n",
    "1. [Cheat Sheet](https://www.markdownguide.org/cheat-sheet/)\n",
    "2. [Markdown Syntax](https://www.markdownguide.org/basic-syntax/)"
   ]
  },
  {
   "cell_type": "markdown",
   "id": "c8a0e88b",
   "metadata": {},
   "source": [
    "# Heading 1\n",
    "## Heading 2\n",
    "### Heading 3\n",
    "#### Heading 4\n",
    "##### Heading 5\n",
    "###### Heading 6"
   ]
  },
  {
   "cell_type": "markdown",
   "id": "28a89e2a",
   "metadata": {},
   "source": [
    "This is plain text. Any information about your code can be mentioned here."
   ]
  },
  {
   "cell_type": "markdown",
   "id": "c5e9064b",
   "metadata": {},
   "source": [
    "**This is Bold**"
   ]
  },
  {
   "cell_type": "markdown",
   "id": "0939db40",
   "metadata": {},
   "source": [
    "*This is italic*"
   ]
  },
  {
   "cell_type": "markdown",
   "id": "53385486",
   "metadata": {},
   "source": [
    "***This is bold and italic***"
   ]
  },
  {
   "cell_type": "markdown",
   "id": "d1cbe718",
   "metadata": {},
   "source": [
    "_Italic_"
   ]
  },
  {
   "cell_type": "markdown",
   "id": "0a3161df",
   "metadata": {},
   "source": [
    "[DS Projects](https://github.com/TrainingByPackt/Data-Science-Projects-with-Python)"
   ]
  },
  {
   "cell_type": "markdown",
   "id": "5274504e",
   "metadata": {},
   "source": [
    "[DS Image](https://unsplash.com/photos/blue-and-white-floral-textile-11KDtiUWRq4)"
   ]
  },
  {
   "cell_type": "markdown",
   "id": "362c6362",
   "metadata": {},
   "source": [
    "Help --> Markdown Reference"
   ]
  },
  {
   "cell_type": "markdown",
   "id": "f8382ad8-d567-4da3-8d41-82a918aff04d",
   "metadata": {},
   "source": [
    "# Heading1\n",
    "some plain text.. [Link](https://www.amazon.com/gp/product/1838551026) some plain text.<br>\n",
    "> some plain text [Link2](https://www.amazon.com/gp/product/1838551026) some plain text.\n",
    "\n",
    "## Heading2\n",
    "- List Item 1\n",
    "- List Item 2\n",
    "- List Item 3\n",
    "\n",
    "This is some plain text"
   ]
  },
  {
   "cell_type": "markdown",
   "id": "f4d8a97a-6bfc-4db6-9e4e-7e96369d59e7",
   "metadata": {},
   "source": [
    "This is ordered list\n",
    "1. item 1\n",
    "2. item 2\n",
    "3. item 3"
   ]
  },
  {
   "cell_type": "markdown",
   "id": "bcc60005-854e-4871-b204-7b8c7786f2b7",
   "metadata": {},
   "source": [
    "## Hardware requirements\n",
    "For an optimal student experience, we recommend the following hardware configuration:<br>\n",
    "- Processor: Intel Core i5 or equivalent\n",
    "- Memory: 4 GB RAM or higher\n",
    "- Storage: 35 Gb or higher"
   ]
  },
  {
   "cell_type": "markdown",
   "id": "a4d35e60-468a-459e-9f3f-3548799772a5",
   "metadata": {},
   "source": [
    "## This is title2\n",
    "This is some plain text\n",
    "- Item1\n",
    "- item2\n",
    "- item3"
   ]
  },
  {
   "cell_type": "markdown",
   "id": "3c25848c-ab9d-4c30-889f-4f2fe9f238e4",
   "metadata": {},
   "source": [
    "## Software requirements\n",
    "1. OS: Windows 7 SP1 64-bit, Windows 8.1 64-bit or Windows 10 64-bit, Ubuntu Linux, or the latest version of OS X\n",
    "2. Browser: Google Chrome/Mozilla Firefox Latest Version\n",
    "3. Notepad++/Sublime Text as IDE (Optional, as you can practice everything using Jupyter notecourse on your browser)\n",
    "4. Python 3.4+ (latest is recommended) installed (from https://python.org)\n",
    "5. Python libraries as needed (Jupyter, Numpy, Pandas, Matplotlib, BeautifulSoup4, and so on)"
   ]
  },
  {
   "cell_type": "code",
   "execution_count": null,
   "id": "dab51127-b8f7-4a70-bf77-e254b49c3e08",
   "metadata": {},
   "outputs": [],
   "source": []
  }
 ],
 "metadata": {
  "kernelspec": {
   "display_name": "Python 3 (ipykernel)",
   "language": "python",
   "name": "python3"
  },
  "language_info": {
   "codemirror_mode": {
    "name": "ipython",
    "version": 3
   },
   "file_extension": ".py",
   "mimetype": "text/x-python",
   "name": "python",
   "nbconvert_exporter": "python",
   "pygments_lexer": "ipython3",
   "version": "3.12.4"
  }
 },
 "nbformat": 4,
 "nbformat_minor": 5
}
