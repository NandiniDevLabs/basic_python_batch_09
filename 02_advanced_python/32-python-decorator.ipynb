{
 "cells": [
  {
   "cell_type": "markdown",
   "metadata": {},
   "source": [
    "# Python Decorator\n",
    "- Decorator in Python is a special type of function that allows you to modify the behavior of another function or method without changing its code directly. \n",
    "- It a \"wrapper\" that enhances or changes the way a function works."
   ]
  },
  {
   "cell_type": "code",
   "execution_count": 1,
   "metadata": {},
   "outputs": [],
   "source": [
    "def add(a,b):\n",
    "    return a+b"
   ]
  },
  {
   "cell_type": "code",
   "execution_count": 2,
   "metadata": {},
   "outputs": [
    {
     "data": {
      "text/plain": [
       "5"
      ]
     },
     "execution_count": 2,
     "metadata": {},
     "output_type": "execute_result"
    }
   ],
   "source": [
    "add(2,3)"
   ]
  },
  {
   "cell_type": "code",
   "execution_count": 24,
   "metadata": {},
   "outputs": [],
   "source": [
    "def mydecorator(func):\n",
    "    def inner_func(*args, **kwargs):\n",
    "        print(\"1. Before calling actual function I want this line to execute\")\n",
    "        print(\"2. Before calling actual function I want this line to execute\")\n",
    "        print(f\"arguments: {args}\")\n",
    "        print(f\"Key-word arguments: {kwargs}\")\n",
    "        output = func(*args,**kwargs)   # Our function is getting called ex: add/sub\n",
    "        print(f\"Actual fucntion output: {output}\")\n",
    "        return output*20\n",
    "    return inner_func"
   ]
  },
  {
   "cell_type": "code",
   "execution_count": 25,
   "metadata": {},
   "outputs": [],
   "source": [
    "@mydecorator\n",
    "def add(a,b,**kwargs):\n",
    "    print(f'Inside add function, kwargs: {kwargs}')\n",
    "    print(f'Inside add function, adding inputs a:{a} and b:{b}')\n",
    "    return a+b"
   ]
  },
  {
   "cell_type": "code",
   "execution_count": 20,
   "metadata": {},
   "outputs": [
    {
     "name": "stdout",
     "output_type": "stream",
     "text": [
      "1. Before calling actual function I want this line to execute\n",
      "2. Before calling actual function I want this line to execute\n",
      "arguments: (2, 3)\n",
      "Key-word arguments: {}\n",
      "{}\n",
      "Inside add function, adding inputs a:2 and b:3\n",
      "Actual fucntion output: 5\n"
     ]
    },
    {
     "data": {
      "text/plain": [
       "100"
      ]
     },
     "execution_count": 20,
     "metadata": {},
     "output_type": "execute_result"
    }
   ],
   "source": [
    "add(2,3)"
   ]
  },
  {
   "cell_type": "code",
   "execution_count": 22,
   "metadata": {},
   "outputs": [
    {
     "name": "stdout",
     "output_type": "stream",
     "text": [
      "1. Before calling actual function I want this line to execute\n",
      "2. Before calling actual function I want this line to execute\n",
      "arguments: (2, 3)\n",
      "Key-word arguments: {'name': 'vijaya', 'skills': ['python', 'ml']}\n",
      "{'name': 'vijaya', 'skills': ['python', 'ml']}\n",
      "Inside add function, adding inputs a:2 and b:3\n",
      "Actual fucntion output: 5\n"
     ]
    },
    {
     "data": {
      "text/plain": [
       "100"
      ]
     },
     "execution_count": 22,
     "metadata": {},
     "output_type": "execute_result"
    }
   ],
   "source": [
    "add(2,3,name='vijaya',skills=[\"python\",\"ml\"])"
   ]
  },
  {
   "cell_type": "code",
   "execution_count": 26,
   "metadata": {},
   "outputs": [],
   "source": [
    "def subtract(a,b):\n",
    "    return a-b"
   ]
  },
  {
   "cell_type": "code",
   "execution_count": 27,
   "metadata": {},
   "outputs": [
    {
     "data": {
      "text/plain": [
       "1"
      ]
     },
     "execution_count": 27,
     "metadata": {},
     "output_type": "execute_result"
    }
   ],
   "source": [
    "subtract(4,3)"
   ]
  },
  {
   "cell_type": "code",
   "execution_count": 28,
   "metadata": {},
   "outputs": [],
   "source": [
    "@mydecorator\n",
    "def subtract(a,b):\n",
    "    return a-b"
   ]
  },
  {
   "cell_type": "code",
   "execution_count": 29,
   "metadata": {},
   "outputs": [
    {
     "name": "stdout",
     "output_type": "stream",
     "text": [
      "1. Before calling actual function I want this line to execute\n",
      "2. Before calling actual function I want this line to execute\n",
      "arguments: (2, 3)\n",
      "Key-word arguments: {}\n",
      "Actual fucntion output: -1\n"
     ]
    },
    {
     "data": {
      "text/plain": [
       "-20"
      ]
     },
     "execution_count": 29,
     "metadata": {},
     "output_type": "execute_result"
    }
   ],
   "source": [
    "subtract(2,3)"
   ]
  },
  {
   "cell_type": "code",
   "execution_count": null,
   "metadata": {},
   "outputs": [],
   "source": []
  }
 ],
 "metadata": {
  "kernelspec": {
   "display_name": "Python 3",
   "language": "python",
   "name": "python3"
  },
  "language_info": {
   "codemirror_mode": {
    "name": "ipython",
    "version": 3
   },
   "file_extension": ".py",
   "mimetype": "text/x-python",
   "name": "python",
   "nbconvert_exporter": "python",
   "pygments_lexer": "ipython3",
   "version": "3.12.8"
  }
 },
 "nbformat": 4,
 "nbformat_minor": 2
}
