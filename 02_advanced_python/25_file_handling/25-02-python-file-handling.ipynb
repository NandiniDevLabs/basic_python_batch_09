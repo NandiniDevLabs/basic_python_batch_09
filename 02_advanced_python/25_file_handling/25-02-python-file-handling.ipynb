{
 "cells": [
  {
   "cell_type": "code",
   "execution_count": 1,
   "metadata": {},
   "outputs": [
    {
     "name": "stdout",
     "output_type": "stream",
     "text": [
      "What is cloud computing?\n",
      "Cloud computing is the on-demand delivery of IT resources over the Internet with pay-as-you-go pricing. Instead of buying, owning, and maintaining physical data centers and servers, you can access technology services, such as computing power, storage, and databases, on an as-needed basis from a cloud provider like Amazon Web Services (AWS).\n"
     ]
    }
   ],
   "source": [
    "with open('source/source1.txt','r') as s1:\n",
    "    print(s1.read())"
   ]
  },
  {
   "cell_type": "code",
   "execution_count": 11,
   "metadata": {},
   "outputs": [],
   "source": [
    "s1 = open('source/source1.txt','r')"
   ]
  },
  {
   "cell_type": "code",
   "execution_count": 12,
   "metadata": {},
   "outputs": [
    {
     "data": {
      "text/plain": [
       "False"
      ]
     },
     "execution_count": 12,
     "metadata": {},
     "output_type": "execute_result"
    }
   ],
   "source": [
    "s1.writable()"
   ]
  },
  {
   "cell_type": "code",
   "execution_count": 13,
   "metadata": {},
   "outputs": [
    {
     "data": {
      "text/plain": [
       "True"
      ]
     },
     "execution_count": 13,
     "metadata": {},
     "output_type": "execute_result"
    }
   ],
   "source": [
    "s1.readable()"
   ]
  },
  {
   "cell_type": "markdown",
   "metadata": {},
   "source": [
    "# Merging files\n",
    "- Copy data from multiple source files and \n",
    "- create single destination file"
   ]
  },
  {
   "cell_type": "code",
   "execution_count": 19,
   "metadata": {},
   "outputs": [
    {
     "name": "stdout",
     "output_type": "stream",
     "text": [
      "What is cloud computing?\n",
      "Cloud computing is the on-demand delivery of IT resources over the Internet with pay-as-you-go pricing. Instead of buying, owning, and maintaining physical data centers and servers, you can access technology services, such as computing power, storage, and databases, on an as-needed basis from a cloud provider like Amazon Web Services (AWS).\n"
     ]
    }
   ],
   "source": [
    "# Copying single file\n",
    "source_file = 'source/source1.txt'\n",
    "destination_file = 'destination/destination.txt'\n",
    "with open(source_file,'r') as file:\n",
    "    content = file.read()\n",
    "print(content)\n",
    "\n",
    "with open(destination_file,'a') as dest_file:\n",
    "    dest_file.write(content)"
   ]
  },
  {
   "cell_type": "code",
   "execution_count": 21,
   "metadata": {},
   "outputs": [],
   "source": [
    "source_files = ['source/source1.txt','source/source2.txt','source/source3.txt','source/source4.txt']"
   ]
  },
  {
   "cell_type": "code",
   "execution_count": 25,
   "metadata": {},
   "outputs": [
    {
     "name": "stdout",
     "output_type": "stream",
     "text": [
      "source/source1.txt\n",
      "source/source2.txt\n",
      "source/source3.txt\n",
      "source/source4.txt\n"
     ]
    }
   ],
   "source": [
    "for source_file in source_files:\n",
    "    print(source_file)\n",
    "    with open(source_file,'r') as file:\n",
    "        content = file.read()\n",
    "    # print(content)\n",
    "\n",
    "    with open(destination_file,'a') as dest_file:\n",
    "        dest_file.write(content)\n",
    "        dest_file.write('\\n-------------------\\n')\n",
    "#"
   ]
  },
  {
   "cell_type": "code",
   "execution_count": 26,
   "metadata": {},
   "outputs": [],
   "source": [
    "def combine_multiple_files(source_files, destination_file):\n",
    "    for source_file in source_files:\n",
    "        print(source_file)\n",
    "        with open(source_file,'r') as file:\n",
    "            content = file.read()\n",
    "        # print(content)\n",
    "\n",
    "        with open(destination_file,'a') as dest_file:\n",
    "            dest_file.write(content)\n",
    "            dest_file.write('\\n-------------------\\n')\n",
    "    #\n",
    "    # End of for loop\n",
    "#####"
   ]
  },
  {
   "cell_type": "code",
   "execution_count": 27,
   "metadata": {},
   "outputs": [
    {
     "data": {
      "text/plain": [
       "['source/source1.txt',\n",
       " 'source/source2.txt',\n",
       " 'source/source3.txt',\n",
       " 'source/source4.txt']"
      ]
     },
     "execution_count": 27,
     "metadata": {},
     "output_type": "execute_result"
    }
   ],
   "source": [
    "source_files"
   ]
  },
  {
   "cell_type": "code",
   "execution_count": 28,
   "metadata": {},
   "outputs": [
    {
     "name": "stdout",
     "output_type": "stream",
     "text": [
      "source/source1.txt\n",
      "source/source2.txt\n",
      "source/source3.txt\n",
      "source/source4.txt\n"
     ]
    }
   ],
   "source": [
    "combine_multiple_files(source_files,'destination/destination2.txt')"
   ]
  },
  {
   "cell_type": "code",
   "execution_count": null,
   "metadata": {},
   "outputs": [],
   "source": []
  }
 ],
 "metadata": {
  "kernelspec": {
   "display_name": "Python 3",
   "language": "python",
   "name": "python3"
  },
  "language_info": {
   "codemirror_mode": {
    "name": "ipython",
    "version": 3
   },
   "file_extension": ".py",
   "mimetype": "text/x-python",
   "name": "python",
   "nbconvert_exporter": "python",
   "pygments_lexer": "ipython3",
   "version": "3.11.9"
  }
 },
 "nbformat": 4,
 "nbformat_minor": 2
}
