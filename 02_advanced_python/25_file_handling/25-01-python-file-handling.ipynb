{
 "cells": [
  {
   "cell_type": "code",
   "execution_count": 93,
   "metadata": {},
   "outputs": [],
   "source": [
    "\n",
    "# 1. Creating a file\n",
    "\n",
    "# 2. Reading file\n",
    "\n",
    "# 3. Writing to file\n",
    "# Writing to the file -- override\n",
    "# Appending to file -- existing content will remain\n",
    "# truncating file -- all existing data will be removed\n",
    "\n",
    "# 4. Deleting a file\n",
    "\n",
    "# 5. Renaming a file"
   ]
  },
  {
   "cell_type": "code",
   "execution_count": 94,
   "metadata": {},
   "outputs": [],
   "source": [
    "# file.*?\n",
    "\n",
    "# file.buffer\n",
    "# file.close\n",
    "# file.closed\n",
    "# file.detach\n",
    "# file.encoding\n",
    "# file.errors\n",
    "# file.fileno\n",
    "# file.flush\n",
    "# file.isatty\n",
    "# file.line_buffering\n",
    "# file.mode\n",
    "# file.name\n",
    "# file.newlines\n",
    "# file.read -- \n",
    "# file.readable \n",
    "# file.readline --\n",
    "# file.readlines --\n",
    "# file.reconfigure\n",
    "# file.seek -- \n",
    "# file.seekable\n",
    "# file.tell\n",
    "# file.truncate --\n",
    "# file.writable\n",
    "# file.write --\n",
    "# file.write_through\n",
    "# file.writelines"
   ]
  },
  {
   "cell_type": "markdown",
   "metadata": {},
   "source": [
    "# Read operation"
   ]
  },
  {
   "cell_type": "code",
   "execution_count": 1,
   "metadata": {},
   "outputs": [],
   "source": [
    "my_var = 10"
   ]
  },
  {
   "cell_type": "code",
   "execution_count": 10,
   "metadata": {},
   "outputs": [],
   "source": [
    "my_file = open('source/test1.txt')"
   ]
  },
  {
   "cell_type": "code",
   "execution_count": 11,
   "metadata": {},
   "outputs": [
    {
     "name": "stdout",
     "output_type": "stream",
     "text": [
      "Benefits of cloud computing\n",
      "Agility\n",
      "Elasticity\n",
      "Cost savings\n",
      "Deploy globally in minutes\n"
     ]
    }
   ],
   "source": [
    "print(my_file.read())"
   ]
  },
  {
   "cell_type": "code",
   "execution_count": 13,
   "metadata": {},
   "outputs": [
    {
     "name": "stdout",
     "output_type": "stream",
     "text": [
      "Benefits of cloud computing\n",
      "Agility\n",
      "Elasticity\n",
      "Cost savings\n",
      "Deploy globally in minutes\n"
     ]
    }
   ],
   "source": [
    "with open('source/test1.txt','r') as file:\n",
    "    print(file.read())"
   ]
  },
  {
   "cell_type": "code",
   "execution_count": 96,
   "metadata": {},
   "outputs": [
    {
     "ename": "UnicodeDecodeError",
     "evalue": "'utf-8' codec can't decode byte 0xa1 in position 11: invalid start byte",
     "output_type": "error",
     "traceback": [
      "\u001b[1;31m---------------------------------------------------------------------------\u001b[0m",
      "\u001b[1;31mUnicodeDecodeError\u001b[0m                        Traceback (most recent call last)",
      "Cell \u001b[1;32mIn[96], line 2\u001b[0m\n\u001b[0;32m      1\u001b[0m \u001b[38;5;28;01mwith\u001b[39;00m \u001b[38;5;28mopen\u001b[39m(\u001b[38;5;124m'\u001b[39m\u001b[38;5;124m../../00-practice-examples/python-practice-30-examples.pdf\u001b[39m\u001b[38;5;124m'\u001b[39m, \u001b[38;5;124m'\u001b[39m\u001b[38;5;124mr\u001b[39m\u001b[38;5;124m'\u001b[39m, encoding\u001b[38;5;241m=\u001b[39m\u001b[38;5;124m\"\u001b[39m\u001b[38;5;124mutf8\u001b[39m\u001b[38;5;124m\"\u001b[39m) \u001b[38;5;28;01mas\u001b[39;00m file:\n\u001b[1;32m----> 2\u001b[0m     \u001b[38;5;28mprint\u001b[39m(\u001b[43mfile\u001b[49m\u001b[38;5;241;43m.\u001b[39;49m\u001b[43mread\u001b[49m\u001b[43m(\u001b[49m\u001b[43m)\u001b[49m)\n\u001b[0;32m      3\u001b[0m \u001b[38;5;66;03m#\u001b[39;00m\n",
      "File \u001b[1;32m<frozen codecs>:322\u001b[0m, in \u001b[0;36mdecode\u001b[1;34m(self, input, final)\u001b[0m\n",
      "\u001b[1;31mUnicodeDecodeError\u001b[0m: 'utf-8' codec can't decode byte 0xa1 in position 11: invalid start byte"
     ]
    }
   ],
   "source": [
    "with open('../../00-practice-examples/python-practice-30-examples.pdf', 'r', encoding=\"utf8\") as file:\n",
    "    print(file.read())\n",
    "#\n"
   ]
  },
  {
   "cell_type": "code",
   "execution_count": 98,
   "metadata": {},
   "outputs": [
    {
     "name": "stdout",
     "output_type": "stream",
     "text": [
      "What is an API?\n",
      "APIs are mechanisms that enable two software components to communicate with each other using a set of definitions and protocols. For example, the weather bureau’s software system contains daily weather data. The weather app on your phone “talks” to this system via APIs and shows you daily weather updates on your phone.\n",
      "\n",
      "What does API stand for?\n",
      "API stands for Application Programming Interface. In the context of APIs, the word Application refers to any software with a distinct function. Interface can be thought of as a contract of service between two applications. This contract defines how the two communicate with each other using requests and responses. Their API documentation contains information on how developers are to structure those requests and responses.\n",
      "\n",
      "How do APIs work?\n",
      "API architecture is usually explained in terms of client and server. The application sending the request is called the client, and the application sending the response is called the server. So in the weather example, the bureau’s weather database is the server, and the mobile app is the client. \n",
      "\n",
      "There are four different ways that APIs can work depending on when and why they were created.\n",
      "\n",
      "SOAP APIs \n",
      "These APIs use Simple Object Access Protocol. Client and server exchange messages using XML. This is a less flexible API that was more popular in the past.\n",
      "\n",
      "RPC APIs\n",
      "These APIs are called Remote Procedure Calls. The client completes a function (or procedure) on the server, and the server sends the output back to the client.\n",
      "\n",
      "Websocket APIs\n",
      "Websocket API is another modern web API development that uses JSON objects to pass data. A WebSocket API supports two-way communication between client apps and the server. The server can send callback messages to connected clients, making it more efficient than REST API.\n",
      "\n",
      "REST APIs\n",
      "These are the most popular and flexible APIs found on the web today. The client sends requests to the server as data. The server uses this client input to start internal functions and returns output data back to the client. Let’s look at REST APIs in more detail below.\n"
     ]
    }
   ],
   "source": [
    "with open('source/test2.txt', 'r',encoding=\"utf8\") as file:\n",
    "    print(file.read())\n",
    "#"
   ]
  },
  {
   "cell_type": "code",
   "execution_count": 100,
   "metadata": {},
   "outputs": [
    {
     "ename": "FileNotFoundError",
     "evalue": "[Errno 2] No such file or directory: 'source/test7.txt'",
     "output_type": "error",
     "traceback": [
      "\u001b[1;31m---------------------------------------------------------------------------\u001b[0m",
      "\u001b[1;31mFileNotFoundError\u001b[0m                         Traceback (most recent call last)",
      "Cell \u001b[1;32mIn[100], line 2\u001b[0m\n\u001b[0;32m      1\u001b[0m \u001b[38;5;66;03m# source/test7.txt -- does not exist\u001b[39;00m\n\u001b[1;32m----> 2\u001b[0m \u001b[38;5;28;01mwith\u001b[39;00m \u001b[38;5;28;43mopen\u001b[39;49m\u001b[43m(\u001b[49m\u001b[38;5;124;43m'\u001b[39;49m\u001b[38;5;124;43msource/test7.txt\u001b[39;49m\u001b[38;5;124;43m'\u001b[39;49m\u001b[43m,\u001b[49m\u001b[43m \u001b[49m\u001b[38;5;124;43m'\u001b[39;49m\u001b[38;5;124;43mr\u001b[39;49m\u001b[38;5;124;43m'\u001b[39;49m\u001b[43m)\u001b[49m \u001b[38;5;28;01mas\u001b[39;00m file:   \n\u001b[0;32m      3\u001b[0m     \u001b[38;5;28mprint\u001b[39m(file\u001b[38;5;241m.\u001b[39mread())\n\u001b[0;32m      4\u001b[0m \u001b[38;5;66;03m#\u001b[39;00m\n",
      "File \u001b[1;32m~\\AppData\\Roaming\\Python\\Python311\\site-packages\\IPython\\core\\interactiveshell.py:324\u001b[0m, in \u001b[0;36m_modified_open\u001b[1;34m(file, *args, **kwargs)\u001b[0m\n\u001b[0;32m    317\u001b[0m \u001b[38;5;28;01mif\u001b[39;00m file \u001b[38;5;129;01min\u001b[39;00m {\u001b[38;5;241m0\u001b[39m, \u001b[38;5;241m1\u001b[39m, \u001b[38;5;241m2\u001b[39m}:\n\u001b[0;32m    318\u001b[0m     \u001b[38;5;28;01mraise\u001b[39;00m \u001b[38;5;167;01mValueError\u001b[39;00m(\n\u001b[0;32m    319\u001b[0m         \u001b[38;5;124mf\u001b[39m\u001b[38;5;124m\"\u001b[39m\u001b[38;5;124mIPython won\u001b[39m\u001b[38;5;124m'\u001b[39m\u001b[38;5;124mt let you open fd=\u001b[39m\u001b[38;5;132;01m{\u001b[39;00mfile\u001b[38;5;132;01m}\u001b[39;00m\u001b[38;5;124m by default \u001b[39m\u001b[38;5;124m\"\u001b[39m\n\u001b[0;32m    320\u001b[0m         \u001b[38;5;124m\"\u001b[39m\u001b[38;5;124mas it is likely to crash IPython. If you know what you are doing, \u001b[39m\u001b[38;5;124m\"\u001b[39m\n\u001b[0;32m    321\u001b[0m         \u001b[38;5;124m\"\u001b[39m\u001b[38;5;124myou can use builtins\u001b[39m\u001b[38;5;124m'\u001b[39m\u001b[38;5;124m open.\u001b[39m\u001b[38;5;124m\"\u001b[39m\n\u001b[0;32m    322\u001b[0m     )\n\u001b[1;32m--> 324\u001b[0m \u001b[38;5;28;01mreturn\u001b[39;00m \u001b[43mio_open\u001b[49m\u001b[43m(\u001b[49m\u001b[43mfile\u001b[49m\u001b[43m,\u001b[49m\u001b[43m \u001b[49m\u001b[38;5;241;43m*\u001b[39;49m\u001b[43margs\u001b[49m\u001b[43m,\u001b[49m\u001b[43m \u001b[49m\u001b[38;5;241;43m*\u001b[39;49m\u001b[38;5;241;43m*\u001b[39;49m\u001b[43mkwargs\u001b[49m\u001b[43m)\u001b[49m\n",
      "\u001b[1;31mFileNotFoundError\u001b[0m: [Errno 2] No such file or directory: 'source/test7.txt'"
     ]
    }
   ],
   "source": [
    "# source/test7.txt -- does not exist\n",
    "with open('source/test7.txt', 'r') as file:   \n",
    "    print(file.read())\n",
    "#"
   ]
  },
  {
   "cell_type": "markdown",
   "metadata": {},
   "source": [
    "## Write operation - by default it overrides the existing content"
   ]
  },
  {
   "cell_type": "code",
   "execution_count": 14,
   "metadata": {},
   "outputs": [],
   "source": [
    "with open('source/test1.txt', 'w') as file:  # w - Override\n",
    "    file.write(\"Line 1 written by python.\")\n",
    "    file.write(\"Line 2 written by python.\")\n",
    "    file.write(\"Line 3 written by python.\")"
   ]
  },
  {
   "cell_type": "code",
   "execution_count": null,
   "metadata": {},
   "outputs": [],
   "source": [
    "# In write mode\n",
    "# w - override or truncate\n",
    "# a - append"
   ]
  },
  {
   "cell_type": "code",
   "execution_count": 15,
   "metadata": {},
   "outputs": [
    {
     "name": "stdout",
     "output_type": "stream",
     "text": [
      "Line 1 written by python.Line 2 written by python.Line 3 written by python.\n"
     ]
    }
   ],
   "source": [
    "with open('source/test1.txt', 'r') as file:\n",
    "    print(file.read())"
   ]
  },
  {
   "cell_type": "code",
   "execution_count": 19,
   "metadata": {},
   "outputs": [
    {
     "name": "stdout",
     "output_type": "stream",
     "text": [
      "Benefits of cloud computing\n",
      "Agility\n",
      "Elasticity\n",
      "Cost savings\n",
      "Deploy globally in minutes\n"
     ]
    }
   ],
   "source": [
    "with open('source/test1.txt','w+') as f:\n",
    "    f.write('Benefits of cloud computing\\nAgility\\nElasticity\\nCost savings\\nDeploy globally in minutes')\n",
    "    f.seek(0)\n",
    "    print(f.read())"
   ]
  },
  {
   "cell_type": "markdown",
   "metadata": {},
   "source": [
    "# Writing multiple lines to a file"
   ]
  },
  {
   "cell_type": "code",
   "execution_count": 20,
   "metadata": {},
   "outputs": [],
   "source": [
    "with open('source/test1.txt', 'w') as file:\n",
    "    file.write(\"This is first line.\\nThis is second line.\")"
   ]
  },
  {
   "cell_type": "code",
   "execution_count": 21,
   "metadata": {},
   "outputs": [
    {
     "name": "stdout",
     "output_type": "stream",
     "text": [
      "This is first line.\n",
      "This is second line.\n"
     ]
    }
   ],
   "source": [
    "with open('source/test1.txt', 'r') as file:\n",
    "    print(file.read())"
   ]
  },
  {
   "cell_type": "markdown",
   "metadata": {},
   "source": [
    "# Illegal operation \n",
    "- file is opened in **read** mode, but we tried to perform **write** operation"
   ]
  },
  {
   "cell_type": "code",
   "execution_count": 105,
   "metadata": {},
   "outputs": [
    {
     "ename": "UnsupportedOperation",
     "evalue": "not writable",
     "output_type": "error",
     "traceback": [
      "\u001b[1;31m---------------------------------------------------------------------------\u001b[0m",
      "\u001b[1;31mUnsupportedOperation\u001b[0m                      Traceback (most recent call last)",
      "Cell \u001b[1;32mIn[105], line 2\u001b[0m\n\u001b[0;32m      1\u001b[0m \u001b[38;5;28;01mwith\u001b[39;00m \u001b[38;5;28mopen\u001b[39m(\u001b[38;5;124m'\u001b[39m\u001b[38;5;124msource/test1.txt\u001b[39m\u001b[38;5;124m'\u001b[39m, \u001b[38;5;124m'\u001b[39m\u001b[38;5;124mr\u001b[39m\u001b[38;5;124m'\u001b[39m) \u001b[38;5;28;01mas\u001b[39;00m file:\n\u001b[1;32m----> 2\u001b[0m     \u001b[43mfile\u001b[49m\u001b[38;5;241;43m.\u001b[39;49m\u001b[43mwrite\u001b[49m\u001b[43m(\u001b[49m\u001b[38;5;124;43m\"\u001b[39;49m\u001b[38;5;124;43mThis is first line.\u001b[39;49m\u001b[38;5;130;43;01m\\n\u001b[39;49;00m\u001b[38;5;124;43mThis is second line.\u001b[39;49m\u001b[38;5;124;43m\"\u001b[39;49m\u001b[43m)\u001b[49m\n",
      "\u001b[1;31mUnsupportedOperation\u001b[0m: not writable"
     ]
    }
   ],
   "source": [
    "with open('source/test1.txt', 'r') as file:\n",
    "    file.write(\"This is first line.\\nThis is second line.\")"
   ]
  },
  {
   "cell_type": "code",
   "execution_count": 22,
   "metadata": {},
   "outputs": [
    {
     "ename": "UnsupportedOperation",
     "evalue": "not readable",
     "output_type": "error",
     "traceback": [
      "\u001b[1;31m---------------------------------------------------------------------------\u001b[0m",
      "\u001b[1;31mUnsupportedOperation\u001b[0m                      Traceback (most recent call last)",
      "Cell \u001b[1;32mIn[22], line 2\u001b[0m\n\u001b[0;32m      1\u001b[0m \u001b[38;5;28;01mwith\u001b[39;00m \u001b[38;5;28mopen\u001b[39m(\u001b[38;5;124m'\u001b[39m\u001b[38;5;124msource/test1.txt\u001b[39m\u001b[38;5;124m'\u001b[39m, \u001b[38;5;124m'\u001b[39m\u001b[38;5;124mw\u001b[39m\u001b[38;5;124m'\u001b[39m) \u001b[38;5;28;01mas\u001b[39;00m file:\n\u001b[1;32m----> 2\u001b[0m     \u001b[38;5;28mprint\u001b[39m(\u001b[43mfile\u001b[49m\u001b[38;5;241;43m.\u001b[39;49m\u001b[43mread\u001b[49m\u001b[43m(\u001b[49m\u001b[43m)\u001b[49m)\n",
      "\u001b[1;31mUnsupportedOperation\u001b[0m: not readable"
     ]
    }
   ],
   "source": [
    "with open('source/test1.txt', 'w') as file:\n",
    "    print(file.read())"
   ]
  },
  {
   "cell_type": "code",
   "execution_count": 106,
   "metadata": {},
   "outputs": [
    {
     "name": "stdout",
     "output_type": "stream",
     "text": [
      "This is first line.\n",
      "This is second line.\n"
     ]
    }
   ],
   "source": [
    "with open('source/test1.txt', 'r') as file:\n",
    "    print(file.read())"
   ]
  },
  {
   "cell_type": "markdown",
   "metadata": {},
   "source": [
    "# Appending"
   ]
  },
  {
   "cell_type": "code",
   "execution_count": 24,
   "metadata": {},
   "outputs": [],
   "source": [
    "with open('source/test1.txt','w') as f:\n",
    "    f.write('Benefits of cloud computing\\nAgility\\nElasticity\\nCost savings\\nDeploy globally in minutes')"
   ]
  },
  {
   "cell_type": "code",
   "execution_count": 26,
   "metadata": {},
   "outputs": [],
   "source": [
    "with open('source/test1.txt','a') as f:\n",
    "    f.write(\"\\nThis is additional line.\")"
   ]
  },
  {
   "cell_type": "code",
   "execution_count": 27,
   "metadata": {},
   "outputs": [
    {
     "name": "stdout",
     "output_type": "stream",
     "text": [
      "Benefits of cloud computing\n",
      "Agility\n",
      "Elasticity\n",
      "Cost savings\n",
      "Deploy globally in minutesThis is additional line.\n",
      "This is additional line.\n"
     ]
    }
   ],
   "source": [
    "with open('source/test1.txt', 'r') as file:\n",
    "    print(file.read())"
   ]
  },
  {
   "cell_type": "markdown",
   "metadata": {},
   "source": [
    "# Truncate"
   ]
  },
  {
   "cell_type": "code",
   "execution_count": 28,
   "metadata": {},
   "outputs": [],
   "source": [
    "with open('source/test1.txt','w') as f:\n",
    "    f.truncate()"
   ]
  },
  {
   "cell_type": "code",
   "execution_count": 29,
   "metadata": {},
   "outputs": [
    {
     "name": "stdout",
     "output_type": "stream",
     "text": [
      "\n"
     ]
    }
   ],
   "source": [
    "with open('source/test1.txt', 'r') as file:\n",
    "    print(file.read())"
   ]
  },
  {
   "cell_type": "markdown",
   "metadata": {},
   "source": [
    "# readlines \n",
    "- output is in list"
   ]
  },
  {
   "cell_type": "code",
   "execution_count": 30,
   "metadata": {},
   "outputs": [],
   "source": [
    "with open('source/test1.txt','w') as f:\n",
    "    f.write('Benefits of cloud computing\\nAgility\\nElasticity\\nCost savings\\nDeploy globally in minutes')"
   ]
  },
  {
   "cell_type": "code",
   "execution_count": 31,
   "metadata": {},
   "outputs": [
    {
     "name": "stdout",
     "output_type": "stream",
     "text": [
      "Benefits of cloud computing\n",
      "Agility\n",
      "Elasticity\n",
      "Cost savings\n",
      "Deploy globally in minutes\n"
     ]
    }
   ],
   "source": [
    "with open('source/test1.txt', 'r') as file:\n",
    "    print(file.read())"
   ]
  },
  {
   "cell_type": "code",
   "execution_count": 32,
   "metadata": {},
   "outputs": [
    {
     "name": "stdout",
     "output_type": "stream",
     "text": [
      "['Benefits of cloud computing\\n', 'Agility\\n', 'Elasticity\\n', 'Cost savings\\n', 'Deploy globally in minutes']\n"
     ]
    }
   ],
   "source": [
    "with open('source/test1.txt', 'r') as file:\n",
    "    print(file.readlines())"
   ]
  },
  {
   "cell_type": "code",
   "execution_count": 33,
   "metadata": {},
   "outputs": [
    {
     "name": "stdout",
     "output_type": "stream",
     "text": [
      "Benefits of cloud computing\n",
      "Agility\n",
      "Elasticity\n",
      "Cost savings\n",
      "Deploy globally in minutes\n"
     ]
    }
   ],
   "source": [
    "file = open('source/test1.txt', 'r')\n",
    "print(file.read())"
   ]
  },
  {
   "cell_type": "code",
   "execution_count": 34,
   "metadata": {},
   "outputs": [
    {
     "name": "stdout",
     "output_type": "stream",
     "text": [
      "['Benefits of cloud computing\\n', 'Agility\\n', 'Elasticity\\n', 'Cost savings\\n', 'Deploy globally in minutes']\n"
     ]
    }
   ],
   "source": [
    "file = open('source/test1.txt', 'r')\n",
    "print(file.readlines())"
   ]
  },
  {
   "cell_type": "code",
   "execution_count": 35,
   "metadata": {},
   "outputs": [
    {
     "name": "stdout",
     "output_type": "stream",
     "text": [
      "['Benefits of cloud computing\\n', 'Agility\\n', 'Elasticity\\n', 'Cost savings\\n', 'Deploy globally in minutes']\n",
      "<class 'list'>\n",
      "5\n"
     ]
    }
   ],
   "source": [
    "file = open('source/test1.txt', 'r')\n",
    "input_lines = file.readlines()\n",
    "print(input_lines)\n",
    "print(type(input_lines)) \n",
    "print(len(input_lines))  # To get the number of lines in the file"
   ]
  },
  {
   "cell_type": "code",
   "execution_count": 36,
   "metadata": {},
   "outputs": [
    {
     "name": "stdout",
     "output_type": "stream",
     "text": [
      "Benefits of cloud computing\n",
      "Agility\n",
      "Elasticity\n",
      "Cost savings\n",
      "Deploy globally in minutes\n",
      "<class 'str'>\n"
     ]
    }
   ],
   "source": [
    "file = open('source/test1.txt', 'r')\n",
    "file_content = file.read()\n",
    "print(file_content)\n",
    "print(type(file_content))  "
   ]
  },
  {
   "cell_type": "code",
   "execution_count": 123,
   "metadata": {},
   "outputs": [
    {
     "name": "stdout",
     "output_type": "stream",
     "text": [
      "Benefits of cloud computing\n",
      "Agility\n",
      "Elasticity\n",
      "Cost savings\n",
      "Deploy globally in minutes\n",
      "<class 'str'>\n"
     ]
    }
   ],
   "source": [
    "my_file_content = ''\n",
    "with open('source/test1.txt', 'r') as f:\n",
    "    my_file_content = f.read()\n",
    "#\n",
    "print(my_file_content)\n",
    "print(type(my_file_content))"
   ]
  },
  {
   "cell_type": "code",
   "execution_count": 124,
   "metadata": {},
   "outputs": [
    {
     "name": "stdout",
     "output_type": "stream",
     "text": [
      "What is an API\n",
      "\n",
      "What does API stand for\n",
      "\n",
      "How do APIs work\n",
      "\n",
      "SOAP API\n",
      "\n",
      "RPC API\n",
      "\n",
      "Websocket API\n",
      "\n",
      "REST API\n"
     ]
    }
   ],
   "source": [
    "file = open('source/test3.txt', 'r',encoding=\"utf8\")\n",
    "for line in file.readlines():\n",
    "    print(line)"
   ]
  },
  {
   "cell_type": "code",
   "execution_count": 125,
   "metadata": {},
   "outputs": [
    {
     "name": "stdout",
     "output_type": "stream",
     "text": [
      "What is an API\n",
      "['What', 'is', 'an', 'API']\n"
     ]
    }
   ],
   "source": [
    "line1 = \"What is an API\"\n",
    "print(line1)\n",
    "print(line1.split())"
   ]
  },
  {
   "cell_type": "code",
   "execution_count": 126,
   "metadata": {},
   "outputs": [],
   "source": [
    "# line_words = ['What', 'is', 'an', 'API']\n",
    "line_words = line1.split()"
   ]
  },
  {
   "cell_type": "code",
   "execution_count": 127,
   "metadata": {},
   "outputs": [
    {
     "data": {
      "text/plain": [
       "True"
      ]
     },
     "execution_count": 127,
     "metadata": {},
     "output_type": "execute_result"
    }
   ],
   "source": [
    "'API' in line_words"
   ]
  },
  {
   "cell_type": "code",
   "execution_count": 128,
   "metadata": {},
   "outputs": [
    {
     "data": {
      "text/plain": [
       "True"
      ]
     },
     "execution_count": 128,
     "metadata": {},
     "output_type": "execute_result"
    }
   ],
   "source": [
    "'API' in ['What', 'is', 'an', 'API']"
   ]
  },
  {
   "cell_type": "code",
   "execution_count": 129,
   "metadata": {},
   "outputs": [
    {
     "data": {
      "text/plain": [
       "False"
      ]
     },
     "execution_count": 129,
     "metadata": {},
     "output_type": "execute_result"
    }
   ],
   "source": [
    "'API' in ['What', 'is', 'an', 'APIs']"
   ]
  },
  {
   "cell_type": "code",
   "execution_count": 40,
   "metadata": {},
   "outputs": [
    {
     "name": "stdout",
     "output_type": "stream",
     "text": [
      "Word 'API' is identified in 6 lines.\n"
     ]
    }
   ],
   "source": [
    "# Count the number of lines word API is present in test3.txt\n",
    "file = open('source/test3.txt','r')\n",
    "count = 0\n",
    "for line in file.readlines():\n",
    "    # print(line.split(), 'API' in line.split())\n",
    "    if 'API' in line.split():\n",
    "        count = count + 1\n",
    "#\n",
    "print(f\"Word 'API' is identified in {count} lines.\")"
   ]
  },
  {
   "cell_type": "code",
   "execution_count": 50,
   "metadata": {},
   "outputs": [
    {
     "name": "stdout",
     "output_type": "stream",
     "text": [
      "['What', 'is', 'an', 'API'] 1 0 1\n",
      "['What', 'does', 'API', 'stand', 'for', 'APi', 'API', 'api'] 2 1 4\n",
      "['How', 'do', 'APIs', 'work'] 0 0 4\n",
      "['SOAP', 'API'] 1 0 5\n",
      "['RPC', 'API'] 1 0 6\n",
      "['Websocket', 'API'] 1 0 7\n",
      "['REST', 'API'] 1 0 8\n",
      "Word 'API' is found 8 times.\n"
     ]
    }
   ],
   "source": [
    "# Count the number of times word API is present in test3.txt\n",
    "file = open('source/test3.txt','r')\n",
    "match_word = 'Api'\n",
    "count = 0\n",
    "for line in file.readlines():\n",
    "    line_words = line.split()\n",
    "    count = count + line_words.count(match_word.upper()) + line_words.count(match_word.lower())  # Will count only these two words: API and api \n",
    "    print(line_words, line_words.count('API'), line_words.count('api'), count)\n",
    "#\n",
    "print(f\"Word 'API' is found {count} times.\")"
   ]
  },
  {
   "cell_type": "code",
   "execution_count": 55,
   "metadata": {},
   "outputs": [
    {
     "name": "stdout",
     "output_type": "stream",
     "text": [
      "Word 'API' is found 9 times.\n"
     ]
    }
   ],
   "source": [
    "# Count the number of times words (API api Api APi aPi aPI apI) are present in test3.txt\n",
    "file = open('source/test3.txt','r')  \n",
    "# match_word = 'API'\n",
    "count = 0\n",
    "for line in file.readlines():\n",
    "    line_words_lwr = [word.lower() for word in line.split()]\n",
    "    count = count + line_words_lwr.count('API'.lower())\n",
    "    # print(line_words_lwr, line_words_lwr.count('API'.lower()), count)\n",
    "#\n",
    "print(f\"Word 'API' is found {count} times.\")"
   ]
  },
  {
   "cell_type": "code",
   "execution_count": 58,
   "metadata": {},
   "outputs": [
    {
     "data": {
      "text/plain": [
       "['what', 'is', 'an', 'api']"
      ]
     },
     "execution_count": 58,
     "metadata": {},
     "output_type": "execute_result"
    }
   ],
   "source": [
    "line = 'What is an API'\n",
    "[word.lower() for word in line.split()]"
   ]
  },
  {
   "cell_type": "code",
   "execution_count": 59,
   "metadata": {},
   "outputs": [
    {
     "data": {
      "text/plain": [
       "0"
      ]
     },
     "execution_count": 59,
     "metadata": {},
     "output_type": "execute_result"
    }
   ],
   "source": [
    "['What', 'is', 'an', 'APIs','APIs'].count('API')\n",
    "# TO_BE_VERIFIED\n",
    "# FIX_ME_LATER"
   ]
  },
  {
   "cell_type": "code",
   "execution_count": 61,
   "metadata": {},
   "outputs": [
    {
     "name": "stdout",
     "output_type": "stream",
     "text": [
      "0 What is an API\n",
      "\n",
      "1 What does API stand for APi API api\n",
      "\n",
      "2 How do APIs work\n",
      "\n",
      "3 SOAP API\n",
      "\n",
      "4 RPC API\n",
      "\n",
      "5 Websocket API\n",
      "\n",
      "6 REST API\n"
     ]
    }
   ],
   "source": [
    "file = open('source/test3.txt', 'r',encoding=\"utf8\")\n",
    "for i,line in enumerate(file.readlines()):\n",
    "    # print(i, line, isinstance(line,str))\n",
    "    print(i,line)"
   ]
  },
  {
   "cell_type": "code",
   "execution_count": 79,
   "metadata": {},
   "outputs": [],
   "source": [
    "file = open('source/test1.txt', 'r')"
   ]
  },
  {
   "cell_type": "code",
   "execution_count": 77,
   "metadata": {},
   "outputs": [
    {
     "data": {
      "text/plain": [
       "''"
      ]
     },
     "execution_count": 77,
     "metadata": {},
     "output_type": "execute_result"
    }
   ],
   "source": [
    "file.readline()"
   ]
  },
  {
   "cell_type": "code",
   "execution_count": 81,
   "metadata": {},
   "outputs": [
    {
     "data": {
      "text/plain": [
       "7"
      ]
     },
     "execution_count": 81,
     "metadata": {},
     "output_type": "execute_result"
    }
   ],
   "source": [
    "file = open('source/test1.txt', 'r')\n",
    "len(file.readlines())"
   ]
  },
  {
   "cell_type": "code",
   "execution_count": 85,
   "metadata": {},
   "outputs": [
    {
     "name": "stdout",
     "output_type": "stream",
     "text": [
      "0 Benefits of cloud computing\n",
      " 28\n",
      "1 Agility\n",
      " 8\n",
      "2 Elasticity\n",
      " 11\n",
      "3 Cost savings\n",
      " 13\n",
      "4 Deploy globally in minutes\n",
      " 27\n",
      "5 \n",
      " 1\n",
      "6 This is test line. 18\n",
      "7  0\n",
      "Reached the end of the file.\n"
     ]
    }
   ],
   "source": [
    "file = open('source/test1.txt', 'r')\n",
    "for i in range(100):\n",
    "    line = file.readline()\n",
    "    print(i,line, len(line))\n",
    "    if len(line) == 0:\n",
    "        print(\"Reached the end of the file.\")\n",
    "        break\n",
    "    #\n",
    "##"
   ]
  },
  {
   "cell_type": "code",
   "execution_count": 74,
   "metadata": {},
   "outputs": [
    {
     "data": {
      "text/plain": [
       "1"
      ]
     },
     "execution_count": 74,
     "metadata": {},
     "output_type": "execute_result"
    }
   ],
   "source": [
    "len('\\n')"
   ]
  },
  {
   "cell_type": "code",
   "execution_count": 86,
   "metadata": {},
   "outputs": [],
   "source": [
    "file = open('source/test1.txt', 'r')"
   ]
  },
  {
   "cell_type": "code",
   "execution_count": 87,
   "metadata": {},
   "outputs": [
    {
     "data": {
      "text/plain": [
       "'Benefits of cloud computing\\n'"
      ]
     },
     "execution_count": 87,
     "metadata": {},
     "output_type": "execute_result"
    }
   ],
   "source": [
    "file.readline()"
   ]
  },
  {
   "cell_type": "code",
   "execution_count": 88,
   "metadata": {},
   "outputs": [
    {
     "data": {
      "text/plain": [
       "'Agility\\n'"
      ]
     },
     "execution_count": 88,
     "metadata": {},
     "output_type": "execute_result"
    }
   ],
   "source": [
    "file.readline()"
   ]
  },
  {
   "cell_type": "code",
   "execution_count": 89,
   "metadata": {},
   "outputs": [
    {
     "data": {
      "text/plain": [
       "0"
      ]
     },
     "execution_count": 89,
     "metadata": {},
     "output_type": "execute_result"
    }
   ],
   "source": [
    "file.seek(0)"
   ]
  },
  {
   "cell_type": "code",
   "execution_count": 90,
   "metadata": {},
   "outputs": [
    {
     "data": {
      "text/plain": [
       "'Benefits of cloud computing\\n'"
      ]
     },
     "execution_count": 90,
     "metadata": {},
     "output_type": "execute_result"
    }
   ],
   "source": [
    "file.readline()"
   ]
  },
  {
   "cell_type": "code",
   "execution_count": 91,
   "metadata": {},
   "outputs": [
    {
     "data": {
      "text/plain": [
       "10"
      ]
     },
     "execution_count": 91,
     "metadata": {},
     "output_type": "execute_result"
    }
   ],
   "source": [
    "file.seek(10)"
   ]
  },
  {
   "cell_type": "code",
   "execution_count": 92,
   "metadata": {},
   "outputs": [
    {
     "data": {
      "text/plain": [
       "'f cloud computing\\n'"
      ]
     },
     "execution_count": 92,
     "metadata": {},
     "output_type": "execute_result"
    }
   ],
   "source": [
    "file.readline()"
   ]
  },
  {
   "cell_type": "code",
   "execution_count": 93,
   "metadata": {},
   "outputs": [
    {
     "data": {
      "text/plain": [
       "75"
      ]
     },
     "execution_count": 93,
     "metadata": {},
     "output_type": "execute_result"
    }
   ],
   "source": [
    "file.seek(75)"
   ]
  },
  {
   "cell_type": "code",
   "execution_count": 94,
   "metadata": {},
   "outputs": [
    {
     "data": {
      "text/plain": [
       "'ally in minutes\\n\\nThis is test line.'"
      ]
     },
     "execution_count": 94,
     "metadata": {},
     "output_type": "execute_result"
    }
   ],
   "source": [
    "file.read()"
   ]
  },
  {
   "cell_type": "code",
   "execution_count": 95,
   "metadata": {},
   "outputs": [
    {
     "data": {
      "text/plain": [
       "''"
      ]
     },
     "execution_count": 95,
     "metadata": {},
     "output_type": "execute_result"
    }
   ],
   "source": [
    "file.read()"
   ]
  },
  {
   "cell_type": "code",
   "execution_count": 96,
   "metadata": {},
   "outputs": [
    {
     "data": {
      "text/plain": [
       "[]"
      ]
     },
     "execution_count": 96,
     "metadata": {},
     "output_type": "execute_result"
    }
   ],
   "source": [
    "file.readlines()"
   ]
  },
  {
   "cell_type": "markdown",
   "metadata": {},
   "source": [
    "### Read test1.txt and by using that content create a new file test2.txt"
   ]
  },
  {
   "cell_type": "code",
   "execution_count": 98,
   "metadata": {},
   "outputs": [],
   "source": [
    "source_file = open('source/test1.txt', 'r')"
   ]
  },
  {
   "cell_type": "code",
   "execution_count": 99,
   "metadata": {},
   "outputs": [],
   "source": [
    "content = source_file.read()"
   ]
  },
  {
   "cell_type": "code",
   "execution_count": 100,
   "metadata": {},
   "outputs": [
    {
     "name": "stdout",
     "output_type": "stream",
     "text": [
      "Benefits of cloud computing\n",
      "Agility\n",
      "Elasticity\n",
      "Cost savings\n",
      "Deploy globally in minutes\n",
      "\n",
      "This is test line.\n"
     ]
    }
   ],
   "source": [
    "print(content)"
   ]
  },
  {
   "cell_type": "code",
   "execution_count": 101,
   "metadata": {},
   "outputs": [],
   "source": [
    "# destination_file = open('source/test2.txt', 'w')\n",
    "# destination_file.write(content)\n",
    "\n",
    "with open('source/test2.txt','w') as destination_file:\n",
    "    destination_file.write(content)"
   ]
  },
  {
   "cell_type": "code",
   "execution_count": 102,
   "metadata": {},
   "outputs": [
    {
     "name": "stdout",
     "output_type": "stream",
     "text": [
      "Benefits of cloud computing\n",
      "Agility\n",
      "Elasticity\n",
      "Cost savings\n",
      "Deploy globally in minutes\n",
      "\n",
      "This is test line.\n"
     ]
    }
   ],
   "source": [
    "with open('source/test2.txt','r') as destination_file:\n",
    "    print(destination_file.read())"
   ]
  },
  {
   "cell_type": "code",
   "execution_count": 103,
   "metadata": {},
   "outputs": [],
   "source": [
    "# content = ''\n",
    "with open('source/test1.txt', 'r') as source_file:\n",
    "    file_content = source_file.read()\n",
    "\n",
    "with open('source/test4.txt','w') as destination_file:\n",
    "    destination_file.write(file_content)"
   ]
  },
  {
   "cell_type": "code",
   "execution_count": 105,
   "metadata": {},
   "outputs": [],
   "source": [
    "with open('source/test3.txt', 'r') as source_file:\n",
    "    file_content = source_file.read()\n",
    "\n",
    "with open('source/test5.txt','a') as destination_file:\n",
    "    destination_file.write(file_content)"
   ]
  },
  {
   "cell_type": "code",
   "execution_count": 107,
   "metadata": {},
   "outputs": [
    {
     "name": "stdout",
     "output_type": "stream",
     "text": [
      "Benefits of cloud computing\n",
      "Agility\n",
      "Elasticity\n",
      "Cost savings\n",
      "Deploy globally in minutes\n",
      "\n",
      "This is test line.\n"
     ]
    },
    {
     "data": {
      "text/plain": [
       "106"
      ]
     },
     "execution_count": 107,
     "metadata": {},
     "output_type": "execute_result"
    }
   ],
   "source": [
    "source_file = open('source/test1.txt', 'r')\n",
    "content = source_file.read()\n",
    "print(content)\n",
    "\n",
    "destination_file = open('source/test4.txt','w')\n",
    "destination_file.write(content)"
   ]
  },
  {
   "cell_type": "markdown",
   "metadata": {},
   "source": [
    "# Further reference\n",
    "https://codedamn.com/news/python/file-handling-in-python-complete-guide#introduction"
   ]
  }
 ],
 "metadata": {
  "kernelspec": {
   "display_name": "Python 3",
   "language": "python",
   "name": "python3"
  },
  "language_info": {
   "codemirror_mode": {
    "name": "ipython",
    "version": 3
   },
   "file_extension": ".py",
   "mimetype": "text/x-python",
   "name": "python",
   "nbconvert_exporter": "python",
   "pygments_lexer": "ipython3",
   "version": "3.11.9"
  }
 },
 "nbformat": 4,
 "nbformat_minor": 2
}
