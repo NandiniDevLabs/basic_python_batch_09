{
 "cells": [
  {
   "cell_type": "markdown",
   "metadata": {},
   "source": [
    "- Copy data from multiple source files and \n",
    "- create single destination file"
   ]
  },
  {
   "cell_type": "code",
   "execution_count": null,
   "metadata": {},
   "outputs": [],
   "source": [
    "with open('source/source1.txt','r') as s1:\n",
    "    print(s1.read())"
   ]
  },
  {
   "cell_type": "code",
   "execution_count": 2,
   "metadata": {},
   "outputs": [],
   "source": [
    "source_files = ['source/source1.txt','source/source2.txt','source/source3.txt','source/source4.txt']"
   ]
  },
  {
   "cell_type": "code",
   "execution_count": null,
   "metadata": {},
   "outputs": [],
   "source": [
    "for source_file in source_files:\n",
    "    print(source_file)\n",
    "    with open(source_file,'r') as file:\n",
    "        content = file.read()\n",
    "    # print(content)\n",
    "    with open('destination.txt','a') as dest_file:\n",
    "        dest_file.write(content)\n",
    "        dest_file.write('\\n-----------------\\n')\n",
    "#"
   ]
  },
  {
   "cell_type": "code",
   "execution_count": 10,
   "metadata": {},
   "outputs": [],
   "source": [
    "def combine_multiple_files(source_files, destination_file):\n",
    "    for source_file in source_files:\n",
    "        print(source_file)\n",
    "        with open(source_file,'r') as file:\n",
    "            content = file.read()\n",
    "        # print(content)\n",
    "        with open(destination_file,'a') as dest_file:\n",
    "            dest_file.write(content)\n",
    "            dest_file.write('\\n-----------------\\n')\n",
    "    # End of for loop\n",
    "#####"
   ]
  },
  {
   "cell_type": "code",
   "execution_count": null,
   "metadata": {},
   "outputs": [],
   "source": [
    "source_files"
   ]
  },
  {
   "cell_type": "code",
   "execution_count": null,
   "metadata": {},
   "outputs": [],
   "source": [
    "combine_multiple_files(source_files,'destination2.txt')"
   ]
  },
  {
   "cell_type": "code",
   "execution_count": null,
   "metadata": {},
   "outputs": [],
   "source": []
  }
 ],
 "metadata": {
  "kernelspec": {
   "display_name": "Python 3",
   "language": "python",
   "name": "python3"
  },
  "language_info": {
   "codemirror_mode": {
    "name": "ipython",
    "version": 3
   },
   "file_extension": ".py",
   "mimetype": "text/x-python",
   "name": "python",
   "nbconvert_exporter": "python",
   "pygments_lexer": "ipython3",
   "version": "3.11.9"
  }
 },
 "nbformat": 4,
 "nbformat_minor": 2
}
