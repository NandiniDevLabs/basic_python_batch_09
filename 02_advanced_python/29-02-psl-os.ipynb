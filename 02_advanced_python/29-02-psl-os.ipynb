{
 "cells": [
  {
   "cell_type": "markdown",
   "metadata": {},
   "source": [
    "# Package `os`"
   ]
  },
  {
   "cell_type": "markdown",
   "metadata": {},
   "source": [
    "The Python `os` package provides a way to interact with the operating system and file system."
   ]
  },
  {
   "cell_type": "code",
   "execution_count": 1,
   "metadata": {},
   "outputs": [],
   "source": [
    "import os"
   ]
  },
  {
   "cell_type": "code",
   "execution_count": 2,
   "metadata": {},
   "outputs": [
    {
     "data": {
      "text/plain": [
       "'c:\\\\Users\\\\Vijaya Nandini\\\\Documents\\\\2024_12_B9_Datavalley\\\\basic_python_batch_09\\\\02_advanced_python'"
      ]
     },
     "execution_count": 2,
     "metadata": {},
     "output_type": "execute_result"
    }
   ],
   "source": [
    "os.getcwd()"
   ]
  },
  {
   "cell_type": "code",
   "execution_count": 3,
   "metadata": {},
   "outputs": [
    {
     "name": "stdout",
     "output_type": "stream",
     "text": [
      "c:\\Users\\Vijaya Nandini\\Documents\\2024_12_B9_Datavalley\\basic_python_batch_09\\02_advanced_python\n"
     ]
    }
   ],
   "source": [
    "print(os.getcwd())\n",
    "# C:\\Users\\Vijaya Nandini\\Documents\\2024_08_Datavalley\\24_09_ds\\file_handling"
   ]
  },
  {
   "cell_type": "code",
   "execution_count": 4,
   "metadata": {},
   "outputs": [
    {
     "ename": "SyntaxError",
     "evalue": "(unicode error) 'unicodeescape' codec can't decode bytes in position 2-3: truncated \\UXXXXXXXX escape (2171552875.py, line 1)",
     "output_type": "error",
     "traceback": [
      "\u001b[1;36m  Cell \u001b[1;32mIn[4], line 1\u001b[1;36m\u001b[0m\n\u001b[1;33m    'c:\\Users\\Vijaya Nandini\\Documents\\2024_08_Datavalley\\24_09_ds\\file_handling'\u001b[0m\n\u001b[1;37m                                                                                 ^\u001b[0m\n\u001b[1;31mSyntaxError\u001b[0m\u001b[1;31m:\u001b[0m (unicode error) 'unicodeescape' codec can't decode bytes in position 2-3: truncated \\UXXXXXXXX escape\n"
     ]
    }
   ],
   "source": [
    "'c:\\Users\\Vijaya Nandini\\Documents\\2024_08_Datavalley\\24_09_ds\\file_handling'"
   ]
  },
  {
   "cell_type": "code",
   "execution_count": 5,
   "metadata": {},
   "outputs": [
    {
     "data": {
      "text/plain": [
       "'c:\\\\Users\\\\Vijaya Nandini\\\\Documents\\\\2024_08_Datavalley\\\\24_09_ds\\\\file_handling'"
      ]
     },
     "execution_count": 5,
     "metadata": {},
     "output_type": "execute_result"
    }
   ],
   "source": [
    "\"c:\\\\Users\\\\Vijaya Nandini\\\\Documents\\\\2024_08_Datavalley\\\\24_09_ds\\\\file_handling\""
   ]
  },
  {
   "cell_type": "code",
   "execution_count": 6,
   "metadata": {},
   "outputs": [
    {
     "name": "stdout",
     "output_type": "stream",
     "text": [
      "c:\\Users\\Vijaya Nandini\\Documents\\2024_08_Datavalley\\24_09_ds\\file_handling\n"
     ]
    }
   ],
   "source": [
    "print(\"c:\\\\Users\\\\Vijaya Nandini\\\\Documents\\\\2024_08_Datavalley\\\\24_09_ds\\\\file_handling\")"
   ]
  },
  {
   "cell_type": "code",
   "execution_count": 7,
   "metadata": {},
   "outputs": [
    {
     "data": {
      "text/plain": [
       "['25-03-file-handling.ipynb',\n",
       " '25_file_handling',\n",
       " '26-01-python-exceptions.ipynb',\n",
       " '26-02-python-exceptions.ipynb',\n",
       " '26-03-python-exceptions.ipynb',\n",
       " '27-python-copy.ipynb',\n",
       " '28-02-python_modules.ipynb',\n",
       " '28-04-python_modules.ipynb',\n",
       " '28_test_module',\n",
       " '29-01-psl-os.ipynb',\n",
       " '29-02-psl-os.ipynb',\n",
       " '29-03-psl-os.ipynb',\n",
       " '29-04-psl-datetime.ipynb',\n",
       " '29-05-psl-datetime.ipynb',\n",
       " '29-06-psl-time.ipynb',\n",
       " '29-07-psl-math.ipynb',\n",
       " '29_python_created',\n",
       " 'modules_intro']"
      ]
     },
     "execution_count": 7,
     "metadata": {},
     "output_type": "execute_result"
    }
   ],
   "source": [
    "os.listdir()"
   ]
  },
  {
   "cell_type": "code",
   "execution_count": 8,
   "metadata": {},
   "outputs": [],
   "source": [
    "os.mkdir('29_python_created/01_child_folder')"
   ]
  },
  {
   "cell_type": "code",
   "execution_count": 9,
   "metadata": {},
   "outputs": [],
   "source": [
    "os.mkdir('29_python_created\\\\02_child_folder')"
   ]
  },
  {
   "cell_type": "code",
   "execution_count": 11,
   "metadata": {},
   "outputs": [
    {
     "ename": "OSError",
     "evalue": "[WinError 123] The filename, directory name, or volume label syntax is incorrect: '29_python_created\\x02_child_folder'",
     "output_type": "error",
     "traceback": [
      "\u001b[1;31m---------------------------------------------------------------------------\u001b[0m",
      "\u001b[1;31mOSError\u001b[0m                                   Traceback (most recent call last)",
      "Cell \u001b[1;32mIn[11], line 1\u001b[0m\n\u001b[1;32m----> 1\u001b[0m \u001b[43mos\u001b[49m\u001b[38;5;241;43m.\u001b[39;49m\u001b[43mmkdir\u001b[49m\u001b[43m(\u001b[49m\u001b[38;5;124;43m'\u001b[39;49m\u001b[38;5;124;43m29_python_created\u001b[39;49m\u001b[38;5;130;43;01m\\02\u001b[39;49;00m\u001b[38;5;124;43m_child_folder\u001b[39;49m\u001b[38;5;124;43m'\u001b[39;49m\u001b[43m)\u001b[49m\n",
      "\u001b[1;31mOSError\u001b[0m: [WinError 123] The filename, directory name, or volume label syntax is incorrect: '29_python_created\\x02_child_folder'"
     ]
    }
   ],
   "source": [
    "os.mkdir('29_python_created\\02_child_folder')"
   ]
  },
  {
   "cell_type": "markdown",
   "metadata": {},
   "source": [
    "## Note:\n",
    "- Sigle slash(`\\`) will give errors \n",
    "- Hence we use double slash (`\\\\`) while pass file path as string"
   ]
  },
  {
   "cell_type": "markdown",
   "metadata": {},
   "source": [
    "# Current working directory"
   ]
  },
  {
   "cell_type": "code",
   "execution_count": 12,
   "metadata": {},
   "outputs": [
    {
     "name": "stdout",
     "output_type": "stream",
     "text": [
      "c:\\Users\\Vijaya Nandini\\Documents\\2024_12_B9_Datavalley\\basic_python_batch_09\\02_advanced_python\n"
     ]
    }
   ],
   "source": [
    "print(os.getcwd())"
   ]
  },
  {
   "cell_type": "code",
   "execution_count": 13,
   "metadata": {},
   "outputs": [],
   "source": [
    "os.chdir(path='..')  # Change working directory"
   ]
  },
  {
   "cell_type": "code",
   "execution_count": 14,
   "metadata": {},
   "outputs": [
    {
     "name": "stdout",
     "output_type": "stream",
     "text": [
      "c:\\Users\\Vijaya Nandini\\Documents\\2024_12_B9_Datavalley\\basic_python_batch_09\n"
     ]
    }
   ],
   "source": [
    "print(os.getcwd())"
   ]
  },
  {
   "cell_type": "code",
   "execution_count": 15,
   "metadata": {},
   "outputs": [
    {
     "data": {
      "text/plain": [
       "['.git',\n",
       " '.gitignore',\n",
       " '.ipynb_checkpoints',\n",
       " '00-practice-examples',\n",
       " '00-source',\n",
       " '01_basic_python',\n",
       " '02_advanced_python',\n",
       " 'home.py',\n",
       " 'my_commands.txt',\n",
       " 'README.md',\n",
       " 'test_folder',\n",
       " 'tmp',\n",
       " 'understanding_functions.py',\n",
       " 'vscode_test']"
      ]
     },
     "execution_count": 15,
     "metadata": {},
     "output_type": "execute_result"
    }
   ],
   "source": [
    "os.listdir()"
   ]
  },
  {
   "cell_type": "code",
   "execution_count": 17,
   "metadata": {},
   "outputs": [
    {
     "name": "stdout",
     "output_type": "stream",
     "text": [
      "c:\\Users\\Vijaya Nandini\\Documents\\2024_12_B9_Datavalley\\basic_python_batch_09\n"
     ]
    }
   ],
   "source": [
    "print(os.getcwd())"
   ]
  },
  {
   "cell_type": "code",
   "execution_count": 18,
   "metadata": {},
   "outputs": [
    {
     "data": {
      "text/plain": [
       "['25-01-python-file-handling.ipynb',\n",
       " '25-02-python-file-handling.ipynb',\n",
       " 'destination',\n",
       " 'source']"
      ]
     },
     "execution_count": 18,
     "metadata": {},
     "output_type": "execute_result"
    }
   ],
   "source": [
    "os.listdir(path='02_advanced_python/25_file_handling')"
   ]
  },
  {
   "cell_type": "code",
   "execution_count": 19,
   "metadata": {},
   "outputs": [
    {
     "data": {
      "text/plain": [
       "4"
      ]
     },
     "execution_count": 19,
     "metadata": {},
     "output_type": "execute_result"
    }
   ],
   "source": [
    "len(os.listdir(path='02_advanced_python/25_file_handling'))"
   ]
  }
 ],
 "metadata": {
  "kernelspec": {
   "display_name": "Python 3",
   "language": "python",
   "name": "python3"
  },
  "language_info": {
   "codemirror_mode": {
    "name": "ipython",
    "version": 3
   },
   "file_extension": ".py",
   "mimetype": "text/x-python",
   "name": "python",
   "nbconvert_exporter": "python",
   "pygments_lexer": "ipython3",
   "version": "3.11.9"
  }
 },
 "nbformat": 4,
 "nbformat_minor": 2
}
