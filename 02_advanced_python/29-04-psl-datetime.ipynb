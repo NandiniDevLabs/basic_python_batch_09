{
 "cells": [
  {
   "cell_type": "code",
   "execution_count": 1,
   "metadata": {},
   "outputs": [],
   "source": [
    "# emp_name - String\n",
    "# id - Integer or String\n",
    "# Date of Joining - '24/09/2024' or Date | DateTime"
   ]
  },
  {
   "cell_type": "code",
   "execution_count": 1,
   "metadata": {},
   "outputs": [],
   "source": [
    "# 23/01/2025 \n",
    "\n",
    "# 23/01/2025 7:00PM\n",
    "# 23/01/2025 19:10:32"
   ]
  },
  {
   "cell_type": "code",
   "execution_count": 2,
   "metadata": {},
   "outputs": [],
   "source": [
    "import datetime"
   ]
  },
  {
   "cell_type": "code",
   "execution_count": 4,
   "metadata": {},
   "outputs": [],
   "source": [
    "# datetime.*?\n",
    "# datetime.date\n",
    "# datetime.datetime\n",
    "# datetime.datetime_CAPI\n",
    "# datetime.sys\n",
    "# datetime.time\n",
    "# datetime.timedelta\n",
    "# datetime.timezone\n",
    "# datetime.tzinfo"
   ]
  },
  {
   "cell_type": "code",
   "execution_count": 7,
   "metadata": {},
   "outputs": [],
   "source": [
    "# datetime.datetime.*?\n",
    "\n",
    "# datetime.datetime.astimezone\n",
    "# datetime.datetime.combine\n",
    "# datetime.datetime.ctime\n",
    "# ...\n",
    "# datetime.datetime.utcoffset\n",
    "# datetime.datetime.utctimetuple\n",
    "# datetime.datetime.weekday\n",
    "# datetime.datetime.year"
   ]
  },
  {
   "cell_type": "code",
   "execution_count": 9,
   "metadata": {},
   "outputs": [
    {
     "name": "stdout",
     "output_type": "stream",
     "text": [
      "2025-01-23 19:05:28.710193\n"
     ]
    }
   ],
   "source": [
    "import datetime\n",
    "\n",
    "print(datetime.datetime.now())"
   ]
  },
  {
   "cell_type": "code",
   "execution_count": 13,
   "metadata": {},
   "outputs": [
    {
     "name": "stdout",
     "output_type": "stream",
     "text": [
      "2025-01-23 19:15:14.424111\n"
     ]
    }
   ],
   "source": [
    "from datetime import datetime\n",
    "print(datetime.now())"
   ]
  },
  {
   "cell_type": "code",
   "execution_count": 14,
   "metadata": {},
   "outputs": [
    {
     "name": "stdout",
     "output_type": "stream",
     "text": [
      "datetime.__add__\n",
      "datetime.__base__\n",
      "datetime.__bases__\n",
      "datetime.__basicsize__\n",
      "datetime.__call__\n",
      "datetime.__class__\n",
      "datetime.__delattr__\n",
      "datetime.__dict__\n",
      "datetime.__dictoffset__\n",
      "datetime.__dir__\n",
      "datetime.__doc__\n",
      "datetime.__eq__\n",
      "datetime.__flags__\n",
      "datetime.__format__\n",
      "datetime.__ge__\n",
      "datetime.__getattribute__\n",
      "datetime.__getstate__\n",
      "datetime.__gt__\n",
      "datetime.__hash__\n",
      "datetime.__init__\n",
      "datetime.__init_subclass__\n",
      "datetime.__instancecheck__\n",
      "datetime.__itemsize__\n",
      "datetime.__le__\n",
      "datetime.__lt__\n",
      "datetime.__module__\n",
      "datetime.__mro__\n",
      "datetime.__name__\n",
      "datetime.__ne__\n",
      "datetime.__new__\n",
      "datetime.__or__\n",
      "datetime.__prepare__\n",
      "datetime.__qualname__\n",
      "datetime.__radd__\n",
      "datetime.__reduce__\n",
      "datetime.__reduce_ex__\n",
      "datetime.__repr__\n",
      "datetime.__ror__\n",
      "datetime.__rsub__\n",
      "datetime.__setattr__\n",
      "datetime.__sizeof__\n",
      "datetime.__str__\n",
      "datetime.__sub__\n",
      "datetime.__subclasscheck__\n",
      "datetime.__subclasses__\n",
      "datetime.__subclasshook__\n",
      "datetime.__text_signature__\n",
      "datetime.__weakrefoffset__\n",
      "datetime.astimezone\n",
      "datetime.combine\n",
      "datetime.ctime\n",
      "datetime.date\n",
      "datetime.day\n",
      "datetime.dst\n",
      "datetime.fold\n",
      "datetime.fromisocalendar\n",
      "datetime.fromisoformat\n",
      "datetime.fromordinal\n",
      "datetime.fromtimestamp\n",
      "datetime.hour\n",
      "datetime.isocalendar\n",
      "datetime.isoformat\n",
      "datetime.isoweekday\n",
      "datetime.max\n",
      "datetime.microsecond\n",
      "datetime.min\n",
      "datetime.minute\n",
      "datetime.month\n",
      "datetime.mro\n",
      "datetime.now\n",
      "datetime.replace\n",
      "datetime.resolution\n",
      "datetime.second\n",
      "datetime.strftime\n",
      "datetime.strptime\n",
      "datetime.time\n",
      "datetime.timestamp\n",
      "datetime.timetuple\n",
      "datetime.timetz\n",
      "datetime.today\n",
      "datetime.toordinal\n",
      "datetime.tzinfo\n",
      "datetime.tzname\n",
      "datetime.utcfromtimestamp\n",
      "datetime.utcnow\n",
      "datetime.utcoffset\n",
      "datetime.utctimetuple\n",
      "datetime.weekday\n",
      "datetime.year"
     ]
    }
   ],
   "source": [
    "datetime.*?"
   ]
  },
  {
   "cell_type": "code",
   "execution_count": null,
   "metadata": {},
   "outputs": [],
   "source": []
  }
 ],
 "metadata": {
  "kernelspec": {
   "display_name": "Python 3",
   "language": "python",
   "name": "python3"
  },
  "language_info": {
   "codemirror_mode": {
    "name": "ipython",
    "version": 3
   },
   "file_extension": ".py",
   "mimetype": "text/x-python",
   "name": "python",
   "nbconvert_exporter": "python",
   "pygments_lexer": "ipython3",
   "version": "3.11.9"
  }
 },
 "nbformat": 4,
 "nbformat_minor": 2
}
