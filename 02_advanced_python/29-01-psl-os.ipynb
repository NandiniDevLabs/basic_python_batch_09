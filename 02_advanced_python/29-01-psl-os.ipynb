{
 "cells": [
  {
   "cell_type": "markdown",
   "metadata": {},
   "source": [
    "# Python Standard Library"
   ]
  },
  {
   "cell_type": "code",
   "execution_count": 1,
   "metadata": {},
   "outputs": [],
   "source": [
    "import os\n",
    "# import shutil"
   ]
  },
  {
   "cell_type": "code",
   "execution_count": 2,
   "metadata": {},
   "outputs": [
    {
     "name": "stdout",
     "output_type": "stream",
     "text": [
      "c:\\Users\\Vijaya Nandini\\Documents\\2024_12_B9_Datavalley\\basic_python_batch_09\\02_advanced_python\n"
     ]
    }
   ],
   "source": [
    "print(os.getcwd())"
   ]
  },
  {
   "cell_type": "code",
   "execution_count": 3,
   "metadata": {},
   "outputs": [
    {
     "data": {
      "text/plain": [
       "['25-03-file-handling.ipynb',\n",
       " '25_file_handling',\n",
       " '26-01-python-exceptions.ipynb',\n",
       " '26-02-python-exceptions.ipynb',\n",
       " '26-03-python-exceptions.ipynb',\n",
       " '27-python-copy.ipynb',\n",
       " '28-02-python_modules.ipynb',\n",
       " '28-04-python_modules.ipynb',\n",
       " '28_test_module',\n",
       " '29-01-psl-os.ipynb',\n",
       " '29-02-psl-os.ipynb',\n",
       " '29-03-psl-os.ipynb',\n",
       " '29-04-psl-datetime.ipynb',\n",
       " '29-05-psl-datetime.ipynb',\n",
       " '29-06-psl-time.ipynb',\n",
       " '29-07-psl-math.ipynb',\n",
       " 'modules_intro']"
      ]
     },
     "execution_count": 3,
     "metadata": {},
     "output_type": "execute_result"
    }
   ],
   "source": [
    "os.listdir()"
   ]
  },
  {
   "cell_type": "code",
   "execution_count": 4,
   "metadata": {},
   "outputs": [],
   "source": [
    "os.mkdir('29_python_created')"
   ]
  },
  {
   "cell_type": "code",
   "execution_count": 5,
   "metadata": {},
   "outputs": [
    {
     "ename": "FileExistsError",
     "evalue": "[WinError 183] Cannot create a file when that file already exists: '29_python_created'",
     "output_type": "error",
     "traceback": [
      "\u001b[1;31m---------------------------------------------------------------------------\u001b[0m",
      "\u001b[1;31mFileExistsError\u001b[0m                           Traceback (most recent call last)",
      "Cell \u001b[1;32mIn[5], line 1\u001b[0m\n\u001b[1;32m----> 1\u001b[0m \u001b[43mos\u001b[49m\u001b[38;5;241;43m.\u001b[39;49m\u001b[43mmkdir\u001b[49m\u001b[43m(\u001b[49m\u001b[38;5;124;43m'\u001b[39;49m\u001b[38;5;124;43m29_python_created\u001b[39;49m\u001b[38;5;124;43m'\u001b[39;49m\u001b[43m)\u001b[49m\n",
      "\u001b[1;31mFileExistsError\u001b[0m: [WinError 183] Cannot create a file when that file already exists: '29_python_created'"
     ]
    }
   ],
   "source": [
    "os.mkdir('29_python_created')"
   ]
  },
  {
   "cell_type": "code",
   "execution_count": 7,
   "metadata": {},
   "outputs": [
    {
     "data": {
      "text/plain": [
       "['25-03-file-handling.ipynb',\n",
       " '25_file_handling',\n",
       " '26-01-python-exceptions.ipynb',\n",
       " '26-02-python-exceptions.ipynb',\n",
       " '26-03-python-exceptions.ipynb',\n",
       " '27-python-copy.ipynb',\n",
       " '28-02-python_modules.ipynb',\n",
       " '28-04-python_modules.ipynb',\n",
       " '28_test_module',\n",
       " '29-01-psl-os.ipynb',\n",
       " '29-02-psl-os.ipynb',\n",
       " '29-03-psl-os.ipynb',\n",
       " '29-04-psl-datetime.ipynb',\n",
       " '29-05-psl-datetime.ipynb',\n",
       " '29-06-psl-time.ipynb',\n",
       " '29-07-psl-math.ipynb',\n",
       " '29_python_created',\n",
       " 'modules_intro']"
      ]
     },
     "execution_count": 7,
     "metadata": {},
     "output_type": "execute_result"
    }
   ],
   "source": [
    "os.listdir()"
   ]
  },
  {
   "cell_type": "code",
   "execution_count": 9,
   "metadata": {},
   "outputs": [
    {
     "data": {
      "text/plain": [
       "True"
      ]
     },
     "execution_count": 9,
     "metadata": {},
     "output_type": "execute_result"
    }
   ],
   "source": [
    "'29_12345' not in os.listdir()"
   ]
  },
  {
   "cell_type": "code",
   "execution_count": 10,
   "metadata": {},
   "outputs": [
    {
     "name": "stdout",
     "output_type": "stream",
     "text": [
      "Folder: 29_12345 created.\n"
     ]
    }
   ],
   "source": [
    "new_folder = '29_12345'\n",
    "if new_folder not in os.listdir():\n",
    "    os.mkdir(new_folder)\n",
    "    print(f\"Folder: {new_folder} created.\")\n",
    "else:\n",
    "    print(\"Folder already exists.\")"
   ]
  },
  {
   "cell_type": "code",
   "execution_count": 11,
   "metadata": {},
   "outputs": [
    {
     "name": "stdout",
     "output_type": "stream",
     "text": [
      "Folder already exists.\n"
     ]
    }
   ],
   "source": [
    "new_folder = '29_12345'\n",
    "if new_folder not in os.listdir():\n",
    "    os.mkdir(new_folder)\n",
    "    print(f\"Folder: {new_folder} created.\")\n",
    "else:\n",
    "    print(\"Folder already exists.\")"
   ]
  },
  {
   "cell_type": "code",
   "execution_count": 12,
   "metadata": {},
   "outputs": [],
   "source": [
    "os.rename(src='29_12345',dst='29_xyz')"
   ]
  },
  {
   "cell_type": "code",
   "execution_count": 13,
   "metadata": {},
   "outputs": [
    {
     "data": {
      "text/plain": [
       "['25-03-file-handling.ipynb',\n",
       " '25_file_handling',\n",
       " '26-01-python-exceptions.ipynb',\n",
       " '26-02-python-exceptions.ipynb',\n",
       " '26-03-python-exceptions.ipynb',\n",
       " '27-python-copy.ipynb',\n",
       " '28-02-python_modules.ipynb',\n",
       " '28-04-python_modules.ipynb',\n",
       " '28_test_module',\n",
       " '29-01-psl-os.ipynb',\n",
       " '29-02-psl-os.ipynb',\n",
       " '29-03-psl-os.ipynb',\n",
       " '29-04-psl-datetime.ipynb',\n",
       " '29-05-psl-datetime.ipynb',\n",
       " '29-06-psl-time.ipynb',\n",
       " '29-07-psl-math.ipynb',\n",
       " '29_python_created',\n",
       " '29_xyz',\n",
       " 'modules_intro']"
      ]
     },
     "execution_count": 13,
     "metadata": {},
     "output_type": "execute_result"
    }
   ],
   "source": [
    "os.listdir()"
   ]
  },
  {
   "cell_type": "code",
   "execution_count": 14,
   "metadata": {},
   "outputs": [],
   "source": [
    "os.rmdir('29_xyz')"
   ]
  },
  {
   "cell_type": "code",
   "execution_count": 15,
   "metadata": {},
   "outputs": [
    {
     "data": {
      "text/plain": [
       "['25-03-file-handling.ipynb',\n",
       " '25_file_handling',\n",
       " '26-01-python-exceptions.ipynb',\n",
       " '26-02-python-exceptions.ipynb',\n",
       " '26-03-python-exceptions.ipynb',\n",
       " '27-python-copy.ipynb',\n",
       " '28-02-python_modules.ipynb',\n",
       " '28-04-python_modules.ipynb',\n",
       " '28_test_module',\n",
       " '29-01-psl-os.ipynb',\n",
       " '29-02-psl-os.ipynb',\n",
       " '29-03-psl-os.ipynb',\n",
       " '29-04-psl-datetime.ipynb',\n",
       " '29-05-psl-datetime.ipynb',\n",
       " '29-06-psl-time.ipynb',\n",
       " '29-07-psl-math.ipynb',\n",
       " '29_created_manually',\n",
       " '29_python_created',\n",
       " 'modules_intro']"
      ]
     },
     "execution_count": 15,
     "metadata": {},
     "output_type": "execute_result"
    }
   ],
   "source": [
    "os.listdir()"
   ]
  },
  {
   "cell_type": "code",
   "execution_count": 17,
   "metadata": {},
   "outputs": [],
   "source": [
    "os.rmdir('29_created_manually')"
   ]
  },
  {
   "cell_type": "code",
   "execution_count": 18,
   "metadata": {},
   "outputs": [
    {
     "data": {
      "text/plain": [
       "['25-03-file-handling.ipynb',\n",
       " '25_file_handling',\n",
       " '26-01-python-exceptions.ipynb',\n",
       " '26-02-python-exceptions.ipynb',\n",
       " '26-03-python-exceptions.ipynb',\n",
       " '27-python-copy.ipynb',\n",
       " '28-02-python_modules.ipynb',\n",
       " '28-04-python_modules.ipynb',\n",
       " '28_test_module',\n",
       " '29-01-psl-os.ipynb',\n",
       " '29-02-psl-os.ipynb',\n",
       " '29-03-psl-os.ipynb',\n",
       " '29-04-psl-datetime.ipynb',\n",
       " '29-05-psl-datetime.ipynb',\n",
       " '29-06-psl-time.ipynb',\n",
       " '29-07-psl-math.ipynb',\n",
       " '29_python_created',\n",
       " 'modules_intro']"
      ]
     },
     "execution_count": 18,
     "metadata": {},
     "output_type": "execute_result"
    }
   ],
   "source": [
    "os.listdir()"
   ]
  },
  {
   "cell_type": "code",
   "execution_count": 20,
   "metadata": {},
   "outputs": [],
   "source": [
    "# os.*?"
   ]
  },
  {
   "cell_type": "code",
   "execution_count": 21,
   "metadata": {},
   "outputs": [
    {
     "name": "stdout",
     "output_type": "stream",
     "text": [
      "\u001b[1;31mSignature:\u001b[0m \u001b[0mos\u001b[0m\u001b[1;33m.\u001b[0m\u001b[0mlistdir\u001b[0m\u001b[1;33m(\u001b[0m\u001b[0mpath\u001b[0m\u001b[1;33m=\u001b[0m\u001b[1;32mNone\u001b[0m\u001b[1;33m)\u001b[0m\u001b[1;33m\u001b[0m\u001b[1;33m\u001b[0m\u001b[0m\n",
      "\u001b[1;31mDocstring:\u001b[0m\n",
      "Return a list containing the names of the files in the directory.\n",
      "\n",
      "path can be specified as either str, bytes, or a path-like object.  If path is bytes,\n",
      "  the filenames returned will also be bytes; in all other circumstances\n",
      "  the filenames returned will be str.\n",
      "If path is None, uses the path='.'.\n",
      "On some platforms, path may also be specified as an open file descriptor;\\\n",
      "  the file descriptor must refer to a directory.\n",
      "  If this functionality is unavailable, using it raises NotImplementedError.\n",
      "\n",
      "The list is in arbitrary order.  It does not include the special\n",
      "entries '.' and '..' even if they are present in the directory.\n",
      "\u001b[1;31mType:\u001b[0m      builtin_function_or_method"
     ]
    }
   ],
   "source": [
    "os.listdir??"
   ]
  },
  {
   "cell_type": "code",
   "execution_count": 22,
   "metadata": {},
   "outputs": [
    {
     "name": "stdout",
     "output_type": "stream",
     "text": [
      "os.DirEntry\n",
      "os.EX_OK\n",
      "os.F_OK\n",
      "os.GenericAlias\n",
      "os.Mapping\n",
      "os.MutableMapping\n",
      "os.O_APPEND\n",
      "os.O_BINARY\n",
      "os.O_CREAT\n",
      "os.O_EXCL\n",
      "os.O_NOINHERIT\n",
      "os.O_RANDOM\n",
      "os.O_RDONLY\n",
      "os.O_RDWR\n",
      "os.O_SEQUENTIAL\n",
      "os.O_SHORT_LIVED\n",
      "os.O_TEMPORARY\n",
      "os.O_TEXT\n",
      "os.O_TRUNC\n",
      "os.O_WRONLY\n",
      "os.P_DETACH\n",
      "os.P_NOWAIT\n",
      "os.P_NOWAITO\n",
      "os.P_OVERLAY\n",
      "os.P_WAIT\n",
      "os.PathLike\n",
      "os.R_OK\n",
      "os.SEEK_CUR\n",
      "os.SEEK_END\n",
      "os.SEEK_SET\n",
      "os.TMP_MAX\n",
      "os.W_OK\n",
      "os.X_OK\n",
      "os.__all__\n",
      "os.__annotations__\n",
      "os.__builtins__\n",
      "os.__class__\n",
      "os.__delattr__\n",
      "os.__dict__\n",
      "os.__dir__\n",
      "os.__doc__\n",
      "os.__eq__\n",
      "os.__file__\n",
      "os.__format__\n",
      "os.__ge__\n",
      "os.__getattribute__\n",
      "os.__getstate__\n",
      "os.__gt__\n",
      "os.__hash__\n",
      "os.__init__\n",
      "os.__init_subclass__\n",
      "os.__le__\n",
      "os.__loader__\n",
      "os.__lt__\n",
      "os.__name__\n",
      "os.__ne__\n",
      "os.__new__\n",
      "os.__package__\n",
      "os.__reduce__\n",
      "os.__reduce_ex__\n",
      "os.__repr__\n",
      "os.__setattr__\n",
      "os.__sizeof__\n",
      "os.__spec__\n",
      "os.__str__\n",
      "os.__subclasshook__\n",
      "os.abc\n",
      "os.abort\n",
      "os.access\n",
      "os.add_dll_directory\n",
      "os.altsep\n",
      "os.chdir\n",
      "os.chmod\n",
      "os.close\n",
      "os.closerange\n",
      "os.cpu_count\n",
      "os.curdir\n",
      "os.defpath\n",
      "os.device_encoding\n",
      "os.devnull\n",
      "os.dup\n",
      "os.dup2\n",
      "os.environ\n",
      "os.error\n",
      "os.execl\n",
      "os.execle\n",
      "os.execlp\n",
      "os.execlpe\n",
      "os.execv\n",
      "os.execve\n",
      "os.execvp\n",
      "os.execvpe\n",
      "os.extsep\n",
      "os.fdopen\n",
      "os.fsdecode\n",
      "os.fsencode\n",
      "os.fspath\n",
      "os.fstat\n",
      "os.fsync\n",
      "os.ftruncate\n",
      "os.get_exec_path\n",
      "os.get_handle_inheritable\n",
      "os.get_inheritable\n",
      "os.get_terminal_size\n",
      "os.getcwd\n",
      "os.getcwdb\n",
      "os.getenv\n",
      "os.getlogin\n",
      "os.getpid\n",
      "os.getppid\n",
      "os.isatty\n",
      "os.kill\n",
      "os.linesep\n",
      "os.link\n",
      "os.listdir\n",
      "os.lseek\n",
      "os.lstat\n",
      "os.makedirs\n",
      "os.mkdir\n",
      "os.name\n",
      "os.open\n",
      "os.pardir\n",
      "os.path\n",
      "os.pathsep\n",
      "os.pipe\n",
      "os.popen\n",
      "os.putenv\n",
      "os.read\n",
      "os.readlink\n",
      "os.remove\n",
      "os.removedirs\n",
      "os.rename\n",
      "os.renames\n",
      "os.replace\n",
      "os.rmdir\n",
      "os.scandir\n",
      "os.sep\n",
      "os.set_handle_inheritable\n",
      "os.set_inheritable\n",
      "os.spawnl\n",
      "os.spawnle\n",
      "os.spawnv\n",
      "os.spawnve\n",
      "os.st\n",
      "os.startfile\n",
      "os.stat\n",
      "os.stat_result\n",
      "os.statvfs_result\n",
      "os.strerror\n",
      "os.supports_bytes_environ\n",
      "os.supports_dir_fd\n",
      "os.supports_effective_ids\n",
      "os.supports_fd\n",
      "os.supports_follow_symlinks\n",
      "os.symlink\n",
      "os.sys\n",
      "os.system\n",
      "os.terminal_size\n",
      "os.times\n",
      "os.times_result\n",
      "os.truncate\n",
      "os.umask\n",
      "os.uname_result\n",
      "os.unlink\n",
      "os.unsetenv\n",
      "os.urandom\n",
      "os.utime\n",
      "os.waitpid\n",
      "os.waitstatus_to_exitcode\n",
      "os.walk\n",
      "os.write"
     ]
    }
   ],
   "source": [
    "os.*?"
   ]
  },
  {
   "cell_type": "code",
   "execution_count": null,
   "metadata": {},
   "outputs": [],
   "source": []
  }
 ],
 "metadata": {
  "kernelspec": {
   "display_name": "Python 3",
   "language": "python",
   "name": "python3"
  },
  "language_info": {
   "codemirror_mode": {
    "name": "ipython",
    "version": 3
   },
   "file_extension": ".py",
   "mimetype": "text/x-python",
   "name": "python",
   "nbconvert_exporter": "python",
   "pygments_lexer": "ipython3",
   "version": "3.11.9"
  }
 },
 "nbformat": 4,
 "nbformat_minor": 2
}
