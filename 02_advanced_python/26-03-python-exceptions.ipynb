{
 "cells": [
  {
   "cell_type": "code",
   "execution_count": 2,
   "metadata": {},
   "outputs": [
    {
     "name": "stdout",
     "output_type": "stream",
     "text": [
      "a: 56, b: 0\n",
      "Division is selected\n"
     ]
    },
    {
     "ename": "ZeroDivisionError",
     "evalue": "division by zero",
     "output_type": "error",
     "traceback": [
      "\u001b[1;31m---------------------------------------------------------------------------\u001b[0m",
      "\u001b[1;31mZeroDivisionError\u001b[0m                         Traceback (most recent call last)",
      "Cell \u001b[1;32mIn[2], line 18\u001b[0m\n\u001b[0;32m     16\u001b[0m \u001b[38;5;28;01melif\u001b[39;00m operation \u001b[38;5;241m==\u001b[39m \u001b[38;5;124m'\u001b[39m\u001b[38;5;124m/\u001b[39m\u001b[38;5;124m'\u001b[39m:\n\u001b[0;32m     17\u001b[0m     \u001b[38;5;28mprint\u001b[39m(\u001b[38;5;124m'\u001b[39m\u001b[38;5;124mDivision is selected\u001b[39m\u001b[38;5;124m'\u001b[39m)\n\u001b[1;32m---> 18\u001b[0m     result \u001b[38;5;241m=\u001b[39m \u001b[38;5;28;43mint\u001b[39;49m\u001b[43m(\u001b[49m\u001b[43ma\u001b[49m\u001b[43m)\u001b[49m\u001b[43m \u001b[49m\u001b[38;5;241;43m/\u001b[39;49m\u001b[43m \u001b[49m\u001b[38;5;28;43mint\u001b[39;49m\u001b[43m(\u001b[49m\u001b[43mb\u001b[49m\u001b[43m)\u001b[49m\n\u001b[0;32m     19\u001b[0m \u001b[38;5;28;01melse\u001b[39;00m:\n\u001b[0;32m     20\u001b[0m     \u001b[38;5;28mprint\u001b[39m(\u001b[38;5;124m'\u001b[39m\u001b[38;5;124mInvalid operation is selected\u001b[39m\u001b[38;5;124m'\u001b[39m)\n",
      "\u001b[1;31mZeroDivisionError\u001b[0m: division by zero"
     ]
    }
   ],
   "source": [
    "# Simple Calculator\n",
    "operation = input('Enter the operation you want to perform (+, -, * , /): ')\n",
    "a = input('Enter first input: ')\n",
    "b = input('Enter second input: ')\n",
    "print(f'a: {a}, b: {b}')\n",
    "\n",
    "if operation == '+':\n",
    "    print('Addition is selected')\n",
    "    result = int(a) + int(b)\n",
    "elif operation == '-':\n",
    "    print('Subtraction is selected')\n",
    "    result = int(a) - int(b)\n",
    "elif operation == '*':\n",
    "    print('Multiplication is selected')\n",
    "    result = int(a) * int(b)\n",
    "elif operation == '/':\n",
    "    print('Division is selected')\n",
    "    result = int(a) / int(b)\n",
    "else:\n",
    "    print('Invalid operation is selected')\n",
    "    result = None\n",
    "\n",
    "print( result )"
   ]
  },
  {
   "cell_type": "code",
   "execution_count": 4,
   "metadata": {},
   "outputs": [
    {
     "name": "stdout",
     "output_type": "stream",
     "text": [
      "a: 56, b: 0\n",
      "Division is selected\n",
      "Exception occurred: division by zero\n",
      "Infinity\n"
     ]
    }
   ],
   "source": [
    "operation = input('Enter the operation you want to perform (+, -, * , /): ')\n",
    "a = input('Enter first input: ')\n",
    "b = input('Enter second input: ')\n",
    "print(f'a: {a}, b: {b}')\n",
    "\n",
    "if operation == '+':\n",
    "    print('Addition is selected')\n",
    "    result = int(a) + int(b)\n",
    "elif operation == '-':\n",
    "    print('Subtraction is selected')\n",
    "    result = int(a) - int(b)\n",
    "elif operation == '*':\n",
    "    print('Multiplication is selected')\n",
    "    result = int(a) * int(b)\n",
    "elif operation == '/':\n",
    "    print('Division is selected')\n",
    "    try:\n",
    "        result = int(a) / int(b)\n",
    "    except ZeroDivisionError as e:\n",
    "        print(f\"Exception occurred: {e}\")\n",
    "        result = \"Infinity\"\n",
    "else:\n",
    "    print('Invalid operation is selected')\n",
    "    result = None\n",
    "\n",
    "print( result )\n"
   ]
  },
  {
   "cell_type": "code",
   "execution_count": 5,
   "metadata": {},
   "outputs": [],
   "source": [
    "a = '34'"
   ]
  },
  {
   "cell_type": "code",
   "execution_count": 6,
   "metadata": {},
   "outputs": [
    {
     "data": {
      "text/plain": [
       "True"
      ]
     },
     "execution_count": 6,
     "metadata": {},
     "output_type": "execute_result"
    }
   ],
   "source": [
    "a.isnumeric()"
   ]
  },
  {
   "cell_type": "code",
   "execution_count": 7,
   "metadata": {},
   "outputs": [
    {
     "data": {
      "text/plain": [
       "False"
      ]
     },
     "execution_count": 7,
     "metadata": {},
     "output_type": "execute_result"
    }
   ],
   "source": [
    "'dt'.isnumeric()"
   ]
  },
  {
   "cell_type": "code",
   "execution_count": 15,
   "metadata": {},
   "outputs": [
    {
     "data": {
      "text/plain": [
       "False"
      ]
     },
     "execution_count": 15,
     "metadata": {},
     "output_type": "execute_result"
    }
   ],
   "source": [
    "'89.9'.isnumeric()"
   ]
  },
  {
   "cell_type": "code",
   "execution_count": 14,
   "metadata": {},
   "outputs": [
    {
     "data": {
      "text/plain": [
       "False"
      ]
     },
     "execution_count": 14,
     "metadata": {},
     "output_type": "execute_result"
    }
   ],
   "source": [
    "'89.9'.isdigit()"
   ]
  },
  {
   "cell_type": "code",
   "execution_count": 16,
   "metadata": {},
   "outputs": [
    {
     "data": {
      "text/plain": [
       "False"
      ]
     },
     "execution_count": 16,
     "metadata": {},
     "output_type": "execute_result"
    }
   ],
   "source": [
    "'89.9'.isdecimal()"
   ]
  },
  {
   "cell_type": "code",
   "execution_count": 19,
   "metadata": {},
   "outputs": [
    {
     "data": {
      "text/plain": [
       "89.9"
      ]
     },
     "execution_count": 19,
     "metadata": {},
     "output_type": "execute_result"
    }
   ],
   "source": [
    "float('89.9')"
   ]
  },
  {
   "cell_type": "code",
   "execution_count": 21,
   "metadata": {},
   "outputs": [
    {
     "ename": "ValueError",
     "evalue": "invalid literal for int() with base 10: '89.'",
     "output_type": "error",
     "traceback": [
      "\u001b[1;31m---------------------------------------------------------------------------\u001b[0m",
      "\u001b[1;31mValueError\u001b[0m                                Traceback (most recent call last)",
      "Cell \u001b[1;32mIn[21], line 1\u001b[0m\n\u001b[1;32m----> 1\u001b[0m \u001b[38;5;28;43mint\u001b[39;49m\u001b[43m(\u001b[49m\u001b[38;5;124;43m'\u001b[39;49m\u001b[38;5;124;43m89.\u001b[39;49m\u001b[38;5;124;43m'\u001b[39;49m\u001b[43m)\u001b[49m\n",
      "\u001b[1;31mValueError\u001b[0m: invalid literal for int() with base 10: '89.'"
     ]
    }
   ],
   "source": [
    "int('89.')"
   ]
  },
  {
   "cell_type": "code",
   "execution_count": 22,
   "metadata": {},
   "outputs": [
    {
     "data": {
      "text/plain": [
       "False"
      ]
     },
     "execution_count": 22,
     "metadata": {},
     "output_type": "execute_result"
    }
   ],
   "source": [
    "'89.9'.isnumeric()"
   ]
  },
  {
   "cell_type": "code",
   "execution_count": 25,
   "metadata": {},
   "outputs": [
    {
     "name": "stdout",
     "output_type": "stream",
     "text": [
      "Input received is : asdf\n",
      "Input received is : 4.5\n",
      "Input received is : 45\n"
     ]
    }
   ],
   "source": [
    "a = ''\n",
    "while not a.isnumeric():\n",
    "    a = input(\"Enter input a:\")  # I, $ , ..., '89'\n",
    "    print(f\"Input received is : {a}\")\n",
    "##"
   ]
  },
  {
   "cell_type": "code",
   "execution_count": 24,
   "metadata": {},
   "outputs": [
    {
     "data": {
      "text/plain": [
       "'3'"
      ]
     },
     "execution_count": 24,
     "metadata": {},
     "output_type": "execute_result"
    }
   ],
   "source": [
    "a"
   ]
  },
  {
   "cell_type": "code",
   "execution_count": 26,
   "metadata": {},
   "outputs": [
    {
     "name": "stdout",
     "output_type": "stream",
     "text": [
      "Input1 received is : gh\n",
      "Input1 received is : h\n",
      "Input1 received is : 67.99\n",
      "Input1 received is : 56\n",
      "Input2 received is : 567.89\n",
      "Input2 received is : 78.9\n",
      "Input2 received is : hji\n",
      "Input2 received is : u\n",
      "Input2 received is : 7\n",
      "a: 56, b: 7\n",
      "Multiplication is selected\n",
      "392\n"
     ]
    }
   ],
   "source": [
    "operation = input('Enter the operation you want to perform (+, -, * , /): ')\n",
    "a = ''\n",
    "while not a.isnumeric():\n",
    "    a = input(\"Enter first input:\")  # To exit from while loop numbers like '89', '5' must be provided\n",
    "    print(f\"Input1 received is : {a}\")\n",
    "##\n",
    "b = ''\n",
    "while not b.isnumeric():\n",
    "    b = input(\"Enter second input:\")  # To exit from while loop numbers like '89', '5' must be provided\n",
    "    print(f\"Input2 received is : {b}\")\n",
    "##\n",
    "print(f'a: {a}, b: {b}')\n",
    "\n",
    "if operation == '+':\n",
    "    print('Addition is selected')\n",
    "    result = int(a) + int(b)\n",
    "elif operation == '-':\n",
    "    print('Subtraction is selected')\n",
    "    result = int(a) - int(b)\n",
    "elif operation == '*':\n",
    "    print('Multiplication is selected')\n",
    "    result = int(a) * int(b)\n",
    "elif operation == '/':\n",
    "    print('Division is selected')\n",
    "    try:\n",
    "        result = int(a) / int(b)\n",
    "    except ZeroDivisionError as e:\n",
    "        print(f\"Exception occurred: {e}\")\n",
    "        result = \"Infinity\"\n",
    "else:\n",
    "    print('Invalid operation is selected')\n",
    "    result = None\n",
    "\n",
    "print( result )\n"
   ]
  },
  {
   "cell_type": "code",
   "execution_count": null,
   "metadata": {},
   "outputs": [],
   "source": []
  }
 ],
 "metadata": {
  "kernelspec": {
   "display_name": "Python 3",
   "language": "python",
   "name": "python3"
  },
  "language_info": {
   "codemirror_mode": {
    "name": "ipython",
    "version": 3
   },
   "file_extension": ".py",
   "mimetype": "text/x-python",
   "name": "python",
   "nbconvert_exporter": "python",
   "pygments_lexer": "ipython3",
   "version": "3.11.9"
  }
 },
 "nbformat": 4,
 "nbformat_minor": 2
}
