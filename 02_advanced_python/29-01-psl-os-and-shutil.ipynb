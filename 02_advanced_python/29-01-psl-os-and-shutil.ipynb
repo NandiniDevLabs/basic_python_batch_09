{
 "cells": [
  {
   "cell_type": "markdown",
   "metadata": {},
   "source": [
    "# Python Standard Library"
   ]
  },
  {
   "cell_type": "code",
   "execution_count": 1,
   "metadata": {},
   "outputs": [],
   "source": [
    "import os\n",
    "# import shutil"
   ]
  },
  {
   "cell_type": "code",
   "execution_count": 2,
   "metadata": {},
   "outputs": [
    {
     "name": "stdout",
     "output_type": "stream",
     "text": [
      "c:\\Users\\Vijaya Nandini\\Documents\\2024_12_B9_Datavalley\\basic_python_batch_09\\02_advanced_python\n"
     ]
    }
   ],
   "source": [
    "print(os.getcwd())"
   ]
  },
  {
   "cell_type": "code",
   "execution_count": 3,
   "metadata": {},
   "outputs": [
    {
     "data": {
      "text/plain": [
       "['25-03-file-handling.ipynb',\n",
       " '25_file_handling',\n",
       " '26-01-python-exceptions.ipynb',\n",
       " '26-02-python-exceptions.ipynb',\n",
       " '26-03-python-exceptions.ipynb',\n",
       " '27-python-copy.ipynb',\n",
       " '28-02-python_modules.ipynb',\n",
       " '28-04-python_modules.ipynb',\n",
       " '28_test_module',\n",
       " '29-01-psl-os.ipynb',\n",
       " '29-02-psl-os.ipynb',\n",
       " '29-03-psl-os.ipynb',\n",
       " '29-04-psl-datetime.ipynb',\n",
       " '29-05-psl-datetime.ipynb',\n",
       " '29-06-psl-time.ipynb',\n",
       " '29-07-psl-math.ipynb',\n",
       " 'modules_intro']"
      ]
     },
     "execution_count": 3,
     "metadata": {},
     "output_type": "execute_result"
    }
   ],
   "source": [
    "os.listdir()"
   ]
  },
  {
   "cell_type": "code",
   "execution_count": 4,
   "metadata": {},
   "outputs": [],
   "source": [
    "os.mkdir('29_python_created')  # Make directory --- to create a folder"
   ]
  },
  {
   "cell_type": "code",
   "execution_count": 5,
   "metadata": {},
   "outputs": [
    {
     "ename": "FileExistsError",
     "evalue": "[WinError 183] Cannot create a file when that file already exists: '29_python_created'",
     "output_type": "error",
     "traceback": [
      "\u001b[1;31m---------------------------------------------------------------------------\u001b[0m",
      "\u001b[1;31mFileExistsError\u001b[0m                           Traceback (most recent call last)",
      "Cell \u001b[1;32mIn[5], line 1\u001b[0m\n\u001b[1;32m----> 1\u001b[0m \u001b[43mos\u001b[49m\u001b[38;5;241;43m.\u001b[39;49m\u001b[43mmkdir\u001b[49m\u001b[43m(\u001b[49m\u001b[38;5;124;43m'\u001b[39;49m\u001b[38;5;124;43m29_python_created\u001b[39;49m\u001b[38;5;124;43m'\u001b[39;49m\u001b[43m)\u001b[49m\n",
      "\u001b[1;31mFileExistsError\u001b[0m: [WinError 183] Cannot create a file when that file already exists: '29_python_created'"
     ]
    }
   ],
   "source": [
    "os.mkdir('29_python_created')"
   ]
  },
  {
   "cell_type": "code",
   "execution_count": 7,
   "metadata": {},
   "outputs": [
    {
     "data": {
      "text/plain": [
       "['25-03-file-handling.ipynb',\n",
       " '25_file_handling',\n",
       " '26-01-python-exceptions.ipynb',\n",
       " '26-02-python-exceptions.ipynb',\n",
       " '26-03-python-exceptions.ipynb',\n",
       " '27-python-copy.ipynb',\n",
       " '28-02-python_modules.ipynb',\n",
       " '28-04-python_modules.ipynb',\n",
       " '28_test_module',\n",
       " '29-01-psl-os.ipynb',\n",
       " '29-02-psl-os.ipynb',\n",
       " '29-03-psl-os.ipynb',\n",
       " '29-04-psl-datetime.ipynb',\n",
       " '29-05-psl-datetime.ipynb',\n",
       " '29-06-psl-time.ipynb',\n",
       " '29-07-psl-math.ipynb',\n",
       " '29_python_created',\n",
       " 'modules_intro']"
      ]
     },
     "execution_count": 7,
     "metadata": {},
     "output_type": "execute_result"
    }
   ],
   "source": [
    "os.listdir()"
   ]
  },
  {
   "cell_type": "code",
   "execution_count": 9,
   "metadata": {},
   "outputs": [
    {
     "data": {
      "text/plain": [
       "True"
      ]
     },
     "execution_count": 9,
     "metadata": {},
     "output_type": "execute_result"
    }
   ],
   "source": [
    "'29_12345' not in os.listdir()"
   ]
  },
  {
   "cell_type": "code",
   "execution_count": 10,
   "metadata": {},
   "outputs": [
    {
     "name": "stdout",
     "output_type": "stream",
     "text": [
      "Folder: 29_12345 created.\n"
     ]
    }
   ],
   "source": [
    "new_folder = '29_12345'\n",
    "if new_folder not in os.listdir():\n",
    "    os.mkdir(new_folder)\n",
    "    print(f\"Folder: {new_folder} created.\")\n",
    "else:\n",
    "    print(\"Folder already exists.\")"
   ]
  },
  {
   "cell_type": "code",
   "execution_count": 11,
   "metadata": {},
   "outputs": [
    {
     "name": "stdout",
     "output_type": "stream",
     "text": [
      "Folder already exists.\n"
     ]
    }
   ],
   "source": [
    "new_folder = '29_12345'\n",
    "if new_folder not in os.listdir():\n",
    "    os.mkdir(new_folder)\n",
    "    print(f\"Folder: {new_folder} created.\")\n",
    "else:\n",
    "    print(\"Folder already exists.\")"
   ]
  },
  {
   "cell_type": "code",
   "execution_count": 12,
   "metadata": {},
   "outputs": [],
   "source": [
    "os.rename(src='29_12345',dst='29_xyz')"
   ]
  },
  {
   "cell_type": "code",
   "execution_count": 7,
   "metadata": {},
   "outputs": [],
   "source": [
    "import os\n",
    "os.rename(src='25_file_handling/destination/test1.txt',dst='25_file_handling/destination/test_Jan22.txt')\n"
   ]
  },
  {
   "cell_type": "code",
   "execution_count": 13,
   "metadata": {},
   "outputs": [
    {
     "data": {
      "text/plain": [
       "['25-03-file-handling.ipynb',\n",
       " '25_file_handling',\n",
       " '26-01-python-exceptions.ipynb',\n",
       " '26-02-python-exceptions.ipynb',\n",
       " '26-03-python-exceptions.ipynb',\n",
       " '27-python-copy.ipynb',\n",
       " '28-02-python_modules.ipynb',\n",
       " '28-04-python_modules.ipynb',\n",
       " '28_test_module',\n",
       " '29-01-psl-os.ipynb',\n",
       " '29-02-psl-os.ipynb',\n",
       " '29-03-psl-os.ipynb',\n",
       " '29-04-psl-datetime.ipynb',\n",
       " '29-05-psl-datetime.ipynb',\n",
       " '29-06-psl-time.ipynb',\n",
       " '29-07-psl-math.ipynb',\n",
       " '29_python_created',\n",
       " '29_xyz',\n",
       " 'modules_intro']"
      ]
     },
     "execution_count": 13,
     "metadata": {},
     "output_type": "execute_result"
    }
   ],
   "source": [
    "os.listdir()"
   ]
  },
  {
   "cell_type": "code",
   "execution_count": 8,
   "metadata": {},
   "outputs": [],
   "source": [
    "os.mkdir(\"python_created_jan22\")"
   ]
  },
  {
   "cell_type": "code",
   "execution_count": 9,
   "metadata": {},
   "outputs": [],
   "source": [
    "with open(\"python_created_jan22/test_jan22.txt\",'w') as f:\n",
    "    f.write(\"This is sample content.\")"
   ]
  },
  {
   "cell_type": "code",
   "execution_count": 10,
   "metadata": {},
   "outputs": [
    {
     "ename": "OSError",
     "evalue": "[WinError 145] The directory is not empty: 'python_created_jan22'",
     "output_type": "error",
     "traceback": [
      "\u001b[1;31m---------------------------------------------------------------------------\u001b[0m",
      "\u001b[1;31mOSError\u001b[0m                                   Traceback (most recent call last)",
      "Cell \u001b[1;32mIn[10], line 1\u001b[0m\n\u001b[1;32m----> 1\u001b[0m \u001b[43mos\u001b[49m\u001b[38;5;241;43m.\u001b[39;49m\u001b[43mrmdir\u001b[49m\u001b[43m(\u001b[49m\u001b[38;5;124;43m'\u001b[39;49m\u001b[38;5;124;43mpython_created_jan22\u001b[39;49m\u001b[38;5;124;43m'\u001b[39;49m\u001b[43m)\u001b[49m\n",
      "\u001b[1;31mOSError\u001b[0m: [WinError 145] The directory is not empty: 'python_created_jan22'"
     ]
    }
   ],
   "source": [
    "os.rmdir('python_created_jan22')"
   ]
  },
  {
   "cell_type": "code",
   "execution_count": 15,
   "metadata": {},
   "outputs": [
    {
     "name": "stdout",
     "output_type": "stream",
     "text": [
      "\u001b[1;31mSignature:\u001b[0m \u001b[0mos\u001b[0m\u001b[1;33m.\u001b[0m\u001b[0mremove\u001b[0m\u001b[1;33m(\u001b[0m\u001b[0mpath\u001b[0m\u001b[1;33m,\u001b[0m \u001b[1;33m*\u001b[0m\u001b[1;33m,\u001b[0m \u001b[0mdir_fd\u001b[0m\u001b[1;33m=\u001b[0m\u001b[1;32mNone\u001b[0m\u001b[1;33m)\u001b[0m\u001b[1;33m\u001b[0m\u001b[1;33m\u001b[0m\u001b[0m\n",
      "\u001b[1;31mDocstring:\u001b[0m\n",
      "Remove a file (same as unlink()).\n",
      "\n",
      "If dir_fd is not None, it should be a file descriptor open to a directory,\n",
      "  and path should be relative; path will then be relative to that directory.\n",
      "dir_fd may not be implemented on your platform.\n",
      "  If it is unavailable, using it will raise a NotImplementedError.\n",
      "\u001b[1;31mType:\u001b[0m      builtin_function_or_method"
     ]
    }
   ],
   "source": [
    "os.remove?"
   ]
  },
  {
   "cell_type": "code",
   "execution_count": 16,
   "metadata": {},
   "outputs": [],
   "source": [
    "os.remove(\"python_created_jan22/test3.txt\")"
   ]
  },
  {
   "cell_type": "code",
   "execution_count": 21,
   "metadata": {},
   "outputs": [
    {
     "name": "stdout",
     "output_type": "stream",
     "text": [
      "all_files: ['test2.txt', 'test4.txt', 'test5.txt', 'test_jan22.txt']\n",
      "Deleting file: python_created_jan22/test2.txt\n",
      "Deleting file: python_created_jan22/test4.txt\n",
      "Deleting file: python_created_jan22/test5.txt\n",
      "Deleting file: python_created_jan22/test_jan22.txt\n",
      "List of files from python_created_jan22 folder are []\n"
     ]
    }
   ],
   "source": [
    "folder_name = 'python_created_jan22'\n",
    "all_files = os.listdir(folder_name)\n",
    "print(f\"all_files: {all_files}\")\n",
    "for file in all_files:\n",
    "    file_path = folder_name + \"/\" + file\n",
    "    print(f\"Deleting file: {file_path}\")\n",
    "    os.remove(file_path)\n",
    "#\n",
    "print(f\"List of files from {folder_name} folder are {os.listdir(folder_name)}\")"
   ]
  },
  {
   "cell_type": "code",
   "execution_count": 15,
   "metadata": {},
   "outputs": [
    {
     "data": {
      "text/plain": [
       "['25-03-file-handling.ipynb',\n",
       " '25_file_handling',\n",
       " '26-01-python-exceptions.ipynb',\n",
       " '26-02-python-exceptions.ipynb',\n",
       " '26-03-python-exceptions.ipynb',\n",
       " '27-python-copy.ipynb',\n",
       " '28-02-python_modules.ipynb',\n",
       " '28-04-python_modules.ipynb',\n",
       " '28_test_module',\n",
       " '29-01-psl-os.ipynb',\n",
       " '29-02-psl-os.ipynb',\n",
       " '29-03-psl-os.ipynb',\n",
       " '29-04-psl-datetime.ipynb',\n",
       " '29-05-psl-datetime.ipynb',\n",
       " '29-06-psl-time.ipynb',\n",
       " '29-07-psl-math.ipynb',\n",
       " '29_created_manually',\n",
       " '29_python_created',\n",
       " 'modules_intro']"
      ]
     },
     "execution_count": 15,
     "metadata": {},
     "output_type": "execute_result"
    }
   ],
   "source": [
    "os.listdir()"
   ]
  },
  {
   "cell_type": "code",
   "execution_count": 17,
   "metadata": {},
   "outputs": [],
   "source": [
    "os.rmdir('29_created_manually')"
   ]
  },
  {
   "cell_type": "code",
   "execution_count": 18,
   "metadata": {},
   "outputs": [
    {
     "data": {
      "text/plain": [
       "['25-03-file-handling.ipynb',\n",
       " '25_file_handling',\n",
       " '26-01-python-exceptions.ipynb',\n",
       " '26-02-python-exceptions.ipynb',\n",
       " '26-03-python-exceptions.ipynb',\n",
       " '27-python-copy.ipynb',\n",
       " '28-02-python_modules.ipynb',\n",
       " '28-04-python_modules.ipynb',\n",
       " '28_test_module',\n",
       " '29-01-psl-os.ipynb',\n",
       " '29-02-psl-os.ipynb',\n",
       " '29-03-psl-os.ipynb',\n",
       " '29-04-psl-datetime.ipynb',\n",
       " '29-05-psl-datetime.ipynb',\n",
       " '29-06-psl-time.ipynb',\n",
       " '29-07-psl-math.ipynb',\n",
       " '29_python_created',\n",
       " 'modules_intro']"
      ]
     },
     "execution_count": 18,
     "metadata": {},
     "output_type": "execute_result"
    }
   ],
   "source": [
    "os.listdir()"
   ]
  },
  {
   "cell_type": "code",
   "execution_count": 20,
   "metadata": {},
   "outputs": [],
   "source": [
    "# os.*?"
   ]
  },
  {
   "cell_type": "code",
   "execution_count": 21,
   "metadata": {},
   "outputs": [
    {
     "name": "stdout",
     "output_type": "stream",
     "text": [
      "\u001b[1;31mSignature:\u001b[0m \u001b[0mos\u001b[0m\u001b[1;33m.\u001b[0m\u001b[0mlistdir\u001b[0m\u001b[1;33m(\u001b[0m\u001b[0mpath\u001b[0m\u001b[1;33m=\u001b[0m\u001b[1;32mNone\u001b[0m\u001b[1;33m)\u001b[0m\u001b[1;33m\u001b[0m\u001b[1;33m\u001b[0m\u001b[0m\n",
      "\u001b[1;31mDocstring:\u001b[0m\n",
      "Return a list containing the names of the files in the directory.\n",
      "\n",
      "path can be specified as either str, bytes, or a path-like object.  If path is bytes,\n",
      "  the filenames returned will also be bytes; in all other circumstances\n",
      "  the filenames returned will be str.\n",
      "If path is None, uses the path='.'.\n",
      "On some platforms, path may also be specified as an open file descriptor;\\\n",
      "  the file descriptor must refer to a directory.\n",
      "  If this functionality is unavailable, using it raises NotImplementedError.\n",
      "\n",
      "The list is in arbitrary order.  It does not include the special\n",
      "entries '.' and '..' even if they are present in the directory.\n",
      "\u001b[1;31mType:\u001b[0m      builtin_function_or_method"
     ]
    }
   ],
   "source": [
    "os.listdir??"
   ]
  },
  {
   "cell_type": "code",
   "execution_count": 1,
   "metadata": {},
   "outputs": [],
   "source": [
    "# os.*?"
   ]
  },
  {
   "cell_type": "code",
   "execution_count": 27,
   "metadata": {},
   "outputs": [],
   "source": [
    "import os\n",
    "import shutil"
   ]
  },
  {
   "cell_type": "code",
   "execution_count": 22,
   "metadata": {},
   "outputs": [],
   "source": [
    "# shutil.*?"
   ]
  },
  {
   "cell_type": "code",
   "execution_count": 24,
   "metadata": {},
   "outputs": [
    {
     "name": "stdout",
     "output_type": "stream",
     "text": [
      "\u001b[1;31mSignature:\u001b[0m \u001b[0mshutil\u001b[0m\u001b[1;33m.\u001b[0m\u001b[0mrmtree\u001b[0m\u001b[1;33m(\u001b[0m\u001b[0mpath\u001b[0m\u001b[1;33m,\u001b[0m \u001b[0mignore_errors\u001b[0m\u001b[1;33m=\u001b[0m\u001b[1;32mFalse\u001b[0m\u001b[1;33m,\u001b[0m \u001b[0monerror\u001b[0m\u001b[1;33m=\u001b[0m\u001b[1;32mNone\u001b[0m\u001b[1;33m,\u001b[0m \u001b[1;33m*\u001b[0m\u001b[1;33m,\u001b[0m \u001b[0mdir_fd\u001b[0m\u001b[1;33m=\u001b[0m\u001b[1;32mNone\u001b[0m\u001b[1;33m)\u001b[0m\u001b[1;33m\u001b[0m\u001b[1;33m\u001b[0m\u001b[0m\n",
      "\u001b[1;31mDocstring:\u001b[0m\n",
      "Recursively delete a directory tree.\n",
      "\n",
      "If dir_fd is not None, it should be a file descriptor open to a directory;\n",
      "path will then be relative to that directory.\n",
      "dir_fd may not be implemented on your platform.\n",
      "If it is unavailable, using it will raise a NotImplementedError.\n",
      "\n",
      "If ignore_errors is set, errors are ignored; otherwise, if onerror\n",
      "is set, it is called to handle the error with arguments (func,\n",
      "path, exc_info) where func is platform and implementation dependent;\n",
      "path is the argument to that function that caused it to fail; and\n",
      "exc_info is a tuple returned by sys.exc_info().  If ignore_errors\n",
      "is false and onerror is None, an exception is raised.\n",
      "\u001b[1;31mFile:\u001b[0m      c:\\users\\vijaya nandini\\appdata\\local\\programs\\python\\python311\\lib\\shutil.py\n",
      "\u001b[1;31mType:\u001b[0m      function"
     ]
    }
   ],
   "source": [
    "shutil.rmtree?"
   ]
  },
  {
   "cell_type": "code",
   "execution_count": 28,
   "metadata": {},
   "outputs": [
    {
     "name": "stdout",
     "output_type": "stream",
     "text": [
      "c:\\Users\\Vijaya Nandini\\Documents\\2024_12_B9_Datavalley\\basic_python_batch_09\\02_advanced_python\n"
     ]
    }
   ],
   "source": [
    "print(os.getcwd())"
   ]
  },
  {
   "cell_type": "code",
   "execution_count": 29,
   "metadata": {},
   "outputs": [],
   "source": [
    "# To delete non-empty directory\n",
    "shutil.rmtree(\"python_created_jan22\")"
   ]
  },
  {
   "cell_type": "code",
   "execution_count": 31,
   "metadata": {},
   "outputs": [
    {
     "ename": "FileNotFoundError",
     "evalue": "[WinError 3] The system cannot find the path specified: 'python_created_jan22'",
     "output_type": "error",
     "traceback": [
      "\u001b[1;31m---------------------------------------------------------------------------\u001b[0m",
      "\u001b[1;31mFileNotFoundError\u001b[0m                         Traceback (most recent call last)",
      "Cell \u001b[1;32mIn[31], line 2\u001b[0m\n\u001b[0;32m      1\u001b[0m \u001b[38;5;66;03m# Trying to delete a folder which is already deleted and hence it throws FileNotFoundError\u001b[39;00m\n\u001b[1;32m----> 2\u001b[0m \u001b[43mshutil\u001b[49m\u001b[38;5;241;43m.\u001b[39;49m\u001b[43mrmtree\u001b[49m\u001b[43m(\u001b[49m\u001b[38;5;124;43m\"\u001b[39;49m\u001b[38;5;124;43mpython_created_jan22\u001b[39;49m\u001b[38;5;124;43m\"\u001b[39;49m\u001b[43m)\u001b[49m\n",
      "File \u001b[1;32mc:\\Users\\Vijaya Nandini\\AppData\\Local\\Programs\\Python\\Python311\\Lib\\shutil.py:787\u001b[0m, in \u001b[0;36mrmtree\u001b[1;34m(path, ignore_errors, onerror, dir_fd)\u001b[0m\n\u001b[0;32m    785\u001b[0m     \u001b[38;5;66;03m# can't continue even if onerror hook returns\u001b[39;00m\n\u001b[0;32m    786\u001b[0m     \u001b[38;5;28;01mreturn\u001b[39;00m\n\u001b[1;32m--> 787\u001b[0m \u001b[38;5;28;01mreturn\u001b[39;00m \u001b[43m_rmtree_unsafe\u001b[49m\u001b[43m(\u001b[49m\u001b[43mpath\u001b[49m\u001b[43m,\u001b[49m\u001b[43m \u001b[49m\u001b[43monerror\u001b[49m\u001b[43m)\u001b[49m\n",
      "File \u001b[1;32mc:\\Users\\Vijaya Nandini\\AppData\\Local\\Programs\\Python\\Python311\\Lib\\shutil.py:615\u001b[0m, in \u001b[0;36m_rmtree_unsafe\u001b[1;34m(path, onerror)\u001b[0m\n\u001b[0;32m    613\u001b[0m         entries \u001b[38;5;241m=\u001b[39m \u001b[38;5;28mlist\u001b[39m(scandir_it)\n\u001b[0;32m    614\u001b[0m \u001b[38;5;28;01mexcept\u001b[39;00m \u001b[38;5;167;01mOSError\u001b[39;00m:\n\u001b[1;32m--> 615\u001b[0m     \u001b[43monerror\u001b[49m\u001b[43m(\u001b[49m\u001b[43mos\u001b[49m\u001b[38;5;241;43m.\u001b[39;49m\u001b[43mscandir\u001b[49m\u001b[43m,\u001b[49m\u001b[43m \u001b[49m\u001b[43mpath\u001b[49m\u001b[43m,\u001b[49m\u001b[43m \u001b[49m\u001b[43msys\u001b[49m\u001b[38;5;241;43m.\u001b[39;49m\u001b[43mexc_info\u001b[49m\u001b[43m(\u001b[49m\u001b[43m)\u001b[49m\u001b[43m)\u001b[49m\n\u001b[0;32m    616\u001b[0m     entries \u001b[38;5;241m=\u001b[39m []\n\u001b[0;32m    617\u001b[0m \u001b[38;5;28;01mfor\u001b[39;00m entry \u001b[38;5;129;01min\u001b[39;00m entries:\n",
      "File \u001b[1;32mc:\\Users\\Vijaya Nandini\\AppData\\Local\\Programs\\Python\\Python311\\Lib\\shutil.py:612\u001b[0m, in \u001b[0;36m_rmtree_unsafe\u001b[1;34m(path, onerror)\u001b[0m\n\u001b[0;32m    610\u001b[0m \u001b[38;5;28;01mdef\u001b[39;00m \u001b[38;5;21m_rmtree_unsafe\u001b[39m(path, onerror):\n\u001b[0;32m    611\u001b[0m     \u001b[38;5;28;01mtry\u001b[39;00m:\n\u001b[1;32m--> 612\u001b[0m         \u001b[38;5;28;01mwith\u001b[39;00m os\u001b[38;5;241m.\u001b[39mscandir(path) \u001b[38;5;28;01mas\u001b[39;00m scandir_it:\n\u001b[0;32m    613\u001b[0m             entries \u001b[38;5;241m=\u001b[39m \u001b[38;5;28mlist\u001b[39m(scandir_it)\n\u001b[0;32m    614\u001b[0m     \u001b[38;5;28;01mexcept\u001b[39;00m \u001b[38;5;167;01mOSError\u001b[39;00m:\n",
      "\u001b[1;31mFileNotFoundError\u001b[0m: [WinError 3] The system cannot find the path specified: 'python_created_jan22'"
     ]
    }
   ],
   "source": [
    "# Trying to delete a folder which is already deleted and hence it throws FileNotFoundError\n",
    "shutil.rmtree(\"python_created_jan22\")"
   ]
  },
  {
   "cell_type": "code",
   "execution_count": 33,
   "metadata": {},
   "outputs": [],
   "source": [
    "# shutil.move?"
   ]
  },
  {
   "cell_type": "code",
   "execution_count": 34,
   "metadata": {},
   "outputs": [
    {
     "data": {
      "text/plain": [
       "'29_python_created/01_child_folder/test5.txt'"
      ]
     },
     "execution_count": 34,
     "metadata": {},
     "output_type": "execute_result"
    }
   ],
   "source": [
    "source_file = '25_file_handling/source/test5.txt'\n",
    "destination_file = '29_python_created/01_child_folder/test5.txt'\n",
    "shutil.move(src=source_file, dst=destination_file)"
   ]
  },
  {
   "cell_type": "code",
   "execution_count": 36,
   "metadata": {},
   "outputs": [
    {
     "data": {
      "text/plain": [
       "'29_python_created/02_child_folder/my_test.txt'"
      ]
     },
     "execution_count": 36,
     "metadata": {},
     "output_type": "execute_result"
    }
   ],
   "source": [
    "source_file = '29_python_created/01_child_folder/test5.txt'\n",
    "destination_file = '29_python_created/02_child_folder/my_test.txt'\n",
    "shutil.move(src=source_file, dst=destination_file)"
   ]
  },
  {
   "cell_type": "code",
   "execution_count": null,
   "metadata": {},
   "outputs": [],
   "source": [
    "# Try to write code \n",
    "# to move a file from source location to destination location, a new folder should be created before placing file in the destination location."
   ]
  },
  {
   "cell_type": "code",
   "execution_count": 39,
   "metadata": {},
   "outputs": [],
   "source": [
    "# shutil.copy?"
   ]
  },
  {
   "cell_type": "code",
   "execution_count": 40,
   "metadata": {},
   "outputs": [
    {
     "data": {
      "text/plain": [
       "'29_python_created/01_child_folder/test.txt'"
      ]
     },
     "execution_count": 40,
     "metadata": {},
     "output_type": "execute_result"
    }
   ],
   "source": [
    "shutil.copy(src='29_python_created/02_child_folder/my_test.txt',dst='29_python_created/01_child_folder/test.txt')"
   ]
  },
  {
   "cell_type": "code",
   "execution_count": null,
   "metadata": {},
   "outputs": [],
   "source": []
  }
 ],
 "metadata": {
  "kernelspec": {
   "display_name": "Python 3",
   "language": "python",
   "name": "python3"
  },
  "language_info": {
   "codemirror_mode": {
    "name": "ipython",
    "version": 3
   },
   "file_extension": ".py",
   "mimetype": "text/x-python",
   "name": "python",
   "nbconvert_exporter": "python",
   "pygments_lexer": "ipython3",
   "version": "3.11.9"
  }
 },
 "nbformat": 4,
 "nbformat_minor": 2
}
