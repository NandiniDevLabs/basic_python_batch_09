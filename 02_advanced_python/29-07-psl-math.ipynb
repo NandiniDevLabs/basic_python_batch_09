{
 "cells": [
  {
   "cell_type": "code",
   "execution_count": 4,
   "metadata": {},
   "outputs": [],
   "source": [
    "import math"
   ]
  },
  {
   "cell_type": "code",
   "execution_count": 5,
   "metadata": {},
   "outputs": [
    {
     "data": {
      "text/plain": [
       "10.0"
      ]
     },
     "execution_count": 5,
     "metadata": {},
     "output_type": "execute_result"
    }
   ],
   "source": [
    "100**(1/2)"
   ]
  },
  {
   "cell_type": "code",
   "execution_count": 6,
   "metadata": {},
   "outputs": [
    {
     "data": {
      "text/plain": [
       "10.0"
      ]
     },
     "execution_count": 6,
     "metadata": {},
     "output_type": "execute_result"
    }
   ],
   "source": [
    "math.sqrt(100)"
   ]
  },
  {
   "cell_type": "code",
   "execution_count": 2,
   "metadata": {},
   "outputs": [
    {
     "data": {
      "text/plain": [
       "inf"
      ]
     },
     "execution_count": 2,
     "metadata": {},
     "output_type": "execute_result"
    }
   ],
   "source": [
    "math.inf"
   ]
  },
  {
   "cell_type": "code",
   "execution_count": 3,
   "metadata": {},
   "outputs": [
    {
     "data": {
      "text/plain": [
       "float"
      ]
     },
     "execution_count": 3,
     "metadata": {},
     "output_type": "execute_result"
    }
   ],
   "source": [
    "type(math.inf)"
   ]
  },
  {
   "cell_type": "code",
   "execution_count": 7,
   "metadata": {},
   "outputs": [
    {
     "data": {
      "text/plain": [
       "float"
      ]
     },
     "execution_count": 7,
     "metadata": {},
     "output_type": "execute_result"
    }
   ],
   "source": [
    "type(math.inf)"
   ]
  },
  {
   "cell_type": "code",
   "execution_count": 8,
   "metadata": {},
   "outputs": [
    {
     "data": {
      "text/plain": [
       "3.141592653589793"
      ]
     },
     "execution_count": 8,
     "metadata": {},
     "output_type": "execute_result"
    }
   ],
   "source": [
    "math.pi"
   ]
  },
  {
   "cell_type": "code",
   "execution_count": 9,
   "metadata": {},
   "outputs": [
    {
     "data": {
      "text/plain": [
       "float"
      ]
     },
     "execution_count": 9,
     "metadata": {},
     "output_type": "execute_result"
    }
   ],
   "source": [
    "type(math.pi)"
   ]
  },
  {
   "cell_type": "code",
   "execution_count": 10,
   "metadata": {},
   "outputs": [
    {
     "name": "stdout",
     "output_type": "stream",
     "text": [
      "math.__annotations__\n",
      "math.__class__\n",
      "math.__delattr__\n",
      "math.__dict__\n",
      "math.__dir__\n",
      "math.__doc__\n",
      "math.__eq__\n",
      "math.__format__\n",
      "math.__ge__\n",
      "math.__getattribute__\n",
      "math.__getstate__\n",
      "math.__gt__\n",
      "math.__hash__\n",
      "math.__init__\n",
      "math.__init_subclass__\n",
      "math.__le__\n",
      "math.__loader__\n",
      "math.__lt__\n",
      "math.__name__\n",
      "math.__ne__\n",
      "math.__new__\n",
      "math.__package__\n",
      "math.__reduce__\n",
      "math.__reduce_ex__\n",
      "math.__repr__\n",
      "math.__setattr__\n",
      "math.__sizeof__\n",
      "math.__spec__\n",
      "math.__str__\n",
      "math.__subclasshook__\n",
      "math.acos\n",
      "math.acosh\n",
      "math.asin\n",
      "math.asinh\n",
      "math.atan\n",
      "math.atan2\n",
      "math.atanh\n",
      "math.cbrt\n",
      "math.ceil\n",
      "math.comb\n",
      "math.copysign\n",
      "math.cos\n",
      "math.cosh\n",
      "math.degrees\n",
      "math.dist\n",
      "math.e\n",
      "math.erf\n",
      "math.erfc\n",
      "math.exp\n",
      "math.exp2\n",
      "math.expm1\n",
      "math.fabs\n",
      "math.factorial\n",
      "math.floor\n",
      "math.fmod\n",
      "math.frexp\n",
      "math.fsum\n",
      "math.gamma\n",
      "math.gcd\n",
      "math.hypot\n",
      "math.inf\n",
      "math.isclose\n",
      "math.isfinite\n",
      "math.isinf\n",
      "math.isnan\n",
      "math.isqrt\n",
      "math.lcm\n",
      "math.ldexp\n",
      "math.lgamma\n",
      "math.log\n",
      "math.log10\n",
      "math.log1p\n",
      "math.log2\n",
      "math.modf\n",
      "math.nan\n",
      "math.nextafter\n",
      "math.perm\n",
      "math.pi\n",
      "math.pow\n",
      "math.prod\n",
      "math.radians\n",
      "math.remainder\n",
      "math.sin\n",
      "math.sinh\n",
      "math.sqrt\n",
      "math.tan\n",
      "math.tanh\n",
      "math.tau\n",
      "math.trunc\n",
      "math.ulp"
     ]
    }
   ],
   "source": [
    "math.*?"
   ]
  },
  {
   "cell_type": "code",
   "execution_count": 11,
   "metadata": {},
   "outputs": [
    {
     "data": {
      "text/plain": [
       "2.718281828459045"
      ]
     },
     "execution_count": 11,
     "metadata": {},
     "output_type": "execute_result"
    }
   ],
   "source": [
    "math.e"
   ]
  },
  {
   "cell_type": "code",
   "execution_count": 12,
   "metadata": {},
   "outputs": [],
   "source": [
    "x = 45"
   ]
  },
  {
   "cell_type": "code",
   "execution_count": 13,
   "metadata": {},
   "outputs": [],
   "source": [
    "y = 1.2*x + 0.4"
   ]
  },
  {
   "cell_type": "code",
   "execution_count": 14,
   "metadata": {},
   "outputs": [
    {
     "name": "stdout",
     "output_type": "stream",
     "text": [
      "54.4\n"
     ]
    }
   ],
   "source": [
    "print(y)"
   ]
  },
  {
   "cell_type": "code",
   "execution_count": null,
   "metadata": {},
   "outputs": [],
   "source": []
  }
 ],
 "metadata": {
  "kernelspec": {
   "display_name": "Python 3",
   "language": "python",
   "name": "python3"
  },
  "language_info": {
   "codemirror_mode": {
    "name": "ipython",
    "version": 3
   },
   "file_extension": ".py",
   "mimetype": "text/x-python",
   "name": "python",
   "nbconvert_exporter": "python",
   "pygments_lexer": "ipython3",
   "version": "3.11.9"
  }
 },
 "nbformat": 4,
 "nbformat_minor": 2
}
