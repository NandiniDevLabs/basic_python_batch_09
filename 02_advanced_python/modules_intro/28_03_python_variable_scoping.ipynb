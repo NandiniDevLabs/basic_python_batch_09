{
 "cells": [
  {
   "cell_type": "code",
   "execution_count": 6,
   "metadata": {},
   "outputs": [],
   "source": [
    "input1 = 10  # Global variable\n",
    "\n",
    "def test():\n",
    "    print(input1)\n",
    "\n",
    "\n",
    "def dummy_func():\n",
    "    return input1*20"
   ]
  },
  {
   "cell_type": "code",
   "execution_count": 5,
   "metadata": {},
   "outputs": [
    {
     "name": "stdout",
     "output_type": "stream",
     "text": [
      "10\n"
     ]
    }
   ],
   "source": [
    "test()"
   ]
  },
  {
   "cell_type": "code",
   "execution_count": 7,
   "metadata": {},
   "outputs": [
    {
     "data": {
      "text/plain": [
       "200"
      ]
     },
     "execution_count": 7,
     "metadata": {},
     "output_type": "execute_result"
    }
   ],
   "source": [
    "dummy_func()"
   ]
  },
  {
   "cell_type": "code",
   "execution_count": 8,
   "metadata": {},
   "outputs": [
    {
     "name": "stdout",
     "output_type": "stream",
     "text": [
      "input1: 10\n",
      "test_var: 50\n"
     ]
    }
   ],
   "source": [
    "input1 = 10\n",
    "\n",
    "# Defining a function\n",
    "def test():\n",
    "    print(f'input1: {input1}')\n",
    "    test_var = 50\n",
    "    print(f'test_var: {test_var}')\n",
    "\n",
    "# calling function\n",
    "test()"
   ]
  },
  {
   "cell_type": "code",
   "execution_count": 9,
   "metadata": {},
   "outputs": [
    {
     "name": "stdout",
     "output_type": "stream",
     "text": [
      "input1: 10\n",
      "test_var: 50\n",
      "This is after calling test function\n"
     ]
    },
    {
     "ename": "NameError",
     "evalue": "name 'test_var' is not defined",
     "output_type": "error",
     "traceback": [
      "\u001b[1;31m---------------------------------------------------------------------------\u001b[0m",
      "\u001b[1;31mNameError\u001b[0m                                 Traceback (most recent call last)",
      "Cell \u001b[1;32mIn[9], line 14\u001b[0m\n\u001b[0;32m     11\u001b[0m test()\n\u001b[0;32m     13\u001b[0m \u001b[38;5;28mprint\u001b[39m(\u001b[38;5;124m\"\u001b[39m\u001b[38;5;124mThis is after calling test function\u001b[39m\u001b[38;5;124m\"\u001b[39m)\n\u001b[1;32m---> 14\u001b[0m \u001b[38;5;28mprint\u001b[39m(\u001b[43mtest_var\u001b[49m)\n",
      "\u001b[1;31mNameError\u001b[0m: name 'test_var' is not defined"
     ]
    }
   ],
   "source": [
    "input1 = 10  # Global variable\n",
    "\n",
    "# Defining a function\n",
    "def test():\n",
    "    print(f'input1: {input1}')\n",
    "    test_var = 50  # Local variable - this is created within a function \n",
    "    print(f'test_var: {test_var}')\n",
    "##\n",
    "\n",
    "# calling function\n",
    "test()\n",
    "\n",
    "print(\"This is after calling test function\")\n",
    "print(test_var)"
   ]
  },
  {
   "cell_type": "code",
   "execution_count": 10,
   "metadata": {},
   "outputs": [
    {
     "name": "stdout",
     "output_type": "stream",
     "text": [
      "input1: 10\n",
      "test_var: 50\n",
      "This is after calling test function\n"
     ]
    }
   ],
   "source": [
    "# Defining a function\n",
    "def test():\n",
    "    print(f'input1: {input1}')\n",
    "    test_var = 50  # Local variable\n",
    "    print(f'test_var: {test_var}')\n",
    "##\n",
    "\n",
    "#------ My main logic-----\n",
    "input1 = 10  # Global variable\n",
    "# calling function\n",
    "test()\n",
    "print(\"This is after calling test function\")"
   ]
  },
  {
   "cell_type": "code",
   "execution_count": 11,
   "metadata": {},
   "outputs": [
    {
     "data": {
      "text/plain": [
       "10"
      ]
     },
     "execution_count": 11,
     "metadata": {},
     "output_type": "execute_result"
    }
   ],
   "source": [
    "input1"
   ]
  },
  {
   "cell_type": "code",
   "execution_count": 1,
   "metadata": {},
   "outputs": [
    {
     "ename": "NameError",
     "evalue": "name 'input2' is not defined",
     "output_type": "error",
     "traceback": [
      "\u001b[1;31m---------------------------------------------------------------------------\u001b[0m",
      "\u001b[1;31mNameError\u001b[0m                                 Traceback (most recent call last)",
      "Cell \u001b[1;32mIn[1], line 12\u001b[0m\n\u001b[0;32m      7\u001b[0m     \u001b[38;5;28mprint\u001b[39m(\u001b[38;5;124mf\u001b[39m\u001b[38;5;124m'\u001b[39m\u001b[38;5;124mtest_var: \u001b[39m\u001b[38;5;132;01m{\u001b[39;00mtest_var\u001b[38;5;132;01m}\u001b[39;00m\u001b[38;5;124m'\u001b[39m)\n\u001b[0;32m      8\u001b[0m \u001b[38;5;66;03m###\u001b[39;00m\n\u001b[0;32m      9\u001b[0m \n\u001b[0;32m     10\u001b[0m \u001b[38;5;66;03m#------ My main logic-----\u001b[39;00m\n\u001b[0;32m     11\u001b[0m \u001b[38;5;66;03m# calling function\u001b[39;00m\n\u001b[1;32m---> 12\u001b[0m \u001b[43mtest\u001b[49m\u001b[43m(\u001b[49m\u001b[43m)\u001b[49m\n\u001b[0;32m     13\u001b[0m input2 \u001b[38;5;241m=\u001b[39m \u001b[38;5;241m100\u001b[39m  \u001b[38;5;66;03m# Global variable\u001b[39;00m\n\u001b[0;32m     14\u001b[0m \u001b[38;5;28mprint\u001b[39m(\u001b[38;5;124m\"\u001b[39m\u001b[38;5;124mThis is after calling test function\u001b[39m\u001b[38;5;124m\"\u001b[39m)\n",
      "Cell \u001b[1;32mIn[1], line 5\u001b[0m, in \u001b[0;36mtest\u001b[1;34m()\u001b[0m\n\u001b[0;32m      4\u001b[0m \u001b[38;5;28;01mdef\u001b[39;00m \u001b[38;5;21mtest\u001b[39m():\n\u001b[1;32m----> 5\u001b[0m     \u001b[38;5;28mprint\u001b[39m(\u001b[38;5;124mf\u001b[39m\u001b[38;5;124m'\u001b[39m\u001b[38;5;124minput2: \u001b[39m\u001b[38;5;132;01m{\u001b[39;00m\u001b[43minput2\u001b[49m\u001b[38;5;132;01m}\u001b[39;00m\u001b[38;5;124m'\u001b[39m)\n\u001b[0;32m      6\u001b[0m     test_var \u001b[38;5;241m=\u001b[39m \u001b[38;5;241m50\u001b[39m  \u001b[38;5;66;03m# Local variable\u001b[39;00m\n\u001b[0;32m      7\u001b[0m     \u001b[38;5;28mprint\u001b[39m(\u001b[38;5;124mf\u001b[39m\u001b[38;5;124m'\u001b[39m\u001b[38;5;124mtest_var: \u001b[39m\u001b[38;5;132;01m{\u001b[39;00mtest_var\u001b[38;5;132;01m}\u001b[39;00m\u001b[38;5;124m'\u001b[39m)\n",
      "\u001b[1;31mNameError\u001b[0m: name 'input2' is not defined"
     ]
    }
   ],
   "source": [
    "# Error occurred because we tried to access global variable even before it's creation\n",
    "\n",
    "# Defining a function\n",
    "def test():\n",
    "    print(f'input2: {input2}')\n",
    "    test_var = 50  # Local variable\n",
    "    print(f'test_var: {test_var}')\n",
    "###\n",
    "\n",
    "#------ My main logic-----\n",
    "# calling function\n",
    "test()\n",
    "input2 = 100  # Global variable\n",
    "print(\"This is after calling test function\")"
   ]
  },
  {
   "cell_type": "code",
   "execution_count": 2,
   "metadata": {},
   "outputs": [
    {
     "name": "stdout",
     "output_type": "stream",
     "text": [
      "input2: 100\n",
      "test_var: 50\n",
      "This is after calling test function\n"
     ]
    }
   ],
   "source": [
    "# To fix the error, create variable before calling the function\n",
    "\n",
    "# Defining a function\n",
    "def test():\n",
    "    print(f'input2: {input2}')\n",
    "    test_var = 50  # Local variable\n",
    "    print(f'test_var: {test_var}')\n",
    "###\n",
    "\n",
    "#------ My main logic-----\n",
    "input2 = 100  # Global variable\n",
    "test() # calling function\n",
    "print(\"This is after calling test function\")"
   ]
  },
  {
   "cell_type": "code",
   "execution_count": 4,
   "metadata": {},
   "outputs": [
    {
     "name": "stdout",
     "output_type": "stream",
     "text": [
      "input2: 100\n",
      "test_var: 50\n",
      "This is after calling test function\n",
      "50\n"
     ]
    }
   ],
   "source": [
    "# Defining a function\n",
    "def test():\n",
    "    print(f'input2: {input2}')\n",
    "    test_var = 50  # Local variable\n",
    "    print(f'test_var: {test_var}')\n",
    "    return test_var\n",
    "###\n",
    "\n",
    "#------ My main logic-----\n",
    "input2 = 100  # Global variable\n",
    "test_var = test() # calling function\n",
    "print(\"This is after calling test function\")\n",
    "print(test_var)"
   ]
  },
  {
   "cell_type": "code",
   "execution_count": 1,
   "metadata": {},
   "outputs": [
    {
     "name": "stdout",
     "output_type": "stream",
     "text": [
      "This is start of main logic\n",
      "input2: 100\n",
      "test_var: 50\n",
      "This is after calling test function\n",
      "50\n",
      "This is end of main logic\n"
     ]
    }
   ],
   "source": [
    "# Not recommended - but will work\n",
    "\n",
    "# Defining a function\n",
    "def test():\n",
    "    print(f'input2: {input2}')\n",
    "    global test_var  # Global variable\n",
    "    test_var = 50\n",
    "    print(f'test_var: {test_var}')\n",
    "###\n",
    "\n",
    "#------ My main logic-----\n",
    "print(\"This is start of main logic\")\n",
    "input2 = 100  # Global variable\n",
    "test() # calling function\n",
    "print(\"This is after calling test function\")\n",
    "print(test_var)\n",
    "print(\"This is end of main logic\")"
   ]
  },
  {
   "cell_type": "markdown",
   "metadata": {},
   "source": [
    "# Magic commands \n",
    "- That starts with %\n",
    "- Ex: %run, %whos"
   ]
  },
  {
   "cell_type": "code",
   "execution_count": 13,
   "metadata": {},
   "outputs": [
    {
     "name": "stdout",
     "output_type": "stream",
     "text": [
      "Variable   Type        Data/Info\n",
      "--------------------------------\n",
      "input2     int         100\n",
      "test       function    <function test at 0x000001D29219AF20>\n",
      "test_var   int         50\n"
     ]
    }
   ],
   "source": [
    "%whos"
   ]
  },
  {
   "cell_type": "code",
   "execution_count": 14,
   "metadata": {},
   "outputs": [],
   "source": [
    "del(input2)  # To delete a variable that is already defined"
   ]
  },
  {
   "cell_type": "code",
   "execution_count": 15,
   "metadata": {},
   "outputs": [
    {
     "name": "stdout",
     "output_type": "stream",
     "text": [
      "Variable   Type        Data/Info\n",
      "--------------------------------\n",
      "test       function    <function test at 0x000001D29219AF20>\n",
      "test_var   int         50\n"
     ]
    }
   ],
   "source": [
    "%whos"
   ]
  },
  {
   "cell_type": "code",
   "execution_count": 16,
   "metadata": {},
   "outputs": [
    {
     "ename": "NameError",
     "evalue": "name 'input2' is not defined",
     "output_type": "error",
     "traceback": [
      "\u001b[1;31m---------------------------------------------------------------------------\u001b[0m",
      "\u001b[1;31mNameError\u001b[0m                                 Traceback (most recent call last)",
      "Cell \u001b[1;32mIn[16], line 1\u001b[0m\n\u001b[1;32m----> 1\u001b[0m \u001b[43minput2\u001b[49m\n",
      "\u001b[1;31mNameError\u001b[0m: name 'input2' is not defined"
     ]
    }
   ],
   "source": [
    "input2"
   ]
  },
  {
   "cell_type": "markdown",
   "metadata": {},
   "source": [
    "# Importing modules"
   ]
  },
  {
   "cell_type": "code",
   "execution_count": 18,
   "metadata": {},
   "outputs": [],
   "source": [
    "from practice_module import test3"
   ]
  },
  {
   "cell_type": "code",
   "execution_count": 19,
   "metadata": {},
   "outputs": [
    {
     "name": "stdout",
     "output_type": "stream",
     "text": [
      "This is test3 function from practice_module\n",
      "It returns None\n",
      "My test3 variable is : 5.2\n"
     ]
    }
   ],
   "source": [
    "test3()"
   ]
  },
  {
   "cell_type": "code",
   "execution_count": 20,
   "metadata": {},
   "outputs": [
    {
     "ename": "NameError",
     "evalue": "name 'my_test3_var' is not defined",
     "output_type": "error",
     "traceback": [
      "\u001b[1;31m---------------------------------------------------------------------------\u001b[0m",
      "\u001b[1;31mNameError\u001b[0m                                 Traceback (most recent call last)",
      "Cell \u001b[1;32mIn[20], line 1\u001b[0m\n\u001b[1;32m----> 1\u001b[0m \u001b[43mmy_test3_var\u001b[49m\n",
      "\u001b[1;31mNameError\u001b[0m: name 'my_test3_var' is not defined"
     ]
    }
   ],
   "source": [
    "my_test3_var  # This is a local variable of test3 function and hence it is not accessible outside of function"
   ]
  },
  {
   "cell_type": "code",
   "execution_count": null,
   "metadata": {},
   "outputs": [],
   "source": []
  }
 ],
 "metadata": {
  "kernelspec": {
   "display_name": "Python 3",
   "language": "python",
   "name": "python3"
  },
  "language_info": {
   "codemirror_mode": {
    "name": "ipython",
    "version": 3
   },
   "file_extension": ".py",
   "mimetype": "text/x-python",
   "name": "python",
   "nbconvert_exporter": "python",
   "pygments_lexer": "ipython3",
   "version": "3.11.9"
  }
 },
 "nbformat": 4,
 "nbformat_minor": 2
}
