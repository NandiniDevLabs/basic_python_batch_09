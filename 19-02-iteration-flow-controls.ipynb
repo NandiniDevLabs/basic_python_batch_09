{
 "cells": [
  {
   "cell_type": "markdown",
   "id": "927489c9-2a1d-4790-b5da-61c1e37723bb",
   "metadata": {},
   "source": [
    "# Iteration flow controls\n",
    "- **continue** - to continue to next iteration by ignoring current iteration\n",
    "- **break** - to come out of **for** or **while** loop"
   ]
  },
  {
   "cell_type": "code",
   "execution_count": 7,
   "id": "2d7728a6-891e-474d-ab51-0fa8d51477e1",
   "metadata": {},
   "outputs": [],
   "source": [
    "input_nums = [91, 92, 93, 94, 95]"
   ]
  },
  {
   "cell_type": "code",
   "execution_count": 15,
   "id": "1b5b764d-a4ce-4c2a-adb0-b2d6b1711138",
   "metadata": {},
   "outputs": [
    {
     "name": "stdout",
     "output_type": "stream",
     "text": [
      "num: 91\n",
      "output_nums: [91]\n",
      "num: 92\n",
      "num: 93\n",
      "output_nums: [91, 93]\n",
      "num: 94\n",
      "num: 95\n",
      "output_nums: [91, 93, 95]\n"
     ]
    }
   ],
   "source": [
    "# filtering odd numbers from list\n",
    "output_nums = []\n",
    "for num in input_nums:\n",
    "    print(f'num: {num}')\n",
    "    if num % 2 == 0:   # True for Even number\n",
    "        continue\n",
    "    output_nums.append(num)\n",
    "    print(f'output_nums: {output_nums}')\n",
    "\n",
    "# Explanation\n",
    "# num=91 --> Condition: False --> output_nums = [91]\n",
    "# num=92 --> Condition:True --> Continue to next iteration\n",
    "#num=93 --> Condition: False --> output_nums = [91, 93]"
   ]
  },
  {
   "cell_type": "code",
   "execution_count": 13,
   "id": "b9371f9f-9771-41e3-8851-c26711810730",
   "metadata": {},
   "outputs": [
    {
     "data": {
      "text/plain": [
       "False"
      ]
     },
     "execution_count": 13,
     "metadata": {},
     "output_type": "execute_result"
    }
   ],
   "source": [
    "93%2 == 0"
   ]
  },
  {
   "cell_type": "markdown",
   "id": "be039291-e4ce-43d7-bf57-814039f89667",
   "metadata": {},
   "source": [
    "# Break"
   ]
  },
  {
   "cell_type": "code",
   "execution_count": 17,
   "id": "bd687a71-fe65-4ecf-85b1-3f1a5c4ddc17",
   "metadata": {},
   "outputs": [
    {
     "name": "stdout",
     "output_type": "stream",
     "text": [
      "[1, 2, 3, 4, 5, 6, 7, 8, 9, 10, 11, 12, 13, 14, 15]\n"
     ]
    }
   ],
   "source": [
    "input_nums = list(range(1,16))\n",
    "print(input_nums)"
   ]
  },
  {
   "cell_type": "code",
   "execution_count": 19,
   "id": "f3c66939-07e2-4888-b443-3dc165397582",
   "metadata": {},
   "outputs": [],
   "source": [
    "# Filter first 2 numbers that are divisible by 3"
   ]
  },
  {
   "cell_type": "code",
   "execution_count": 31,
   "id": "8ca3304c-df8b-4f14-9436-9b2099145080",
   "metadata": {},
   "outputs": [
    {
     "name": "stdout",
     "output_type": "stream",
     "text": [
      "7\n",
      "1\n",
      "False\n"
     ]
    }
   ],
   "source": [
    "# number divisible by 3 -- Ex: 3, 6, 9, ...\n",
    "num = 3\n",
    "num = 6\n",
    "num = 7\n",
    "print(num)\n",
    "print(num%3)\n",
    "print(num%3==0)"
   ]
  },
  {
   "cell_type": "code",
   "execution_count": 23,
   "id": "141824dc-0ab8-40ef-b51f-880847c5f1ba",
   "metadata": {},
   "outputs": [
    {
     "name": "stdout",
     "output_type": "stream",
     "text": [
      "[1, 2, 3, 4, 5, 6, 7, 8, 9, 10, 11, 12, 13, 14, 15]\n"
     ]
    }
   ],
   "source": [
    "print(input_nums)"
   ]
  },
  {
   "cell_type": "code",
   "execution_count": 61,
   "id": "2c9cbb63-64a3-4b6b-8681-de523b4af4a7",
   "metadata": {},
   "outputs": [
    {
     "name": "stdout",
     "output_type": "stream",
     "text": [
      "num: 3\n",
      "filtered_nums: [3]. Length: 1\n",
      "num: 6\n",
      "filtered_nums: [3, 6]. Length: 2\n",
      "num: 9\n",
      "filtered_nums: [3, 6, 9]. Length: 3\n",
      "num: 12\n",
      "filtered_nums: [3, 6, 9, 12]. Length: 4\n",
      "num: 15\n",
      "filtered_nums: [3, 6, 9, 12, 15]. Length: 5\n",
      "Filtered numbers: [3, 6, 9, 12, 15]\n"
     ]
    }
   ],
   "source": [
    "# Filter first 2 numbers that are divisible by 3\n",
    "filtered_nums = []\n",
    "for num in input_nums:\n",
    "    if num%3==0:\n",
    "        print(f\"num: {num}\")\n",
    "        filtered_nums.append(num)\n",
    "        print(f\"filtered_nums: {filtered_nums}. Length: {len(filtered_nums)}\")\n",
    "    #\n",
    "# End of for loop\n",
    "print(f\"Filtered numbers: {filtered_nums}\")"
   ]
  },
  {
   "cell_type": "code",
   "execution_count": 53,
   "id": "530c9470-ecc7-4f72-8ffc-83a83a908ab3",
   "metadata": {},
   "outputs": [
    {
     "name": "stdout",
     "output_type": "stream",
     "text": [
      "2\n",
      "Reminder: 2\n",
      "False\n"
     ]
    }
   ],
   "source": [
    "num = 2\n",
    "print(num)\n",
    "print(f\"Reminder: {num%3}\")\n",
    "print(num%3==0)"
   ]
  },
  {
   "cell_type": "code",
   "execution_count": 69,
   "id": "b5cba022-994c-4b12-9ba0-f53dae3b10a2",
   "metadata": {},
   "outputs": [
    {
     "data": {
      "text/plain": [
       "[1, 2, 3, 4, 5, 6, 7, 8, 9, 10, 11, 12, 13, 14, 15]"
      ]
     },
     "execution_count": 69,
     "metadata": {},
     "output_type": "execute_result"
    }
   ],
   "source": [
    "input_nums"
   ]
  },
  {
   "cell_type": "code",
   "execution_count": 73,
   "id": "b9f7fa2e-4e26-4406-9d82-6ff45e8a55c2",
   "metadata": {},
   "outputs": [
    {
     "name": "stdout",
     "output_type": "stream",
     "text": [
      "num: 1. Understanding: 1  Condition: False\n",
      "filtered_nums: []. Length: 0\n",
      "num: 2. Understanding: 2  Condition: False\n",
      "filtered_nums: []. Length: 0\n",
      "num: 3. Understanding: 0  Condition: True\n",
      "filtered_nums: [3]. Length: 1\n",
      "num: 4. Understanding: 1  Condition: False\n",
      "filtered_nums: [3]. Length: 1\n",
      "num: 5. Understanding: 2  Condition: False\n",
      "filtered_nums: [3]. Length: 1\n",
      "num: 6. Understanding: 0  Condition: True\n",
      "filtered_nums: [3, 6]. Length: 2\n",
      "Breaking out of for loop\n",
      "Filtered numbers: [3, 6]\n"
     ]
    }
   ],
   "source": [
    "# Filter first 2 numbers that are divisible by 3\n",
    "filtered_nums = []\n",
    "for num in input_nums:\n",
    "    print(f\"num: {num}. Understanding: {num%3}  Condition: {num%3==0}\")\n",
    "    if num%3==0:\n",
    "        filtered_nums.append(num)\n",
    "    #\n",
    "    print(f\"filtered_nums: {filtered_nums}. Length: {len(filtered_nums)}\")\n",
    "    if len(filtered_nums) == 2:\n",
    "        print(\"Breaking out of for loop\")\n",
    "        break   # To come out of for loop\n",
    "    #\n",
    "# End of for loop\n",
    "print(f\"Filtered numbers: {filtered_nums}\")"
   ]
  },
  {
   "cell_type": "code",
   "execution_count": 82,
   "id": "74036184-d6b2-4fae-8328-8d334583cb69",
   "metadata": {},
   "outputs": [],
   "source": [
    "input_strings = ['Hanugna','','Yasawini','Ajay','Srinivas','','Gopi','Vishnu','Aravind']"
   ]
  },
  {
   "cell_type": "code",
   "execution_count": 80,
   "id": "f0f107e2-1ebb-4cbf-a2fc-966ec102f482",
   "metadata": {},
   "outputs": [],
   "source": [
    "# Requirement -- get one name that starts with 'A'"
   ]
  },
  {
   "cell_type": "code",
   "execution_count": 86,
   "id": "e65dd653-f882-46f2-9255-b20baed1364f",
   "metadata": {},
   "outputs": [
    {
     "data": {
      "text/plain": [
       "'A'"
      ]
     },
     "execution_count": 86,
     "metadata": {},
     "output_type": "execute_result"
    }
   ],
   "source": [
    "'Ajay'[0]"
   ]
  },
  {
   "cell_type": "code",
   "execution_count": 90,
   "id": "8afae5b6-492f-4f82-8c54-7c1ff145cb37",
   "metadata": {},
   "outputs": [
    {
     "ename": "IndexError",
     "evalue": "string index out of range",
     "output_type": "error",
     "traceback": [
      "\u001b[1;31m---------------------------------------------------------------------------\u001b[0m",
      "\u001b[1;31mIndexError\u001b[0m                                Traceback (most recent call last)",
      "Cell \u001b[1;32mIn[90], line 1\u001b[0m\n\u001b[1;32m----> 1\u001b[0m \u001b[38;5;124m'\u001b[39m\u001b[38;5;124m'\u001b[39m[\u001b[38;5;241m0\u001b[39m]\n",
      "\u001b[1;31mIndexError\u001b[0m: string index out of range"
     ]
    }
   ],
   "source": [
    "''[0]"
   ]
  },
  {
   "cell_type": "code",
   "execution_count": 102,
   "id": "0ad74545-8152-4b48-822d-177e946208bf",
   "metadata": {},
   "outputs": [
    {
     "name": "stdout",
     "output_type": "stream",
     "text": [
      "output_string: Ajay\n"
     ]
    }
   ],
   "source": [
    "output_string = ''\n",
    "for name in input_strings:\n",
    "    # print(name)\n",
    "    if len(name) > 0:\n",
    "        # print(name[0])\n",
    "        if name[0] == 'A':\n",
    "            output_string = name\n",
    "            # print(f\"Name with letter A is {name}\")\n",
    "    # print(f\"output_string: {output_string}\")\n",
    "    if len(output_string) > 0:\n",
    "        break\n",
    "## End of for loop\n",
    "print(f\"output_string: {output_string}\")"
   ]
  },
  {
   "cell_type": "code",
   "execution_count": 110,
   "id": "03b2d9c6-22c5-474e-a437-4f918285dfc1",
   "metadata": {},
   "outputs": [
    {
     "name": "stdout",
     "output_type": "stream",
     "text": [
      "['Hanugna', '', 'Yasawini', 'Ajay', 'Srinivas', '', 'Gopi', 'Vishnu', 'Aravind']\n"
     ]
    }
   ],
   "source": [
    "print(input_strings)"
   ]
  },
  {
   "cell_type": "code",
   "execution_count": 122,
   "id": "ae567c50-e019-43f1-80b2-8c402dd4cb48",
   "metadata": {},
   "outputs": [
    {
     "name": "stdout",
     "output_type": "stream",
     "text": [
      "Out of for loop. output_string: Ajay\n"
     ]
    }
   ],
   "source": [
    "output_string = ''\n",
    "for name in input_strings:\n",
    "    # print(name)\n",
    "    if len(name) > 0 and name[0] == 'A':\n",
    "        output_string = name\n",
    "    #\n",
    "    # print(f\"output_string: {output_string}\")\n",
    "    if len(output_string) > 0:\n",
    "        break\n",
    "    #\n",
    "## End of for loop\n",
    "print(f\"Out of for loop. output_string: {output_string}\")"
   ]
  },
  {
   "cell_type": "code",
   "execution_count": null,
   "id": "c41e4cc3-7dbf-4dfc-92b7-23f8255639b8",
   "metadata": {},
   "outputs": [],
   "source": []
  }
 ],
 "metadata": {
  "kernelspec": {
   "display_name": "Python 3 (ipykernel)",
   "language": "python",
   "name": "python3"
  },
  "language_info": {
   "codemirror_mode": {
    "name": "ipython",
    "version": 3
   },
   "file_extension": ".py",
   "mimetype": "text/x-python",
   "name": "python",
   "nbconvert_exporter": "python",
   "pygments_lexer": "ipython3",
   "version": "3.12.4"
  }
 },
 "nbformat": 4,
 "nbformat_minor": 5
}
