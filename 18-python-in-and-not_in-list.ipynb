{
 "cells": [
  {
   "cell_type": "code",
   "execution_count": 19,
   "id": "9a2b4567-27a9-441c-bb44-8d04ec847344",
   "metadata": {},
   "outputs": [],
   "source": [
    "input_string = 'When you believe you can do it, you will find a way. The moment you give up,\\\n",
    "you start looking for excuses.' "
   ]
  },
  {
   "cell_type": "code",
   "execution_count": 23,
   "id": "0c085ba7-e4fd-4ec7-97c2-c20c0ce2ba0a",
   "metadata": {},
   "outputs": [
    {
     "name": "stdout",
     "output_type": "stream",
     "text": [
      "When you believe you can do it, you will find a way. The moment you give up,you start looking for excuses.\n"
     ]
    }
   ],
   "source": [
    "print(input_string)"
   ]
  },
  {
   "cell_type": "code",
   "execution_count": 25,
   "id": "29b2ba4c-89f6-4fe6-bd0b-33e07755f59c",
   "metadata": {},
   "outputs": [],
   "source": [
    "# 'Hi Hello'\n",
    "\n",
    "# '''Hi\n",
    "# Hello'''"
   ]
  },
  {
   "cell_type": "code",
   "execution_count": 29,
   "id": "2fd52bcd-ceec-4521-a713-c5910cca63e0",
   "metadata": {},
   "outputs": [
    {
     "name": "stdout",
     "output_type": "stream",
     "text": [
      "['When', 'you', 'believe', 'you', 'can', 'do', 'it,', 'you', 'will', 'find', 'a', 'way.', 'The', 'moment', 'you', 'give', 'up,you', 'start', 'looking', 'for', 'excuses.']\n"
     ]
    }
   ],
   "source": [
    "input_list = input_string.split()  # list of strings\n",
    "print(input_list)"
   ]
  },
  {
   "cell_type": "code",
   "execution_count": 38,
   "id": "1f5ea2f6-27ff-46f1-9ab6-84f3d2e4e64d",
   "metadata": {},
   "outputs": [
    {
     "data": {
      "text/plain": [
       "True"
      ]
     },
     "execution_count": 38,
     "metadata": {},
     "output_type": "execute_result"
    }
   ],
   "source": [
    "'you' in ['When', 'you', 'think']"
   ]
  },
  {
   "cell_type": "code",
   "execution_count": 42,
   "id": "693dc0c5-befb-4379-9bc4-373a3fb64db5",
   "metadata": {},
   "outputs": [
    {
     "data": {
      "text/plain": [
       "True"
      ]
     },
     "execution_count": 42,
     "metadata": {},
     "output_type": "execute_result"
    }
   ],
   "source": [
    "'are' not in ['When', 'you', 'think']"
   ]
  },
  {
   "cell_type": "code",
   "execution_count": 61,
   "id": "ba4e6a91-17c7-4149-8426-307a38fc0e3c",
   "metadata": {},
   "outputs": [],
   "source": [
    "a = [1,2,3,4]"
   ]
  },
  {
   "cell_type": "code",
   "execution_count": 46,
   "id": "9823e65a-e84e-4650-afea-04473df491bd",
   "metadata": {},
   "outputs": [],
   "source": [
    "# Add only unique items to the list"
   ]
  },
  {
   "cell_type": "code",
   "execution_count": 69,
   "id": "533c7bf3-4930-40b4-9d17-096bf53cee46",
   "metadata": {},
   "outputs": [
    {
     "name": "stdin",
     "output_type": "stream",
     "text": [
      "Enter new value 45\n"
     ]
    },
    {
     "name": "stdout",
     "output_type": "stream",
     "text": [
      "Added new value to list a.\n"
     ]
    }
   ],
   "source": [
    "# new_value = 7\n",
    "new_value = int(input(\"Enter new value\"))\n",
    "if new_value in a:\n",
    "    print(f\"{new_value} exists and hence not adding to list\")\n",
    "else:\n",
    "    a.append(new_value)\n",
    "    print(\"Added new value to list a.\")"
   ]
  },
  {
   "cell_type": "code",
   "execution_count": 71,
   "id": "94b26777-298a-4d08-8383-40469185f9da",
   "metadata": {},
   "outputs": [
    {
     "data": {
      "text/plain": [
       "[1, 2, 3, 4, 45]"
      ]
     },
     "execution_count": 71,
     "metadata": {},
     "output_type": "execute_result"
    }
   ],
   "source": [
    "a"
   ]
  },
  {
   "cell_type": "code",
   "execution_count": 73,
   "id": "1df72570-f9ec-4a3d-b5b9-9e2c21bd90eb",
   "metadata": {},
   "outputs": [],
   "source": [
    "a = [1,2,3,4]"
   ]
  },
  {
   "cell_type": "code",
   "execution_count": 81,
   "id": "6ed05aa5-9561-46e9-97d1-60963aac6fb8",
   "metadata": {},
   "outputs": [
    {
     "name": "stdin",
     "output_type": "stream",
     "text": [
      "Enter new value 45\n"
     ]
    },
    {
     "name": "stdout",
     "output_type": "stream",
     "text": [
      "Added new_value: 45 to list a\n",
      "This is out of if block\n",
      "a: [1, 2, 3, 4, 45]\n"
     ]
    }
   ],
   "source": [
    "new_value = int(input(\"Enter new value\"))\n",
    "if new_value not in a:\n",
    "    a.append(new_value)\n",
    "    print(f\"Added new_value: {new_value} to list a\")\n",
    "#\n",
    "print(\"This is out of if block\")\n",
    "print(f\"a: {a}\")"
   ]
  },
  {
   "cell_type": "code",
   "execution_count": 85,
   "id": "2afde76b-57df-4053-811b-a8392b59d85c",
   "metadata": {},
   "outputs": [
    {
     "name": "stdout",
     "output_type": "stream",
     "text": [
      "['When', 'you', 'believe', 'you', 'can', 'do', 'it,', 'you', 'will', 'find', 'a', 'way.', 'The', 'moment', 'you', 'give', 'up,you', 'start', 'looking', 'for', 'excuses.']\n"
     ]
    }
   ],
   "source": [
    "print(input_list)"
   ]
  },
  {
   "cell_type": "code",
   "execution_count": 87,
   "id": "7e0657ba-5ab9-432f-8b0f-94e19c091b8d",
   "metadata": {},
   "outputs": [
    {
     "data": {
      "text/plain": [
       "21"
      ]
     },
     "execution_count": 87,
     "metadata": {},
     "output_type": "execute_result"
    }
   ],
   "source": [
    "len(input_list) # number of strings in list, including duplicate strings"
   ]
  },
  {
   "cell_type": "code",
   "execution_count": 89,
   "id": "c6518fd5-d7d7-4070-a604-40aec91aedd6",
   "metadata": {},
   "outputs": [],
   "source": [
    "# Get only unique items from input_list"
   ]
  },
  {
   "cell_type": "code",
   "execution_count": 93,
   "id": "5a57aac0-036b-47a9-b7e5-6e47131115f5",
   "metadata": {},
   "outputs": [
    {
     "name": "stdout",
     "output_type": "stream",
     "text": [
      "{'will', 'way.', 'can', 'moment', 'find', 'believe', 'The', 'up,you', 'start', 'you', 'When', 'give', 'excuses.', 'it,', 'do', 'a', 'for', 'looking'}\n"
     ]
    }
   ],
   "source": [
    "print(set(input_list))"
   ]
  },
  {
   "cell_type": "code",
   "execution_count": null,
   "id": "4986d11a-d256-48c9-9efb-a696312c405e",
   "metadata": {},
   "outputs": [],
   "source": []
  },
  {
   "cell_type": "code",
   "execution_count": 95,
   "id": "37c002b0-cf7e-42f6-b57f-fed5db8110c1",
   "metadata": {},
   "outputs": [
    {
     "name": "stdout",
     "output_type": "stream",
     "text": [
      "{'will', 'way.', 'can', 'moment', 'find', 'believe', 'The', 'up,you', 'start', 'you', 'When', 'give', 'excuses.', 'it,', 'do', 'a', 'for', 'looking'}\n"
     ]
    }
   ],
   "source": [
    "# To get unique strings from list\n",
    "print(set(input_list))\n",
    "# problem: set is unordered - output items will be placed randomly"
   ]
  },
  {
   "cell_type": "code",
   "execution_count": 97,
   "id": "08676c11-4b31-41c4-ab22-4a1a159086eb",
   "metadata": {},
   "outputs": [
    {
     "data": {
      "text/plain": [
       "{1, 2, 3, 4}"
      ]
     },
     "execution_count": 97,
     "metadata": {},
     "output_type": "execute_result"
    }
   ],
   "source": [
    "set([1,2,3,4,3,3,1])"
   ]
  },
  {
   "cell_type": "code",
   "execution_count": 99,
   "id": "0e2b625a-9134-4329-a008-ed1ef268c714",
   "metadata": {},
   "outputs": [
    {
     "name": "stdout",
     "output_type": "stream",
     "text": [
      "['When', 'you', 'believe', 'you', 'can', 'do', 'it,', 'you', 'will', 'find', 'a', 'way.', 'The', 'moment', 'you', 'give', 'up,you', 'start', 'looking', 'for', 'excuses.']\n"
     ]
    }
   ],
   "source": [
    "print(input_list)"
   ]
  },
  {
   "cell_type": "code",
   "execution_count": 101,
   "id": "9c7c4702-46bd-4db6-8bb7-db117d04a02c",
   "metadata": {},
   "outputs": [
    {
     "name": "stdout",
     "output_type": "stream",
     "text": [
      "word: When\n",
      "True\n",
      "unique_words: ['When']\n",
      "word: you\n",
      "True\n",
      "unique_words: ['When', 'you']\n",
      "word: believe\n",
      "True\n",
      "unique_words: ['When', 'you', 'believe']\n",
      "word: you\n",
      "False\n",
      "word: can\n",
      "True\n",
      "unique_words: ['When', 'you', 'believe', 'can']\n",
      "word: do\n",
      "True\n",
      "unique_words: ['When', 'you', 'believe', 'can', 'do']\n",
      "word: it,\n",
      "True\n",
      "unique_words: ['When', 'you', 'believe', 'can', 'do', 'it,']\n",
      "word: you\n",
      "False\n",
      "word: will\n",
      "True\n",
      "unique_words: ['When', 'you', 'believe', 'can', 'do', 'it,', 'will']\n",
      "word: find\n",
      "True\n",
      "unique_words: ['When', 'you', 'believe', 'can', 'do', 'it,', 'will', 'find']\n",
      "word: a\n",
      "True\n",
      "unique_words: ['When', 'you', 'believe', 'can', 'do', 'it,', 'will', 'find', 'a']\n",
      "word: way.\n",
      "True\n",
      "unique_words: ['When', 'you', 'believe', 'can', 'do', 'it,', 'will', 'find', 'a', 'way.']\n",
      "word: The\n",
      "True\n",
      "unique_words: ['When', 'you', 'believe', 'can', 'do', 'it,', 'will', 'find', 'a', 'way.', 'The']\n",
      "word: moment\n",
      "True\n",
      "unique_words: ['When', 'you', 'believe', 'can', 'do', 'it,', 'will', 'find', 'a', 'way.', 'The', 'moment']\n",
      "word: you\n",
      "False\n",
      "word: give\n",
      "True\n",
      "unique_words: ['When', 'you', 'believe', 'can', 'do', 'it,', 'will', 'find', 'a', 'way.', 'The', 'moment', 'give']\n",
      "word: up,you\n",
      "True\n",
      "unique_words: ['When', 'you', 'believe', 'can', 'do', 'it,', 'will', 'find', 'a', 'way.', 'The', 'moment', 'give', 'up,you']\n",
      "word: start\n",
      "True\n",
      "unique_words: ['When', 'you', 'believe', 'can', 'do', 'it,', 'will', 'find', 'a', 'way.', 'The', 'moment', 'give', 'up,you', 'start']\n",
      "word: looking\n",
      "True\n",
      "unique_words: ['When', 'you', 'believe', 'can', 'do', 'it,', 'will', 'find', 'a', 'way.', 'The', 'moment', 'give', 'up,you', 'start', 'looking']\n",
      "word: for\n",
      "True\n",
      "unique_words: ['When', 'you', 'believe', 'can', 'do', 'it,', 'will', 'find', 'a', 'way.', 'The', 'moment', 'give', 'up,you', 'start', 'looking', 'for']\n",
      "word: excuses.\n",
      "True\n",
      "unique_words: ['When', 'you', 'believe', 'can', 'do', 'it,', 'will', 'find', 'a', 'way.', 'The', 'moment', 'give', 'up,you', 'start', 'looking', 'for', 'excuses.']\n"
     ]
    }
   ],
   "source": [
    "unique_words = []\n",
    "for word in input_list:\n",
    "    print(f\"word: {word}\")\n",
    "    print(word not in unique_words)\n",
    "    if word not in unique_words:\n",
    "        unique_words.append(word)\n",
    "        print(f\"unique_words: {unique_words}\")\n",
    "#\n",
    "\n",
    "\n",
    "# Explanation\n",
    "# 'When' not in [] ---> True --> ['When']\n",
    "# 'you' not in ['When'] --> True --> ['When', 'you']\n",
    "# 'believe' not in ['When', 'you'] --> True --> ['When', 'you', 'believe']\n",
    "# 'you' not in ['When', 'you', 'believe'] --> False --> ['When', 'you', 'believe']\n"
   ]
  },
  {
   "cell_type": "code",
   "execution_count": 103,
   "id": "60a454f1-58c0-436f-be6d-714fdf302930",
   "metadata": {},
   "outputs": [
    {
     "data": {
      "text/plain": [
       "True"
      ]
     },
     "execution_count": 103,
     "metadata": {},
     "output_type": "execute_result"
    }
   ],
   "source": [
    "'When' not in []"
   ]
  },
  {
   "cell_type": "code",
   "execution_count": 105,
   "id": "906fb356-16f8-4f2f-b14f-60b31c8acccb",
   "metadata": {},
   "outputs": [],
   "source": [
    "# To filter unique words from list - using for loop\n",
    "unique_words = []\n",
    "for word in input_list:\n",
    "    if word not in unique_words:\n",
    "        unique_words.append(word)"
   ]
  },
  {
   "cell_type": "code",
   "execution_count": 117,
   "id": "baf3a05f-8cdc-47b4-b2c2-58fc46c55382",
   "metadata": {},
   "outputs": [
    {
     "name": "stdout",
     "output_type": "stream",
     "text": [
      "['When', 'you', 'believe', 'can', 'do', 'it,', 'will', 'find', 'a', 'way.', 'The', 'moment', 'give', 'up,you', 'start', 'looking', 'for', 'excuses.']\n"
     ]
    }
   ],
   "source": [
    "print(unique_words)"
   ]
  },
  {
   "cell_type": "code",
   "execution_count": null,
   "id": "f48e52b7-c759-4910-9001-0485fcda355c",
   "metadata": {},
   "outputs": [],
   "source": []
  },
  {
   "cell_type": "code",
   "execution_count": 3,
   "id": "2817efee-d49e-4c17-bca2-f54261c050c4",
   "metadata": {},
   "outputs": [],
   "source": [
    "input_string = 'When you believe you can do it, you will find a way. The moment you give up,\\\n",
    "you start looking for excuses.' \n",
    "input_list = input_string.split()"
   ]
  },
  {
   "cell_type": "code",
   "execution_count": 5,
   "id": "4880fa08-22fa-446e-ac37-f430264bb4c7",
   "metadata": {},
   "outputs": [
    {
     "name": "stdout",
     "output_type": "stream",
     "text": [
      "['When', 'you', 'believe', 'you', 'can', 'do', 'it,', 'you', 'will', 'find', 'a', 'way.', 'The', 'moment', 'you', 'give', 'up,you', 'start', 'looking', 'for', 'excuses.']\n"
     ]
    }
   ],
   "source": [
    "print(input_list)"
   ]
  },
  {
   "cell_type": "code",
   "execution_count": 119,
   "id": "6822a7b1-cafd-44d0-9f5d-bd0af4aa02e2",
   "metadata": {},
   "outputs": [],
   "source": [
    "unique_words = []"
   ]
  },
  {
   "cell_type": "code",
   "execution_count": 123,
   "id": "22ccd00e-fb77-4b16-ae8a-e7b878459e5d",
   "metadata": {},
   "outputs": [],
   "source": [
    "# To filter unique words from list - using list comprehension\n",
    "# [word for word in input_list if word not in unique_words]\n",
    "# ??"
   ]
  },
  {
   "cell_type": "code",
   "execution_count": null,
   "id": "bc52470d-9c3f-4fba-a52a-0e10bd2b93d1",
   "metadata": {},
   "outputs": [],
   "source": []
  }
 ],
 "metadata": {
  "kernelspec": {
   "display_name": "Python 3 (ipykernel)",
   "language": "python",
   "name": "python3"
  },
  "language_info": {
   "codemirror_mode": {
    "name": "ipython",
    "version": 3
   },
   "file_extension": ".py",
   "mimetype": "text/x-python",
   "name": "python",
   "nbconvert_exporter": "python",
   "pygments_lexer": "ipython3",
   "version": "3.12.4"
  }
 },
 "nbformat": 4,
 "nbformat_minor": 5
}
