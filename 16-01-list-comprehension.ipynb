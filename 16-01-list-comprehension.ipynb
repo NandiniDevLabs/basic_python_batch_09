{
 "cells": [
  {
   "cell_type": "markdown",
   "id": "8c3bec70",
   "metadata": {},
   "source": [
    "# List Comprehensions\n",
    "- List Comprehensions are a unique way of quickly creating a list with Python.\n",
    "- If you find yourself using a for loop along with .append() to create a list, List Comprehensions are a good alternative!\n"
   ]
  },
  {
   "cell_type": "code",
   "execution_count": 3,
   "id": "6e1f81af-fa0a-4c3c-8df2-58d4fd88a20d",
   "metadata": {},
   "outputs": [],
   "source": [
    "input_list =list(range(0,15))"
   ]
  },
  {
   "cell_type": "code",
   "execution_count": 5,
   "id": "303bfc7d-a682-4f3f-92b9-8b3a4f7050c6",
   "metadata": {},
   "outputs": [
    {
     "data": {
      "text/plain": [
       "[0, 1, 2, 3, 4, 5, 6, 7, 8, 9, 10, 11, 12, 13, 14]"
      ]
     },
     "execution_count": 5,
     "metadata": {},
     "output_type": "execute_result"
    }
   ],
   "source": [
    "input_list"
   ]
  },
  {
   "cell_type": "code",
   "execution_count": 7,
   "id": "306cd8eb-f3e7-4392-a927-19a3be2b095a",
   "metadata": {},
   "outputs": [
    {
     "ename": "TypeError",
     "evalue": "can only concatenate list (not \"int\") to list",
     "output_type": "error",
     "traceback": [
      "\u001b[1;31m---------------------------------------------------------------------------\u001b[0m",
      "\u001b[1;31mTypeError\u001b[0m                                 Traceback (most recent call last)",
      "Cell \u001b[1;32mIn[7], line 2\u001b[0m\n\u001b[0;32m      1\u001b[0m \u001b[38;5;66;03m# Add 2 to every item in the list\u001b[39;00m\n\u001b[1;32m----> 2\u001b[0m input_list \u001b[38;5;241m+\u001b[39m \u001b[38;5;241m2\u001b[39m\n",
      "\u001b[1;31mTypeError\u001b[0m: can only concatenate list (not \"int\") to list"
     ]
    }
   ],
   "source": [
    "# Add 2 to every item in the list\n",
    "input_list + 2  # will not work"
   ]
  },
  {
   "cell_type": "code",
   "execution_count": 9,
   "id": "1e039a90-40ba-4369-8bc5-5241a0c70604",
   "metadata": {},
   "outputs": [
    {
     "data": {
      "text/plain": [
       "[0, 1, 2, 3, 4, 5, 6, 7, 8, 9, 10, 11, 12, 13, 14]"
      ]
     },
     "execution_count": 9,
     "metadata": {},
     "output_type": "execute_result"
    }
   ],
   "source": [
    "input_list"
   ]
  },
  {
   "cell_type": "code",
   "execution_count": 25,
   "id": "96d034b5-65d2-4a18-88f0-37ae13888c00",
   "metadata": {},
   "outputs": [],
   "source": [
    "output_list = []\n",
    "for i in input_list:\n",
    "    # print(i)\n",
    "    output_list.append(i+2)\n",
    "    # print(output_list)\n",
    "# End of for loop"
   ]
  },
  {
   "cell_type": "code",
   "execution_count": 23,
   "id": "e9d96f36-d29e-4615-825d-76f00194e017",
   "metadata": {},
   "outputs": [
    {
     "name": "stdout",
     "output_type": "stream",
     "text": [
      "[2, 3, 4, 5, 6, 7, 8, 9, 10, 11, 12, 13, 14, 15, 16]\n"
     ]
    }
   ],
   "source": [
    "print(output_list)"
   ]
  },
  {
   "cell_type": "code",
   "execution_count": 27,
   "id": "909021ec-c4a0-4e4b-8554-4e99b30bf3d7",
   "metadata": {},
   "outputs": [
    {
     "data": {
      "text/plain": [
       "[0, 1, 2, 3, 4, 5, 6, 7, 8, 9, 10, 11, 12, 13, 14]"
      ]
     },
     "execution_count": 27,
     "metadata": {},
     "output_type": "execute_result"
    }
   ],
   "source": [
    "input_list"
   ]
  },
  {
   "cell_type": "code",
   "execution_count": 35,
   "id": "5ecdd004-d51e-48fd-bfaa-b9b1d3d7ba93",
   "metadata": {},
   "outputs": [
    {
     "name": "stdout",
     "output_type": "stream",
     "text": [
      "0\n",
      "1\n",
      "2\n",
      "3\n",
      "4\n",
      "5\n",
      "6\n",
      "7\n",
      "8\n",
      "9\n",
      "10\n",
      "11\n",
      "12\n",
      "13\n",
      "14\n"
     ]
    }
   ],
   "source": [
    "for i in input_list:\n",
    "    print(i)"
   ]
  },
  {
   "cell_type": "code",
   "execution_count": 31,
   "id": "29159edf-d484-4c80-9e9a-2ed0a42ec21e",
   "metadata": {},
   "outputs": [
    {
     "data": {
      "text/plain": [
       "[0, 1, 2, 3, 4, 5, 6, 7, 8, 9, 10, 11, 12, 13, 14]"
      ]
     },
     "execution_count": 31,
     "metadata": {},
     "output_type": "execute_result"
    }
   ],
   "source": [
    "[i for i in input_list]"
   ]
  },
  {
   "cell_type": "code",
   "execution_count": 37,
   "id": "59c76d89-1a76-4882-ab3a-5b9c8915c194",
   "metadata": {},
   "outputs": [
    {
     "name": "stdout",
     "output_type": "stream",
     "text": [
      "2\n",
      "3\n",
      "4\n",
      "5\n",
      "6\n",
      "7\n",
      "8\n",
      "9\n",
      "10\n",
      "11\n",
      "12\n",
      "13\n",
      "14\n",
      "15\n",
      "16\n"
     ]
    }
   ],
   "source": [
    "for i in input_list:\n",
    "    print(i+2)"
   ]
  },
  {
   "cell_type": "code",
   "execution_count": 33,
   "id": "f142ab58-dc65-4476-8019-a7642d574b1f",
   "metadata": {},
   "outputs": [
    {
     "data": {
      "text/plain": [
       "[2, 3, 4, 5, 6, 7, 8, 9, 10, 11, 12, 13, 14, 15, 16]"
      ]
     },
     "execution_count": 33,
     "metadata": {},
     "output_type": "execute_result"
    }
   ],
   "source": [
    "[i+2 for i in input_list]"
   ]
  },
  {
   "cell_type": "code",
   "execution_count": 39,
   "id": "e32cd78a-b211-48c3-b96b-745a0123630e",
   "metadata": {},
   "outputs": [
    {
     "data": {
      "text/plain": [
       "[0, 1, 2, 3, 4, 5, 6, 7, 8, 9, 10, 11, 12, 13, 14]"
      ]
     },
     "execution_count": 39,
     "metadata": {},
     "output_type": "execute_result"
    }
   ],
   "source": [
    "input_list"
   ]
  },
  {
   "cell_type": "code",
   "execution_count": 41,
   "id": "46751ef2-85d0-4701-9569-7fb8de8d559e",
   "metadata": {},
   "outputs": [
    {
     "data": {
      "text/plain": [
       "[0, 2, 4, 6, 8, 10, 12, 14, 16, 18, 20, 22, 24, 26, 28]"
      ]
     },
     "execution_count": 41,
     "metadata": {},
     "output_type": "execute_result"
    }
   ],
   "source": [
    "# Multiply each item with 2 and generate output list with those items\n",
    "[i*2 for i in input_list]"
   ]
  },
  {
   "cell_type": "code",
   "execution_count": 49,
   "id": "dd8d70f4-cf4d-4234-a349-dd8025ac45af",
   "metadata": {},
   "outputs": [
    {
     "data": {
      "text/plain": [
       "[0, 1, 2, 3, 4, 0, 1, 2, 3, 4, 0, 1, 2, 3, 4]"
      ]
     },
     "execution_count": 49,
     "metadata": {},
     "output_type": "execute_result"
    }
   ],
   "source": [
    "# Divide each item with 5 and generate output list using their reminder\n",
    "[i%5 for i in input_list]"
   ]
  },
  {
   "cell_type": "code",
   "execution_count": 51,
   "id": "0f16a39c-d061-422e-a252-50bfe2e8ba0c",
   "metadata": {},
   "outputs": [
    {
     "name": "stdout",
     "output_type": "stream",
     "text": [
      "[0, 1, 2, 3, 4, 0, 1, 2, 3, 4, 0, 1, 2, 3, 4]\n"
     ]
    }
   ],
   "source": [
    "output_list = []\n",
    "for i in input_list:\n",
    "    output_list.append(i%5)\n",
    "#\n",
    "print(output_list)"
   ]
  },
  {
   "cell_type": "code",
   "execution_count": 53,
   "id": "656c8201-be4a-4873-9b6b-e638e36368d6",
   "metadata": {},
   "outputs": [
    {
     "name": "stdout",
     "output_type": "stream",
     "text": [
      "[0, 1, 2, 3, 4, 0, 1, 2, 3, 4, 0, 1, 2, 3, 4]\n"
     ]
    }
   ],
   "source": [
    "output_list = [i%5 for i in input_list]\n",
    "print(output_list)"
   ]
  },
  {
   "cell_type": "code",
   "execution_count": 62,
   "id": "a8199b5f-258e-47a0-b641-3f17217cb8d5",
   "metadata": {},
   "outputs": [],
   "source": [
    "# Filter even number from input list\n",
    "# Even number - number divisible by 2 -- n%2 == 0\n",
    "# Odd number - number not divisble by 2 -- n%2 != 0    |||    n%2 == 1"
   ]
  },
  {
   "cell_type": "code",
   "execution_count": 60,
   "id": "bd84da36-ca0d-47d4-b76b-7425a59678ed",
   "metadata": {},
   "outputs": [
    {
     "data": {
      "text/plain": [
       "[0, 1, 2, 3, 4, 5, 6, 7, 8, 9, 10, 11, 12, 13, 14]"
      ]
     },
     "execution_count": 60,
     "metadata": {},
     "output_type": "execute_result"
    }
   ],
   "source": [
    "input_list"
   ]
  },
  {
   "cell_type": "code",
   "execution_count": 86,
   "id": "ae42c46f-6299-4441-bda0-9d6041100694",
   "metadata": {},
   "outputs": [
    {
     "name": "stdout",
     "output_type": "stream",
     "text": [
      "[0, 2, 4, 6, 8, 10, 12, 14]\n"
     ]
    }
   ],
   "source": [
    "even_list = []\n",
    "for i in input_list:\n",
    "    # print(f'i: {i}')\n",
    "    if i%2 == 0:\n",
    "        # print(f'{i} is even')\n",
    "        even_list.append(i)\n",
    "        # print(f'even_list: {even_list}')\n",
    "    # End of if\n",
    "# End of for loop\n",
    "print(even_list)"
   ]
  },
  {
   "cell_type": "code",
   "execution_count": 88,
   "id": "de2c80a4-80d6-4a54-aa7a-ba1432f960a4",
   "metadata": {},
   "outputs": [
    {
     "data": {
      "text/plain": [
       "[0, 1, 2, 3, 4, 5, 6, 7, 8, 9, 10, 11, 12, 13, 14]"
      ]
     },
     "execution_count": 88,
     "metadata": {},
     "output_type": "execute_result"
    }
   ],
   "source": [
    "input_list"
   ]
  },
  {
   "cell_type": "code",
   "execution_count": 90,
   "id": "b634b981-cff9-403b-aaa2-6afd735e2530",
   "metadata": {},
   "outputs": [],
   "source": [
    "output_list = []\n",
    "for i in input_list:\n",
    "    if i%2 == 0:\n",
    "        output_list.append(i)\n",
    "    #\n",
    "#"
   ]
  },
  {
   "cell_type": "code",
   "execution_count": 92,
   "id": "6d1b3cb3-d680-4ad4-ade5-3889fa7af503",
   "metadata": {},
   "outputs": [
    {
     "name": "stdout",
     "output_type": "stream",
     "text": [
      "[0, 2, 4, 6, 8, 10, 12, 14]\n"
     ]
    }
   ],
   "source": [
    "print(output_list)"
   ]
  },
  {
   "cell_type": "code",
   "execution_count": 96,
   "id": "146f340c-308d-42d0-b356-9c9ea138e4f2",
   "metadata": {},
   "outputs": [
    {
     "data": {
      "text/plain": [
       "[0, 2, 4, 6, 8, 10, 12, 14]"
      ]
     },
     "execution_count": 96,
     "metadata": {},
     "output_type": "execute_result"
    }
   ],
   "source": [
    "[i for i in input_list if i%2 == 0]"
   ]
  },
  {
   "cell_type": "code",
   "execution_count": 98,
   "id": "ffd3804e-0617-4582-a1ec-9d4b331ffea7",
   "metadata": {},
   "outputs": [
    {
     "data": {
      "text/plain": [
       "[0, 1, 2, 3, 4, 5, 6, 7, 8, 9, 10, 11, 12, 13, 14]"
      ]
     },
     "execution_count": 98,
     "metadata": {},
     "output_type": "execute_result"
    }
   ],
   "source": [
    "input_list"
   ]
  },
  {
   "cell_type": "code",
   "execution_count": 104,
   "id": "479b4c69-5936-4df6-a769-0ec5acb87b9a",
   "metadata": {},
   "outputs": [
    {
     "data": {
      "text/plain": [
       "[1, 3, 5, 7, 9, 11, 13]"
      ]
     },
     "execution_count": 104,
     "metadata": {},
     "output_type": "execute_result"
    }
   ],
   "source": [
    "# To filter odd numbers from input_list\n",
    "[i for i in input_list if i%2 == 1]"
   ]
  },
  {
   "cell_type": "code",
   "execution_count": 106,
   "id": "6b380a54-c831-44e9-9571-3981821c6b90",
   "metadata": {},
   "outputs": [],
   "source": [
    "# Create output list from input_list where even number is marked as 'Even' and odd number is marked as 'odd'\n",
    "\n",
    "# input_list = [0,1,2,3,4,5,..]\n",
    "# output_list = ['Even', 'Odd', 'Even', 'Odd', ...]\n",
    "\n",
    "# Even numbers --> 0, 2, 4, 6, 8, ...\n",
    "# Odd numbers --> 1, 3, 5, 7, .."
   ]
  },
  {
   "cell_type": "code",
   "execution_count": 116,
   "id": "e8ee1417-379b-4b44-8778-d2f51d1c535c",
   "metadata": {},
   "outputs": [
    {
     "name": "stdout",
     "output_type": "stream",
     "text": [
      "['Even', 'Odd', 'Even', 'Odd', 'Even', 'Odd', 'Even', 'Odd', 'Even', 'Odd', 'Even', 'Odd', 'Even', 'Odd', 'Even']\n"
     ]
    }
   ],
   "source": [
    "output_list = []\n",
    "for i in input_list:\n",
    "    if i%2 == 0:\n",
    "        output_list.append('Even')\n",
    "    else:\n",
    "        output_list.append('Odd')\n",
    "# End of for loop\n",
    "print(output_list)"
   ]
  },
  {
   "cell_type": "code",
   "execution_count": 118,
   "id": "e9347829-a467-4ba8-bb43-ea66e0dd7bc2",
   "metadata": {},
   "outputs": [],
   "source": [
    "# Ternary operator -- Explanation\n",
    "\n",
    "# Ex : Given a number --> if it is even, print 'Even', else print 'Odd'"
   ]
  },
  {
   "cell_type": "code",
   "execution_count": 124,
   "id": "7dec0d73-bf85-4727-ad4b-7b8d97bfd1a3",
   "metadata": {},
   "outputs": [
    {
     "name": "stdout",
     "output_type": "stream",
     "text": [
      "Even\n"
     ]
    }
   ],
   "source": [
    "i = 10\n",
    "if i%2 == 0:\n",
    "    print('Even')\n",
    "else:\n",
    "    print('Odd')"
   ]
  },
  {
   "cell_type": "code",
   "execution_count": 130,
   "id": "d3d65674-0af2-4266-9834-0efd73bd7bca",
   "metadata": {},
   "outputs": [
    {
     "data": {
      "text/plain": [
       "'Even'"
      ]
     },
     "execution_count": 130,
     "metadata": {},
     "output_type": "execute_result"
    }
   ],
   "source": [
    "# Ternary operator \n",
    "'Even' if i%2 == 0 else 'Odd'"
   ]
  },
  {
   "cell_type": "code",
   "execution_count": null,
   "id": "cc7d9f9c-4b4d-4866-bdbc-d500c46a7056",
   "metadata": {},
   "outputs": [],
   "source": [
    "# If bill < 5000 --> 5% discount- 0.05,  else --> 10% discount -- 0.1"
   ]
  },
  {
   "cell_type": "code",
   "execution_count": 158,
   "id": "1eece3f3-229d-46d6-9169-7f9ccc87d5b5",
   "metadata": {},
   "outputs": [],
   "source": [
    "# bill = 5678\n",
    "bill = 2345"
   ]
  },
  {
   "cell_type": "code",
   "execution_count": 160,
   "id": "8ca95773-e43c-46a6-9a15-b6c44e125ec8",
   "metadata": {},
   "outputs": [],
   "source": [
    "if bill < 5000:\n",
    "    discount = 0.05\n",
    "else:\n",
    "    discount = 0.1"
   ]
  },
  {
   "cell_type": "code",
   "execution_count": 162,
   "id": "966a57f9-25d7-4bf5-98a1-d4b271cc5880",
   "metadata": {},
   "outputs": [
    {
     "name": "stdout",
     "output_type": "stream",
     "text": [
      "0.05\n"
     ]
    }
   ],
   "source": [
    "print(discount)"
   ]
  },
  {
   "cell_type": "code",
   "execution_count": 164,
   "id": "561caf16-e7cd-4aa3-b0e2-26fe3e6ccd20",
   "metadata": {},
   "outputs": [],
   "source": [
    "discount = 0.05 if bill<5000 else 0.1    # using Ternary operator"
   ]
  },
  {
   "cell_type": "code",
   "execution_count": 166,
   "id": "80a387be-6910-410b-8449-68f347fdf143",
   "metadata": {},
   "outputs": [
    {
     "name": "stdout",
     "output_type": "stream",
     "text": [
      "0.05\n"
     ]
    }
   ],
   "source": [
    "print(discount)"
   ]
  },
  {
   "cell_type": "code",
   "execution_count": 168,
   "id": "10a8681e-9574-472c-b036-3b3d117e6f76",
   "metadata": {},
   "outputs": [],
   "source": [
    "# Using list comprehension\n",
    "# Create output list from input_list where even number is marked as 'Even' and odd number is marked as 'odd'\n",
    "\n",
    "# input_list = [0,1,2,3,4,5,..]\n",
    "# output_list = ['Even', 'Odd', 'Even', 'Odd', ...]\n",
    "\n",
    "# Even numbers --> 0, 2, 4, 6, 8, ...\n",
    "# Odd numbers --> 1, 3, 5, 7, .."
   ]
  },
  {
   "cell_type": "code",
   "execution_count": 170,
   "id": "668b3470-9a25-426b-b408-35cb97cf9526",
   "metadata": {},
   "outputs": [
    {
     "data": {
      "text/plain": [
       "[0, 1, 2, 3, 4, 5, 6, 7, 8, 9, 10, 11, 12, 13, 14]"
      ]
     },
     "execution_count": 170,
     "metadata": {},
     "output_type": "execute_result"
    }
   ],
   "source": [
    "input_list"
   ]
  },
  {
   "cell_type": "code",
   "execution_count": 179,
   "id": "84874f1b-67d4-4afd-80f2-f1b165a11041",
   "metadata": {},
   "outputs": [],
   "source": [
    "# i = 3\n",
    "i = 4\n",
    "# i = 8"
   ]
  },
  {
   "cell_type": "code",
   "execution_count": 181,
   "id": "46b1e969-3b2a-44dc-a9a1-0540688b0046",
   "metadata": {},
   "outputs": [
    {
     "data": {
      "text/plain": [
       "'Even'"
      ]
     },
     "execution_count": 181,
     "metadata": {},
     "output_type": "execute_result"
    }
   ],
   "source": [
    "'Even' if i%2==0 else 'Odd'"
   ]
  },
  {
   "cell_type": "code",
   "execution_count": 183,
   "id": "e3300857-c3a2-40e7-a2dc-f19c16f7fcfe",
   "metadata": {},
   "outputs": [
    {
     "data": {
      "text/plain": [
       "['Even',\n",
       " 'Odd',\n",
       " 'Even',\n",
       " 'Odd',\n",
       " 'Even',\n",
       " 'Odd',\n",
       " 'Even',\n",
       " 'Odd',\n",
       " 'Even',\n",
       " 'Odd',\n",
       " 'Even',\n",
       " 'Odd',\n",
       " 'Even',\n",
       " 'Odd',\n",
       " 'Even']"
      ]
     },
     "execution_count": 183,
     "metadata": {},
     "output_type": "execute_result"
    }
   ],
   "source": [
    "['Even' if i%2==0 else 'Odd' for i in input_list]"
   ]
  },
  {
   "cell_type": "code",
   "execution_count": 185,
   "id": "720c4a97-7a73-4e34-a60e-8bebcfd88559",
   "metadata": {},
   "outputs": [
    {
     "name": "stdout",
     "output_type": "stream",
     "text": [
      "['Even', 'Odd', 'Even', 'Odd', 'Even', 'Odd', 'Even', 'Odd', 'Even', 'Odd', 'Even', 'Odd', 'Even', 'Odd', 'Even']\n"
     ]
    }
   ],
   "source": [
    "output_list = ['Even' if i%2==0 else 'Odd' for i in input_list]\n",
    "print(output_list)"
   ]
  },
  {
   "cell_type": "code",
   "execution_count": 187,
   "id": "4433c329-5497-4068-b598-cf160a1e6162",
   "metadata": {},
   "outputs": [
    {
     "data": {
      "text/plain": [
       "[0, 1, 2, 3, 4, 5, 6, 7, 8, 9, 10, 11, 12, 13, 14]"
      ]
     },
     "execution_count": 187,
     "metadata": {},
     "output_type": "execute_result"
    }
   ],
   "source": [
    "input_list"
   ]
  },
  {
   "cell_type": "code",
   "execution_count": 189,
   "id": "610c906a-fffb-47f6-a3c8-a43f1b12a321",
   "metadata": {},
   "outputs": [
    {
     "name": "stdout",
     "output_type": "stream",
     "text": [
      "['Even', 'Odd', 'Even', 'Odd', 'Even', 'Odd', 'Even', 'Odd', 'Even', 'Odd', 'Even', 'Odd', 'Even', 'Odd', 'Even']\n"
     ]
    }
   ],
   "source": [
    "output_list = ['Odd' if i%2==1 else 'Even' for i in input_list]\n",
    "print(output_list)"
   ]
  },
  {
   "cell_type": "code",
   "execution_count": 192,
   "id": "4965dbcc-01a7-4673-9f70-6f521782760f",
   "metadata": {},
   "outputs": [],
   "source": [
    "# Given input string --> Do not stop when you are tired. Stop when you are done\n",
    "# Convert it to List\n",
    "# Check the length of each word\n",
    "# Generate output list in the below format\n",
    "# ['Do-2', 'not-3', 'stop-4', 'when-4', 'you-3', 'are-3', 'tired-5', ..]\n",
    "\n",
    "\n",
    "# With and without list comprehension"
   ]
  },
  {
   "cell_type": "code",
   "execution_count": null,
   "id": "a1eb6c70-687f-4cd2-8655-b7907bbf0a69",
   "metadata": {},
   "outputs": [],
   "source": []
  },
  {
   "cell_type": "code",
   "execution_count": null,
   "id": "1e08e18e-4a39-4e86-b9de-261f04242b39",
   "metadata": {},
   "outputs": [],
   "source": []
  },
  {
   "cell_type": "code",
   "execution_count": null,
   "id": "41d6e6d9",
   "metadata": {},
   "outputs": [],
   "source": []
  }
 ],
 "metadata": {
  "kernelspec": {
   "display_name": "Python 3 (ipykernel)",
   "language": "python",
   "name": "python3"
  },
  "language_info": {
   "codemirror_mode": {
    "name": "ipython",
    "version": 3
   },
   "file_extension": ".py",
   "mimetype": "text/x-python",
   "name": "python",
   "nbconvert_exporter": "python",
   "pygments_lexer": "ipython3",
   "version": "3.12.4"
  }
 },
 "nbformat": 4,
 "nbformat_minor": 5
}
