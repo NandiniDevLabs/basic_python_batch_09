{
 "cells": [
  {
   "cell_type": "markdown",
   "metadata": {},
   "source": [
    "## Python programming\n",
    "Discussed in this course is 60% of python from real-time usage perspective"
   ]
  },
  {
   "cell_type": "markdown",
   "metadata": {},
   "source": [
    "# Python programming - Basic Python\n",
    "1. Variables and Datatypes\n",
    "2. Operators\n",
    "3. Conditional statements - if, elif, else\n",
    "4. Jupyter Notebook, Anaconda Prompt\n",
    "5. Python Data Structures - list, tuple, set, dictionary, list comprehension, ...\n",
    "6. Python loops - for and while, nested-for loop and nested-while loop\n",
    "7. Loop Control Statements - break and continue\n",
    "8. String Manipulation\n",
    "9. Functions \n",
    "10. Lambda functions, enumerate, other python built-in functions"
   ]
  },
  {
   "cell_type": "markdown",
   "metadata": {},
   "source": [
    "# Python programming - Advanced Python\n",
    "1. Modules\n",
    "2. File handling\n",
    "3. Python standard library - math, datetime, os, ..\n",
    "4. Exception \n",
    "5. Iterator\n",
    "6. Generator\n",
    "7. Decorator"
   ]
  },
  {
   "cell_type": "markdown",
   "metadata": {},
   "source": [
    "# Python programming - OOPs\n",
    "1. Class and Object\n",
    "2. Class - attributes and methods\n",
    "3. Object - State and behaviour\n",
    "4. Inheritance - Single, multiple, hierarchical, multi-level, hybrid\n",
    "5. Encapsulation\n",
    "6. Abstraction\n",
    "7. Interface"
   ]
  },
  {
   "cell_type": "markdown",
   "metadata": {},
   "source": [
    "# Copy concept\n",
    "- Deep copy and Shallow copy"
   ]
  }
 ],
 "metadata": {
  "kernelspec": {
   "display_name": "Python 3",
   "language": "python",
   "name": "python3"
  },
  "language_info": {
   "codemirror_mode": {
    "name": "ipython",
    "version": 3
   },
   "file_extension": ".py",
   "mimetype": "text/x-python",
   "name": "python",
   "nbconvert_exporter": "python",
   "pygments_lexer": "ipython3",
   "version": "3.11.9"
  }
 },
 "nbformat": 4,
 "nbformat_minor": 2
}
