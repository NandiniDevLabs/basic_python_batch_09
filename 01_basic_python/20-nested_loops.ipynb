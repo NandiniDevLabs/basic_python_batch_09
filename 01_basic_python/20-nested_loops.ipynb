{
 "cells": [
  {
   "cell_type": "code",
   "execution_count": 9,
   "id": "e5d67d0c-3032-4990-b23b-e5128bb320f7",
   "metadata": {},
   "outputs": [
    {
     "name": "stdout",
     "output_type": "stream",
     "text": [
      "====== Outer For Loop ======\n",
      "i:3\n",
      "--- Inner For Loop ---\n",
      "i:3 j:0\n",
      "3\n",
      "--- Inner For Loop ---\n",
      "i:3 j:1\n",
      "4\n",
      "--- Inner For Loop ---\n",
      "i:3 j:2\n",
      "5\n",
      "====== Outer For Loop ======\n",
      "i:4\n",
      "--- Inner For Loop ---\n",
      "i:4 j:0\n",
      "4\n",
      "--- Inner For Loop ---\n",
      "i:4 j:1\n",
      "5\n",
      "--- Inner For Loop ---\n",
      "i:4 j:2\n",
      "6\n",
      "--- Inner For Loop ---\n",
      "i:4 j:3\n",
      "7\n",
      "====== Outer For Loop ======\n",
      "i:5\n",
      "--- Inner For Loop ---\n",
      "i:5 j:0\n",
      "5\n",
      "--- Inner For Loop ---\n",
      "i:5 j:1\n",
      "6\n",
      "--- Inner For Loop ---\n",
      "i:5 j:2\n",
      "7\n",
      "--- Inner For Loop ---\n",
      "i:5 j:3\n",
      "8\n",
      "--- Inner For Loop ---\n",
      "i:5 j:4\n",
      "9\n"
     ]
    }
   ],
   "source": [
    "for i in [3,4,5]:\n",
    "    print(\"====== Outer For Loop ======\")\n",
    "    print(f\"i:{i}\")\n",
    "    for j in range(i):\n",
    "        print(\"--- Inner For Loop ---\")\n",
    "        print(f\"i:{i} j:{j}\")\n",
    "        print(i+j)\n",
    "    # End of inner for loop\n",
    "# End of outer for loop"
   ]
  },
  {
   "cell_type": "code",
   "execution_count": 21,
   "id": "d57b2876-4b6b-4957-8d52-91b8ed573a55",
   "metadata": {},
   "outputs": [
    {
     "data": {
      "text/plain": [
       "[-3, -4, -5, -6, -7, -8, -9]"
      ]
     },
     "execution_count": 21,
     "metadata": {},
     "output_type": "execute_result"
    }
   ],
   "source": [
    "list(range(-3,-10,-1))"
   ]
  },
  {
   "cell_type": "code",
   "execution_count": 27,
   "id": "0e6827a8-5162-45f4-8176-82f05f3c1157",
   "metadata": {},
   "outputs": [
    {
     "name": "stdout",
     "output_type": "stream",
     "text": [
      "====== Outer For Loop ======\n",
      "i:-3\n",
      "Range: [-3, -4, -5, -6, -7, -8, -9]\n",
      "--- Inner For Loop ---\n",
      "i:-3 j:-3\n",
      "-6\n",
      "--- Inner For Loop ---\n",
      "i:-3 j:-4\n",
      "-7\n",
      "--- Inner For Loop ---\n",
      "i:-3 j:-5\n",
      "-8\n",
      "--- Inner For Loop ---\n",
      "i:-3 j:-6\n",
      "-9\n",
      "--- Inner For Loop ---\n",
      "i:-3 j:-7\n",
      "-10\n",
      "--- Inner For Loop ---\n",
      "i:-3 j:-8\n",
      "-11\n",
      "--- Inner For Loop ---\n",
      "i:-3 j:-9\n",
      "-12\n",
      "====== Outer For Loop ======\n",
      "i:-4\n",
      "Range: [-4, -5, -6, -7, -8, -9]\n",
      "--- Inner For Loop ---\n",
      "i:-4 j:-4\n",
      "-8\n",
      "--- Inner For Loop ---\n",
      "i:-4 j:-5\n",
      "-9\n",
      "--- Inner For Loop ---\n",
      "i:-4 j:-6\n",
      "-10\n",
      "--- Inner For Loop ---\n",
      "i:-4 j:-7\n",
      "-11\n",
      "--- Inner For Loop ---\n",
      "i:-4 j:-8\n",
      "-12\n",
      "--- Inner For Loop ---\n",
      "i:-4 j:-9\n",
      "-13\n",
      "====== Outer For Loop ======\n",
      "i:-5\n",
      "Range: [-5, -6, -7, -8, -9]\n",
      "--- Inner For Loop ---\n",
      "i:-5 j:-5\n",
      "-10\n",
      "--- Inner For Loop ---\n",
      "i:-5 j:-6\n",
      "-11\n",
      "--- Inner For Loop ---\n",
      "i:-5 j:-7\n",
      "-12\n",
      "--- Inner For Loop ---\n",
      "i:-5 j:-8\n",
      "-13\n",
      "--- Inner For Loop ---\n",
      "i:-5 j:-9\n",
      "-14\n"
     ]
    }
   ],
   "source": [
    "for i in [-3, -4, -5]:\n",
    "    print(\"====== Outer For Loop ======\")\n",
    "    print(f\"i:{i}\")\n",
    "    print(f\"Range: {list(range(i,-10,-1))}\")\n",
    "    for j in range(i,-10,-1):\n",
    "        print(\"--- Inner For Loop ---\")\n",
    "        print(f\"i:{i} j:{j}\")\n",
    "        print(i+j)\n",
    "    # End of inner for loop\n",
    "# End of outer for loop"
   ]
  },
  {
   "cell_type": "code",
   "execution_count": null,
   "id": "7783b09b-f537-463d-81f3-049aa50d8a34",
   "metadata": {},
   "outputs": [],
   "source": []
  },
  {
   "cell_type": "code",
   "execution_count": 29,
   "id": "40fbba89-94f9-4436-a91e-a8d86c3a5c19",
   "metadata": {},
   "outputs": [],
   "source": [
    "in_nums = list(range(11, 21))"
   ]
  },
  {
   "cell_type": "code",
   "execution_count": 31,
   "id": "5447764a-3168-4478-b1d2-bc0941583d7e",
   "metadata": {},
   "outputs": [
    {
     "name": "stdout",
     "output_type": "stream",
     "text": [
      "[11, 12, 13, 14, 15, 16, 17, 18, 19, 20]\n"
     ]
    }
   ],
   "source": [
    "print(in_nums)"
   ]
  },
  {
   "cell_type": "code",
   "execution_count": 33,
   "id": "ae9a0487-551c-4d77-8c05-b6929c61b33d",
   "metadata": {},
   "outputs": [
    {
     "data": {
      "text/plain": [
       "[(0, 11),\n",
       " (1, 12),\n",
       " (2, 13),\n",
       " (3, 14),\n",
       " (4, 15),\n",
       " (5, 16),\n",
       " (6, 17),\n",
       " (7, 18),\n",
       " (8, 19),\n",
       " (9, 20)]"
      ]
     },
     "execution_count": 33,
     "metadata": {},
     "output_type": "execute_result"
    }
   ],
   "source": [
    "list(enumerate(in_nums))"
   ]
  },
  {
   "cell_type": "code",
   "execution_count": 37,
   "id": "f4ecfe20-e5c9-4ac1-93ee-c5a63e999f73",
   "metadata": {},
   "outputs": [
    {
     "name": "stdout",
     "output_type": "stream",
     "text": [
      "(0, 11) (1, 12) (2, 13) (3, 14) (4, 15) (5, 16) (6, 17) (7, 18) (8, 19) (9, 20) "
     ]
    }
   ],
   "source": [
    "for x in enumerate(in_nums):\n",
    "    print(x, end=' ')"
   ]
  },
  {
   "cell_type": "code",
   "execution_count": 41,
   "id": "183bddd8-dd8b-42f1-ab82-72ffde3c2cc8",
   "metadata": {},
   "outputs": [
    {
     "name": "stdout",
     "output_type": "stream",
     "text": [
      "i: 0  num: 11\n",
      "i: 1  num: 12\n",
      "i: 2  num: 13\n",
      "i: 3  num: 14\n",
      "i: 4  num: 15\n",
      "i: 5  num: 16\n",
      "i: 6  num: 17\n",
      "i: 7  num: 18\n",
      "i: 8  num: 19\n",
      "i: 9  num: 20\n"
     ]
    }
   ],
   "source": [
    "for i, num in enumerate(in_nums):\n",
    "    print(f'i: {i}  num: {num}')"
   ]
  },
  {
   "cell_type": "code",
   "execution_count": 43,
   "id": "d966baf5-2108-4abf-be04-37d5b268dca1",
   "metadata": {},
   "outputs": [
    {
     "data": {
      "text/plain": [
       "[]"
      ]
     },
     "execution_count": 43,
     "metadata": {},
     "output_type": "execute_result"
    }
   ],
   "source": [
    "list(range(0))"
   ]
  },
  {
   "cell_type": "code",
   "execution_count": 45,
   "id": "9bde08c9-fc96-4522-bb3b-72dbb73ce50a",
   "metadata": {},
   "outputs": [
    {
     "name": "stdout",
     "output_type": "stream",
     "text": [
      "[1, 2, 3, 4, 5]\n"
     ]
    }
   ],
   "source": [
    "in_nums = list(range(1,6))\n",
    "print(in_nums)"
   ]
  },
  {
   "cell_type": "code",
   "execution_count": 71,
   "id": "03cc4171",
   "metadata": {},
   "outputs": [
    {
     "name": "stdout",
     "output_type": "stream",
     "text": [
      "0 \n",
      "0 1 \n",
      "0 1 2 \n",
      "0 1 2 3 \n",
      "0 1 2 3 4 \n"
     ]
    }
   ],
   "source": [
    "for num in in_nums:\n",
    "    # print(\"===== outer loop\")\n",
    "    # print(f\"num: {num}\")\n",
    "    # print(list(range(num)))\n",
    "    for x in range(num):\n",
    "        # print(\"---inner loop\")\n",
    "        print(x, end =' ')\n",
    "    #\n",
    "    print('')"
   ]
  },
  {
   "cell_type": "code",
   "execution_count": 49,
   "id": "22dfbb8b",
   "metadata": {},
   "outputs": [
    {
     "data": {
      "text/plain": [
       "[0]"
      ]
     },
     "execution_count": 49,
     "metadata": {},
     "output_type": "execute_result"
    }
   ],
   "source": [
    "list(range(1))"
   ]
  },
  {
   "cell_type": "code",
   "execution_count": null,
   "id": "b97bb2b7",
   "metadata": {},
   "outputs": [],
   "source": []
  },
  {
   "cell_type": "code",
   "execution_count": 51,
   "id": "f7235908-ccb0-49ce-b46a-3487b6a1a710",
   "metadata": {},
   "outputs": [
    {
     "name": "stdout",
     "output_type": "stream",
     "text": [
      "[1, 2, 3, 4, 5]\n"
     ]
    }
   ],
   "source": [
    "in_nums = list(range(1,6))\n",
    "print(in_nums)"
   ]
  },
  {
   "cell_type": "code",
   "execution_count": 73,
   "id": "4f9ffe21-85ef-4c2c-afd8-e6f9b77c84d1",
   "metadata": {},
   "outputs": [
    {
     "name": "stdout",
     "output_type": "stream",
     "text": [
      "0 \n",
      "0 1 \n",
      "0 1 2 \n",
      "0 1 2 3 \n",
      "0 1 2 3 4 \n"
     ]
    }
   ],
   "source": [
    "for i, num in enumerate(in_nums):\n",
    "    for x in range(num):\n",
    "        print(x, end =' ')\n",
    "    # End of inner for loop\n",
    "    print('')\n",
    "# End of outer for loop"
   ]
  },
  {
   "cell_type": "code",
   "execution_count": 75,
   "id": "085dfbe2-f2f8-47ea-8d47-9d7944b30ef0",
   "metadata": {},
   "outputs": [
    {
     "name": "stdout",
     "output_type": "stream",
     "text": [
      "* \n",
      "* * \n",
      "* * * \n",
      "* * * * \n",
      "* * * * * \n"
     ]
    }
   ],
   "source": [
    "for i, num in enumerate(in_nums):\n",
    "    for x in range(num):\n",
    "        print('*', end =' ')\n",
    "    # End of inner for loop\n",
    "    print('')\n",
    "# End of outer for loop"
   ]
  },
  {
   "cell_type": "code",
   "execution_count": 77,
   "id": "4c7347c7-f018-4030-be2a-340735f305c5",
   "metadata": {},
   "outputs": [
    {
     "name": "stdout",
     "output_type": "stream",
     "text": [
      "*\n",
      "**\n",
      "***\n",
      "****\n",
      "*****\n"
     ]
    }
   ],
   "source": [
    "for i, num in enumerate(in_nums):\n",
    "    for x in range(num):\n",
    "        print('*', end ='')\n",
    "    # End of inner for loop\n",
    "    print('')\n",
    "# End of outer for loop"
   ]
  },
  {
   "cell_type": "code",
   "execution_count": 93,
   "id": "be20ac92",
   "metadata": {},
   "outputs": [
    {
     "name": "stdout",
     "output_type": "stream",
     "text": [
      "====== Outer loop\n",
      "i:5\n",
      "-- inner loop\n",
      "j:0\n",
      "-- inner loop\n",
      "j:1\n",
      "-- inner loop\n",
      "j:2\n",
      "-- inner loop\n",
      "j:3\n",
      "-- inner loop\n",
      "j:4\n",
      "====== Outer loop\n",
      "i:4\n",
      "-- inner loop\n",
      "j:0\n",
      "-- inner loop\n",
      "j:1\n",
      "-- inner loop\n",
      "j:2\n",
      "-- inner loop\n",
      "j:3\n",
      "====== Outer loop\n",
      "i:3\n",
      "-- inner loop\n",
      "j:0\n",
      "-- inner loop\n",
      "j:1\n",
      "-- inner loop\n",
      "j:2\n"
     ]
    }
   ],
   "source": [
    "i = 5\n",
    "while i>2:    # Condition is true when i value is 5, 4, 3\n",
    "    print(\"====== Outer loop\")\n",
    "    print(f\"i:{i}\")\n",
    "    j = 0\n",
    "    while j < i:\n",
    "        print(\"-- inner loop\")\n",
    "        print(f\"j:{j}\")\n",
    "        j = j + 1\n",
    "    # End of inner while loop\n",
    "    i = i - 1\n",
    "# End of outer while loop"
   ]
  },
  {
   "cell_type": "code",
   "execution_count": null,
   "id": "fdb5c9c7-50cc-4709-8f2f-079ab8dbe868",
   "metadata": {},
   "outputs": [],
   "source": []
  }
 ],
 "metadata": {
  "kernelspec": {
   "display_name": "Python 3 (ipykernel)",
   "language": "python",
   "name": "python3"
  },
  "language_info": {
   "codemirror_mode": {
    "name": "ipython",
    "version": 3
   },
   "file_extension": ".py",
   "mimetype": "text/x-python",
   "name": "python",
   "nbconvert_exporter": "python",
   "pygments_lexer": "ipython3",
   "version": "3.12.4"
  }
 },
 "nbformat": 4,
 "nbformat_minor": 5
}
