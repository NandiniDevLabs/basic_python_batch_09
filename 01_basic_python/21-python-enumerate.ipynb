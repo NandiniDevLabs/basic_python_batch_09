{
 "cells": [
  {
   "cell_type": "code",
   "execution_count": 5,
   "id": "98303297-b111-4121-9633-8ab685afad48",
   "metadata": {},
   "outputs": [],
   "source": [
    "input_nums = [91, 92, 93, 94, 95]"
   ]
  },
  {
   "cell_type": "code",
   "execution_count": 7,
   "id": "c19830c0-cc5b-4bda-8e0d-9487a7e9e176",
   "metadata": {},
   "outputs": [
    {
     "name": "stdout",
     "output_type": "stream",
     "text": [
      "91\n",
      "92\n",
      "93\n",
      "94\n",
      "95\n"
     ]
    }
   ],
   "source": [
    "for num in input_nums:\n",
    "    print(num)"
   ]
  },
  {
   "cell_type": "code",
   "execution_count": 28,
   "id": "132e94f8-aa50-4511-80b4-5c4a7f646bbe",
   "metadata": {},
   "outputs": [
    {
     "data": {
      "text/plain": [
       "[91, 92, 93, 94, 95]"
      ]
     },
     "execution_count": 28,
     "metadata": {},
     "output_type": "execute_result"
    }
   ],
   "source": [
    "input_nums"
   ]
  },
  {
   "cell_type": "code",
   "execution_count": 26,
   "id": "5e5624ed-2348-4f03-8ce7-aa187d9b4f43",
   "metadata": {},
   "outputs": [
    {
     "name": "stdout",
     "output_type": "stream",
     "text": [
      "(0, 91)\n",
      "(1, 92)\n",
      "(2, 93)\n",
      "(3, 94)\n",
      "(4, 95)\n"
     ]
    }
   ],
   "source": [
    "for a in enumerate(input_nums):\n",
    "    print(a)"
   ]
  },
  {
   "cell_type": "code",
   "execution_count": 32,
   "id": "3ce5809d-01e6-467e-86bc-e91fb4462dd1",
   "metadata": {},
   "outputs": [
    {
     "name": "stdout",
     "output_type": "stream",
     "text": [
      "0 91\n",
      "1 92\n",
      "2 93\n",
      "3 94\n",
      "4 95\n"
     ]
    }
   ],
   "source": [
    "for i,num in enumerate(input_nums):\n",
    "    print(i,num)"
   ]
  },
  {
   "cell_type": "code",
   "execution_count": 46,
   "id": "3f42f4d8-a15b-4e44-adf7-50b17215a6df",
   "metadata": {},
   "outputs": [
    {
     "name": "stdout",
     "output_type": "stream",
     "text": [
      "V\n",
      "i\n",
      "j\n",
      "a\n",
      "y\n",
      "a\n"
     ]
    }
   ],
   "source": [
    "for char in 'Vijaya':\n",
    "    print(char)"
   ]
  },
  {
   "cell_type": "code",
   "execution_count": 52,
   "id": "c87a78a9-e648-4378-be7f-e1d0f1e337ad",
   "metadata": {},
   "outputs": [
    {
     "name": "stdout",
     "output_type": "stream",
     "text": [
      "(0, 'V')\n",
      "0 V\n",
      "(1, 'i')\n",
      "1 i\n",
      "(2, 'j')\n",
      "2 j\n",
      "(3, 'a')\n",
      "3 a\n",
      "(4, 'y')\n",
      "4 y\n",
      "(5, 'a')\n",
      "5 a\n"
     ]
    }
   ],
   "source": [
    "for x in enumerate('Vijaya'):\n",
    "    print(x)\n",
    "    print(x[0], x[1])"
   ]
  },
  {
   "cell_type": "code",
   "execution_count": 84,
   "id": "8dffd4c1-eb46-41d4-85af-296d6d20f203",
   "metadata": {},
   "outputs": [
    {
     "name": "stdout",
     "output_type": "stream",
     "text": [
      "0 V\n",
      "1 i\n",
      "2 j\n",
      "3 a\n",
      "4 y\n",
      "5 a\n"
     ]
    }
   ],
   "source": [
    "for i,char in enumerate('Vijaya'):\n",
    "    print(i,char)\n",
    "# (0,'V')   (1,'i')"
   ]
  },
  {
   "cell_type": "markdown",
   "id": "eaab1224-5e03-4841-988f-5bb179010757",
   "metadata": {},
   "source": [
    "# Tuple Unpacking"
   ]
  },
  {
   "cell_type": "code",
   "execution_count": 42,
   "id": "5138d26d-6a80-48b8-ad88-4d1d2bbbcdbf",
   "metadata": {},
   "outputs": [
    {
     "name": "stdout",
     "output_type": "stream",
     "text": [
      "a: 1\n",
      "b: 2\n"
     ]
    }
   ],
   "source": [
    "a = 1\n",
    "b = 2\n",
    "print(f\"a: {a}\")\n",
    "print(f\"b: {b}\")"
   ]
  },
  {
   "cell_type": "code",
   "execution_count": 62,
   "id": "cba7d32b-90e3-42d4-baff-4e582eeb3fe0",
   "metadata": {},
   "outputs": [
    {
     "name": "stdout",
     "output_type": "stream",
     "text": [
      "a: 100\n",
      "b: 200\n"
     ]
    }
   ],
   "source": [
    "a, b = 100, 200\n",
    "print(f\"a: {a}\")\n",
    "print(f\"b: {b}\")"
   ]
  },
  {
   "cell_type": "code",
   "execution_count": 64,
   "id": "4125dd9d-2aa7-48ad-82eb-068e7fa4f0cc",
   "metadata": {},
   "outputs": [],
   "source": [
    "x = 100,"
   ]
  },
  {
   "cell_type": "code",
   "execution_count": 66,
   "id": "83871822-67b8-4cc7-ad67-549f5488576c",
   "metadata": {},
   "outputs": [
    {
     "data": {
      "text/plain": [
       "tuple"
      ]
     },
     "execution_count": 66,
     "metadata": {},
     "output_type": "execute_result"
    }
   ],
   "source": [
    "type(x)"
   ]
  },
  {
   "cell_type": "code",
   "execution_count": 68,
   "id": "5af30906-5203-4118-bbbc-0c42efb6375d",
   "metadata": {},
   "outputs": [
    {
     "name": "stdout",
     "output_type": "stream",
     "text": [
      "(200,)\n"
     ]
    },
    {
     "data": {
      "text/plain": [
       "tuple"
      ]
     },
     "execution_count": 68,
     "metadata": {},
     "output_type": "execute_result"
    }
   ],
   "source": [
    "y = (200,)\n",
    "print(y)\n",
    "type(y)"
   ]
  },
  {
   "cell_type": "code",
   "execution_count": 72,
   "id": "a8aaefcf-f242-4746-88b5-d3fab6d43c1d",
   "metadata": {},
   "outputs": [
    {
     "name": "stdout",
     "output_type": "stream",
     "text": [
      "100\n"
     ]
    },
    {
     "data": {
      "text/plain": [
       "int"
      ]
     },
     "execution_count": 72,
     "metadata": {},
     "output_type": "execute_result"
    }
   ],
   "source": [
    "z = 100\n",
    "print(z)\n",
    "type(z)"
   ]
  },
  {
   "cell_type": "code",
   "execution_count": 74,
   "id": "6ebbb77c-936e-49b1-a0db-633f3361a9dd",
   "metadata": {},
   "outputs": [
    {
     "data": {
      "text/plain": [
       "(1, 2)"
      ]
     },
     "execution_count": 74,
     "metadata": {},
     "output_type": "execute_result"
    }
   ],
   "source": [
    "(1,2)"
   ]
  },
  {
   "cell_type": "code",
   "execution_count": 76,
   "id": "3a1efde5-8190-4112-91ac-11d6fc4c7b8d",
   "metadata": {},
   "outputs": [],
   "source": [
    "(a,b,c,d) = (1,2,3,4)"
   ]
  },
  {
   "cell_type": "code",
   "execution_count": 78,
   "id": "43be5bf5-9685-4542-93fe-49ad2692f65a",
   "metadata": {},
   "outputs": [
    {
     "name": "stdout",
     "output_type": "stream",
     "text": [
      "1 2 3 4\n"
     ]
    }
   ],
   "source": [
    "print(a,b,c,d)"
   ]
  },
  {
   "cell_type": "code",
   "execution_count": 80,
   "id": "4c3c4e0a-f9f6-4328-b2ae-34e3f3e87f89",
   "metadata": {},
   "outputs": [
    {
     "name": "stdout",
     "output_type": "stream",
     "text": [
      "10 20\n"
     ]
    }
   ],
   "source": [
    "a,b = 10,20\n",
    "print(a,b)"
   ]
  },
  {
   "cell_type": "code",
   "execution_count": null,
   "id": "981279c3-89f1-49b2-b583-08d2d03ecc00",
   "metadata": {},
   "outputs": [],
   "source": []
  },
  {
   "cell_type": "markdown",
   "id": "98d70771-76e4-4a2d-872e-bfc087348cb5",
   "metadata": {},
   "source": [
    "# Enumerate -- Continued"
   ]
  },
  {
   "cell_type": "code",
   "execution_count": 86,
   "id": "36b13870-a244-4dd3-9394-1996c2542a0e",
   "metadata": {},
   "outputs": [
    {
     "data": {
      "text/plain": [
       "[91, 92, 93, 94, 95]"
      ]
     },
     "execution_count": 86,
     "metadata": {},
     "output_type": "execute_result"
    }
   ],
   "source": [
    "input_nums"
   ]
  },
  {
   "cell_type": "code",
   "execution_count": 96,
   "id": "92338093-262c-4619-aab5-75ccd96f2809",
   "metadata": {},
   "outputs": [
    {
     "data": {
      "text/plain": [
       "[(0, 91), (1, 92), (2, 93), (3, 94), (4, 95)]"
      ]
     },
     "execution_count": 96,
     "metadata": {},
     "output_type": "execute_result"
    }
   ],
   "source": [
    "list(enumerate(input_nums))"
   ]
  },
  {
   "cell_type": "code",
   "execution_count": 98,
   "id": "5f275381-8d4c-4874-890b-e243f02c37a2",
   "metadata": {},
   "outputs": [],
   "source": [
    "dict1 = {0:'a',1:'b',2:'c',3:'d',4:'e'}"
   ]
  },
  {
   "cell_type": "code",
   "execution_count": 100,
   "id": "b1f46de4-0537-41bb-b831-ad91168b541e",
   "metadata": {},
   "outputs": [
    {
     "data": {
      "text/plain": [
       "{0: 'a', 1: 'b', 2: 'c', 3: 'd', 4: 'e'}"
      ]
     },
     "execution_count": 100,
     "metadata": {},
     "output_type": "execute_result"
    }
   ],
   "source": [
    "dict1"
   ]
  },
  {
   "cell_type": "code",
   "execution_count": 104,
   "id": "8b3ef30c-a795-4e48-8514-462a268b2852",
   "metadata": {},
   "outputs": [
    {
     "data": {
      "text/plain": [
       "dict_items([(0, 'a'), (1, 'b'), (2, 'c'), (3, 'd'), (4, 'e')])"
      ]
     },
     "execution_count": 104,
     "metadata": {},
     "output_type": "execute_result"
    }
   ],
   "source": [
    "dict1.items()"
   ]
  },
  {
   "cell_type": "code",
   "execution_count": 111,
   "id": "24537b96-137e-4481-b290-ef1dffe524d4",
   "metadata": {},
   "outputs": [
    {
     "name": "stdout",
     "output_type": "stream",
     "text": [
      "0\n",
      "1\n",
      "2\n",
      "3\n",
      "4\n"
     ]
    }
   ],
   "source": [
    "for x in dict1:   # Will provide only dictionary keys\n",
    "     print(x)"
   ]
  },
  {
   "cell_type": "code",
   "execution_count": 113,
   "id": "0cb04fa7-d1fd-4405-ab5a-9730e9f27b59",
   "metadata": {},
   "outputs": [
    {
     "name": "stdout",
     "output_type": "stream",
     "text": [
      "key: 0  value: a\n",
      "key: 1  value: b\n",
      "key: 2  value: c\n",
      "key: 3  value: d\n",
      "key: 4  value: e\n"
     ]
    }
   ],
   "source": [
    "for key, value in dict1.items():\n",
    "     print(f'key: {key}  value: {value}')"
   ]
  },
  {
   "cell_type": "code",
   "execution_count": 119,
   "id": "87fc386e-34e0-4b99-82b6-926161cc18a6",
   "metadata": {},
   "outputs": [
    {
     "name": "stdout",
     "output_type": "stream",
     "text": [
      "dict_items([(0, 'a'), (1, 'b'), (2, 'c'), (3, 'd'), (4, 'e')])\n"
     ]
    }
   ],
   "source": [
    "print(dict1.items())"
   ]
  },
  {
   "cell_type": "code",
   "execution_count": 115,
   "id": "9f848bb9-4ec1-4546-b13f-fe7e39e61f4e",
   "metadata": {},
   "outputs": [
    {
     "name": "stdout",
     "output_type": "stream",
     "text": [
      "(0, (0, 'a'))\n",
      "(1, (1, 'b'))\n",
      "(2, (2, 'c'))\n",
      "(3, (3, 'd'))\n",
      "(4, (4, 'e'))\n"
     ]
    }
   ],
   "source": [
    "for x in enumerate(dict1.items()):  #\n",
    "    print(x)"
   ]
  },
  {
   "cell_type": "code",
   "execution_count": 121,
   "id": "2ee2b695-ddb1-4aa7-a43a-bf051d2c7eb9",
   "metadata": {},
   "outputs": [
    {
     "name": "stdout",
     "output_type": "stream",
     "text": [
      "i: 0  key: 0  value: a\n",
      "i: 1  key: 1  value: b\n",
      "i: 2  key: 2  value: c\n",
      "i: 3  key: 3  value: d\n",
      "i: 4  key: 4  value: e\n"
     ]
    }
   ],
   "source": [
    "for (i, (key, value)) in enumerate(dict1.items()):  #\n",
    "    print(f'i: {i}  key: {key}  value: {value}')\n",
    "    # print(i)"
   ]
  },
  {
   "cell_type": "code",
   "execution_count": null,
   "id": "a2370ba8-bf94-4c40-82b4-12d80faab914",
   "metadata": {},
   "outputs": [],
   "source": []
  }
 ],
 "metadata": {
  "kernelspec": {
   "display_name": "Python 3 (ipykernel)",
   "language": "python",
   "name": "python3"
  },
  "language_info": {
   "codemirror_mode": {
    "name": "ipython",
    "version": 3
   },
   "file_extension": ".py",
   "mimetype": "text/x-python",
   "name": "python",
   "nbconvert_exporter": "python",
   "pygments_lexer": "ipython3",
   "version": "3.12.4"
  }
 },
 "nbformat": 4,
 "nbformat_minor": 5
}
