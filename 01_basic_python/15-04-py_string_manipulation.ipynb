{
 "cells": [
  {
   "cell_type": "code",
   "execution_count": 7,
   "id": "7284557e-b89d-4a5a-9e81-26e62edc52c3",
   "metadata": {},
   "outputs": [],
   "source": [
    "a = 'this is sample string 😀😁' # Windows + ;"
   ]
  },
  {
   "cell_type": "code",
   "execution_count": 9,
   "id": "7514a16b-9538-4278-aace-b1b15b80237f",
   "metadata": {},
   "outputs": [
    {
     "name": "stdout",
     "output_type": "stream",
     "text": [
      "this is sample string 😀😁\n"
     ]
    }
   ],
   "source": [
    "print(a)"
   ]
  },
  {
   "cell_type": "code",
   "execution_count": 11,
   "id": "87dd0f59-70a2-488e-9ca4-bdde0bc49e3e",
   "metadata": {},
   "outputs": [
    {
     "data": {
      "text/plain": [
       "'this is sample string 😀😁'"
      ]
     },
     "execution_count": 11,
     "metadata": {},
     "output_type": "execute_result"
    }
   ],
   "source": [
    "a"
   ]
  },
  {
   "cell_type": "code",
   "execution_count": 13,
   "id": "51a25b55-96d2-47e8-b490-129d2fac30ca",
   "metadata": {},
   "outputs": [
    {
     "data": {
      "text/plain": [
       "8"
      ]
     },
     "execution_count": 13,
     "metadata": {},
     "output_type": "execute_result"
    }
   ],
   "source": [
    "a.index('sample')"
   ]
  },
  {
   "cell_type": "code",
   "execution_count": 15,
   "id": "e7c0a597-866e-4af5-82ab-b45c758c194a",
   "metadata": {},
   "outputs": [
    {
     "ename": "ValueError",
     "evalue": "substring not found",
     "output_type": "error",
     "traceback": [
      "\u001b[1;31m---------------------------------------------------------------------------\u001b[0m",
      "\u001b[1;31mValueError\u001b[0m                                Traceback (most recent call last)",
      "Cell \u001b[1;32mIn[15], line 1\u001b[0m\n\u001b[1;32m----> 1\u001b[0m a\u001b[38;5;241m.\u001b[39mindex(\u001b[38;5;124m'\u001b[39m\u001b[38;5;124mend\u001b[39m\u001b[38;5;124m'\u001b[39m)\n",
      "\u001b[1;31mValueError\u001b[0m: substring not found"
     ]
    }
   ],
   "source": [
    "a.index('end')"
   ]
  },
  {
   "cell_type": "code",
   "execution_count": 17,
   "id": "2fd77575-fb2a-44da-9a0c-283e55bd9698",
   "metadata": {},
   "outputs": [
    {
     "data": {
      "text/plain": [
       "8"
      ]
     },
     "execution_count": 17,
     "metadata": {},
     "output_type": "execute_result"
    }
   ],
   "source": [
    "a.find('sample')"
   ]
  },
  {
   "cell_type": "code",
   "execution_count": 19,
   "id": "3b4c6833-6808-485a-a928-934b4a08a6db",
   "metadata": {},
   "outputs": [
    {
     "data": {
      "text/plain": [
       "-1"
      ]
     },
     "execution_count": 19,
     "metadata": {},
     "output_type": "execute_result"
    }
   ],
   "source": [
    "a.find('end')"
   ]
  },
  {
   "cell_type": "code",
   "execution_count": 21,
   "id": "203e50ed-6391-4dbb-bd60-1797be3af561",
   "metadata": {},
   "outputs": [
    {
     "ename": "ValueError",
     "evalue": "substring not found",
     "output_type": "error",
     "traceback": [
      "\u001b[1;31m---------------------------------------------------------------------------\u001b[0m",
      "\u001b[1;31mValueError\u001b[0m                                Traceback (most recent call last)",
      "Cell \u001b[1;32mIn[21], line 1\u001b[0m\n\u001b[1;32m----> 1\u001b[0m a\u001b[38;5;241m.\u001b[39mindex(\u001b[38;5;124m'\u001b[39m\u001b[38;5;124mz\u001b[39m\u001b[38;5;124m'\u001b[39m)\n",
      "\u001b[1;31mValueError\u001b[0m: substring not found"
     ]
    }
   ],
   "source": [
    "a.index('z')"
   ]
  },
  {
   "cell_type": "code",
   "execution_count": 23,
   "id": "95afa68b-45c7-4f86-85a4-aad73f213788",
   "metadata": {},
   "outputs": [
    {
     "data": {
      "text/plain": [
       "-1"
      ]
     },
     "execution_count": 23,
     "metadata": {},
     "output_type": "execute_result"
    }
   ],
   "source": [
    "a.find('z')"
   ]
  },
  {
   "cell_type": "code",
   "execution_count": 25,
   "id": "a7d40cff-9ab2-478e-bc5d-39951bd41991",
   "metadata": {},
   "outputs": [
    {
     "data": {
      "text/plain": [
       "'this is sample string 😀😁'"
      ]
     },
     "execution_count": 25,
     "metadata": {},
     "output_type": "execute_result"
    }
   ],
   "source": [
    "a"
   ]
  },
  {
   "cell_type": "code",
   "execution_count": 27,
   "id": "a12a9de3-d2a1-4de6-b2dc-c7b9b3d72ce3",
   "metadata": {},
   "outputs": [
    {
     "data": {
      "text/plain": [
       "b'this is sample string \\xf0\\x9f\\x98\\x80\\xf0\\x9f\\x98\\x81'"
      ]
     },
     "execution_count": 27,
     "metadata": {},
     "output_type": "execute_result"
    }
   ],
   "source": [
    "a.encode()  # default - utf-8"
   ]
  },
  {
   "cell_type": "code",
   "execution_count": 38,
   "id": "c7178877-08e3-40c1-b7ab-7a7779a444f4",
   "metadata": {},
   "outputs": [
    {
     "data": {
      "text/plain": [
       "b'\\xe0\\xb0\\xb5\\xe0\\xb0\\xbf\\xe0\\xb0\\x9c\\xe0\\xb0\\xaf \\xe0\\xb0\\xa8\\xe0\\xb0\\x82\\xe0\\xb0\\xa6\\xe0\\xb0\\xbf\\xe0\\xb0\\xa8\\xe0\\xb0\\xbf'"
      ]
     },
     "execution_count": 38,
     "metadata": {},
     "output_type": "execute_result"
    }
   ],
   "source": [
    "'విజయ నందిని'.encode()"
   ]
  },
  {
   "cell_type": "code",
   "execution_count": 40,
   "id": "4a7ce3c5-a6a0-43e0-aca1-665b3ef87d89",
   "metadata": {},
   "outputs": [
    {
     "ename": "UnicodeEncodeError",
     "evalue": "'ascii' codec can't encode characters in position 0-3: ordinal not in range(128)",
     "output_type": "error",
     "traceback": [
      "\u001b[1;31m---------------------------------------------------------------------------\u001b[0m",
      "\u001b[1;31mUnicodeEncodeError\u001b[0m                        Traceback (most recent call last)",
      "Cell \u001b[1;32mIn[40], line 1\u001b[0m\n\u001b[1;32m----> 1\u001b[0m \u001b[38;5;124m'\u001b[39m\u001b[38;5;124mవిజయ నందిని\u001b[39m\u001b[38;5;124m'\u001b[39m\u001b[38;5;241m.\u001b[39mencode(\u001b[38;5;124m'\u001b[39m\u001b[38;5;124mascii\u001b[39m\u001b[38;5;124m'\u001b[39m)\n",
      "\u001b[1;31mUnicodeEncodeError\u001b[0m: 'ascii' codec can't encode characters in position 0-3: ordinal not in range(128)"
     ]
    }
   ],
   "source": [
    "'విజయ నందిని'.encode('ascii')"
   ]
  },
  {
   "cell_type": "code",
   "execution_count": 29,
   "id": "f4dc1392-e9b0-4bac-adc8-844134cc4465",
   "metadata": {},
   "outputs": [
    {
     "data": {
      "text/plain": [
       "b'this is sample string'"
      ]
     },
     "execution_count": 29,
     "metadata": {},
     "output_type": "execute_result"
    }
   ],
   "source": [
    "'this is sample string'.encode()"
   ]
  },
  {
   "cell_type": "code",
   "execution_count": 31,
   "id": "339e9af5-8c07-4ab0-aa2c-d39af5145685",
   "metadata": {},
   "outputs": [
    {
     "ename": "UnicodeEncodeError",
     "evalue": "'ascii' codec can't encode characters in position 22-23: ordinal not in range(128)",
     "output_type": "error",
     "traceback": [
      "\u001b[1;31m---------------------------------------------------------------------------\u001b[0m",
      "\u001b[1;31mUnicodeEncodeError\u001b[0m                        Traceback (most recent call last)",
      "Cell \u001b[1;32mIn[31], line 1\u001b[0m\n\u001b[1;32m----> 1\u001b[0m a\u001b[38;5;241m.\u001b[39mencode(\u001b[38;5;124m'\u001b[39m\u001b[38;5;124mascii\u001b[39m\u001b[38;5;124m'\u001b[39m)\n",
      "\u001b[1;31mUnicodeEncodeError\u001b[0m: 'ascii' codec can't encode characters in position 22-23: ordinal not in range(128)"
     ]
    }
   ],
   "source": [
    "a.encode('ascii') "
   ]
  },
  {
   "cell_type": "code",
   "execution_count": 42,
   "id": "18e69337-7ad0-45e6-89f6-cae416201fea",
   "metadata": {},
   "outputs": [
    {
     "data": {
      "text/plain": [
       "b'!@#$%^&*()-+'"
      ]
     },
     "execution_count": 42,
     "metadata": {},
     "output_type": "execute_result"
    }
   ],
   "source": [
    "'!@#$%^&*()-+'.encode('ascii')"
   ]
  },
  {
   "cell_type": "code",
   "execution_count": 44,
   "id": "31feda52-f5ba-4ce1-b0fc-70a49f242779",
   "metadata": {},
   "outputs": [
    {
     "data": {
      "text/plain": [
       "'this is sample string 😀😁'"
      ]
     },
     "execution_count": 44,
     "metadata": {},
     "output_type": "execute_result"
    }
   ],
   "source": [
    "a"
   ]
  },
  {
   "cell_type": "code",
   "execution_count": 46,
   "id": "74e13e05-1d02-4dbe-8fe5-5fd503a0c72d",
   "metadata": {},
   "outputs": [
    {
     "data": {
      "text/plain": [
       "True"
      ]
     },
     "execution_count": 46,
     "metadata": {},
     "output_type": "execute_result"
    }
   ],
   "source": [
    "a.isprintable()"
   ]
  },
  {
   "cell_type": "code",
   "execution_count": 52,
   "id": "80e3dc77-b6ff-4147-b096-77b7b96d330b",
   "metadata": {},
   "outputs": [
    {
     "name": "stdout",
     "output_type": "stream",
     "text": [
      "this is sample string😀 \n",
      "this is sample string😁\n"
     ]
    }
   ],
   "source": [
    "print('this is sample string😀 \\nthis is sample string😁')"
   ]
  },
  {
   "cell_type": "code",
   "execution_count": 54,
   "id": "060fcaf6-a382-4971-941f-67846556760a",
   "metadata": {},
   "outputs": [
    {
     "data": {
      "text/plain": [
       "True"
      ]
     },
     "execution_count": 54,
     "metadata": {},
     "output_type": "execute_result"
    }
   ],
   "source": [
    "'this is sample string😀 this is sample string😁'.isprintable()"
   ]
  },
  {
   "cell_type": "code",
   "execution_count": 56,
   "id": "63ad28f9-81b5-4aaa-87bd-7ec739dabdd3",
   "metadata": {},
   "outputs": [
    {
     "data": {
      "text/plain": [
       "False"
      ]
     },
     "execution_count": 56,
     "metadata": {},
     "output_type": "execute_result"
    }
   ],
   "source": [
    "'this is sample string😀 \\nthis is sample string😁'.isprintable()"
   ]
  },
  {
   "cell_type": "code",
   "execution_count": 58,
   "id": "d4464f77-36d4-4b8d-8547-9062a657efbc",
   "metadata": {},
   "outputs": [
    {
     "data": {
      "text/plain": [
       "False"
      ]
     },
     "execution_count": 58,
     "metadata": {},
     "output_type": "execute_result"
    }
   ],
   "source": [
    "'this is \\nsample \\rstring'.isprintable()"
   ]
  },
  {
   "cell_type": "code",
   "execution_count": 60,
   "id": "ab49e6b5-f0b3-4f3b-8c02-d911941e0d7f",
   "metadata": {},
   "outputs": [
    {
     "data": {
      "text/plain": [
       "'this is sample string 😀😁'"
      ]
     },
     "execution_count": 60,
     "metadata": {},
     "output_type": "execute_result"
    }
   ],
   "source": [
    "a"
   ]
  },
  {
   "cell_type": "code",
   "execution_count": 62,
   "id": "cd9ea42c-a95d-4107-8ae1-a044ca1fb444",
   "metadata": {},
   "outputs": [
    {
     "data": {
      "text/plain": [
       "'this is 123 string 😀😁'"
      ]
     },
     "execution_count": 62,
     "metadata": {},
     "output_type": "execute_result"
    }
   ],
   "source": [
    "a.replace('sample','123')"
   ]
  },
  {
   "cell_type": "code",
   "execution_count": 20,
   "id": "0fd7c28a-8620-4fd5-b914-4fcccef1a95f",
   "metadata": {},
   "outputs": [],
   "source": [
    "# a.maketrans\n",
    "# a.translate"
   ]
  },
  {
   "cell_type": "code",
   "execution_count": 64,
   "id": "57f8f851-6cb0-437a-b3d9-d555758940a5",
   "metadata": {},
   "outputs": [
    {
     "data": {
      "text/plain": [
       "'thi1 i1 123456 1tring 😀😁'"
      ]
     },
     "execution_count": 64,
     "metadata": {},
     "output_type": "execute_result"
    }
   ],
   "source": [
    "translation_table = str.maketrans('sample','123456')\n",
    "a.translate(translation_table)\n",
    "\n",
    "# s -> 1\n",
    "# a -> 2\n",
    "# m -> 3\n",
    "# p -> 4\n",
    "# l -> 5\n",
    "# e -> 6"
   ]
  },
  {
   "cell_type": "code",
   "execution_count": 66,
   "id": "2deb3823-49fc-4ccf-a867-1515ea05d267",
   "metadata": {},
   "outputs": [
    {
     "data": {
      "text/plain": [
       "'this is sample string 😀😁'"
      ]
     },
     "execution_count": 66,
     "metadata": {},
     "output_type": "execute_result"
    }
   ],
   "source": [
    "a"
   ]
  },
  {
   "cell_type": "code",
   "execution_count": 68,
   "id": "c8129cef-942d-4372-afb6-0081b1179a1d",
   "metadata": {},
   "outputs": [
    {
     "data": {
      "text/plain": [
       "'3h12 12 2ample 23r1ng 😀😁'"
      ]
     },
     "execution_count": 68,
     "metadata": {},
     "output_type": "execute_result"
    }
   ],
   "source": [
    "translation_table = str.maketrans('ist','123')\n",
    "a.translate(translation_table)"
   ]
  },
  {
   "cell_type": "code",
   "execution_count": 72,
   "id": "3587c79a-7a07-4354-a27f-eca8b0f03ea7",
   "metadata": {},
   "outputs": [],
   "source": [
    "str_list = ['a','b','c','d','e']"
   ]
  },
  {
   "cell_type": "code",
   "execution_count": 78,
   "id": "69167610-5a24-44e7-9178-1cd7d33d062a",
   "metadata": {},
   "outputs": [
    {
     "data": {
      "text/plain": [
       "'a b c d e'"
      ]
     },
     "execution_count": 78,
     "metadata": {},
     "output_type": "execute_result"
    }
   ],
   "source": [
    "' '.join(str_list)  # list to string conversion\n",
    "\n",
    "# 'a'\n",
    "# 'a' + ' ' + 'b'--> 'a b'\n",
    "# 'a b' + ' ' + 'c' --> 'a b c'"
   ]
  },
  {
   "cell_type": "code",
   "execution_count": 80,
   "id": "1c4b6652-504a-42e9-9232-0705c49ac941",
   "metadata": {},
   "outputs": [
    {
     "ename": "TypeError",
     "evalue": "sequence item 0: expected str instance, int found",
     "output_type": "error",
     "traceback": [
      "\u001b[1;31m---------------------------------------------------------------------------\u001b[0m",
      "\u001b[1;31mTypeError\u001b[0m                                 Traceback (most recent call last)",
      "Cell \u001b[1;32mIn[80], line 1\u001b[0m\n\u001b[1;32m----> 1\u001b[0m \u001b[38;5;124m'\u001b[39m\u001b[38;5;124m \u001b[39m\u001b[38;5;124m'\u001b[39m\u001b[38;5;241m.\u001b[39mjoin([\u001b[38;5;241m1\u001b[39m,\u001b[38;5;241m2\u001b[39m,\u001b[38;5;241m3\u001b[39m,\u001b[38;5;241m4\u001b[39m,\u001b[38;5;241m5\u001b[39m])\n",
      "\u001b[1;31mTypeError\u001b[0m: sequence item 0: expected str instance, int found"
     ]
    }
   ],
   "source": [
    "' '.join([1,2,3,4,5])\n",
    "\n",
    "# 1\n",
    "# 1 + ' ' + 2  --> Illegal operation"
   ]
  },
  {
   "cell_type": "code",
   "execution_count": 84,
   "id": "d7ccae8a-a453-4f92-8bad-9c3a85d40126",
   "metadata": {},
   "outputs": [
    {
     "data": {
      "text/plain": [
       "['a', 'b', 'c', 'd', 'e']"
      ]
     },
     "execution_count": 84,
     "metadata": {},
     "output_type": "execute_result"
    }
   ],
   "source": [
    "str_list"
   ]
  },
  {
   "cell_type": "code",
   "execution_count": 88,
   "id": "0316e63e-5823-4106-8804-0ddaa44b7b79",
   "metadata": {},
   "outputs": [
    {
     "data": {
      "text/plain": [
       "'abcde'"
      ]
     },
     "execution_count": 88,
     "metadata": {},
     "output_type": "execute_result"
    }
   ],
   "source": [
    "''.join(str_list)  # list to string conversion\n",
    "\n",
    "# 'a'\n",
    "# 'a' + '' + 'b' --> 'ab'\n",
    "# 'ab' + '' + 'c' --> 'abc'"
   ]
  },
  {
   "cell_type": "code",
   "execution_count": 92,
   "id": "7be38aa7-3ed4-4fd6-9686-0ed31e84c83f",
   "metadata": {},
   "outputs": [],
   "source": [
    "input_list = ['a', 'b', 'c', 'd', 'e']"
   ]
  },
  {
   "cell_type": "code",
   "execution_count": 94,
   "id": "6b59abcb-ce23-4bd0-9159-fbd4397ac36c",
   "metadata": {},
   "outputs": [
    {
     "data": {
      "text/plain": [
       "['a', 'b', 'c', 'd', 'e']"
      ]
     },
     "execution_count": 94,
     "metadata": {},
     "output_type": "execute_result"
    }
   ],
   "source": [
    "input_list"
   ]
  },
  {
   "cell_type": "code",
   "execution_count": 100,
   "id": "3df68bc2-0f84-472e-8d92-a40a589f836f",
   "metadata": {},
   "outputs": [
    {
     "data": {
      "text/plain": [
       "\"['a', 'b', 'c', 'd', 'e']\""
      ]
     },
     "execution_count": 100,
     "metadata": {},
     "output_type": "execute_result"
    }
   ],
   "source": [
    "str(input_list)  # Not a valid list to string conversion"
   ]
  },
  {
   "cell_type": "code",
   "execution_count": 98,
   "id": "038c34d9-f714-4035-8c65-4cc8010effc5",
   "metadata": {},
   "outputs": [
    {
     "data": {
      "text/plain": [
       "'abcde'"
      ]
     },
     "execution_count": 98,
     "metadata": {},
     "output_type": "execute_result"
    }
   ],
   "source": [
    "''.join(input_list)"
   ]
  },
  {
   "cell_type": "markdown",
   "id": "6433e6f6-cd40-4253-82e6-a2079906edbd",
   "metadata": {},
   "source": [
    "# String to list conversion"
   ]
  },
  {
   "cell_type": "code",
   "execution_count": 102,
   "id": "bd393e99-dba2-4689-a566-bcd59f304179",
   "metadata": {},
   "outputs": [],
   "source": [
    "input_string = 'this is sample string'"
   ]
  },
  {
   "cell_type": "code",
   "execution_count": 104,
   "id": "bafbfb34-a2c5-4711-89dc-593094c0009c",
   "metadata": {},
   "outputs": [
    {
     "data": {
      "text/plain": [
       "'this is sample string'"
      ]
     },
     "execution_count": 104,
     "metadata": {},
     "output_type": "execute_result"
    }
   ],
   "source": [
    "input_string"
   ]
  },
  {
   "cell_type": "code",
   "execution_count": 106,
   "id": "47757f80-165b-40b7-906d-eee4367e5dc4",
   "metadata": {},
   "outputs": [
    {
     "data": {
      "text/plain": [
       "['t',\n",
       " 'h',\n",
       " 'i',\n",
       " 's',\n",
       " ' ',\n",
       " 'i',\n",
       " 's',\n",
       " ' ',\n",
       " 's',\n",
       " 'a',\n",
       " 'm',\n",
       " 'p',\n",
       " 'l',\n",
       " 'e',\n",
       " ' ',\n",
       " 's',\n",
       " 't',\n",
       " 'r',\n",
       " 'i',\n",
       " 'n',\n",
       " 'g']"
      ]
     },
     "execution_count": 106,
     "metadata": {},
     "output_type": "execute_result"
    }
   ],
   "source": [
    "list(input_string)"
   ]
  },
  {
   "cell_type": "code",
   "execution_count": 110,
   "id": "b6e26c54-be5e-4679-8877-0a1d9c03b78c",
   "metadata": {},
   "outputs": [
    {
     "data": {
      "text/plain": [
       "'this is sample string'"
      ]
     },
     "execution_count": 110,
     "metadata": {},
     "output_type": "execute_result"
    }
   ],
   "source": [
    "input_string"
   ]
  },
  {
   "cell_type": "code",
   "execution_count": 112,
   "id": "40c7a182-8904-4633-ae5b-6ef5ffd25d94",
   "metadata": {},
   "outputs": [
    {
     "data": {
      "text/plain": [
       "['this', 'is', 'sample', 'string']"
      ]
     },
     "execution_count": 112,
     "metadata": {},
     "output_type": "execute_result"
    }
   ],
   "source": [
    "input_string.split()"
   ]
  },
  {
   "cell_type": "code",
   "execution_count": 116,
   "id": "c5c3fb08-d537-4d94-a9f9-37aa07fca694",
   "metadata": {},
   "outputs": [
    {
     "data": {
      "text/plain": [
       "' this is sample string '"
      ]
     },
     "execution_count": 116,
     "metadata": {},
     "output_type": "execute_result"
    }
   ],
   "source": [
    "' this is sample string '"
   ]
  },
  {
   "cell_type": "code",
   "execution_count": 120,
   "id": "8224c486-b6f0-474a-ba08-442f22b20f47",
   "metadata": {},
   "outputs": [
    {
     "data": {
      "text/plain": [
       "'this is sample string'"
      ]
     },
     "execution_count": 120,
     "metadata": {},
     "output_type": "execute_result"
    }
   ],
   "source": [
    "'            this is sample string '.strip()"
   ]
  },
  {
   "cell_type": "code",
   "execution_count": 122,
   "id": "516350bf-abda-4fbe-b71d-c925178aae0e",
   "metadata": {},
   "outputs": [
    {
     "data": {
      "text/plain": [
       "'this is sample string '"
      ]
     },
     "execution_count": 122,
     "metadata": {},
     "output_type": "execute_result"
    }
   ],
   "source": [
    "' this is sample string '.lstrip()"
   ]
  },
  {
   "cell_type": "code",
   "execution_count": 124,
   "id": "c82f1bef-3883-4b07-800a-51e900f30999",
   "metadata": {},
   "outputs": [
    {
     "data": {
      "text/plain": [
       "' this is sample string'"
      ]
     },
     "execution_count": 124,
     "metadata": {},
     "output_type": "execute_result"
    }
   ],
   "source": [
    "' this is sample string '.rstrip()"
   ]
  },
  {
   "cell_type": "code",
   "execution_count": 126,
   "id": "d4e2e4ce-d104-4fd1-825a-b5d26eaa6da6",
   "metadata": {},
   "outputs": [
    {
     "data": {
      "text/plain": [
       "'thisissamplestring'"
      ]
     },
     "execution_count": 126,
     "metadata": {},
     "output_type": "execute_result"
    }
   ],
   "source": [
    "' this is sample string '.replace(' ','')"
   ]
  },
  {
   "cell_type": "code",
   "execution_count": 128,
   "id": "4aaab337-89f3-4bff-9962-f667d77200f0",
   "metadata": {},
   "outputs": [
    {
     "data": {
      "text/plain": [
       "'this is sample string 😀😁'"
      ]
     },
     "execution_count": 128,
     "metadata": {},
     "output_type": "execute_result"
    }
   ],
   "source": [
    "a"
   ]
  },
  {
   "cell_type": "code",
   "execution_count": 130,
   "id": "bacfa9cc-30d6-4ff8-872a-4f2b551a06d1",
   "metadata": {},
   "outputs": [
    {
     "data": {
      "text/plain": [
       "['this', 'is', 'sample', 'string', '😀😁']"
      ]
     },
     "execution_count": 130,
     "metadata": {},
     "output_type": "execute_result"
    }
   ],
   "source": [
    "a.split()"
   ]
  },
  {
   "cell_type": "code",
   "execution_count": 132,
   "id": "214092d1-72ac-4860-9162-de9f99abd724",
   "metadata": {},
   "outputs": [
    {
     "data": {
      "text/plain": [
       "'this is sample string 😀😁'"
      ]
     },
     "execution_count": 132,
     "metadata": {},
     "output_type": "execute_result"
    }
   ],
   "source": [
    "a"
   ]
  },
  {
   "cell_type": "code",
   "execution_count": 134,
   "id": "76ff9e31",
   "metadata": {},
   "outputs": [
    {
     "data": {
      "text/plain": [
       "\u001b[1;31mSignature:\u001b[0m \u001b[0ma\u001b[0m\u001b[1;33m.\u001b[0m\u001b[0mpartition\u001b[0m\u001b[1;33m(\u001b[0m\u001b[0msep\u001b[0m\u001b[1;33m,\u001b[0m \u001b[1;33m/\u001b[0m\u001b[1;33m)\u001b[0m\u001b[1;33m\u001b[0m\u001b[1;33m\u001b[0m\u001b[0m\n",
       "\u001b[1;31mDocstring:\u001b[0m\n",
       "Partition the string into three parts using the given separator.\n",
       "\n",
       "This will search for the separator in the string.  If the separator is found,\n",
       "returns a 3-tuple containing the part before the separator, the separator\n",
       "itself, and the part after it.\n",
       "\n",
       "If the separator is not found, returns a 3-tuple containing the original string\n",
       "and two empty strings.\n",
       "\u001b[1;31mType:\u001b[0m      builtin_function_or_method"
      ]
     },
     "metadata": {},
     "output_type": "display_data"
    }
   ],
   "source": [
    "a.partition?"
   ]
  },
  {
   "cell_type": "code",
   "execution_count": 136,
   "id": "c9f4eede-de59-4e8f-914e-8132ea999a8f",
   "metadata": {},
   "outputs": [
    {
     "data": {
      "text/plain": [
       "('this', ' ', 'is sample string 😀😁')"
      ]
     },
     "execution_count": 136,
     "metadata": {},
     "output_type": "execute_result"
    }
   ],
   "source": [
    "a.partition(' ') # output - tuple, will have only 3 items "
   ]
  },
  {
   "cell_type": "code",
   "execution_count": 140,
   "id": "6ec0d950-51b4-4539-9f83-ee01454c0ab2",
   "metadata": {},
   "outputs": [
    {
     "data": {
      "text/plain": [
       "('this is sample string', ' ', '😀😁')"
      ]
     },
     "execution_count": 140,
     "metadata": {},
     "output_type": "execute_result"
    }
   ],
   "source": [
    "a.rpartition(' ')"
   ]
  },
  {
   "cell_type": "code",
   "execution_count": 138,
   "id": "4f21bd2b-be5c-4364-98ce-15cb2b982725",
   "metadata": {},
   "outputs": [
    {
     "data": {
      "text/plain": [
       "'this is sample string 😀😁'"
      ]
     },
     "execution_count": 138,
     "metadata": {},
     "output_type": "execute_result"
    }
   ],
   "source": [
    "a"
   ]
  },
  {
   "cell_type": "code",
   "execution_count": 142,
   "id": "95fe3b77-02f7-4eba-a561-6a1386e35d8e",
   "metadata": {},
   "outputs": [
    {
     "data": {
      "text/plain": [
       "('thi', 's', ' is sample string 😀😁')"
      ]
     },
     "execution_count": 142,
     "metadata": {},
     "output_type": "execute_result"
    }
   ],
   "source": [
    "a.partition('s')"
   ]
  },
  {
   "cell_type": "code",
   "execution_count": 144,
   "id": "b68e0a18-d80b-48e7-a5f4-941cc8d52eb3",
   "metadata": {},
   "outputs": [
    {
     "data": {
      "text/plain": [
       "('this is sample ', 's', 'tring 😀😁')"
      ]
     },
     "execution_count": 144,
     "metadata": {},
     "output_type": "execute_result"
    }
   ],
   "source": [
    "a.rpartition('s')"
   ]
  },
  {
   "cell_type": "code",
   "execution_count": 146,
   "id": "4ac70fb9-0682-4242-b401-295677cc1157",
   "metadata": {},
   "outputs": [
    {
     "data": {
      "text/plain": [
       "'this is sample string 😀😁'"
      ]
     },
     "execution_count": 146,
     "metadata": {},
     "output_type": "execute_result"
    }
   ],
   "source": [
    "a"
   ]
  },
  {
   "cell_type": "code",
   "execution_count": 154,
   "id": "5dcb6064-0357-434c-a715-ccde70842891",
   "metadata": {},
   "outputs": [
    {
     "data": {
      "text/plain": [
       "['this', 'is', 'sample', 'string', '😀😁']"
      ]
     },
     "execution_count": 154,
     "metadata": {},
     "output_type": "execute_result"
    }
   ],
   "source": [
    "a.split()"
   ]
  },
  {
   "cell_type": "code",
   "execution_count": 150,
   "id": "c625c7f9-3350-459c-826d-eb691f3358ed",
   "metadata": {},
   "outputs": [
    {
     "data": {
      "text/plain": [
       "['this', 'is', 'sample', 'string', '😀😁']"
      ]
     },
     "execution_count": 150,
     "metadata": {},
     "output_type": "execute_result"
    }
   ],
   "source": [
    "a.rsplit()"
   ]
  },
  {
   "cell_type": "code",
   "execution_count": 156,
   "id": "bad5c706-3dd7-4eba-b46b-90078d89ae00",
   "metadata": {},
   "outputs": [
    {
     "data": {
      "text/plain": [
       "'this is sample string 😀😁'"
      ]
     },
     "execution_count": 156,
     "metadata": {},
     "output_type": "execute_result"
    }
   ],
   "source": [
    "a"
   ]
  },
  {
   "cell_type": "code",
   "execution_count": 162,
   "id": "015929c4-fb67-4b8f-ae5f-bdeba0d1af2f",
   "metadata": {},
   "outputs": [
    {
     "data": {
      "text/plain": [
       "['this', 'is sample string 😀😁']"
      ]
     },
     "execution_count": 162,
     "metadata": {},
     "output_type": "execute_result"
    }
   ],
   "source": [
    "a.split(' ',1)"
   ]
  },
  {
   "cell_type": "code",
   "execution_count": 164,
   "id": "2f20c56a-bd77-46a7-b33d-3c78005b3fbc",
   "metadata": {},
   "outputs": [
    {
     "data": {
      "text/plain": [
       "['this is sample string', '😀😁']"
      ]
     },
     "execution_count": 164,
     "metadata": {},
     "output_type": "execute_result"
    }
   ],
   "source": [
    "a.rsplit(' ',1)"
   ]
  },
  {
   "cell_type": "code",
   "execution_count": 166,
   "id": "d9d8220c-0df7-4026-bda4-8ae1f1d0e58b",
   "metadata": {},
   "outputs": [
    {
     "data": {
      "text/plain": [
       "['Do', 'not', 'stop', 'when', 'you are tired. Stop when you are done.']"
      ]
     },
     "execution_count": 166,
     "metadata": {},
     "output_type": "execute_result"
    }
   ],
   "source": [
    "\"Do not stop when you are tired. Stop when you are done.\".split(' ',4)"
   ]
  },
  {
   "cell_type": "code",
   "execution_count": 168,
   "id": "2895ce40-d7e8-4a2b-a96b-0563af43b5fb",
   "metadata": {},
   "outputs": [
    {
     "data": {
      "text/plain": [
       "['Do not stop when you are tired. Stop', 'when', 'you', 'are', 'done.']"
      ]
     },
     "execution_count": 168,
     "metadata": {},
     "output_type": "execute_result"
    }
   ],
   "source": [
    "\"Do not stop when you are tired. Stop when you are done.\".rsplit(' ',4)"
   ]
  },
  {
   "cell_type": "code",
   "execution_count": 170,
   "id": "0f2b5e75-51dd-4b82-ac90-e67928e4acad",
   "metadata": {},
   "outputs": [],
   "source": [
    "b = \"Do not stop when you are tired. Stop when you are done.\""
   ]
  },
  {
   "cell_type": "code",
   "execution_count": 172,
   "id": "7ccd9016-2485-40bd-a3d1-d9993fa2b4d3",
   "metadata": {},
   "outputs": [
    {
     "data": {
      "text/plain": [
       "55"
      ]
     },
     "execution_count": 172,
     "metadata": {},
     "output_type": "execute_result"
    }
   ],
   "source": [
    "len(b)"
   ]
  },
  {
   "cell_type": "code",
   "execution_count": 174,
   "id": "6c4d1f1e-5c5b-4e35-896b-bc34de7263ea",
   "metadata": {},
   "outputs": [
    {
     "data": {
      "text/plain": [
       "'...............Do not stop when you are tired. Stop when you are done................'"
      ]
     },
     "execution_count": 174,
     "metadata": {},
     "output_type": "execute_result"
    }
   ],
   "source": [
    "b.center(85,'.')"
   ]
  },
  {
   "cell_type": "code",
   "execution_count": 176,
   "id": "4e6f9780-c5c3-40d7-bbe3-7bfa0105a9b7",
   "metadata": {},
   "outputs": [
    {
     "data": {
      "text/plain": [
       "'Do not stop when you are tired. Stop when you are done...............................'"
      ]
     },
     "execution_count": 176,
     "metadata": {},
     "output_type": "execute_result"
    }
   ],
   "source": [
    "b.ljust(85,'.')"
   ]
  },
  {
   "cell_type": "code",
   "execution_count": 190,
   "id": "e0b5f77a-2372-4853-9f7d-7f2fd1b7cfc7",
   "metadata": {},
   "outputs": [
    {
     "data": {
      "text/plain": [
       "'@@@@@@@@@@@@@@@@@@@@@@@@@@@@@@@@@@@Do not stop when you are tired. Stop when you are done.'"
      ]
     },
     "execution_count": 190,
     "metadata": {},
     "output_type": "execute_result"
    }
   ],
   "source": [
    "b.rjust(90,'@')"
   ]
  },
  {
   "cell_type": "code",
   "execution_count": 192,
   "id": "4805dfdb-1b0c-4ced-b5de-e6f69761f2ef",
   "metadata": {},
   "outputs": [
    {
     "data": {
      "text/plain": [
       "4"
      ]
     },
     "execution_count": 192,
     "metadata": {},
     "output_type": "execute_result"
    }
   ],
   "source": [
    "len('5678')"
   ]
  },
  {
   "cell_type": "code",
   "execution_count": 196,
   "id": "141109c1-b121-4895-9c9b-051dd891390c",
   "metadata": {},
   "outputs": [
    {
     "data": {
      "text/plain": [
       "'0000005678'"
      ]
     },
     "execution_count": 196,
     "metadata": {},
     "output_type": "execute_result"
    }
   ],
   "source": [
    "'5678'.rjust(10,'0')"
   ]
  },
  {
   "cell_type": "code",
   "execution_count": 194,
   "id": "1acc00c7-22aa-4a57-b2db-07159cb929d5",
   "metadata": {},
   "outputs": [
    {
     "data": {
      "text/plain": [
       "'0000005678'"
      ]
     },
     "execution_count": 194,
     "metadata": {},
     "output_type": "execute_result"
    }
   ],
   "source": [
    "'5678'.zfill(10)"
   ]
  },
  {
   "cell_type": "code",
   "execution_count": 198,
   "id": "5e32911b-9d9d-4ad9-903f-78602e1c76c6",
   "metadata": {},
   "outputs": [
    {
     "data": {
      "text/plain": [
       "'-000005678'"
      ]
     },
     "execution_count": 198,
     "metadata": {},
     "output_type": "execute_result"
    }
   ],
   "source": [
    "'-5678'.zfill(10)"
   ]
  },
  {
   "cell_type": "code",
   "execution_count": 202,
   "id": "c53c3817-4ffa-441a-8544-93ae78b9f79c",
   "metadata": {},
   "outputs": [
    {
     "data": {
      "text/plain": [
       "'00000-5678'"
      ]
     },
     "execution_count": 202,
     "metadata": {},
     "output_type": "execute_result"
    }
   ],
   "source": [
    "'-5678'.rjust(10,'0')"
   ]
  },
  {
   "cell_type": "code",
   "execution_count": 212,
   "id": "e89a83f8-6491-4061-b4a0-80229566db6e",
   "metadata": {},
   "outputs": [
    {
     "data": {
      "text/plain": [
       "'+000005678'"
      ]
     },
     "execution_count": 212,
     "metadata": {},
     "output_type": "execute_result"
    }
   ],
   "source": [
    "'+5678'.zfill(10)"
   ]
  },
  {
   "cell_type": "code",
   "execution_count": 204,
   "id": "621bf214-17a7-4fbd-b88a-6c8e31a95418",
   "metadata": {},
   "outputs": [
    {
     "data": {
      "text/plain": [
       "'00000+5678'"
      ]
     },
     "execution_count": 204,
     "metadata": {},
     "output_type": "execute_result"
    }
   ],
   "source": [
    "'+5678'.rjust(10,'0')"
   ]
  },
  {
   "cell_type": "code",
   "execution_count": 214,
   "id": "a2a9eca4-2134-45ea-8cc8-4dc42c864263",
   "metadata": {},
   "outputs": [
    {
     "data": {
      "text/plain": [
       "'Do not stop when you are tired. Stop when you are done.'"
      ]
     },
     "execution_count": 214,
     "metadata": {},
     "output_type": "execute_result"
    }
   ],
   "source": [
    "b"
   ]
  },
  {
   "cell_type": "code",
   "execution_count": 216,
   "id": "fbedca19-00b4-4c3b-a632-79c68ae248c7",
   "metadata": {},
   "outputs": [
    {
     "data": {
      "text/plain": [
       "21"
      ]
     },
     "execution_count": 216,
     "metadata": {},
     "output_type": "execute_result"
    }
   ],
   "source": [
    "b.find('are')"
   ]
  },
  {
   "cell_type": "code",
   "execution_count": 218,
   "id": "ca7591f2-fc7f-4a9c-b9a5-316ec1755c13",
   "metadata": {},
   "outputs": [
    {
     "data": {
      "text/plain": [
       "46"
      ]
     },
     "execution_count": 218,
     "metadata": {},
     "output_type": "execute_result"
    }
   ],
   "source": [
    "b.rfind('are')"
   ]
  },
  {
   "cell_type": "code",
   "execution_count": 244,
   "id": "59a7849a-a84c-4c92-a5e0-84d07583e160",
   "metadata": {},
   "outputs": [
    {
     "data": {
      "text/plain": [
       "-1"
      ]
     },
     "execution_count": 244,
     "metadata": {},
     "output_type": "execute_result"
    }
   ],
   "source": [
    "b.find('vijaya')"
   ]
  },
  {
   "cell_type": "code",
   "execution_count": 242,
   "id": "c034787a-b000-4f84-a3d6-c6cb46c0bf1f",
   "metadata": {},
   "outputs": [
    {
     "data": {
      "text/plain": [
       "-1"
      ]
     },
     "execution_count": 242,
     "metadata": {},
     "output_type": "execute_result"
    }
   ],
   "source": [
    "b.rfind('vijaya')"
   ]
  },
  {
   "cell_type": "code",
   "execution_count": 230,
   "id": "ef51acfe-1d36-4adb-a0bd-9e2bf309afae",
   "metadata": {},
   "outputs": [
    {
     "data": {
      "text/plain": [
       "'Do not stop when you are tired. Stop when you are done.'"
      ]
     },
     "execution_count": 230,
     "metadata": {},
     "output_type": "execute_result"
    }
   ],
   "source": [
    "b"
   ]
  },
  {
   "cell_type": "code",
   "execution_count": 286,
   "id": "f6811647-4520-444c-a0ba-4b2c835d18ea",
   "metadata": {},
   "outputs": [
    {
     "data": {
      "text/plain": [
       "21"
      ]
     },
     "execution_count": 286,
     "metadata": {},
     "output_type": "execute_result"
    }
   ],
   "source": [
    "b.index('are')"
   ]
  },
  {
   "cell_type": "code",
   "execution_count": 288,
   "id": "763faadb-f87d-4ce3-87b9-a5f69a3cc65f",
   "metadata": {},
   "outputs": [
    {
     "data": {
      "text/plain": [
       "46"
      ]
     },
     "execution_count": 288,
     "metadata": {},
     "output_type": "execute_result"
    }
   ],
   "source": [
    "b.rindex('are')"
   ]
  },
  {
   "cell_type": "code",
   "execution_count": 246,
   "id": "a70a9458-2362-457d-a6b8-959910578c27",
   "metadata": {},
   "outputs": [
    {
     "ename": "ValueError",
     "evalue": "substring not found",
     "output_type": "error",
     "traceback": [
      "\u001b[1;31m---------------------------------------------------------------------------\u001b[0m",
      "\u001b[1;31mValueError\u001b[0m                                Traceback (most recent call last)",
      "Cell \u001b[1;32mIn[246], line 1\u001b[0m\n\u001b[1;32m----> 1\u001b[0m b\u001b[38;5;241m.\u001b[39mindex(\u001b[38;5;124m'\u001b[39m\u001b[38;5;124mvijaya\u001b[39m\u001b[38;5;124m'\u001b[39m)\n",
      "\u001b[1;31mValueError\u001b[0m: substring not found"
     ]
    }
   ],
   "source": [
    "b.index('vijaya')"
   ]
  },
  {
   "cell_type": "code",
   "execution_count": 240,
   "id": "e6fa1096-e8d2-4b25-88bb-bdd8dc5affd2",
   "metadata": {},
   "outputs": [
    {
     "ename": "ValueError",
     "evalue": "substring not found",
     "output_type": "error",
     "traceback": [
      "\u001b[1;31m---------------------------------------------------------------------------\u001b[0m",
      "\u001b[1;31mValueError\u001b[0m                                Traceback (most recent call last)",
      "Cell \u001b[1;32mIn[240], line 1\u001b[0m\n\u001b[1;32m----> 1\u001b[0m b\u001b[38;5;241m.\u001b[39mrindex(\u001b[38;5;124m'\u001b[39m\u001b[38;5;124mVijaya\u001b[39m\u001b[38;5;124m'\u001b[39m)\n",
      "\u001b[1;31mValueError\u001b[0m: substring not found"
     ]
    }
   ],
   "source": [
    "b.rindex('Vijaya')"
   ]
  },
  {
   "cell_type": "code",
   "execution_count": 294,
   "id": "e8c23e21-5c12-44bc-819a-6866b71c778d",
   "metadata": {},
   "outputs": [
    {
     "data": {
      "text/plain": [
       "' is sample string. this is sample string.'"
      ]
     },
     "execution_count": 294,
     "metadata": {},
     "output_type": "execute_result"
    }
   ],
   "source": [
    "'this is sample string. this is sample string.'.removeprefix('this')\n",
    "\n",
    "# Prefix -- start of the word or sentence\n",
    "# Sufix --- end of the word or sentence"
   ]
  },
  {
   "cell_type": "code",
   "execution_count": 250,
   "id": "40bf0a6b-ecdb-4654-bd7b-e9b7ba18f98f",
   "metadata": {},
   "outputs": [
    {
     "data": {
      "text/plain": [
       "'this is sample string. this is sample string.'"
      ]
     },
     "execution_count": 250,
     "metadata": {},
     "output_type": "execute_result"
    }
   ],
   "source": [
    "'this is sample string. this is sample string.'.removeprefix('apple')"
   ]
  },
  {
   "cell_type": "code",
   "execution_count": 252,
   "id": "d3753a5e-74a4-46df-af58-8d11303b5757",
   "metadata": {},
   "outputs": [
    {
     "data": {
      "text/plain": [
       "'this is sample string. this is sample string'"
      ]
     },
     "execution_count": 252,
     "metadata": {},
     "output_type": "execute_result"
    }
   ],
   "source": [
    "'this is sample string. this is sample string.'.removesuffix('.')"
   ]
  },
  {
   "cell_type": "code",
   "execution_count": 292,
   "id": "2a42776b-67f6-48db-b2e4-ab50b74e919f",
   "metadata": {},
   "outputs": [
    {
     "data": {
      "text/plain": [
       "'this is sample string. this is sample string.'"
      ]
     },
     "execution_count": 292,
     "metadata": {},
     "output_type": "execute_result"
    }
   ],
   "source": [
    "'this is sample string. this is sample string.'.removesuffix('is')"
   ]
  },
  {
   "cell_type": "code",
   "execution_count": 256,
   "id": "a392deac-d8a5-4eb8-9334-97d6ad994621",
   "metadata": {},
   "outputs": [
    {
     "data": {
      "text/plain": [
       "['this is sample string. this is sample string.']"
      ]
     },
     "execution_count": 256,
     "metadata": {},
     "output_type": "execute_result"
    }
   ],
   "source": [
    "'this is sample string. this is sample string.'.splitlines()"
   ]
  },
  {
   "cell_type": "code",
   "execution_count": 258,
   "id": "aafda39c-7494-4257-8162-ec1979c8b693",
   "metadata": {},
   "outputs": [
    {
     "data": {
      "text/plain": [
       "['this is ', 'sample string. this ', 'is sample \\tstring.']"
      ]
     },
     "execution_count": 258,
     "metadata": {},
     "output_type": "execute_result"
    }
   ],
   "source": [
    "'this is \\nsample string. this \\nis sample \\tstring.'.splitlines()\n",
    "# split based on new lines\n",
    "# \\n, \\r, \\n\\r"
   ]
  },
  {
   "cell_type": "code",
   "execution_count": 260,
   "id": "9c8d65f0-5e59-43ba-a0cb-dec626fdc519",
   "metadata": {},
   "outputs": [
    {
     "data": {
      "text/plain": [
       "['this is sample string. this ', 'is sample ', 'string.']"
      ]
     },
     "execution_count": 260,
     "metadata": {},
     "output_type": "execute_result"
    }
   ],
   "source": [
    "'this is sample string. this \\nis sample \\rstring.'.splitlines()"
   ]
  },
  {
   "cell_type": "code",
   "execution_count": 262,
   "id": "b70c8a05-9830-4df5-9228-06c6e28a3236",
   "metadata": {},
   "outputs": [
    {
     "data": {
      "text/plain": [
       "['this is sample string. this ', 'is sample ', 'string.']"
      ]
     },
     "execution_count": 262,
     "metadata": {},
     "output_type": "execute_result"
    }
   ],
   "source": [
    "'this is sample string. this \\r\\nis sample \\rstring.'.splitlines()"
   ]
  },
  {
   "cell_type": "code",
   "execution_count": 264,
   "id": "d2d29753-4045-44f7-8346-cc454d1ff7e6",
   "metadata": {},
   "outputs": [
    {
     "data": {
      "text/plain": [
       "['this is sample string. this \\r', 'is sample \\rstring.']"
      ]
     },
     "execution_count": 264,
     "metadata": {},
     "output_type": "execute_result"
    }
   ],
   "source": [
    "'this is sample string. this \\r\\nis sample \\rstring.'.split('\\n')"
   ]
  },
  {
   "cell_type": "code",
   "execution_count": 266,
   "id": "be9d9a5e-8b5b-4d4b-a6c0-dc71208cff74",
   "metadata": {},
   "outputs": [
    {
     "data": {
      "text/plain": [
       "['this is ', 'sample string. this ', 'is sample \\tstring.']"
      ]
     },
     "execution_count": 266,
     "metadata": {},
     "output_type": "execute_result"
    }
   ],
   "source": [
    "'this is \\nsample string. this \\nis sample \\tstring.'.split('\\n')"
   ]
  },
  {
   "cell_type": "code",
   "execution_count": 283,
   "id": "d4579f9f-b8b4-4bfa-973b-e07ec672fe8a",
   "metadata": {},
   "outputs": [],
   "source": [
    "# Iterators -- object containing multiple items - ex: list, tuple, set, dict\n",
    "# Iterable -- object that can be sliced -- ex: all iterators and string \n",
    "\n",
    "# ** String is not an iterator but it is iterable"
   ]
  },
  {
   "cell_type": "code",
   "execution_count": 270,
   "id": "7f004579",
   "metadata": {},
   "outputs": [],
   "source": [
    "input_tuple = (1,2,3,4,5,6,7)"
   ]
  },
  {
   "cell_type": "code",
   "execution_count": 272,
   "id": "6bbc792b-c946-4df5-865e-a4ae627aa7f6",
   "metadata": {},
   "outputs": [
    {
     "data": {
      "text/plain": [
       "(3, 4, 5, 6)"
      ]
     },
     "execution_count": 272,
     "metadata": {},
     "output_type": "execute_result"
    }
   ],
   "source": [
    "input_tuple[2:6]"
   ]
  },
  {
   "cell_type": "code",
   "execution_count": 274,
   "id": "45ca5079-b1aa-4a03-bcf3-f4eca112ad04",
   "metadata": {},
   "outputs": [],
   "source": [
    "input_string = \"Sample String\""
   ]
  },
  {
   "cell_type": "code",
   "execution_count": 278,
   "id": "c4721cec-7b57-4b1e-aa4c-245210a9b63e",
   "metadata": {},
   "outputs": [
    {
     "data": {
      "text/plain": [
       "'le Strin'"
      ]
     },
     "execution_count": 278,
     "metadata": {},
     "output_type": "execute_result"
    }
   ],
   "source": [
    "input_string[4:12]"
   ]
  },
  {
   "cell_type": "code",
   "execution_count": null,
   "id": "a84ca934-06a5-48bf-9d73-77a2edf84694",
   "metadata": {},
   "outputs": [],
   "source": []
  }
 ],
 "metadata": {
  "kernelspec": {
   "display_name": "Python 3 (ipykernel)",
   "language": "python",
   "name": "python3"
  },
  "language_info": {
   "codemirror_mode": {
    "name": "ipython",
    "version": 3
   },
   "file_extension": ".py",
   "mimetype": "text/x-python",
   "name": "python",
   "nbconvert_exporter": "python",
   "pygments_lexer": "ipython3",
   "version": "3.12.4"
  }
 },
 "nbformat": 4,
 "nbformat_minor": 5
}
