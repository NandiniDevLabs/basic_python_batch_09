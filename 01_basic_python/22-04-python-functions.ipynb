{
 "cells": [
  {
   "cell_type": "markdown",
   "id": "54863593-2755-4aa7-8982-2e0d6a25a29e",
   "metadata": {},
   "source": [
    "# Doc string"
   ]
  },
  {
   "cell_type": "code",
   "execution_count": 1,
   "id": "521f6678-b291-4f12-9110-7e165f9e6ee2",
   "metadata": {},
   "outputs": [],
   "source": [
    "def add_two_num(a,b):\n",
    "    return a+b"
   ]
  },
  {
   "cell_type": "code",
   "execution_count": 2,
   "id": "3fd4f32a-8630-4efa-9138-d8d2803a2ca6",
   "metadata": {},
   "outputs": [
    {
     "data": {
      "text/plain": [
       "30"
      ]
     },
     "execution_count": 2,
     "metadata": {},
     "output_type": "execute_result"
    }
   ],
   "source": [
    "add_two_num(10,20)"
   ]
  },
  {
   "cell_type": "code",
   "execution_count": 3,
   "id": "ef0162f3-9b0c-4caf-b264-c33899c32888",
   "metadata": {},
   "outputs": [
    {
     "name": "stdout",
     "output_type": "stream",
     "text": [
      "\u001b[1;31mSignature:\u001b[0m \u001b[0madd_two_num\u001b[0m\u001b[1;33m(\u001b[0m\u001b[0ma\u001b[0m\u001b[1;33m,\u001b[0m \u001b[0mb\u001b[0m\u001b[1;33m)\u001b[0m\u001b[1;33m\u001b[0m\u001b[1;33m\u001b[0m\u001b[0m\n",
      "\u001b[1;31mDocstring:\u001b[0m <no docstring>\n",
      "\u001b[1;31mFile:\u001b[0m      c:\\users\\vijaya nandini\\appdata\\local\\temp\\ipykernel_16520\\875579401.py\n",
      "\u001b[1;31mType:\u001b[0m      function"
     ]
    }
   ],
   "source": [
    "add_two_num?"
   ]
  },
  {
   "cell_type": "code",
   "execution_count": 5,
   "id": "80dae390-2b67-4abd-b9b1-b8b04af421f7",
   "metadata": {},
   "outputs": [],
   "source": [
    "def add_two_num(a,b):\n",
    "    \"\"\"\n",
    "    Adds two inputs a and b and returns the final sum.\n",
    "    Ex: add_two_num(a=10,b=20)\n",
    "    \"\"\"\n",
    "    return a+b"
   ]
  },
  {
   "cell_type": "code",
   "execution_count": 6,
   "id": "1faf77f9-39a3-4eac-94da-ad92d8211683",
   "metadata": {},
   "outputs": [
    {
     "name": "stdout",
     "output_type": "stream",
     "text": [
      "\u001b[1;31mSignature:\u001b[0m \u001b[0madd_two_num\u001b[0m\u001b[1;33m(\u001b[0m\u001b[0ma\u001b[0m\u001b[1;33m,\u001b[0m \u001b[0mb\u001b[0m\u001b[1;33m)\u001b[0m\u001b[1;33m\u001b[0m\u001b[1;33m\u001b[0m\u001b[0m\n",
      "\u001b[1;31mDocstring:\u001b[0m\n",
      "Adds two inputs a and b and returns the final sum.\n",
      "Ex: add_two_num(a=10,b=20)\n",
      "\u001b[1;31mFile:\u001b[0m      c:\\users\\vijaya nandini\\appdata\\local\\temp\\ipykernel_16520\\2530638461.py\n",
      "\u001b[1;31mType:\u001b[0m      function"
     ]
    }
   ],
   "source": [
    "add_two_num?"
   ]
  },
  {
   "cell_type": "code",
   "execution_count": 11,
   "id": "62eda278-d461-468a-a444-54bf0ba6db23",
   "metadata": {},
   "outputs": [],
   "source": [
    "def multiply_n_num(*args):\n",
    "    '''\n",
    "    Multiplies n numbers provided in the input.\n",
    "    If single number is provided, it returns the same numbers.\n",
    "    Ex: multiply_n_num(10), it returns 10\n",
    "    If two numbers are provided, it returns the multiplication of those two numbers.\n",
    "    Ex: multiply_n_num(10,2), it returns 20\n",
    "    '''\n",
    "    result = 1\n",
    "    for num in args:\n",
    "        result = result * num\n",
    "    return result"
   ]
  },
  {
   "cell_type": "code",
   "execution_count": 8,
   "id": "27004fdb-1468-426c-8949-a5c7208f816f",
   "metadata": {},
   "outputs": [
    {
     "data": {
      "text/plain": [
       "60"
      ]
     },
     "execution_count": 8,
     "metadata": {},
     "output_type": "execute_result"
    }
   ],
   "source": [
    "multiply_n_num(10,2,3)"
   ]
  },
  {
   "cell_type": "code",
   "execution_count": 9,
   "id": "1ce3443a-7820-43c7-bdc1-98bd940fde42",
   "metadata": {},
   "outputs": [
    {
     "name": "stdout",
     "output_type": "stream",
     "text": [
      "\u001b[1;31mSignature:\u001b[0m \u001b[0mmultiply_n_num\u001b[0m\u001b[1;33m(\u001b[0m\u001b[1;33m*\u001b[0m\u001b[0margs\u001b[0m\u001b[1;33m)\u001b[0m\u001b[1;33m\u001b[0m\u001b[1;33m\u001b[0m\u001b[0m\n",
      "\u001b[1;31mDocstring:\u001b[0m\n",
      "Multiplies n numbers provided in the input.\n",
      "If single number is provided, it returns the same numbers.\n",
      "Ex: multiply_n_num(10), it returns 10\n",
      "If two numbers are provided, it returns the multiplication of those two numbers.\n",
      "Ex: multiply_n_num(10,2), it returns 20\n",
      "\u001b[1;31mFile:\u001b[0m      c:\\users\\vijaya nandini\\appdata\\local\\temp\\ipykernel_16520\\456478982.py\n",
      "\u001b[1;31mType:\u001b[0m      function"
     ]
    }
   ],
   "source": [
    "multiply_n_num?"
   ]
  },
  {
   "cell_type": "code",
   "execution_count": 10,
   "id": "8d78de5d-b634-4931-b4b4-300387cbc659",
   "metadata": {},
   "outputs": [
    {
     "name": "stdout",
     "output_type": "stream",
     "text": [
      "\u001b[1;31mSignature:\u001b[0m \u001b[0mmultiply_n_num\u001b[0m\u001b[1;33m(\u001b[0m\u001b[1;33m*\u001b[0m\u001b[0margs\u001b[0m\u001b[1;33m)\u001b[0m\u001b[1;33m\u001b[0m\u001b[1;33m\u001b[0m\u001b[0m\n",
      "\u001b[1;31mSource:\u001b[0m   \n",
      "\u001b[1;32mdef\u001b[0m \u001b[0mmultiply_n_num\u001b[0m\u001b[1;33m(\u001b[0m\u001b[1;33m*\u001b[0m\u001b[0margs\u001b[0m\u001b[1;33m)\u001b[0m\u001b[1;33m:\u001b[0m\u001b[1;33m\n",
      "\u001b[0m    \u001b[1;34m\"\"\"\n",
      "    Multiplies n numbers provided in the input.\n",
      "    If single number is provided, it returns the same numbers.\n",
      "    Ex: multiply_n_num(10), it returns 10\n",
      "    If two numbers are provided, it returns the multiplication of those two numbers.\n",
      "    Ex: multiply_n_num(10,2), it returns 20\n",
      "    \"\"\"\u001b[0m\u001b[1;33m\n",
      "\u001b[0m    \u001b[0mresult\u001b[0m \u001b[1;33m=\u001b[0m \u001b[1;36m1\u001b[0m\u001b[1;33m\n",
      "\u001b[0m    \u001b[1;32mfor\u001b[0m \u001b[0mnum\u001b[0m \u001b[1;32min\u001b[0m \u001b[0margs\u001b[0m\u001b[1;33m:\u001b[0m\u001b[1;33m\n",
      "\u001b[0m        \u001b[0mresult\u001b[0m \u001b[1;33m=\u001b[0m \u001b[0mresult\u001b[0m \u001b[1;33m*\u001b[0m \u001b[0mnum\u001b[0m\u001b[1;33m\n",
      "\u001b[0m    \u001b[1;32mreturn\u001b[0m \u001b[0mresult\u001b[0m\u001b[1;33m\u001b[0m\u001b[1;33m\u001b[0m\u001b[0m\n",
      "\u001b[1;31mFile:\u001b[0m      c:\\users\\vijaya nandini\\appdata\\local\\temp\\ipykernel_16520\\456478982.py\n",
      "\u001b[1;31mType:\u001b[0m      function"
     ]
    }
   ],
   "source": [
    "multiply_n_num??"
   ]
  },
  {
   "cell_type": "markdown",
   "id": "083e1a13-e319-4650-92b1-9c96094d86c9",
   "metadata": {},
   "source": [
    "# Lambda Function \n",
    "Also called as **unnamed** function or **anonymous** function"
   ]
  },
  {
   "cell_type": "code",
   "execution_count": 1,
   "id": "d7af147c-8f01-4bb8-b8ec-69baab2d5be4",
   "metadata": {},
   "outputs": [],
   "source": [
    "# Normal function\n",
    "def add_two_num(a,b):\n",
    "    return a+b"
   ]
  },
  {
   "cell_type": "code",
   "execution_count": 3,
   "id": "0e1ba18f",
   "metadata": {},
   "outputs": [
    {
     "data": {
      "text/plain": [
       "5"
      ]
     },
     "execution_count": 3,
     "metadata": {},
     "output_type": "execute_result"
    }
   ],
   "source": [
    "add_two_num(2,3)"
   ]
  },
  {
   "cell_type": "code",
   "execution_count": 7,
   "id": "09f88bf2",
   "metadata": {},
   "outputs": [],
   "source": [
    "addition = lambda a,b: a+b"
   ]
  },
  {
   "cell_type": "code",
   "execution_count": 8,
   "metadata": {},
   "outputs": [
    {
     "data": {
      "text/plain": [
       "5"
      ]
     },
     "execution_count": 8,
     "metadata": {},
     "output_type": "execute_result"
    }
   ],
   "source": [
    "addition(2,3)"
   ]
  },
  {
   "cell_type": "code",
   "execution_count": 9,
   "id": "855d7267",
   "metadata": {},
   "outputs": [],
   "source": [
    "# First Name, Middle Name, Last Name --> Function should generate Full name\n",
    "f_name = 'Vijaya'\n",
    "m_name = 'Nandini'\n",
    "l_name = 'M'"
   ]
  },
  {
   "cell_type": "code",
   "execution_count": 13,
   "id": "6f5db260",
   "metadata": {},
   "outputs": [],
   "source": [
    "def generate_full_name(f_nm,m_nm,l_nm):\n",
    "    return f_nm + m_nm + l_nm"
   ]
  },
  {
   "cell_type": "code",
   "execution_count": 15,
   "metadata": {},
   "outputs": [
    {
     "name": "stdout",
     "output_type": "stream",
     "text": [
      "VijayaNandiniM\n"
     ]
    }
   ],
   "source": [
    "full_name = generate_full_name(f_name, m_name, l_name)\n",
    "print(full_name)"
   ]
  },
  {
   "cell_type": "code",
   "execution_count": 19,
   "id": "ccc12ed8",
   "metadata": {},
   "outputs": [],
   "source": [
    "lmdba_generate_full_nm = lambda a,b,c: a+b+c"
   ]
  },
  {
   "cell_type": "code",
   "execution_count": 20,
   "metadata": {},
   "outputs": [
    {
     "name": "stdout",
     "output_type": "stream",
     "text": [
      "VijayaNandiniM\n"
     ]
    }
   ],
   "source": [
    "full_name_2 = lmdba_generate_full_nm(f_name, m_name, l_name)\n",
    "print(full_name_2)"
   ]
  },
  {
   "cell_type": "code",
   "execution_count": 21,
   "id": "1e7aff90",
   "metadata": {},
   "outputs": [],
   "source": [
    "a = 100\n",
    "b = 200"
   ]
  },
  {
   "cell_type": "code",
   "execution_count": 23,
   "id": "4998fbbb-9e56-4d29-b22a-56f35636dab6",
   "metadata": {},
   "outputs": [
    {
     "name": "stdout",
     "output_type": "stream",
     "text": [
      "Hello\n"
     ]
    }
   ],
   "source": [
    "if a > b:\n",
    "    print(\"Hi\")\n",
    "else:\n",
    "    print(\"Hello\")"
   ]
  },
  {
   "cell_type": "code",
   "execution_count": 24,
   "id": "e1fa715e-1bd4-4443-9f12-bc2a69023438",
   "metadata": {},
   "outputs": [
    {
     "data": {
      "text/plain": [
       "'Hello'"
      ]
     },
     "execution_count": 24,
     "metadata": {},
     "output_type": "execute_result"
    }
   ],
   "source": [
    "'Hi' if a>b else 'Hello'  # Ternary Operator"
   ]
  },
  {
   "cell_type": "code",
   "execution_count": 25,
   "id": "4034d6f2",
   "metadata": {},
   "outputs": [],
   "source": [
    "msg = lambda a,b : 'Hi' if a>b else 'Hello' "
   ]
  },
  {
   "cell_type": "code",
   "execution_count": 27,
   "id": "f9bc88fd",
   "metadata": {},
   "outputs": [
    {
     "data": {
      "text/plain": [
       "'Hi'"
      ]
     },
     "execution_count": 27,
     "metadata": {},
     "output_type": "execute_result"
    }
   ],
   "source": [
    "msg(1000,200)"
   ]
  },
  {
   "cell_type": "code",
   "execution_count": null,
   "id": "d5eefbe9",
   "metadata": {},
   "outputs": [],
   "source": []
  },
  {
   "cell_type": "code",
   "execution_count": 28,
   "id": "b7555e57-e4c0-46a7-90ef-13658d32fdf3",
   "metadata": {},
   "outputs": [],
   "source": [
    "def square_of_number(num):\n",
    "    return num * num"
   ]
  },
  {
   "cell_type": "code",
   "execution_count": 29,
   "id": "8b9b53e0-cb4e-4744-adcf-163a93bc31de",
   "metadata": {},
   "outputs": [],
   "source": [
    "# num * num\n",
    "lmbd_square_of_num = lambda num : num * num"
   ]
  },
  {
   "cell_type": "code",
   "execution_count": 30,
   "id": "23225962-a647-45a2-9fb2-966991bb7b67",
   "metadata": {},
   "outputs": [
    {
     "data": {
      "text/plain": [
       "4"
      ]
     },
     "execution_count": 30,
     "metadata": {},
     "output_type": "execute_result"
    }
   ],
   "source": [
    "square_of_number(2)"
   ]
  },
  {
   "cell_type": "code",
   "execution_count": 31,
   "id": "e1e5ae06-35b5-4c54-9ecc-b177f6cba677",
   "metadata": {},
   "outputs": [
    {
     "data": {
      "text/plain": [
       "4"
      ]
     },
     "execution_count": 31,
     "metadata": {},
     "output_type": "execute_result"
    }
   ],
   "source": [
    "lmbd_square_of_num(2)"
   ]
  },
  {
   "cell_type": "code",
   "execution_count": 32,
   "id": "03847eb2",
   "metadata": {},
   "outputs": [],
   "source": [
    "sqrt_of_a = lambda a : a**(1/2)"
   ]
  },
  {
   "cell_type": "code",
   "execution_count": 34,
   "id": "3bf11745",
   "metadata": {},
   "outputs": [
    {
     "data": {
      "text/plain": [
       "3.0"
      ]
     },
     "execution_count": 34,
     "metadata": {},
     "output_type": "execute_result"
    }
   ],
   "source": [
    "sqrt_of_a(9)"
   ]
  },
  {
   "cell_type": "code",
   "execution_count": 35,
   "id": "8e38ed00",
   "metadata": {},
   "outputs": [],
   "source": [
    "# Requirement - to create a function\n",
    "# If input is even -- return 0\n",
    "# If input is odd --return 1"
   ]
  },
  {
   "cell_type": "code",
   "execution_count": 36,
   "id": "b03d8291",
   "metadata": {},
   "outputs": [],
   "source": [
    "a = 11"
   ]
  },
  {
   "cell_type": "code",
   "execution_count": 37,
   "id": "3f8c0a81",
   "metadata": {},
   "outputs": [
    {
     "data": {
      "text/plain": [
       "1"
      ]
     },
     "execution_count": 37,
     "metadata": {},
     "output_type": "execute_result"
    }
   ],
   "source": [
    "0 if a%2 == 0 else 1"
   ]
  },
  {
   "cell_type": "code",
   "execution_count": 38,
   "id": "d3642c03",
   "metadata": {},
   "outputs": [
    {
     "data": {
      "text/plain": [
       "0"
      ]
     },
     "execution_count": 38,
     "metadata": {},
     "output_type": "execute_result"
    }
   ],
   "source": [
    "a = 10\n",
    "0 if a%2 == 0 else 1"
   ]
  },
  {
   "cell_type": "code",
   "execution_count": 39,
   "id": "5001239a",
   "metadata": {},
   "outputs": [],
   "source": [
    "tmp_func = lambda a: 0 if a%2 == 0 else 1"
   ]
  },
  {
   "cell_type": "code",
   "execution_count": 40,
   "id": "2d9a1978",
   "metadata": {},
   "outputs": [
    {
     "data": {
      "text/plain": [
       "0"
      ]
     },
     "execution_count": 40,
     "metadata": {},
     "output_type": "execute_result"
    }
   ],
   "source": [
    "tmp_func(10)"
   ]
  },
  {
   "cell_type": "code",
   "execution_count": 41,
   "id": "f114de31",
   "metadata": {},
   "outputs": [
    {
     "data": {
      "text/plain": [
       "1"
      ]
     },
     "execution_count": 41,
     "metadata": {},
     "output_type": "execute_result"
    }
   ],
   "source": [
    "tmp_func(11)"
   ]
  },
  {
   "cell_type": "code",
   "execution_count": 42,
   "id": "d0c116e0",
   "metadata": {},
   "outputs": [],
   "source": [
    "def test_func(a):\n",
    "    return 0 if a%2 == 0 else 1"
   ]
  },
  {
   "cell_type": "code",
   "execution_count": null,
   "id": "b8963eee",
   "metadata": {},
   "outputs": [],
   "source": []
  }
 ],
 "metadata": {
  "kernelspec": {
   "display_name": "Python 3",
   "language": "python",
   "name": "python3"
  },
  "language_info": {
   "codemirror_mode": {
    "name": "ipython",
    "version": 3
   },
   "file_extension": ".py",
   "mimetype": "text/x-python",
   "name": "python",
   "nbconvert_exporter": "python",
   "pygments_lexer": "ipython3",
   "version": "3.11.9"
  }
 },
 "nbformat": 4,
 "nbformat_minor": 5
}
