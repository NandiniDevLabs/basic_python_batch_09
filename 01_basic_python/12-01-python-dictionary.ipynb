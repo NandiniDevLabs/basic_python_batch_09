{
 "cells": [
  {
   "cell_type": "markdown",
   "id": "0c001cd2",
   "metadata": {},
   "source": [
    "# Dictionary\n",
    "- Dictionaries are unordered mappings for storing objects. Previously we saw how lists store objects in an ordered sequence, dictionaries use  a key-value pairing instead.\n",
    "- This key-value pair allows users to quickly grab objects without needing to know an index location.\n",
    "- Dictionaries use curly braces and colons to signify the keys and their associated values.\n",
    "    - {'key1':'value1','key2':'value2'}\n"
   ]
  },
  {
   "cell_type": "markdown",
   "id": "0d63a543",
   "metadata": {},
   "source": [
    "### When to choose a list and when to choose a dictionary?\n",
    "1. Dictionaries:  \n",
    "    - Objects retrieved by key name.\n",
    "    - Unordered and can not be sorted.\n",
    "2. Lists:  \n",
    "    - Objects retrieved by location.\n",
    "    - Ordered Sequence can be indexed or sliced.\n"
   ]
  },
  {
   "cell_type": "code",
   "execution_count": 4,
   "id": "0d63a088-ce5d-4c03-b819-4718c0f56000",
   "metadata": {},
   "outputs": [],
   "source": [
    "dict1 = {'a':'Hi','b':100,'c':True,'d':13.45}"
   ]
  },
  {
   "cell_type": "code",
   "execution_count": 6,
   "id": "17495bfa-ad7c-4323-bd0b-870b8aa3ce01",
   "metadata": {},
   "outputs": [
    {
     "data": {
      "text/plain": [
       "{'a': 'Hi', 'b': 100, 'c': True, 'd': 13.45}"
      ]
     },
     "execution_count": 6,
     "metadata": {},
     "output_type": "execute_result"
    }
   ],
   "source": [
    "dict1"
   ]
  },
  {
   "cell_type": "code",
   "execution_count": 12,
   "id": "d8864579-51d5-4085-a741-3f12880b9bb5",
   "metadata": {},
   "outputs": [],
   "source": [
    "dict2 = {'a':'Hi','b':100,'a':True}  \n",
    "# Value 'Hi' is replaced with True, because of same Key"
   ]
  },
  {
   "cell_type": "code",
   "execution_count": 10,
   "id": "2a6c8116-0309-42fa-a73e-e8aaeedda2ce",
   "metadata": {},
   "outputs": [
    {
     "data": {
      "text/plain": [
       "{'a': True, 'b': 100}"
      ]
     },
     "execution_count": 10,
     "metadata": {},
     "output_type": "execute_result"
    }
   ],
   "source": [
    "dict2"
   ]
  },
  {
   "cell_type": "code",
   "execution_count": 14,
   "id": "e88bafcf-c34a-43b6-97c5-c6e3c66f7204",
   "metadata": {},
   "outputs": [
    {
     "data": {
      "text/plain": [
       "{'a': 'Hi', 'b': 100, 'c': True, 'd': 13.45}"
      ]
     },
     "execution_count": 14,
     "metadata": {},
     "output_type": "execute_result"
    }
   ],
   "source": [
    "dict1"
   ]
  },
  {
   "cell_type": "code",
   "execution_count": 16,
   "id": "2b185b29-c81e-44d1-9e78-6c43401bc9c3",
   "metadata": {},
   "outputs": [],
   "source": [
    "dict3 = {'a': ['Hi',True], 'b': 100, 'c': True, 'd': 13.45}"
   ]
  },
  {
   "cell_type": "code",
   "execution_count": 18,
   "id": "282e1103-b458-4e56-9d33-7ca398dd7e54",
   "metadata": {},
   "outputs": [
    {
     "data": {
      "text/plain": [
       "{'a': ['Hi', True], 'b': 100, 'c': True, 'd': 13.45}"
      ]
     },
     "execution_count": 18,
     "metadata": {},
     "output_type": "execute_result"
    }
   ],
   "source": [
    "dict3"
   ]
  },
  {
   "cell_type": "code",
   "execution_count": 24,
   "id": "47133109-1075-4486-a0cb-73a3bc19b863",
   "metadata": {},
   "outputs": [
    {
     "data": {
      "text/plain": [
       "\u001b[1;31mDocstring:\u001b[0m D.clear() -> None.  Remove all items from D.\n",
       "\u001b[1;31mType:\u001b[0m      builtin_function_or_method"
      ]
     },
     "metadata": {},
     "output_type": "display_data"
    }
   ],
   "source": [
    "# dict1.*?\n",
    "dict1.clear? --\n",
    "# dict1.copy\n",
    "# dict1.fromkeys\n",
    "# dict1.get\n",
    "# dict1.items\n",
    "# dict1.keys --\n",
    "# dict1.pop\n",
    "# dict1.popitem\n",
    "# dict1.setdefault\n",
    "# dict1.update\n",
    "# dict1.values --"
   ]
  },
  {
   "cell_type": "code",
   "execution_count": 26,
   "id": "7023819c-a969-4874-ae37-34687d6775af",
   "metadata": {},
   "outputs": [
    {
     "data": {
      "text/plain": [
       "{'a': 'Hi', 'b': 100, 'c': True, 'd': 13.45}"
      ]
     },
     "execution_count": 26,
     "metadata": {},
     "output_type": "execute_result"
    }
   ],
   "source": [
    "dict1"
   ]
  },
  {
   "cell_type": "code",
   "execution_count": 28,
   "id": "ade555ee-6872-4454-9e08-bcf894c0210f",
   "metadata": {},
   "outputs": [],
   "source": [
    "dict1.clear()"
   ]
  },
  {
   "cell_type": "code",
   "execution_count": 30,
   "id": "f4bcebaf-1044-40be-a170-362ef36e45aa",
   "metadata": {},
   "outputs": [
    {
     "data": {
      "text/plain": [
       "{}"
      ]
     },
     "execution_count": 30,
     "metadata": {},
     "output_type": "execute_result"
    }
   ],
   "source": [
    "dict1  # {} - empty dictionary"
   ]
  },
  {
   "cell_type": "code",
   "execution_count": 32,
   "id": "8800fb87-a816-4028-be68-8d56dc4e4a2e",
   "metadata": {},
   "outputs": [],
   "source": [
    "dict2 = {'a': 'Hi', 'b': 100, 'c': True, 'd': 13.45}"
   ]
  },
  {
   "cell_type": "code",
   "execution_count": 36,
   "id": "323252af-d836-4591-8b38-46342baa0d73",
   "metadata": {},
   "outputs": [
    {
     "data": {
      "text/plain": [
       "dict_keys(['a', 'b', 'c', 'd'])"
      ]
     },
     "execution_count": 36,
     "metadata": {},
     "output_type": "execute_result"
    }
   ],
   "source": [
    "dict2.keys()"
   ]
  },
  {
   "cell_type": "code",
   "execution_count": 38,
   "id": "08b8b8dd-4e91-4512-89c7-791a6185aa3e",
   "metadata": {},
   "outputs": [
    {
     "data": {
      "text/plain": [
       "dict_values(['Hi', 100, True, 13.45])"
      ]
     },
     "execution_count": 38,
     "metadata": {},
     "output_type": "execute_result"
    }
   ],
   "source": [
    "dict2.values()"
   ]
  },
  {
   "cell_type": "code",
   "execution_count": 40,
   "id": "dbe98e22-c71b-43b5-942f-a459ff9122be",
   "metadata": {},
   "outputs": [
    {
     "data": {
      "text/plain": [
       "{'a': 'Hi', 'b': 100, 'c': True, 'd': 13.45}"
      ]
     },
     "execution_count": 40,
     "metadata": {},
     "output_type": "execute_result"
    }
   ],
   "source": [
    "dict2"
   ]
  },
  {
   "cell_type": "code",
   "execution_count": 42,
   "id": "3f76b568-c3d3-4195-9a50-b86f5767e5af",
   "metadata": {},
   "outputs": [
    {
     "data": {
      "text/plain": [
       "dict_items([('a', 'Hi'), ('b', 100), ('c', True), ('d', 13.45)])"
      ]
     },
     "execution_count": 42,
     "metadata": {},
     "output_type": "execute_result"
    }
   ],
   "source": [
    "dict2.items()"
   ]
  },
  {
   "cell_type": "code",
   "execution_count": null,
   "id": "ea28a04c-4dba-4cad-99dc-a9fd04df1fb4",
   "metadata": {},
   "outputs": [],
   "source": []
  }
 ],
 "metadata": {
  "kernelspec": {
   "display_name": "Python 3 (ipykernel)",
   "language": "python",
   "name": "python3"
  },
  "language_info": {
   "codemirror_mode": {
    "name": "ipython",
    "version": 3
   },
   "file_extension": ".py",
   "mimetype": "text/x-python",
   "name": "python",
   "nbconvert_exporter": "python",
   "pygments_lexer": "ipython3",
   "version": "3.12.4"
  }
 },
 "nbformat": 4,
 "nbformat_minor": 5
}
