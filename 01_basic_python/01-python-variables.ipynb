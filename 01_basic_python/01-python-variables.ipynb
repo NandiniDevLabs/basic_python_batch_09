{
 "cells": [
  {
   "cell_type": "markdown",
   "id": "cfec6614",
   "metadata": {},
   "source": [
    "## Data Types - String, int, float, boolean, complex\n",
    "![Data Types](00-source/01-python-datatypes.png)"
   ]
  },
  {
   "cell_type": "code",
   "execution_count": 1,
   "id": "7f2c1758",
   "metadata": {},
   "outputs": [],
   "source": [
    "# Python Data types\n",
    "# Integer, Float, String and Boolean\n",
    "# Complex"
   ]
  },
  {
   "cell_type": "code",
   "execution_count": 2,
   "id": "fd264b6a",
   "metadata": {},
   "outputs": [],
   "source": [
    "a = 10"
   ]
  },
  {
   "cell_type": "code",
   "execution_count": 3,
   "id": "0cb0244d",
   "metadata": {},
   "outputs": [
    {
     "data": {
      "text/plain": [
       "int"
      ]
     },
     "execution_count": 3,
     "metadata": {},
     "output_type": "execute_result"
    }
   ],
   "source": [
    "type(a)"
   ]
  },
  {
   "cell_type": "code",
   "execution_count": 13,
   "id": "a3ab2dd2",
   "metadata": {},
   "outputs": [],
   "source": [
    "b = 10.34"
   ]
  },
  {
   "cell_type": "code",
   "execution_count": 14,
   "id": "e98c95b6",
   "metadata": {},
   "outputs": [
    {
     "data": {
      "text/plain": [
       "float"
      ]
     },
     "execution_count": 14,
     "metadata": {},
     "output_type": "execute_result"
    }
   ],
   "source": [
    "type(b)"
   ]
  },
  {
   "cell_type": "code",
   "execution_count": 15,
   "id": "0b72d66a",
   "metadata": {},
   "outputs": [],
   "source": [
    "c = 'Hi'"
   ]
  },
  {
   "cell_type": "code",
   "execution_count": 16,
   "id": "a9351b6c",
   "metadata": {},
   "outputs": [],
   "source": [
    "c2 = \"Hello\""
   ]
  },
  {
   "cell_type": "code",
   "execution_count": 9,
   "id": "78e1efef",
   "metadata": {},
   "outputs": [
    {
     "data": {
      "text/plain": [
       "str"
      ]
     },
     "execution_count": 9,
     "metadata": {},
     "output_type": "execute_result"
    }
   ],
   "source": [
    "type(c)"
   ]
  },
  {
   "cell_type": "code",
   "execution_count": 10,
   "id": "2e4142e6",
   "metadata": {},
   "outputs": [
    {
     "data": {
      "text/plain": [
       "str"
      ]
     },
     "execution_count": 10,
     "metadata": {},
     "output_type": "execute_result"
    }
   ],
   "source": [
    "type(c2)"
   ]
  },
  {
   "cell_type": "code",
   "execution_count": 11,
   "id": "1e6823d8",
   "metadata": {},
   "outputs": [],
   "source": [
    "d = True  # False"
   ]
  },
  {
   "cell_type": "code",
   "execution_count": 12,
   "id": "5762b649",
   "metadata": {},
   "outputs": [
    {
     "data": {
      "text/plain": [
       "bool"
      ]
     },
     "execution_count": 12,
     "metadata": {},
     "output_type": "execute_result"
    }
   ],
   "source": [
    "type(d)"
   ]
  },
  {
   "cell_type": "code",
   "execution_count": 18,
   "id": "d8d93c65",
   "metadata": {},
   "outputs": [
    {
     "data": {
      "text/plain": [
       "int"
      ]
     },
     "execution_count": 18,
     "metadata": {},
     "output_type": "execute_result"
    }
   ],
   "source": [
    "type(10)"
   ]
  },
  {
   "cell_type": "code",
   "execution_count": 19,
   "id": "5a54b298",
   "metadata": {},
   "outputs": [],
   "source": [
    "e = 2 + 3j"
   ]
  },
  {
   "cell_type": "code",
   "execution_count": 20,
   "id": "0c2e558e",
   "metadata": {},
   "outputs": [
    {
     "data": {
      "text/plain": [
       "complex"
      ]
     },
     "execution_count": 20,
     "metadata": {},
     "output_type": "execute_result"
    }
   ],
   "source": [
    "type(e)"
   ]
  },
  {
   "cell_type": "code",
   "execution_count": 21,
   "id": "5ca4e51a",
   "metadata": {},
   "outputs": [
    {
     "data": {
      "text/plain": [
       "complex"
      ]
     },
     "execution_count": 21,
     "metadata": {},
     "output_type": "execute_result"
    }
   ],
   "source": [
    "type(2 + 0j)"
   ]
  },
  {
   "cell_type": "code",
   "execution_count": 22,
   "id": "2e043d5a",
   "metadata": {},
   "outputs": [
    {
     "data": {
      "text/plain": [
       "int"
      ]
     },
     "execution_count": 22,
     "metadata": {},
     "output_type": "execute_result"
    }
   ],
   "source": [
    "type(2)"
   ]
  },
  {
   "cell_type": "code",
   "execution_count": 23,
   "id": "66bad0a2",
   "metadata": {},
   "outputs": [
    {
     "data": {
      "text/plain": [
       "bool"
      ]
     },
     "execution_count": 23,
     "metadata": {},
     "output_type": "execute_result"
    }
   ],
   "source": [
    "type(False)"
   ]
  },
  {
   "cell_type": "code",
   "execution_count": 26,
   "id": "f94850b9",
   "metadata": {},
   "outputs": [
    {
     "data": {
      "text/plain": [
       "str"
      ]
     },
     "execution_count": 26,
     "metadata": {},
     "output_type": "execute_result"
    }
   ],
   "source": [
    "# Single line string\n",
    "\"Today is python programming 1st class\""
   ]
  },
  {
   "cell_type": "code",
   "execution_count": 25,
   "id": "5e2b1329",
   "metadata": {},
   "outputs": [
    {
     "data": {
      "text/plain": [
       "'Today is python programming 1st class'"
      ]
     },
     "execution_count": 25,
     "metadata": {},
     "output_type": "execute_result"
    }
   ],
   "source": [
    "'Today is python programming 1st class'"
   ]
  },
  {
   "cell_type": "markdown",
   "id": "04a0b2c2",
   "metadata": {},
   "source": [
    "To display the value of variable"
   ]
  },
  {
   "cell_type": "code",
   "execution_count": 28,
   "id": "32296c19",
   "metadata": {},
   "outputs": [
    {
     "data": {
      "text/plain": [
       "10"
      ]
     },
     "execution_count": 28,
     "metadata": {},
     "output_type": "execute_result"
    }
   ],
   "source": [
    "a # this will only work in Notebook"
   ]
  },
  {
   "cell_type": "code",
   "execution_count": 29,
   "id": "0e759180",
   "metadata": {},
   "outputs": [
    {
     "name": "stdout",
     "output_type": "stream",
     "text": [
      "10\n"
     ]
    }
   ],
   "source": [
    "print(a)"
   ]
  },
  {
   "cell_type": "markdown",
   "id": "f2042c7a",
   "metadata": {},
   "source": [
    "### Multi-line String"
   ]
  },
  {
   "cell_type": "code",
   "execution_count": 27,
   "id": "93181d4c",
   "metadata": {},
   "outputs": [
    {
     "data": {
      "text/plain": [
       "'Today is \\npython programming \\n1st class'"
      ]
     },
     "execution_count": 27,
     "metadata": {},
     "output_type": "execute_result"
    }
   ],
   "source": [
    "\"\"\"Today is \n",
    "python programming \n",
    "1st class\"\"\""
   ]
  },
  {
   "cell_type": "code",
   "execution_count": 30,
   "id": "d9ba7fdc",
   "metadata": {},
   "outputs": [
    {
     "name": "stdout",
     "output_type": "stream",
     "text": [
      "Today is \n",
      "python programming \n",
      "1st class\n"
     ]
    }
   ],
   "source": [
    "print(\"\"\"Today is \n",
    "python programming \n",
    "1st class\"\"\")"
   ]
  },
  {
   "cell_type": "code",
   "execution_count": 31,
   "id": "e0193b83",
   "metadata": {},
   "outputs": [
    {
     "data": {
      "text/plain": [
       "'\\nToday is \\npython programming \\n1st class\\n'"
      ]
     },
     "execution_count": 31,
     "metadata": {},
     "output_type": "execute_result"
    }
   ],
   "source": [
    "'''\n",
    "Today is \n",
    "python programming \n",
    "1st class\n",
    "'''"
   ]
  },
  {
   "cell_type": "code",
   "execution_count": 32,
   "id": "43536cd7",
   "metadata": {},
   "outputs": [
    {
     "name": "stdout",
     "output_type": "stream",
     "text": [
      "\n",
      "Today is \n",
      "python programming \n",
      "1st class\n",
      "\n"
     ]
    }
   ],
   "source": [
    "print('''\n",
    "Today is \n",
    "python programming \n",
    "1st class\n",
    "''')"
   ]
  },
  {
   "cell_type": "markdown",
   "id": "22261839",
   "metadata": {},
   "source": [
    "Using quotes\n",
    "- '' - single quote\n",
    "- \"\" - double quote\n",
    "- \"\"\" \"\"\" - triple quote\n",
    "- ''' ''' - triple quote"
   ]
  },
  {
   "cell_type": "markdown",
   "id": "9eb4405f",
   "metadata": {},
   "source": [
    "## Python does not have multi-line comment\n",
    "- To comment multiple lines, use **ctrl + /**\n",
    "- To uncomment multiple lines, use same command: **ctrl + /**\n",
    "- Additionally you can use multi-line string: **\"\"\" Multi-line code to be commented \"\"\"**"
   ]
  },
  {
   "cell_type": "code",
   "execution_count": 35,
   "id": "8ae8a903",
   "metadata": {},
   "outputs": [
    {
     "name": "stdout",
     "output_type": "stream",
     "text": [
      "20\n"
     ]
    }
   ],
   "source": [
    "# This is comment, which will not execute\n",
    "a = 20\n",
    "print(a)"
   ]
  },
  {
   "cell_type": "code",
   "execution_count": null,
   "id": "aaeae2e9",
   "metadata": {},
   "outputs": [],
   "source": [
    "a = 10\n",
    "b = 20.98\n",
    "# c = 'hi'\n",
    "# d = True\n",
    "# e = 2 + 3.5j"
   ]
  },
  {
   "cell_type": "code",
   "execution_count": null,
   "id": "b1c6e5ca",
   "metadata": {},
   "outputs": [],
   "source": [
    "# Least used\n",
    "'''\n",
    "a = 10\n",
    "b = 20.98\n",
    "c = 'hi'\n",
    "d = True\n",
    "e = 2 + 3.5j\n",
    "'''"
   ]
  },
  {
   "cell_type": "markdown",
   "id": "ab3ddb7e",
   "metadata": {},
   "source": [
    "# Variables"
   ]
  },
  {
   "cell_type": "code",
   "execution_count": 36,
   "id": "9fa1ce15",
   "metadata": {},
   "outputs": [],
   "source": [
    "a = 10"
   ]
  },
  {
   "cell_type": "code",
   "execution_count": 37,
   "id": "4d5cb50b",
   "metadata": {},
   "outputs": [
    {
     "name": "stdout",
     "output_type": "stream",
     "text": [
      "10\n"
     ]
    }
   ],
   "source": [
    "print(a)"
   ]
  },
  {
   "cell_type": "code",
   "execution_count": 40,
   "id": "c79f6b07",
   "metadata": {},
   "outputs": [],
   "source": [
    "a = 20.34"
   ]
  },
  {
   "cell_type": "code",
   "execution_count": 41,
   "id": "5fe3fb90",
   "metadata": {},
   "outputs": [
    {
     "name": "stdout",
     "output_type": "stream",
     "text": [
      "20.34\n"
     ]
    }
   ],
   "source": [
    "print(a)"
   ]
  },
  {
   "cell_type": "code",
   "execution_count": 42,
   "id": "494e6544",
   "metadata": {},
   "outputs": [
    {
     "data": {
      "text/plain": [
       "float"
      ]
     },
     "execution_count": 42,
     "metadata": {},
     "output_type": "execute_result"
    }
   ],
   "source": [
    "type(a)"
   ]
  },
  {
   "cell_type": "markdown",
   "id": "29ad21ee",
   "metadata": {},
   "source": [
    "## Rules for variable names\n",
    "- Names can not start with a number.\n",
    "- There can be no spaces in the name, use _ instead.\n",
    "- Can't use any of these symbols :'\",<>/?|\\()!@#$%^&*~-+\n",
    "- It's considered best practice (PEP8) that names are lowercase.\n",
    "- Avoid using words that have special meaning in Python like \"list\" and \"str\""
   ]
  },
  {
   "cell_type": "code",
   "execution_count": 43,
   "id": "8268a2d1",
   "metadata": {},
   "outputs": [],
   "source": [
    "a1 = 23.1\n",
    "# 1a  -- this is not allowed\n"
   ]
  },
  {
   "cell_type": "code",
   "execution_count": 44,
   "id": "54916baa",
   "metadata": {},
   "outputs": [
    {
     "name": "stdout",
     "output_type": "stream",
     "text": [
      "10.3\n"
     ]
    }
   ],
   "source": [
    "_1a = 10.3\n",
    "print(_1a)"
   ]
  },
  {
   "cell_type": "code",
   "execution_count": 45,
   "id": "7d919829",
   "metadata": {},
   "outputs": [],
   "source": [
    "# Some examples of variable names\n",
    "# fname\n",
    "# first_name --> suggested\n",
    "# fName\n",
    "# firstName"
   ]
  },
  {
   "cell_type": "markdown",
   "id": "5a8e2ec6",
   "metadata": {},
   "source": [
    "## PEP 8 – Style Guide for Python Code\n",
    "Refer the following links to understand PEP8\n",
    "- [Link1](https://www.datacamp.com/tutorial/pep8-tutorial-python-code)\n",
    "- [Link2](https://peps.python.org/pep-0008/)\n",
    "\n",
    "Still not clear? Just google it yourself."
   ]
  },
  {
   "cell_type": "code",
   "execution_count": 46,
   "id": "5eb4f6d0",
   "metadata": {},
   "outputs": [],
   "source": [
    "# Suggestions about variable names"
   ]
  },
  {
   "cell_type": "markdown",
   "id": "e3fd37c6",
   "metadata": {},
   "source": [
    "- Variable names should not start with digits or special characters except underscore(_)\n",
    "- Variable names should not be keywords -- avoid it\n",
    "- Variable names should explain the data that it is storing"
   ]
  },
  {
   "cell_type": "code",
   "execution_count": null,
   "id": "9dee9f90",
   "metadata": {},
   "outputs": [],
   "source": []
  },
  {
   "cell_type": "markdown",
   "id": "956db38f",
   "metadata": {},
   "source": [
    "## Python Dynamic Typing\n",
    "- Python uses Dynamic Typing\n",
    "- This means you can reassign variables to different data types.\n",
    "- This makes Python very flexible in assigning data types, this is different than other languages that are “Statically-Typed”"
   ]
  },
  {
   "cell_type": "code",
   "execution_count": 47,
   "id": "df3660ec",
   "metadata": {},
   "outputs": [],
   "source": [
    "a = True   # Boolean Type"
   ]
  },
  {
   "cell_type": "code",
   "execution_count": 48,
   "id": "4be5753b",
   "metadata": {},
   "outputs": [
    {
     "name": "stdout",
     "output_type": "stream",
     "text": [
      "True\n"
     ]
    }
   ],
   "source": [
    "print(a)"
   ]
  },
  {
   "cell_type": "code",
   "execution_count": null,
   "id": "f4adc0a2",
   "metadata": {},
   "outputs": [],
   "source": [
    "a = 'Hi All'  # String Type"
   ]
  },
  {
   "cell_type": "code",
   "execution_count": 49,
   "id": "14c0b863",
   "metadata": {},
   "outputs": [
    {
     "name": "stdout",
     "output_type": "stream",
     "text": [
      "True\n"
     ]
    }
   ],
   "source": [
    "print(a)"
   ]
  },
  {
   "cell_type": "markdown",
   "id": "bafe423f",
   "metadata": {},
   "source": [
    "## Pros and Cons of Dynamic Typing\n",
    "- Pros of Dynamic Typing:\n",
    "    1. Very easy to work with\n",
    "    2. Faster development time\n",
    "- Cons of Dynamic Typing:\n",
    "    1. May result in bugs for unexpected data types!\n",
    "    2. You need to be aware of type()"
   ]
  },
  {
   "cell_type": "code",
   "execution_count": null,
   "id": "448f5290",
   "metadata": {},
   "outputs": [],
   "source": []
  },
  {
   "cell_type": "markdown",
   "id": "0ad27549",
   "metadata": {},
   "source": [
    "## Type Conversion\n",
    "- int()\n",
    "- float()\n",
    "- str()\n",
    "- bool()\n",
    "- complex()"
   ]
  },
  {
   "cell_type": "code",
   "execution_count": 50,
   "id": "70bfc53e",
   "metadata": {},
   "outputs": [],
   "source": [
    "a = 10\n",
    "b = 5.6\n",
    "c = 'Hi'\n",
    "d = True"
   ]
  },
  {
   "cell_type": "code",
   "execution_count": 51,
   "id": "e2989fb4",
   "metadata": {},
   "outputs": [
    {
     "data": {
      "text/plain": [
       "int"
      ]
     },
     "execution_count": 51,
     "metadata": {},
     "output_type": "execute_result"
    }
   ],
   "source": [
    "type(a)"
   ]
  },
  {
   "cell_type": "code",
   "execution_count": 52,
   "id": "233febe3",
   "metadata": {},
   "outputs": [
    {
     "data": {
      "text/plain": [
       "10.0"
      ]
     },
     "execution_count": 52,
     "metadata": {},
     "output_type": "execute_result"
    }
   ],
   "source": [
    "float(a)"
   ]
  },
  {
   "cell_type": "code",
   "execution_count": 53,
   "id": "d0a41082",
   "metadata": {},
   "outputs": [
    {
     "data": {
      "text/plain": [
       "float"
      ]
     },
     "execution_count": 53,
     "metadata": {},
     "output_type": "execute_result"
    }
   ],
   "source": [
    "type(b)"
   ]
  },
  {
   "cell_type": "code",
   "execution_count": 54,
   "id": "09f8e1a8",
   "metadata": {},
   "outputs": [
    {
     "data": {
      "text/plain": [
       "5"
      ]
     },
     "execution_count": 54,
     "metadata": {},
     "output_type": "execute_result"
    }
   ],
   "source": [
    "int(b)"
   ]
  },
  {
   "cell_type": "code",
   "execution_count": 55,
   "id": "9635e526",
   "metadata": {},
   "outputs": [
    {
     "data": {
      "text/plain": [
       "5.6"
      ]
     },
     "execution_count": 55,
     "metadata": {},
     "output_type": "execute_result"
    }
   ],
   "source": [
    "b"
   ]
  },
  {
   "cell_type": "code",
   "execution_count": 56,
   "id": "1a848372",
   "metadata": {},
   "outputs": [
    {
     "data": {
      "text/plain": [
       "'5.6'"
      ]
     },
     "execution_count": 56,
     "metadata": {},
     "output_type": "execute_result"
    }
   ],
   "source": [
    "str(b)"
   ]
  },
  {
   "cell_type": "code",
   "execution_count": 57,
   "id": "87c5e6f9",
   "metadata": {},
   "outputs": [
    {
     "data": {
      "text/plain": [
       "'Hi'"
      ]
     },
     "execution_count": 57,
     "metadata": {},
     "output_type": "execute_result"
    }
   ],
   "source": [
    "c"
   ]
  },
  {
   "cell_type": "code",
   "execution_count": 58,
   "id": "7cd687ca",
   "metadata": {},
   "outputs": [
    {
     "ename": "ValueError",
     "evalue": "invalid literal for int() with base 10: 'Hi'",
     "output_type": "error",
     "traceback": [
      "\u001b[1;31m---------------------------------------------------------------------------\u001b[0m",
      "\u001b[1;31mValueError\u001b[0m                                Traceback (most recent call last)",
      "Cell \u001b[1;32mIn[58], line 1\u001b[0m\n\u001b[1;32m----> 1\u001b[0m \u001b[38;5;28;43mint\u001b[39;49m\u001b[43m(\u001b[49m\u001b[43mc\u001b[49m\u001b[43m)\u001b[49m\n",
      "\u001b[1;31mValueError\u001b[0m: invalid literal for int() with base 10: 'Hi'"
     ]
    }
   ],
   "source": [
    "int(c)"
   ]
  },
  {
   "cell_type": "code",
   "execution_count": 59,
   "id": "09f7ae6a",
   "metadata": {},
   "outputs": [],
   "source": [
    "c2 = '3'"
   ]
  },
  {
   "cell_type": "code",
   "execution_count": 60,
   "id": "424e8116",
   "metadata": {},
   "outputs": [
    {
     "data": {
      "text/plain": [
       "str"
      ]
     },
     "execution_count": 60,
     "metadata": {},
     "output_type": "execute_result"
    }
   ],
   "source": [
    "type(c2)"
   ]
  },
  {
   "cell_type": "code",
   "execution_count": 61,
   "id": "b5325d07",
   "metadata": {},
   "outputs": [
    {
     "data": {
      "text/plain": [
       "3"
      ]
     },
     "execution_count": 61,
     "metadata": {},
     "output_type": "execute_result"
    }
   ],
   "source": [
    "int(c2)"
   ]
  },
  {
   "cell_type": "code",
   "execution_count": 62,
   "id": "a9a1b46c",
   "metadata": {},
   "outputs": [
    {
     "data": {
      "text/plain": [
       "3.0"
      ]
     },
     "execution_count": 62,
     "metadata": {},
     "output_type": "execute_result"
    }
   ],
   "source": [
    "float(c2)"
   ]
  },
  {
   "cell_type": "code",
   "execution_count": 63,
   "id": "3751cdc5",
   "metadata": {},
   "outputs": [
    {
     "data": {
      "text/plain": [
       "True"
      ]
     },
     "execution_count": 63,
     "metadata": {},
     "output_type": "execute_result"
    }
   ],
   "source": [
    "d  \n",
    "# True --> 1\n",
    "# False --> 0"
   ]
  },
  {
   "cell_type": "code",
   "execution_count": 64,
   "id": "b31de27c",
   "metadata": {},
   "outputs": [
    {
     "data": {
      "text/plain": [
       "1"
      ]
     },
     "execution_count": 64,
     "metadata": {},
     "output_type": "execute_result"
    }
   ],
   "source": [
    "int(d)"
   ]
  },
  {
   "cell_type": "code",
   "execution_count": 65,
   "id": "2b0719a7",
   "metadata": {},
   "outputs": [
    {
     "data": {
      "text/plain": [
       "0"
      ]
     },
     "execution_count": 65,
     "metadata": {},
     "output_type": "execute_result"
    }
   ],
   "source": [
    "int(False)"
   ]
  },
  {
   "cell_type": "code",
   "execution_count": 66,
   "id": "82d48e61",
   "metadata": {},
   "outputs": [
    {
     "data": {
      "text/plain": [
       "1.0"
      ]
     },
     "execution_count": 66,
     "metadata": {},
     "output_type": "execute_result"
    }
   ],
   "source": [
    "float(True)"
   ]
  },
  {
   "cell_type": "code",
   "execution_count": 67,
   "id": "6c10c87f",
   "metadata": {},
   "outputs": [
    {
     "data": {
      "text/plain": [
       "0.0"
      ]
     },
     "execution_count": 67,
     "metadata": {},
     "output_type": "execute_result"
    }
   ],
   "source": [
    "float(False)"
   ]
  },
  {
   "cell_type": "code",
   "execution_count": 68,
   "id": "835f2554",
   "metadata": {},
   "outputs": [
    {
     "data": {
      "text/plain": [
       "'True'"
      ]
     },
     "execution_count": 68,
     "metadata": {},
     "output_type": "execute_result"
    }
   ],
   "source": [
    "str(True)"
   ]
  },
  {
   "cell_type": "code",
   "execution_count": 69,
   "id": "3ee218ca",
   "metadata": {},
   "outputs": [
    {
     "data": {
      "text/plain": [
       "'False'"
      ]
     },
     "execution_count": 69,
     "metadata": {},
     "output_type": "execute_result"
    }
   ],
   "source": [
    "str(False)"
   ]
  },
  {
   "cell_type": "markdown",
   "id": "16ae3be1",
   "metadata": {},
   "source": [
    "str, float, int ---> Boolean conversion"
   ]
  },
  {
   "cell_type": "code",
   "execution_count": 70,
   "id": "15b8d4df",
   "metadata": {},
   "outputs": [
    {
     "data": {
      "text/plain": [
       "True"
      ]
     },
     "execution_count": 70,
     "metadata": {},
     "output_type": "execute_result"
    }
   ],
   "source": [
    "bool('hi')"
   ]
  },
  {
   "cell_type": "code",
   "execution_count": 72,
   "id": "80b618a1",
   "metadata": {},
   "outputs": [
    {
     "data": {
      "text/plain": [
       "False"
      ]
     },
     "execution_count": 72,
     "metadata": {},
     "output_type": "execute_result"
    }
   ],
   "source": [
    "bool('')\n",
    "\n",
    "# '' --> Empty String\n",
    "# Length of empty string is 0 and hence it is False"
   ]
  },
  {
   "cell_type": "code",
   "execution_count": 73,
   "id": "02dd028e",
   "metadata": {},
   "outputs": [
    {
     "data": {
      "text/plain": [
       "True"
      ]
     },
     "execution_count": 73,
     "metadata": {},
     "output_type": "execute_result"
    }
   ],
   "source": [
    "bool(10.4)"
   ]
  },
  {
   "cell_type": "code",
   "execution_count": 74,
   "id": "572505ad",
   "metadata": {},
   "outputs": [
    {
     "data": {
      "text/plain": [
       "False"
      ]
     },
     "execution_count": 74,
     "metadata": {},
     "output_type": "execute_result"
    }
   ],
   "source": [
    "bool(0.0)"
   ]
  },
  {
   "cell_type": "code",
   "execution_count": 75,
   "id": "62e62780",
   "metadata": {},
   "outputs": [
    {
     "data": {
      "text/plain": [
       "True"
      ]
     },
     "execution_count": 75,
     "metadata": {},
     "output_type": "execute_result"
    }
   ],
   "source": [
    "bool(-400.7)"
   ]
  },
  {
   "cell_type": "code",
   "execution_count": 77,
   "id": "527c56d6",
   "metadata": {},
   "outputs": [
    {
     "data": {
      "text/plain": [
       "True"
      ]
     },
     "execution_count": 77,
     "metadata": {},
     "output_type": "execute_result"
    }
   ],
   "source": [
    "bool(3)"
   ]
  },
  {
   "cell_type": "code",
   "execution_count": 78,
   "id": "4d0bdacb",
   "metadata": {},
   "outputs": [
    {
     "data": {
      "text/plain": [
       "False"
      ]
     },
     "execution_count": 78,
     "metadata": {},
     "output_type": "execute_result"
    }
   ],
   "source": [
    "bool(0)"
   ]
  },
  {
   "cell_type": "code",
   "execution_count": 79,
   "id": "c9e17ef0",
   "metadata": {},
   "outputs": [
    {
     "data": {
      "text/plain": [
       "True"
      ]
     },
     "execution_count": 79,
     "metadata": {},
     "output_type": "execute_result"
    }
   ],
   "source": [
    "bool(-9)"
   ]
  },
  {
   "cell_type": "code",
   "execution_count": null,
   "id": "d6d2d8c5",
   "metadata": {},
   "outputs": [],
   "source": []
  }
 ],
 "metadata": {
  "kernelspec": {
   "display_name": "Python 3",
   "language": "python",
   "name": "python3"
  },
  "language_info": {
   "codemirror_mode": {
    "name": "ipython",
    "version": 3
   },
   "file_extension": ".py",
   "mimetype": "text/x-python",
   "name": "python",
   "nbconvert_exporter": "python",
   "pygments_lexer": "ipython3",
   "version": "3.11.9"
  }
 },
 "nbformat": 4,
 "nbformat_minor": 5
}
