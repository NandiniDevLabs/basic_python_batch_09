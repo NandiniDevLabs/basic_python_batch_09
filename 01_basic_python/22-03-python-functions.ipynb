{
 "cells": [
  {
   "cell_type": "code",
   "execution_count": 2,
   "id": "caff786e-eee7-4166-956a-3745e8dc1781",
   "metadata": {},
   "outputs": [],
   "source": [
    "def filter_even_numbers(numbers):\n",
    "    print(\"This is start of filter_even_numbers\")\n",
    "    print(f\"Input received is {numbers}\") # [1, 2, 3, 4, 5, 6, 7, 8, 9, 10]\n",
    "    even_numbers = [num for num in numbers if num%2==0]  # [2, ]\n",
    "    print(f\"Numbers to be returned {even_numbers}\")\n",
    "    print(\"This is end of filter_even_numbers\")\n",
    "    return even_numbers"
   ]
  },
  {
   "cell_type": "code",
   "execution_count": 3,
   "id": "5eb96f7d-e34a-469b-b845-cdbef3e3f6cf",
   "metadata": {},
   "outputs": [],
   "source": [
    "def filter_odd_numbers(i):\n",
    "    print(\"This is start of filter_odd_numbers\")\n",
    "    print(f\"Input numbers: {i}\")\n",
    "    odd_numbers = [num for num in i if num%2==1]\n",
    "    print(f\"Values to be returned: {odd_numbers}\")\n",
    "    print(\"This is end of filter_odd_numbers\")\n",
    "    return odd_numbers"
   ]
  },
  {
   "cell_type": "code",
   "execution_count": 4,
   "id": "e82ea921-8927-4117-82f5-dd378b9138f8",
   "metadata": {},
   "outputs": [
    {
     "name": "stdout",
     "output_type": "stream",
     "text": [
      "[1, 2, 3, 4, 5, 6, 7, 8, 9, 10]\n",
      "\n",
      "\n",
      "This is start of filter_even_numbers\n",
      "Input received is [1, 2, 3, 4, 5, 6, 7, 8, 9, 10]\n",
      "Numbers to be returned [2, 4, 6, 8, 10]\n",
      "This is end of filter_even_numbers\n",
      "This is start of filter_odd_numbers\n",
      "Input numbers: [1, 2, 3, 4, 5, 6, 7, 8, 9, 10]\n",
      "Values to be returned: [1, 3, 5, 7, 9]\n",
      "This is end of filter_odd_numbers\n",
      "Even numbers: [2, 4, 6, 8, 10]\n",
      "Odd numbers: [1, 3, 5, 7, 9]\n"
     ]
    }
   ],
   "source": [
    "# Main Program\n",
    "input_list = list(range(1,11))\n",
    "print(input_list)\n",
    "print(\"\\n\")\n",
    "\n",
    "# even_list = []\n",
    "# odd_list = []\n",
    "if len(input_list) > 0:\n",
    "    even_list = filter_even_numbers(input_list)\n",
    "    odd_list = filter_odd_numbers(input_list)\n",
    "    print(f\"Even numbers: {even_list}\")\n",
    "    print(f\"Odd numbers: {odd_list}\")\n",
    "else:\n",
    "    print(\"Input list is empty and hence there are no even and odd numbers to print\")"
   ]
  },
  {
   "cell_type": "code",
   "execution_count": 7,
   "id": "3ba42538-3150-4846-a15f-b267c54dce01",
   "metadata": {},
   "outputs": [],
   "source": [
    "def add(a,b):\n",
    "    c = a+b\n",
    "    print('This is test print statement')\n",
    "    return c\n",
    "    print('This is 4th line')\n",
    "    print('This is last line')"
   ]
  },
  {
   "cell_type": "code",
   "execution_count": 10,
   "id": "94c1687f",
   "metadata": {},
   "outputs": [
    {
     "name": "stdout",
     "output_type": "stream",
     "text": [
      "This is test print statement\n",
      "output_value: 21\n"
     ]
    }
   ],
   "source": [
    "output_value = add(10,11)\n",
    "print(f\"output_value: {output_value}\")"
   ]
  },
  {
   "cell_type": "code",
   "execution_count": 13,
   "id": "8db4d913-b2e1-4fd3-8be3-e7b39e34540f",
   "metadata": {},
   "outputs": [],
   "source": [
    "def add2(a,b):\n",
    "    return a+b"
   ]
  },
  {
   "cell_type": "code",
   "execution_count": 14,
   "id": "7d0edf1f-6dd4-4902-81c8-ccd499a2e3bb",
   "metadata": {},
   "outputs": [
    {
     "data": {
      "text/plain": [
       "3"
      ]
     },
     "execution_count": 14,
     "metadata": {},
     "output_type": "execute_result"
    }
   ],
   "source": [
    "add2(1,2)"
   ]
  },
  {
   "cell_type": "code",
   "execution_count": 15,
   "id": "3a975b42-e20d-43fd-b3e0-a89833977913",
   "metadata": {},
   "outputs": [],
   "source": [
    "def add3(a=0,b=0):  # a and b has default values\n",
    "    print(\"a: \",a)\n",
    "    print(\"b: \",b)\n",
    "    return a+b"
   ]
  },
  {
   "cell_type": "code",
   "execution_count": 16,
   "id": "527a995a-9199-47fb-9877-a52450fa25c3",
   "metadata": {},
   "outputs": [
    {
     "name": "stdout",
     "output_type": "stream",
     "text": [
      "a:  0\n",
      "b:  0\n"
     ]
    },
    {
     "data": {
      "text/plain": [
       "0"
      ]
     },
     "execution_count": 16,
     "metadata": {},
     "output_type": "execute_result"
    }
   ],
   "source": [
    "add3()"
   ]
  },
  {
   "cell_type": "code",
   "execution_count": 17,
   "id": "e839a47b-d593-4029-a874-c202c6f92f6f",
   "metadata": {},
   "outputs": [
    {
     "name": "stdout",
     "output_type": "stream",
     "text": [
      "a:  10\n",
      "b:  0\n"
     ]
    },
    {
     "data": {
      "text/plain": [
       "10"
      ]
     },
     "execution_count": 17,
     "metadata": {},
     "output_type": "execute_result"
    }
   ],
   "source": [
    "add3(10)"
   ]
  },
  {
   "cell_type": "code",
   "execution_count": 18,
   "id": "44962cc3",
   "metadata": {},
   "outputs": [
    {
     "name": "stdout",
     "output_type": "stream",
     "text": [
      "a:  10\n",
      "b:  11\n"
     ]
    },
    {
     "data": {
      "text/plain": [
       "21"
      ]
     },
     "execution_count": 18,
     "metadata": {},
     "output_type": "execute_result"
    }
   ],
   "source": [
    "add3(10,11)\n"
   ]
  },
  {
   "cell_type": "code",
   "execution_count": 1,
   "id": "f9515da6-2aa2-4c3b-8aa7-b82b97ef1373",
   "metadata": {},
   "outputs": [],
   "source": [
    "def multiply(a=1,b=1):\n",
    "    print(\"a: \",a)\n",
    "    print(\"b: \",b)\n",
    "    return a*b"
   ]
  },
  {
   "cell_type": "code",
   "execution_count": 2,
   "id": "07625605-e8ba-427f-83a5-8bf79ffe26a7",
   "metadata": {},
   "outputs": [
    {
     "name": "stdout",
     "output_type": "stream",
     "text": [
      "a:  1\n",
      "b:  1\n"
     ]
    },
    {
     "data": {
      "text/plain": [
       "1"
      ]
     },
     "execution_count": 2,
     "metadata": {},
     "output_type": "execute_result"
    }
   ],
   "source": [
    "multiply()"
   ]
  },
  {
   "cell_type": "code",
   "execution_count": 3,
   "id": "2cb039f2-ea73-4f64-8630-7c7bd303c42e",
   "metadata": {},
   "outputs": [
    {
     "name": "stdout",
     "output_type": "stream",
     "text": [
      "a:  5\n",
      "b:  1\n"
     ]
    },
    {
     "data": {
      "text/plain": [
       "5"
      ]
     },
     "execution_count": 3,
     "metadata": {},
     "output_type": "execute_result"
    }
   ],
   "source": [
    "multiply(5)"
   ]
  },
  {
   "cell_type": "code",
   "execution_count": 4,
   "id": "43789403-c7ec-472e-9fa4-ccdcc3047da4",
   "metadata": {},
   "outputs": [
    {
     "name": "stdout",
     "output_type": "stream",
     "text": [
      "a:  5\n",
      "b:  2\n"
     ]
    },
    {
     "data": {
      "text/plain": [
       "10"
      ]
     },
     "execution_count": 4,
     "metadata": {},
     "output_type": "execute_result"
    }
   ],
   "source": [
    "multiply(5,2)"
   ]
  },
  {
   "cell_type": "code",
   "execution_count": 5,
   "id": "de92f270",
   "metadata": {},
   "outputs": [
    {
     "ename": "TypeError",
     "evalue": "multiply() takes from 0 to 2 positional arguments but 3 were given",
     "output_type": "error",
     "traceback": [
      "\u001b[1;31m---------------------------------------------------------------------------\u001b[0m",
      "\u001b[1;31mTypeError\u001b[0m                                 Traceback (most recent call last)",
      "Cell \u001b[1;32mIn[5], line 1\u001b[0m\n\u001b[1;32m----> 1\u001b[0m \u001b[43mmultiply\u001b[49m\u001b[43m(\u001b[49m\u001b[38;5;241;43m5\u001b[39;49m\u001b[43m,\u001b[49m\u001b[38;5;241;43m2\u001b[39;49m\u001b[43m,\u001b[49m\u001b[38;5;241;43m3\u001b[39;49m\u001b[43m)\u001b[49m\n",
      "\u001b[1;31mTypeError\u001b[0m: multiply() takes from 0 to 2 positional arguments but 3 were given"
     ]
    }
   ],
   "source": [
    "multiply(5,2,3)"
   ]
  },
  {
   "cell_type": "code",
   "execution_count": 6,
   "id": "9c893091",
   "metadata": {},
   "outputs": [
    {
     "ename": "TypeError",
     "evalue": "multiply() takes from 0 to 2 positional arguments but 4 were given",
     "output_type": "error",
     "traceback": [
      "\u001b[1;31m---------------------------------------------------------------------------\u001b[0m",
      "\u001b[1;31mTypeError\u001b[0m                                 Traceback (most recent call last)",
      "Cell \u001b[1;32mIn[6], line 1\u001b[0m\n\u001b[1;32m----> 1\u001b[0m \u001b[43mmultiply\u001b[49m\u001b[43m(\u001b[49m\u001b[38;5;241;43m5\u001b[39;49m\u001b[43m,\u001b[49m\u001b[38;5;241;43m2\u001b[39;49m\u001b[43m,\u001b[49m\u001b[38;5;241;43m3\u001b[39;49m\u001b[43m,\u001b[49m\u001b[38;5;241;43m4\u001b[39;49m\u001b[43m)\u001b[49m\n",
      "\u001b[1;31mTypeError\u001b[0m: multiply() takes from 0 to 2 positional arguments but 4 were given"
     ]
    }
   ],
   "source": [
    "multiply(5,2,3,4)"
   ]
  },
  {
   "cell_type": "code",
   "execution_count": null,
   "id": "17bf8811",
   "metadata": {},
   "outputs": [],
   "source": [
    "# Alternative\n",
    "def multiply(a,b,c):\n",
    "    pass   "
   ]
  },
  {
   "cell_type": "code",
   "execution_count": 140,
   "id": "58508b24-a93b-42ca-b6aa-5632f18e7c4d",
   "metadata": {},
   "outputs": [],
   "source": [
    "# Variable length arguments\n",
    "# multiply() --> 1\n",
    "# multiply(5) --> 5\n",
    "# multiply(5,2) ---> 5 * 2 = 10\n",
    "# multiply(5,2,4) ---> 5 * 2 * 4 = 40\n",
    "# multiply(5,2,4,3) ---> 5 * 2 * 4 * 3 = 120"
   ]
  },
  {
   "cell_type": "code",
   "execution_count": 38,
   "id": "c7da33df-ec0d-46ab-8415-7ae4c5fc906f",
   "metadata": {},
   "outputs": [],
   "source": [
    "def new_multiply(*args):\n",
    "    print(f\"args: {args}\")  # ex: args <-- (5,2,4,3,6)\n",
    "    result = 1\n",
    "    for i in args:\n",
    "        print(f\"i:{i}\")\n",
    "        result = result * i\n",
    "        print(f\"result:{result}\")\n",
    "    # End of for loop\n",
    "    return result\n",
    "##\n",
    "\n",
    "## i=4 --> result= 1*4 --> result=4\n",
    "#  i=5 --> result=4*5  --> result=20\n",
    "#  i=3 --> result=20*3 --> result=60"
   ]
  },
  {
   "cell_type": "code",
   "execution_count": 49,
   "id": "5636d24d",
   "metadata": {},
   "outputs": [],
   "source": [
    "for i in ():\n",
    "    print(i)\n",
    "##\n",
    "# () is empty tuple, and hence iterations will not start"
   ]
  },
  {
   "cell_type": "code",
   "execution_count": 51,
   "id": "a88da80d",
   "metadata": {},
   "outputs": [
    {
     "name": "stdout",
     "output_type": "stream",
     "text": [
      "100\n"
     ]
    }
   ],
   "source": [
    "for i in (100,):\n",
    "    print(i)\n",
    "##\n",
    "# (100,) is tuple with single item, and hence for loop will iterate once"
   ]
  },
  {
   "cell_type": "code",
   "execution_count": 45,
   "id": "1cd13436-7bdf-49ba-bf9d-382d51f9bd5d",
   "metadata": {},
   "outputs": [
    {
     "name": "stdout",
     "output_type": "stream",
     "text": [
      "args: ()\n"
     ]
    },
    {
     "data": {
      "text/plain": [
       "1"
      ]
     },
     "execution_count": 45,
     "metadata": {},
     "output_type": "execute_result"
    }
   ],
   "source": [
    "new_multiply()"
   ]
  },
  {
   "cell_type": "code",
   "execution_count": 40,
   "id": "652414a7-e160-4b6b-a08c-6dae9b6822fa",
   "metadata": {},
   "outputs": [
    {
     "name": "stdout",
     "output_type": "stream",
     "text": [
      "args: (5, 2, 4)\n",
      "i:5\n",
      "result:5\n",
      "i:2\n",
      "result:10\n",
      "i:4\n",
      "result:40\n"
     ]
    },
    {
     "data": {
      "text/plain": [
       "40"
      ]
     },
     "execution_count": 40,
     "metadata": {},
     "output_type": "execute_result"
    }
   ],
   "source": [
    "new_multiply(5,2,4)"
   ]
  },
  {
   "cell_type": "code",
   "execution_count": 41,
   "id": "d5a004fc-9049-41a9-abaf-f62f6d1b4b31",
   "metadata": {},
   "outputs": [
    {
     "name": "stdout",
     "output_type": "stream",
     "text": [
      "args: (5, 2)\n",
      "i:5\n",
      "result:5\n",
      "i:2\n",
      "result:10\n"
     ]
    },
    {
     "data": {
      "text/plain": [
       "10"
      ]
     },
     "execution_count": 41,
     "metadata": {},
     "output_type": "execute_result"
    }
   ],
   "source": [
    "new_multiply(5,2)"
   ]
  },
  {
   "cell_type": "code",
   "execution_count": 42,
   "id": "fcc1c07f-e617-4db5-a1d8-a96c9cee820b",
   "metadata": {},
   "outputs": [
    {
     "name": "stdout",
     "output_type": "stream",
     "text": [
      "args: (5, 2, 4, 3, 4)\n",
      "i:5\n",
      "result:5\n",
      "i:2\n",
      "result:10\n",
      "i:4\n",
      "result:40\n",
      "i:3\n",
      "result:120\n",
      "i:4\n",
      "result:480\n"
     ]
    },
    {
     "data": {
      "text/plain": [
       "480"
      ]
     },
     "execution_count": 42,
     "metadata": {},
     "output_type": "execute_result"
    }
   ],
   "source": [
    "new_multiply(5,2,4,3,4)"
   ]
  },
  {
   "cell_type": "code",
   "execution_count": 43,
   "id": "71e227cb-eafb-4f9f-8420-66b0e122b7d6",
   "metadata": {},
   "outputs": [],
   "source": [
    "# *args allows variable length arguments\n",
    "def multiply3(*args):\n",
    "    result = 1\n",
    "    for num in args:  # (5)\n",
    "        print(\"inside for loop\")\n",
    "        result = result * num\n",
    "    return result"
   ]
  },
  {
   "cell_type": "code",
   "execution_count": 52,
   "id": "a6483146-daeb-4d99-813d-07d5cf9bb4bf",
   "metadata": {},
   "outputs": [
    {
     "data": {
      "text/plain": [
       "1"
      ]
     },
     "execution_count": 52,
     "metadata": {},
     "output_type": "execute_result"
    }
   ],
   "source": [
    "multiply3()"
   ]
  },
  {
   "cell_type": "code",
   "execution_count": 53,
   "id": "a64cd1a9-429e-40c3-8841-6645f9b91436",
   "metadata": {},
   "outputs": [
    {
     "name": "stdout",
     "output_type": "stream",
     "text": [
      "inside for loop\n"
     ]
    },
    {
     "data": {
      "text/plain": [
       "5"
      ]
     },
     "execution_count": 53,
     "metadata": {},
     "output_type": "execute_result"
    }
   ],
   "source": [
    "multiply3(5)"
   ]
  },
  {
   "cell_type": "code",
   "execution_count": 54,
   "id": "9b1e86c3-dd8a-4108-9893-aa1ab3bcaeb3",
   "metadata": {},
   "outputs": [
    {
     "name": "stdout",
     "output_type": "stream",
     "text": [
      "inside for loop\n",
      "inside for loop\n"
     ]
    },
    {
     "data": {
      "text/plain": [
       "10"
      ]
     },
     "execution_count": 54,
     "metadata": {},
     "output_type": "execute_result"
    }
   ],
   "source": [
    "multiply3(5,2)"
   ]
  },
  {
   "cell_type": "code",
   "execution_count": 55,
   "id": "1d114c1a-ad38-4828-8050-dfd8e106daaa",
   "metadata": {},
   "outputs": [
    {
     "name": "stdout",
     "output_type": "stream",
     "text": [
      "inside for loop\n",
      "inside for loop\n",
      "inside for loop\n"
     ]
    },
    {
     "data": {
      "text/plain": [
       "40"
      ]
     },
     "execution_count": 55,
     "metadata": {},
     "output_type": "execute_result"
    }
   ],
   "source": [
    "multiply3(5,2,4)"
   ]
  },
  {
   "cell_type": "code",
   "execution_count": 56,
   "id": "588a5ac2-c14b-48ce-bc8d-d0909553982e",
   "metadata": {},
   "outputs": [
    {
     "name": "stdout",
     "output_type": "stream",
     "text": [
      "inside for loop\n",
      "inside for loop\n",
      "inside for loop\n",
      "inside for loop\n"
     ]
    },
    {
     "data": {
      "text/plain": [
       "120"
      ]
     },
     "execution_count": 56,
     "metadata": {},
     "output_type": "execute_result"
    }
   ],
   "source": [
    "multiply3(5,2,4,3)"
   ]
  },
  {
   "cell_type": "code",
   "execution_count": 57,
   "id": "45d9224d-880c-4dff-9c81-24e8bc57f598",
   "metadata": {},
   "outputs": [
    {
     "name": "stdout",
     "output_type": "stream",
     "text": [
      "inside for loop\n",
      "inside for loop\n",
      "inside for loop\n",
      "inside for loop\n",
      "inside for loop\n"
     ]
    },
    {
     "data": {
      "text/plain": [
       "600"
      ]
     },
     "execution_count": 57,
     "metadata": {},
     "output_type": "execute_result"
    }
   ],
   "source": [
    "multiply3(5,2,4,3,5)"
   ]
  },
  {
   "cell_type": "code",
   "execution_count": 59,
   "id": "699c7996-9024-4f81-8b99-459fba54de9f",
   "metadata": {},
   "outputs": [],
   "source": [
    "# add_all() --> 0\n",
    "# add_all(5) --> 5\n",
    "# add_all(5,2) --> 5 + 2 = 7\n",
    "# add_all(5,2,4) --> 5 + 2 + 4 = 11\n",
    "# add_all(5,2,4,3) --> 5 + 2 + 4 + 3 = 14\n",
    "\n",
    "def add_all(*numbers):\n",
    "    print(f'numbers: {numbers}')\n",
    "    result = 0\n",
    "    for num in numbers:\n",
    "        result = result + num\n",
    "    # End of for loop\n",
    "    return result\n",
    "\n",
    "# numbers = (5,2,4,3)\n",
    "# num=5, result=0+5 --> result=6\n",
    "# num=2, result=5+2 --> result=7\n",
    "# num=4, result=7+4 --> result=11\n",
    "# num=3, result=11+3 --> result=14"
   ]
  },
  {
   "cell_type": "code",
   "execution_count": 60,
   "id": "35b37e95-74ad-49d0-b35e-2ae4a48456e9",
   "metadata": {},
   "outputs": [
    {
     "name": "stdout",
     "output_type": "stream",
     "text": [
      "numbers: ()\n"
     ]
    },
    {
     "data": {
      "text/plain": [
       "0"
      ]
     },
     "execution_count": 60,
     "metadata": {},
     "output_type": "execute_result"
    }
   ],
   "source": [
    "add_all()"
   ]
  },
  {
   "cell_type": "code",
   "execution_count": 61,
   "id": "5370e301-f568-4311-b89a-be1ae3609c23",
   "metadata": {},
   "outputs": [
    {
     "name": "stdout",
     "output_type": "stream",
     "text": [
      "numbers: (5,)\n"
     ]
    },
    {
     "data": {
      "text/plain": [
       "5"
      ]
     },
     "execution_count": 61,
     "metadata": {},
     "output_type": "execute_result"
    }
   ],
   "source": [
    "add_all(5)"
   ]
  },
  {
   "cell_type": "code",
   "execution_count": 62,
   "id": "cc0046d6-517f-45a2-a0d9-5b431f017705",
   "metadata": {},
   "outputs": [
    {
     "name": "stdout",
     "output_type": "stream",
     "text": [
      "numbers: (5, 2)\n"
     ]
    },
    {
     "data": {
      "text/plain": [
       "7"
      ]
     },
     "execution_count": 62,
     "metadata": {},
     "output_type": "execute_result"
    }
   ],
   "source": [
    "add_all(5,2)"
   ]
  },
  {
   "cell_type": "code",
   "execution_count": 63,
   "id": "68cd5bb0",
   "metadata": {},
   "outputs": [
    {
     "name": "stdout",
     "output_type": "stream",
     "text": [
      "numbers: (5, 2, 4)\n"
     ]
    },
    {
     "data": {
      "text/plain": [
       "11"
      ]
     },
     "execution_count": 63,
     "metadata": {},
     "output_type": "execute_result"
    }
   ],
   "source": [
    "add_all(5,2,4)"
   ]
  },
  {
   "cell_type": "code",
   "execution_count": 64,
   "id": "f1370d04",
   "metadata": {},
   "outputs": [
    {
     "name": "stdout",
     "output_type": "stream",
     "text": [
      "numbers: (5, 2, 4, 3)\n"
     ]
    },
    {
     "data": {
      "text/plain": [
       "14"
      ]
     },
     "execution_count": 64,
     "metadata": {},
     "output_type": "execute_result"
    }
   ],
   "source": [
    "add_all(5,2,4,3)"
   ]
  },
  {
   "cell_type": "code",
   "execution_count": 69,
   "id": "ce7aaa27",
   "metadata": {},
   "outputs": [
    {
     "name": "stdout",
     "output_type": "stream",
     "text": [
      "a:  10\n",
      "b:  20\n"
     ]
    },
    {
     "data": {
      "text/plain": [
       "200"
      ]
     },
     "execution_count": 69,
     "metadata": {},
     "output_type": "execute_result"
    }
   ],
   "source": [
    "multiply(a=10,b=20)"
   ]
  },
  {
   "cell_type": "code",
   "execution_count": 70,
   "id": "89028dab",
   "metadata": {},
   "outputs": [
    {
     "ename": "TypeError",
     "evalue": "multiply() got an unexpected keyword argument 'c'",
     "output_type": "error",
     "traceback": [
      "\u001b[1;31m---------------------------------------------------------------------------\u001b[0m",
      "\u001b[1;31mTypeError\u001b[0m                                 Traceback (most recent call last)",
      "Cell \u001b[1;32mIn[70], line 1\u001b[0m\n\u001b[1;32m----> 1\u001b[0m \u001b[43mmultiply\u001b[49m\u001b[43m(\u001b[49m\u001b[43ma\u001b[49m\u001b[38;5;241;43m=\u001b[39;49m\u001b[38;5;241;43m10\u001b[39;49m\u001b[43m,\u001b[49m\u001b[43mb\u001b[49m\u001b[38;5;241;43m=\u001b[39;49m\u001b[38;5;241;43m20\u001b[39;49m\u001b[43m,\u001b[49m\u001b[43mc\u001b[49m\u001b[38;5;241;43m=\u001b[39;49m\u001b[38;5;241;43m30\u001b[39;49m\u001b[43m)\u001b[49m\n",
      "\u001b[1;31mTypeError\u001b[0m: multiply() got an unexpected keyword argument 'c'"
     ]
    }
   ],
   "source": [
    "multiply(a=10,b=20,c=30)"
   ]
  },
  {
   "cell_type": "code",
   "execution_count": 75,
   "id": "36a7a1c9-5294-4cd4-b602-f658bfb811c3",
   "metadata": {},
   "outputs": [],
   "source": [
    "# *args, **kwargs both allows variable length arguments\n",
    "def my_data(**kwargs):\n",
    "    print(f\"kwargs: {kwargs}\")\n",
    "###"
   ]
  },
  {
   "cell_type": "code",
   "execution_count": 81,
   "id": "fe7bad31-bbfb-4887-a461-d81e2d283a0b",
   "metadata": {},
   "outputs": [
    {
     "name": "stdout",
     "output_type": "stream",
     "text": [
      "kwargs: {}\n"
     ]
    }
   ],
   "source": [
    "my_data()"
   ]
  },
  {
   "cell_type": "code",
   "execution_count": 82,
   "id": "371d10f8-e3a9-4fc6-b82d-44922d2fc330",
   "metadata": {},
   "outputs": [
    {
     "name": "stdout",
     "output_type": "stream",
     "text": [
      "kwargs: {'student': 'vijaya', 'course': 'python', 'exp': None}\n"
     ]
    }
   ],
   "source": [
    "my_data(student='vijaya',course='python',exp=None)"
   ]
  },
  {
   "cell_type": "code",
   "execution_count": 83,
   "id": "b171730a-0c50-42e0-ba59-5003b89ffcfd",
   "metadata": {},
   "outputs": [],
   "source": [
    "def add_with_kwargs_1(**kwargs):\n",
    "    print('kwargs: ', kwargs)"
   ]
  },
  {
   "cell_type": "code",
   "execution_count": 87,
   "id": "193e3880-4f6e-4943-99f9-057c983b201a",
   "metadata": {},
   "outputs": [
    {
     "name": "stdout",
     "output_type": "stream",
     "text": [
      "kwargs:  {'a': 1, 'b': 2}\n"
     ]
    }
   ],
   "source": [
    "add_with_kwargs_1(a=1,b=2)"
   ]
  },
  {
   "cell_type": "code",
   "execution_count": 91,
   "id": "740d5cc2",
   "metadata": {},
   "outputs": [
    {
     "data": {
      "text/plain": [
       "dict_items([('a', 1), ('b', 2), ('c', 5)])"
      ]
     },
     "execution_count": 91,
     "metadata": {},
     "output_type": "execute_result"
    }
   ],
   "source": [
    "d1 = {'a': 1, 'b': 2, 'c': 5}\n",
    "d1.items()"
   ]
  },
  {
   "cell_type": "code",
   "execution_count": 94,
   "id": "80ef5a3c-d752-44a8-9521-566e281a76bc",
   "metadata": {},
   "outputs": [],
   "source": [
    "def add_with_kwargs(**numbers):\n",
    "    print('numbers: ', numbers)\n",
    "    result = 0  # <<---\n",
    "    for key, value in numbers.items():\n",
    "        print('value:', value)\n",
    "        result = result + value\n",
    "        print('result:', result)\n",
    "    #\n",
    "    return result\n",
    "##\n",
    "\n",
    "# numbers = [('a', 1), ('b', 2), ('c', 5)]\n",
    "# key='a', value=1 --> result=0+1  --> result=1\n",
    "# key='b', value=2 --> result=1+2  --> result=3\n",
    "# key='c', value=5 --> result=3+5  --> result=8"
   ]
  },
  {
   "cell_type": "code",
   "execution_count": 93,
   "id": "66ee5cfd-2c16-4e98-948e-063b9e42d06f",
   "metadata": {},
   "outputs": [
    {
     "name": "stdout",
     "output_type": "stream",
     "text": [
      "numbers:  {'a': 1, 'b': 2, 'c': 5}\n",
      "value:  1\n",
      "result:  1\n",
      "value:  2\n",
      "result:  3\n",
      "value:  5\n",
      "result:  8\n"
     ]
    },
    {
     "data": {
      "text/plain": [
       "8"
      ]
     },
     "execution_count": 93,
     "metadata": {},
     "output_type": "execute_result"
    }
   ],
   "source": [
    "add_with_kwargs(a=1,b=2,c=5)"
   ]
  },
  {
   "cell_type": "code",
   "execution_count": 95,
   "id": "60d540db-38d2-429f-8d3d-0ba452b05257",
   "metadata": {},
   "outputs": [
    {
     "name": "stdout",
     "output_type": "stream",
     "text": [
      "numbers:  {'a': 1, 'b': 2}\n",
      "value: 1\n",
      "result: 1\n",
      "value: 2\n",
      "result: 3\n"
     ]
    },
    {
     "data": {
      "text/plain": [
       "3"
      ]
     },
     "execution_count": 95,
     "metadata": {},
     "output_type": "execute_result"
    }
   ],
   "source": [
    "add_with_kwargs(a=1,b=2)"
   ]
  },
  {
   "cell_type": "code",
   "execution_count": 96,
   "id": "0e426e8d-adef-4088-b29f-fe446fee82ec",
   "metadata": {},
   "outputs": [
    {
     "name": "stdout",
     "output_type": "stream",
     "text": [
      "numbers:  {'a': 6, 'b': 4, 'c': 3}\n",
      "value: 6\n",
      "result: 6\n",
      "value: 4\n",
      "result: 10\n",
      "value: 3\n",
      "result: 13\n"
     ]
    },
    {
     "data": {
      "text/plain": [
       "13"
      ]
     },
     "execution_count": 96,
     "metadata": {},
     "output_type": "execute_result"
    }
   ],
   "source": [
    "add_with_kwargs(a=6,b=4,c=3)"
   ]
  },
  {
   "cell_type": "markdown",
   "id": "9e68a4b1",
   "metadata": {},
   "source": [
    "# Variable scoping"
   ]
  },
  {
   "cell_type": "code",
   "execution_count": 97,
   "id": "184ba79c-96c5-435f-8a99-b5f237479905",
   "metadata": {},
   "outputs": [
    {
     "ename": "NameError",
     "evalue": "name 'result' is not defined",
     "output_type": "error",
     "traceback": [
      "\u001b[1;31m---------------------------------------------------------------------------\u001b[0m",
      "\u001b[1;31mNameError\u001b[0m                                 Traceback (most recent call last)",
      "Cell \u001b[1;32mIn[97], line 1\u001b[0m\n\u001b[1;32m----> 1\u001b[0m \u001b[38;5;28mprint\u001b[39m(\u001b[43mresult\u001b[49m) \u001b[38;5;66;03m# result is defined inside add_with_kwargs()\u001b[39;00m\n\u001b[0;32m      2\u001b[0m \u001b[38;5;66;03m# Variables defined with in a function will not be available outside of function\u001b[39;00m\n",
      "\u001b[1;31mNameError\u001b[0m: name 'result' is not defined"
     ]
    }
   ],
   "source": [
    "print(result) # result is defined inside add_with_kwargs()\n",
    "# Variables defined with in a function will not be available outside of function"
   ]
  },
  {
   "cell_type": "code",
   "execution_count": null,
   "id": "31696128-8945-47fe-baab-91440f58e9f3",
   "metadata": {},
   "outputs": [],
   "source": []
  },
  {
   "cell_type": "markdown",
   "id": "a5e51ce9",
   "metadata": {},
   "source": [
    "# 'pass' for function, loops and if-else blocks"
   ]
  },
  {
   "cell_type": "code",
   "execution_count": null,
   "id": "bb512fd1",
   "metadata": {},
   "outputs": [],
   "source": [
    "# Alternative\n",
    "def multiply(a,b,c):\n",
    "    pass   # --> We will implement later"
   ]
  },
  {
   "cell_type": "code",
   "execution_count": null,
   "id": "c5cfae52",
   "metadata": {},
   "outputs": [],
   "source": [
    "for i in input_list:\n",
    "    pass"
   ]
  },
  {
   "cell_type": "code",
   "execution_count": null,
   "id": "2d6f8f8b",
   "metadata": {},
   "outputs": [
    {
     "name": "stdout",
     "output_type": "stream",
     "text": [
      "B is bigger\n"
     ]
    }
   ],
   "source": [
    "a = 1\n",
    "b = 3\n",
    "if a>b:\n",
    "    print(\"A is bigger\")\n",
    "elif a<b:\n",
    "    print(\"B is bigger\")\n",
    "else:\n",
    "    pass   # Nothing to happen "
   ]
  }
 ],
 "metadata": {
  "kernelspec": {
   "display_name": "Python 3",
   "language": "python",
   "name": "python3"
  },
  "language_info": {
   "codemirror_mode": {
    "name": "ipython",
    "version": 3
   },
   "file_extension": ".py",
   "mimetype": "text/x-python",
   "name": "python",
   "nbconvert_exporter": "python",
   "pygments_lexer": "ipython3",
   "version": "3.11.9"
  }
 },
 "nbformat": 4,
 "nbformat_minor": 5
}
