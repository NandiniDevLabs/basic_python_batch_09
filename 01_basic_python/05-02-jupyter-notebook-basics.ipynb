{
 "cells": [
  {
   "cell_type": "code",
   "execution_count": 5,
   "id": "3697c449",
   "metadata": {},
   "outputs": [],
   "source": [
    "t = 10"
   ]
  },
  {
   "cell_type": "code",
   "execution_count": null,
   "id": "ceadf7ef",
   "metadata": {},
   "outputs": [],
   "source": [
    "del t\n",
    "# When you run this first time - variable will be deleted\n",
    "# When you run it again - you'll get NameError, because variable is already deleted"
   ]
  },
  {
   "cell_type": "code",
   "execution_count": 14,
   "id": "f423e8fb",
   "metadata": {},
   "outputs": [],
   "source": [
    "# shift + Enter --> To run current cell and add a new cell below\n",
    "# ctrl + Enter --> To run current cell\n",
    "# Ctrl + M --> CommandMode\n",
    "# CommandMode + A --> insert cell above\n",
    "# CommandMode + B --> insert cell below\n",
    "# CommandMode + D + D --> delete cell"
   ]
  },
  {
   "cell_type": "code",
   "execution_count": null,
   "id": "36c6531c",
   "metadata": {},
   "outputs": [],
   "source": [
    "# Indefinite loop - Use Interrupt Kernel to stop execution of cell\n",
    "i = 0;\n",
    "while True:\n",
    "    i += 1\n",
    "    print(i)"
   ]
  },
  {
   "cell_type": "code",
   "execution_count": 20,
   "id": "49a22cf5",
   "metadata": {},
   "outputs": [],
   "source": [
    "i = 0"
   ]
  },
  {
   "cell_type": "code",
   "execution_count": 21,
   "id": "c066a5df",
   "metadata": {},
   "outputs": [],
   "source": [
    "i += 1    # i = i + 1"
   ]
  },
  {
   "cell_type": "code",
   "execution_count": null,
   "id": "b675c3c7",
   "metadata": {},
   "outputs": [],
   "source": [
    "i"
   ]
  },
  {
   "cell_type": "code",
   "execution_count": 1,
   "id": "026a6084",
   "metadata": {},
   "outputs": [],
   "source": [
    "# CommandMode + M -> to convert cell from Code cell to Markdown cell\n",
    "# CommandMode + M -> to convert cell from Markdown cell to Code cell"
   ]
  },
  {
   "cell_type": "code",
   "execution_count": null,
   "id": "c47cf4d3",
   "metadata": {},
   "outputs": [],
   "source": []
  }
 ],
 "metadata": {
  "kernelspec": {
   "display_name": "Python 3 (ipykernel)",
   "language": "python",
   "name": "python3"
  },
  "language_info": {
   "codemirror_mode": {
    "name": "ipython",
    "version": 3
   },
   "file_extension": ".py",
   "mimetype": "text/x-python",
   "name": "python",
   "nbconvert_exporter": "python",
   "pygments_lexer": "ipython3",
   "version": "3.12.4"
  }
 },
 "nbformat": 4,
 "nbformat_minor": 5
}
