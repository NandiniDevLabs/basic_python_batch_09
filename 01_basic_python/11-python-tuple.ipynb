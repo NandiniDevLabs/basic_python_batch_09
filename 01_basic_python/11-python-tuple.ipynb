{
 "cells": [
  {
   "cell_type": "markdown",
   "id": "11e0da0e",
   "metadata": {},
   "source": [
    "# Tuple\n",
    "- Tuples are very similar to lists. However they have one key difference - immutability (item values cannot be changed).\n",
    "- Once an element is inside a tuple, it can not be reassigned.\n",
    "- Tuples use parenthesis:  (1,2,3)\n",
    "- Items can be of any datatype"
   ]
  },
  {
   "cell_type": "code",
   "execution_count": 5,
   "id": "d402ad17-b8c6-493b-ab24-c145afd2981b",
   "metadata": {},
   "outputs": [],
   "source": [
    "a = (0,1,2,3,4,5)   # []-list   # ()-tuple"
   ]
  },
  {
   "cell_type": "code",
   "execution_count": 7,
   "id": "88efb048-9f8d-45db-b527-71e01efb3ac3",
   "metadata": {},
   "outputs": [
    {
     "data": {
      "text/plain": [
       "tuple"
      ]
     },
     "execution_count": 7,
     "metadata": {},
     "output_type": "execute_result"
    }
   ],
   "source": [
    "type(a)"
   ]
  },
  {
   "cell_type": "code",
   "execution_count": 9,
   "id": "2e2c9b69-dbe1-4feb-9aae-cef4c682a910",
   "metadata": {},
   "outputs": [
    {
     "data": {
      "text/plain": [
       "4"
      ]
     },
     "execution_count": 9,
     "metadata": {},
     "output_type": "execute_result"
    }
   ],
   "source": [
    "a[4]"
   ]
  },
  {
   "cell_type": "code",
   "execution_count": 11,
   "id": "8e6741a7-8f77-4574-9384-ec4f7d9d0e21",
   "metadata": {},
   "outputs": [
    {
     "data": {
      "text/plain": [
       "0"
      ]
     },
     "execution_count": 11,
     "metadata": {},
     "output_type": "execute_result"
    }
   ],
   "source": [
    "a[0]"
   ]
  },
  {
   "cell_type": "code",
   "execution_count": 13,
   "id": "2c22a586-90cd-4b9e-bec0-7e43806f1fc2",
   "metadata": {},
   "outputs": [
    {
     "data": {
      "text/plain": [
       "0"
      ]
     },
     "execution_count": 13,
     "metadata": {},
     "output_type": "execute_result"
    }
   ],
   "source": [
    "a[-6]"
   ]
  },
  {
   "cell_type": "code",
   "execution_count": 15,
   "id": "ff4bea02-25e9-4fdc-9e3e-ffc159cd04ce",
   "metadata": {},
   "outputs": [
    {
     "data": {
      "text/plain": [
       "5"
      ]
     },
     "execution_count": 15,
     "metadata": {},
     "output_type": "execute_result"
    }
   ],
   "source": [
    "a[-1]"
   ]
  },
  {
   "cell_type": "code",
   "execution_count": 38,
   "id": "f3a86466-0f9f-4df2-82d7-3920914e9b1e",
   "metadata": {},
   "outputs": [
    {
     "data": {
      "text/plain": [
       "\u001b[1;31mSignature:\u001b[0m \u001b[0ma\u001b[0m\u001b[1;33m.\u001b[0m\u001b[0mindex\u001b[0m\u001b[1;33m(\u001b[0m\u001b[0mvalue\u001b[0m\u001b[1;33m,\u001b[0m \u001b[0mstart\u001b[0m\u001b[1;33m=\u001b[0m\u001b[1;36m0\u001b[0m\u001b[1;33m,\u001b[0m \u001b[0mstop\u001b[0m\u001b[1;33m=\u001b[0m\u001b[1;36m9223372036854775807\u001b[0m\u001b[1;33m,\u001b[0m \u001b[1;33m/\u001b[0m\u001b[1;33m)\u001b[0m\u001b[1;33m\u001b[0m\u001b[1;33m\u001b[0m\u001b[0m\n",
       "\u001b[1;31mDocstring:\u001b[0m\n",
       "Return first index of value.\n",
       "\n",
       "Raises ValueError if the value is not present.\n",
       "\u001b[1;31mType:\u001b[0m      builtin_function_or_method"
      ]
     },
     "metadata": {},
     "output_type": "display_data"
    }
   ],
   "source": [
    "# a.*?\n",
    "# a.count?\n",
    "a.index?"
   ]
  },
  {
   "cell_type": "code",
   "execution_count": 26,
   "id": "bcd1613d-6772-49df-95d6-bc04b08868b1",
   "metadata": {},
   "outputs": [
    {
     "ename": "TypeError",
     "evalue": "'tuple' object does not support item assignment",
     "output_type": "error",
     "traceback": [
      "\u001b[1;31m---------------------------------------------------------------------------\u001b[0m",
      "\u001b[1;31mTypeError\u001b[0m                                 Traceback (most recent call last)",
      "Cell \u001b[1;32mIn[26], line 1\u001b[0m\n\u001b[1;32m----> 1\u001b[0m a[\u001b[38;5;241m0\u001b[39m] \u001b[38;5;241m=\u001b[39m \u001b[38;5;241m100\u001b[39m\n",
      "\u001b[1;31mTypeError\u001b[0m: 'tuple' object does not support item assignment"
     ]
    }
   ],
   "source": [
    "a[0] = 100"
   ]
  },
  {
   "cell_type": "code",
   "execution_count": 28,
   "id": "57772077-d880-451c-98a5-66b8cd04409d",
   "metadata": {},
   "outputs": [],
   "source": [
    "b = (10, 20, 30, 40, 50, 40, 20, 40)"
   ]
  },
  {
   "cell_type": "code",
   "execution_count": 30,
   "id": "9f92e54a-6d3c-4b74-91f6-4b072eec688e",
   "metadata": {},
   "outputs": [
    {
     "data": {
      "text/plain": [
       "2"
      ]
     },
     "execution_count": 30,
     "metadata": {},
     "output_type": "execute_result"
    }
   ],
   "source": [
    "b.count(20)"
   ]
  },
  {
   "cell_type": "code",
   "execution_count": 32,
   "id": "6b404722-52a5-45a0-a1a6-9c0da8b10201",
   "metadata": {},
   "outputs": [
    {
     "data": {
      "text/plain": [
       "3"
      ]
     },
     "execution_count": 32,
     "metadata": {},
     "output_type": "execute_result"
    }
   ],
   "source": [
    "b.count(40)"
   ]
  },
  {
   "cell_type": "code",
   "execution_count": 34,
   "id": "6fa054cb-04f4-43e6-97a3-d6022e9db252",
   "metadata": {},
   "outputs": [
    {
     "data": {
      "text/plain": [
       "0"
      ]
     },
     "execution_count": 34,
     "metadata": {},
     "output_type": "execute_result"
    }
   ],
   "source": [
    "b.count(100)"
   ]
  },
  {
   "cell_type": "code",
   "execution_count": 40,
   "id": "f73cf367-ac4a-42d8-a8c6-a09fba91c9e8",
   "metadata": {},
   "outputs": [
    {
     "data": {
      "text/plain": [
       "(10, 20, 30, 40, 50, 40, 20, 40)"
      ]
     },
     "execution_count": 40,
     "metadata": {},
     "output_type": "execute_result"
    }
   ],
   "source": [
    "b"
   ]
  },
  {
   "cell_type": "code",
   "execution_count": 42,
   "id": "c61dc1d3-4953-4843-ba7e-2e5d1c915bba",
   "metadata": {},
   "outputs": [
    {
     "data": {
      "text/plain": [
       "1"
      ]
     },
     "execution_count": 42,
     "metadata": {},
     "output_type": "execute_result"
    }
   ],
   "source": [
    "b.index(20)"
   ]
  },
  {
   "cell_type": "code",
   "execution_count": 44,
   "id": "194c87ef-d741-4a20-8b5f-f1d4a1aff2c8",
   "metadata": {},
   "outputs": [
    {
     "data": {
      "text/plain": [
       "3"
      ]
     },
     "execution_count": 44,
     "metadata": {},
     "output_type": "execute_result"
    }
   ],
   "source": [
    "b.index(40)"
   ]
  },
  {
   "cell_type": "code",
   "execution_count": 46,
   "id": "f2d96d37-5108-475c-9aac-11899fedba53",
   "metadata": {},
   "outputs": [],
   "source": [
    "b = (10, 20, 30, 40, 50, 40, 20, 40, 80) # redefining variable tuple"
   ]
  },
  {
   "cell_type": "code",
   "execution_count": 48,
   "id": "60d5a912-c8a0-4f66-96c4-94e5f446f691",
   "metadata": {},
   "outputs": [
    {
     "data": {
      "text/plain": [
       "8"
      ]
     },
     "execution_count": 48,
     "metadata": {},
     "output_type": "execute_result"
    }
   ],
   "source": [
    "b.index(80)"
   ]
  },
  {
   "cell_type": "code",
   "execution_count": 54,
   "id": "6d70c387-1366-418a-be17-cacfb9144c57",
   "metadata": {},
   "outputs": [],
   "source": [
    "c = (0, 1.2, 'a', True) # Hetrogeneous"
   ]
  },
  {
   "cell_type": "code",
   "execution_count": 56,
   "id": "fcac9d43-b749-477e-a0a0-c3f8f1f15e49",
   "metadata": {},
   "outputs": [
    {
     "data": {
      "text/plain": [
       "(0, 1.2, 'a', True)"
      ]
     },
     "execution_count": 56,
     "metadata": {},
     "output_type": "execute_result"
    }
   ],
   "source": [
    "c"
   ]
  },
  {
   "cell_type": "code",
   "execution_count": 58,
   "id": "3efbfbf1-a235-4ea2-9398-726e121b164f",
   "metadata": {},
   "outputs": [
    {
     "data": {
      "text/plain": [
       "(1.2, 'a', True)"
      ]
     },
     "execution_count": 58,
     "metadata": {},
     "output_type": "execute_result"
    }
   ],
   "source": [
    "c[1:]"
   ]
  },
  {
   "cell_type": "code",
   "execution_count": 60,
   "id": "7640a44e-e1fc-4461-8d23-7a6759c42c04",
   "metadata": {},
   "outputs": [
    {
     "data": {
      "text/plain": [
       "(0, 1.2, 'a', True)"
      ]
     },
     "execution_count": 60,
     "metadata": {},
     "output_type": "execute_result"
    }
   ],
   "source": [
    "c[:]"
   ]
  },
  {
   "cell_type": "code",
   "execution_count": 62,
   "id": "cc702fe8-be8d-47fb-9593-a6fb521a6654",
   "metadata": {},
   "outputs": [
    {
     "data": {
      "text/plain": [
       "(True, 'a', 1.2, 0)"
      ]
     },
     "execution_count": 62,
     "metadata": {},
     "output_type": "execute_result"
    }
   ],
   "source": [
    "c[::-1]"
   ]
  },
  {
   "cell_type": "code",
   "execution_count": 66,
   "id": "533554ea-928a-42a0-8463-b282a6b72cea",
   "metadata": {},
   "outputs": [
    {
     "data": {
      "text/plain": [
       "(0, 1.2, 'a', True)"
      ]
     },
     "execution_count": 66,
     "metadata": {},
     "output_type": "execute_result"
    }
   ],
   "source": [
    "c"
   ]
  },
  {
   "cell_type": "code",
   "execution_count": 64,
   "id": "c7cdf375-6f88-4c25-833b-325a48684da8",
   "metadata": {},
   "outputs": [
    {
     "data": {
      "text/plain": [
       "'a'"
      ]
     },
     "execution_count": 64,
     "metadata": {},
     "output_type": "execute_result"
    }
   ],
   "source": [
    "c[2]"
   ]
  },
  {
   "cell_type": "code",
   "execution_count": 68,
   "id": "290cf02b-8953-4f13-a803-8cff45efb303",
   "metadata": {},
   "outputs": [
    {
     "data": {
      "text/plain": [
       "(0, 1.2, 'a')"
      ]
     },
     "execution_count": 68,
     "metadata": {},
     "output_type": "execute_result"
    }
   ],
   "source": [
    "c[:3]"
   ]
  },
  {
   "cell_type": "code",
   "execution_count": 70,
   "id": "1f9cd980-34ff-4939-89e2-4242cf8e6a69",
   "metadata": {},
   "outputs": [],
   "source": [
    "a = (10, 300, -124, ['a','b',(True, False), 'c'], -45.7)"
   ]
  },
  {
   "cell_type": "code",
   "execution_count": 76,
   "id": "a93bf42c-cdd8-4df2-b512-05e703fba07f",
   "metadata": {},
   "outputs": [
    {
     "data": {
      "text/plain": [
       "False"
      ]
     },
     "execution_count": 76,
     "metadata": {},
     "output_type": "execute_result"
    }
   ],
   "source": [
    "a[3][2][1]"
   ]
  },
  {
   "cell_type": "code",
   "execution_count": 78,
   "id": "44e58985-ad27-4b33-a7d3-7a6e877a9d25",
   "metadata": {},
   "outputs": [
    {
     "data": {
      "text/plain": [
       "'c'"
      ]
     },
     "execution_count": 78,
     "metadata": {},
     "output_type": "execute_result"
    }
   ],
   "source": [
    "a[3][3]"
   ]
  },
  {
   "cell_type": "code",
   "execution_count": 80,
   "id": "2ba9975f-b975-4bf9-94f1-f9de638c7be6",
   "metadata": {},
   "outputs": [
    {
     "data": {
      "text/plain": [
       "['a', 'b', (True, False), 'c']"
      ]
     },
     "execution_count": 80,
     "metadata": {},
     "output_type": "execute_result"
    }
   ],
   "source": [
    "a[3]"
   ]
  },
  {
   "cell_type": "code",
   "execution_count": 82,
   "id": "d5272c77-4d95-4008-8257-2631bfaf8d70",
   "metadata": {},
   "outputs": [
    {
     "data": {
      "text/plain": [
       "list"
      ]
     },
     "execution_count": 82,
     "metadata": {},
     "output_type": "execute_result"
    }
   ],
   "source": [
    "type(a[3])"
   ]
  },
  {
   "cell_type": "code",
   "execution_count": 84,
   "id": "5ec7c210-cec9-4c16-a017-b80a0df9c476",
   "metadata": {},
   "outputs": [
    {
     "data": {
      "text/plain": [
       "'a'"
      ]
     },
     "execution_count": 84,
     "metadata": {},
     "output_type": "execute_result"
    }
   ],
   "source": [
    "a[3][0]"
   ]
  },
  {
   "cell_type": "code",
   "execution_count": 86,
   "id": "e44dec38-f957-4902-bc6b-f346baa54deb",
   "metadata": {},
   "outputs": [],
   "source": [
    "a[3][0] = 'A'"
   ]
  },
  {
   "cell_type": "code",
   "execution_count": 88,
   "id": "91b415db-4d70-45d8-9df3-45cdbf8ca2b3",
   "metadata": {},
   "outputs": [
    {
     "data": {
      "text/plain": [
       "['A', 'b', (True, False), 'c']"
      ]
     },
     "execution_count": 88,
     "metadata": {},
     "output_type": "execute_result"
    }
   ],
   "source": [
    "a[3]"
   ]
  },
  {
   "cell_type": "code",
   "execution_count": 90,
   "id": "c4098196-16af-4433-a413-53a47640a0c7",
   "metadata": {},
   "outputs": [
    {
     "data": {
      "text/plain": [
       "(True, False)"
      ]
     },
     "execution_count": 90,
     "metadata": {},
     "output_type": "execute_result"
    }
   ],
   "source": [
    "a[3][2]"
   ]
  },
  {
   "cell_type": "code",
   "execution_count": 94,
   "id": "94f2c2eb-6fdf-42df-ba1d-15ee3d1acebd",
   "metadata": {},
   "outputs": [
    {
     "data": {
      "text/plain": [
       "tuple"
      ]
     },
     "execution_count": 94,
     "metadata": {},
     "output_type": "execute_result"
    }
   ],
   "source": [
    "type(a[3][2])"
   ]
  },
  {
   "cell_type": "code",
   "execution_count": 96,
   "id": "7412e0f1-51b9-4ae6-a7d9-6a17266c65f4",
   "metadata": {},
   "outputs": [
    {
     "ename": "TypeError",
     "evalue": "'tuple' object does not support item assignment",
     "output_type": "error",
     "traceback": [
      "\u001b[1;31m---------------------------------------------------------------------------\u001b[0m",
      "\u001b[1;31mTypeError\u001b[0m                                 Traceback (most recent call last)",
      "Cell \u001b[1;32mIn[96], line 1\u001b[0m\n\u001b[1;32m----> 1\u001b[0m a[\u001b[38;5;241m3\u001b[39m][\u001b[38;5;241m2\u001b[39m][\u001b[38;5;241m0\u001b[39m] \u001b[38;5;241m=\u001b[39m \u001b[38;5;241m1\u001b[39m\n",
      "\u001b[1;31mTypeError\u001b[0m: 'tuple' object does not support item assignment"
     ]
    }
   ],
   "source": [
    "a[3][2][0] = 1"
   ]
  },
  {
   "cell_type": "markdown",
   "id": "56520b26-8d50-42d7-b72e-73825df75000",
   "metadata": {},
   "source": [
    "# Conversion from tuple to list"
   ]
  },
  {
   "cell_type": "code",
   "execution_count": 99,
   "id": "4b5004de-72c9-4aa1-9eca-ac6c6bfac4e8",
   "metadata": {},
   "outputs": [],
   "source": [
    "a = tuple(range(10))"
   ]
  },
  {
   "cell_type": "code",
   "execution_count": 101,
   "id": "b8fdd741-2586-4008-8dc8-4c64049b8a07",
   "metadata": {},
   "outputs": [
    {
     "data": {
      "text/plain": [
       "(0, 1, 2, 3, 4, 5, 6, 7, 8, 9)"
      ]
     },
     "execution_count": 101,
     "metadata": {},
     "output_type": "execute_result"
    }
   ],
   "source": [
    "a"
   ]
  },
  {
   "cell_type": "code",
   "execution_count": 103,
   "id": "104a9199-02cb-4954-9882-dc566469a59d",
   "metadata": {},
   "outputs": [
    {
     "data": {
      "text/plain": [
       "tuple"
      ]
     },
     "execution_count": 103,
     "metadata": {},
     "output_type": "execute_result"
    }
   ],
   "source": [
    "type(a)"
   ]
  },
  {
   "cell_type": "code",
   "execution_count": 105,
   "id": "089bac7c-22c6-4cde-a7ba-fe1eb9bf7ae3",
   "metadata": {},
   "outputs": [],
   "source": [
    "b = list(a)"
   ]
  },
  {
   "cell_type": "code",
   "execution_count": 107,
   "id": "175c720e-1d74-4e31-a8e2-df0cc3eb7d54",
   "metadata": {},
   "outputs": [
    {
     "data": {
      "text/plain": [
       "[0, 1, 2, 3, 4, 5, 6, 7, 8, 9]"
      ]
     },
     "execution_count": 107,
     "metadata": {},
     "output_type": "execute_result"
    }
   ],
   "source": [
    "b"
   ]
  },
  {
   "cell_type": "code",
   "execution_count": 109,
   "id": "aee09a05-bf57-4580-8311-5d4999bd7a15",
   "metadata": {},
   "outputs": [
    {
     "data": {
      "text/plain": [
       "list"
      ]
     },
     "execution_count": 109,
     "metadata": {},
     "output_type": "execute_result"
    }
   ],
   "source": [
    "type(b)"
   ]
  },
  {
   "cell_type": "code",
   "execution_count": null,
   "id": "6cb796a4-f8d4-4aef-974a-2c2c572f6d68",
   "metadata": {},
   "outputs": [],
   "source": []
  }
 ],
 "metadata": {
  "kernelspec": {
   "display_name": "Python 3 (ipykernel)",
   "language": "python",
   "name": "python3"
  },
  "language_info": {
   "codemirror_mode": {
    "name": "ipython",
    "version": 3
   },
   "file_extension": ".py",
   "mimetype": "text/x-python",
   "name": "python",
   "nbconvert_exporter": "python",
   "pygments_lexer": "ipython3",
   "version": "3.12.4"
  }
 },
 "nbformat": 4,
 "nbformat_minor": 5
}
