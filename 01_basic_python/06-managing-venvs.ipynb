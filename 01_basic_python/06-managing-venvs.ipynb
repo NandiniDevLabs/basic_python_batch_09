{
 "cells": [
  {
   "cell_type": "markdown",
   "id": "f936027d-5cd8-49bc-bdfc-e4b0e9cdcaec",
   "metadata": {},
   "source": [
    "## Anaconda Prompt commands\n",
    "Run the following commands in Anaconda prompt to launch apps:\n",
    "- To launch Spyder: `spyder`\n",
    "- To launch VSCode: `code`\n",
    "- To launch Jupyter Notebook: `jupyter notebook`\n",
    "- To launch Jupyter Lab: `jupyter lab`\n",
    "- ---\n",
    "- To stop service from runnining: `ctrl + c`\n",
    "- To clear screen : `cls`"
   ]
  },
  {
   "cell_type": "markdown",
   "id": "5d58291e",
   "metadata": {},
   "source": [
    "# Virtual Environment from Anaconda Prompt\n",
    "Use the following commands to handle virtual environments from Anaconda Prompt\n",
    "- Create Virtual Environment: \n",
    "    ~~~\n",
    "    conda create --name myenv\n",
    "    ~~~\n",
    "- Create Virtual Environment with Packages:\n",
    "    ~~~\n",
    "    conda create --name myenv python=3.9 numpy pandas\n",
    "    ~~~\n",
    "- List Virtual Environments: (any one command)\n",
    "    ~~~\n",
    "    conda env list\n",
    "    conda info --envs\n",
    "    ~~~\n",
    "- Activate Virtual Environment: \n",
    "    ~~~\n",
    "    conda activate myenv\n",
    "    ~~~\n",
    "- Deactivate Virtual Environment: \n",
    "    ~~~\n",
    "    conda deactivate\n",
    "    ~~~\n",
    "- Delete Virtual Environment: \n",
    "    ~~~\n",
    "    conda remove --name myenv --all\n",
    "    ~~~"
   ]
  },
  {
   "cell_type": "markdown",
   "id": "f4dd221f",
   "metadata": {},
   "source": [
    "# Virtual Environment from VSCode Terminal\n",
    "- For Windows Machine, create virtual environment from VSCode Terminal using the following commands\n",
    "    1. Create venv\n",
    "        ~~~\n",
    "        python -m venv .venv\n",
    "        ~~~\n",
    "    2. Activate venv\n",
    "        ~~~\n",
    "        .venv/Scripts/activate\n",
    "        ~~~\n",
    "    3. Deactivate venv\n",
    "        ~~~\n",
    "        deactivate\n",
    "        ~~~"
   ]
  },
  {
   "cell_type": "code",
   "execution_count": null,
   "id": "cabec5ea",
   "metadata": {},
   "outputs": [],
   "source": []
  }
 ],
 "metadata": {
  "kernelspec": {
   "display_name": "Python 3",
   "language": "python",
   "name": "python3"
  },
  "language_info": {
   "codemirror_mode": {
    "name": "ipython",
    "version": 3
   },
   "file_extension": ".py",
   "mimetype": "text/x-python",
   "name": "python",
   "nbconvert_exporter": "python",
   "pygments_lexer": "ipython3",
   "version": "3.11.9"
  }
 },
 "nbformat": 4,
 "nbformat_minor": 5
}
