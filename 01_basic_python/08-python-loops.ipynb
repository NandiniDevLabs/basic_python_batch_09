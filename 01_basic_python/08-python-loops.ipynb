{
 "cells": [
  {
   "cell_type": "markdown",
   "id": "136ae5d5-65c1-44bb-8cce-3932d2ff51bf",
   "metadata": {},
   "source": [
    "## Python Loops\n",
    "- For loop\n",
    "- While loop - Executes until the condition becomes **False**"
   ]
  },
  {
   "cell_type": "markdown",
   "id": "3003d45e",
   "metadata": {},
   "source": [
    "# For Loop\n",
    "- Many objects in Python are “iterable”, meaning we can iterate over every element in the object.\n",
    "- Such as every element in a list or every character in a string.\n",
    "- We can use for loops to execute a block of code for every iteration.\n",
    "- The term iterable means you can “iterate” over the object.\n",
    "- For example you can iterate over every character in a string, iterate over every item in a list, iterate over every key in a dictionary."
   ]
  },
  {
   "cell_type": "code",
   "execution_count": null,
   "id": "d59660e1-1ee5-49f0-a8b0-c62a9903baa5",
   "metadata": {},
   "outputs": [],
   "source": [
    "i = 0\n",
    "while i <= 3:\n",
    "    print(\"Iteration: \", i)\n",
    "    print(\"Line 1\")\n",
    "    print(\"Line 2\")\n",
    "    i = i + 1 # 1"
   ]
  },
  {
   "cell_type": "code",
   "execution_count": null,
   "id": "13843b1b-d73a-4b69-8ab6-6cb73ba36534",
   "metadata": {},
   "outputs": [],
   "source": [
    "i = 0\n",
    "if i <= 3:\n",
    "    print(\"Iteration: \", i)\n",
    "    print(\"Line 1\")\n",
    "    print(\"Line 2\")\n",
    "    i = i + 1 # 1"
   ]
  },
  {
   "cell_type": "code",
   "execution_count": null,
   "id": "b972b2f0-9dad-4750-9562-4eb4d99cac80",
   "metadata": {},
   "outputs": [],
   "source": [
    "for i in range(5):\n",
    "    print(i)"
   ]
  },
  {
   "cell_type": "code",
   "execution_count": null,
   "id": "168ba879-0954-47d8-a8cf-a0b63c13e965",
   "metadata": {},
   "outputs": [],
   "source": [
    "# Even numbers between 1 to 50 --> number exactly divisible by 2 is even -- num % 2 == 0\n",
    "for i in range(50):\n",
    "    if i % 2 == 0: # Even number\n",
    "        print(i)"
   ]
  },
  {
   "cell_type": "code",
   "execution_count": null,
   "id": "aca3146c-7216-45ee-8445-ec68ba37dd82",
   "metadata": {},
   "outputs": [],
   "source": [
    "1004 % 2 == 0 # Even number : condition is true"
   ]
  },
  {
   "cell_type": "code",
   "execution_count": null,
   "id": "77c83f91-04f2-43b1-ab4f-fbee14e06179",
   "metadata": {},
   "outputs": [],
   "source": [
    "23 % 2 == 0 # Odd number: condition fails"
   ]
  },
  {
   "cell_type": "code",
   "execution_count": null,
   "id": "59270da7-ce32-4050-917f-a4a177aedba1",
   "metadata": {},
   "outputs": [],
   "source": [
    "23 % 2"
   ]
  },
  {
   "cell_type": "code",
   "execution_count": null,
   "id": "87f07866-9b54-486a-a859-820f933e5b9f",
   "metadata": {},
   "outputs": [],
   "source": [
    "1 == 0"
   ]
  },
  {
   "cell_type": "code",
   "execution_count": null,
   "id": "3d6ed4eb-5b12-4f8f-81c0-540ac61bef40",
   "metadata": {},
   "outputs": [],
   "source": [
    "# Printing odd numbers between 1 to 50\n",
    "for i in range(50):\n",
    "    if i % 2 != 0: # Odd number\n",
    "        print(i)"
   ]
  },
  {
   "cell_type": "code",
   "execution_count": null,
   "id": "3abf6098-5443-4418-a7b7-83a460bc0548",
   "metadata": {},
   "outputs": [],
   "source": [
    "# Printing odd numbers between 1 to 50\n",
    "for i in range(50):\n",
    "    if i % 2 != 0: # Odd number\n",
    "        print(i, end=' ') # \\t"
   ]
  },
  {
   "cell_type": "code",
   "execution_count": null,
   "id": "36d3fb9c-928a-46b8-ba45-a33906514cce",
   "metadata": {},
   "outputs": [],
   "source": [
    "print??"
   ]
  },
  {
   "cell_type": "code",
   "execution_count": null,
   "id": "ad626367-d306-413e-8b10-c7a3f9398f66",
   "metadata": {},
   "outputs": [],
   "source": [
    "print(\"Hi \\n\\nall\\tI hope you are enjoying this class\")\n",
    "print(\"****\")"
   ]
  },
  {
   "cell_type": "code",
   "execution_count": null,
   "id": "a8560080-6122-450a-8b2c-5af6ffa69dcc",
   "metadata": {},
   "outputs": [],
   "source": [
    "print(\"Hi \\n\\nall\\tI hope you are enjoying this class\", end=' ')\n",
    "print(\"****\")\n"
   ]
  },
  {
   "cell_type": "code",
   "execution_count": null,
   "id": "88117fc0",
   "metadata": {},
   "outputs": [],
   "source": [
    "my_list = [5,3,-1,7,0]"
   ]
  },
  {
   "cell_type": "code",
   "execution_count": null,
   "id": "28aaa836",
   "metadata": {},
   "outputs": [],
   "source": [
    "my_list"
   ]
  },
  {
   "cell_type": "code",
   "execution_count": null,
   "id": "673a6c76",
   "metadata": {},
   "outputs": [],
   "source": [
    "result = 0\n",
    "for i in my_list:\n",
    "    # print(\"Item Value:\",i)\n",
    "    result = result + i\n",
    "    # result = result * i # Similar case -- comment above line and try this\n",
    "    # print(\"Result: \", result)\n",
    "# End of for loop\n",
    "print(\"-------\")\n",
    "print(\"Addition of list items value:\", result) "
   ]
  },
  {
   "cell_type": "code",
   "execution_count": null,
   "id": "62cfaa77",
   "metadata": {},
   "outputs": [],
   "source": [
    "output_list = []\n",
    "result = 0\n",
    "for i in my_list:\n",
    "    # print(\"Item Value:\",i)\n",
    "    result = result + i\n",
    "    # print(\"Result: \", result)\n",
    "    output_list.append(result)\n",
    "# End of for loop\n",
    "print(output_list)"
   ]
  }
 ],
 "metadata": {
  "kernelspec": {
   "display_name": "Python 3 (ipykernel)",
   "language": "python",
   "name": "python3"
  },
  "language_info": {
   "codemirror_mode": {
    "name": "ipython",
    "version": 3
   },
   "file_extension": ".py",
   "mimetype": "text/x-python",
   "name": "python",
   "nbconvert_exporter": "python",
   "pygments_lexer": "ipython3",
   "version": "3.12.4"
  }
 },
 "nbformat": 4,
 "nbformat_minor": 5
}
