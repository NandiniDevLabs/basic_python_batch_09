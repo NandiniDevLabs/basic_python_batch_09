{
 "cells": [
  {
   "cell_type": "code",
   "execution_count": 11,
   "id": "dae75d56-d299-4a5e-97c6-e2fd13389d71",
   "metadata": {},
   "outputs": [
    {
     "data": {
      "text/plain": [
       "{1, 2, 3, 4, 5}"
      ]
     },
     "execution_count": 11,
     "metadata": {},
     "output_type": "execute_result"
    }
   ],
   "source": [
    "a = {1,2,3,4,5,4,3}\n",
    "a"
   ]
  },
  {
   "cell_type": "code",
   "execution_count": 13,
   "id": "1458f72e-814e-4dc6-aed3-14c5faa6c146",
   "metadata": {},
   "outputs": [
    {
     "data": {
      "text/plain": [
       "{4, 5, 6, 7, 8, 9}"
      ]
     },
     "execution_count": 13,
     "metadata": {},
     "output_type": "execute_result"
    }
   ],
   "source": [
    "b = set(range(4,10))\n",
    "b"
   ]
  },
  {
   "cell_type": "code",
   "execution_count": 17,
   "id": "c0ada278-b684-4db1-85ab-33667d8eb210",
   "metadata": {},
   "outputs": [
    {
     "name": "stdout",
     "output_type": "stream",
     "text": [
      "a: {1, 2, 3, 4, 5}\n",
      "b: {4, 5, 6, 7, 8, 9}\n"
     ]
    }
   ],
   "source": [
    "a = set(range(1,6))\n",
    "b = set(range(4,10))\n",
    "print(\"a:\", a)\n",
    "print(\"b:\", b)"
   ]
  },
  {
   "cell_type": "code",
   "execution_count": 19,
   "id": "268eceb8-c5b2-4455-ab6c-f0f8209f1bd7",
   "metadata": {},
   "outputs": [],
   "source": [
    "a.add(4)"
   ]
  },
  {
   "cell_type": "code",
   "execution_count": 21,
   "id": "baa8aea0-2322-4960-83fb-4f9563050a59",
   "metadata": {},
   "outputs": [
    {
     "data": {
      "text/plain": [
       "{1, 2, 3, 4, 5}"
      ]
     },
     "execution_count": 21,
     "metadata": {},
     "output_type": "execute_result"
    }
   ],
   "source": [
    "a"
   ]
  },
  {
   "cell_type": "code",
   "execution_count": 23,
   "id": "c3f07194-354c-4efe-bd28-acf5183cafd2",
   "metadata": {},
   "outputs": [
    {
     "name": "stdout",
     "output_type": "stream",
     "text": [
      "{1, 2, 3, 4, 5, 10}\n"
     ]
    }
   ],
   "source": [
    "a.add(10)\n",
    "print(a)"
   ]
  },
  {
   "cell_type": "code",
   "execution_count": 25,
   "id": "c4f0edc4-198b-4d61-8fa7-7fec05955d16",
   "metadata": {},
   "outputs": [
    {
     "data": {
      "text/plain": [
       "{4, 5, 6, 7, 8, 9}"
      ]
     },
     "execution_count": 25,
     "metadata": {},
     "output_type": "execute_result"
    }
   ],
   "source": [
    "b"
   ]
  },
  {
   "cell_type": "code",
   "execution_count": 27,
   "id": "eb82804e-86c3-4273-8fbb-a504181b9b1a",
   "metadata": {},
   "outputs": [],
   "source": [
    "b.discard(7)"
   ]
  },
  {
   "cell_type": "code",
   "execution_count": 35,
   "id": "e11226a5-5738-4198-bad9-45ac97b86e22",
   "metadata": {},
   "outputs": [
    {
     "data": {
      "text/plain": [
       "{4, 5, 6, 8, 9}"
      ]
     },
     "execution_count": 35,
     "metadata": {},
     "output_type": "execute_result"
    }
   ],
   "source": [
    "b"
   ]
  },
  {
   "cell_type": "code",
   "execution_count": 37,
   "id": "23767c41-f53b-4c45-8695-900071c3968b",
   "metadata": {},
   "outputs": [],
   "source": [
    "b.discard(70)"
   ]
  },
  {
   "cell_type": "code",
   "execution_count": 33,
   "id": "de49aead-4c6d-49fa-94bf-08681aa2101d",
   "metadata": {},
   "outputs": [
    {
     "data": {
      "text/plain": [
       "\u001b[1;31mDocstring:\u001b[0m\n",
       "Remove an element from a set if it is a member.\n",
       "\n",
       "Unlike set.remove(), the discard() method does not raise\n",
       "an exception when an element is missing from the set.\n",
       "\u001b[1;31mType:\u001b[0m      builtin_function_or_method"
      ]
     },
     "metadata": {},
     "output_type": "display_data"
    }
   ],
   "source": [
    "b.discard?"
   ]
  },
  {
   "cell_type": "code",
   "execution_count": 39,
   "id": "4090adb2-bb42-401c-8a5e-caaf97570fd0",
   "metadata": {},
   "outputs": [
    {
     "data": {
      "text/plain": [
       "{4, 5, 6, 8, 9}"
      ]
     },
     "execution_count": 39,
     "metadata": {},
     "output_type": "execute_result"
    }
   ],
   "source": [
    "b"
   ]
  },
  {
   "cell_type": "code",
   "execution_count": 41,
   "id": "d2aa77a6-0098-4e95-9e33-f4a9364f80d1",
   "metadata": {},
   "outputs": [],
   "source": [
    "b.remove(5)"
   ]
  },
  {
   "cell_type": "code",
   "execution_count": 43,
   "id": "a944faac-44b5-4d13-8add-9a9c5bfcca02",
   "metadata": {},
   "outputs": [
    {
     "data": {
      "text/plain": [
       "{4, 6, 8, 9}"
      ]
     },
     "execution_count": 43,
     "metadata": {},
     "output_type": "execute_result"
    }
   ],
   "source": [
    "b"
   ]
  },
  {
   "cell_type": "code",
   "execution_count": 45,
   "id": "eaeb25e4-b95a-44bd-8ea6-daf8418a8650",
   "metadata": {},
   "outputs": [
    {
     "ename": "KeyError",
     "evalue": "50",
     "output_type": "error",
     "traceback": [
      "\u001b[1;31m---------------------------------------------------------------------------\u001b[0m",
      "\u001b[1;31mKeyError\u001b[0m                                  Traceback (most recent call last)",
      "Cell \u001b[1;32mIn[45], line 1\u001b[0m\n\u001b[1;32m----> 1\u001b[0m b\u001b[38;5;241m.\u001b[39mremove(\u001b[38;5;241m50\u001b[39m)\n",
      "\u001b[1;31mKeyError\u001b[0m: 50"
     ]
    }
   ],
   "source": [
    "b.remove(50)"
   ]
  },
  {
   "cell_type": "code",
   "execution_count": 47,
   "id": "9cff364d-38ac-4ade-9bf2-3535ab92a153",
   "metadata": {},
   "outputs": [
    {
     "data": {
      "text/plain": [
       "{4, 6, 8, 9}"
      ]
     },
     "execution_count": 47,
     "metadata": {},
     "output_type": "execute_result"
    }
   ],
   "source": [
    "b"
   ]
  },
  {
   "cell_type": "code",
   "execution_count": 49,
   "id": "f829517a-38a3-4da6-9ea5-91b4603ede2d",
   "metadata": {},
   "outputs": [
    {
     "data": {
      "text/plain": [
       "4"
      ]
     },
     "execution_count": 49,
     "metadata": {},
     "output_type": "execute_result"
    }
   ],
   "source": [
    "b.pop()"
   ]
  },
  {
   "cell_type": "code",
   "execution_count": 51,
   "id": "d825169f-7b8c-4501-a70b-6ede06e19c49",
   "metadata": {},
   "outputs": [
    {
     "data": {
      "text/plain": [
       "{6, 8, 9}"
      ]
     },
     "execution_count": 51,
     "metadata": {},
     "output_type": "execute_result"
    }
   ],
   "source": [
    "b"
   ]
  },
  {
   "cell_type": "code",
   "execution_count": 53,
   "id": "3d36470f-c8c9-4050-82f7-5bd4a566a6a9",
   "metadata": {},
   "outputs": [
    {
     "data": {
      "text/plain": [
       "6"
      ]
     },
     "execution_count": 53,
     "metadata": {},
     "output_type": "execute_result"
    }
   ],
   "source": [
    "b.pop()"
   ]
  },
  {
   "cell_type": "code",
   "execution_count": 55,
   "id": "6494d0eb-b152-4c2a-aedb-89d399fd4311",
   "metadata": {},
   "outputs": [
    {
     "data": {
      "text/plain": [
       "{8, 9}"
      ]
     },
     "execution_count": 55,
     "metadata": {},
     "output_type": "execute_result"
    }
   ],
   "source": [
    "b"
   ]
  },
  {
   "cell_type": "code",
   "execution_count": 57,
   "id": "6d348d05-848e-4c6e-8bb6-7919738b5cf4",
   "metadata": {},
   "outputs": [
    {
     "data": {
      "text/plain": [
       "8"
      ]
     },
     "execution_count": 57,
     "metadata": {},
     "output_type": "execute_result"
    }
   ],
   "source": [
    "b.pop()"
   ]
  },
  {
   "cell_type": "code",
   "execution_count": 59,
   "id": "37eb5519-afe2-4412-b486-e4320ceab5fb",
   "metadata": {},
   "outputs": [
    {
     "data": {
      "text/plain": [
       "{9}"
      ]
     },
     "execution_count": 59,
     "metadata": {},
     "output_type": "execute_result"
    }
   ],
   "source": [
    "b"
   ]
  },
  {
   "cell_type": "code",
   "execution_count": 61,
   "id": "dfca091a-85f9-4617-98d1-2793bb6c7e16",
   "metadata": {},
   "outputs": [
    {
     "data": {
      "text/plain": [
       "9"
      ]
     },
     "execution_count": 61,
     "metadata": {},
     "output_type": "execute_result"
    }
   ],
   "source": [
    "b.pop()"
   ]
  },
  {
   "cell_type": "code",
   "execution_count": 63,
   "id": "daa5ead9-0187-4d34-bc64-ba48b11ed11e",
   "metadata": {},
   "outputs": [
    {
     "data": {
      "text/plain": [
       "set()"
      ]
     },
     "execution_count": 63,
     "metadata": {},
     "output_type": "execute_result"
    }
   ],
   "source": [
    "b"
   ]
  },
  {
   "cell_type": "code",
   "execution_count": 65,
   "id": "79ed59ec-1b25-409c-935c-f3604215b658",
   "metadata": {},
   "outputs": [
    {
     "ename": "KeyError",
     "evalue": "'pop from an empty set'",
     "output_type": "error",
     "traceback": [
      "\u001b[1;31m---------------------------------------------------------------------------\u001b[0m",
      "\u001b[1;31mKeyError\u001b[0m                                  Traceback (most recent call last)",
      "Cell \u001b[1;32mIn[65], line 1\u001b[0m\n\u001b[1;32m----> 1\u001b[0m b\u001b[38;5;241m.\u001b[39mpop()\n",
      "\u001b[1;31mKeyError\u001b[0m: 'pop from an empty set'"
     ]
    }
   ],
   "source": [
    "b.pop()"
   ]
  },
  {
   "cell_type": "code",
   "execution_count": 67,
   "id": "6d78c6b0-b718-467f-a6b5-203628430ede",
   "metadata": {},
   "outputs": [
    {
     "name": "stdout",
     "output_type": "stream",
     "text": [
      "{1, 2, 3, 4, 5}\n",
      "{4, 5, 6, 7, 8, 9}\n"
     ]
    }
   ],
   "source": [
    "a = set(range(1,6))\n",
    "b = set(range(4,10))\n",
    "print(a)\n",
    "print(b)"
   ]
  },
  {
   "cell_type": "code",
   "execution_count": 69,
   "id": "fd56c5bb-62ae-4f38-bb5a-2fbc9a1092dd",
   "metadata": {},
   "outputs": [
    {
     "data": {
      "text/plain": [
       "False"
      ]
     },
     "execution_count": 69,
     "metadata": {},
     "output_type": "execute_result"
    }
   ],
   "source": [
    "a.isdisjoint(b)"
   ]
  },
  {
   "cell_type": "code",
   "execution_count": 73,
   "id": "5cfed259-bdbb-469d-9b78-49ac9936301f",
   "metadata": {},
   "outputs": [
    {
     "name": "stdout",
     "output_type": "stream",
     "text": [
      "c: {11, 12, 13, 14, 15}\n",
      "a: {1, 2, 3, 4, 5}\n"
     ]
    }
   ],
   "source": [
    "c = set(range(11,16))\n",
    "print(\"c:\", c)\n",
    "print(\"a:\", a)"
   ]
  },
  {
   "cell_type": "code",
   "execution_count": 75,
   "id": "1f932cef-e1f6-4214-a130-7e0bb7bd28d6",
   "metadata": {},
   "outputs": [
    {
     "data": {
      "text/plain": [
       "True"
      ]
     },
     "execution_count": 75,
     "metadata": {},
     "output_type": "execute_result"
    }
   ],
   "source": [
    "a.isdisjoint(c)"
   ]
  },
  {
   "cell_type": "code",
   "execution_count": 79,
   "id": "10e3b6d5-178b-458e-8c56-df5010f37109",
   "metadata": {},
   "outputs": [
    {
     "name": "stdout",
     "output_type": "stream",
     "text": [
      "d: {2, 3, 4}\n",
      "a: {1, 2, 3, 4, 5}\n"
     ]
    }
   ],
   "source": [
    "d = {2,3,4}\n",
    "print(\"d:\", d)\n",
    "print(\"a:\", a) \n",
    "\n",
    "# a --> superset\n",
    "# d --> subset"
   ]
  },
  {
   "cell_type": "code",
   "execution_count": 84,
   "id": "22f1456b-e4e5-4793-90f3-5655ff6f90e8",
   "metadata": {},
   "outputs": [
    {
     "data": {
      "text/plain": [
       "False"
      ]
     },
     "execution_count": 84,
     "metadata": {},
     "output_type": "execute_result"
    }
   ],
   "source": [
    "a.issubset(d)"
   ]
  },
  {
   "cell_type": "code",
   "execution_count": 81,
   "id": "b3b7161b-29ea-4bfa-b607-a999d68a5411",
   "metadata": {},
   "outputs": [
    {
     "data": {
      "text/plain": [
       "True"
      ]
     },
     "execution_count": 81,
     "metadata": {},
     "output_type": "execute_result"
    }
   ],
   "source": [
    "d.issubset(a)"
   ]
  },
  {
   "cell_type": "code",
   "execution_count": 86,
   "id": "0055c379-d60c-4e2b-9dd4-f99a2cf7db69",
   "metadata": {},
   "outputs": [
    {
     "data": {
      "text/plain": [
       "True"
      ]
     },
     "execution_count": 86,
     "metadata": {},
     "output_type": "execute_result"
    }
   ],
   "source": [
    "a.issuperset(d)"
   ]
  },
  {
   "cell_type": "code",
   "execution_count": 90,
   "id": "796f0aeb-9ece-4bf4-bbf9-00d38894bb9c",
   "metadata": {},
   "outputs": [
    {
     "data": {
      "text/plain": [
       "False"
      ]
     },
     "execution_count": 90,
     "metadata": {},
     "output_type": "execute_result"
    }
   ],
   "source": [
    "d.issuperset(a)"
   ]
  },
  {
   "cell_type": "code",
   "execution_count": 94,
   "id": "d8f11746-9ea1-4f09-b79c-21b8225985b8",
   "metadata": {},
   "outputs": [
    {
     "name": "stdout",
     "output_type": "stream",
     "text": [
      "e: {0, 1, 2}\n",
      "a: {1, 2, 3, 4, 5}\n"
     ]
    }
   ],
   "source": [
    "e = {0,1,2}\n",
    "print(\"e:\", e)\n",
    "print(\"a:\", a)\n",
    "\n",
    "# a --> \n",
    "# e --> "
   ]
  },
  {
   "cell_type": "code",
   "execution_count": 96,
   "id": "396bda0a-1595-4678-a352-2c4421656d04",
   "metadata": {},
   "outputs": [
    {
     "data": {
      "text/plain": [
       "False"
      ]
     },
     "execution_count": 96,
     "metadata": {},
     "output_type": "execute_result"
    }
   ],
   "source": [
    "e.issubset(a)"
   ]
  },
  {
   "cell_type": "code",
   "execution_count": 98,
   "id": "f7697c21-ec50-4c0a-84a5-76cb5c0b4517",
   "metadata": {},
   "outputs": [
    {
     "data": {
      "text/plain": [
       "False"
      ]
     },
     "execution_count": 98,
     "metadata": {},
     "output_type": "execute_result"
    }
   ],
   "source": [
    "a.issubset(e)"
   ]
  },
  {
   "cell_type": "code",
   "execution_count": 100,
   "id": "f0971849-7c9c-4485-be41-cd25bd74988d",
   "metadata": {},
   "outputs": [
    {
     "data": {
      "text/plain": [
       "False"
      ]
     },
     "execution_count": 100,
     "metadata": {},
     "output_type": "execute_result"
    }
   ],
   "source": [
    "e.issuperset(a)"
   ]
  },
  {
   "cell_type": "code",
   "execution_count": 102,
   "id": "9e6c63b6-a055-4616-846d-0940d2e574bc",
   "metadata": {},
   "outputs": [
    {
     "data": {
      "text/plain": [
       "False"
      ]
     },
     "execution_count": 102,
     "metadata": {},
     "output_type": "execute_result"
    }
   ],
   "source": [
    "a.issuperset(e)"
   ]
  },
  {
   "cell_type": "code",
   "execution_count": 105,
   "id": "aeb94379-63f1-42e1-abc7-a2198daf455a",
   "metadata": {},
   "outputs": [],
   "source": [
    "a = {1,2,3,4,5}"
   ]
  },
  {
   "cell_type": "code",
   "execution_count": 115,
   "id": "cee14128-35c4-404a-8c5f-7d254deb3cc0",
   "metadata": {},
   "outputs": [],
   "source": [
    "b = a # Both are referring same data"
   ]
  },
  {
   "cell_type": "code",
   "execution_count": 109,
   "id": "9aed4a39-a39c-49c3-82c0-c9fad5567830",
   "metadata": {},
   "outputs": [],
   "source": [
    "b.discard(4)"
   ]
  },
  {
   "cell_type": "code",
   "execution_count": 111,
   "id": "425ad527-425d-4512-b70b-67da19f897e3",
   "metadata": {},
   "outputs": [
    {
     "name": "stdout",
     "output_type": "stream",
     "text": [
      "a: {1, 2, 3, 5}\n",
      "b: {1, 2, 3, 5}\n"
     ]
    }
   ],
   "source": [
    "print(\"a:\", a)\n",
    "print(\"b:\", b)"
   ]
  },
  {
   "cell_type": "code",
   "execution_count": 127,
   "id": "383c479b-3afb-4094-95b7-7c1c66256b7b",
   "metadata": {},
   "outputs": [
    {
     "name": "stdout",
     "output_type": "stream",
     "text": [
      "a: {1, 2, 3, 4, 5}\n",
      "b: {1, 2, 3, 4, 5}\n"
     ]
    }
   ],
   "source": [
    "a = {1,2,3,4,5}\n",
    "b = a.copy()  # Shallow Copy\n",
    "print(\"a:\", a)\n",
    "print(\"b:\", b)"
   ]
  },
  {
   "cell_type": "code",
   "execution_count": 129,
   "id": "22fe0349-12f4-4145-bf98-0021423fdf34",
   "metadata": {},
   "outputs": [],
   "source": [
    "b.discard(4)"
   ]
  },
  {
   "cell_type": "code",
   "execution_count": 131,
   "id": "d8849735-301d-44eb-b9ec-fd17b3377d77",
   "metadata": {},
   "outputs": [
    {
     "name": "stdout",
     "output_type": "stream",
     "text": [
      "a: {1, 2, 3, 4, 5}\n",
      "b: {1, 2, 3, 5}\n"
     ]
    }
   ],
   "source": [
    "print(\"a:\", a)\n",
    "print(\"b:\", b)"
   ]
  },
  {
   "cell_type": "code",
   "execution_count": null,
   "id": "34c6fd63-9932-4190-a0c7-8e6cd0434e16",
   "metadata": {},
   "outputs": [],
   "source": []
  },
  {
   "cell_type": "code",
   "execution_count": 133,
   "id": "77614fe1-fae4-430c-9273-8da1ce3d3eb9",
   "metadata": {},
   "outputs": [
    {
     "name": "stdout",
     "output_type": "stream",
     "text": [
      "<class 'tuple'>\n",
      "(1, 2, 3, ['a', 'b', 'c'], 5)\n"
     ]
    }
   ],
   "source": [
    "t = (1,2,3,['a','b','c'],5)\n",
    "print(type(t))\n",
    "print(t)"
   ]
  },
  {
   "cell_type": "code",
   "execution_count": 139,
   "id": "719db30f-5ff7-4dc5-bd33-a1cb1df825c9",
   "metadata": {},
   "outputs": [
    {
     "ename": "TypeError",
     "evalue": "unhashable type: 'list'",
     "output_type": "error",
     "traceback": [
      "\u001b[1;31m---------------------------------------------------------------------------\u001b[0m",
      "\u001b[1;31mTypeError\u001b[0m                                 Traceback (most recent call last)",
      "Cell \u001b[1;32mIn[139], line 1\u001b[0m\n\u001b[1;32m----> 1\u001b[0m s \u001b[38;5;241m=\u001b[39m {\u001b[38;5;241m1\u001b[39m,\u001b[38;5;241m2\u001b[39m,\u001b[38;5;241m3\u001b[39m,[\u001b[38;5;124m'\u001b[39m\u001b[38;5;124ma\u001b[39m\u001b[38;5;124m'\u001b[39m,\u001b[38;5;124m'\u001b[39m\u001b[38;5;124mb\u001b[39m\u001b[38;5;124m'\u001b[39m,\u001b[38;5;124m'\u001b[39m\u001b[38;5;124mc\u001b[39m\u001b[38;5;124m'\u001b[39m],\u001b[38;5;241m5\u001b[39m}\n",
      "\u001b[1;31mTypeError\u001b[0m: unhashable type: 'list'"
     ]
    }
   ],
   "source": [
    "s = {1,2,3,['a','b','c'],5}"
   ]
  },
  {
   "cell_type": "code",
   "execution_count": 141,
   "id": "28805d06-ffde-424b-abe0-41057196d691",
   "metadata": {},
   "outputs": [],
   "source": [
    "s = {10, True, False, 'a', 'b', 23.56, 'a'}"
   ]
  },
  {
   "cell_type": "code",
   "execution_count": 143,
   "id": "88464c99-e532-4820-b8c3-927c7b421b22",
   "metadata": {},
   "outputs": [
    {
     "data": {
      "text/plain": [
       "{10, 23.56, False, True, 'a', 'b'}"
      ]
     },
     "execution_count": 143,
     "metadata": {},
     "output_type": "execute_result"
    }
   ],
   "source": [
    "s"
   ]
  },
  {
   "cell_type": "code",
   "execution_count": 145,
   "id": "265e6473-370e-45f7-91fa-e87b60a82fdb",
   "metadata": {},
   "outputs": [],
   "source": [
    "s = {True, False, 1,2,3,4, 0}"
   ]
  },
  {
   "cell_type": "code",
   "execution_count": 147,
   "id": "89df3a81-fa47-4a46-a490-f81394589b3a",
   "metadata": {},
   "outputs": [
    {
     "data": {
      "text/plain": [
       "{False, True, 2, 3, 4}"
      ]
     },
     "execution_count": 147,
     "metadata": {},
     "output_type": "execute_result"
    }
   ],
   "source": [
    "s"
   ]
  },
  {
   "cell_type": "code",
   "execution_count": 149,
   "id": "5b1d9125-c2d1-465b-9f48-d85a07df302d",
   "metadata": {},
   "outputs": [],
   "source": [
    "s = {0,1,2,3,4, False, True}"
   ]
  },
  {
   "cell_type": "code",
   "execution_count": 151,
   "id": "d70f6b53-0071-42a9-9405-c066f2c4e069",
   "metadata": {},
   "outputs": [
    {
     "data": {
      "text/plain": [
       "{0, 1, 2, 3, 4}"
      ]
     },
     "execution_count": 151,
     "metadata": {},
     "output_type": "execute_result"
    }
   ],
   "source": [
    "s"
   ]
  },
  {
   "cell_type": "code",
   "execution_count": 171,
   "id": "49c90a64-6a46-44ba-92e2-52b9cea75cfb",
   "metadata": {},
   "outputs": [],
   "source": [
    "s = {0,1,2,3,4, False, True,'a',0.0,'', None}\n",
    "# 0, False, 0.0 --> considered as same"
   ]
  },
  {
   "cell_type": "code",
   "execution_count": 173,
   "id": "1d953dd1-0e94-4f2f-8507-5ac5b656db55",
   "metadata": {},
   "outputs": [
    {
     "data": {
      "text/plain": [
       "{'', 0, 1, 2, 3, 4, None, 'a'}"
      ]
     },
     "execution_count": 173,
     "metadata": {},
     "output_type": "execute_result"
    }
   ],
   "source": [
    "s"
   ]
  },
  {
   "cell_type": "code",
   "execution_count": 175,
   "id": "311636c0-b53a-4b3c-8b24-f87f091e45e8",
   "metadata": {},
   "outputs": [
    {
     "data": {
      "text/plain": [
       "0"
      ]
     },
     "execution_count": 175,
     "metadata": {},
     "output_type": "execute_result"
    }
   ],
   "source": [
    "s.pop()"
   ]
  },
  {
   "cell_type": "code",
   "execution_count": 177,
   "id": "c17f317a-137c-4680-a017-00777eee2ca9",
   "metadata": {},
   "outputs": [
    {
     "data": {
      "text/plain": [
       "{'', 1, 2, 3, 4, None, 'a'}"
      ]
     },
     "execution_count": 177,
     "metadata": {},
     "output_type": "execute_result"
    }
   ],
   "source": [
    "s"
   ]
  },
  {
   "cell_type": "code",
   "execution_count": 179,
   "id": "ad6d1a08",
   "metadata": {},
   "outputs": [
    {
     "data": {
      "text/plain": [
       "1"
      ]
     },
     "execution_count": 179,
     "metadata": {},
     "output_type": "execute_result"
    }
   ],
   "source": [
    "s.pop()"
   ]
  },
  {
   "cell_type": "code",
   "execution_count": 181,
   "id": "79e34b79-941b-46ea-a2e7-6cd43c6385d6",
   "metadata": {},
   "outputs": [
    {
     "data": {
      "text/plain": [
       "{'', 2, 3, 4, None, 'a'}"
      ]
     },
     "execution_count": 181,
     "metadata": {},
     "output_type": "execute_result"
    }
   ],
   "source": [
    "s"
   ]
  },
  {
   "cell_type": "code",
   "execution_count": null,
   "id": "281370d7-e5ee-4f9e-b130-a656d23651b0",
   "metadata": {},
   "outputs": [],
   "source": []
  }
 ],
 "metadata": {
  "kernelspec": {
   "display_name": "Python 3 (ipykernel)",
   "language": "python",
   "name": "python3"
  },
  "language_info": {
   "codemirror_mode": {
    "name": "ipython",
    "version": 3
   },
   "file_extension": ".py",
   "mimetype": "text/x-python",
   "name": "python",
   "nbconvert_exporter": "python",
   "pygments_lexer": "ipython3",
   "version": "3.12.4"
  }
 },
 "nbformat": 4,
 "nbformat_minor": 5
}
