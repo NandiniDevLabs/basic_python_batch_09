{
 "cells": [
  {
   "cell_type": "markdown",
   "id": "16a6ece0",
   "metadata": {},
   "source": [
    "## Python Statements or Control flow\n",
    "- We often only want certain code to execute when a particular condition has been met.\n",
    "- For example, if  my dog is hungry (some condition), then I will feed the dog (some action).\n",
    "- To control this flow of logic we use some keywords:\n",
    "    - if\n",
    "    - elif \n",
    "    - else\n",
    "- Control Flow syntax makes use of colons and indentation (whitespace).\n",
    "- This indentation system is crucial to Python and is what sets it apart from other programming languages.\n"
   ]
  },
  {
   "cell_type": "code",
   "execution_count": 1,
   "id": "d7834e76",
   "metadata": {},
   "outputs": [],
   "source": [
    "a = 10\n",
    "b = 5"
   ]
  },
  {
   "cell_type": "code",
   "execution_count": 3,
   "id": "91e10dfd",
   "metadata": {},
   "outputs": [
    {
     "data": {
      "text/plain": [
       "True"
      ]
     },
     "execution_count": 3,
     "metadata": {},
     "output_type": "execute_result"
    }
   ],
   "source": [
    "a>b"
   ]
  },
  {
   "cell_type": "code",
   "execution_count": 2,
   "id": "cad7ccdc",
   "metadata": {},
   "outputs": [
    {
     "name": "stdout",
     "output_type": "stream",
     "text": [
      "a is maximum\n",
      "This is out of if block\n"
     ]
    }
   ],
   "source": [
    "if a > b:\n",
    "    print(\"a is maximum\")\n",
    "print(\"This is out of if block\")"
   ]
  },
  {
   "cell_type": "code",
   "execution_count": 4,
   "id": "1cb26f18",
   "metadata": {},
   "outputs": [
    {
     "data": {
      "text/plain": [
       "False"
      ]
     },
     "execution_count": 4,
     "metadata": {},
     "output_type": "execute_result"
    }
   ],
   "source": [
    "a < b"
   ]
  },
  {
   "cell_type": "code",
   "execution_count": 6,
   "id": "ed48c3a0",
   "metadata": {},
   "outputs": [
    {
     "name": "stdout",
     "output_type": "stream",
     "text": [
      "This is out of if block\n"
     ]
    }
   ],
   "source": [
    "if a < b:\n",
    "    print(\"a is minimum\")\n",
    "    print(a)\n",
    "print(\"This is out of if block\")"
   ]
  },
  {
   "cell_type": "markdown",
   "id": "6e58dccf",
   "metadata": {},
   "source": [
    "## If-else "
   ]
  },
  {
   "cell_type": "code",
   "execution_count": 33,
   "id": "1a270e52",
   "metadata": {},
   "outputs": [],
   "source": [
    "total_amount = 13000 # hard-coding"
   ]
  },
  {
   "cell_type": "code",
   "execution_count": 4,
   "id": "ffa10b20",
   "metadata": {},
   "outputs": [
    {
     "data": {
      "text/plain": [
       "True"
      ]
     },
     "execution_count": 4,
     "metadata": {},
     "output_type": "execute_result"
    }
   ],
   "source": [
    "total_amount > 10000"
   ]
  },
  {
   "cell_type": "code",
   "execution_count": 5,
   "id": "03ad87db",
   "metadata": {},
   "outputs": [
    {
     "name": "stdout",
     "output_type": "stream",
     "text": [
      "This is from if-block\n",
      "Total amount payable is \n",
      "10400.0\n"
     ]
    }
   ],
   "source": [
    "if total_amount>10000: # Will be executed when if condition is True\n",
    "    # Discount is 20 % \n",
    "    # amount to be paid is 80%\n",
    "    total_payable = total_amount * 0.8\n",
    "    print(\"This is from if-block\")\n",
    "else:  # Will be executed when if condition is not True\n",
    "    # Discount is 5 % \n",
    "    # amount to be paid is 95%\n",
    "    total_payable = total_amount * 0.95\n",
    "    print(\"This is from else-block\")\n",
    "## End of if-else\n",
    "print(\"Total amount payable is \")\n",
    "print(total_payable)"
   ]
  },
  {
   "cell_type": "code",
   "execution_count": 34,
   "id": "9e645635",
   "metadata": {},
   "outputs": [
    {
     "name": "stdout",
     "output_type": "stream",
     "text": [
      "This is from else-block\n",
      "Total amount payable is \n",
      "380.0\n"
     ]
    }
   ],
   "source": [
    "total_amount = 400\n",
    "if total_amount>10000: # Will be executed when if condition is True\n",
    "    # Discount is 20 % \n",
    "    # amount to be paid is 80%\n",
    "    total_payable = total_amount * 0.8\n",
    "    print(\"This is from if-block\")\n",
    "else:  # Will be executed when if condition is not True\n",
    "    # Discount is 5 % \n",
    "    # amount to be paid is 95%\n",
    "    total_payable = total_amount * 0.95\n",
    "    print(\"This is from else-block\")\n",
    "## End of if-else\n",
    "print(\"Total amount payable is \")\n",
    "print(total_payable)"
   ]
  },
  {
   "cell_type": "code",
   "execution_count": 6,
   "id": "294082d4",
   "metadata": {},
   "outputs": [],
   "source": [
    "total_amount = 200"
   ]
  },
  {
   "cell_type": "code",
   "execution_count": 7,
   "id": "cc8d047d",
   "metadata": {},
   "outputs": [
    {
     "data": {
      "text/plain": [
       "False"
      ]
     },
     "execution_count": 7,
     "metadata": {},
     "output_type": "execute_result"
    }
   ],
   "source": [
    "total_amount>10000"
   ]
  },
  {
   "cell_type": "code",
   "execution_count": 8,
   "id": "8e6ed4bc",
   "metadata": {},
   "outputs": [
    {
     "name": "stdout",
     "output_type": "stream",
     "text": [
      "This is from else-block\n",
      "Total amount payable is \n",
      "190.0\n"
     ]
    }
   ],
   "source": [
    "if total_amount>10000: # Will be executed when if condition is True\n",
    "    # Discount is 20 % \n",
    "    # amount to be paid is 80%\n",
    "    total_payable = total_amount * 0.8\n",
    "    print(\"This is from if-block\")\n",
    "else:  # Will be executed when if condition is not True\n",
    "    # Discount is 5 % \n",
    "    # amount to be paid is 95%\n",
    "    total_payable = total_amount * 0.95\n",
    "    print(\"This is from else-block\")\n",
    "\n",
    "print(\"Total amount payable is \")\n",
    "print(total_payable)"
   ]
  },
  {
   "cell_type": "code",
   "execution_count": 32,
   "id": "717c2efd",
   "metadata": {},
   "outputs": [
    {
     "data": {
      "text/plain": [
       "200.95"
      ]
     },
     "execution_count": 32,
     "metadata": {},
     "output_type": "execute_result"
    }
   ],
   "source": [
    "200 + 0.95"
   ]
  },
  {
   "cell_type": "code",
   "execution_count": 9,
   "id": "afba6c79",
   "metadata": {},
   "outputs": [
    {
     "data": {
      "text/plain": [
       "190.0"
      ]
     },
     "execution_count": 9,
     "metadata": {},
     "output_type": "execute_result"
    }
   ],
   "source": [
    "200 * 0.95"
   ]
  },
  {
   "cell_type": "markdown",
   "id": "0556b8ad",
   "metadata": {},
   "source": [
    "# Accepting input at runtime"
   ]
  },
  {
   "cell_type": "code",
   "execution_count": 14,
   "id": "5b63085f",
   "metadata": {},
   "outputs": [
    {
     "name": "stdout",
     "output_type": "stream",
     "text": [
      "345\n",
      "<class 'str'>\n"
     ]
    }
   ],
   "source": [
    "a = input(\"Enter any number\") # The output of input function is in string format\n",
    "print(a)\n",
    "print(type(a))"
   ]
  },
  {
   "cell_type": "code",
   "execution_count": 15,
   "id": "af865279",
   "metadata": {},
   "outputs": [
    {
     "ename": "TypeError",
     "evalue": "can't multiply sequence by non-int of type 'float'",
     "output_type": "error",
     "traceback": [
      "\u001b[1;31m---------------------------------------------------------------------------\u001b[0m",
      "\u001b[1;31mTypeError\u001b[0m                                 Traceback (most recent call last)",
      "Cell \u001b[1;32mIn[15], line 1\u001b[0m\n\u001b[1;32m----> 1\u001b[0m \u001b[43ma\u001b[49m\u001b[43m \u001b[49m\u001b[38;5;241;43m*\u001b[39;49m\u001b[43m \u001b[49m\u001b[38;5;241;43m0.8\u001b[39;49m\n",
      "\u001b[1;31mTypeError\u001b[0m: can't multiply sequence by non-int of type 'float'"
     ]
    }
   ],
   "source": [
    "a * 0.8"
   ]
  },
  {
   "cell_type": "code",
   "execution_count": 16,
   "id": "e149244d",
   "metadata": {},
   "outputs": [
    {
     "data": {
      "text/plain": [
       "345"
      ]
     },
     "execution_count": 16,
     "metadata": {},
     "output_type": "execute_result"
    }
   ],
   "source": [
    "int(a)"
   ]
  },
  {
   "cell_type": "code",
   "execution_count": 17,
   "id": "effe6652",
   "metadata": {},
   "outputs": [
    {
     "data": {
      "text/plain": [
       "276.0"
      ]
     },
     "execution_count": 17,
     "metadata": {},
     "output_type": "execute_result"
    }
   ],
   "source": [
    "int(a) * 0.8"
   ]
  },
  {
   "cell_type": "code",
   "execution_count": 35,
   "id": "7609565a",
   "metadata": {},
   "outputs": [
    {
     "name": "stdout",
     "output_type": "stream",
     "text": [
      "400\n",
      "<class 'str'>\n",
      "<class 'int'>\n"
     ]
    }
   ],
   "source": [
    "total_amount_str = input(\"Enter total amount\") # The output of input function is in string format\n",
    "print(total_amount_str)\n",
    "print(type(total_amount_str))\n",
    "total_amount = int(total_amount_str)\n",
    "print(type(total_amount))"
   ]
  },
  {
   "cell_type": "code",
   "execution_count": 26,
   "id": "4c5d8e91",
   "metadata": {},
   "outputs": [
    {
     "name": "stdout",
     "output_type": "stream",
     "text": [
      "total_amount:  11000\n",
      "This is from if-block\n",
      "Total amount payable is: 8800.0\n"
     ]
    }
   ],
   "source": [
    "print('total_amount: ', total_amount)\n",
    "if total_amount>10000: # Will be executed when if condition is True\n",
    "    # Discount is 20 % \n",
    "    # amount to be paid is 80%\n",
    "    total_payable = total_amount * 0.8\n",
    "    print(\"This is from if-block\")\n",
    "else:  # Will be executed when if condition is not True\n",
    "    # Discount is 5 % \n",
    "    # amount to be paid is 95%\n",
    "    total_payable = total_amount * 0.95\n",
    "    print(\"This is from else-block\")\n",
    "\n",
    "print(\"Total amount payable is:\",total_payable)"
   ]
  },
  {
   "cell_type": "code",
   "execution_count": 29,
   "id": "58829640",
   "metadata": {},
   "outputs": [
    {
     "name": "stdout",
     "output_type": "stream",
     "text": [
      "\u001b[1;31mSignature:\u001b[0m \u001b[0mprint\u001b[0m\u001b[1;33m(\u001b[0m\u001b[1;33m*\u001b[0m\u001b[0margs\u001b[0m\u001b[1;33m,\u001b[0m \u001b[0msep\u001b[0m\u001b[1;33m=\u001b[0m\u001b[1;34m' '\u001b[0m\u001b[1;33m,\u001b[0m \u001b[0mend\u001b[0m\u001b[1;33m=\u001b[0m\u001b[1;34m'\\n'\u001b[0m\u001b[1;33m,\u001b[0m \u001b[0mfile\u001b[0m\u001b[1;33m=\u001b[0m\u001b[1;32mNone\u001b[0m\u001b[1;33m,\u001b[0m \u001b[0mflush\u001b[0m\u001b[1;33m=\u001b[0m\u001b[1;32mFalse\u001b[0m\u001b[1;33m)\u001b[0m\u001b[1;33m\u001b[0m\u001b[1;33m\u001b[0m\u001b[0m\n",
      "\u001b[1;31mDocstring:\u001b[0m\n",
      "Prints the values to a stream, or to sys.stdout by default.\n",
      "\n",
      "sep\n",
      "  string inserted between values, default a space.\n",
      "end\n",
      "  string appended after the last value, default a newline.\n",
      "file\n",
      "  a file-like object (stream); defaults to the current sys.stdout.\n",
      "flush\n",
      "  whether to forcibly flush the stream.\n",
      "\u001b[1;31mType:\u001b[0m      builtin_function_or_method"
     ]
    }
   ],
   "source": [
    "print?"
   ]
  },
  {
   "cell_type": "code",
   "execution_count": 28,
   "id": "5f56b939",
   "metadata": {},
   "outputs": [
    {
     "name": "stdout",
     "output_type": "stream",
     "text": [
      "Total amount payable is:|8800.0\n"
     ]
    }
   ],
   "source": [
    "print(\"Total amount payable is:\",total_payable,sep='|')"
   ]
  },
  {
   "cell_type": "code",
   "execution_count": 39,
   "id": "ad60ed8d",
   "metadata": {},
   "outputs": [
    {
     "name": "stdout",
     "output_type": "stream",
     "text": [
      "500 <class 'str'>\n",
      "<class 'int'>\n",
      "This is from else-block\n",
      "Total amount payable is: 475.0\n"
     ]
    }
   ],
   "source": [
    "total_amount = input(\"Enter total amount\") # The output of input function is in string format\n",
    "print(total_amount, type(total_amount))\n",
    "total_amount = int(total_amount)\n",
    "print(type(total_amount))\n",
    "\n",
    "# print('total_amount: ', total_amount)\n",
    "if total_amount>10000: # Will be executed when if condition is True\n",
    "    # Discount is 20 % \n",
    "    # amount to be paid is 80%\n",
    "    total_payable = total_amount * 0.8\n",
    "    print(\"This is from if-block\")\n",
    "else:  # Will be executed when if condition is not True\n",
    "    # Discount is 5 % \n",
    "    # amount to be paid is 95%\n",
    "    total_payable = total_amount * 0.95\n",
    "    print(\"This is from else-block\")\n",
    "## End of if-else\n",
    "print(\"Total amount payable is:\",total_payable)"
   ]
  },
  {
   "cell_type": "code",
   "execution_count": 47,
   "id": "a83e4313",
   "metadata": {},
   "outputs": [
    {
     "name": "stdout",
     "output_type": "stream",
     "text": [
      "5000 <class 'str'>\n",
      "<class 'int'>\n",
      "This is from else block --> if\n",
      "Total amount payable is: 4500.0\n"
     ]
    }
   ],
   "source": [
    "total_amount = input(\"Enter total amount\") # The output of input function is in string format\n",
    "print(total_amount, type(total_amount))\n",
    "total_amount = int(total_amount)\n",
    "print(type(total_amount))\n",
    "\n",
    "# print('total_amount: ', total_amount)\n",
    "if total_amount>10000: # Will be executed when if condition is True\n",
    "    # Discount is 20 % , amount to be paid is 80%\n",
    "    total_payable = total_amount * 0.8\n",
    "    print(\"This is from if-block\")\n",
    "else:  # Will be executed when if condition is not True\n",
    "    if total_amount >= 5000:\n",
    "        # Discount is 10% and amount to be paid is 90%\n",
    "        total_payable = total_amount * 0.9\n",
    "        print(\"This is from else block --> if\")\n",
    "    else:\n",
    "        # Discount is 5% and amount to be paid is 95%\n",
    "        total_payable = total_amount * 0.95\n",
    "        print(\"This is from else block --> else\")\n",
    "    # End of internal if-else\n",
    "# End of outer if-else\n",
    "print(\"Total amount payable is:\",total_payable)"
   ]
  },
  {
   "cell_type": "code",
   "execution_count": 46,
   "id": "f0c010a0",
   "metadata": {},
   "outputs": [
    {
     "data": {
      "text/plain": [
       "True"
      ]
     },
     "execution_count": 46,
     "metadata": {},
     "output_type": "execute_result"
    }
   ],
   "source": [
    "5000 >= 5000"
   ]
  },
  {
   "cell_type": "code",
   "execution_count": 52,
   "id": "1f817160",
   "metadata": {},
   "outputs": [
    {
     "name": "stdout",
     "output_type": "stream",
     "text": [
      "1200 <class 'str'>\n",
      "<class 'int'>\n",
      "No discount is applied\n",
      "Total amount payable is: 1200\n"
     ]
    }
   ],
   "source": [
    "total_amount = input(\"Enter total amount\") # The output of input function is in string format\n",
    "print(total_amount, type(total_amount))\n",
    "total_amount = int(total_amount)\n",
    "print(type(total_amount))\n",
    "\n",
    "if total_amount>10000: # Will be executed when if condition is True\n",
    "    # Discount is 20 % , amount to be paid is 80%\n",
    "    total_payable = total_amount * 0.8\n",
    "    print(\"Applying 20% discount\") \n",
    "elif total_amount >= 5000: # Will be executed when this elif condition is True\n",
    "    # Discount is 10% and amount to be paid is 90%\n",
    "    total_payable = total_amount * 0.9\n",
    "    print(\"Applying 10% discount\") \n",
    "elif total_amount >= 2000:\n",
    "    # Discount is 7% and amount to be paid is 93%\n",
    "    total_payable = total_amount * 0.93\n",
    "    print(\"Applying 7% discount\") \n",
    "else:\n",
    "    total_payable = total_amount\n",
    "    print(\"No discount is applied\") \n",
    "##\n",
    "print(\"Total amount payable is:\",total_payable)"
   ]
  },
  {
   "cell_type": "code",
   "execution_count": 53,
   "id": "b836daaf",
   "metadata": {},
   "outputs": [
    {
     "data": {
      "text/plain": [
       "False"
      ]
     },
     "execution_count": 53,
     "metadata": {},
     "output_type": "execute_result"
    }
   ],
   "source": [
    "total_amount >= 2000"
   ]
  },
  {
   "cell_type": "code",
   "execution_count": 54,
   "id": "3374146b",
   "metadata": {},
   "outputs": [],
   "source": [
    "a = 'Red'"
   ]
  },
  {
   "cell_type": "code",
   "execution_count": 55,
   "id": "835b6be5",
   "metadata": {},
   "outputs": [
    {
     "data": {
      "text/plain": [
       "True"
      ]
     },
     "execution_count": 55,
     "metadata": {},
     "output_type": "execute_result"
    }
   ],
   "source": [
    "'Red' == 'Red'"
   ]
  },
  {
   "cell_type": "code",
   "execution_count": 56,
   "id": "c5dff26d",
   "metadata": {},
   "outputs": [
    {
     "data": {
      "text/plain": [
       "False"
      ]
     },
     "execution_count": 56,
     "metadata": {},
     "output_type": "execute_result"
    }
   ],
   "source": [
    "'Red' == 'red'"
   ]
  },
  {
   "cell_type": "code",
   "execution_count": 57,
   "id": "78c74a11",
   "metadata": {},
   "outputs": [
    {
     "data": {
      "text/plain": [
       "False"
      ]
     },
     "execution_count": 57,
     "metadata": {},
     "output_type": "execute_result"
    }
   ],
   "source": [
    "'Red' == 'RED'  # CASE SENSITIVE"
   ]
  },
  {
   "cell_type": "code",
   "execution_count": 59,
   "id": "2a911699",
   "metadata": {},
   "outputs": [
    {
     "data": {
      "text/plain": [
       "'red'"
      ]
     },
     "execution_count": 59,
     "metadata": {},
     "output_type": "execute_result"
    }
   ],
   "source": [
    "'Red'.lower()"
   ]
  },
  {
   "cell_type": "code",
   "execution_count": 60,
   "id": "6e488910",
   "metadata": {},
   "outputs": [
    {
     "data": {
      "text/plain": [
       "'red'"
      ]
     },
     "execution_count": 60,
     "metadata": {},
     "output_type": "execute_result"
    }
   ],
   "source": [
    "'RED'.lower()"
   ]
  },
  {
   "cell_type": "code",
   "execution_count": 61,
   "id": "3026d800",
   "metadata": {},
   "outputs": [
    {
     "data": {
      "text/plain": [
       "True"
      ]
     },
     "execution_count": 61,
     "metadata": {},
     "output_type": "execute_result"
    }
   ],
   "source": [
    "'Red'.lower() == 'RED'.lower()"
   ]
  },
  {
   "cell_type": "code",
   "execution_count": 62,
   "id": "d6b86fc8",
   "metadata": {},
   "outputs": [
    {
     "data": {
      "text/plain": [
       "True"
      ]
     },
     "execution_count": 62,
     "metadata": {},
     "output_type": "execute_result"
    }
   ],
   "source": [
    "'rED'.lower() == 'RED'.lower()"
   ]
  },
  {
   "cell_type": "code",
   "execution_count": 64,
   "id": "cd6f0783",
   "metadata": {},
   "outputs": [
    {
     "data": {
      "text/plain": [
       "'RED'"
      ]
     },
     "execution_count": 64,
     "metadata": {},
     "output_type": "execute_result"
    }
   ],
   "source": [
    "'red'.upper()"
   ]
  },
  {
   "cell_type": "code",
   "execution_count": 65,
   "id": "7bedd63e",
   "metadata": {},
   "outputs": [
    {
     "data": {
      "text/plain": [
       "'RED'"
      ]
     },
     "execution_count": 65,
     "metadata": {},
     "output_type": "execute_result"
    }
   ],
   "source": [
    "'RED'.upper()"
   ]
  },
  {
   "cell_type": "code",
   "execution_count": 66,
   "id": "9165929b",
   "metadata": {},
   "outputs": [
    {
     "data": {
      "text/plain": [
       "True"
      ]
     },
     "execution_count": 66,
     "metadata": {},
     "output_type": "execute_result"
    }
   ],
   "source": [
    "'rED'.upper() == 'RED'.upper()"
   ]
  },
  {
   "cell_type": "code",
   "execution_count": 69,
   "id": "5c66fc36",
   "metadata": {},
   "outputs": [
    {
     "name": "stdout",
     "output_type": "stream",
     "text": [
      "traffic_light:  yello\n",
      "Invalid input.\n"
     ]
    }
   ],
   "source": [
    "# Red, Yellow, Green\n",
    "traffic_light = input(\"Enter input as RED, YELLOW, GREEN: \")\n",
    "print(\"traffic_light: \", traffic_light)\n",
    "\n",
    "if traffic_light.upper() == 'GREEN':\n",
    "    print(\"Go!\")\n",
    "elif traffic_light.upper() == 'YELLOW':\n",
    "    print(\"Slow down\")\n",
    "elif traffic_light.upper() == 'RED':\n",
    "    print(\"Stop\")\n",
    "else:\n",
    "    print(\"Invalid input.\")"
   ]
  },
  {
   "cell_type": "markdown",
   "id": "6bb3f853",
   "metadata": {},
   "source": [
    "# List example"
   ]
  },
  {
   "cell_type": "code",
   "execution_count": 70,
   "id": "e7591d34",
   "metadata": {},
   "outputs": [],
   "source": [
    "list1 = [1,2,3,4,5]"
   ]
  },
  {
   "cell_type": "code",
   "execution_count": 71,
   "id": "72561f49",
   "metadata": {},
   "outputs": [
    {
     "name": "stdout",
     "output_type": "stream",
     "text": [
      "[1, 2, 3, 4, 5]\n"
     ]
    }
   ],
   "source": [
    "print(list1)"
   ]
  },
  {
   "cell_type": "code",
   "execution_count": 77,
   "id": "d9e88635",
   "metadata": {},
   "outputs": [
    {
     "name": "stdout",
     "output_type": "stream",
     "text": [
      "Started iteration\n",
      "1\n",
      "Completed iteration\n",
      "---------\n",
      "Started iteration\n",
      "2\n",
      "Completed iteration\n",
      "---------\n",
      "Started iteration\n",
      "3\n",
      "Completed iteration\n",
      "---------\n",
      "End of for loop\n"
     ]
    }
   ],
   "source": [
    "for i in [1,2,3]:\n",
    "    print(\"Started iteration\")\n",
    "    print(i)\n",
    "    print(\"Completed iteration\")\n",
    "    print(\"---------\")\n",
    "#\n",
    "print(\"End of for loop\")"
   ]
  },
  {
   "cell_type": "code",
   "execution_count": 78,
   "id": "96917caf",
   "metadata": {},
   "outputs": [
    {
     "name": "stdout",
     "output_type": "stream",
     "text": [
      "[1, 2, 3, 4, 5]\n",
      "Started iteration\n",
      "1\n",
      "Completed iteration\n",
      "---------\n",
      "Started iteration\n",
      "2\n",
      "Completed iteration\n",
      "---------\n",
      "Started iteration\n",
      "3\n",
      "Completed iteration\n",
      "---------\n",
      "Started iteration\n",
      "4\n",
      "Completed iteration\n",
      "---------\n",
      "Started iteration\n",
      "5\n",
      "Completed iteration\n",
      "---------\n",
      "End of for loop\n"
     ]
    }
   ],
   "source": [
    "print(list1)\n",
    "for i in list1:\n",
    "    print(\"Started iteration\")\n",
    "    print(i)\n",
    "    print(\"Completed iteration\")\n",
    "    print(\"---------\")\n",
    "#\n",
    "print(\"End of for loop\")"
   ]
  },
  {
   "cell_type": "code",
   "execution_count": 81,
   "id": "acd77444",
   "metadata": {},
   "outputs": [
    {
     "data": {
      "text/plain": [
       "False"
      ]
     },
     "execution_count": 81,
     "metadata": {},
     "output_type": "execute_result"
    }
   ],
   "source": [
    "10 < 5"
   ]
  },
  {
   "cell_type": "code",
   "execution_count": 83,
   "id": "d9441f7b",
   "metadata": {},
   "outputs": [
    {
     "name": "stdout",
     "output_type": "stream",
     "text": [
      "1\n"
     ]
    }
   ],
   "source": [
    "a = 1\n",
    "if a < 5:\n",
    "    print(a)"
   ]
  },
  {
   "cell_type": "code",
   "execution_count": 86,
   "id": "eb28d8a1",
   "metadata": {},
   "outputs": [
    {
     "name": "stdout",
     "output_type": "stream",
     "text": [
      "1\n",
      "2\n",
      "3\n",
      "4\n"
     ]
    }
   ],
   "source": [
    "a = 1\n",
    "while a < 5:\n",
    "    print(a)\n",
    "    a = a + 1"
   ]
  },
  {
   "cell_type": "code",
   "execution_count": 7,
   "id": "13aa2289",
   "metadata": {},
   "outputs": [
    {
     "name": "stdout",
     "output_type": "stream",
     "text": [
      "1\n",
      "2\n",
      "3\n",
      "4\n"
     ]
    }
   ],
   "source": [
    "a = 1\n",
    "while a < 5:\n",
    "    print(a)\n",
    "    a = a + 1 #  Infinite loop, without this line"
   ]
  },
  {
   "cell_type": "code",
   "execution_count": null,
   "id": "09d13551-c47a-4815-b7a5-e4fe035398b1",
   "metadata": {},
   "outputs": [],
   "source": []
  }
 ],
 "metadata": {
  "kernelspec": {
   "display_name": "Python 3 (ipykernel)",
   "language": "python",
   "name": "python3"
  },
  "language_info": {
   "codemirror_mode": {
    "name": "ipython",
    "version": 3
   },
   "file_extension": ".py",
   "mimetype": "text/x-python",
   "name": "python",
   "nbconvert_exporter": "python",
   "pygments_lexer": "ipython3",
   "version": "3.12.4"
  }
 },
 "nbformat": 4,
 "nbformat_minor": 5
}
