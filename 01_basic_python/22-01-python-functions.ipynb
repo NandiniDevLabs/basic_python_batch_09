{
 "cells": [
  {
   "cell_type": "code",
   "execution_count": 2,
   "id": "05a6f372-e722-47a0-a447-5a2cd0ea0771",
   "metadata": {},
   "outputs": [],
   "source": [
    "# Functions - "
   ]
  },
  {
   "cell_type": "code",
   "execution_count": 8,
   "id": "70471d9b-1e9f-4552-bcb4-ffe7754e362d",
   "metadata": {},
   "outputs": [],
   "source": [
    "a = -12\n",
    "b = 20"
   ]
  },
  {
   "cell_type": "code",
   "execution_count": 10,
   "id": "4c3f7e7a-287e-4e04-be94-7960b130f12d",
   "metadata": {},
   "outputs": [
    {
     "name": "stdout",
     "output_type": "stream",
     "text": [
      "A is less than b\n"
     ]
    }
   ],
   "source": [
    "if a > b:\n",
    "    print('A is greater than b')\n",
    "elif a < b:\n",
    "    print('A is less than b')\n",
    "else:\n",
    "    print('A is equal to b')"
   ]
  },
  {
   "cell_type": "code",
   "execution_count": 16,
   "id": "051017a6-809e-49da-8281-92a0dd87f0ee",
   "metadata": {},
   "outputs": [],
   "source": [
    "def my_first_func(a, b):\n",
    "    print(f\"a:{a} b:{b}\")\n",
    "    if a > b:\n",
    "        print('A is greater than b')\n",
    "    elif a < b:\n",
    "        print('A is less than b')\n",
    "    else:\n",
    "        print('A is equal to b')\n",
    "    # return 'Success'"
   ]
  },
  {
   "cell_type": "code",
   "execution_count": 18,
   "id": "4833e08d-6aff-486e-be76-491fdca7eefa",
   "metadata": {},
   "outputs": [
    {
     "name": "stdout",
     "output_type": "stream",
     "text": [
      "a:10 b:30\n",
      "A is less than b\n"
     ]
    }
   ],
   "source": [
    "my_first_func(10,30)  # Function calling"
   ]
  },
  {
   "cell_type": "code",
   "execution_count": 20,
   "id": "b09f9e48-4787-4985-ab13-729ae9555476",
   "metadata": {},
   "outputs": [
    {
     "name": "stdout",
     "output_type": "stream",
     "text": [
      "a:100 b:5\n",
      "A is greater than b\n"
     ]
    }
   ],
   "source": [
    "my_first_func(100,5)"
   ]
  },
  {
   "cell_type": "code",
   "execution_count": 22,
   "id": "163d2d8c-01c6-44bf-adb0-6db05c6c9810",
   "metadata": {},
   "outputs": [],
   "source": [
    "def add(a,b):\n",
    "    c = a + b\n",
    "    return c"
   ]
  },
  {
   "cell_type": "code",
   "execution_count": 24,
   "id": "4fa57f0f-8c7f-46b4-b832-0fdab2b93dec",
   "metadata": {},
   "outputs": [
    {
     "data": {
      "text/plain": [
       "3"
      ]
     },
     "execution_count": 24,
     "metadata": {},
     "output_type": "execute_result"
    }
   ],
   "source": [
    "add(1,2)"
   ]
  },
  {
   "cell_type": "code",
   "execution_count": 26,
   "id": "1d8d04f9-6864-41e1-91af-170d024c78dd",
   "metadata": {},
   "outputs": [
    {
     "name": "stdout",
     "output_type": "stream",
     "text": [
      "3\n"
     ]
    }
   ],
   "source": [
    "add_output = add(1,2)\n",
    "print(add_output)"
   ]
  },
  {
   "cell_type": "code",
   "execution_count": 34,
   "id": "76dbd49b-54b2-49d0-a09f-7d0c56f76fcf",
   "metadata": {},
   "outputs": [
    {
     "name": "stdout",
     "output_type": "stream",
     "text": [
      "a:100 b:20\n",
      "A is greater than b\n",
      "None\n"
     ]
    }
   ],
   "source": [
    "test_output = my_first_func(100,20)\n",
    "print(test_output)"
   ]
  },
  {
   "cell_type": "code",
   "execution_count": 36,
   "id": "047f99a1-9a4f-46d1-85cc-d2b073abc6fd",
   "metadata": {},
   "outputs": [
    {
     "name": "stdout",
     "output_type": "stream",
     "text": [
      "None\n"
     ]
    }
   ],
   "source": [
    "print(test_output)"
   ]
  },
  {
   "cell_type": "code",
   "execution_count": null,
   "id": "7dde17db-c9b1-444e-b8ea-c6cdd7bff6b8",
   "metadata": {},
   "outputs": [],
   "source": []
  }
 ],
 "metadata": {
  "kernelspec": {
   "display_name": "Python 3 (ipykernel)",
   "language": "python",
   "name": "python3"
  },
  "language_info": {
   "codemirror_mode": {
    "name": "ipython",
    "version": 3
   },
   "file_extension": ".py",
   "mimetype": "text/x-python",
   "name": "python",
   "nbconvert_exporter": "python",
   "pygments_lexer": "ipython3",
   "version": "3.12.4"
  }
 },
 "nbformat": 4,
 "nbformat_minor": 5
}
