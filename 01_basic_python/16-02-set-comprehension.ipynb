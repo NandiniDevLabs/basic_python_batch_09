{
 "cells": [
  {
   "cell_type": "markdown",
   "id": "8c3bec70",
   "metadata": {},
   "source": [
    "# Set Comprehensions\n",
    "- Set Comprehensions are similar to List Comprehension.\n",
    "- If you find yourself using a for loop along with .add() to create a set, Set Comprehensions are a good alternative!\n"
   ]
  },
  {
   "cell_type": "code",
   "execution_count": 7,
   "id": "6e1f81af-fa0a-4c3c-8df2-58d4fd88a20d",
   "metadata": {},
   "outputs": [],
   "source": [
    "input_set = {1,2,3,4,5,6,7,6,5,4,3,2,1}"
   ]
  },
  {
   "cell_type": "code",
   "execution_count": 9,
   "id": "303bfc7d-a682-4f3f-92b9-8b3a4f7050c6",
   "metadata": {},
   "outputs": [
    {
     "data": {
      "text/plain": [
       "{1, 2, 3, 4, 5, 6, 7}"
      ]
     },
     "execution_count": 9,
     "metadata": {},
     "output_type": "execute_result"
    }
   ],
   "source": [
    "input_set"
   ]
  },
  {
   "cell_type": "code",
   "execution_count": 99,
   "id": "fc873d73-e1a0-4de0-bc7e-ac8b302ecf01",
   "metadata": {},
   "outputs": [],
   "source": [
    "# Multiply each item with 5 and generate output set\n",
    "output_set = set()"
   ]
  },
  {
   "cell_type": "code",
   "execution_count": 17,
   "id": "9e2804a9-4b48-4584-bda0-10274830f009",
   "metadata": {},
   "outputs": [
    {
     "data": {
      "text/plain": [
       "set"
      ]
     },
     "execution_count": 17,
     "metadata": {},
     "output_type": "execute_result"
    }
   ],
   "source": [
    "type(output_set)"
   ]
  },
  {
   "cell_type": "code",
   "execution_count": 31,
   "id": "b3e86b23-8c85-478a-9cbc-8232c17a7816",
   "metadata": {},
   "outputs": [
    {
     "name": "stdout",
     "output_type": "stream",
     "text": [
      "1\n",
      "{1}\n",
      "2\n",
      "{1, 2}\n",
      "3\n",
      "{1, 2, 3}\n",
      "4\n",
      "{1, 2, 3, 4}\n",
      "5\n",
      "{1, 2, 3, 4, 5}\n",
      "6\n",
      "{1, 2, 3, 4, 5, 6}\n",
      "7\n",
      "{1, 2, 3, 4, 5, 6, 7}\n"
     ]
    }
   ],
   "source": [
    "output_set = set()\n",
    "for i in input_set:\n",
    "    print(i)\n",
    "    output_set.add(i)\n",
    "    print(output_set)\n",
    "#\n"
   ]
  },
  {
   "cell_type": "code",
   "execution_count": 29,
   "id": "c94b6b1f-d066-4f8d-998a-5d36c2d09d5e",
   "metadata": {},
   "outputs": [],
   "source": [
    "# output_set.*?"
   ]
  },
  {
   "cell_type": "code",
   "execution_count": 19,
   "id": "1cb89ee0-563b-47e3-a99e-0943f88a0a8b",
   "metadata": {},
   "outputs": [],
   "source": [
    "# {} --> Empty Dictionary\n",
    "# set() --> Empty Set"
   ]
  },
  {
   "cell_type": "code",
   "execution_count": 37,
   "id": "4f1923d8-3ff1-416a-883d-c397019d33d0",
   "metadata": {},
   "outputs": [
    {
     "name": "stdout",
     "output_type": "stream",
     "text": [
      "input_list1: [0, 1, 2, 3, 4, 5, 6, 7, 8, 9]\n",
      "input_list2: [0, 2, 4, 6, 8, 10, 12, 14, 16, 18]\n"
     ]
    }
   ],
   "source": [
    "input_list1 = list(range(0,10))\n",
    "input_list2 = list(range(0,20,2))\n",
    "print(f'input_list1: {input_list1}')\n",
    "print(f'input_list2: {input_list2}')"
   ]
  },
  {
   "cell_type": "code",
   "execution_count": 41,
   "id": "7603981e-193a-4f87-837b-f400be11351d",
   "metadata": {},
   "outputs": [
    {
     "name": "stdout",
     "output_type": "stream",
     "text": [
      "input_list: [0, 1, 2, 3, 4, 5, 6, 7, 8, 9, 0, 2, 4, 6, 8, 10, 12, 14, 16, 18]\n"
     ]
    }
   ],
   "source": [
    "input_list = input_list1 + input_list2\n",
    "print(f'input_list: {input_list}')"
   ]
  },
  {
   "cell_type": "code",
   "execution_count": 47,
   "id": "5a99573a-b4ec-473d-bbf9-0b1a5aeb4ee0",
   "metadata": {},
   "outputs": [
    {
     "data": {
      "text/plain": [
       "'ab'"
      ]
     },
     "execution_count": 47,
     "metadata": {},
     "output_type": "execute_result"
    }
   ],
   "source": [
    "'a' + 'b'"
   ]
  },
  {
   "cell_type": "code",
   "execution_count": 49,
   "id": "266112a1-b6e2-4bef-8916-9f997e805f30",
   "metadata": {},
   "outputs": [
    {
     "data": {
      "text/plain": [
       "[0, 1, 2, 3, 4, 5, 6, 7, 8, 9, 0, 2, 4, 6, 8, 10, 12, 14, 16, 18]"
      ]
     },
     "execution_count": 49,
     "metadata": {},
     "output_type": "execute_result"
    }
   ],
   "source": [
    "input_list"
   ]
  },
  {
   "cell_type": "code",
   "execution_count": 67,
   "id": "df0e7c26-efd6-4182-ba9e-4046a509f934",
   "metadata": {},
   "outputs": [
    {
     "name": "stdout",
     "output_type": "stream",
     "text": [
      "0 {0}\n",
      "1 {0, 1}\n",
      "2 {0, 1, 2}\n",
      "3 {0, 1, 2, 3}\n",
      "4 {0, 1, 2, 3, 4}\n",
      "5 {0, 1, 2, 3, 4, 5}\n",
      "6 {0, 1, 2, 3, 4, 5, 6}\n",
      "7 {0, 1, 2, 3, 4, 5, 6, 7}\n",
      "8 {0, 1, 2, 3, 4, 5, 6, 7, 8}\n",
      "9 {0, 1, 2, 3, 4, 5, 6, 7, 8, 9}\n",
      "0 {0, 1, 2, 3, 4, 5, 6, 7, 8, 9}\n",
      "2 {0, 1, 2, 3, 4, 5, 6, 7, 8, 9}\n",
      "4 {0, 1, 2, 3, 4, 5, 6, 7, 8, 9}\n",
      "6 {0, 1, 2, 3, 4, 5, 6, 7, 8, 9}\n",
      "8 {0, 1, 2, 3, 4, 5, 6, 7, 8, 9}\n",
      "10 {0, 1, 2, 3, 4, 5, 6, 7, 8, 9, 10}\n",
      "12 {0, 1, 2, 3, 4, 5, 6, 7, 8, 9, 10, 12}\n",
      "14 {0, 1, 2, 3, 4, 5, 6, 7, 8, 9, 10, 12, 14}\n",
      "16 {0, 1, 2, 3, 4, 5, 6, 7, 8, 9, 10, 12, 14, 16}\n",
      "18 {0, 1, 2, 3, 4, 5, 6, 7, 8, 9, 10, 12, 14, 16, 18}\n"
     ]
    }
   ],
   "source": [
    "# Generate set using above input_list\n",
    "output_set = set()\n",
    "for i in input_list:\n",
    "    print(i, end=' ')\n",
    "    output_set.add(i)\n",
    "    print(output_set)\n",
    "#"
   ]
  },
  {
   "cell_type": "code",
   "execution_count": 53,
   "id": "ea3b6ac7-0ab5-464f-a5a6-403b0ee510bc",
   "metadata": {},
   "outputs": [
    {
     "data": {
      "text/plain": [
       "{0, 1, 2, 3, 4, 5, 6, 7, 8, 9, 10, 12, 14, 16, 18}"
      ]
     },
     "execution_count": 53,
     "metadata": {},
     "output_type": "execute_result"
    }
   ],
   "source": [
    "output_set"
   ]
  },
  {
   "cell_type": "code",
   "execution_count": 65,
   "id": "192e91e4-e7e2-48ce-90e7-a5d2c8ff7f46",
   "metadata": {},
   "outputs": [
    {
     "name": "stdout",
     "output_type": "stream",
     "text": [
      "a * b\n",
      "c\n"
     ]
    }
   ],
   "source": [
    "print('a', end=' * ')\n",
    "print('b')\n",
    "print('c')"
   ]
  },
  {
   "cell_type": "code",
   "execution_count": 69,
   "id": "c7ba24fb-daa5-4995-99c6-b49b2a20f956",
   "metadata": {},
   "outputs": [
    {
     "data": {
      "text/plain": [
       "[0, 1, 2, 3, 4, 5, 6, 7, 8, 9, 0, 2, 4, 6, 8, 10, 12, 14, 16, 18]"
      ]
     },
     "execution_count": 69,
     "metadata": {},
     "output_type": "execute_result"
    }
   ],
   "source": [
    "input_list"
   ]
  },
  {
   "cell_type": "code",
   "execution_count": 73,
   "id": "dcce7928-428f-4933-b0e8-7e600a8e13ba",
   "metadata": {},
   "outputs": [
    {
     "data": {
      "text/plain": [
       "False"
      ]
     },
     "execution_count": 73,
     "metadata": {},
     "output_type": "execute_result"
    }
   ],
   "source": [
    "9%5==0"
   ]
  },
  {
   "cell_type": "code",
   "execution_count": 75,
   "id": "43465088-0937-473b-b6e1-947ac1625437",
   "metadata": {},
   "outputs": [
    {
     "data": {
      "text/plain": [
       "[0, 1, 2, 3, 4, 5, 6, 7, 8, 9, 0, 2, 4, 6, 8, 10, 12, 14, 16, 18]"
      ]
     },
     "execution_count": 75,
     "metadata": {},
     "output_type": "execute_result"
    }
   ],
   "source": [
    "[i for i in input_list]   # i%5==0"
   ]
  },
  {
   "cell_type": "code",
   "execution_count": 77,
   "id": "bc1678f4-6b21-46fc-a5f7-832138128f47",
   "metadata": {},
   "outputs": [
    {
     "name": "stdout",
     "output_type": "stream",
     "text": [
      "{0, 1, 2, 3, 4, 5, 6, 7, 8, 9, 10, 12, 14, 16, 18}\n"
     ]
    }
   ],
   "source": [
    "# Generate set using above input_list\n",
    "output_set = set()\n",
    "for i in input_list:\n",
    "    # print(i, end=' ')\n",
    "    output_set.add(i)\n",
    "    # print(output_set)\n",
    "#\n",
    "print(output_set)"
   ]
  },
  {
   "cell_type": "code",
   "execution_count": 81,
   "id": "f854f34a-4d97-4ed2-b063-3e23ca3f4cae",
   "metadata": {},
   "outputs": [
    {
     "data": {
      "text/plain": [
       "{0, 1, 2, 3, 4, 5, 6, 7, 8, 9, 10, 12, 14, 16, 18}"
      ]
     },
     "execution_count": 81,
     "metadata": {},
     "output_type": "execute_result"
    }
   ],
   "source": [
    "{i for i in input_list}"
   ]
  },
  {
   "cell_type": "code",
   "execution_count": 85,
   "id": "6dc092b7-ad10-4162-ae63-7231f7b28c00",
   "metadata": {},
   "outputs": [
    {
     "data": {
      "text/plain": [
       "[0, 1, 2, 3, 4, 5, 6, 7, 8, 9, 0, 2, 4, 6, 8, 10, 12, 14, 16, 18]"
      ]
     },
     "execution_count": 85,
     "metadata": {},
     "output_type": "execute_result"
    }
   ],
   "source": [
    "input_list"
   ]
  },
  {
   "cell_type": "code",
   "execution_count": 90,
   "id": "2b6ae884-1678-4050-89c2-0f22446d5dad",
   "metadata": {},
   "outputs": [
    {
     "data": {
      "text/plain": [
       "{0, 5, 10, 15, 20, 25, 30, 35, 40, 45, 50, 60, 70, 80, 90}"
      ]
     },
     "execution_count": 90,
     "metadata": {},
     "output_type": "execute_result"
    }
   ],
   "source": [
    "# Generate output set with each item multiplied by 5 of input_list item\n",
    "{i*5 for i in input_list}"
   ]
  },
  {
   "cell_type": "code",
   "execution_count": 97,
   "id": "07e67025-4551-4838-b9b6-fd7870edfe49",
   "metadata": {},
   "outputs": [],
   "source": [
    "# Generate output set with each item multiplied by 5 of input_list item\n",
    "# Also, output set items should be even\n",
    "\n",
    "\n",
    "# [0,1,2,3,..]\n",
    "# {}\n",
    "\n",
    "# 0*5 --> 0 --> Even --> {0}\n",
    "# 1*5 --> 5 --> Odd --> X\n",
    "# 2*5 --> 10 --> Even --> {0, 10}\n",
    "# 3*5 --> 15 --> Odd --> X\n",
    "# 4*5 --> 20 --> Even --> {0, 10, 20}\n",
    "# ..."
   ]
  },
  {
   "cell_type": "code",
   "execution_count": 95,
   "id": "c30c2214-b930-4ce2-a54b-fa4aea541d6b",
   "metadata": {},
   "outputs": [
    {
     "data": {
      "text/plain": [
       "[0, 1, 2, 3, 4, 5, 6, 7, 8, 9, 0, 2, 4, 6, 8, 10, 12, 14, 16, 18]"
      ]
     },
     "execution_count": 95,
     "metadata": {},
     "output_type": "execute_result"
    }
   ],
   "source": [
    "input_list"
   ]
  },
  {
   "cell_type": "code",
   "execution_count": 105,
   "id": "ba629212-35cc-43e9-9af4-36cdbf0200df",
   "metadata": {},
   "outputs": [
    {
     "data": {
      "text/plain": [
       "{0, 5, 10, 15, 20, 25, 30, 35, 40, 45, 50, 60, 70, 80, 90}"
      ]
     },
     "execution_count": 105,
     "metadata": {},
     "output_type": "execute_result"
    }
   ],
   "source": [
    "{i*5 for i in input_list}"
   ]
  },
  {
   "cell_type": "code",
   "execution_count": 103,
   "id": "23bc38fa-71d0-4855-9492-efde434e311d",
   "metadata": {},
   "outputs": [
    {
     "data": {
      "text/plain": [
       "{0, 10, 20, 30, 40, 50, 60, 70, 80, 90}"
      ]
     },
     "execution_count": 103,
     "metadata": {},
     "output_type": "execute_result"
    }
   ],
   "source": [
    "{i*5 for i in input_list if (i*5)%2==0}"
   ]
  },
  {
   "cell_type": "code",
   "execution_count": null,
   "id": "047fca98-216c-41e9-989e-0b2f2cfe1311",
   "metadata": {},
   "outputs": [],
   "source": [
    "# Generate output set \n",
    "# multiply each item by 5\n",
    "# If result is even, add item multipled by 5\n",
    "# else add item multiplied by 10\n",
    "\n",
    "\n",
    "# input_list = [0,1,2,3,4,5,6..]\n",
    "# output_set = {x,y,...}\n",
    "\n",
    "\n",
    "# 0*5 = 0 --> Even --> 0*5  = 0 --> {0}\n",
    "# 1*5 = 5 --> Odd --> 1*10 = 10 --> {0, 10}\n",
    "# 2*5 = 10 --> Even --> 2*5 = 10 --> {0, 10, 10} --> {0, 10}\n",
    "# 3*5 = 15 --> Odd --> 15 * 10 = 150 --> {0, 10, 150}\n",
    "# 4*5 = 20 --> Even --> 4*5 = 20 --> {0,10,150,20} --> {0,10,20,150}\n",
    "# 5*5 = 25 --> Odd --> 25*10 = 250 --> {0,10,20,150,250}\n",
    "# ..."
   ]
  },
  {
   "cell_type": "code",
   "execution_count": 107,
   "id": "90ae8deb-da91-41ba-9308-fe5bc3a59280",
   "metadata": {},
   "outputs": [
    {
     "data": {
      "text/plain": [
       "[0, 1, 2, 3, 4, 5, 6, 7, 8, 9, 0, 2, 4, 6, 8, 10, 12, 14, 16, 18]"
      ]
     },
     "execution_count": 107,
     "metadata": {},
     "output_type": "execute_result"
    }
   ],
   "source": [
    "input_list"
   ]
  },
  {
   "cell_type": "code",
   "execution_count": 123,
   "id": "9a77e307-7036-4e0f-b6d8-22501415585c",
   "metadata": {},
   "outputs": [
    {
     "name": "stdout",
     "output_type": "stream",
     "text": [
      "{0, 70, 40, 10, 80, 50, 20, 90, 60, 30}\n"
     ]
    }
   ],
   "source": [
    "# Generate output set \n",
    "# multiply each item by 5\n",
    "# If result is even, add item multipled by 5\n",
    "# else add item multiplied by 10\n",
    "\n",
    "output_set = set()\n",
    "for i in input_list:\n",
    "    # print(f'i:{i}')\n",
    "    # print(f'i*5: {i*5}')\n",
    "    # print(f'Condition: {(i*5)%2==0}')\n",
    "    if (i*5)%2==0:\n",
    "        output_set.add(i*5)\n",
    "    else:\n",
    "        output_set.add(i*10)\n",
    "# End of for loop\n",
    "print(output_set)"
   ]
  },
  {
   "cell_type": "code",
   "execution_count": 111,
   "id": "69962b4e-1f19-4e4e-a574-496a507b8a35",
   "metadata": {},
   "outputs": [
    {
     "data": {
      "text/plain": [
       "[0, 1, 2, 3, 4, 5, 6, 7, 8, 9, 0, 2, 4, 6, 8, 10, 12, 14, 16, 18]"
      ]
     },
     "execution_count": 111,
     "metadata": {},
     "output_type": "execute_result"
    }
   ],
   "source": [
    "input_list"
   ]
  },
  {
   "cell_type": "code",
   "execution_count": 143,
   "id": "086e4437-7c1f-41e7-8586-42c8f398ed2e",
   "metadata": {},
   "outputs": [
    {
     "name": "stdout",
     "output_type": "stream",
     "text": [
      "i: 9\n",
      "i*5: 45\n",
      "False\n"
     ]
    },
    {
     "data": {
      "text/plain": [
       "90"
      ]
     },
     "execution_count": 143,
     "metadata": {},
     "output_type": "execute_result"
    }
   ],
   "source": [
    "# Generate output set \n",
    "# multiply each item by 5\n",
    "# If result is even, add item multipled by 5\n",
    "# else add item multiplied by 10\n",
    "\n",
    "i = 9\n",
    "# i = 10\n",
    "# i = 16\n",
    "# i = 5\n",
    "print(f'i: {i}')\n",
    "print(f'i*5: {i*5}')\n",
    "print((i*5)%2==0)\n",
    "\n",
    "i*5 if (i*5)%2==0 else i*10"
   ]
  },
  {
   "cell_type": "code",
   "execution_count": 145,
   "id": "74c9f11d-f924-40c2-bd70-587cd11c4bdb",
   "metadata": {},
   "outputs": [
    {
     "data": {
      "text/plain": [
       "[0, 1, 2, 3, 4, 5, 6, 7, 8, 9, 0, 2, 4, 6, 8, 10, 12, 14, 16, 18]"
      ]
     },
     "execution_count": 145,
     "metadata": {},
     "output_type": "execute_result"
    }
   ],
   "source": [
    "input_list"
   ]
  },
  {
   "cell_type": "code",
   "execution_count": 147,
   "id": "ccf26e07-7f9b-4207-a659-fb4bf8c0e9f9",
   "metadata": {},
   "outputs": [
    {
     "data": {
      "text/plain": [
       "{0, 10, 20, 30, 40, 50, 60, 70, 80, 90}"
      ]
     },
     "execution_count": 147,
     "metadata": {},
     "output_type": "execute_result"
    }
   ],
   "source": [
    "# Generate output set \n",
    "# multiply each item by 5\n",
    "# If result is even, add item multipled by 5\n",
    "# else add item multiplied by 10\n",
    "\n",
    "{i*5 if (i*5)%2==0 else i*10 for i in input_list}"
   ]
  },
  {
   "cell_type": "code",
   "execution_count": 149,
   "id": "300b9256-7d0a-42d9-b821-ef15b251bb93",
   "metadata": {},
   "outputs": [],
   "source": [
    "# Generate output set \n",
    "# divide each item by 2\n",
    "# If reminder is 0, add item multipled by 0.5\n",
    "# else (if reminder is 1) add item multiplied by 1.5"
   ]
  },
  {
   "cell_type": "code",
   "execution_count": 151,
   "id": "5bbface6-250f-457b-8f80-d493f77f85ef",
   "metadata": {},
   "outputs": [
    {
     "data": {
      "text/plain": [
       "[0, 1, 2, 3, 4, 5, 6, 7, 8, 9, 0, 2, 4, 6, 8, 10, 12, 14, 16, 18]"
      ]
     },
     "execution_count": 151,
     "metadata": {},
     "output_type": "execute_result"
    }
   ],
   "source": [
    "input_list"
   ]
  },
  {
   "cell_type": "code",
   "execution_count": 173,
   "id": "96c02a05-de70-462c-951d-147880cda326",
   "metadata": {},
   "outputs": [
    {
     "name": "stdout",
     "output_type": "stream",
     "text": [
      "i: 7\n",
      "False\n"
     ]
    },
    {
     "data": {
      "text/plain": [
       "10.5"
      ]
     },
     "execution_count": 173,
     "metadata": {},
     "output_type": "execute_result"
    }
   ],
   "source": [
    "i = 7\n",
    "# i = 12\n",
    "# i = 16\n",
    "print(f'i: {i}')\n",
    "print(i%2==0)\n",
    "i*0.5 if i%2==0 else i*1.5"
   ]
  },
  {
   "cell_type": "code",
   "execution_count": 175,
   "id": "2eb1e7b2-919b-415e-9a83-ca1875e865f4",
   "metadata": {},
   "outputs": [
    {
     "data": {
      "text/plain": [
       "10.5"
      ]
     },
     "execution_count": 175,
     "metadata": {},
     "output_type": "execute_result"
    }
   ],
   "source": [
    "7*1.5\n",
    "# 12*0.5\n",
    "# 16*0.5"
   ]
  },
  {
   "cell_type": "code",
   "execution_count": 185,
   "id": "9d155333-319d-4f16-92e9-f08ef917774d",
   "metadata": {},
   "outputs": [
    {
     "data": {
      "text/plain": [
       "{0.0, 1.0, 1.5, 2.0, 3.0, 4.0, 4.5, 5.0, 6.0, 7.0, 7.5, 8.0, 9.0, 10.5, 13.5}"
      ]
     },
     "execution_count": 185,
     "metadata": {},
     "output_type": "execute_result"
    }
   ],
   "source": [
    "{i*0.5 if i%2==0 else i*1.5 for i in input_list}"
   ]
  },
  {
   "cell_type": "code",
   "execution_count": 171,
   "id": "9417e0c5-b2fe-4e6b-baa5-f96f0f7a574d",
   "metadata": {},
   "outputs": [
    {
     "data": {
      "text/plain": [
       "[0, 1, 2, 3, 4, 5, 6, 7, 8, 9, 0, 2, 4, 6, 8, 10, 12, 14, 16, 18]"
      ]
     },
     "execution_count": 171,
     "metadata": {},
     "output_type": "execute_result"
    }
   ],
   "source": [
    "input_list"
   ]
  },
  {
   "cell_type": "code",
   "execution_count": 179,
   "id": "357d77fa-c385-4569-83cc-d10eb4965653",
   "metadata": {},
   "outputs": [
    {
     "data": {
      "text/plain": [
       "False"
      ]
     },
     "execution_count": 179,
     "metadata": {},
     "output_type": "execute_result"
    }
   ],
   "source": [
    "1%2==0"
   ]
  },
  {
   "cell_type": "code",
   "execution_count": 190,
   "id": "af56a1d5-c5b2-40fd-8955-d800812b7c0c",
   "metadata": {},
   "outputs": [],
   "source": [
    "# 0 --> True --> 0*0.5 = 0.0 --> {0.0}\n",
    "# 1 --> False --> 1*1.5 = 1.5 --> {0.0, 1.5}\n",
    "# 2 --> True --> 2*0.5 = 1.0 --> {0.0, 1.5, 1.0} --> {0.0, 1.0, 1.5}\n",
    "# ..."
   ]
  },
  {
   "cell_type": "code",
   "execution_count": null,
   "id": "4ce15577-d238-4c1d-8b11-585d3eecdc92",
   "metadata": {},
   "outputs": [],
   "source": []
  }
 ],
 "metadata": {
  "kernelspec": {
   "display_name": "Python 3 (ipykernel)",
   "language": "python",
   "name": "python3"
  },
  "language_info": {
   "codemirror_mode": {
    "name": "ipython",
    "version": 3
   },
   "file_extension": ".py",
   "mimetype": "text/x-python",
   "name": "python",
   "nbconvert_exporter": "python",
   "pygments_lexer": "ipython3",
   "version": "3.12.4"
  }
 },
 "nbformat": 4,
 "nbformat_minor": 5
}
