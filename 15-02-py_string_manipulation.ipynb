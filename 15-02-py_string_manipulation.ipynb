{
 "cells": [
  {
   "cell_type": "code",
   "execution_count": 5,
   "id": "bbb01c6e-dc1b-4c89-8f34-5f072925a687",
   "metadata": {},
   "outputs": [],
   "source": [
    "s1 = 'this is a string'"
   ]
  },
  {
   "cell_type": "code",
   "execution_count": 7,
   "id": "4e65394e-0f9a-4718-8308-0aca6568271d",
   "metadata": {},
   "outputs": [
    {
     "data": {
      "text/plain": [
       "'thand and a string'"
      ]
     },
     "execution_count": 7,
     "metadata": {},
     "output_type": "execute_result"
    }
   ],
   "source": [
    "s1.replace('is','and')"
   ]
  },
  {
   "cell_type": "code",
   "execution_count": 13,
   "id": "48542ca1-13a6-4759-b008-394795fa7305",
   "metadata": {},
   "outputs": [
    {
     "data": {
      "text/plain": [
       "'this and a string'"
      ]
     },
     "execution_count": 13,
     "metadata": {},
     "output_type": "execute_result"
    }
   ],
   "source": [
    "s1.replace(' is',' and')"
   ]
  },
  {
   "cell_type": "markdown",
   "id": "a45060b1-306e-4fc3-b895-1b7ecc653760",
   "metadata": {},
   "source": [
    "# String slicing Contd"
   ]
  },
  {
   "cell_type": "code",
   "execution_count": 15,
   "id": "2bfdc183-92c4-49d0-8c8c-795f0f15c736",
   "metadata": {},
   "outputs": [],
   "source": [
    "s1 = 'this is a string'"
   ]
  },
  {
   "cell_type": "code",
   "execution_count": 5,
   "id": "9777fa7f-d340-4b5c-927b-b94cd90c5b6d",
   "metadata": {},
   "outputs": [],
   "source": [
    "#s1[starting_index,ending_index,step]"
   ]
  },
  {
   "cell_type": "code",
   "execution_count": 17,
   "id": "7c1162d9-4a38-4124-8241-a584d77ccb12",
   "metadata": {},
   "outputs": [
    {
     "data": {
      "text/plain": [
       "'t'"
      ]
     },
     "execution_count": 17,
     "metadata": {},
     "output_type": "execute_result"
    }
   ],
   "source": [
    "s1[0]"
   ]
  },
  {
   "cell_type": "code",
   "execution_count": 19,
   "id": "ffbe87ba-d4c9-4f5f-899d-eeed378c63fb",
   "metadata": {},
   "outputs": [
    {
     "data": {
      "text/plain": [
       "'g'"
      ]
     },
     "execution_count": 19,
     "metadata": {},
     "output_type": "execute_result"
    }
   ],
   "source": [
    "s1[15]"
   ]
  },
  {
   "cell_type": "code",
   "execution_count": 21,
   "id": "590f0453-4f3f-4fff-959a-a42145082db0",
   "metadata": {},
   "outputs": [
    {
     "data": {
      "text/plain": [
       "16"
      ]
     },
     "execution_count": 21,
     "metadata": {},
     "output_type": "execute_result"
    }
   ],
   "source": [
    "len(s1)"
   ]
  },
  {
   "cell_type": "code",
   "execution_count": 23,
   "id": "d5bc9223-cf9b-432c-b8b0-58cfb702d0c4",
   "metadata": {},
   "outputs": [
    {
     "data": {
      "text/plain": [
       "'this is a string'"
      ]
     },
     "execution_count": 23,
     "metadata": {},
     "output_type": "execute_result"
    }
   ],
   "source": [
    "s1"
   ]
  },
  {
   "cell_type": "code",
   "execution_count": 29,
   "id": "51292848-81f2-4072-b9be-9395cb1db9ae",
   "metadata": {},
   "outputs": [
    {
     "data": {
      "text/plain": [
       "'this'"
      ]
     },
     "execution_count": 29,
     "metadata": {},
     "output_type": "execute_result"
    }
   ],
   "source": [
    "s1[0:4]  # --> s[0] to s[4-1]"
   ]
  },
  {
   "cell_type": "code",
   "execution_count": 27,
   "id": "92923f1d-a6ee-4e82-aece-847cf374b28f",
   "metadata": {},
   "outputs": [
    {
     "data": {
      "text/plain": [
       "'s is a '"
      ]
     },
     "execution_count": 27,
     "metadata": {},
     "output_type": "execute_result"
    }
   ],
   "source": [
    "s1[3:10]"
   ]
  },
  {
   "cell_type": "code",
   "execution_count": 31,
   "id": "3db5a2bf-eb8e-4c3a-b51d-47fa6db46143",
   "metadata": {},
   "outputs": [],
   "source": [
    "s2 = 'ABCDEFGHIJKL'"
   ]
  },
  {
   "cell_type": "code",
   "execution_count": 33,
   "id": "e511c3ee-27fb-4b87-81b1-1de8ff32faa8",
   "metadata": {},
   "outputs": [
    {
     "data": {
      "text/plain": [
       "'EFG'"
      ]
     },
     "execution_count": 33,
     "metadata": {},
     "output_type": "execute_result"
    }
   ],
   "source": [
    "s2[4:7]"
   ]
  },
  {
   "cell_type": "code",
   "execution_count": 35,
   "id": "081aa841-359d-4a35-ae3e-a149be4fcf47",
   "metadata": {},
   "outputs": [
    {
     "data": {
      "text/plain": [
       "'BCDEFGH'"
      ]
     },
     "execution_count": 35,
     "metadata": {},
     "output_type": "execute_result"
    }
   ],
   "source": [
    "s2[1:8]"
   ]
  },
  {
   "cell_type": "code",
   "execution_count": 37,
   "id": "6d7d6f2c-8f1c-4a42-a58d-1b0d887f8a94",
   "metadata": {},
   "outputs": [
    {
     "data": {
      "text/plain": [
       "'BDFH'"
      ]
     },
     "execution_count": 37,
     "metadata": {},
     "output_type": "execute_result"
    }
   ],
   "source": [
    "s2[1:8:2]"
   ]
  },
  {
   "cell_type": "code",
   "execution_count": 39,
   "id": "5d3e1e33-6291-4d01-b714-03a887ac166c",
   "metadata": {},
   "outputs": [
    {
     "data": {
      "text/plain": [
       "'BEH'"
      ]
     },
     "execution_count": 39,
     "metadata": {},
     "output_type": "execute_result"
    }
   ],
   "source": [
    "s2[1:8:3]"
   ]
  },
  {
   "cell_type": "code",
   "execution_count": 41,
   "id": "6946f0d3-e873-4f3f-88a5-ee8e2a0c560e",
   "metadata": {},
   "outputs": [
    {
     "name": "stdout",
     "output_type": "stream",
     "text": [
      "ABCDEFGHIJKL\n",
      "LKJIHGFEDCBA\n"
     ]
    }
   ],
   "source": [
    "print(s2)\n",
    "print(s2[::-1]) # string reverse"
   ]
  },
  {
   "cell_type": "code",
   "execution_count": 43,
   "id": "0660992a-b56d-43d6-bc89-2bf768a18210",
   "metadata": {},
   "outputs": [
    {
     "data": {
      "text/plain": [
       "'ABCDEFGHIJKL'"
      ]
     },
     "execution_count": 43,
     "metadata": {},
     "output_type": "execute_result"
    }
   ],
   "source": [
    "s2"
   ]
  },
  {
   "cell_type": "code",
   "execution_count": 47,
   "id": "32897a71-823f-4f97-86a0-39ce15edb3b3",
   "metadata": {},
   "outputs": [
    {
     "name": "stdout",
     "output_type": "stream",
     "text": [
      "A\n",
      "B\n",
      "C\n",
      "D\n",
      "E\n",
      "F\n",
      "G\n",
      "H\n",
      "I\n",
      "J\n",
      "K\n",
      "L\n"
     ]
    }
   ],
   "source": [
    "for string_char in s2:\n",
    "    print(string_char)"
   ]
  },
  {
   "cell_type": "code",
   "execution_count": 50,
   "id": "da344b43-c404-4a11-8333-d35bcce086bb",
   "metadata": {},
   "outputs": [
    {
     "data": {
      "text/plain": [
       "'ABCDEFGHIJKL'"
      ]
     },
     "execution_count": 50,
     "metadata": {},
     "output_type": "execute_result"
    }
   ],
   "source": [
    "s2"
   ]
  },
  {
   "cell_type": "code",
   "execution_count": 52,
   "id": "a756caf9-0a36-4805-94fe-b8e0ce25a1b6",
   "metadata": {},
   "outputs": [
    {
     "data": {
      "text/plain": [
       "'LKJIHGFEDCBA'"
      ]
     },
     "execution_count": 52,
     "metadata": {},
     "output_type": "execute_result"
    }
   ],
   "source": [
    "s2[::-1] # string reverse"
   ]
  },
  {
   "cell_type": "code",
   "execution_count": 58,
   "id": "8ff91141-6c89-47d5-b886-7ee741bb00c1",
   "metadata": {},
   "outputs": [
    {
     "data": {
      "text/plain": [
       "'ABCDEFGHIJKL'"
      ]
     },
     "execution_count": 58,
     "metadata": {},
     "output_type": "execute_result"
    }
   ],
   "source": [
    "s2"
   ]
  },
  {
   "cell_type": "code",
   "execution_count": 62,
   "id": "c69ac8cd-81fb-4445-809a-1cb5ba9ffbaa",
   "metadata": {},
   "outputs": [
    {
     "name": "stdout",
     "output_type": "stream",
     "text": [
      "l:  A\n",
      "output_str:  A\n",
      "l:  B\n",
      "output_str:  BA\n",
      "l:  C\n",
      "output_str:  CBA\n",
      "l:  D\n",
      "output_str:  DCBA\n",
      "l:  E\n",
      "output_str:  EDCBA\n",
      "l:  F\n",
      "output_str:  FEDCBA\n",
      "l:  G\n",
      "output_str:  GFEDCBA\n",
      "l:  H\n",
      "output_str:  HGFEDCBA\n",
      "l:  I\n",
      "output_str:  IHGFEDCBA\n",
      "l:  J\n",
      "output_str:  JIHGFEDCBA\n",
      "l:  K\n",
      "output_str:  KJIHGFEDCBA\n",
      "l:  L\n",
      "output_str:  LKJIHGFEDCBA\n"
     ]
    }
   ],
   "source": [
    "output_str = ''\n",
    "for l in s2:\n",
    "    print('l: ', l)\n",
    "    output_str = l + output_str\n",
    "    print('output_str: ',output_str)\n",
    "# end of for loop\n",
    "\n",
    "# s2 = 'ABCDEFGHIJKL'\n",
    "# Iteration1 - output_str = ''\n",
    "# l = 'A' \n",
    "# output_str = 'A' + '' --> 'A'\n",
    "\n",
    "# Iteration2 - output_str = 'A'\n",
    "# l = 'B'\n",
    "# output_str = 'B' + 'A' --> 'BA'\n",
    "\n",
    "# Iteration3 - output_str = 'BA'\n",
    "# l = 'C'\n",
    "# output_str = 'C' + 'BA' --> 'CBA'"
   ]
  },
  {
   "cell_type": "code",
   "execution_count": 56,
   "id": "95a35068-c396-4e17-9f6d-aced89390e80",
   "metadata": {},
   "outputs": [
    {
     "data": {
      "text/plain": [
       "'ABCDEFGHIJKL'"
      ]
     },
     "execution_count": 56,
     "metadata": {},
     "output_type": "execute_result"
    }
   ],
   "source": [
    "s2"
   ]
  },
  {
   "cell_type": "code",
   "execution_count": 65,
   "id": "63671046-3b7b-4342-aef7-ca2d99062d16",
   "metadata": {},
   "outputs": [
    {
     "data": {
      "text/plain": [
       "''"
      ]
     },
     "execution_count": 65,
     "metadata": {},
     "output_type": "execute_result"
    }
   ],
   "source": [
    "'' # empty string"
   ]
  },
  {
   "cell_type": "code",
   "execution_count": 67,
   "id": "b5e5ffa6-9d47-4c17-a403-44b90c2a4280",
   "metadata": {},
   "outputs": [
    {
     "data": {
      "text/plain": [
       "0"
      ]
     },
     "execution_count": 67,
     "metadata": {},
     "output_type": "execute_result"
    }
   ],
   "source": [
    "len('')"
   ]
  },
  {
   "cell_type": "code",
   "execution_count": 69,
   "id": "4f678982-3a1f-4c87-8e67-d223ae0e3f38",
   "metadata": {},
   "outputs": [
    {
     "data": {
      "text/plain": [
       "'A'"
      ]
     },
     "execution_count": 69,
     "metadata": {},
     "output_type": "execute_result"
    }
   ],
   "source": [
    "'A' + ''"
   ]
  },
  {
   "cell_type": "code",
   "execution_count": 71,
   "id": "3fa5b429-55bd-44a5-ae99-701353da01b5",
   "metadata": {},
   "outputs": [
    {
     "data": {
      "text/plain": [
       "'CBA'"
      ]
     },
     "execution_count": 71,
     "metadata": {},
     "output_type": "execute_result"
    }
   ],
   "source": [
    "'C' + 'BA'"
   ]
  },
  {
   "cell_type": "code",
   "execution_count": 73,
   "id": "b7787189-3ad1-40eb-9a85-38c7db7f1263",
   "metadata": {},
   "outputs": [
    {
     "name": "stdout",
     "output_type": "stream",
     "text": [
      "ABCDEFGHIJKL\n",
      "LKJIHGFEDCBA\n"
     ]
    }
   ],
   "source": [
    "# Reversing string by using for loop\n",
    "output_str = ''\n",
    "for l in s2:\n",
    "    output_str = l + output_str\n",
    "    # print(l)\n",
    "    # print('output_str: ',output_str)\n",
    "# End of for loop\n",
    "print(s2)\n",
    "print(output_str)"
   ]
  },
  {
   "cell_type": "markdown",
   "id": "e8a3c15f-83ec-4444-a27c-638c0147072a",
   "metadata": {},
   "source": [
    "# f-string : formatted string"
   ]
  },
  {
   "cell_type": "code",
   "execution_count": 75,
   "id": "6c2f3d48-1f24-4b4f-a635-1984195fb570",
   "metadata": {},
   "outputs": [],
   "source": [
    "a = 31\n",
    "b = 'December'"
   ]
  },
  {
   "cell_type": "code",
   "execution_count": 77,
   "id": "c8dcbc75-891f-43f2-b934-b7a935cfc686",
   "metadata": {},
   "outputs": [
    {
     "data": {
      "text/plain": [
       "int"
      ]
     },
     "execution_count": 77,
     "metadata": {},
     "output_type": "execute_result"
    }
   ],
   "source": [
    "type(a)"
   ]
  },
  {
   "cell_type": "code",
   "execution_count": 79,
   "id": "68a8355a-430f-4c6f-becb-6c0ebee1bdf5",
   "metadata": {},
   "outputs": [
    {
     "data": {
      "text/plain": [
       "str"
      ]
     },
     "execution_count": 79,
     "metadata": {},
     "output_type": "execute_result"
    }
   ],
   "source": [
    "type(b)"
   ]
  },
  {
   "cell_type": "code",
   "execution_count": 37,
   "id": "30f1e8a2-80eb-47ff-bc9d-cac62e1b9993",
   "metadata": {},
   "outputs": [],
   "source": [
    "# Expected output: 'December 31'"
   ]
  },
  {
   "cell_type": "code",
   "execution_count": 81,
   "id": "ac439a74-2e47-4263-8466-1b90b41c27ba",
   "metadata": {},
   "outputs": [
    {
     "data": {
      "text/plain": [
       "'December 31'"
      ]
     },
     "execution_count": 81,
     "metadata": {},
     "output_type": "execute_result"
    }
   ],
   "source": [
    "b + ' ' + str(a)"
   ]
  },
  {
   "cell_type": "code",
   "execution_count": 83,
   "id": "d5c99028-bfbc-43c5-b1bc-0d36d74abdde",
   "metadata": {},
   "outputs": [
    {
     "name": "stdout",
     "output_type": "stream",
     "text": [
      "December 31\n"
     ]
    }
   ],
   "source": [
    "print(b,a)"
   ]
  },
  {
   "cell_type": "code",
   "execution_count": 85,
   "id": "5bafe535-00ea-4748-971c-aabcc2bac102",
   "metadata": {},
   "outputs": [
    {
     "name": "stdout",
     "output_type": "stream",
     "text": [
      "December 31 2024\n"
     ]
    }
   ],
   "source": [
    "print(b,a,2024)"
   ]
  },
  {
   "cell_type": "code",
   "execution_count": 89,
   "id": "65931350-f582-4284-a333-c3014752a868",
   "metadata": {},
   "outputs": [
    {
     "name": "stdout",
     "output_type": "stream",
     "text": [
      "December 31 , 2024\n"
     ]
    }
   ],
   "source": [
    "print(b,a,',',2024)"
   ]
  },
  {
   "cell_type": "code",
   "execution_count": 42,
   "id": "868c5761-3680-454b-a99d-393d46577390",
   "metadata": {},
   "outputs": [],
   "source": [
    "# Expected output: December 31, 2024\n",
    "# want to save this to a variable: today_date"
   ]
  },
  {
   "cell_type": "code",
   "execution_count": 91,
   "id": "7d2981c1-608a-40ef-8435-552c1fb68e7f",
   "metadata": {},
   "outputs": [],
   "source": [
    "today_date = b + ' ' + str(a) + ', ' + str(2024)"
   ]
  },
  {
   "cell_type": "code",
   "execution_count": 93,
   "id": "2ec1fcd7-75c0-4a8f-b962-1ad392795ee5",
   "metadata": {},
   "outputs": [
    {
     "data": {
      "text/plain": [
       "'December 31, 2024'"
      ]
     },
     "execution_count": 93,
     "metadata": {},
     "output_type": "execute_result"
    }
   ],
   "source": [
    "today_date"
   ]
  },
  {
   "cell_type": "code",
   "execution_count": 95,
   "id": "34464a2e-332f-4f12-8515-4fc965ff5ec8",
   "metadata": {},
   "outputs": [
    {
     "data": {
      "text/plain": [
       "'b 31'"
      ]
     },
     "execution_count": 95,
     "metadata": {},
     "output_type": "execute_result"
    }
   ],
   "source": [
    "f'b {a}'"
   ]
  },
  {
   "cell_type": "code",
   "execution_count": 101,
   "id": "8cdae46a-6631-42fb-97c8-49e692bf34ea",
   "metadata": {},
   "outputs": [
    {
     "data": {
      "text/plain": [
       "'December 31'"
      ]
     },
     "execution_count": 101,
     "metadata": {},
     "output_type": "execute_result"
    }
   ],
   "source": [
    "f'{b} {a}'"
   ]
  },
  {
   "cell_type": "code",
   "execution_count": 103,
   "id": "0965ba91-61b8-4032-8ef4-f1f8bfd0f7f3",
   "metadata": {},
   "outputs": [
    {
     "data": {
      "text/plain": [
       "'December 31, 2024'"
      ]
     },
     "execution_count": 103,
     "metadata": {},
     "output_type": "execute_result"
    }
   ],
   "source": [
    "f'{b} {a}, 2024'"
   ]
  },
  {
   "cell_type": "code",
   "execution_count": 105,
   "id": "81977fa4-7e7e-4ae8-8780-aa1af717e7ec",
   "metadata": {},
   "outputs": [
    {
     "data": {
      "text/plain": [
       "'This is not today date: December 31, 2024'"
      ]
     },
     "execution_count": 105,
     "metadata": {},
     "output_type": "execute_result"
    }
   ],
   "source": [
    "f'This is not today date: {b} {a}, 2024'"
   ]
  },
  {
   "cell_type": "code",
   "execution_count": 107,
   "id": "184626ff-461a-4cbe-8b71-22beaf722a8b",
   "metadata": {},
   "outputs": [],
   "source": [
    "msg = f'This is not today date: {b} {a}, 2024'"
   ]
  },
  {
   "cell_type": "code",
   "execution_count": 109,
   "id": "e48710f3-60f2-4d27-9e51-d975e3b6af27",
   "metadata": {},
   "outputs": [
    {
     "data": {
      "text/plain": [
       "'This is not today date: December 31, 2024'"
      ]
     },
     "execution_count": 109,
     "metadata": {},
     "output_type": "execute_result"
    }
   ],
   "source": [
    "msg"
   ]
  },
  {
   "cell_type": "code",
   "execution_count": 111,
   "id": "2f9047ff-fb91-4749-a830-9f1628e69585",
   "metadata": {},
   "outputs": [],
   "source": [
    "b='January'"
   ]
  },
  {
   "cell_type": "code",
   "execution_count": 115,
   "id": "d2b04fc5-76f3-4bed-959c-f072109ba4c9",
   "metadata": {},
   "outputs": [
    {
     "data": {
      "text/plain": [
       "'This is today date: January 31, 2025'"
      ]
     },
     "execution_count": 115,
     "metadata": {},
     "output_type": "execute_result"
    }
   ],
   "source": [
    "f'This is today date: {b} {a}, 2025'"
   ]
  },
  {
   "cell_type": "code",
   "execution_count": 121,
   "id": "3d39e497-b370-4206-8585-5da67dda0b45",
   "metadata": {},
   "outputs": [],
   "source": [
    "a = 1\n",
    "b = 'January'"
   ]
  },
  {
   "cell_type": "code",
   "execution_count": 123,
   "id": "aa88aafa-955a-403a-a293-06c0c2541282",
   "metadata": {},
   "outputs": [
    {
     "name": "stdout",
     "output_type": "stream",
     "text": [
      "This is not today date: January 1, 2024\n"
     ]
    }
   ],
   "source": [
    "msg = f'This is not today date: {b} {a}, 2024'\n",
    "print(msg)"
   ]
  },
  {
   "cell_type": "code",
   "execution_count": 127,
   "id": "ddf156ec-014f-4bfb-8eff-58e5447e5954",
   "metadata": {},
   "outputs": [],
   "source": [
    "name = 'Ram'\n",
    "age = 15\n",
    "weight = 30.4\n",
    "# Sample output:  \n",
    "# Name: Ram, Age: 15, Weight: 30.4"
   ]
  },
  {
   "cell_type": "code",
   "execution_count": 129,
   "id": "29856599-721b-4276-8258-6fdb5187e21c",
   "metadata": {},
   "outputs": [
    {
     "data": {
      "text/plain": [
       "'Name: Ram, Age: 15,  Weight: 30.4'"
      ]
     },
     "execution_count": 129,
     "metadata": {},
     "output_type": "execute_result"
    }
   ],
   "source": [
    "f'Name: {name}, Age: {age},  Weight: {weight}'"
   ]
  },
  {
   "cell_type": "code",
   "execution_count": 131,
   "id": "912cae48-7983-45ef-80e1-a09f0ec0e72a",
   "metadata": {},
   "outputs": [],
   "source": [
    "out_str = f'Name: {name}, Age: {age},  Weight: {weight}'"
   ]
  },
  {
   "cell_type": "code",
   "execution_count": 133,
   "id": "e61564ba-afc5-4179-a89a-2c6b9cedf04b",
   "metadata": {},
   "outputs": [
    {
     "name": "stdout",
     "output_type": "stream",
     "text": [
      "Name: Ram, Age: 15,  Weight: 30.4\n"
     ]
    }
   ],
   "source": [
    "print(out_str)"
   ]
  },
  {
   "cell_type": "code",
   "execution_count": 135,
   "id": "059ff7e4-1952-43e2-b565-d7984f54a41a",
   "metadata": {},
   "outputs": [],
   "source": [
    "name = 'Sita'\n",
    "age = 14\n",
    "weight = 28.2"
   ]
  },
  {
   "cell_type": "code",
   "execution_count": 137,
   "id": "8e4e8239-5853-4dee-a886-d376beb50b78",
   "metadata": {},
   "outputs": [
    {
     "data": {
      "text/plain": [
       "'Name: Sita, Age: 14,  Weight: 28.2'"
      ]
     },
     "execution_count": 137,
     "metadata": {},
     "output_type": "execute_result"
    }
   ],
   "source": [
    "f'Name: {name}, Age: {age},  Weight: {weight}'"
   ]
  },
  {
   "cell_type": "code",
   "execution_count": 139,
   "id": "ba40f51c-857b-4d11-92d7-45f530bd939c",
   "metadata": {},
   "outputs": [],
   "source": [
    "s3 = 'This is a sample string.'"
   ]
  },
  {
   "cell_type": "code",
   "execution_count": 142,
   "id": "73ea961a-0546-4d1b-9dbf-c629b5425b6d",
   "metadata": {},
   "outputs": [
    {
     "data": {
      "text/plain": [
       "'This is a sample string.'"
      ]
     },
     "execution_count": 142,
     "metadata": {},
     "output_type": "execute_result"
    }
   ],
   "source": [
    "s3.capitalize()"
   ]
  },
  {
   "cell_type": "code",
   "execution_count": 144,
   "id": "624c1a4f-a2b4-4adc-beec-74dc8c161407",
   "metadata": {},
   "outputs": [
    {
     "data": {
      "text/plain": [
       "'This Is A Sample String.'"
      ]
     },
     "execution_count": 144,
     "metadata": {},
     "output_type": "execute_result"
    }
   ],
   "source": [
    "s3.title()"
   ]
  },
  {
   "cell_type": "code",
   "execution_count": 146,
   "id": "17d10b2b-6878-402e-9e41-0b79228351d5",
   "metadata": {},
   "outputs": [
    {
     "data": {
      "text/plain": [
       "'this is a sample string.'"
      ]
     },
     "execution_count": 146,
     "metadata": {},
     "output_type": "execute_result"
    }
   ],
   "source": [
    "s3.lower()"
   ]
  },
  {
   "cell_type": "code",
   "execution_count": 148,
   "id": "76617260-0283-4828-80c4-003ea25dd529",
   "metadata": {},
   "outputs": [
    {
     "data": {
      "text/plain": [
       "'THIS IS A SAMPLE STRING.'"
      ]
     },
     "execution_count": 148,
     "metadata": {},
     "output_type": "execute_result"
    }
   ],
   "source": [
    "s3.upper()"
   ]
  },
  {
   "cell_type": "code",
   "execution_count": 150,
   "id": "d72e564b-683d-445d-8e11-6f36144251a8",
   "metadata": {},
   "outputs": [
    {
     "data": {
      "text/plain": [
       "'tHIS IS A SAMPLE STRING.'"
      ]
     },
     "execution_count": 150,
     "metadata": {},
     "output_type": "execute_result"
    }
   ],
   "source": [
    "s3.swapcase()"
   ]
  },
  {
   "cell_type": "code",
   "execution_count": 152,
   "id": "8a459eba-97e7-4c81-a175-be76c3078889",
   "metadata": {},
   "outputs": [
    {
     "data": {
      "text/plain": [
       "'This is a sample string.'"
      ]
     },
     "execution_count": 152,
     "metadata": {},
     "output_type": "execute_result"
    }
   ],
   "source": [
    "s3"
   ]
  },
  {
   "cell_type": "code",
   "execution_count": 154,
   "id": "5ae3fab4-cbbc-4814-850f-d85245c9738d",
   "metadata": {},
   "outputs": [
    {
     "data": {
      "text/plain": [
       "['This', 'is', 'a', 'sample', 'string.']"
      ]
     },
     "execution_count": 154,
     "metadata": {},
     "output_type": "execute_result"
    }
   ],
   "source": [
    "s3.split()"
   ]
  },
  {
   "cell_type": "code",
   "execution_count": 156,
   "id": "8db4f70f-62b3-4142-ae98-e8d11399ffda",
   "metadata": {},
   "outputs": [
    {
     "data": {
      "text/plain": [
       "['This is ', ' s', 'mple string.']"
      ]
     },
     "execution_count": 156,
     "metadata": {},
     "output_type": "execute_result"
    }
   ],
   "source": [
    "s3.split('a')"
   ]
  },
  {
   "cell_type": "code",
   "execution_count": 158,
   "id": "4ba1399f-5b17-4b0e-99e4-94b30f801c71",
   "metadata": {},
   "outputs": [
    {
     "data": {
      "text/plain": [
       "'This is a sample string.'"
      ]
     },
     "execution_count": 158,
     "metadata": {},
     "output_type": "execute_result"
    }
   ],
   "source": [
    "s3"
   ]
  },
  {
   "cell_type": "code",
   "execution_count": 160,
   "id": "2f791528-7e09-42e3-bf52-44b7e50f2434",
   "metadata": {},
   "outputs": [
    {
     "data": {
      "text/plain": [
       "'This is X sXmple string.'"
      ]
     },
     "execution_count": 160,
     "metadata": {},
     "output_type": "execute_result"
    }
   ],
   "source": [
    "s3.replace('a','X')"
   ]
  },
  {
   "cell_type": "code",
   "execution_count": 162,
   "id": "305b4cd3-296b-4f06-97f2-97f1d729c774",
   "metadata": {},
   "outputs": [
    {
     "data": {
      "text/plain": [
       "'This is a sample string.'"
      ]
     },
     "execution_count": 162,
     "metadata": {},
     "output_type": "execute_result"
    }
   ],
   "source": [
    "s3"
   ]
  },
  {
   "cell_type": "code",
   "execution_count": 164,
   "id": "e18dd252-3062-4696-a9b1-b1f1b4a8615a",
   "metadata": {},
   "outputs": [
    {
     "data": {
      "text/plain": [
       "2"
      ]
     },
     "execution_count": 164,
     "metadata": {},
     "output_type": "execute_result"
    }
   ],
   "source": [
    "s3.count('a')"
   ]
  },
  {
   "cell_type": "code",
   "execution_count": 166,
   "id": "6323c234-cb31-4136-adf5-e3350c74f169",
   "metadata": {},
   "outputs": [
    {
     "data": {
      "text/plain": [
       "4"
      ]
     },
     "execution_count": 166,
     "metadata": {},
     "output_type": "execute_result"
    }
   ],
   "source": [
    "s3.count('s')"
   ]
  },
  {
   "cell_type": "code",
   "execution_count": 168,
   "id": "35c9b0ed-f93f-4f88-b6ec-a6ff2e73f962",
   "metadata": {},
   "outputs": [
    {
     "data": {
      "text/plain": [
       "4"
      ]
     },
     "execution_count": 168,
     "metadata": {},
     "output_type": "execute_result"
    }
   ],
   "source": [
    "s3.count(' ')"
   ]
  },
  {
   "cell_type": "code",
   "execution_count": 170,
   "id": "e32262cb-9d17-48cf-a1a4-0c9677b0c634",
   "metadata": {},
   "outputs": [
    {
     "data": {
      "text/plain": [
       "0"
      ]
     },
     "execution_count": 170,
     "metadata": {},
     "output_type": "execute_result"
    }
   ],
   "source": [
    "s3.count('w')"
   ]
  },
  {
   "cell_type": "code",
   "execution_count": 172,
   "id": "bde016e3-7094-47df-b586-ec08d92fbdae",
   "metadata": {},
   "outputs": [
    {
     "data": {
      "text/plain": [
       "'This is a sample string.'"
      ]
     },
     "execution_count": 172,
     "metadata": {},
     "output_type": "execute_result"
    }
   ],
   "source": [
    "s3"
   ]
  },
  {
   "cell_type": "code",
   "execution_count": 174,
   "id": "9e4b8611-0fff-448e-8641-1085a43baf55",
   "metadata": {},
   "outputs": [
    {
     "data": {
      "text/plain": [
       "10"
      ]
     },
     "execution_count": 174,
     "metadata": {},
     "output_type": "execute_result"
    }
   ],
   "source": [
    "s3.find('sample')"
   ]
  },
  {
   "cell_type": "code",
   "execution_count": 176,
   "id": "a9ae6527-3a30-46fd-beaf-a462a2f9c141",
   "metadata": {},
   "outputs": [
    {
     "data": {
      "text/plain": [
       "2"
      ]
     },
     "execution_count": 176,
     "metadata": {},
     "output_type": "execute_result"
    }
   ],
   "source": [
    "s3.find('is')"
   ]
  },
  {
   "cell_type": "code",
   "execution_count": 186,
   "id": "557e0b6a-e036-44de-a8f8-2d3995b624c8",
   "metadata": {},
   "outputs": [
    {
     "data": {
      "text/plain": [
       "0"
      ]
     },
     "execution_count": 186,
     "metadata": {},
     "output_type": "execute_result"
    }
   ],
   "source": [
    "s3.find('Thi')"
   ]
  },
  {
   "cell_type": "code",
   "execution_count": 182,
   "id": "55e3a8f2-7c06-49f3-a4fa-d2b99cb6509d",
   "metadata": {},
   "outputs": [
    {
     "data": {
      "text/plain": [
       "-1"
      ]
     },
     "execution_count": 182,
     "metadata": {},
     "output_type": "execute_result"
    }
   ],
   "source": [
    "s3.find('vijaya')"
   ]
  },
  {
   "cell_type": "code",
   "execution_count": 178,
   "id": "0e23c433-55de-4816-aa18-80c41551ca60",
   "metadata": {},
   "outputs": [
    {
     "data": {
      "text/plain": [
       "-1"
      ]
     },
     "execution_count": 178,
     "metadata": {},
     "output_type": "execute_result"
    }
   ],
   "source": [
    "s3.find('new') # 'new' is not available and hence returning -1"
   ]
  },
  {
   "cell_type": "code",
   "execution_count": 190,
   "id": "c96011ad-4bfe-4491-b320-2da957ec409b",
   "metadata": {},
   "outputs": [
    {
     "data": {
      "text/plain": [
       "'This is a sample string.'"
      ]
     },
     "execution_count": 190,
     "metadata": {},
     "output_type": "execute_result"
    }
   ],
   "source": [
    "s3"
   ]
  },
  {
   "cell_type": "code",
   "execution_count": 188,
   "id": "ab2e54ae-e18e-483e-a6b9-4faee9bc80bf",
   "metadata": {},
   "outputs": [
    {
     "data": {
      "text/plain": [
       "'is is a '"
      ]
     },
     "execution_count": 188,
     "metadata": {},
     "output_type": "execute_result"
    }
   ],
   "source": [
    "s3[2:10]"
   ]
  },
  {
   "cell_type": "code",
   "execution_count": 192,
   "id": "57664385-51fe-4c1c-85ec-9c2177afdd88",
   "metadata": {},
   "outputs": [
    {
     "data": {
      "text/plain": [
       "-1"
      ]
     },
     "execution_count": 192,
     "metadata": {},
     "output_type": "execute_result"
    }
   ],
   "source": [
    "s3.find('sample',2,10)"
   ]
  },
  {
   "cell_type": "code",
   "execution_count": 194,
   "id": "7fa9c329-88ae-4f29-aa51-f1654d006242",
   "metadata": {},
   "outputs": [
    {
     "data": {
      "text/plain": [
       "'a sample s'"
      ]
     },
     "execution_count": 194,
     "metadata": {},
     "output_type": "execute_result"
    }
   ],
   "source": [
    "s3[8:18]"
   ]
  },
  {
   "cell_type": "code",
   "execution_count": 198,
   "id": "0338b3ac-df9e-4249-ba8b-96577e9b1265",
   "metadata": {},
   "outputs": [
    {
     "data": {
      "text/plain": [
       "10"
      ]
     },
     "execution_count": 198,
     "metadata": {},
     "output_type": "execute_result"
    }
   ],
   "source": [
    "s3.find('sample',8,18)"
   ]
  },
  {
   "cell_type": "code",
   "execution_count": 200,
   "id": "a88717d1-db77-4745-be9d-27d6cf4edbc5",
   "metadata": {},
   "outputs": [
    {
     "data": {
      "text/plain": [
       "'This is a sample string.'"
      ]
     },
     "execution_count": 200,
     "metadata": {},
     "output_type": "execute_result"
    }
   ],
   "source": [
    "s3"
   ]
  },
  {
   "cell_type": "code",
   "execution_count": 202,
   "id": "e912c3ca-e542-4b14-82a9-31b27607823c",
   "metadata": {},
   "outputs": [
    {
     "data": {
      "text/plain": [
       "True"
      ]
     },
     "execution_count": 202,
     "metadata": {},
     "output_type": "execute_result"
    }
   ],
   "source": [
    "s3.endswith('.')"
   ]
  },
  {
   "cell_type": "code",
   "execution_count": 204,
   "id": "687da3e8-ca35-4723-b1ee-26a88735aa80",
   "metadata": {},
   "outputs": [
    {
     "data": {
      "text/plain": [
       "False"
      ]
     },
     "execution_count": 204,
     "metadata": {},
     "output_type": "execute_result"
    }
   ],
   "source": [
    "s3.endswith('a')"
   ]
  },
  {
   "cell_type": "code",
   "execution_count": 206,
   "id": "c4083a62-67dc-4b1e-871e-f94720da9145",
   "metadata": {},
   "outputs": [
    {
     "data": {
      "text/plain": [
       "'This is a sample string.'"
      ]
     },
     "execution_count": 206,
     "metadata": {},
     "output_type": "execute_result"
    }
   ],
   "source": [
    "s3"
   ]
  },
  {
   "cell_type": "code",
   "execution_count": 208,
   "id": "81df990c-1747-467d-93dd-85f5a302bb8b",
   "metadata": {},
   "outputs": [
    {
     "data": {
      "text/plain": [
       "True"
      ]
     },
     "execution_count": 208,
     "metadata": {},
     "output_type": "execute_result"
    }
   ],
   "source": [
    "s3.startswith('Thi')"
   ]
  },
  {
   "cell_type": "code",
   "execution_count": 210,
   "id": "2985d338-58e2-4085-823c-8cedae7cdc88",
   "metadata": {},
   "outputs": [
    {
     "data": {
      "text/plain": [
       "False"
      ]
     },
     "execution_count": 210,
     "metadata": {},
     "output_type": "execute_result"
    }
   ],
   "source": [
    "s3.startswith('this')"
   ]
  },
  {
   "cell_type": "code",
   "execution_count": 212,
   "id": "312aeccf-30ee-4e05-a651-41f3a469c419",
   "metadata": {},
   "outputs": [
    {
     "data": {
      "text/plain": [
       "True"
      ]
     },
     "execution_count": 212,
     "metadata": {},
     "output_type": "execute_result"
    }
   ],
   "source": [
    "'nandini@datavalley.ai'.endswith('datavalley.ai')"
   ]
  },
  {
   "cell_type": "code",
   "execution_count": 224,
   "id": "19cea1b2-f7da-4366-8d30-30798a9413cc",
   "metadata": {},
   "outputs": [
    {
     "data": {
      "text/plain": [
       "True"
      ]
     },
     "execution_count": 224,
     "metadata": {},
     "output_type": "execute_result"
    }
   ],
   "source": [
    "'This is a sample string.'.startswith('This')"
   ]
  },
  {
   "cell_type": "code",
   "execution_count": 228,
   "id": "14568266-faf7-44ea-b78d-63d22974b6c2",
   "metadata": {},
   "outputs": [
    {
     "data": {
      "text/plain": [
       "True"
      ]
     },
     "execution_count": 228,
     "metadata": {},
     "output_type": "execute_result"
    }
   ],
   "source": [
    "' This is a sample string.'.startswith(' This')"
   ]
  },
  {
   "cell_type": "code",
   "execution_count": 230,
   "id": "00adcfc8-30a2-4cf6-8e95-3c0dcdcf58ba",
   "metadata": {},
   "outputs": [
    {
     "data": {
      "text/plain": [
       "True"
      ]
     },
     "execution_count": 230,
     "metadata": {},
     "output_type": "execute_result"
    }
   ],
   "source": [
    "s3 = 'This is a sample string.'\n",
    "s3.startswith('This') or s3.startswith(' This')"
   ]
  },
  {
   "cell_type": "code",
   "execution_count": 232,
   "id": "31085894-178b-4c1e-ae01-a018ed44b9ff",
   "metadata": {},
   "outputs": [
    {
     "data": {
      "text/plain": [
       "True"
      ]
     },
     "execution_count": 232,
     "metadata": {},
     "output_type": "execute_result"
    }
   ],
   "source": [
    "s3 = ' This is a sample string.'\n",
    "s3.startswith('This') or s3.startswith(' This')"
   ]
  },
  {
   "cell_type": "code",
   "execution_count": 242,
   "id": "52270027-7021-4595-a63d-c80191dcf7aa",
   "metadata": {},
   "outputs": [
    {
     "data": {
      "text/plain": [
       "False"
      ]
     },
     "execution_count": 242,
     "metadata": {},
     "output_type": "execute_result"
    }
   ],
   "source": [
    "s3 = 'Some other string'\n",
    "# s3.startswith('This')\n",
    "# s3.startswith(' This')\n",
    "s3.startswith('This') or s3.startswith(' This')"
   ]
  },
  {
   "cell_type": "code",
   "execution_count": 256,
   "id": "73885964-74fa-43af-9a70-734d275b710b",
   "metadata": {},
   "outputs": [
    {
     "name": "stdout",
     "output_type": "stream",
     "text": [
      "My name \t is \t Vijaya Nandini\n"
     ]
    }
   ],
   "source": [
    "s4 = 'My name \\t is \\t Vijaya Nandini'\n",
    "print(s4)"
   ]
  },
  {
   "cell_type": "code",
   "execution_count": 254,
   "id": "4c326dbd-08a8-48a0-94e4-dc24d11a5549",
   "metadata": {},
   "outputs": [
    {
     "name": "stdout",
     "output_type": "stream",
     "text": [
      "My name                   is                       Vijaya Nandini\n"
     ]
    }
   ],
   "source": [
    "print(s4.expandtabs(25))"
   ]
  },
  {
   "cell_type": "code",
   "execution_count": 91,
   "id": "4104326f-ff54-4ced-a87b-6cd9e004d173",
   "metadata": {},
   "outputs": [],
   "source": [
    "# s3.casefold\n",
    "# s3.translate"
   ]
  },
  {
   "cell_type": "code",
   "execution_count": 258,
   "id": "9fc6f4d9-4c59-4724-a3f3-d58ede666f7d",
   "metadata": {},
   "outputs": [
    {
     "name": "stdout",
     "output_type": "stream",
     "text": [
      "విజయ నందిని\n"
     ]
    }
   ],
   "source": [
    "# https://telugu.changathi.com/\n",
    "s5 = 'విజయ నందిని'\n",
    "print(s5)"
   ]
  },
  {
   "cell_type": "code",
   "execution_count": 260,
   "id": "94c8d9c2",
   "metadata": {},
   "outputs": [
    {
     "data": {
      "text/plain": [
       "'విజయ నందిని'"
      ]
     },
     "execution_count": 260,
     "metadata": {},
     "output_type": "execute_result"
    }
   ],
   "source": [
    "s5.casefold()"
   ]
  },
  {
   "cell_type": "code",
   "execution_count": 262,
   "id": "62504d86-d450-46ea-83e2-4fb50da4b4de",
   "metadata": {},
   "outputs": [
    {
     "data": {
      "text/plain": [
       "'strasse'"
      ]
     },
     "execution_count": 262,
     "metadata": {},
     "output_type": "execute_result"
    }
   ],
   "source": [
    "\"Straße\".casefold()"
   ]
  },
  {
   "cell_type": "code",
   "execution_count": 276,
   "id": "16ce5fd3-7937-4b06-b422-8547398a48e1",
   "metadata": {},
   "outputs": [],
   "source": [
    "# \"Straße\".translate()  --- NEED TO CHECK"
   ]
  },
  {
   "cell_type": "code",
   "execution_count": 264,
   "id": "78934878-a2af-47aa-b834-ec90c3a97672",
   "metadata": {},
   "outputs": [
    {
     "data": {
      "text/plain": [
       "'nandini@datavalley.ai'"
      ]
     },
     "execution_count": 264,
     "metadata": {},
     "output_type": "execute_result"
    }
   ],
   "source": [
    "'nandini@datavalley.ai'.casefold()"
   ]
  },
  {
   "cell_type": "code",
   "execution_count": 281,
   "id": "1e166f9b-f747-4ea4-813a-729e3141a0d4",
   "metadata": {},
   "outputs": [
    {
     "data": {
      "text/plain": [
       "'this is a string'"
      ]
     },
     "execution_count": 281,
     "metadata": {},
     "output_type": "execute_result"
    }
   ],
   "source": [
    "s1"
   ]
  },
  {
   "cell_type": "code",
   "execution_count": 283,
   "id": "b64e95a1-cdd0-4b66-9ca5-cf9d1d73a765",
   "metadata": {},
   "outputs": [
    {
     "data": {
      "text/plain": [
       "16"
      ]
     },
     "execution_count": 283,
     "metadata": {},
     "output_type": "execute_result"
    }
   ],
   "source": [
    "len(s1)"
   ]
  },
  {
   "cell_type": "code",
   "execution_count": 285,
   "id": "08fc051a-540c-4bc7-8723-50097071a66a",
   "metadata": {},
   "outputs": [
    {
     "data": {
      "text/plain": [
       "'                 this is a string                 '"
      ]
     },
     "execution_count": 285,
     "metadata": {},
     "output_type": "execute_result"
    }
   ],
   "source": [
    "s1.center(50)"
   ]
  },
  {
   "cell_type": "code",
   "execution_count": 287,
   "id": "2454464c-029d-4ef4-aa77-3931257753eb",
   "metadata": {},
   "outputs": [
    {
     "data": {
      "text/plain": [
       "'.................this is a string.................'"
      ]
     },
     "execution_count": 287,
     "metadata": {},
     "output_type": "execute_result"
    }
   ],
   "source": [
    "s1.center(50, '.')"
   ]
  },
  {
   "cell_type": "code",
   "execution_count": 289,
   "id": "4d4dddf7-eebf-41d2-b65a-a3ddd68ba88e",
   "metadata": {},
   "outputs": [
    {
     "data": {
      "text/plain": [
       "'this is a string'"
      ]
     },
     "execution_count": 289,
     "metadata": {},
     "output_type": "execute_result"
    }
   ],
   "source": [
    "s1.center(5)"
   ]
  },
  {
   "cell_type": "code",
   "execution_count": 291,
   "id": "38384c2d-73a4-41b4-ad44-c31f5f522aa7",
   "metadata": {},
   "outputs": [
    {
     "name": "stdout",
     "output_type": "stream",
     "text": [
      "12\n",
      "2\n"
     ]
    }
   ],
   "source": [
    "mobile_num = '12'\n",
    "print(mobile_num)\n",
    "print(len(mobile_num))"
   ]
  },
  {
   "cell_type": "code",
   "execution_count": 308,
   "id": "abc33840-3390-4815-8d7a-a11e054fd91a",
   "metadata": {},
   "outputs": [
    {
     "name": "stdin",
     "output_type": "stream",
     "text": [
      " 12345\n"
     ]
    },
    {
     "name": "stdout",
     "output_type": "stream",
     "text": [
      "0012345000\n"
     ]
    }
   ],
   "source": [
    "mobile_num = input()\n",
    "if len(mobile_num) < 10:\n",
    "    mobile_num = mobile_num.center(10, '0')\n",
    "print(mobile_num)"
   ]
  },
  {
   "cell_type": "code",
   "execution_count": 304,
   "id": "b24dcf20-f1ea-4837-ad13-71ccf024aaf7",
   "metadata": {},
   "outputs": [
    {
     "data": {
      "text/plain": [
       "'0000000000'"
      ]
     },
     "execution_count": 304,
     "metadata": {},
     "output_type": "execute_result"
    }
   ],
   "source": [
    "''.center(10, '0')"
   ]
  },
  {
   "cell_type": "code",
   "execution_count": 306,
   "id": "28257cf6-52f2-497b-9423-dedbae4b8911",
   "metadata": {},
   "outputs": [
    {
     "data": {
      "text/plain": [
       "'0000300000'"
      ]
     },
     "execution_count": 306,
     "metadata": {},
     "output_type": "execute_result"
    }
   ],
   "source": [
    "'3'.center(10, '0')"
   ]
  },
  {
   "cell_type": "code",
   "execution_count": null,
   "id": "3cfda2be",
   "metadata": {},
   "outputs": [],
   "source": []
  }
 ],
 "metadata": {
  "kernelspec": {
   "display_name": "Python 3 (ipykernel)",
   "language": "python",
   "name": "python3"
  },
  "language_info": {
   "codemirror_mode": {
    "name": "ipython",
    "version": 3
   },
   "file_extension": ".py",
   "mimetype": "text/x-python",
   "name": "python",
   "nbconvert_exporter": "python",
   "pygments_lexer": "ipython3",
   "version": "3.12.4"
  }
 },
 "nbformat": 4,
 "nbformat_minor": 5
}
