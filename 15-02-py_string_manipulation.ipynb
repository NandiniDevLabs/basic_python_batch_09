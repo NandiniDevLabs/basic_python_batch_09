{
 "cells": [
  {
   "cell_type": "code",
   "execution_count": 1,
   "id": "bbb01c6e-dc1b-4c89-8f34-5f072925a687",
   "metadata": {},
   "outputs": [],
   "source": [
    "s1 = 'this is a string'"
   ]
  },
  {
   "cell_type": "code",
   "execution_count": null,
   "id": "4e65394e-0f9a-4718-8308-0aca6568271d",
   "metadata": {},
   "outputs": [],
   "source": [
    "s1.replace('is','and')"
   ]
  },
  {
   "cell_type": "code",
   "execution_count": null,
   "id": "48542ca1-13a6-4759-b008-394795fa7305",
   "metadata": {},
   "outputs": [],
   "source": [
    "s1.replace(' is',' and')"
   ]
  },
  {
   "cell_type": "markdown",
   "id": "a45060b1-306e-4fc3-b895-1b7ecc653760",
   "metadata": {},
   "source": [
    "# String slicing Contd"
   ]
  },
  {
   "cell_type": "code",
   "execution_count": 4,
   "id": "2bfdc183-92c4-49d0-8c8c-795f0f15c736",
   "metadata": {},
   "outputs": [],
   "source": [
    "s1 = 'this is a string'"
   ]
  },
  {
   "cell_type": "code",
   "execution_count": 5,
   "id": "9777fa7f-d340-4b5c-927b-b94cd90c5b6d",
   "metadata": {},
   "outputs": [],
   "source": [
    "#s1[starting_index,ending_index,step]"
   ]
  },
  {
   "cell_type": "code",
   "execution_count": null,
   "id": "7c1162d9-4a38-4124-8241-a584d77ccb12",
   "metadata": {},
   "outputs": [],
   "source": [
    "s1[0]"
   ]
  },
  {
   "cell_type": "code",
   "execution_count": null,
   "id": "ffbe87ba-d4c9-4f5f-899d-eeed378c63fb",
   "metadata": {},
   "outputs": [],
   "source": [
    "s1[15]"
   ]
  },
  {
   "cell_type": "code",
   "execution_count": null,
   "id": "590f0453-4f3f-4fff-959a-a42145082db0",
   "metadata": {},
   "outputs": [],
   "source": [
    "len(s1)"
   ]
  },
  {
   "cell_type": "code",
   "execution_count": null,
   "id": "d5bc9223-cf9b-432c-b8b0-58cfb702d0c4",
   "metadata": {},
   "outputs": [],
   "source": [
    "s1"
   ]
  },
  {
   "cell_type": "code",
   "execution_count": null,
   "id": "51292848-81f2-4072-b9be-9395cb1db9ae",
   "metadata": {},
   "outputs": [],
   "source": [
    "s1[0:4]"
   ]
  },
  {
   "cell_type": "code",
   "execution_count": null,
   "id": "92923f1d-a6ee-4e82-aece-847cf374b28f",
   "metadata": {},
   "outputs": [],
   "source": [
    "s1[3:10]"
   ]
  },
  {
   "cell_type": "code",
   "execution_count": 12,
   "id": "3db5a2bf-eb8e-4c3a-b51d-47fa6db46143",
   "metadata": {},
   "outputs": [],
   "source": [
    "s2 = 'ABCDEFGHIJKL'"
   ]
  },
  {
   "cell_type": "code",
   "execution_count": null,
   "id": "e511c3ee-27fb-4b87-81b1-1de8ff32faa8",
   "metadata": {},
   "outputs": [],
   "source": [
    "s2[4:7]"
   ]
  },
  {
   "cell_type": "code",
   "execution_count": null,
   "id": "081aa841-359d-4a35-ae3e-a149be4fcf47",
   "metadata": {},
   "outputs": [],
   "source": [
    "s2[1:8]"
   ]
  },
  {
   "cell_type": "code",
   "execution_count": null,
   "id": "6d7d6f2c-8f1c-4a42-a58d-1b0d887f8a94",
   "metadata": {},
   "outputs": [],
   "source": [
    "s2[1:8:2]"
   ]
  },
  {
   "cell_type": "code",
   "execution_count": null,
   "id": "6946f0d3-e873-4f3f-88a5-ee8e2a0c560e",
   "metadata": {},
   "outputs": [],
   "source": [
    "print(s2)\n",
    "print(s2[::-1]) # string reverse"
   ]
  },
  {
   "cell_type": "code",
   "execution_count": null,
   "id": "0660992a-b56d-43d6-bc89-2bf768a18210",
   "metadata": {},
   "outputs": [],
   "source": [
    "s2"
   ]
  },
  {
   "cell_type": "code",
   "execution_count": null,
   "id": "32897a71-823f-4f97-86a0-39ce15edb3b3",
   "metadata": {},
   "outputs": [],
   "source": [
    "for l in s2:\n",
    "    print(l)"
   ]
  },
  {
   "cell_type": "code",
   "execution_count": null,
   "id": "da344b43-c404-4a11-8333-d35bcce086bb",
   "metadata": {},
   "outputs": [],
   "source": [
    "s2"
   ]
  },
  {
   "cell_type": "code",
   "execution_count": null,
   "id": "a756caf9-0a36-4805-94fe-b8e0ce25a1b6",
   "metadata": {},
   "outputs": [],
   "source": [
    "s2[::-1] # string reverse"
   ]
  },
  {
   "cell_type": "code",
   "execution_count": null,
   "id": "c69ac8cd-81fb-4445-809a-1cb5ba9ffbaa",
   "metadata": {},
   "outputs": [],
   "source": [
    "output_str = ''\n",
    "for l in s2:\n",
    "    output_str = l + output_str\n",
    "    print(l)\n",
    "    print('output_str: ',output_str)\n",
    "# end of for loop\n",
    "\n",
    "# s2 = 'ABCDEFGHIJKL'\n",
    "# Iteration1 - output_str = ''\n",
    "# l = 'A' \n",
    "# output_str = 'A' + '' --> 'A'\n",
    "\n",
    "# Iteration2 - output_str = 'A'\n",
    "# l = 'B'\n",
    "# output_str = 'B' + 'A' --> 'BA'\n",
    "\n",
    "# Iteration3 - output_str = 'BA'\n",
    "# l = 'C'\n",
    "# output_str = 'C' + 'BA' --> 'CBA'"
   ]
  },
  {
   "cell_type": "code",
   "execution_count": null,
   "id": "63671046-3b7b-4342-aef7-ca2d99062d16",
   "metadata": {},
   "outputs": [],
   "source": [
    "'' # empty string"
   ]
  },
  {
   "cell_type": "code",
   "execution_count": null,
   "id": "b5e5ffa6-9d47-4c17-a403-44b90c2a4280",
   "metadata": {},
   "outputs": [],
   "source": [
    "len('')"
   ]
  },
  {
   "cell_type": "code",
   "execution_count": null,
   "id": "4f678982-3a1f-4c87-8e67-d223ae0e3f38",
   "metadata": {},
   "outputs": [],
   "source": [
    "'A' + ''"
   ]
  },
  {
   "cell_type": "code",
   "execution_count": null,
   "id": "3fa5b429-55bd-44a5-ae99-701353da01b5",
   "metadata": {},
   "outputs": [],
   "source": [
    "'C' + 'BA'"
   ]
  },
  {
   "cell_type": "code",
   "execution_count": null,
   "id": "b7787189-3ad1-40eb-9a85-38c7db7f1263",
   "metadata": {},
   "outputs": [],
   "source": [
    "# Reversing string by using for loop\n",
    "output_str = ''\n",
    "for l in s2:\n",
    "    output_str = l + output_str\n",
    "    # print(l)\n",
    "    # print('output_str: ',output_str)\n",
    "# End of for loop\n",
    "print(s2)\n",
    "print(output_str)"
   ]
  },
  {
   "cell_type": "markdown",
   "id": "e8a3c15f-83ec-4444-a27c-638c0147072a",
   "metadata": {},
   "source": [
    "# f-string : formatted string"
   ]
  },
  {
   "cell_type": "code",
   "execution_count": 33,
   "id": "6c2f3d48-1f24-4b4f-a635-1984195fb570",
   "metadata": {},
   "outputs": [],
   "source": [
    "a = 31\n",
    "b = 'December'"
   ]
  },
  {
   "cell_type": "code",
   "execution_count": null,
   "id": "c8dcbc75-891f-43f2-b934-b7a935cfc686",
   "metadata": {},
   "outputs": [],
   "source": [
    "type(a)"
   ]
  },
  {
   "cell_type": "code",
   "execution_count": null,
   "id": "68a8355a-430f-4c6f-becb-6c0ebee1bdf5",
   "metadata": {},
   "outputs": [],
   "source": [
    "type(b)"
   ]
  },
  {
   "cell_type": "code",
   "execution_count": 37,
   "id": "30f1e8a2-80eb-47ff-bc9d-cac62e1b9993",
   "metadata": {},
   "outputs": [],
   "source": [
    "# Expected output: 'December 31'"
   ]
  },
  {
   "cell_type": "code",
   "execution_count": null,
   "id": "ac439a74-2e47-4263-8466-1b90b41c27ba",
   "metadata": {},
   "outputs": [],
   "source": [
    "b + ' ' + str(a)"
   ]
  },
  {
   "cell_type": "code",
   "execution_count": null,
   "id": "d5c99028-bfbc-43c5-b1bc-0d36d74abdde",
   "metadata": {},
   "outputs": [],
   "source": [
    "print(b,a)"
   ]
  },
  {
   "cell_type": "code",
   "execution_count": null,
   "id": "5bafe535-00ea-4748-971c-aabcc2bac102",
   "metadata": {},
   "outputs": [],
   "source": [
    "print(b,a,2024)"
   ]
  },
  {
   "cell_type": "code",
   "execution_count": null,
   "id": "65931350-f582-4284-a333-c3014752a868",
   "metadata": {},
   "outputs": [],
   "source": [
    "print(b,a,',',2024)"
   ]
  },
  {
   "cell_type": "code",
   "execution_count": 42,
   "id": "868c5761-3680-454b-a99d-393d46577390",
   "metadata": {},
   "outputs": [],
   "source": [
    "# Expected output: December 31, 2024\n",
    "# want to save this to a variable: today_date"
   ]
  },
  {
   "cell_type": "code",
   "execution_count": 43,
   "id": "7d2981c1-608a-40ef-8435-552c1fb68e7f",
   "metadata": {},
   "outputs": [],
   "source": [
    "today_date = b + ' ' + str(a) + ', ' + str(2024)"
   ]
  },
  {
   "cell_type": "code",
   "execution_count": null,
   "id": "2ec1fcd7-75c0-4a8f-b962-1ad392795ee5",
   "metadata": {},
   "outputs": [],
   "source": [
    "today_date"
   ]
  },
  {
   "cell_type": "code",
   "execution_count": null,
   "id": "0965ba91-61b8-4032-8ef4-f1f8bfd0f7f3",
   "metadata": {},
   "outputs": [],
   "source": [
    "f'{b} {a}, 2024'"
   ]
  },
  {
   "cell_type": "code",
   "execution_count": null,
   "id": "81977fa4-7e7e-4ae8-8780-aa1af717e7ec",
   "metadata": {},
   "outputs": [],
   "source": [
    "f'This is today date: {b} {a}, 2024'"
   ]
  },
  {
   "cell_type": "code",
   "execution_count": 48,
   "id": "2f9047ff-fb91-4749-a830-9f1628e69585",
   "metadata": {},
   "outputs": [],
   "source": [
    "b='January'"
   ]
  },
  {
   "cell_type": "code",
   "execution_count": null,
   "id": "d2b04fc5-76f3-4bed-959c-f072109ba4c9",
   "metadata": {},
   "outputs": [],
   "source": [
    "f'This is today date: {b} {a}, 2024'"
   ]
  },
  {
   "cell_type": "code",
   "execution_count": 50,
   "id": "ddf156ec-014f-4bfb-8eff-58e5447e5954",
   "metadata": {},
   "outputs": [],
   "source": [
    "name = 'Ram'\n",
    "age = 15\n",
    "weight = 30.4\n",
    "# Sample output:  \n",
    "# Name: Ram, Age: 15, Weight: 30.4"
   ]
  },
  {
   "cell_type": "code",
   "execution_count": null,
   "id": "29856599-721b-4276-8258-6fdb5187e21c",
   "metadata": {},
   "outputs": [],
   "source": [
    "f'Name: {name}, Age: {age},  Weight: {weight}'"
   ]
  },
  {
   "cell_type": "code",
   "execution_count": 52,
   "id": "912cae48-7983-45ef-80e1-a09f0ec0e72a",
   "metadata": {},
   "outputs": [],
   "source": [
    "out_str = f'Name: {name}, Age: {age},  Weight: {weight}'"
   ]
  },
  {
   "cell_type": "code",
   "execution_count": null,
   "id": "e61564ba-afc5-4179-a89a-2c6b9cedf04b",
   "metadata": {},
   "outputs": [],
   "source": [
    "print(out_str)"
   ]
  },
  {
   "cell_type": "code",
   "execution_count": 54,
   "id": "059ff7e4-1952-43e2-b565-d7984f54a41a",
   "metadata": {},
   "outputs": [],
   "source": [
    "name = 'Sita'\n",
    "age = 14\n",
    "weight = 28.2"
   ]
  },
  {
   "cell_type": "code",
   "execution_count": null,
   "id": "8e4e8239-5853-4dee-a886-d376beb50b78",
   "metadata": {},
   "outputs": [],
   "source": [
    "f'Name: {name}, Age: {age},  Weight: {weight}'"
   ]
  },
  {
   "cell_type": "code",
   "execution_count": 57,
   "id": "ba40f51c-857b-4d11-92d7-45f530bd939c",
   "metadata": {},
   "outputs": [],
   "source": [
    "s3 = 'This is a sample string.'"
   ]
  },
  {
   "cell_type": "code",
   "execution_count": null,
   "id": "73ea961a-0546-4d1b-9dbf-c629b5425b6d",
   "metadata": {},
   "outputs": [],
   "source": [
    "s3.capitalize()"
   ]
  },
  {
   "cell_type": "code",
   "execution_count": null,
   "id": "624c1a4f-a2b4-4adc-beec-74dc8c161407",
   "metadata": {},
   "outputs": [],
   "source": [
    "s3.title()"
   ]
  },
  {
   "cell_type": "code",
   "execution_count": null,
   "id": "17d10b2b-6878-402e-9e41-0b79228351d5",
   "metadata": {},
   "outputs": [],
   "source": [
    "s3.lower()"
   ]
  },
  {
   "cell_type": "code",
   "execution_count": null,
   "id": "76617260-0283-4828-80c4-003ea25dd529",
   "metadata": {},
   "outputs": [],
   "source": [
    "s3.upper()"
   ]
  },
  {
   "cell_type": "code",
   "execution_count": null,
   "id": "d72e564b-683d-445d-8e11-6f36144251a8",
   "metadata": {},
   "outputs": [],
   "source": [
    "s3.swapcase()"
   ]
  },
  {
   "cell_type": "code",
   "execution_count": null,
   "id": "8a459eba-97e7-4c81-a175-be76c3078889",
   "metadata": {},
   "outputs": [],
   "source": [
    "s3"
   ]
  },
  {
   "cell_type": "code",
   "execution_count": null,
   "id": "5ae3fab4-cbbc-4814-850f-d85245c9738d",
   "metadata": {},
   "outputs": [],
   "source": [
    "s3.split()"
   ]
  },
  {
   "cell_type": "code",
   "execution_count": null,
   "id": "8db4f70f-62b3-4142-ae98-e8d11399ffda",
   "metadata": {},
   "outputs": [],
   "source": [
    "s3.split('a')"
   ]
  },
  {
   "cell_type": "code",
   "execution_count": null,
   "id": "2f791528-7e09-42e3-bf52-44b7e50f2434",
   "metadata": {},
   "outputs": [],
   "source": [
    "s3.replace('a','X')"
   ]
  },
  {
   "cell_type": "code",
   "execution_count": null,
   "id": "305b4cd3-296b-4f06-97f2-97f1d729c774",
   "metadata": {},
   "outputs": [],
   "source": [
    "s3"
   ]
  },
  {
   "cell_type": "code",
   "execution_count": null,
   "id": "e18dd252-3062-4696-a9b1-b1f1b4a8615a",
   "metadata": {},
   "outputs": [],
   "source": [
    "s3.count('a')"
   ]
  },
  {
   "cell_type": "code",
   "execution_count": null,
   "id": "6323c234-cb31-4136-adf5-e3350c74f169",
   "metadata": {},
   "outputs": [],
   "source": [
    "s3.count('s')"
   ]
  },
  {
   "cell_type": "code",
   "execution_count": null,
   "id": "35c9b0ed-f93f-4f88-b6ec-a6ff2e73f962",
   "metadata": {},
   "outputs": [],
   "source": [
    "s3.count(' ')"
   ]
  },
  {
   "cell_type": "code",
   "execution_count": null,
   "id": "bde016e3-7094-47df-b586-ec08d92fbdae",
   "metadata": {},
   "outputs": [],
   "source": [
    "s3"
   ]
  },
  {
   "cell_type": "code",
   "execution_count": null,
   "id": "9e4b8611-0fff-448e-8641-1085a43baf55",
   "metadata": {},
   "outputs": [],
   "source": [
    "s3.find('sample')"
   ]
  },
  {
   "cell_type": "code",
   "execution_count": null,
   "id": "0e23c433-55de-4816-aa18-80c41551ca60",
   "metadata": {},
   "outputs": [],
   "source": [
    "s3.find('new') # 'new' is not available and hence returning -1"
   ]
  },
  {
   "cell_type": "code",
   "execution_count": null,
   "id": "ab2e54ae-e18e-483e-a6b9-4faee9bc80bf",
   "metadata": {},
   "outputs": [],
   "source": [
    "s3[2:10]"
   ]
  },
  {
   "cell_type": "code",
   "execution_count": null,
   "id": "57664385-51fe-4c1c-85ec-9c2177afdd88",
   "metadata": {},
   "outputs": [],
   "source": [
    "s3.find('sample',2,10)"
   ]
  },
  {
   "cell_type": "code",
   "execution_count": null,
   "id": "7fa9c329-88ae-4f29-aa51-f1654d006242",
   "metadata": {},
   "outputs": [],
   "source": [
    "s3[8:18]"
   ]
  },
  {
   "cell_type": "code",
   "execution_count": null,
   "id": "0338b3ac-df9e-4249-ba8b-96577e9b1265",
   "metadata": {},
   "outputs": [],
   "source": [
    "s3.find('sample',8,18)"
   ]
  },
  {
   "cell_type": "code",
   "execution_count": null,
   "id": "a88717d1-db77-4745-be9d-27d6cf4edbc5",
   "metadata": {},
   "outputs": [],
   "source": [
    "s3"
   ]
  },
  {
   "cell_type": "code",
   "execution_count": null,
   "id": "e912c3ca-e542-4b14-82a9-31b27607823c",
   "metadata": {},
   "outputs": [],
   "source": [
    "s3.endswith('.')"
   ]
  },
  {
   "cell_type": "code",
   "execution_count": null,
   "id": "687da3e8-ca35-4723-b1ee-26a88735aa80",
   "metadata": {},
   "outputs": [],
   "source": [
    "s3.endswith('a')"
   ]
  },
  {
   "cell_type": "code",
   "execution_count": null,
   "id": "c4083a62-67dc-4b1e-871e-f94720da9145",
   "metadata": {},
   "outputs": [],
   "source": [
    "s3"
   ]
  },
  {
   "cell_type": "code",
   "execution_count": null,
   "id": "81df990c-1747-467d-93dd-85f5a302bb8b",
   "metadata": {},
   "outputs": [],
   "source": [
    "s3.startswith('Thi')"
   ]
  },
  {
   "cell_type": "code",
   "execution_count": null,
   "id": "2985d338-58e2-4085-823c-8cedae7cdc88",
   "metadata": {},
   "outputs": [],
   "source": [
    "s3.startswith('this')"
   ]
  },
  {
   "cell_type": "code",
   "execution_count": null,
   "id": "312aeccf-30ee-4e05-a651-41f3a469c419",
   "metadata": {},
   "outputs": [],
   "source": [
    "'nandini@datavalley.ai'.endswith('datavalley.ai')"
   ]
  },
  {
   "cell_type": "code",
   "execution_count": null,
   "id": "19cea1b2-f7da-4366-8d30-30798a9413cc",
   "metadata": {},
   "outputs": [],
   "source": [
    "'This is a sample string.'.startswith('This')"
   ]
  },
  {
   "cell_type": "code",
   "execution_count": null,
   "id": "14568266-faf7-44ea-b78d-63d22974b6c2",
   "metadata": {},
   "outputs": [],
   "source": [
    "' This is a sample string.'.startswith(' This')"
   ]
  },
  {
   "cell_type": "code",
   "execution_count": null,
   "id": "00adcfc8-30a2-4cf6-8e95-3c0dcdcf58ba",
   "metadata": {},
   "outputs": [],
   "source": [
    "s3 = 'This is a sample string.'\n",
    "s3.startswith('This') or s3.startswith(' This')"
   ]
  },
  {
   "cell_type": "code",
   "execution_count": null,
   "id": "31085894-178b-4c1e-ae01-a018ed44b9ff",
   "metadata": {},
   "outputs": [],
   "source": [
    "s3 = ' This is a sample string.'\n",
    "s3.startswith('This') or s3.startswith(' This')"
   ]
  },
  {
   "cell_type": "code",
   "execution_count": null,
   "id": "73885964-74fa-43af-9a70-734d275b710b",
   "metadata": {},
   "outputs": [],
   "source": [
    "s4 = 'My name \\t is \\t Vijaya Nandini'\n",
    "print(s4)"
   ]
  },
  {
   "cell_type": "code",
   "execution_count": null,
   "id": "4c326dbd-08a8-48a0-94e4-dc24d11a5549",
   "metadata": {},
   "outputs": [],
   "source": [
    "print(s4.expandtabs(20))"
   ]
  },
  {
   "cell_type": "code",
   "execution_count": 91,
   "id": "4104326f-ff54-4ced-a87b-6cd9e004d173",
   "metadata": {},
   "outputs": [],
   "source": [
    "# s3.casefold\n",
    "# s3.translate"
   ]
  },
  {
   "cell_type": "code",
   "execution_count": null,
   "id": "9fc6f4d9-4c59-4724-a3f3-d58ede666f7d",
   "metadata": {},
   "outputs": [],
   "source": [
    "# https://telugu.changathi.com/\n",
    "s5 = 'విజయ నందిని'\n",
    "print(s5)"
   ]
  },
  {
   "cell_type": "code",
   "execution_count": null,
   "id": "94c8d9c2",
   "metadata": {},
   "outputs": [],
   "source": [
    "s5.casefold()"
   ]
  },
  {
   "cell_type": "code",
   "execution_count": null,
   "id": "62504d86-d450-46ea-83e2-4fb50da4b4de",
   "metadata": {},
   "outputs": [],
   "source": [
    "\"Straße\".casefold()"
   ]
  },
  {
   "cell_type": "code",
   "execution_count": 96,
   "id": "16ce5fd3-7937-4b06-b422-8547398a48e1",
   "metadata": {},
   "outputs": [],
   "source": [
    "# \"Straße\".translate() -- ??"
   ]
  },
  {
   "cell_type": "code",
   "execution_count": null,
   "id": "78934878-a2af-47aa-b834-ec90c3a97672",
   "metadata": {},
   "outputs": [],
   "source": [
    "'nandini@datavalley.ai'.casefold()"
   ]
  },
  {
   "cell_type": "code",
   "execution_count": null,
   "id": "1e166f9b-f747-4ea4-813a-729e3141a0d4",
   "metadata": {},
   "outputs": [],
   "source": [
    "s1.center()"
   ]
  },
  {
   "cell_type": "code",
   "execution_count": null,
   "id": "b64e95a1-cdd0-4b66-9ca5-cf9d1d73a765",
   "metadata": {},
   "outputs": [],
   "source": [
    "len(s1)"
   ]
  },
  {
   "cell_type": "code",
   "execution_count": null,
   "id": "08fc051a-540c-4bc7-8723-50097071a66a",
   "metadata": {},
   "outputs": [],
   "source": [
    "s1.center(50)"
   ]
  },
  {
   "cell_type": "code",
   "execution_count": null,
   "id": "2454464c-029d-4ef4-aa77-3931257753eb",
   "metadata": {},
   "outputs": [],
   "source": [
    "s1.center(50, '.')"
   ]
  },
  {
   "cell_type": "code",
   "execution_count": null,
   "id": "38384c2d-73a4-41b4-ad44-c31f5f522aa7",
   "metadata": {},
   "outputs": [],
   "source": [
    "mobile_num = '12'\n",
    "print(mobile_num)\n",
    "print(len(mobile_num))"
   ]
  },
  {
   "cell_type": "code",
   "execution_count": null,
   "id": "abc33840-3390-4815-8d7a-a11e054fd91a",
   "metadata": {},
   "outputs": [],
   "source": [
    "mobile_num = input()\n",
    "if len(mobile_num) < 10:\n",
    "    mobile_num = mobile_num.center(10, '0')\n",
    "print(mobile_num)"
   ]
  },
  {
   "cell_type": "code",
   "execution_count": null,
   "id": "b24dcf20-f1ea-4837-ad13-71ccf024aaf7",
   "metadata": {},
   "outputs": [],
   "source": [
    "''.center(10, '0')"
   ]
  },
  {
   "cell_type": "code",
   "execution_count": null,
   "id": "28257cf6-52f2-497b-9423-dedbae4b8911",
   "metadata": {},
   "outputs": [],
   "source": []
  },
  {
   "cell_type": "code",
   "execution_count": null,
   "id": "3cfda2be",
   "metadata": {},
   "outputs": [],
   "source": []
  }
 ],
 "metadata": {
  "kernelspec": {
   "display_name": "Python 3 (ipykernel)",
   "language": "python",
   "name": "python3"
  },
  "language_info": {
   "codemirror_mode": {
    "name": "ipython",
    "version": 3
   },
   "file_extension": ".py",
   "mimetype": "text/x-python",
   "name": "python",
   "nbconvert_exporter": "python",
   "pygments_lexer": "ipython3",
   "version": "3.12.4"
  }
 },
 "nbformat": 4,
 "nbformat_minor": 5
}
