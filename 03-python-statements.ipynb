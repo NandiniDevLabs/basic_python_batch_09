{
 "cells": [
  {
   "cell_type": "markdown",
   "id": "16a6ece0",
   "metadata": {},
   "source": [
    "## Python Statements or Control flow\n",
    "- We often only want certain code to execute when a particular condition has been met.\n",
    "- For example, if  my dog is hungry (some condition), then I will feed the dog (some action).\n",
    "- To control this flow of logic we use some keywords:\n",
    "    - if\n",
    "    - elif \n",
    "    - else\n",
    "- Control Flow syntax makes use of colons and indentation (whitespace).\n",
    "- This indentation system is crucial to Python and is what sets it apart from other programming languages.\n"
   ]
  },
  {
   "cell_type": "code",
   "execution_count": 1,
   "id": "d7834e76",
   "metadata": {},
   "outputs": [],
   "source": [
    "a = 10\n",
    "b = 5"
   ]
  },
  {
   "cell_type": "code",
   "execution_count": 3,
   "id": "91e10dfd",
   "metadata": {},
   "outputs": [
    {
     "data": {
      "text/plain": [
       "True"
      ]
     },
     "execution_count": 3,
     "metadata": {},
     "output_type": "execute_result"
    }
   ],
   "source": [
    "a>b"
   ]
  },
  {
   "cell_type": "code",
   "execution_count": 2,
   "id": "cad7ccdc",
   "metadata": {},
   "outputs": [
    {
     "name": "stdout",
     "output_type": "stream",
     "text": [
      "a is maximum\n",
      "This is out of if block\n"
     ]
    }
   ],
   "source": [
    "if a > b:\n",
    "    print(\"a is maximum\")\n",
    "print(\"This is out of if block\")"
   ]
  },
  {
   "cell_type": "code",
   "execution_count": 4,
   "id": "1cb26f18",
   "metadata": {},
   "outputs": [
    {
     "data": {
      "text/plain": [
       "False"
      ]
     },
     "execution_count": 4,
     "metadata": {},
     "output_type": "execute_result"
    }
   ],
   "source": [
    "a < b"
   ]
  },
  {
   "cell_type": "code",
   "execution_count": 6,
   "id": "ed48c3a0",
   "metadata": {},
   "outputs": [
    {
     "name": "stdout",
     "output_type": "stream",
     "text": [
      "This is out of if block\n"
     ]
    }
   ],
   "source": [
    "if a < b:\n",
    "    print(\"a is minimum\")\n",
    "    print(a)\n",
    "print(\"This is out of if block\")"
   ]
  },
  {
   "cell_type": "code",
   "execution_count": null,
   "id": "1a270e52",
   "metadata": {},
   "outputs": [],
   "source": []
  }
 ],
 "metadata": {
  "kernelspec": {
   "display_name": "Python 3",
   "language": "python",
   "name": "python3"
  },
  "language_info": {
   "codemirror_mode": {
    "name": "ipython",
    "version": 3
   },
   "file_extension": ".py",
   "mimetype": "text/x-python",
   "name": "python",
   "nbconvert_exporter": "python",
   "pygments_lexer": "ipython3",
   "version": "3.11.9"
  }
 },
 "nbformat": 4,
 "nbformat_minor": 5
}
