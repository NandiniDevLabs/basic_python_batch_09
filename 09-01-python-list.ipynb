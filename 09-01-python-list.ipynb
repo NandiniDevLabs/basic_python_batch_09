{
 "cells": [
  {
   "cell_type": "markdown",
   "id": "5270926b-1bfc-4e44-b771-b9fadca42e90",
   "metadata": {},
   "source": [
    "# Python Data Structures\n",
    "1. List\n",
    "2. Tuple\n",
    "3. Set\n",
    "4. Dictionary"
   ]
  },
  {
   "cell_type": "code",
   "execution_count": 2,
   "id": "1a526f49-19f2-44cb-98d5-2671131be14d",
   "metadata": {},
   "outputs": [],
   "source": [
    "a = 10\n",
    "b = 12"
   ]
  },
  {
   "cell_type": "code",
   "execution_count": null,
   "id": "077b08f9-dbb2-427b-b5b7-a09a62342049",
   "metadata": {},
   "outputs": [],
   "source": [
    "print(a)\n",
    "print(b)"
   ]
  },
  {
   "cell_type": "code",
   "execution_count": 6,
   "id": "de6fa3fc-d58e-4eca-a9c7-fe56adaa1121",
   "metadata": {},
   "outputs": [],
   "source": [
    "a = True\n",
    "b = 'Hi'"
   ]
  },
  {
   "cell_type": "markdown",
   "id": "6fe32379",
   "metadata": {},
   "source": [
    "# List\n",
    "- Lists are ordered sequences that can hold a variety of object types. \n",
    "- They use [] brackets and commas to separate objects in the list.\n",
    "    - [1,2,3,4,5] \n",
    "- Lists support indexing and slicing. Lists can be nested and also have a variety of useful methods that can be called off of them."
   ]
  },
  {
   "cell_type": "code",
   "execution_count": 20,
   "id": "b1142897-6a5f-4186-8b7f-3c31c9a4af3b",
   "metadata": {},
   "outputs": [],
   "source": [
    "my_list = [1, 2, 3, 4, 5]"
   ]
  },
  {
   "cell_type": "code",
   "execution_count": null,
   "id": "a1f11107-5349-47a7-9a21-25e35787dcf0",
   "metadata": {},
   "outputs": [],
   "source": [
    "my_list"
   ]
  },
  {
   "cell_type": "code",
   "execution_count": null,
   "id": "a9fa9715-fc28-4418-9942-d2094c3883c6",
   "metadata": {},
   "outputs": [],
   "source": [
    "my_list[0]"
   ]
  },
  {
   "cell_type": "code",
   "execution_count": null,
   "id": "19750c18-dba7-4bad-ba67-bd9885cf927b",
   "metadata": {},
   "outputs": [],
   "source": [
    "my_list[4]"
   ]
  },
  {
   "cell_type": "code",
   "execution_count": null,
   "id": "2f8ea2b9-4af7-47ad-99d3-6876939911e7",
   "metadata": {},
   "outputs": [],
   "source": [
    "my_list[5]"
   ]
  },
  {
   "cell_type": "code",
   "execution_count": null,
   "id": "7e550a2f-3e78-4244-9329-ad11bcb6a9bb",
   "metadata": {},
   "outputs": [],
   "source": [
    "my_list[-1]"
   ]
  },
  {
   "cell_type": "code",
   "execution_count": null,
   "id": "0883c690-21cf-486d-ab09-6578eacfccc3",
   "metadata": {},
   "outputs": [],
   "source": [
    "my_list[-5]"
   ]
  },
  {
   "cell_type": "code",
   "execution_count": null,
   "id": "90a9faaa-75ea-4628-b144-73ce19c818b4",
   "metadata": {},
   "outputs": [],
   "source": [
    "my_list[-6]"
   ]
  },
  {
   "cell_type": "code",
   "execution_count": 40,
   "id": "91502f80-1ef1-412d-9454-170cc4ae28a0",
   "metadata": {},
   "outputs": [],
   "source": [
    "new_list = ['A','B','C','D']"
   ]
  },
  {
   "cell_type": "code",
   "execution_count": null,
   "id": "f9c0f9de-de5b-4ba9-a54c-1979adf01493",
   "metadata": {},
   "outputs": [],
   "source": [
    "new_list"
   ]
  },
  {
   "cell_type": "code",
   "execution_count": null,
   "id": "d87bd92e-5b58-44f3-ba81-bd5a0b2477cf",
   "metadata": {},
   "outputs": [],
   "source": [
    "type(new_list[0])"
   ]
  },
  {
   "cell_type": "code",
   "execution_count": null,
   "id": "64cf1df0-54ee-46b2-b0b7-c2876e62f0d1",
   "metadata": {},
   "outputs": [],
   "source": [
    "type(a)"
   ]
  },
  {
   "cell_type": "code",
   "execution_count": null,
   "id": "92f7ac64-11fd-4c98-97f3-64416b1f2db7",
   "metadata": {},
   "outputs": [],
   "source": [
    "len(new_list) # To get the number of items in list"
   ]
  },
  {
   "cell_type": "code",
   "execution_count": null,
   "id": "2227e2c7-a972-4756-8f69-b5d81baff1f4",
   "metadata": {},
   "outputs": [],
   "source": [
    "len(my_list)"
   ]
  },
  {
   "cell_type": "code",
   "execution_count": null,
   "id": "f3900429-3821-4015-861d-556f6651c198",
   "metadata": {},
   "outputs": [],
   "source": [
    "print(list(range(50)))\n",
    "# print(\"Range function given numbers from 0 to given number-1\")"
   ]
  },
  {
   "cell_type": "code",
   "execution_count": null,
   "id": "43dbf888-1363-427c-a983-8bbcebe2cfea",
   "metadata": {},
   "outputs": [],
   "source": [
    "list(range(20))"
   ]
  },
  {
   "cell_type": "code",
   "execution_count": null,
   "id": "59589087-b33e-4233-bdfc-e6b58757edbd",
   "metadata": {},
   "outputs": [],
   "source": [
    "my_list"
   ]
  },
  {
   "cell_type": "code",
   "execution_count": null,
   "id": "dfac620d-90f4-41a4-af6c-e38375fcd009",
   "metadata": {},
   "outputs": [],
   "source": [
    "len(my_list)"
   ]
  },
  {
   "cell_type": "code",
   "execution_count": 90,
   "id": "518d035d-efc0-48ae-9871-1aac45e755f4",
   "metadata": {},
   "outputs": [],
   "source": [
    "my_list.append(6)"
   ]
  },
  {
   "cell_type": "code",
   "execution_count": null,
   "id": "6aacfdb8-bbe8-4e6d-a88d-6ed85a33debd",
   "metadata": {},
   "outputs": [],
   "source": [
    "my_list"
   ]
  },
  {
   "cell_type": "code",
   "execution_count": 1,
   "id": "e610bfa9-820b-4958-9aba-179983154271",
   "metadata": {},
   "outputs": [],
   "source": [
    "# my_list.*?\n",
    "# my_list.append -- \n",
    "# my_list.clear --\n",
    "# my_list.copy -->\n",
    "# my_list.count --\n",
    "# my_list.extend --\n",
    "# my_list.index --\n",
    "# my_list.insert --\n",
    "# my_list.pop --\n",
    "# my_list.remove --\n",
    "# my_list.reverse --\n",
    "# my_list.sort --"
   ]
  },
  {
   "cell_type": "code",
   "execution_count": null,
   "id": "1194a1bd-81ff-4b3d-b3ac-169f49959b85",
   "metadata": {},
   "outputs": [],
   "source": [
    "my_list.append?"
   ]
  },
  {
   "cell_type": "code",
   "execution_count": null,
   "id": "fca7dc7a-7d04-49f7-b5e2-a763fbe6931e",
   "metadata": {},
   "outputs": [],
   "source": [
    "my_list.pop?"
   ]
  },
  {
   "cell_type": "code",
   "execution_count": null,
   "id": "bf49a9ac-bca4-4dd8-af57-639bd6201dab",
   "metadata": {},
   "outputs": [],
   "source": [
    "my_list.pop()"
   ]
  },
  {
   "cell_type": "code",
   "execution_count": null,
   "id": "6b711d8e-3619-4f27-93b7-06a5b1a2d0cf",
   "metadata": {},
   "outputs": [],
   "source": [
    "my_list"
   ]
  },
  {
   "cell_type": "code",
   "execution_count": null,
   "id": "1a12c570-5c7d-4ed5-89cb-f6c35d6862c8",
   "metadata": {},
   "outputs": [],
   "source": [
    "my_list.pop(1)"
   ]
  },
  {
   "cell_type": "code",
   "execution_count": null,
   "id": "0d32ce89-5ad4-4c6c-9517-eb6f77179840",
   "metadata": {},
   "outputs": [],
   "source": [
    "my_list"
   ]
  },
  {
   "cell_type": "code",
   "execution_count": null,
   "id": "192038a2-7774-4529-9e19-6b37f89ac372",
   "metadata": {},
   "outputs": [],
   "source": [
    "my_list.pop(-2)"
   ]
  },
  {
   "cell_type": "code",
   "execution_count": null,
   "id": "e024817f-0376-4e0c-9d3a-1ca34dcfc231",
   "metadata": {},
   "outputs": [],
   "source": [
    "my_list"
   ]
  },
  {
   "cell_type": "code",
   "execution_count": null,
   "id": "4d354959-e7f7-4fa6-9780-84861f03ab26",
   "metadata": {},
   "outputs": [],
   "source": [
    "my_list.clear?"
   ]
  },
  {
   "cell_type": "code",
   "execution_count": 122,
   "id": "789a25f9-d6dd-4b5a-aff3-e2f0f2a343e3",
   "metadata": {},
   "outputs": [],
   "source": [
    "my_list.clear()"
   ]
  },
  {
   "cell_type": "code",
   "execution_count": null,
   "id": "f1312ec2-edc0-43da-8e3a-2a0b57bd9b82",
   "metadata": {},
   "outputs": [],
   "source": [
    "my_list # Empty list"
   ]
  },
  {
   "cell_type": "code",
   "execution_count": null,
   "id": "223ac1c5-2a63-4d21-aeb9-c2be9b46fd11",
   "metadata": {},
   "outputs": [],
   "source": [
    "len(my_list)"
   ]
  },
  {
   "cell_type": "code",
   "execution_count": 130,
   "id": "a19a7b8c-2a44-4882-8c6d-dcba4236c1fc",
   "metadata": {},
   "outputs": [],
   "source": [
    "my_list = list(range(15))"
   ]
  },
  {
   "cell_type": "code",
   "execution_count": null,
   "id": "99299828-dc2a-4215-883d-6bcd03b4d5a2",
   "metadata": {},
   "outputs": [],
   "source": [
    "my_list # Already in Ascending order"
   ]
  },
  {
   "cell_type": "code",
   "execution_count": null,
   "id": "1fbdef44-a3ec-4faa-ab11-331d9f0e6afc",
   "metadata": {},
   "outputs": [],
   "source": [
    "my_list.sort?"
   ]
  },
  {
   "cell_type": "code",
   "execution_count": 140,
   "id": "ad118a79-43bb-4e22-9ee5-6577c12048ea",
   "metadata": {},
   "outputs": [],
   "source": [
    "my_list.sort()"
   ]
  },
  {
   "cell_type": "code",
   "execution_count": null,
   "id": "f12d161d-1116-4329-878d-85d02d239725",
   "metadata": {},
   "outputs": [],
   "source": [
    "my_list"
   ]
  },
  {
   "cell_type": "code",
   "execution_count": 144,
   "id": "5ae304ab-3914-4267-bff9-4e30489061dc",
   "metadata": {},
   "outputs": [],
   "source": [
    "my_list.sort(reverse=True)"
   ]
  },
  {
   "cell_type": "code",
   "execution_count": null,
   "id": "d78d054c-b1b4-4089-bf32-f88fd6879c87",
   "metadata": {},
   "outputs": [],
   "source": [
    "my_list"
   ]
  },
  {
   "cell_type": "code",
   "execution_count": null,
   "id": "bf753433-f0c3-4ba1-9065-493cc2948546",
   "metadata": {},
   "outputs": [],
   "source": [
    "my_list[6]"
   ]
  },
  {
   "cell_type": "code",
   "execution_count": 152,
   "id": "93c38474-d7d1-4c6b-a98b-35c275fa3192",
   "metadata": {},
   "outputs": [],
   "source": [
    "my_list[6] = 500"
   ]
  },
  {
   "cell_type": "code",
   "execution_count": null,
   "id": "544dac56-986f-4660-aa10-baa2f0644323",
   "metadata": {},
   "outputs": [],
   "source": [
    "my_list"
   ]
  },
  {
   "cell_type": "code",
   "execution_count": 164,
   "id": "36ea18a3-1be5-433a-8f67-6d5ffc8af194",
   "metadata": {},
   "outputs": [],
   "source": [
    "my_list.sort() # Ascending order"
   ]
  },
  {
   "cell_type": "code",
   "execution_count": null,
   "id": "2feefe48-5e30-4888-99f9-1b48ad07c3b5",
   "metadata": {},
   "outputs": [],
   "source": [
    "my_list"
   ]
  },
  {
   "cell_type": "code",
   "execution_count": 182,
   "id": "7aaab208-dfa4-4d48-90d2-2e765d250ac9",
   "metadata": {},
   "outputs": [],
   "source": [
    "# List items value can be changed -- List is mutable\n",
    "my_list[7] = 1200\n",
    "my_list[5] = 800"
   ]
  },
  {
   "cell_type": "code",
   "execution_count": null,
   "id": "f2603f28-46a9-4e9c-bdd4-fc807bf51af0",
   "metadata": {},
   "outputs": [],
   "source": [
    "my_list"
   ]
  },
  {
   "cell_type": "code",
   "execution_count": 178,
   "id": "09e395d9-39d2-4d18-8d9c-e312aaa13a01",
   "metadata": {},
   "outputs": [],
   "source": [
    "my_list.sort(reverse=True) # Descending order"
   ]
  },
  {
   "cell_type": "code",
   "execution_count": null,
   "id": "77ae1455-9ce8-42d1-9592-b6891111e411",
   "metadata": {},
   "outputs": [],
   "source": [
    "my_list"
   ]
  },
  {
   "cell_type": "markdown",
   "id": "7e17a997-c9f7-41aa-995a-e090ab972212",
   "metadata": {},
   "source": [
    "## Assignment\n",
    "1. Create a list with items: -10, 3, 8, 12, -9, 4\n",
    "2. Sort this list in ascending order\n",
    "3. Calculate square root of each item value \n",
    "4. Print final list - each item value should be integer"
   ]
  },
  {
   "cell_type": "code",
   "execution_count": null,
   "id": "a50ffecd-9cc2-4c25-bff4-f6e4c6e48571",
   "metadata": {},
   "outputs": [],
   "source": []
  }
 ],
 "metadata": {
  "kernelspec": {
   "display_name": "Python 3 (ipykernel)",
   "language": "python",
   "name": "python3"
  },
  "language_info": {
   "codemirror_mode": {
    "name": "ipython",
    "version": 3
   },
   "file_extension": ".py",
   "mimetype": "text/x-python",
   "name": "python",
   "nbconvert_exporter": "python",
   "pygments_lexer": "ipython3",
   "version": "3.12.4"
  }
 },
 "nbformat": 4,
 "nbformat_minor": 5
}
