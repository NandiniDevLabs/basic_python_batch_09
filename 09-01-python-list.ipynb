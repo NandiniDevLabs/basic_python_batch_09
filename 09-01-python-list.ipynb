{
 "cells": [
  {
   "cell_type": "markdown",
   "id": "5270926b-1bfc-4e44-b771-b9fadca42e90",
   "metadata": {},
   "source": [
    "# Python Data Structures\n",
    "1. List\n",
    "2. Tuple\n",
    "3. Set\n",
    "4. Dictionary"
   ]
  },
  {
   "cell_type": "code",
   "execution_count": 11,
   "id": "1a526f49-19f2-44cb-98d5-2671131be14d",
   "metadata": {},
   "outputs": [],
   "source": [
    "a = 10  # Integer\n",
    "b = 12.2  # Float"
   ]
  },
  {
   "cell_type": "code",
   "execution_count": 13,
   "id": "077b08f9-dbb2-427b-b5b7-a09a62342049",
   "metadata": {},
   "outputs": [
    {
     "name": "stdout",
     "output_type": "stream",
     "text": [
      "10\n",
      "12.2\n"
     ]
    }
   ],
   "source": [
    "print(a)\n",
    "print(b)"
   ]
  },
  {
   "cell_type": "code",
   "execution_count": 15,
   "id": "de6fa3fc-d58e-4eca-a9c7-fe56adaa1121",
   "metadata": {},
   "outputs": [],
   "source": [
    "a = True  # Boolean\n",
    "b = 'Hi'  # String"
   ]
  },
  {
   "cell_type": "code",
   "execution_count": 17,
   "id": "d039611f-567c-4faa-8e15-8a25bd12b3ab",
   "metadata": {},
   "outputs": [
    {
     "name": "stdout",
     "output_type": "stream",
     "text": [
      "True\n",
      "Hi\n"
     ]
    }
   ],
   "source": [
    "print(a)\n",
    "print(b)"
   ]
  },
  {
   "cell_type": "markdown",
   "id": "6fe32379",
   "metadata": {},
   "source": [
    "# List\n",
    "- Lists are ordered sequences that can hold a variety of object types. \n",
    "- They use [] brackets and commas to separate objects in the list.\n",
    "    - [1,2,3,4,5] \n",
    "- Lists support indexing and slicing. Lists can be nested and also have a variety of useful methods that can be called off of them."
   ]
  },
  {
   "cell_type": "code",
   "execution_count": 19,
   "id": "b1142897-6a5f-4186-8b7f-3c31c9a4af3b",
   "metadata": {},
   "outputs": [],
   "source": [
    "my_list = [1, 2, 3, 4, 5]"
   ]
  },
  {
   "cell_type": "code",
   "execution_count": 21,
   "id": "a1f11107-5349-47a7-9a21-25e35787dcf0",
   "metadata": {},
   "outputs": [
    {
     "data": {
      "text/plain": [
       "[1, 2, 3, 4, 5]"
      ]
     },
     "execution_count": 21,
     "metadata": {},
     "output_type": "execute_result"
    }
   ],
   "source": [
    "my_list"
   ]
  },
  {
   "cell_type": "code",
   "execution_count": 25,
   "id": "72a92b42-e29b-45e8-9e7f-d8217dc2fadc",
   "metadata": {},
   "outputs": [
    {
     "data": {
      "text/plain": [
       "list"
      ]
     },
     "execution_count": 25,
     "metadata": {},
     "output_type": "execute_result"
    }
   ],
   "source": [
    "type(my_list)"
   ]
  },
  {
   "cell_type": "code",
   "execution_count": 27,
   "id": "a9fa9715-fc28-4418-9942-d2094c3883c6",
   "metadata": {},
   "outputs": [
    {
     "data": {
      "text/plain": [
       "1"
      ]
     },
     "execution_count": 27,
     "metadata": {},
     "output_type": "execute_result"
    }
   ],
   "source": [
    "my_list[0]"
   ]
  },
  {
   "cell_type": "code",
   "execution_count": 29,
   "id": "19750c18-dba7-4bad-ba67-bd9885cf927b",
   "metadata": {},
   "outputs": [
    {
     "data": {
      "text/plain": [
       "5"
      ]
     },
     "execution_count": 29,
     "metadata": {},
     "output_type": "execute_result"
    }
   ],
   "source": [
    "my_list[4]"
   ]
  },
  {
   "cell_type": "code",
   "execution_count": 31,
   "id": "2f8ea2b9-4af7-47ad-99d3-6876939911e7",
   "metadata": {},
   "outputs": [
    {
     "ename": "IndexError",
     "evalue": "list index out of range",
     "output_type": "error",
     "traceback": [
      "\u001b[1;31m---------------------------------------------------------------------------\u001b[0m",
      "\u001b[1;31mIndexError\u001b[0m                                Traceback (most recent call last)",
      "Cell \u001b[1;32mIn[31], line 1\u001b[0m\n\u001b[1;32m----> 1\u001b[0m my_list[\u001b[38;5;241m5\u001b[39m]\n",
      "\u001b[1;31mIndexError\u001b[0m: list index out of range"
     ]
    }
   ],
   "source": [
    "my_list[5]"
   ]
  },
  {
   "cell_type": "code",
   "execution_count": 33,
   "id": "7e550a2f-3e78-4244-9329-ad11bcb6a9bb",
   "metadata": {},
   "outputs": [
    {
     "data": {
      "text/plain": [
       "5"
      ]
     },
     "execution_count": 33,
     "metadata": {},
     "output_type": "execute_result"
    }
   ],
   "source": [
    "my_list[-1]"
   ]
  },
  {
   "cell_type": "code",
   "execution_count": 35,
   "id": "0883c690-21cf-486d-ab09-6578eacfccc3",
   "metadata": {},
   "outputs": [
    {
     "data": {
      "text/plain": [
       "1"
      ]
     },
     "execution_count": 35,
     "metadata": {},
     "output_type": "execute_result"
    }
   ],
   "source": [
    "my_list[-5]"
   ]
  },
  {
   "cell_type": "code",
   "execution_count": 37,
   "id": "90a9faaa-75ea-4628-b144-73ce19c818b4",
   "metadata": {},
   "outputs": [
    {
     "ename": "IndexError",
     "evalue": "list index out of range",
     "output_type": "error",
     "traceback": [
      "\u001b[1;31m---------------------------------------------------------------------------\u001b[0m",
      "\u001b[1;31mIndexError\u001b[0m                                Traceback (most recent call last)",
      "Cell \u001b[1;32mIn[37], line 1\u001b[0m\n\u001b[1;32m----> 1\u001b[0m my_list[\u001b[38;5;241m-\u001b[39m\u001b[38;5;241m6\u001b[39m]\n",
      "\u001b[1;31mIndexError\u001b[0m: list index out of range"
     ]
    }
   ],
   "source": [
    "my_list[-6]"
   ]
  },
  {
   "cell_type": "code",
   "execution_count": 53,
   "id": "91502f80-1ef1-412d-9454-170cc4ae28a0",
   "metadata": {},
   "outputs": [],
   "source": [
    "new_list = ['A','B','C','D']  # list of strings"
   ]
  },
  {
   "cell_type": "code",
   "execution_count": 41,
   "id": "f9c0f9de-de5b-4ba9-a54c-1979adf01493",
   "metadata": {},
   "outputs": [
    {
     "data": {
      "text/plain": [
       "['A', 'B', 'C', 'D']"
      ]
     },
     "execution_count": 41,
     "metadata": {},
     "output_type": "execute_result"
    }
   ],
   "source": [
    "new_list"
   ]
  },
  {
   "cell_type": "code",
   "execution_count": 43,
   "id": "d30362f6-a1e7-4c23-93f7-61d4b876d3d9",
   "metadata": {},
   "outputs": [
    {
     "data": {
      "text/plain": [
       "list"
      ]
     },
     "execution_count": 43,
     "metadata": {},
     "output_type": "execute_result"
    }
   ],
   "source": [
    "type(new_list)"
   ]
  },
  {
   "cell_type": "code",
   "execution_count": 45,
   "id": "0ba0badd-feee-47f1-9101-a65cc72df92a",
   "metadata": {},
   "outputs": [
    {
     "data": {
      "text/plain": [
       "'A'"
      ]
     },
     "execution_count": 45,
     "metadata": {},
     "output_type": "execute_result"
    }
   ],
   "source": [
    "new_list[0]"
   ]
  },
  {
   "cell_type": "code",
   "execution_count": 47,
   "id": "d87bd92e-5b58-44f3-ba81-bd5a0b2477cf",
   "metadata": {},
   "outputs": [
    {
     "data": {
      "text/plain": [
       "str"
      ]
     },
     "execution_count": 47,
     "metadata": {},
     "output_type": "execute_result"
    }
   ],
   "source": [
    "type(new_list[0])"
   ]
  },
  {
   "cell_type": "code",
   "execution_count": 49,
   "id": "92f7ac64-11fd-4c98-97f3-64416b1f2db7",
   "metadata": {},
   "outputs": [
    {
     "data": {
      "text/plain": [
       "4"
      ]
     },
     "execution_count": 49,
     "metadata": {},
     "output_type": "execute_result"
    }
   ],
   "source": [
    "len(new_list) # To get the number of items in list"
   ]
  },
  {
   "cell_type": "code",
   "execution_count": 51,
   "id": "2227e2c7-a972-4756-8f69-b5d81baff1f4",
   "metadata": {},
   "outputs": [
    {
     "data": {
      "text/plain": [
       "5"
      ]
     },
     "execution_count": 51,
     "metadata": {},
     "output_type": "execute_result"
    }
   ],
   "source": [
    "len(my_list)"
   ]
  },
  {
   "cell_type": "code",
   "execution_count": 65,
   "id": "dadde0d6-ccb0-4bc1-a92f-21bed1cde49e",
   "metadata": {},
   "outputs": [
    {
     "data": {
      "text/plain": [
       "[0, 1, 2, 3, 4]"
      ]
     },
     "execution_count": 65,
     "metadata": {},
     "output_type": "execute_result"
    }
   ],
   "source": [
    "list(range(5))"
   ]
  },
  {
   "cell_type": "code",
   "execution_count": 75,
   "id": "f3900429-3821-4015-861d-556f6651c198",
   "metadata": {},
   "outputs": [
    {
     "name": "stdout",
     "output_type": "stream",
     "text": [
      "[0, 1, 2, 3, 4, 5, 6, 7, 8, 9, 10, 11, 12, 13, 14, 15, 16, 17, 18, 19, 20, 21, 22, 23, 24, 25, 26, 27, 28, 29, 30, 31, 32, 33, 34, 35, 36, 37, 38, 39, 40, 41, 42, 43, 44, 45, 46, 47, 48, 49]\n"
     ]
    }
   ],
   "source": [
    "print(list(range(50)))  # CREATES LIST WITH RANGE OF NUMBERS: 0 T0 49\n",
    "# print(\"Range function given numbers from 0 to given_number-1\")"
   ]
  },
  {
   "cell_type": "code",
   "execution_count": 73,
   "id": "43dbf888-1363-427c-a983-8bbcebe2cfea",
   "metadata": {},
   "outputs": [
    {
     "data": {
      "text/plain": [
       "[0, 1, 2, 3, 4, 5, 6, 7, 8, 9, 10, 11, 12, 13, 14, 15, 16, 17, 18, 19]"
      ]
     },
     "execution_count": 73,
     "metadata": {},
     "output_type": "execute_result"
    }
   ],
   "source": [
    "list(range(20))"
   ]
  },
  {
   "cell_type": "code",
   "execution_count": 83,
   "id": "5e37e987-7287-42ab-8f27-6ab267413d58",
   "metadata": {},
   "outputs": [
    {
     "data": {
      "text/plain": [
       "\u001b[1;31mInit signature:\u001b[0m \u001b[0mrange\u001b[0m\u001b[1;33m(\u001b[0m\u001b[0mself\u001b[0m\u001b[1;33m,\u001b[0m \u001b[1;33m/\u001b[0m\u001b[1;33m,\u001b[0m \u001b[1;33m*\u001b[0m\u001b[0margs\u001b[0m\u001b[1;33m,\u001b[0m \u001b[1;33m**\u001b[0m\u001b[0mkwargs\u001b[0m\u001b[1;33m)\u001b[0m\u001b[1;33m\u001b[0m\u001b[1;33m\u001b[0m\u001b[0m\n",
       "\u001b[1;31mDocstring:\u001b[0m     \n",
       "range(stop) -> range object\n",
       "range(start, stop[, step]) -> range object\n",
       "\n",
       "Return an object that produces a sequence of integers from start (inclusive)\n",
       "to stop (exclusive) by step.  range(i, j) produces i, i+1, i+2, ..., j-1.\n",
       "start defaults to 0, and stop is omitted!  range(4) produces 0, 1, 2, 3.\n",
       "These are exactly the valid indices for a list of 4 elements.\n",
       "When step is given, it specifies the increment (or decrement).\n",
       "\u001b[1;31mType:\u001b[0m           type\n",
       "\u001b[1;31mSubclasses:\u001b[0m     "
      ]
     },
     "metadata": {},
     "output_type": "display_data"
    }
   ],
   "source": [
    "range?\n",
    "# help(range)"
   ]
  },
  {
   "cell_type": "code",
   "execution_count": 85,
   "id": "59589087-b33e-4233-bdfc-e6b58757edbd",
   "metadata": {},
   "outputs": [
    {
     "data": {
      "text/plain": [
       "[1, 2, 3, 4, 5]"
      ]
     },
     "execution_count": 85,
     "metadata": {},
     "output_type": "execute_result"
    }
   ],
   "source": [
    "my_list"
   ]
  },
  {
   "cell_type": "code",
   "execution_count": 87,
   "id": "dfac620d-90f4-41a4-af6c-e38375fcd009",
   "metadata": {},
   "outputs": [
    {
     "data": {
      "text/plain": [
       "5"
      ]
     },
     "execution_count": 87,
     "metadata": {},
     "output_type": "execute_result"
    }
   ],
   "source": [
    "len(my_list)"
   ]
  },
  {
   "cell_type": "code",
   "execution_count": 89,
   "id": "518d035d-efc0-48ae-9871-1aac45e755f4",
   "metadata": {},
   "outputs": [],
   "source": [
    "my_list.append(6)"
   ]
  },
  {
   "cell_type": "code",
   "execution_count": 91,
   "id": "6aacfdb8-bbe8-4e6d-a88d-6ed85a33debd",
   "metadata": {},
   "outputs": [
    {
     "data": {
      "text/plain": [
       "[1, 2, 3, 4, 5, 6]"
      ]
     },
     "execution_count": 91,
     "metadata": {},
     "output_type": "execute_result"
    }
   ],
   "source": [
    "my_list"
   ]
  },
  {
   "cell_type": "code",
   "execution_count": 101,
   "id": "1d8109bb-a7ac-4fc7-9df7-34589b2772f6",
   "metadata": {},
   "outputs": [],
   "source": [
    "# b.*?"
   ]
  },
  {
   "cell_type": "code",
   "execution_count": 5,
   "id": "e610bfa9-820b-4958-9aba-179983154271",
   "metadata": {},
   "outputs": [],
   "source": [
    "# my_list.*?\n",
    "\n",
    "# my_list.append --> to add single item at the ending \n",
    "# my_list.clear --> to empty list\n",
    "# my_list.copy --> to copy \n",
    "# my_list.count --> to count the number of times item is available in the list\n",
    "# my_list.extend -> to add multiple item at the ending\n",
    "# my_list.index --> to get the index of given item | Error when item is not in list\n",
    "# my_list.insert --> to add item at given index\n",
    "# my_list.pop --> to remove item from given index | default - removes last item\n",
    "# my_list.remove --> to remove first occurrence of given item\n",
    "# my_list.reverse --> to reverse list item\n",
    "# my_list.sort --> to sort in ascending or descending order | default - ascending"
   ]
  },
  {
   "cell_type": "code",
   "execution_count": 107,
   "id": "1194a1bd-81ff-4b3d-b3ac-169f49959b85",
   "metadata": {},
   "outputs": [
    {
     "data": {
      "text/plain": [
       "\u001b[1;31mSignature:\u001b[0m \u001b[0mmy_list\u001b[0m\u001b[1;33m.\u001b[0m\u001b[0mappend\u001b[0m\u001b[1;33m(\u001b[0m\u001b[0mobject\u001b[0m\u001b[1;33m,\u001b[0m \u001b[1;33m/\u001b[0m\u001b[1;33m)\u001b[0m\u001b[1;33m\u001b[0m\u001b[1;33m\u001b[0m\u001b[0m\n",
       "\u001b[1;31mDocstring:\u001b[0m Append object to the end of the list.\n",
       "\u001b[1;31mType:\u001b[0m      builtin_function_or_method"
      ]
     },
     "metadata": {},
     "output_type": "display_data"
    }
   ],
   "source": [
    "my_list.append??"
   ]
  },
  {
   "cell_type": "code",
   "execution_count": 109,
   "id": "fca7dc7a-7d04-49f7-b5e2-a763fbe6931e",
   "metadata": {},
   "outputs": [
    {
     "data": {
      "text/plain": [
       "\u001b[1;31mSignature:\u001b[0m \u001b[0mmy_list\u001b[0m\u001b[1;33m.\u001b[0m\u001b[0mpop\u001b[0m\u001b[1;33m(\u001b[0m\u001b[0mindex\u001b[0m\u001b[1;33m=\u001b[0m\u001b[1;33m-\u001b[0m\u001b[1;36m1\u001b[0m\u001b[1;33m,\u001b[0m \u001b[1;33m/\u001b[0m\u001b[1;33m)\u001b[0m\u001b[1;33m\u001b[0m\u001b[1;33m\u001b[0m\u001b[0m\n",
       "\u001b[1;31mDocstring:\u001b[0m\n",
       "Remove and return item at index (default last).\n",
       "\n",
       "Raises IndexError if list is empty or index is out of range.\n",
       "\u001b[1;31mType:\u001b[0m      builtin_function_or_method"
      ]
     },
     "metadata": {},
     "output_type": "display_data"
    }
   ],
   "source": [
    "my_list.pop?"
   ]
  },
  {
   "cell_type": "code",
   "execution_count": 111,
   "id": "bf49a9ac-bca4-4dd8-af57-639bd6201dab",
   "metadata": {},
   "outputs": [
    {
     "data": {
      "text/plain": [
       "6"
      ]
     },
     "execution_count": 111,
     "metadata": {},
     "output_type": "execute_result"
    }
   ],
   "source": [
    "my_list.pop()"
   ]
  },
  {
   "cell_type": "code",
   "execution_count": 113,
   "id": "6b711d8e-3619-4f27-93b7-06a5b1a2d0cf",
   "metadata": {},
   "outputs": [
    {
     "data": {
      "text/plain": [
       "[1, 2, 3, 4, 5]"
      ]
     },
     "execution_count": 113,
     "metadata": {},
     "output_type": "execute_result"
    }
   ],
   "source": [
    "my_list"
   ]
  },
  {
   "cell_type": "code",
   "execution_count": 115,
   "id": "c53a4271-de30-4c11-98dd-82e29e058057",
   "metadata": {},
   "outputs": [
    {
     "data": {
      "text/plain": [
       "5"
      ]
     },
     "execution_count": 115,
     "metadata": {},
     "output_type": "execute_result"
    }
   ],
   "source": [
    "my_list.pop()"
   ]
  },
  {
   "cell_type": "code",
   "execution_count": 119,
   "id": "526c99ab-bac4-4655-b9fc-13b183da7f75",
   "metadata": {},
   "outputs": [
    {
     "data": {
      "text/plain": [
       "[1, 2, 3, 4]"
      ]
     },
     "execution_count": 119,
     "metadata": {},
     "output_type": "execute_result"
    }
   ],
   "source": [
    "my_list"
   ]
  },
  {
   "cell_type": "code",
   "execution_count": 121,
   "id": "1a12c570-5c7d-4ed5-89cb-f6c35d6862c8",
   "metadata": {},
   "outputs": [
    {
     "data": {
      "text/plain": [
       "2"
      ]
     },
     "execution_count": 121,
     "metadata": {},
     "output_type": "execute_result"
    }
   ],
   "source": [
    "my_list.pop(1)"
   ]
  },
  {
   "cell_type": "code",
   "execution_count": 123,
   "id": "0d32ce89-5ad4-4c6c-9517-eb6f77179840",
   "metadata": {},
   "outputs": [
    {
     "data": {
      "text/plain": [
       "[1, 3, 4]"
      ]
     },
     "execution_count": 123,
     "metadata": {},
     "output_type": "execute_result"
    }
   ],
   "source": [
    "my_list"
   ]
  },
  {
   "cell_type": "code",
   "execution_count": 125,
   "id": "bbd8a4ff-d217-477c-9d10-0824a28645e4",
   "metadata": {},
   "outputs": [
    {
     "data": {
      "text/plain": [
       "3"
      ]
     },
     "execution_count": 125,
     "metadata": {},
     "output_type": "execute_result"
    }
   ],
   "source": [
    "my_list.pop(1)"
   ]
  },
  {
   "cell_type": "code",
   "execution_count": 127,
   "id": "dce2dd97-d26a-4bf4-b158-494679247f72",
   "metadata": {},
   "outputs": [
    {
     "data": {
      "text/plain": [
       "[1, 4]"
      ]
     },
     "execution_count": 127,
     "metadata": {},
     "output_type": "execute_result"
    }
   ],
   "source": [
    "my_list"
   ]
  },
  {
   "cell_type": "code",
   "execution_count": 129,
   "id": "192038a2-7774-4529-9e19-6b37f89ac372",
   "metadata": {},
   "outputs": [
    {
     "data": {
      "text/plain": [
       "1"
      ]
     },
     "execution_count": 129,
     "metadata": {},
     "output_type": "execute_result"
    }
   ],
   "source": [
    "my_list.pop(-2)"
   ]
  },
  {
   "cell_type": "code",
   "execution_count": 131,
   "id": "e024817f-0376-4e0c-9d3a-1ca34dcfc231",
   "metadata": {},
   "outputs": [
    {
     "data": {
      "text/plain": [
       "[4]"
      ]
     },
     "execution_count": 131,
     "metadata": {},
     "output_type": "execute_result"
    }
   ],
   "source": [
    "my_list"
   ]
  },
  {
   "cell_type": "code",
   "execution_count": 133,
   "id": "70d146e6-774e-4fab-a005-faa1be19ff99",
   "metadata": {},
   "outputs": [
    {
     "data": {
      "text/plain": [
       "4"
      ]
     },
     "execution_count": 133,
     "metadata": {},
     "output_type": "execute_result"
    }
   ],
   "source": [
    "my_list.pop(0)"
   ]
  },
  {
   "cell_type": "code",
   "execution_count": 137,
   "id": "5a7c0c46-793f-4b8a-8567-6e88fa58e8b6",
   "metadata": {},
   "outputs": [
    {
     "data": {
      "text/plain": [
       "[]"
      ]
     },
     "execution_count": 137,
     "metadata": {},
     "output_type": "execute_result"
    }
   ],
   "source": [
    "my_list # Empty list"
   ]
  },
  {
   "cell_type": "code",
   "execution_count": 147,
   "id": "3f07a621-3516-401c-83bd-e6e49d4401c4",
   "metadata": {},
   "outputs": [],
   "source": [
    "my_list = list(range(10))   #"
   ]
  },
  {
   "cell_type": "code",
   "execution_count": 149,
   "id": "3c8230d2-e196-4c02-a702-cdd3b0dfc1c5",
   "metadata": {},
   "outputs": [
    {
     "data": {
      "text/plain": [
       "[0, 1, 2, 3, 4, 5, 6, 7, 8, 9]"
      ]
     },
     "execution_count": 149,
     "metadata": {},
     "output_type": "execute_result"
    }
   ],
   "source": [
    "my_list"
   ]
  },
  {
   "cell_type": "code",
   "execution_count": 151,
   "id": "4d354959-e7f7-4fa6-9780-84861f03ab26",
   "metadata": {},
   "outputs": [
    {
     "data": {
      "text/plain": [
       "\u001b[1;31mSignature:\u001b[0m \u001b[0mmy_list\u001b[0m\u001b[1;33m.\u001b[0m\u001b[0mclear\u001b[0m\u001b[1;33m(\u001b[0m\u001b[1;33m)\u001b[0m\u001b[1;33m\u001b[0m\u001b[1;33m\u001b[0m\u001b[0m\n",
       "\u001b[1;31mDocstring:\u001b[0m Remove all items from list.\n",
       "\u001b[1;31mType:\u001b[0m      builtin_function_or_method"
      ]
     },
     "metadata": {},
     "output_type": "display_data"
    }
   ],
   "source": [
    "my_list.clear?"
   ]
  },
  {
   "cell_type": "code",
   "execution_count": 153,
   "id": "789a25f9-d6dd-4b5a-aff3-e2f0f2a343e3",
   "metadata": {},
   "outputs": [],
   "source": [
    "my_list.clear()"
   ]
  },
  {
   "cell_type": "code",
   "execution_count": 155,
   "id": "f1312ec2-edc0-43da-8e3a-2a0b57bd9b82",
   "metadata": {},
   "outputs": [
    {
     "data": {
      "text/plain": [
       "[]"
      ]
     },
     "execution_count": 155,
     "metadata": {},
     "output_type": "execute_result"
    }
   ],
   "source": [
    "my_list # Empty list"
   ]
  },
  {
   "cell_type": "code",
   "execution_count": 157,
   "id": "223ac1c5-2a63-4d21-aeb9-c2be9b46fd11",
   "metadata": {},
   "outputs": [
    {
     "data": {
      "text/plain": [
       "0"
      ]
     },
     "execution_count": 157,
     "metadata": {},
     "output_type": "execute_result"
    }
   ],
   "source": [
    "len(my_list)"
   ]
  },
  {
   "cell_type": "code",
   "execution_count": 159,
   "id": "a19a7b8c-2a44-4882-8c6d-dcba4236c1fc",
   "metadata": {},
   "outputs": [],
   "source": [
    "my_list = list(range(15))"
   ]
  },
  {
   "cell_type": "code",
   "execution_count": 161,
   "id": "99299828-dc2a-4215-883d-6bcd03b4d5a2",
   "metadata": {},
   "outputs": [
    {
     "data": {
      "text/plain": [
       "[0, 1, 2, 3, 4, 5, 6, 7, 8, 9, 10, 11, 12, 13, 14]"
      ]
     },
     "execution_count": 161,
     "metadata": {},
     "output_type": "execute_result"
    }
   ],
   "source": [
    "my_list # Already in Ascending order"
   ]
  },
  {
   "cell_type": "code",
   "execution_count": 163,
   "id": "1fbdef44-a3ec-4faa-ab11-331d9f0e6afc",
   "metadata": {},
   "outputs": [
    {
     "data": {
      "text/plain": [
       "\u001b[1;31mSignature:\u001b[0m \u001b[0mmy_list\u001b[0m\u001b[1;33m.\u001b[0m\u001b[0msort\u001b[0m\u001b[1;33m(\u001b[0m\u001b[1;33m*\u001b[0m\u001b[1;33m,\u001b[0m \u001b[0mkey\u001b[0m\u001b[1;33m=\u001b[0m\u001b[1;32mNone\u001b[0m\u001b[1;33m,\u001b[0m \u001b[0mreverse\u001b[0m\u001b[1;33m=\u001b[0m\u001b[1;32mFalse\u001b[0m\u001b[1;33m)\u001b[0m\u001b[1;33m\u001b[0m\u001b[1;33m\u001b[0m\u001b[0m\n",
       "\u001b[1;31mDocstring:\u001b[0m\n",
       "Sort the list in ascending order and return None.\n",
       "\n",
       "The sort is in-place (i.e. the list itself is modified) and stable (i.e. the\n",
       "order of two equal elements is maintained).\n",
       "\n",
       "If a key function is given, apply it once to each list item and sort them,\n",
       "ascending or descending, according to their function values.\n",
       "\n",
       "The reverse flag can be set to sort in descending order.\n",
       "\u001b[1;31mType:\u001b[0m      builtin_function_or_method"
      ]
     },
     "metadata": {},
     "output_type": "display_data"
    }
   ],
   "source": [
    "my_list.sort?"
   ]
  },
  {
   "cell_type": "code",
   "execution_count": 165,
   "id": "ad118a79-43bb-4e22-9ee5-6577c12048ea",
   "metadata": {},
   "outputs": [],
   "source": [
    "my_list.sort()"
   ]
  },
  {
   "cell_type": "code",
   "execution_count": 167,
   "id": "f12d161d-1116-4329-878d-85d02d239725",
   "metadata": {},
   "outputs": [
    {
     "data": {
      "text/plain": [
       "[0, 1, 2, 3, 4, 5, 6, 7, 8, 9, 10, 11, 12, 13, 14]"
      ]
     },
     "execution_count": 167,
     "metadata": {},
     "output_type": "execute_result"
    }
   ],
   "source": [
    "my_list"
   ]
  },
  {
   "cell_type": "code",
   "execution_count": 169,
   "id": "5ae304ab-3914-4267-bff9-4e30489061dc",
   "metadata": {},
   "outputs": [],
   "source": [
    "my_list.sort(reverse=True)"
   ]
  },
  {
   "cell_type": "code",
   "execution_count": 171,
   "id": "d78d054c-b1b4-4089-bf32-f88fd6879c87",
   "metadata": {},
   "outputs": [
    {
     "data": {
      "text/plain": [
       "[14, 13, 12, 11, 10, 9, 8, 7, 6, 5, 4, 3, 2, 1, 0]"
      ]
     },
     "execution_count": 171,
     "metadata": {},
     "output_type": "execute_result"
    }
   ],
   "source": [
    "my_list"
   ]
  },
  {
   "cell_type": "code",
   "execution_count": 173,
   "id": "bf753433-f0c3-4ba1-9065-493cc2948546",
   "metadata": {},
   "outputs": [
    {
     "data": {
      "text/plain": [
       "8"
      ]
     },
     "execution_count": 173,
     "metadata": {},
     "output_type": "execute_result"
    }
   ],
   "source": [
    "my_list[6]"
   ]
  },
  {
   "cell_type": "code",
   "execution_count": 175,
   "id": "93c38474-d7d1-4c6b-a98b-35c275fa3192",
   "metadata": {},
   "outputs": [],
   "source": [
    "my_list[6] = 500"
   ]
  },
  {
   "cell_type": "code",
   "execution_count": 177,
   "id": "544dac56-986f-4660-aa10-baa2f0644323",
   "metadata": {},
   "outputs": [
    {
     "data": {
      "text/plain": [
       "[14, 13, 12, 11, 10, 9, 500, 7, 6, 5, 4, 3, 2, 1, 0]"
      ]
     },
     "execution_count": 177,
     "metadata": {},
     "output_type": "execute_result"
    }
   ],
   "source": [
    "my_list"
   ]
  },
  {
   "cell_type": "code",
   "execution_count": 179,
   "id": "36ea18a3-1be5-433a-8f67-6d5ffc8af194",
   "metadata": {},
   "outputs": [],
   "source": [
    "my_list.sort() # Ascending order"
   ]
  },
  {
   "cell_type": "code",
   "execution_count": 181,
   "id": "2feefe48-5e30-4888-99f9-1b48ad07c3b5",
   "metadata": {},
   "outputs": [
    {
     "data": {
      "text/plain": [
       "[0, 1, 2, 3, 4, 5, 6, 7, 9, 10, 11, 12, 13, 14, 500]"
      ]
     },
     "execution_count": 181,
     "metadata": {},
     "output_type": "execute_result"
    }
   ],
   "source": [
    "my_list"
   ]
  },
  {
   "cell_type": "code",
   "execution_count": 183,
   "id": "7aaab208-dfa4-4d48-90d2-2e765d250ac9",
   "metadata": {},
   "outputs": [],
   "source": [
    "# List items value can be changed -- List is mutable\n",
    "my_list[7] = 1200\n",
    "my_list[5] = 800"
   ]
  },
  {
   "cell_type": "code",
   "execution_count": 185,
   "id": "f2603f28-46a9-4e9c-bdd4-fc807bf51af0",
   "metadata": {},
   "outputs": [
    {
     "data": {
      "text/plain": [
       "[0, 1, 2, 3, 4, 800, 6, 1200, 9, 10, 11, 12, 13, 14, 500]"
      ]
     },
     "execution_count": 185,
     "metadata": {},
     "output_type": "execute_result"
    }
   ],
   "source": [
    "my_list"
   ]
  },
  {
   "cell_type": "code",
   "execution_count": 187,
   "id": "09e395d9-39d2-4d18-8d9c-e312aaa13a01",
   "metadata": {},
   "outputs": [],
   "source": [
    "my_list.sort(reverse=True) # Descending order"
   ]
  },
  {
   "cell_type": "code",
   "execution_count": 189,
   "id": "77ae1455-9ce8-42d1-9592-b6891111e411",
   "metadata": {},
   "outputs": [
    {
     "data": {
      "text/plain": [
       "[1200, 800, 500, 14, 13, 12, 11, 10, 9, 6, 4, 3, 2, 1, 0]"
      ]
     },
     "execution_count": 189,
     "metadata": {},
     "output_type": "execute_result"
    }
   ],
   "source": [
    "my_list"
   ]
  },
  {
   "cell_type": "markdown",
   "id": "7e17a997-c9f7-41aa-995a-e090ab972212",
   "metadata": {},
   "source": [
    "## Assignment\n",
    "1. Create a list with items: -10, 3, 8, 12, -9, 4\n",
    "2. Sort this list in ascending order\n",
    "3. Calculate square root of each item value \n",
    "4. Print final list - each item value should be integer"
   ]
  },
  {
   "cell_type": "code",
   "execution_count": null,
   "id": "a50ffecd-9cc2-4c25-bff4-f6e4c6e48571",
   "metadata": {},
   "outputs": [],
   "source": []
  }
 ],
 "metadata": {
  "kernelspec": {
   "display_name": "Python 3 (ipykernel)",
   "language": "python",
   "name": "python3"
  },
  "language_info": {
   "codemirror_mode": {
    "name": "ipython",
    "version": 3
   },
   "file_extension": ".py",
   "mimetype": "text/x-python",
   "name": "python",
   "nbconvert_exporter": "python",
   "pygments_lexer": "ipython3",
   "version": "3.12.4"
  }
 },
 "nbformat": 4,
 "nbformat_minor": 5
}
