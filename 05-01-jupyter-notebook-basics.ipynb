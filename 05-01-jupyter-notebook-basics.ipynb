{
 "cells": [
  {
   "cell_type": "markdown",
   "id": "83b0426b",
   "metadata": {},
   "source": [
    "# Jupyter Notebook: The Classic Notebook Interface\n",
    "The Jupyter Notebook is the original web application for creating and sharing computational documents. It offers a simple, streamlined, document-centric experience.\n",
    "\n",
    "> Refer this [link](https://code.visualstudio.com/docs/datascience/jupyter-notebooks) for detailed explanation of using Jupyter notebook in VSCode"
   ]
  },
  {
   "cell_type": "code",
   "execution_count": 1,
   "id": "e66e1a67-6338-4b13-8b53-b52fae977ffa",
   "metadata": {},
   "outputs": [],
   "source": [
    "# shift + Enter --> To run current cell and add a new cell below\n",
    "# ctrl + Enter --> To run current cell\n",
    "# Ctrl + M --> CommandMode\n",
    "# CommandMode + A --> insert cell above\n",
    "# CommandMode + B --> insert cell below\n",
    "# CommandMode + D + D --> delete cell"
   ]
  },
  {
   "cell_type": "code",
   "execution_count": 7,
   "id": "bf308549-5efb-4dcb-9f01-7ae6a94a6d29",
   "metadata": {},
   "outputs": [],
   "source": [
    "# CommandMode + M --> to convert code cell to markdown cell\n",
    "# CommandMode + Y --> to convert markdown cell to code cell"
   ]
  },
  {
   "cell_type": "markdown",
   "id": "bc4d7b9c",
   "metadata": {},
   "source": [
    "From Anaconda prompt to launch Juyter notebook, run the following command\n",
    "```\n",
    "jupyter notebook\n",
    "```\n",
    "From Anaconda prompt to launch Juyter Lab, run the following command\n",
    "```\n",
    "jupyter lab\n",
    "```"
   ]
  }
 ],
 "metadata": {
  "kernelspec": {
   "display_name": "Python 3 (ipykernel)",
   "language": "python",
   "name": "python3"
  },
  "language_info": {
   "codemirror_mode": {
    "name": "ipython",
    "version": 3
   },
   "file_extension": ".py",
   "mimetype": "text/x-python",
   "name": "python",
   "nbconvert_exporter": "python",
   "pygments_lexer": "ipython3",
   "version": "3.12.4"
  }
 },
 "nbformat": 4,
 "nbformat_minor": 5
}
