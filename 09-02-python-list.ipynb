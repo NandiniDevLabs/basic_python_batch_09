{
 "cells": [
  {
   "cell_type": "code",
   "execution_count": 5,
   "id": "bc9df903-c7f2-420e-8140-add5e6c6a819",
   "metadata": {},
   "outputs": [],
   "source": [
    "a = [1,2,3,4,5,6]"
   ]
  },
  {
   "cell_type": "code",
   "execution_count": 7,
   "id": "215c2589-a8f1-4e82-9393-42d8eb9b0ba5",
   "metadata": {},
   "outputs": [
    {
     "data": {
      "text/plain": [
       "[1, 2, 3, 4, 5, 6]"
      ]
     },
     "execution_count": 7,
     "metadata": {},
     "output_type": "execute_result"
    }
   ],
   "source": [
    "a"
   ]
  },
  {
   "cell_type": "code",
   "execution_count": 9,
   "id": "d77bc73d-d88b-49da-94d0-409d38239e25",
   "metadata": {},
   "outputs": [
    {
     "data": {
      "text/plain": [
       "6"
      ]
     },
     "execution_count": 9,
     "metadata": {},
     "output_type": "execute_result"
    }
   ],
   "source": [
    "a.pop()"
   ]
  },
  {
   "cell_type": "code",
   "execution_count": 11,
   "id": "cdf2458b-e69c-4266-ac27-42e518284f32",
   "metadata": {},
   "outputs": [
    {
     "data": {
      "text/plain": [
       "[1, 2, 3, 4, 5]"
      ]
     },
     "execution_count": 11,
     "metadata": {},
     "output_type": "execute_result"
    }
   ],
   "source": [
    "a"
   ]
  },
  {
   "cell_type": "code",
   "execution_count": 13,
   "id": "2a576917-6fdb-4dc3-9b2f-0201ef92a55e",
   "metadata": {},
   "outputs": [
    {
     "data": {
      "text/plain": [
       "2"
      ]
     },
     "execution_count": 13,
     "metadata": {},
     "output_type": "execute_result"
    }
   ],
   "source": [
    "a.pop(-4)"
   ]
  },
  {
   "cell_type": "code",
   "execution_count": 15,
   "id": "510b69d6-1997-482c-90de-ff936c4a7fab",
   "metadata": {},
   "outputs": [],
   "source": [
    "a.clear()"
   ]
  },
  {
   "cell_type": "code",
   "execution_count": 17,
   "id": "84efd779-151c-4de0-aa23-51b36022556d",
   "metadata": {},
   "outputs": [
    {
     "data": {
      "text/plain": [
       "[]"
      ]
     },
     "execution_count": 17,
     "metadata": {},
     "output_type": "execute_result"
    }
   ],
   "source": [
    "a"
   ]
  },
  {
   "cell_type": "code",
   "execution_count": 19,
   "id": "4f976665-4379-46be-9936-4c881e001a59",
   "metadata": {},
   "outputs": [
    {
     "data": {
      "text/plain": [
       "0"
      ]
     },
     "execution_count": 19,
     "metadata": {},
     "output_type": "execute_result"
    }
   ],
   "source": [
    "len(a)"
   ]
  },
  {
   "cell_type": "code",
   "execution_count": 29,
   "id": "931d4029-96b3-4e56-8979-f2dc67db7c43",
   "metadata": {},
   "outputs": [
    {
     "data": {
      "text/plain": [
       "3"
      ]
     },
     "execution_count": 29,
     "metadata": {},
     "output_type": "execute_result"
    }
   ],
   "source": [
    "len([1,2,3])"
   ]
  },
  {
   "cell_type": "code",
   "execution_count": 33,
   "id": "d8053c20-d0e4-4a44-aeb7-f84a18eab089",
   "metadata": {},
   "outputs": [],
   "source": [
    "a=[1,2,3,4,5,6]"
   ]
  },
  {
   "cell_type": "code",
   "execution_count": 43,
   "id": "abaa4fa1-cc15-4a41-b658-993d9e71aa85",
   "metadata": {},
   "outputs": [
    {
     "data": {
      "text/plain": [
       "[1, 2, 3, 4, 5, 6, 1, 2, 3, 4, 5, 6]"
      ]
     },
     "execution_count": 43,
     "metadata": {},
     "output_type": "execute_result"
    }
   ],
   "source": [
    "a * 2"
   ]
  },
  {
   "cell_type": "code",
   "execution_count": 39,
   "id": "08a45a50-c4fc-437e-81a5-a0064d3d7895",
   "metadata": {},
   "outputs": [
    {
     "data": {
      "text/plain": [
       "[1, 2, 3, 4, 5, 6, 1, 2, 3, 4, 5, 6]"
      ]
     },
     "execution_count": 39,
     "metadata": {},
     "output_type": "execute_result"
    }
   ],
   "source": [
    "a + a"
   ]
  },
  {
   "cell_type": "code",
   "execution_count": 37,
   "id": "1331fd8c-85b4-46c8-8d1b-8556ffe6f9ee",
   "metadata": {},
   "outputs": [
    {
     "data": {
      "text/plain": [
       "[1, 2, 3, 4, 10, 20]"
      ]
     },
     "execution_count": 37,
     "metadata": {},
     "output_type": "execute_result"
    }
   ],
   "source": [
    "[1,2,3,4] + [10, 20]"
   ]
  },
  {
   "cell_type": "code",
   "execution_count": 45,
   "id": "9033ae65-18c0-4e4d-8ce5-3630e7a11329",
   "metadata": {},
   "outputs": [],
   "source": [
    "b = a * 2"
   ]
  },
  {
   "cell_type": "code",
   "execution_count": 47,
   "id": "94a39d44-f72f-4ecd-9383-ae0adbd2467a",
   "metadata": {},
   "outputs": [
    {
     "data": {
      "text/plain": [
       "[1, 2, 3, 4, 5, 6, 1, 2, 3, 4, 5, 6]"
      ]
     },
     "execution_count": 47,
     "metadata": {},
     "output_type": "execute_result"
    }
   ],
   "source": [
    "b"
   ]
  },
  {
   "cell_type": "code",
   "execution_count": 49,
   "id": "6e1d8ce5-ed82-4caa-9017-dcb6f8023a78",
   "metadata": {},
   "outputs": [],
   "source": [
    "b.sort()"
   ]
  },
  {
   "cell_type": "code",
   "execution_count": 51,
   "id": "a9ed489f-a6ad-4cc8-bfca-7001fa80e153",
   "metadata": {},
   "outputs": [
    {
     "data": {
      "text/plain": [
       "[1, 1, 2, 2, 3, 3, 4, 4, 5, 5, 6, 6]"
      ]
     },
     "execution_count": 51,
     "metadata": {},
     "output_type": "execute_result"
    }
   ],
   "source": [
    "b"
   ]
  },
  {
   "cell_type": "code",
   "execution_count": 55,
   "id": "358280dd-7c91-41a2-8dda-808a98e69bf9",
   "metadata": {},
   "outputs": [
    {
     "data": {
      "text/plain": [
       "2"
      ]
     },
     "execution_count": 55,
     "metadata": {},
     "output_type": "execute_result"
    }
   ],
   "source": [
    "b.count(4)"
   ]
  },
  {
   "cell_type": "code",
   "execution_count": 57,
   "id": "38341d39-0e66-480d-9ab2-bf121ce844d0",
   "metadata": {},
   "outputs": [],
   "source": [
    "b.append(4)\n",
    "b.append(5)\n",
    "b.append(5)"
   ]
  },
  {
   "cell_type": "code",
   "execution_count": 61,
   "id": "d6f833dd-51be-4541-9332-f671f463e18a",
   "metadata": {},
   "outputs": [],
   "source": [
    "b.append(5)\n",
    "b.append(5)\n",
    "b.append(5)"
   ]
  },
  {
   "cell_type": "code",
   "execution_count": 63,
   "id": "8595bf5c-bee4-438d-b737-1c183fb1af4e",
   "metadata": {},
   "outputs": [
    {
     "data": {
      "text/plain": [
       "[1, 1, 2, 2, 3, 3, 4, 4, 5, 5, 6, 6, 4, 5, 5, 5, 5, 5]"
      ]
     },
     "execution_count": 63,
     "metadata": {},
     "output_type": "execute_result"
    }
   ],
   "source": [
    "b"
   ]
  },
  {
   "cell_type": "code",
   "execution_count": 65,
   "id": "da089016-aeb9-4e5d-b850-78f6d6384f84",
   "metadata": {},
   "outputs": [
    {
     "data": {
      "text/plain": [
       "7"
      ]
     },
     "execution_count": 65,
     "metadata": {},
     "output_type": "execute_result"
    }
   ],
   "source": [
    "b.count(5)"
   ]
  },
  {
   "cell_type": "code",
   "execution_count": 67,
   "id": "2756845b-2b43-4a37-b7b1-92195b38be92",
   "metadata": {},
   "outputs": [
    {
     "data": {
      "text/plain": [
       "0"
      ]
     },
     "execution_count": 67,
     "metadata": {},
     "output_type": "execute_result"
    }
   ],
   "source": [
    "b.count(100) # This value doesn't exist in list"
   ]
  },
  {
   "cell_type": "code",
   "execution_count": 71,
   "id": "92c12607-d691-4f2a-a309-ede6beb34976",
   "metadata": {},
   "outputs": [
    {
     "data": {
      "text/plain": [
       "0"
      ]
     },
     "execution_count": 71,
     "metadata": {},
     "output_type": "execute_result"
    }
   ],
   "source": [
    "b.count('Hi')"
   ]
  },
  {
   "cell_type": "code",
   "execution_count": 95,
   "id": "7efb2be4-603e-4c45-998e-6be1af7dcf1f",
   "metadata": {},
   "outputs": [],
   "source": [
    "c = [10,40, 30]"
   ]
  },
  {
   "cell_type": "code",
   "execution_count": 97,
   "id": "cb53d044-e831-444a-bd54-42a9f36921bd",
   "metadata": {},
   "outputs": [],
   "source": [
    "b = [1,2,3,4,5]"
   ]
  },
  {
   "cell_type": "code",
   "execution_count": 99,
   "id": "f40001c1-29a0-4288-bceb-93a8a24210de",
   "metadata": {},
   "outputs": [
    {
     "data": {
      "text/plain": [
       "[1, 2, 3, 4, 5, 10, 40, 30]"
      ]
     },
     "execution_count": 99,
     "metadata": {},
     "output_type": "execute_result"
    }
   ],
   "source": [
    "b + c"
   ]
  },
  {
   "cell_type": "code",
   "execution_count": 101,
   "id": "993b98e0-8dbb-4a78-b382-1552305146b6",
   "metadata": {},
   "outputs": [
    {
     "data": {
      "text/plain": [
       "[1, 2, 3, 4, 5]"
      ]
     },
     "execution_count": 101,
     "metadata": {},
     "output_type": "execute_result"
    }
   ],
   "source": [
    "b"
   ]
  },
  {
   "cell_type": "code",
   "execution_count": 103,
   "id": "d9fab53d-5a72-4468-9a9d-c66fbfbfd120",
   "metadata": {},
   "outputs": [
    {
     "data": {
      "text/plain": [
       "[10, 40, 30]"
      ]
     },
     "execution_count": 103,
     "metadata": {},
     "output_type": "execute_result"
    }
   ],
   "source": [
    "c"
   ]
  },
  {
   "cell_type": "code",
   "execution_count": 105,
   "id": "415b0e30-44a6-423a-9155-2155d8423adc",
   "metadata": {},
   "outputs": [],
   "source": [
    "b.extend(c)"
   ]
  },
  {
   "cell_type": "code",
   "execution_count": 107,
   "id": "2365df60-49d9-4b28-8274-0d712196c3d0",
   "metadata": {},
   "outputs": [
    {
     "data": {
      "text/plain": [
       "[1, 2, 3, 4, 5, 10, 40, 30]"
      ]
     },
     "execution_count": 107,
     "metadata": {},
     "output_type": "execute_result"
    }
   ],
   "source": [
    "b"
   ]
  },
  {
   "cell_type": "code",
   "execution_count": 109,
   "id": "a1bfbce2-c9e7-4ee8-969b-b7f8f7b52f7e",
   "metadata": {},
   "outputs": [
    {
     "data": {
      "text/plain": [
       "[10, 40, 30]"
      ]
     },
     "execution_count": 109,
     "metadata": {},
     "output_type": "execute_result"
    }
   ],
   "source": [
    "c"
   ]
  },
  {
   "cell_type": "code",
   "execution_count": 111,
   "id": "8f4d8c50-4e20-47e0-bad8-cc76a6e6514b",
   "metadata": {},
   "outputs": [
    {
     "data": {
      "text/plain": [
       "[1, 2, 3, 4, 5, 10, 40, 30]"
      ]
     },
     "execution_count": 111,
     "metadata": {},
     "output_type": "execute_result"
    }
   ],
   "source": [
    "b"
   ]
  },
  {
   "cell_type": "code",
   "execution_count": 113,
   "id": "050af961-a041-4e29-a2c9-ddd5811f2e13",
   "metadata": {},
   "outputs": [],
   "source": [
    "b.extend([200, 500])"
   ]
  },
  {
   "cell_type": "code",
   "execution_count": 115,
   "id": "da815b75-ccf2-46e6-951c-5afda27b542b",
   "metadata": {},
   "outputs": [
    {
     "data": {
      "text/plain": [
       "[1, 2, 3, 4, 5, 10, 40, 30, 200, 500]"
      ]
     },
     "execution_count": 115,
     "metadata": {},
     "output_type": "execute_result"
    }
   ],
   "source": [
    "b"
   ]
  },
  {
   "cell_type": "code",
   "execution_count": 117,
   "id": "51930aa1-5bb8-433f-9249-3ae054819b64",
   "metadata": {},
   "outputs": [
    {
     "ename": "TypeError",
     "evalue": "'int' object is not iterable",
     "output_type": "error",
     "traceback": [
      "\u001b[1;31m---------------------------------------------------------------------------\u001b[0m",
      "\u001b[1;31mTypeError\u001b[0m                                 Traceback (most recent call last)",
      "Cell \u001b[1;32mIn[117], line 1\u001b[0m\n\u001b[1;32m----> 1\u001b[0m b\u001b[38;5;241m.\u001b[39mextend(\u001b[38;5;241m10\u001b[39m)\n",
      "\u001b[1;31mTypeError\u001b[0m: 'int' object is not iterable"
     ]
    }
   ],
   "source": [
    "b.extend(10) # need to use append for this"
   ]
  },
  {
   "cell_type": "code",
   "execution_count": 119,
   "id": "459d06af-4712-41e1-9873-25f73d52f9aa",
   "metadata": {},
   "outputs": [
    {
     "data": {
      "text/plain": [
       "[1, 2, 3, 4, 5, 10, 40, 30, 200, 500]"
      ]
     },
     "execution_count": 119,
     "metadata": {},
     "output_type": "execute_result"
    }
   ],
   "source": [
    "b"
   ]
  },
  {
   "cell_type": "code",
   "execution_count": 124,
   "id": "d8aa000a-6ccb-494f-8451-efbf3c4304be",
   "metadata": {},
   "outputs": [
    {
     "data": {
      "text/plain": [
       "0"
      ]
     },
     "execution_count": 124,
     "metadata": {},
     "output_type": "execute_result"
    }
   ],
   "source": [
    "b.index(1)"
   ]
  },
  {
   "cell_type": "code",
   "execution_count": 126,
   "id": "63a313b6-ab14-4dd3-82ec-ee87f62a2e95",
   "metadata": {},
   "outputs": [
    {
     "data": {
      "text/plain": [
       "5"
      ]
     },
     "execution_count": 126,
     "metadata": {},
     "output_type": "execute_result"
    }
   ],
   "source": [
    "b.index(10)"
   ]
  },
  {
   "cell_type": "code",
   "execution_count": 128,
   "id": "a99c6842-944d-4765-aa0d-2fff47266f7b",
   "metadata": {},
   "outputs": [
    {
     "data": {
      "text/plain": [
       "8"
      ]
     },
     "execution_count": 128,
     "metadata": {},
     "output_type": "execute_result"
    }
   ],
   "source": [
    "b.index(200)"
   ]
  },
  {
   "cell_type": "code",
   "execution_count": 130,
   "id": "978f7622-9416-4e39-ba6c-b051ac163228",
   "metadata": {},
   "outputs": [
    {
     "ename": "ValueError",
     "evalue": "-1 is not in list",
     "output_type": "error",
     "traceback": [
      "\u001b[1;31m---------------------------------------------------------------------------\u001b[0m",
      "\u001b[1;31mValueError\u001b[0m                                Traceback (most recent call last)",
      "Cell \u001b[1;32mIn[130], line 1\u001b[0m\n\u001b[1;32m----> 1\u001b[0m b\u001b[38;5;241m.\u001b[39mindex(\u001b[38;5;241m-\u001b[39m\u001b[38;5;241m1\u001b[39m)\n",
      "\u001b[1;31mValueError\u001b[0m: -1 is not in list"
     ]
    }
   ],
   "source": [
    "b.index(-1)"
   ]
  },
  {
   "cell_type": "code",
   "execution_count": 133,
   "id": "e3550cfc-9559-4f1e-a5bc-b9a871c99f69",
   "metadata": {},
   "outputs": [
    {
     "data": {
      "text/plain": [
       "0"
      ]
     },
     "execution_count": 133,
     "metadata": {},
     "output_type": "execute_result"
    }
   ],
   "source": [
    "b.count(-1)"
   ]
  },
  {
   "cell_type": "code",
   "execution_count": 136,
   "id": "ee730b68-b705-44e2-9d19-cccc1cf4b92c",
   "metadata": {},
   "outputs": [
    {
     "data": {
      "text/plain": [
       "[1, 2, 3, 4, 5, 10, 40, 30, 200, 500]"
      ]
     },
     "execution_count": 136,
     "metadata": {},
     "output_type": "execute_result"
    }
   ],
   "source": [
    "b"
   ]
  },
  {
   "cell_type": "code",
   "execution_count": 138,
   "id": "29d0a928-d5e0-4cd9-9607-d08c12a69b57",
   "metadata": {},
   "outputs": [
    {
     "data": {
      "text/plain": [
       "\u001b[1;31mSignature:\u001b[0m \u001b[0mb\u001b[0m\u001b[1;33m.\u001b[0m\u001b[0minsert\u001b[0m\u001b[1;33m(\u001b[0m\u001b[0mindex\u001b[0m\u001b[1;33m,\u001b[0m \u001b[0mobject\u001b[0m\u001b[1;33m,\u001b[0m \u001b[1;33m/\u001b[0m\u001b[1;33m)\u001b[0m\u001b[1;33m\u001b[0m\u001b[1;33m\u001b[0m\u001b[0m\n",
       "\u001b[1;31mDocstring:\u001b[0m Insert object before index.\n",
       "\u001b[1;31mType:\u001b[0m      builtin_function_or_method"
      ]
     },
     "metadata": {},
     "output_type": "display_data"
    }
   ],
   "source": [
    "b.insert?"
   ]
  },
  {
   "cell_type": "code",
   "execution_count": 140,
   "id": "5a9e198a-947f-46ab-9335-6fb4283091ea",
   "metadata": {},
   "outputs": [
    {
     "data": {
      "text/plain": [
       "200"
      ]
     },
     "execution_count": 140,
     "metadata": {},
     "output_type": "execute_result"
    }
   ],
   "source": [
    "b[8]"
   ]
  },
  {
   "cell_type": "code",
   "execution_count": 142,
   "id": "90c23b57-a5a6-4ec0-b7f6-da7f26c4ca6f",
   "metadata": {},
   "outputs": [],
   "source": [
    "b.insert(8,-5)"
   ]
  },
  {
   "cell_type": "code",
   "execution_count": 144,
   "id": "5904dd08-9e91-4b94-8705-d6ab1374abd9",
   "metadata": {},
   "outputs": [
    {
     "data": {
      "text/plain": [
       "[1, 2, 3, 4, 5, 10, 40, 30, -5, 200, 500]"
      ]
     },
     "execution_count": 144,
     "metadata": {},
     "output_type": "execute_result"
    }
   ],
   "source": [
    "b"
   ]
  },
  {
   "cell_type": "code",
   "execution_count": 148,
   "id": "1a1b04f8-a47f-45cb-b635-707d8a308368",
   "metadata": {},
   "outputs": [],
   "source": [
    "b.insert(-4,'Dec')"
   ]
  },
  {
   "cell_type": "code",
   "execution_count": 150,
   "id": "2e261083-5baa-4758-a01a-a77508ef9c54",
   "metadata": {},
   "outputs": [
    {
     "data": {
      "text/plain": [
       "[1, 2, 3, 4, 5, 10, 40, 'Dec', 30, -5, 200, 500]"
      ]
     },
     "execution_count": 150,
     "metadata": {},
     "output_type": "execute_result"
    }
   ],
   "source": [
    "b"
   ]
  },
  {
   "cell_type": "code",
   "execution_count": 152,
   "id": "cc7c4d88-f0c9-418f-944a-635bd6f9a1f2",
   "metadata": {},
   "outputs": [
    {
     "data": {
      "text/plain": [
       "12"
      ]
     },
     "execution_count": 152,
     "metadata": {},
     "output_type": "execute_result"
    }
   ],
   "source": [
    "len(b)"
   ]
  },
  {
   "cell_type": "code",
   "execution_count": 154,
   "id": "635db6fa-70e0-447d-abdc-200ea01c3280",
   "metadata": {},
   "outputs": [],
   "source": [
    "b.insert(17,255)"
   ]
  },
  {
   "cell_type": "code",
   "execution_count": 159,
   "id": "5f6eef4d-f2eb-4c96-af76-be03c4e383e8",
   "metadata": {},
   "outputs": [
    {
     "data": {
      "text/plain": [
       "[1, 2, 3, 4, 5, 10, 40, 'Dec', 30, -5, 200, 500, 255]"
      ]
     },
     "execution_count": 159,
     "metadata": {},
     "output_type": "execute_result"
    }
   ],
   "source": [
    "b"
   ]
  },
  {
   "cell_type": "code",
   "execution_count": 161,
   "id": "90d3ccca-93db-4fca-bc40-f09d742dd597",
   "metadata": {},
   "outputs": [
    {
     "data": {
      "text/plain": [
       "12"
      ]
     },
     "execution_count": 161,
     "metadata": {},
     "output_type": "execute_result"
    }
   ],
   "source": [
    "b.index(255)"
   ]
  },
  {
   "cell_type": "code",
   "execution_count": 163,
   "id": "75dcfbc3-d984-4885-a439-d62c72a2e8d9",
   "metadata": {},
   "outputs": [
    {
     "data": {
      "text/plain": [
       "[1, 2, 3, 4, 5, 10, 40, 'Dec', 30, -5, 200, 500, 255]"
      ]
     },
     "execution_count": 163,
     "metadata": {},
     "output_type": "execute_result"
    }
   ],
   "source": [
    "b"
   ]
  },
  {
   "cell_type": "code",
   "execution_count": 165,
   "id": "7679fe31-04d9-4f9d-a1ca-82c59f419e72",
   "metadata": {},
   "outputs": [],
   "source": [
    "b.insert(-13,'DS')"
   ]
  },
  {
   "cell_type": "code",
   "execution_count": 167,
   "id": "54898abb-b2f6-4e6b-84e4-f5c67196a292",
   "metadata": {},
   "outputs": [
    {
     "data": {
      "text/plain": [
       "['DS', 1, 2, 3, 4, 5, 10, 40, 'Dec', 30, -5, 200, 500, 255]"
      ]
     },
     "execution_count": 167,
     "metadata": {},
     "output_type": "execute_result"
    }
   ],
   "source": [
    "b"
   ]
  },
  {
   "cell_type": "code",
   "execution_count": 169,
   "id": "3270dfe6-d1d4-4ebf-a3c6-8e7edafc4019",
   "metadata": {},
   "outputs": [],
   "source": [
    "b.insert(-30,'Python')"
   ]
  },
  {
   "cell_type": "code",
   "execution_count": 171,
   "id": "c7b27dcc-ccc9-4dfb-b949-f08210d27bd2",
   "metadata": {},
   "outputs": [
    {
     "data": {
      "text/plain": [
       "['Python', 'DS', 1, 2, 3, 4, 5, 10, 40, 'Dec', 30, -5, 200, 500, 255]"
      ]
     },
     "execution_count": 171,
     "metadata": {},
     "output_type": "execute_result"
    }
   ],
   "source": [
    "b"
   ]
  },
  {
   "cell_type": "code",
   "execution_count": 173,
   "id": "18590486-14f3-4c2b-82fa-49b5c5390e21",
   "metadata": {},
   "outputs": [],
   "source": [
    "b.reverse()"
   ]
  },
  {
   "cell_type": "code",
   "execution_count": 175,
   "id": "b0a6804d-0572-4deb-b489-833624e843b5",
   "metadata": {},
   "outputs": [
    {
     "data": {
      "text/plain": [
       "[255, 500, 200, -5, 30, 'Dec', 40, 10, 5, 4, 3, 2, 1, 'DS', 'Python']"
      ]
     },
     "execution_count": 175,
     "metadata": {},
     "output_type": "execute_result"
    }
   ],
   "source": [
    "b"
   ]
  },
  {
   "cell_type": "code",
   "execution_count": 179,
   "id": "8357c545-cb71-4a88-a700-a4cc8f37285d",
   "metadata": {},
   "outputs": [
    {
     "data": {
      "text/plain": [
       "-5"
      ]
     },
     "execution_count": 179,
     "metadata": {},
     "output_type": "execute_result"
    }
   ],
   "source": [
    "b[3]"
   ]
  },
  {
   "cell_type": "code",
   "execution_count": 181,
   "id": "4310f782-8c57-4440-bea6-e5555d64ae04",
   "metadata": {},
   "outputs": [],
   "source": [
    "b[3] = 5"
   ]
  },
  {
   "cell_type": "code",
   "execution_count": 183,
   "id": "607c7d52-f80f-41ea-be6a-90c78cb75504",
   "metadata": {},
   "outputs": [
    {
     "data": {
      "text/plain": [
       "[255, 500, 200, 5, 30, 'Dec', 40, 10, 5, 4, 3, 2, 1, 'DS', 'Python']"
      ]
     },
     "execution_count": 183,
     "metadata": {},
     "output_type": "execute_result"
    }
   ],
   "source": [
    "b"
   ]
  },
  {
   "cell_type": "code",
   "execution_count": 177,
   "id": "496d9b5c-1562-4d42-ac71-db32c6898545",
   "metadata": {},
   "outputs": [
    {
     "data": {
      "text/plain": [
       "\u001b[1;31mSignature:\u001b[0m \u001b[0mb\u001b[0m\u001b[1;33m.\u001b[0m\u001b[0mremove\u001b[0m\u001b[1;33m(\u001b[0m\u001b[0mvalue\u001b[0m\u001b[1;33m,\u001b[0m \u001b[1;33m/\u001b[0m\u001b[1;33m)\u001b[0m\u001b[1;33m\u001b[0m\u001b[1;33m\u001b[0m\u001b[0m\n",
       "\u001b[1;31mDocstring:\u001b[0m\n",
       "Remove first occurrence of value.\n",
       "\n",
       "Raises ValueError if the value is not present.\n",
       "\u001b[1;31mType:\u001b[0m      builtin_function_or_method"
      ]
     },
     "metadata": {},
     "output_type": "display_data"
    }
   ],
   "source": [
    "b.remove?"
   ]
  },
  {
   "cell_type": "code",
   "execution_count": 187,
   "id": "fb86c4df-986d-4114-be73-d245b89ecc4a",
   "metadata": {},
   "outputs": [],
   "source": [
    "b.remove(10)"
   ]
  },
  {
   "cell_type": "code",
   "execution_count": 189,
   "id": "04dec47e-a640-4416-8e83-5300a1355c1a",
   "metadata": {},
   "outputs": [
    {
     "data": {
      "text/plain": [
       "[255, 500, 200, 5, 30, 'Dec', 40, 5, 4, 3, 2, 1, 'DS', 'Python']"
      ]
     },
     "execution_count": 189,
     "metadata": {},
     "output_type": "execute_result"
    }
   ],
   "source": [
    "b"
   ]
  },
  {
   "cell_type": "code",
   "execution_count": 191,
   "id": "e39eadb9-5dfd-41af-928e-bcb0adf28ce7",
   "metadata": {},
   "outputs": [],
   "source": [
    "b.remove(5)"
   ]
  },
  {
   "cell_type": "code",
   "execution_count": 193,
   "id": "e00731aa-9b0d-4016-8dd1-aab16ea24b58",
   "metadata": {},
   "outputs": [
    {
     "data": {
      "text/plain": [
       "[255, 500, 200, 30, 'Dec', 40, 5, 4, 3, 2, 1, 'DS', 'Python']"
      ]
     },
     "execution_count": 193,
     "metadata": {},
     "output_type": "execute_result"
    }
   ],
   "source": [
    "b"
   ]
  },
  {
   "cell_type": "code",
   "execution_count": 195,
   "id": "0bda91ea-3229-4c0e-aeae-882973121750",
   "metadata": {},
   "outputs": [],
   "source": [
    "b.remove(5)"
   ]
  },
  {
   "cell_type": "code",
   "execution_count": 197,
   "id": "00d8dbd4-d05a-4376-919c-a075de516864",
   "metadata": {},
   "outputs": [
    {
     "data": {
      "text/plain": [
       "[255, 500, 200, 30, 'Dec', 40, 4, 3, 2, 1, 'DS', 'Python']"
      ]
     },
     "execution_count": 197,
     "metadata": {},
     "output_type": "execute_result"
    }
   ],
   "source": [
    "b"
   ]
  },
  {
   "cell_type": "code",
   "execution_count": 199,
   "id": "b3039b0a-54da-408f-8b51-694df24393a7",
   "metadata": {},
   "outputs": [
    {
     "ename": "ValueError",
     "evalue": "list.remove(x): x not in list",
     "output_type": "error",
     "traceback": [
      "\u001b[1;31m---------------------------------------------------------------------------\u001b[0m",
      "\u001b[1;31mValueError\u001b[0m                                Traceback (most recent call last)",
      "Cell \u001b[1;32mIn[199], line 1\u001b[0m\n\u001b[1;32m----> 1\u001b[0m b\u001b[38;5;241m.\u001b[39mremove(\u001b[38;5;124m'\u001b[39m\u001b[38;5;124mSQL\u001b[39m\u001b[38;5;124m'\u001b[39m)\n",
      "\u001b[1;31mValueError\u001b[0m: list.remove(x): x not in list"
     ]
    }
   ],
   "source": [
    "b.remove('SQL')"
   ]
  },
  {
   "cell_type": "markdown",
   "id": "1bc58cf1-7dc5-4e8c-bb84-ce632958d5d2",
   "metadata": {},
   "source": [
    "# List copying"
   ]
  },
  {
   "cell_type": "code",
   "execution_count": 210,
   "id": "3e4cf36e-9c1b-421e-b5f9-fa4777df97e9",
   "metadata": {},
   "outputs": [],
   "source": [
    "a = [10,20,30,40,50]"
   ]
  },
  {
   "cell_type": "code",
   "execution_count": 212,
   "id": "cee3f55e-2f90-4270-aa18-63aa8974aa81",
   "metadata": {},
   "outputs": [
    {
     "data": {
      "text/plain": [
       "[10, 20, 30, 40, 50]"
      ]
     },
     "execution_count": 212,
     "metadata": {},
     "output_type": "execute_result"
    }
   ],
   "source": [
    "a"
   ]
  },
  {
   "cell_type": "code",
   "execution_count": 214,
   "id": "cf4f2634-7d6f-4563-b1ce-5ae6e8097fa6",
   "metadata": {},
   "outputs": [],
   "source": [
    "b = a"
   ]
  },
  {
   "cell_type": "code",
   "execution_count": 216,
   "id": "6e147709-0d2a-47ee-8a62-de9a763cf4b2",
   "metadata": {},
   "outputs": [
    {
     "data": {
      "text/plain": [
       "[10, 20, 30, 40, 50]"
      ]
     },
     "execution_count": 216,
     "metadata": {},
     "output_type": "execute_result"
    }
   ],
   "source": [
    "b"
   ]
  },
  {
   "cell_type": "code",
   "execution_count": 218,
   "id": "dde48139-81da-4c3b-ab2b-fae79d6a02a5",
   "metadata": {},
   "outputs": [
    {
     "data": {
      "text/plain": [
       "40"
      ]
     },
     "execution_count": 218,
     "metadata": {},
     "output_type": "execute_result"
    }
   ],
   "source": [
    "b[3]"
   ]
  },
  {
   "cell_type": "code",
   "execution_count": 220,
   "id": "f1ee5d53-633f-4c7a-ab13-e9802e32f328",
   "metadata": {},
   "outputs": [],
   "source": [
    "b[3] = 'Dec'"
   ]
  },
  {
   "cell_type": "code",
   "execution_count": 222,
   "id": "63bf5a64-1ae3-47fd-a67e-ec9646e4e07f",
   "metadata": {},
   "outputs": [
    {
     "data": {
      "text/plain": [
       "[10, 20, 30, 'Dec', 50]"
      ]
     },
     "execution_count": 222,
     "metadata": {},
     "output_type": "execute_result"
    }
   ],
   "source": [
    "b"
   ]
  },
  {
   "cell_type": "code",
   "execution_count": 224,
   "id": "b6ac29f4-44b4-4ece-bfa4-bd9489f11da1",
   "metadata": {},
   "outputs": [
    {
     "data": {
      "text/plain": [
       "[10, 20, 30, 'Dec', 50]"
      ]
     },
     "execution_count": 224,
     "metadata": {},
     "output_type": "execute_result"
    }
   ],
   "source": [
    "a"
   ]
  },
  {
   "cell_type": "code",
   "execution_count": 226,
   "id": "3944a775-8c1f-4e46-8415-59439471687d",
   "metadata": {},
   "outputs": [],
   "source": [
    "c = [10,20,30,40,50]"
   ]
  },
  {
   "cell_type": "code",
   "execution_count": 228,
   "id": "17f15055-d1e3-4796-8ba5-553af1402e12",
   "metadata": {},
   "outputs": [
    {
     "data": {
      "text/plain": [
       "\u001b[1;31mSignature:\u001b[0m \u001b[0mc\u001b[0m\u001b[1;33m.\u001b[0m\u001b[0mcopy\u001b[0m\u001b[1;33m(\u001b[0m\u001b[1;33m)\u001b[0m\u001b[1;33m\u001b[0m\u001b[1;33m\u001b[0m\u001b[0m\n",
       "\u001b[1;31mDocstring:\u001b[0m Return a shallow copy of the list.\n",
       "\u001b[1;31mType:\u001b[0m      builtin_function_or_method"
      ]
     },
     "metadata": {},
     "output_type": "display_data"
    }
   ],
   "source": [
    "c.copy?"
   ]
  },
  {
   "cell_type": "code",
   "execution_count": 232,
   "id": "878748ef-ce41-4f58-be6c-4e20fdc0f839",
   "metadata": {},
   "outputs": [],
   "source": [
    "d = c.copy()"
   ]
  },
  {
   "cell_type": "code",
   "execution_count": 234,
   "id": "719de799-4fbc-45e1-abde-b24f319d61c8",
   "metadata": {},
   "outputs": [
    {
     "data": {
      "text/plain": [
       "[10, 20, 30, 40, 50]"
      ]
     },
     "execution_count": 234,
     "metadata": {},
     "output_type": "execute_result"
    }
   ],
   "source": [
    "d"
   ]
  },
  {
   "cell_type": "code",
   "execution_count": 236,
   "id": "3a438e00-0d38-4253-bd87-38cc9a72b74a",
   "metadata": {},
   "outputs": [
    {
     "data": {
      "text/plain": [
       "[10, 20, 30, 40, 50]"
      ]
     },
     "execution_count": 236,
     "metadata": {},
     "output_type": "execute_result"
    }
   ],
   "source": [
    "c"
   ]
  },
  {
   "cell_type": "code",
   "execution_count": 238,
   "id": "e29737d3-2d72-4669-82a4-88231f8dacbe",
   "metadata": {},
   "outputs": [
    {
     "data": {
      "text/plain": [
       "40"
      ]
     },
     "execution_count": 238,
     "metadata": {},
     "output_type": "execute_result"
    }
   ],
   "source": [
    "d[3]"
   ]
  },
  {
   "cell_type": "code",
   "execution_count": 240,
   "id": "1876154b-2b18-406e-8ee5-cee03e4658da",
   "metadata": {},
   "outputs": [],
   "source": [
    "d[3] = 'Dec'"
   ]
  },
  {
   "cell_type": "code",
   "execution_count": 242,
   "id": "ea022a93-e9fc-4a27-a143-398a0920bda0",
   "metadata": {},
   "outputs": [
    {
     "data": {
      "text/plain": [
       "[10, 20, 30, 'Dec', 50]"
      ]
     },
     "execution_count": 242,
     "metadata": {},
     "output_type": "execute_result"
    }
   ],
   "source": [
    "d"
   ]
  },
  {
   "cell_type": "code",
   "execution_count": 244,
   "id": "bdcb80c7-15ef-496b-973a-17b43e29b608",
   "metadata": {},
   "outputs": [
    {
     "data": {
      "text/plain": [
       "[10, 20, 30, 40, 50]"
      ]
     },
     "execution_count": 244,
     "metadata": {},
     "output_type": "execute_result"
    }
   ],
   "source": [
    "c"
   ]
  },
  {
   "cell_type": "code",
   "execution_count": null,
   "id": "be218a38-477a-4b10-b83b-6ff2fd47b42b",
   "metadata": {},
   "outputs": [],
   "source": []
  },
  {
   "cell_type": "code",
   "execution_count": 247,
   "id": "1ee4c2ab-9cc9-46e3-8fb2-31f83f7255d1",
   "metadata": {},
   "outputs": [],
   "source": [
    "# List \n",
    "# 1. Mutable -- values can be changed"
   ]
  },
  {
   "cell_type": "code",
   "execution_count": 249,
   "id": "ad428988-ab48-417d-a756-601e0ea30cce",
   "metadata": {},
   "outputs": [],
   "source": [
    "a = ['a', 1, -12.6, True, 2+3j]"
   ]
  },
  {
   "cell_type": "code",
   "execution_count": 251,
   "id": "896eddbf-9988-47ba-84a3-538a84804318",
   "metadata": {},
   "outputs": [
    {
     "data": {
      "text/plain": [
       "['a', 1, -12.6, True, (2+3j)]"
      ]
     },
     "execution_count": 251,
     "metadata": {},
     "output_type": "execute_result"
    }
   ],
   "source": [
    "a"
   ]
  },
  {
   "cell_type": "code",
   "execution_count": 253,
   "id": "b089d316-561a-418f-a5f6-6bc2b1e2f13a",
   "metadata": {},
   "outputs": [
    {
     "data": {
      "text/plain": [
       "-12.6"
      ]
     },
     "execution_count": 253,
     "metadata": {},
     "output_type": "execute_result"
    }
   ],
   "source": [
    "a[2]"
   ]
  },
  {
   "cell_type": "code",
   "execution_count": 255,
   "id": "5dc2d4ea-8d26-48bf-9f17-b7bea92e2345",
   "metadata": {},
   "outputs": [],
   "source": [
    "a[2] = 'DS'"
   ]
  },
  {
   "cell_type": "code",
   "execution_count": 257,
   "id": "b2df92be-9819-4120-babe-6318e8e1c5f8",
   "metadata": {},
   "outputs": [
    {
     "data": {
      "text/plain": [
       "['a', 1, 'DS', True, (2+3j)]"
      ]
     },
     "execution_count": 257,
     "metadata": {},
     "output_type": "execute_result"
    }
   ],
   "source": [
    "a"
   ]
  },
  {
   "cell_type": "markdown",
   "id": "99fc327a-cdb1-435c-aa60-4907ca97478a",
   "metadata": {},
   "source": [
    "# List Slicing - Dec 26, 2024"
   ]
  },
  {
   "cell_type": "code",
   "execution_count": 180,
   "id": "9a790b7e-d219-4005-89b7-c15fe719ae0a",
   "metadata": {},
   "outputs": [],
   "source": [
    "# a[start:end] --> a[start] to a[end-1]"
   ]
  },
  {
   "cell_type": "code",
   "execution_count": 2,
   "id": "fd1b26a7-1d2d-43cf-bf28-c0e5ecfcdb8b",
   "metadata": {},
   "outputs": [],
   "source": [
    "a = ['a','b','c','d','e']"
   ]
  },
  {
   "cell_type": "code",
   "execution_count": 4,
   "id": "98fc5da2-1d1f-4fc8-9565-3232c3681f5a",
   "metadata": {
    "scrolled": true
   },
   "outputs": [
    {
     "data": {
      "text/plain": [
       "['b', 'c', 'd']"
      ]
     },
     "execution_count": 4,
     "metadata": {},
     "output_type": "execute_result"
    }
   ],
   "source": [
    "a[1:4]  # a[1] to a[4-1] -> a[3]"
   ]
  },
  {
   "cell_type": "code",
   "execution_count": 6,
   "id": "b808f611-f3b1-49b9-859b-856b5543a5ef",
   "metadata": {},
   "outputs": [
    {
     "data": {
      "text/plain": [
       "['b', 'c']"
      ]
     },
     "execution_count": 6,
     "metadata": {},
     "output_type": "execute_result"
    }
   ],
   "source": [
    "a[1:3]"
   ]
  },
  {
   "cell_type": "code",
   "execution_count": 12,
   "id": "c5f651b9-c175-475b-81e6-1858cf85e5f7",
   "metadata": {},
   "outputs": [],
   "source": [
    "a = list(range(15))"
   ]
  },
  {
   "cell_type": "code",
   "execution_count": 14,
   "id": "8e7a982c-6e94-481c-9d38-9d48a4002a1a",
   "metadata": {},
   "outputs": [
    {
     "data": {
      "text/plain": [
       "[0, 1, 2, 3, 4, 5, 6, 7, 8, 9, 10, 11, 12, 13, 14]"
      ]
     },
     "execution_count": 14,
     "metadata": {},
     "output_type": "execute_result"
    }
   ],
   "source": [
    "a"
   ]
  },
  {
   "cell_type": "code",
   "execution_count": 16,
   "id": "b8c5398a-7833-41db-88c7-c4565444ec6a",
   "metadata": {},
   "outputs": [
    {
     "data": {
      "text/plain": [
       "[3, 4, 5, 6, 7, 8, 9, 10]"
      ]
     },
     "execution_count": 16,
     "metadata": {},
     "output_type": "execute_result"
    }
   ],
   "source": [
    "a[3:11]"
   ]
  },
  {
   "cell_type": "code",
   "execution_count": 206,
   "id": "1fb75f06-a83c-4347-af6a-ebc53cc9c921",
   "metadata": {},
   "outputs": [],
   "source": [
    "# a[start:end:step] --> a[start] to a[end-1]   # Ex: a[3:11:2]\n",
    "\n",
    "#first item : a[start]  # ex: a[3]\n",
    "# second item a[start + step]  # ex: a[3+2] -> a[5]\n",
    "# third item a[start + step + step]  # ex: a[5+2] -> a[7]\n",
    "# ..."
   ]
  },
  {
   "cell_type": "code",
   "execution_count": 20,
   "id": "9e05b59d-0afb-4c96-bb8f-c83bc48d12d4",
   "metadata": {},
   "outputs": [
    {
     "data": {
      "text/plain": [
       "[0, 2, 4]"
      ]
     },
     "execution_count": 20,
     "metadata": {},
     "output_type": "execute_result"
    }
   ],
   "source": [
    "a[0:5:2]  # "
   ]
  },
  {
   "cell_type": "code",
   "execution_count": 22,
   "id": "232c6a56-25a9-456c-86dd-eb5d6d015cab",
   "metadata": {},
   "outputs": [
    {
     "data": {
      "text/plain": [
       "[0, 3]"
      ]
     },
     "execution_count": 22,
     "metadata": {},
     "output_type": "execute_result"
    }
   ],
   "source": [
    "a[0:5:3]"
   ]
  },
  {
   "cell_type": "code",
   "execution_count": 26,
   "id": "ad6f4e8c-ecfc-481f-8e9f-94461338d800",
   "metadata": {},
   "outputs": [
    {
     "data": {
      "text/plain": [
       "[0, 1, 2, 3, 4]"
      ]
     },
     "execution_count": 26,
     "metadata": {},
     "output_type": "execute_result"
    }
   ],
   "source": [
    "a[0:5:1]  # default step=1"
   ]
  },
  {
   "cell_type": "code",
   "execution_count": 28,
   "id": "3fb95946-7250-4eed-b2da-6a1a8f6b8654",
   "metadata": {},
   "outputs": [
    {
     "data": {
      "text/plain": [
       "[0, 1, 2, 3, 4]"
      ]
     },
     "execution_count": 28,
     "metadata": {},
     "output_type": "execute_result"
    }
   ],
   "source": [
    "a[0:5]"
   ]
  },
  {
   "cell_type": "code",
   "execution_count": 36,
   "id": "41cb442c-b944-4257-aa7b-63310dfe718b",
   "metadata": {},
   "outputs": [
    {
     "ename": "ValueError",
     "evalue": "slice step cannot be zero",
     "output_type": "error",
     "traceback": [
      "\u001b[1;31m---------------------------------------------------------------------------\u001b[0m",
      "\u001b[1;31mValueError\u001b[0m                                Traceback (most recent call last)",
      "Cell \u001b[1;32mIn[36], line 1\u001b[0m\n\u001b[1;32m----> 1\u001b[0m a[\u001b[38;5;241m0\u001b[39m:\u001b[38;5;241m5\u001b[39m:\u001b[38;5;241m0\u001b[39m]\n",
      "\u001b[1;31mValueError\u001b[0m: slice step cannot be zero"
     ]
    }
   ],
   "source": [
    "a[0:5:0]"
   ]
  },
  {
   "cell_type": "code",
   "execution_count": 38,
   "id": "affd40c6-4789-4e64-ab1f-9e733f2ead4c",
   "metadata": {},
   "outputs": [
    {
     "data": {
      "text/plain": [
       "[3, 4, 5, 6, 7, 8, 9, 10]"
      ]
     },
     "execution_count": 38,
     "metadata": {},
     "output_type": "execute_result"
    }
   ],
   "source": [
    "a[3:11]"
   ]
  },
  {
   "cell_type": "code",
   "execution_count": 40,
   "id": "d46ae57f-4e5c-4fb4-a54b-adeeaf46c602",
   "metadata": {},
   "outputs": [
    {
     "data": {
      "text/plain": [
       "[3, 6, 9]"
      ]
     },
     "execution_count": 40,
     "metadata": {},
     "output_type": "execute_result"
    }
   ],
   "source": [
    "a[3:11:3]"
   ]
  },
  {
   "cell_type": "code",
   "execution_count": 42,
   "id": "806052bb-1d08-42bd-9b14-f3bcf34f948b",
   "metadata": {},
   "outputs": [
    {
     "data": {
      "text/plain": [
       "[3, 4, 5, 6, 7, 8, 9, 10]"
      ]
     },
     "execution_count": 42,
     "metadata": {},
     "output_type": "execute_result"
    }
   ],
   "source": [
    "a[3:11:1]  "
   ]
  },
  {
   "cell_type": "code",
   "execution_count": 44,
   "id": "292ca5f9-61f4-4f15-9c2d-681b5e6b62de",
   "metadata": {},
   "outputs": [
    {
     "data": {
      "text/plain": [
       "[3, 4, 5, 6, 7, 8, 9, 10]"
      ]
     },
     "execution_count": 44,
     "metadata": {},
     "output_type": "execute_result"
    }
   ],
   "source": [
    "a[3:11]"
   ]
  },
  {
   "cell_type": "code",
   "execution_count": 46,
   "id": "adc91b4a-3154-4b0e-8390-6edd5833eae5",
   "metadata": {},
   "outputs": [
    {
     "ename": "ValueError",
     "evalue": "slice step cannot be zero",
     "output_type": "error",
     "traceback": [
      "\u001b[1;31m---------------------------------------------------------------------------\u001b[0m",
      "\u001b[1;31mValueError\u001b[0m                                Traceback (most recent call last)",
      "Cell \u001b[1;32mIn[46], line 1\u001b[0m\n\u001b[1;32m----> 1\u001b[0m a[\u001b[38;5;241m3\u001b[39m:\u001b[38;5;241m11\u001b[39m:\u001b[38;5;241m0\u001b[39m]\n",
      "\u001b[1;31mValueError\u001b[0m: slice step cannot be zero"
     ]
    }
   ],
   "source": [
    "a[3:11:0] "
   ]
  },
  {
   "cell_type": "markdown",
   "id": "13398355-cc53-4ad7-a9ee-89829b818a63",
   "metadata": {},
   "source": [
    "# List Slicing - Negative indexing"
   ]
  },
  {
   "cell_type": "code",
   "execution_count": 49,
   "id": "94ad54ef-9919-4de6-9f3e-96c3449abbed",
   "metadata": {},
   "outputs": [],
   "source": [
    "b = list(range(7))"
   ]
  },
  {
   "cell_type": "code",
   "execution_count": 51,
   "id": "8ca3042e-e69c-4737-8a47-7cf65c5b03c9",
   "metadata": {},
   "outputs": [
    {
     "data": {
      "text/plain": [
       "[0, 1, 2, 3, 4, 5, 6]"
      ]
     },
     "execution_count": 51,
     "metadata": {},
     "output_type": "execute_result"
    }
   ],
   "source": [
    "b"
   ]
  },
  {
   "cell_type": "code",
   "execution_count": 55,
   "id": "6f39bd4f-2fe1-468d-927c-6823f53fd0fc",
   "metadata": {},
   "outputs": [
    {
     "data": {
      "text/plain": [
       "[3, 4, 5]"
      ]
     },
     "execution_count": 55,
     "metadata": {},
     "output_type": "execute_result"
    }
   ],
   "source": [
    "b[3:6]"
   ]
  },
  {
   "cell_type": "code",
   "execution_count": 61,
   "id": "fa118c81-ed73-4471-8ede-795178700509",
   "metadata": {},
   "outputs": [
    {
     "data": {
      "text/plain": [
       "[3, 4, 5]"
      ]
     },
     "execution_count": 61,
     "metadata": {},
     "output_type": "execute_result"
    }
   ],
   "source": [
    "b[-4:-1]  # Negative index"
   ]
  },
  {
   "cell_type": "code",
   "execution_count": 57,
   "id": "6f79fe66-9f4c-4657-bd6c-ba88b2aba002",
   "metadata": {},
   "outputs": [
    {
     "data": {
      "text/plain": [
       "[0, 1, 2, 3, 4, 5, 6]"
      ]
     },
     "execution_count": 57,
     "metadata": {},
     "output_type": "execute_result"
    }
   ],
   "source": [
    "b"
   ]
  },
  {
   "cell_type": "code",
   "execution_count": 63,
   "id": "a87e202f-f75f-4618-9d6c-9c70b5845254",
   "metadata": {},
   "outputs": [
    {
     "data": {
      "text/plain": [
       "[3, 4, 5, 6]"
      ]
     },
     "execution_count": 63,
     "metadata": {},
     "output_type": "execute_result"
    }
   ],
   "source": [
    "b[-4:]"
   ]
  },
  {
   "cell_type": "code",
   "execution_count": 65,
   "id": "edfb3fc8-4990-48dc-b6dc-d249fbd88a85",
   "metadata": {},
   "outputs": [
    {
     "data": {
      "text/plain": [
       "[4, 5, 6]"
      ]
     },
     "execution_count": 65,
     "metadata": {},
     "output_type": "execute_result"
    }
   ],
   "source": [
    "b[-3:]"
   ]
  },
  {
   "cell_type": "code",
   "execution_count": 69,
   "id": "73f36e8e-193b-44b9-83f9-633eeb822719",
   "metadata": {},
   "outputs": [
    {
     "data": {
      "text/plain": [
       "[]"
      ]
     },
     "execution_count": 69,
     "metadata": {},
     "output_type": "execute_result"
    }
   ],
   "source": [
    "b[-4:0]  # Both positive and negative index will not be used together"
   ]
  },
  {
   "cell_type": "code",
   "execution_count": 71,
   "id": "af354126-f4c2-4c84-ae2c-253ebe6a5d41",
   "metadata": {},
   "outputs": [
    {
     "data": {
      "text/plain": [
       "[0, 1, 2, 3]"
      ]
     },
     "execution_count": 71,
     "metadata": {},
     "output_type": "execute_result"
    }
   ],
   "source": [
    "b[0:4]"
   ]
  },
  {
   "cell_type": "code",
   "execution_count": 73,
   "id": "3dda0f7e-65cb-4367-a204-94b649ec92ef",
   "metadata": {},
   "outputs": [
    {
     "data": {
      "text/plain": [
       "[0, 1, 2, 3]"
      ]
     },
     "execution_count": 73,
     "metadata": {},
     "output_type": "execute_result"
    }
   ],
   "source": [
    "b[:4]"
   ]
  },
  {
   "cell_type": "code",
   "execution_count": 75,
   "id": "b63b6821-27b1-41b7-916f-aa83a4090b24",
   "metadata": {},
   "outputs": [
    {
     "data": {
      "text/plain": [
       "[0, 1, 2, 3, 4, 5, 6, 7, 8, 9, 10, 11, 12, 13, 14]"
      ]
     },
     "execution_count": 75,
     "metadata": {},
     "output_type": "execute_result"
    }
   ],
   "source": [
    "a"
   ]
  },
  {
   "cell_type": "code",
   "execution_count": 87,
   "id": "3ff7c3f5-4fd8-467e-a4b5-ba44abf56c06",
   "metadata": {},
   "outputs": [
    {
     "data": {
      "text/plain": [
       "[4, 5, 6, 7, 8, 9, 10, 11, 12]"
      ]
     },
     "execution_count": 87,
     "metadata": {},
     "output_type": "execute_result"
    }
   ],
   "source": [
    "a[-11:-2]"
   ]
  },
  {
   "cell_type": "code",
   "execution_count": 89,
   "id": "e7d5d729-161e-4506-979f-3ec5cb3d4133",
   "metadata": {},
   "outputs": [
    {
     "data": {
      "text/plain": [
       "[4, 6, 8, 10, 12]"
      ]
     },
     "execution_count": 89,
     "metadata": {},
     "output_type": "execute_result"
    }
   ],
   "source": [
    "a[-11:-2:2]"
   ]
  },
  {
   "cell_type": "code",
   "execution_count": 91,
   "id": "4501a6ad-f5ca-4840-b5d9-1a7601046f46",
   "metadata": {},
   "outputs": [
    {
     "data": {
      "text/plain": [
       "[4, 7, 10]"
      ]
     },
     "execution_count": 91,
     "metadata": {},
     "output_type": "execute_result"
    }
   ],
   "source": [
    "a[-11:-2:3]"
   ]
  },
  {
   "cell_type": "markdown",
   "id": "98a140a1-d45a-4ee3-980a-6b83bc6b1aa8",
   "metadata": {},
   "source": [
    "# Nested List"
   ]
  },
  {
   "cell_type": "code",
   "execution_count": 94,
   "id": "65c99b9b-3b02-4a02-abc5-13e7581d0f01",
   "metadata": {},
   "outputs": [],
   "source": [
    "a = [10, 20, 30, ['a','b'], 100] # nested list"
   ]
  },
  {
   "cell_type": "code",
   "execution_count": 96,
   "id": "a914e5fb-6d69-48b6-97e2-6700c93eed86",
   "metadata": {},
   "outputs": [
    {
     "data": {
      "text/plain": [
       "list"
      ]
     },
     "execution_count": 96,
     "metadata": {},
     "output_type": "execute_result"
    }
   ],
   "source": [
    "type(a)"
   ]
  },
  {
   "cell_type": "code",
   "execution_count": 98,
   "id": "c803f3f1-0b25-44b2-bdc5-a5620f4b60cf",
   "metadata": {},
   "outputs": [
    {
     "data": {
      "text/plain": [
       "10"
      ]
     },
     "execution_count": 98,
     "metadata": {},
     "output_type": "execute_result"
    }
   ],
   "source": [
    "a[0]"
   ]
  },
  {
   "cell_type": "code",
   "execution_count": 100,
   "id": "c37cb5c9-3c4a-4404-b166-d8bcd4595942",
   "metadata": {},
   "outputs": [
    {
     "data": {
      "text/plain": [
       "int"
      ]
     },
     "execution_count": 100,
     "metadata": {},
     "output_type": "execute_result"
    }
   ],
   "source": [
    "type(a[0])"
   ]
  },
  {
   "cell_type": "code",
   "execution_count": 102,
   "id": "85a36daa-a504-45d9-b2ca-f1ef58ae05b0",
   "metadata": {},
   "outputs": [
    {
     "data": {
      "text/plain": [
       "['a', 'b']"
      ]
     },
     "execution_count": 102,
     "metadata": {},
     "output_type": "execute_result"
    }
   ],
   "source": [
    "a[3]"
   ]
  },
  {
   "cell_type": "code",
   "execution_count": 104,
   "id": "b1f9ad66-8c77-446c-a941-826f7e8a62b6",
   "metadata": {},
   "outputs": [
    {
     "data": {
      "text/plain": [
       "list"
      ]
     },
     "execution_count": 104,
     "metadata": {},
     "output_type": "execute_result"
    }
   ],
   "source": [
    "type(a[3])"
   ]
  },
  {
   "cell_type": "code",
   "execution_count": 106,
   "id": "72131136-31d4-4d6f-8b38-796f8ef7eff1",
   "metadata": {},
   "outputs": [
    {
     "data": {
      "text/plain": [
       "'a'"
      ]
     },
     "execution_count": 106,
     "metadata": {},
     "output_type": "execute_result"
    }
   ],
   "source": [
    "a[3][0]"
   ]
  },
  {
   "cell_type": "code",
   "execution_count": 108,
   "id": "71730137-12c6-4c89-b04f-5a625f79fe48",
   "metadata": {},
   "outputs": [
    {
     "data": {
      "text/plain": [
       "'b'"
      ]
     },
     "execution_count": 108,
     "metadata": {},
     "output_type": "execute_result"
    }
   ],
   "source": [
    "a[3][1]"
   ]
  },
  {
   "cell_type": "code",
   "execution_count": 110,
   "id": "3ad7e7ac-10f1-4315-beaf-39712c9e754b",
   "metadata": {},
   "outputs": [],
   "source": [
    "b = [10, 20, 30, ['a','b', [True, False, [13.4, -3.6], True], 'c'], 100] # extract -3.6"
   ]
  },
  {
   "cell_type": "code",
   "execution_count": 120,
   "id": "195813bc-7715-4840-8773-39c270537fb3",
   "metadata": {},
   "outputs": [
    {
     "data": {
      "text/plain": [
       "list"
      ]
     },
     "execution_count": 120,
     "metadata": {},
     "output_type": "execute_result"
    }
   ],
   "source": [
    "type(b)"
   ]
  },
  {
   "cell_type": "code",
   "execution_count": 124,
   "id": "0bac5942-03f6-4b7d-a2bc-99f9ca89f043",
   "metadata": {},
   "outputs": [
    {
     "data": {
      "text/plain": [
       "['a', 'b', [True, False, [13.4, -3.6], True], 'c']"
      ]
     },
     "execution_count": 124,
     "metadata": {},
     "output_type": "execute_result"
    }
   ],
   "source": [
    "b[3]"
   ]
  },
  {
   "cell_type": "code",
   "execution_count": 126,
   "id": "e0f17e61-9f16-4901-9c49-308b28d5f720",
   "metadata": {},
   "outputs": [
    {
     "data": {
      "text/plain": [
       "[True, False, [13.4, -3.6], True]"
      ]
     },
     "execution_count": 126,
     "metadata": {},
     "output_type": "execute_result"
    }
   ],
   "source": [
    "b[3][2]"
   ]
  },
  {
   "cell_type": "code",
   "execution_count": 128,
   "id": "ccacac6d-ccbc-4c80-b6a8-6bc7fa2dc176",
   "metadata": {},
   "outputs": [
    {
     "data": {
      "text/plain": [
       "[13.4, -3.6]"
      ]
     },
     "execution_count": 128,
     "metadata": {},
     "output_type": "execute_result"
    }
   ],
   "source": [
    "b[3][2][2]"
   ]
  },
  {
   "cell_type": "code",
   "execution_count": 130,
   "id": "fd648533-6020-46f5-bdea-c751e9a10d16",
   "metadata": {},
   "outputs": [
    {
     "data": {
      "text/plain": [
       "-3.6"
      ]
     },
     "execution_count": 130,
     "metadata": {},
     "output_type": "execute_result"
    }
   ],
   "source": [
    "b[3][2][2][1]"
   ]
  },
  {
   "cell_type": "code",
   "execution_count": 138,
   "id": "5a3de1c3-14c0-4196-a0a5-7b347f450721",
   "metadata": {},
   "outputs": [
    {
     "data": {
      "text/plain": [
       "[10, 20, 30, ['a', 'b', [True, False, [13.4, -3.6], True], 'c'], 100]"
      ]
     },
     "execution_count": 138,
     "metadata": {},
     "output_type": "execute_result"
    }
   ],
   "source": [
    "b"
   ]
  },
  {
   "cell_type": "code",
   "execution_count": 148,
   "id": "2def41c4-2d32-4944-81ac-72069c8b0d71",
   "metadata": {},
   "outputs": [
    {
     "data": {
      "text/plain": [
       "-3.6"
      ]
     },
     "execution_count": 148,
     "metadata": {},
     "output_type": "execute_result"
    }
   ],
   "source": [
    "b[-2][-2][-2][-1]"
   ]
  },
  {
   "cell_type": "code",
   "execution_count": 140,
   "id": "9edf2e45-1077-4f2a-b608-964e4cd9a567",
   "metadata": {},
   "outputs": [
    {
     "ename": "TypeError",
     "evalue": "'<' not supported between instances of 'list' and 'int'",
     "output_type": "error",
     "traceback": [
      "\u001b[1;31m---------------------------------------------------------------------------\u001b[0m",
      "\u001b[1;31mTypeError\u001b[0m                                 Traceback (most recent call last)",
      "Cell \u001b[1;32mIn[140], line 1\u001b[0m\n\u001b[1;32m----> 1\u001b[0m b\u001b[38;5;241m.\u001b[39msort()\n",
      "\u001b[1;31mTypeError\u001b[0m: '<' not supported between instances of 'list' and 'int'"
     ]
    }
   ],
   "source": [
    "b.sort()"
   ]
  },
  {
   "cell_type": "markdown",
   "id": "e826456a-d393-4f2a-9f2b-74fa7bf670f4",
   "metadata": {},
   "source": [
    "# Reversing list using slicing"
   ]
  },
  {
   "cell_type": "code",
   "execution_count": 151,
   "id": "fb0f1d6a-b311-4f01-b107-1c5a935a7eb8",
   "metadata": {},
   "outputs": [],
   "source": [
    "c = list(range(10))"
   ]
  },
  {
   "cell_type": "code",
   "execution_count": 153,
   "id": "c176801a-8238-4a72-94e2-06ab29d4af93",
   "metadata": {},
   "outputs": [
    {
     "data": {
      "text/plain": [
       "[0, 1, 2, 3, 4, 5, 6, 7, 8, 9]"
      ]
     },
     "execution_count": 153,
     "metadata": {},
     "output_type": "execute_result"
    }
   ],
   "source": [
    "c"
   ]
  },
  {
   "cell_type": "code",
   "execution_count": 155,
   "id": "7195b3fe-e6e4-432b-a77c-20fb5b34aab8",
   "metadata": {},
   "outputs": [
    {
     "data": {
      "text/plain": [
       "[2, 3, 4, 5, 6, 7, 8, 9]"
      ]
     },
     "execution_count": 155,
     "metadata": {},
     "output_type": "execute_result"
    }
   ],
   "source": [
    "c[2:]"
   ]
  },
  {
   "cell_type": "code",
   "execution_count": 157,
   "id": "f6619a73-62bf-4884-b611-752b33af5fde",
   "metadata": {},
   "outputs": [
    {
     "data": {
      "text/plain": [
       "[0, 1, 2, 3, 4, 5, 6, 7, 8, 9]"
      ]
     },
     "execution_count": 157,
     "metadata": {},
     "output_type": "execute_result"
    }
   ],
   "source": [
    "c[:]"
   ]
  },
  {
   "cell_type": "code",
   "execution_count": 163,
   "id": "60d9b8c7-e318-425f-a82d-f71a0c59e191",
   "metadata": {},
   "outputs": [
    {
     "data": {
      "text/plain": [
       "[9, 8, 7, 6, 5, 4, 3, 2, 1, 0]"
      ]
     },
     "execution_count": 163,
     "metadata": {},
     "output_type": "execute_result"
    }
   ],
   "source": [
    "c[::-1] # Reversing list items, without using c.reverse()"
   ]
  },
  {
   "cell_type": "code",
   "execution_count": 167,
   "id": "db7a7416-57f5-47c0-8c57-0dc17e99166c",
   "metadata": {},
   "outputs": [
    {
     "data": {
      "text/plain": [
       "[9, 7, 5, 3, 1]"
      ]
     },
     "execution_count": 167,
     "metadata": {},
     "output_type": "execute_result"
    }
   ],
   "source": [
    "c[::-2]"
   ]
  },
  {
   "cell_type": "code",
   "execution_count": 169,
   "id": "1fc88c0a-4634-4ee4-9841-a6cebe5558e2",
   "metadata": {},
   "outputs": [
    {
     "data": {
      "text/plain": [
       "[0, 1, 2, 3, 4, 5, 6, 7, 8, 9]"
      ]
     },
     "execution_count": 169,
     "metadata": {},
     "output_type": "execute_result"
    }
   ],
   "source": [
    "c[::]"
   ]
  },
  {
   "cell_type": "markdown",
   "id": "ad2fc117-c5a2-460e-b5b6-7473ff22ca5b",
   "metadata": {},
   "source": [
    "# List Slicing Revisit - Dec 27, 2024"
   ]
  },
  {
   "cell_type": "code",
   "execution_count": 10,
   "id": "03271b29-350b-428e-a965-b03e136f0d2f",
   "metadata": {},
   "outputs": [
    {
     "name": "stdout",
     "output_type": "stream",
     "text": [
      "[1, 2, 3, 4, 5, 6, 7, 8, 9, 10]\n"
     ]
    }
   ],
   "source": [
    "l = list(range(1,11))\n",
    "print(l)"
   ]
  },
  {
   "cell_type": "code",
   "execution_count": 12,
   "id": "ebb4c4c2-3865-4d31-9dbc-7fe358707d2b",
   "metadata": {},
   "outputs": [
    {
     "data": {
      "text/plain": [
       "[3, 5, 7]"
      ]
     },
     "execution_count": 12,
     "metadata": {},
     "output_type": "execute_result"
    }
   ],
   "source": [
    "l[2:8:2]"
   ]
  },
  {
   "cell_type": "code",
   "execution_count": 14,
   "id": "965f6c49-6540-4a0b-9357-defb5916bcba",
   "metadata": {},
   "outputs": [
    {
     "data": {
      "text/plain": [
       "[9, 7, 5]"
      ]
     },
     "execution_count": 14,
     "metadata": {},
     "output_type": "execute_result"
    }
   ],
   "source": [
    "l[-2:-8:-2]"
   ]
  },
  {
   "cell_type": "code",
   "execution_count": 18,
   "id": "230d9aec-4257-4005-ab3b-46dabfcbcf15",
   "metadata": {},
   "outputs": [
    {
     "data": {
      "text/plain": [
       "[9, 8, 7, 6, 5, 4]"
      ]
     },
     "execution_count": 18,
     "metadata": {},
     "output_type": "execute_result"
    }
   ],
   "source": [
    "l[-2:-8:-1]"
   ]
  },
  {
   "cell_type": "code",
   "execution_count": 20,
   "id": "c793af35-478b-440b-ab64-350f76806429",
   "metadata": {},
   "outputs": [
    {
     "data": {
      "text/plain": [
       "[2, 1]"
      ]
     },
     "execution_count": 20,
     "metadata": {},
     "output_type": "execute_result"
    }
   ],
   "source": [
    "l[1::-1]"
   ]
  },
  {
   "cell_type": "code",
   "execution_count": null,
   "id": "28cc7d98-4601-4e4d-b722-de6d6c31af9a",
   "metadata": {},
   "outputs": [],
   "source": []
  }
 ],
 "metadata": {
  "kernelspec": {
   "display_name": "Python 3 (ipykernel)",
   "language": "python",
   "name": "python3"
  },
  "language_info": {
   "codemirror_mode": {
    "name": "ipython",
    "version": 3
   },
   "file_extension": ".py",
   "mimetype": "text/x-python",
   "name": "python",
   "nbconvert_exporter": "python",
   "pygments_lexer": "ipython3",
   "version": "3.12.4"
  }
 },
 "nbformat": 4,
 "nbformat_minor": 5
}
