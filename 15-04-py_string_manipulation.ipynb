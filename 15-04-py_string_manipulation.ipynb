{
 "cells": [
  {
   "cell_type": "code",
   "execution_count": 1,
   "id": "7284557e-b89d-4a5a-9e81-26e62edc52c3",
   "metadata": {},
   "outputs": [],
   "source": [
    "a = 'this is sample string 😀' # Windows + ;"
   ]
  },
  {
   "cell_type": "code",
   "execution_count": null,
   "id": "51a25b55-96d2-47e8-b490-129d2fac30ca",
   "metadata": {},
   "outputs": [],
   "source": [
    "a.index('sample')"
   ]
  },
  {
   "cell_type": "code",
   "execution_count": null,
   "id": "e7c0a597-866e-4af5-82ab-b45c758c194a",
   "metadata": {},
   "outputs": [],
   "source": [
    "a.index('end')"
   ]
  },
  {
   "cell_type": "code",
   "execution_count": null,
   "id": "2fd77575-fb2a-44da-9a0c-283e55bd9698",
   "metadata": {},
   "outputs": [],
   "source": [
    "a.find('sample')"
   ]
  },
  {
   "cell_type": "code",
   "execution_count": null,
   "id": "3b4c6833-6808-485a-a928-934b4a08a6db",
   "metadata": {},
   "outputs": [],
   "source": [
    "a.find('end')"
   ]
  },
  {
   "cell_type": "code",
   "execution_count": null,
   "id": "203e50ed-6391-4dbb-bd60-1797be3af561",
   "metadata": {},
   "outputs": [],
   "source": [
    "a.index('z')"
   ]
  },
  {
   "cell_type": "code",
   "execution_count": null,
   "id": "95afa68b-45c7-4f86-85a4-aad73f213788",
   "metadata": {},
   "outputs": [],
   "source": [
    "a.find('z')"
   ]
  },
  {
   "cell_type": "code",
   "execution_count": null,
   "id": "a7d40cff-9ab2-478e-bc5d-39951bd41991",
   "metadata": {},
   "outputs": [],
   "source": [
    "a"
   ]
  },
  {
   "cell_type": "code",
   "execution_count": null,
   "id": "a12a9de3-d2a1-4de6-b2dc-c7b9b3d72ce3",
   "metadata": {},
   "outputs": [],
   "source": [
    "a.encode()  # default - utf-8"
   ]
  },
  {
   "cell_type": "code",
   "execution_count": null,
   "id": "339e9af5-8c07-4ab0-aa2c-d39af5145685",
   "metadata": {},
   "outputs": [],
   "source": [
    "a.encode('ascii') "
   ]
  },
  {
   "cell_type": "code",
   "execution_count": null,
   "id": "18e69337-7ad0-45e6-89f6-cae416201fea",
   "metadata": {},
   "outputs": [],
   "source": [
    "'!@#$%^&*()-+'.encode('ascii')"
   ]
  },
  {
   "cell_type": "code",
   "execution_count": null,
   "id": "31feda52-f5ba-4ce1-b0fc-70a49f242779",
   "metadata": {},
   "outputs": [],
   "source": [
    "a"
   ]
  },
  {
   "cell_type": "code",
   "execution_count": null,
   "id": "74e13e05-1d02-4dbe-8fe5-5fd503a0c72d",
   "metadata": {},
   "outputs": [],
   "source": [
    "a.isprintable()"
   ]
  },
  {
   "cell_type": "code",
   "execution_count": null,
   "id": "80e3dc77-b6ff-4147-b096-77b7b96d330b",
   "metadata": {},
   "outputs": [],
   "source": [
    "print('this is sample string😀 \\nthis is sample string😁')"
   ]
  },
  {
   "cell_type": "code",
   "execution_count": null,
   "id": "060fcaf6-a382-4971-941f-67846556760a",
   "metadata": {},
   "outputs": [],
   "source": [
    "'this is sample string😀 this is sample string😁'.isprintable()"
   ]
  },
  {
   "cell_type": "code",
   "execution_count": null,
   "id": "63ad28f9-81b5-4aaa-87bd-7ec739dabdd3",
   "metadata": {},
   "outputs": [],
   "source": [
    "'this is sample string😀 \\nthis is sample string😁'.isprintable()"
   ]
  },
  {
   "cell_type": "code",
   "execution_count": null,
   "id": "d4464f77-36d4-4b8d-8547-9062a657efbc",
   "metadata": {},
   "outputs": [],
   "source": [
    "'this is \\nsample \\rstring'.isprintable()"
   ]
  },
  {
   "cell_type": "code",
   "execution_count": null,
   "id": "ab49e6b5-f0b3-4f3b-8c02-d911941e0d7f",
   "metadata": {},
   "outputs": [],
   "source": [
    "a"
   ]
  },
  {
   "cell_type": "code",
   "execution_count": null,
   "id": "cd9ea42c-a95d-4107-8ae1-a044ca1fb444",
   "metadata": {},
   "outputs": [],
   "source": [
    "a.replace('sample','123')"
   ]
  },
  {
   "cell_type": "code",
   "execution_count": 20,
   "id": "0fd7c28a-8620-4fd5-b914-4fcccef1a95f",
   "metadata": {},
   "outputs": [],
   "source": [
    "# a.maketrans\n",
    "# a.translate"
   ]
  },
  {
   "cell_type": "code",
   "execution_count": null,
   "id": "57f8f851-6cb0-437a-b3d9-d555758940a5",
   "metadata": {},
   "outputs": [],
   "source": [
    "translation_table = str.maketrans('sample','123456')\n",
    "a.translate(translation_table)\n",
    "\n",
    "# s -> 1\n",
    "# a -> 2\n",
    "# m -> 3\n",
    "# p -> 4\n",
    "# l -> 5\n",
    "# e -> 6"
   ]
  },
  {
   "cell_type": "code",
   "execution_count": null,
   "id": "2deb3823-49fc-4ccf-a867-1515ea05d267",
   "metadata": {},
   "outputs": [],
   "source": [
    "a"
   ]
  },
  {
   "cell_type": "code",
   "execution_count": null,
   "id": "c8129cef-942d-4372-afb6-0081b1179a1d",
   "metadata": {},
   "outputs": [],
   "source": [
    "translation_table = str.maketrans('ple','123')\n",
    "a.translate(translation_table)"
   ]
  },
  {
   "cell_type": "code",
   "execution_count": 24,
   "id": "3587c79a-7a07-4354-a27f-eca8b0f03ea7",
   "metadata": {},
   "outputs": [],
   "source": [
    "str_list = ['a','b','c','d','e']"
   ]
  },
  {
   "cell_type": "code",
   "execution_count": null,
   "id": "69167610-5a24-44e7-9178-1cd7d33d062a",
   "metadata": {},
   "outputs": [],
   "source": [
    "' '.join(str_list)  # list to string conversion"
   ]
  },
  {
   "cell_type": "code",
   "execution_count": null,
   "id": "0316e63e-5823-4106-8804-0ddaa44b7b79",
   "metadata": {},
   "outputs": [],
   "source": [
    "''.join(str_list)  # list to string conversion"
   ]
  },
  {
   "cell_type": "code",
   "execution_count": null,
   "id": "3df68bc2-0f84-472e-8d92-a40a589f836f",
   "metadata": {},
   "outputs": [],
   "source": [
    "str(str_list)"
   ]
  },
  {
   "cell_type": "code",
   "execution_count": null,
   "id": "c5c3fb08-d537-4d94-a9f9-37aa07fca694",
   "metadata": {},
   "outputs": [],
   "source": [
    "' this is sample string '"
   ]
  },
  {
   "cell_type": "code",
   "execution_count": null,
   "id": "8224c486-b6f0-474a-ba08-442f22b20f47",
   "metadata": {},
   "outputs": [],
   "source": [
    "' this is sample string '.strip()"
   ]
  },
  {
   "cell_type": "code",
   "execution_count": null,
   "id": "516350bf-abda-4fbe-b71d-c925178aae0e",
   "metadata": {},
   "outputs": [],
   "source": [
    "' this is sample string '.lstrip()"
   ]
  },
  {
   "cell_type": "code",
   "execution_count": null,
   "id": "c82f1bef-3883-4b07-800a-51e900f30999",
   "metadata": {},
   "outputs": [],
   "source": [
    "' this is sample string '.rstrip()"
   ]
  },
  {
   "cell_type": "code",
   "execution_count": null,
   "id": "d4e2e4ce-d104-4fd1-825a-b5d26eaa6da6",
   "metadata": {},
   "outputs": [],
   "source": [
    "' this is sample string '.replace(' ','')"
   ]
  },
  {
   "cell_type": "code",
   "execution_count": null,
   "id": "4aaab337-89f3-4bff-9962-f667d77200f0",
   "metadata": {},
   "outputs": [],
   "source": [
    "a"
   ]
  },
  {
   "cell_type": "code",
   "execution_count": null,
   "id": "bacfa9cc-30d6-4ff8-872a-4f2b551a06d1",
   "metadata": {},
   "outputs": [],
   "source": [
    "a.split()"
   ]
  },
  {
   "cell_type": "code",
   "execution_count": null,
   "id": "214092d1-72ac-4860-9162-de9f99abd724",
   "metadata": {},
   "outputs": [],
   "source": [
    "a"
   ]
  },
  {
   "cell_type": "code",
   "execution_count": null,
   "id": "76ff9e31",
   "metadata": {},
   "outputs": [],
   "source": [
    "a.partition?"
   ]
  },
  {
   "cell_type": "code",
   "execution_count": null,
   "id": "c9f4eede-de59-4e8f-914e-8132ea999a8f",
   "metadata": {},
   "outputs": [],
   "source": [
    "a.partition(' ') # output - tuple, will have only 3 items "
   ]
  },
  {
   "cell_type": "code",
   "execution_count": null,
   "id": "6ec0d950-51b4-4539-9f83-ee01454c0ab2",
   "metadata": {},
   "outputs": [],
   "source": [
    "a.rpartition(' ')"
   ]
  },
  {
   "cell_type": "code",
   "execution_count": null,
   "id": "4f21bd2b-be5c-4364-98ce-15cb2b982725",
   "metadata": {},
   "outputs": [],
   "source": [
    "a"
   ]
  },
  {
   "cell_type": "code",
   "execution_count": null,
   "id": "95fe3b77-02f7-4eba-a561-6a1386e35d8e",
   "metadata": {},
   "outputs": [],
   "source": [
    "a.partition('s')"
   ]
  },
  {
   "cell_type": "code",
   "execution_count": null,
   "id": "b68e0a18-d80b-48e7-a5f4-941cc8d52eb3",
   "metadata": {},
   "outputs": [],
   "source": [
    "a.rpartition('s')"
   ]
  },
  {
   "cell_type": "code",
   "execution_count": null,
   "id": "4ac70fb9-0682-4242-b401-295677cc1157",
   "metadata": {},
   "outputs": [],
   "source": [
    "a"
   ]
  },
  {
   "cell_type": "code",
   "execution_count": null,
   "id": "5dcb6064-0357-434c-a715-ccde70842891",
   "metadata": {},
   "outputs": [],
   "source": [
    "a.split()"
   ]
  },
  {
   "cell_type": "code",
   "execution_count": null,
   "id": "c625c7f9-3350-459c-826d-eb691f3358ed",
   "metadata": {},
   "outputs": [],
   "source": [
    "a.rsplit()"
   ]
  },
  {
   "cell_type": "code",
   "execution_count": null,
   "id": "bad5c706-3dd7-4eba-b46b-90078d89ae00",
   "metadata": {},
   "outputs": [],
   "source": [
    "a"
   ]
  },
  {
   "cell_type": "code",
   "execution_count": null,
   "id": "015929c4-fb67-4b8f-ae5f-bdeba0d1af2f",
   "metadata": {},
   "outputs": [],
   "source": [
    "a.split(' ',2)"
   ]
  },
  {
   "cell_type": "code",
   "execution_count": null,
   "id": "2f20c56a-bd77-46a7-b33d-3c78005b3fbc",
   "metadata": {},
   "outputs": [],
   "source": [
    "a.rsplit(' ',2)"
   ]
  },
  {
   "cell_type": "code",
   "execution_count": null,
   "id": "d9d8220c-0df7-4026-bda4-8ae1f1d0e58b",
   "metadata": {},
   "outputs": [],
   "source": [
    "'If there is something worse than failure it is regret'.split(' ',4)"
   ]
  },
  {
   "cell_type": "code",
   "execution_count": null,
   "id": "2895ce40-d7e8-4a2b-a96b-0563af43b5fb",
   "metadata": {},
   "outputs": [],
   "source": [
    "'If there is something worse than failure it is regret'.rsplit(' ',4)"
   ]
  },
  {
   "cell_type": "code",
   "execution_count": 52,
   "id": "0f2b5e75-51dd-4b82-ac90-e67928e4acad",
   "metadata": {},
   "outputs": [],
   "source": [
    "b = 'If there is something worse than failure it is regret'"
   ]
  },
  {
   "cell_type": "code",
   "execution_count": null,
   "id": "7ccd9016-2485-40bd-a3d1-d9993fa2b4d3",
   "metadata": {},
   "outputs": [],
   "source": [
    "len(b)"
   ]
  },
  {
   "cell_type": "code",
   "execution_count": null,
   "id": "6c4d1f1e-5c5b-4e35-896b-bc34de7263ea",
   "metadata": {},
   "outputs": [],
   "source": [
    "b.center(85,'.')"
   ]
  },
  {
   "cell_type": "code",
   "execution_count": null,
   "id": "4e6f9780-c5c3-40d7-bbe3-7bfa0105a9b7",
   "metadata": {},
   "outputs": [],
   "source": [
    "b.ljust(85,'.')"
   ]
  },
  {
   "cell_type": "code",
   "execution_count": null,
   "id": "e0b5f77a-2372-4853-9f7d-7f2fd1b7cfc7",
   "metadata": {},
   "outputs": [],
   "source": [
    "b.rjust(85,'#')"
   ]
  },
  {
   "cell_type": "code",
   "execution_count": null,
   "id": "4805dfdb-1b0c-4ced-b5de-e6f69761f2ef",
   "metadata": {},
   "outputs": [],
   "source": [
    "len('5678')"
   ]
  },
  {
   "cell_type": "code",
   "execution_count": null,
   "id": "1acc00c7-22aa-4a57-b2db-07159cb929d5",
   "metadata": {},
   "outputs": [],
   "source": [
    "'5678'.zfill(10)"
   ]
  },
  {
   "cell_type": "code",
   "execution_count": null,
   "id": "5e32911b-9d9d-4ad9-903f-78602e1c76c6",
   "metadata": {},
   "outputs": [],
   "source": [
    "'-5678'.zfill(10)"
   ]
  },
  {
   "cell_type": "code",
   "execution_count": null,
   "id": "e89a83f8-6491-4061-b4a0-80229566db6e",
   "metadata": {},
   "outputs": [],
   "source": [
    "'+5678'.zfill(10)"
   ]
  },
  {
   "cell_type": "code",
   "execution_count": null,
   "id": "0216134e-6646-4bfa-96ff-4c62564ccf06",
   "metadata": {},
   "outputs": [],
   "source": [
    "b"
   ]
  },
  {
   "cell_type": "code",
   "execution_count": null,
   "id": "8ae9dfdc-88af-4e37-ba73-0d9b358c1ddf",
   "metadata": {},
   "outputs": [],
   "source": [
    "b.startswith('If')"
   ]
  },
  {
   "cell_type": "code",
   "execution_count": null,
   "id": "f5592ea0-999a-4de8-be4a-aafe727c0739",
   "metadata": {},
   "outputs": [],
   "source": [
    "b.startswith('.')"
   ]
  },
  {
   "cell_type": "code",
   "execution_count": null,
   "id": "06bf99ae-0700-4ed8-860d-c9410c0647f3",
   "metadata": {},
   "outputs": [],
   "source": [
    "b.endswith('z')"
   ]
  },
  {
   "cell_type": "code",
   "execution_count": null,
   "id": "6bce688a-8360-4436-87eb-0a5bac2d2682",
   "metadata": {},
   "outputs": [],
   "source": [
    "b.endswith('is regret')"
   ]
  },
  {
   "cell_type": "code",
   "execution_count": null,
   "id": "a2a9eca4-2134-45ea-8cc8-4dc42c864263",
   "metadata": {},
   "outputs": [],
   "source": [
    "b"
   ]
  },
  {
   "cell_type": "code",
   "execution_count": null,
   "id": "fbedca19-00b4-4c3b-a632-79c68ae248c7",
   "metadata": {},
   "outputs": [],
   "source": [
    "b.find('is')"
   ]
  },
  {
   "cell_type": "code",
   "execution_count": null,
   "id": "ca7591f2-fc7f-4a9c-b9a5-316ec1755c13",
   "metadata": {},
   "outputs": [],
   "source": [
    "b.rfind('is')"
   ]
  },
  {
   "cell_type": "code",
   "execution_count": null,
   "id": "59a7849a-a84c-4c92-a5e0-84d07583e160",
   "metadata": {},
   "outputs": [],
   "source": [
    "b.find('end')"
   ]
  },
  {
   "cell_type": "code",
   "execution_count": null,
   "id": "c034787a-b000-4f84-a3d6-c6cb46c0bf1f",
   "metadata": {},
   "outputs": [],
   "source": [
    "b.rfind('end')"
   ]
  },
  {
   "cell_type": "code",
   "execution_count": null,
   "id": "ef51acfe-1d36-4adb-a0bd-9e2bf309afae",
   "metadata": {},
   "outputs": [],
   "source": [
    "b"
   ]
  },
  {
   "cell_type": "code",
   "execution_count": null,
   "id": "f6811647-4520-444c-a0ba-4b2c835d18ea",
   "metadata": {},
   "outputs": [],
   "source": [
    "b.index('is')"
   ]
  },
  {
   "cell_type": "code",
   "execution_count": null,
   "id": "763faadb-f87d-4ce3-87b9-a5f69a3cc65f",
   "metadata": {},
   "outputs": [],
   "source": [
    "b.rindex('is')"
   ]
  },
  {
   "cell_type": "code",
   "execution_count": null,
   "id": "a70a9458-2362-457d-a6b8-959910578c27",
   "metadata": {},
   "outputs": [],
   "source": [
    "b.index('end')"
   ]
  },
  {
   "cell_type": "code",
   "execution_count": null,
   "id": "e6fa1096-e8d2-4b25-88bb-bdd8dc5affd2",
   "metadata": {},
   "outputs": [],
   "source": [
    "b.rindex('end')"
   ]
  },
  {
   "cell_type": "code",
   "execution_count": null,
   "id": "e8c23e21-5c12-44bc-819a-6866b71c778d",
   "metadata": {},
   "outputs": [],
   "source": [
    "'this is sample string. this is sample string.'.removeprefix('this')"
   ]
  },
  {
   "cell_type": "code",
   "execution_count": null,
   "id": "40bf0a6b-ecdb-4654-bd7b-e9b7ba18f98f",
   "metadata": {},
   "outputs": [],
   "source": [
    "'this is sample string. this is sample string.'.removeprefix('apple')"
   ]
  },
  {
   "cell_type": "code",
   "execution_count": null,
   "id": "d3753a5e-74a4-46df-af58-8d11303b5757",
   "metadata": {},
   "outputs": [],
   "source": [
    "'this is sample string. this is sample string.'.removesuffix('.')"
   ]
  },
  {
   "cell_type": "code",
   "execution_count": null,
   "id": "2a42776b-67f6-48db-b2e4-ab50b74e919f",
   "metadata": {},
   "outputs": [],
   "source": [
    "'this is sample string. this is sample string.'.removesuffix('apple')"
   ]
  },
  {
   "cell_type": "code",
   "execution_count": null,
   "id": "a392deac-d8a5-4eb8-9334-97d6ad994621",
   "metadata": {},
   "outputs": [],
   "source": [
    "'this is sample string. this is sample string.'.splitlines()"
   ]
  },
  {
   "cell_type": "code",
   "execution_count": null,
   "id": "aafda39c-7494-4257-8162-ec1979c8b693",
   "metadata": {},
   "outputs": [],
   "source": [
    "'this is \\nsample string. this \\nis sample \\tstring.'.splitlines()\n",
    "# split based on new lines\n",
    "# \\n, \\r, \\n\\r"
   ]
  },
  {
   "cell_type": "code",
   "execution_count": null,
   "id": "9c8d65f0-5e59-43ba-a0cb-dec626fdc519",
   "metadata": {},
   "outputs": [],
   "source": [
    "'this is sample string. this \\nis sample \\rstring.'.splitlines()"
   ]
  },
  {
   "cell_type": "code",
   "execution_count": null,
   "id": "b70c8a05-9830-4df5-9228-06c6e28a3236",
   "metadata": {},
   "outputs": [],
   "source": [
    "'this is sample string. this \\r\\nis sample \\rstring.'.splitlines()"
   ]
  },
  {
   "cell_type": "code",
   "execution_count": null,
   "id": "d2d29753-4045-44f7-8346-cc454d1ff7e6",
   "metadata": {},
   "outputs": [],
   "source": [
    "'this is sample string. this \\r\\nis sample \\rstring.'.split('\\n')"
   ]
  },
  {
   "cell_type": "code",
   "execution_count": null,
   "id": "be9d9a5e-8b5b-4d4b-a6c0-dc71208cff74",
   "metadata": {},
   "outputs": [],
   "source": [
    "'this is \\nsample string. this \\nis sample \\tstring.'.split('\\n')"
   ]
  },
  {
   "cell_type": "code",
   "execution_count": null,
   "id": "d4579f9f-b8b4-4bfa-973b-e07ec672fe8a",
   "metadata": {},
   "outputs": [],
   "source": []
  }
 ],
 "metadata": {
  "kernelspec": {
   "display_name": "Python 3 (ipykernel)",
   "language": "python",
   "name": "python3"
  },
  "language_info": {
   "codemirror_mode": {
    "name": "ipython",
    "version": 3
   },
   "file_extension": ".py",
   "mimetype": "text/x-python",
   "name": "python",
   "nbconvert_exporter": "python",
   "pygments_lexer": "ipython3",
   "version": "3.12.4"
  }
 },
 "nbformat": 4,
 "nbformat_minor": 5
}
