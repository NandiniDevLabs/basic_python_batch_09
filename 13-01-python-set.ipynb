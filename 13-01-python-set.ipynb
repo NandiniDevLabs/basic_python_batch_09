{
 "cells": [
  {
   "cell_type": "markdown",
   "id": "742fed0e",
   "metadata": {},
   "source": [
    "# Set\n",
    "- Sets are unordered collections of unique elements.\n",
    "- Meaning there can only be one representative of the same object.\n",
    "- Example:\n",
    "    - {10, 20, 30, 40}"
   ]
  },
  {
   "cell_type": "code",
   "execution_count": 3,
   "id": "f9ded3bf-b241-43a5-922f-289a35d709df",
   "metadata": {},
   "outputs": [],
   "source": [
    "a = {0,1,2,3,4,5}"
   ]
  },
  {
   "cell_type": "code",
   "execution_count": 5,
   "id": "457e7432-7850-4a24-9af1-861693aff10b",
   "metadata": {},
   "outputs": [
    {
     "data": {
      "text/plain": [
       "set"
      ]
     },
     "execution_count": 5,
     "metadata": {},
     "output_type": "execute_result"
    }
   ],
   "source": [
    "type(a)"
   ]
  },
  {
   "cell_type": "code",
   "execution_count": 7,
   "id": "f342c4e2-212a-437d-8cea-a6cd25712677",
   "metadata": {},
   "outputs": [],
   "source": [
    "b= {10,20,30,40,50,40,30,20,10,0,-10,10,20,30,40}"
   ]
  },
  {
   "cell_type": "code",
   "execution_count": 9,
   "id": "ae0f8dbb-6335-4349-a42e-1188e127b969",
   "metadata": {},
   "outputs": [
    {
     "data": {
      "text/plain": [
       "{-10, 0, 10, 20, 30, 40, 50}"
      ]
     },
     "execution_count": 9,
     "metadata": {},
     "output_type": "execute_result"
    }
   ],
   "source": [
    "b"
   ]
  },
  {
   "cell_type": "code",
   "execution_count": 13,
   "id": "2b2d3676-240e-43f5-a6f7-791ac0c7e2a5",
   "metadata": {},
   "outputs": [],
   "source": [
    "# a.*?\n",
    "# a.add --\n",
    "# a.clear --- \n",
    "# a.copy -- \n",
    "# a.difference --\n",
    "# a.difference_update --\n",
    "# a.discard --\n",
    "# a.intersection -- \n",
    "# a.intersection_update --\n",
    "# a.isdisjoint --\n",
    "# a.issubset --\n",
    "# a.issuperset --\n",
    "# a.pop --\n",
    "# a.remove --\n",
    "# a.symmetric_difference --\n",
    "# a.symmetric_difference_update --\n",
    "# a.union -- \n",
    "# a.update --"
   ]
  },
  {
   "cell_type": "code",
   "execution_count": 15,
   "id": "f04c8707-62f1-43dc-b788-cd3b2ea95fd7",
   "metadata": {},
   "outputs": [],
   "source": [
    "a = {0, 2, 4, 6, 8, 10, 12, 14, 16, 18, 20}"
   ]
  },
  {
   "cell_type": "code",
   "execution_count": 17,
   "id": "97e9e8ba-3348-4c67-a758-0fa9496af09f",
   "metadata": {},
   "outputs": [
    {
     "data": {
      "text/plain": [
       "{0, 2, 4, 6, 8, 10, 12, 14, 16, 18, 20}"
      ]
     },
     "execution_count": 17,
     "metadata": {},
     "output_type": "execute_result"
    }
   ],
   "source": [
    "a"
   ]
  },
  {
   "cell_type": "code",
   "execution_count": 21,
   "id": "6fe71697-24f4-4579-b8e7-65bf8006a2cb",
   "metadata": {},
   "outputs": [],
   "source": [
    "b = {11,12,13,14,15,16,17,18,19,20}"
   ]
  },
  {
   "cell_type": "code",
   "execution_count": 23,
   "id": "33e0bc14-5068-4af8-8010-6ab945a7f31f",
   "metadata": {},
   "outputs": [
    {
     "data": {
      "text/plain": [
       "{11, 12, 13, 14, 15, 16, 17, 18, 19, 20}"
      ]
     },
     "execution_count": 23,
     "metadata": {},
     "output_type": "execute_result"
    }
   ],
   "source": [
    "b"
   ]
  },
  {
   "cell_type": "code",
   "execution_count": 25,
   "id": "11348344-25c7-4f8e-b97b-e3ec3925ce07",
   "metadata": {},
   "outputs": [
    {
     "data": {
      "text/plain": [
       "{0, 2, 4, 6, 8, 10, 11, 12, 13, 14, 15, 16, 17, 18, 19, 20}"
      ]
     },
     "execution_count": 25,
     "metadata": {},
     "output_type": "execute_result"
    }
   ],
   "source": [
    "a.union(b) # returns a new set, and hence a and b remains unchanges"
   ]
  },
  {
   "cell_type": "code",
   "execution_count": 27,
   "id": "39a1fd46-4b1d-45d5-99ee-8935e6601845",
   "metadata": {},
   "outputs": [
    {
     "data": {
      "text/plain": [
       "{0, 2, 4, 6, 8, 10, 12, 14, 16, 18, 20}"
      ]
     },
     "execution_count": 27,
     "metadata": {},
     "output_type": "execute_result"
    }
   ],
   "source": [
    "a"
   ]
  },
  {
   "cell_type": "code",
   "execution_count": 29,
   "id": "669282c4-d817-4c12-b23a-551e5fd2ffe0",
   "metadata": {},
   "outputs": [
    {
     "data": {
      "text/plain": [
       "{11, 12, 13, 14, 15, 16, 17, 18, 19, 20}"
      ]
     },
     "execution_count": 29,
     "metadata": {},
     "output_type": "execute_result"
    }
   ],
   "source": [
    "b"
   ]
  },
  {
   "cell_type": "code",
   "execution_count": 31,
   "id": "6ecd7028-c8bf-4e15-95d7-805f6c6bdbb2",
   "metadata": {},
   "outputs": [
    {
     "data": {
      "text/plain": [
       "\u001b[1;31mDocstring:\u001b[0m Update a set with the union of itself and others.\n",
       "\u001b[1;31mType:\u001b[0m      builtin_function_or_method"
      ]
     },
     "metadata": {},
     "output_type": "display_data"
    }
   ],
   "source": [
    "a.update?"
   ]
  },
  {
   "cell_type": "code",
   "execution_count": 33,
   "id": "c1616263-0367-4af4-be69-003825a0d63e",
   "metadata": {},
   "outputs": [],
   "source": [
    "a.update(b)"
   ]
  },
  {
   "cell_type": "code",
   "execution_count": 35,
   "id": "5a317317-3502-4710-b512-c805a4acb016",
   "metadata": {},
   "outputs": [
    {
     "data": {
      "text/plain": [
       "{0, 2, 4, 6, 8, 10, 11, 12, 13, 14, 15, 16, 17, 18, 19, 20}"
      ]
     },
     "execution_count": 35,
     "metadata": {},
     "output_type": "execute_result"
    }
   ],
   "source": [
    "a"
   ]
  },
  {
   "cell_type": "code",
   "execution_count": 37,
   "id": "735fecbf-d8af-4960-ad2d-ecc95cc8e670",
   "metadata": {},
   "outputs": [
    {
     "data": {
      "text/plain": [
       "{11, 12, 13, 14, 15, 16, 17, 18, 19, 20}"
      ]
     },
     "execution_count": 37,
     "metadata": {},
     "output_type": "execute_result"
    }
   ],
   "source": [
    "b"
   ]
  },
  {
   "cell_type": "code",
   "execution_count": 41,
   "id": "4f62535e-7d6e-4297-8cce-f968dc0dba29",
   "metadata": {},
   "outputs": [
    {
     "name": "stdout",
     "output_type": "stream",
     "text": [
      "a: {0, 2, 4, 6, 8, 10, 12, 14, 16, 18, 20}\n",
      "b: {11, 12, 13, 14, 15, 16, 17, 18, 19, 20}\n"
     ]
    }
   ],
   "source": [
    "a = {0, 2, 4, 6, 8, 10, 12, 14, 16, 18, 20}\n",
    "b = {11, 12, 13, 14, 15, 16, 17, 18, 19, 20}\n",
    "print(\"a:\", a)\n",
    "print(\"b:\", b)"
   ]
  },
  {
   "cell_type": "code",
   "execution_count": null,
   "id": "8ad5e67b-1c80-498e-8efa-4c298394b612",
   "metadata": {},
   "outputs": [],
   "source": []
  },
  {
   "cell_type": "code",
   "execution_count": 43,
   "id": "d442922c-09e2-4128-9a67-b04862a3fdbe",
   "metadata": {},
   "outputs": [
    {
     "data": {
      "text/plain": [
       "{12, 14, 16, 18, 20}"
      ]
     },
     "execution_count": 43,
     "metadata": {},
     "output_type": "execute_result"
    }
   ],
   "source": [
    "a.intersection(b)"
   ]
  },
  {
   "cell_type": "code",
   "execution_count": 45,
   "id": "f4060279-2618-48af-80c6-585f65f4ca54",
   "metadata": {},
   "outputs": [
    {
     "name": "stdout",
     "output_type": "stream",
     "text": [
      "a: {0, 2, 4, 6, 8, 10, 12, 14, 16, 18, 20}\n",
      "b: {11, 12, 13, 14, 15, 16, 17, 18, 19, 20}\n"
     ]
    }
   ],
   "source": [
    "print(\"a:\", a)\n",
    "print(\"b:\", b)"
   ]
  },
  {
   "cell_type": "code",
   "execution_count": 47,
   "id": "f915cbd8-cd33-46d3-804f-20d70f184b8b",
   "metadata": {},
   "outputs": [],
   "source": [
    "c = {100, 200, 300, 400}"
   ]
  },
  {
   "cell_type": "code",
   "execution_count": 49,
   "id": "9dfb02fd-0ab4-45f4-acba-80309661290b",
   "metadata": {},
   "outputs": [
    {
     "data": {
      "text/plain": [
       "set()"
      ]
     },
     "execution_count": 49,
     "metadata": {},
     "output_type": "execute_result"
    }
   ],
   "source": [
    "a.intersection(c)"
   ]
  },
  {
   "cell_type": "code",
   "execution_count": 61,
   "id": "cccbf4f9-22d6-4927-a68a-d79d88a26a5d",
   "metadata": {},
   "outputs": [
    {
     "name": "stdout",
     "output_type": "stream",
     "text": [
      "a: {0, 2, 4, 6, 8, 10, 12, 14, 16, 18, 20}\n",
      "b: {11, 12, 13, 14, 15, 16, 17, 18, 19, 20}\n"
     ]
    }
   ],
   "source": [
    "print(\"a:\", a)\n",
    "print(\"b:\", b)"
   ]
  },
  {
   "cell_type": "code",
   "execution_count": 63,
   "id": "a2d37c92-230a-4f88-9195-c86384b8a2b2",
   "metadata": {},
   "outputs": [
    {
     "data": {
      "text/plain": [
       "{12, 14, 16, 18, 20}"
      ]
     },
     "execution_count": 63,
     "metadata": {},
     "output_type": "execute_result"
    }
   ],
   "source": [
    "a.intersection(b)"
   ]
  },
  {
   "cell_type": "code",
   "execution_count": 65,
   "id": "24003d5d-0e5f-4751-b1d7-4c3f4d12ec49",
   "metadata": {},
   "outputs": [],
   "source": [
    "a.intersection_update(b)"
   ]
  },
  {
   "cell_type": "code",
   "execution_count": 67,
   "id": "bd7f9c07-2362-49d4-bf8f-ed14edef15cf",
   "metadata": {},
   "outputs": [
    {
     "name": "stdout",
     "output_type": "stream",
     "text": [
      "a: {12, 14, 16, 18, 20}\n",
      "b: {11, 12, 13, 14, 15, 16, 17, 18, 19, 20}\n"
     ]
    }
   ],
   "source": [
    "print(\"a:\", a)\n",
    "print(\"b:\", b)"
   ]
  },
  {
   "cell_type": "code",
   "execution_count": null,
   "id": "e333b0fe-92c4-467b-974f-5ae53e0fb592",
   "metadata": {},
   "outputs": [],
   "source": []
  },
  {
   "cell_type": "code",
   "execution_count": 75,
   "id": "08483fbb-44d9-4a95-ac4c-622fa31d2b5b",
   "metadata": {},
   "outputs": [
    {
     "data": {
      "text/plain": [
       "{100, 200, 300, 400}"
      ]
     },
     "execution_count": 75,
     "metadata": {},
     "output_type": "execute_result"
    }
   ],
   "source": [
    "c = {100, 200, 300, 400}\n",
    "c"
   ]
  },
  {
   "cell_type": "code",
   "execution_count": 77,
   "id": "7e33621e-2f7e-4694-bc5f-0d7fa80eb914",
   "metadata": {},
   "outputs": [],
   "source": [
    "c.clear()"
   ]
  },
  {
   "cell_type": "code",
   "execution_count": 79,
   "id": "3c6caacf-d37b-4092-bb05-23544ceb6a83",
   "metadata": {},
   "outputs": [
    {
     "data": {
      "text/plain": [
       "set()"
      ]
     },
     "execution_count": 79,
     "metadata": {},
     "output_type": "execute_result"
    }
   ],
   "source": [
    "c"
   ]
  },
  {
   "cell_type": "code",
   "execution_count": 81,
   "id": "9224f7f8-dc0e-4a9c-80e7-16095ebd0b1d",
   "metadata": {},
   "outputs": [],
   "source": [
    "c.add(1800)"
   ]
  },
  {
   "cell_type": "code",
   "execution_count": 83,
   "id": "b54d52c2-1f9d-4a50-995d-698fb84fa90a",
   "metadata": {},
   "outputs": [
    {
     "data": {
      "text/plain": [
       "{1800}"
      ]
     },
     "execution_count": 83,
     "metadata": {},
     "output_type": "execute_result"
    }
   ],
   "source": [
    "c"
   ]
  },
  {
   "cell_type": "code",
   "execution_count": 85,
   "id": "cd826361-9439-422f-a8d2-8f7f748eb446",
   "metadata": {},
   "outputs": [
    {
     "data": {
      "text/plain": [
       "\u001b[1;31mDocstring:\u001b[0m\n",
       "Return the difference of two or more sets as a new set.\n",
       "\n",
       "(i.e. all elements that are in this set but not the others.)\n",
       "\u001b[1;31mType:\u001b[0m      builtin_function_or_method"
      ]
     },
     "metadata": {},
     "output_type": "display_data"
    }
   ],
   "source": [
    "c.difference?"
   ]
  },
  {
   "cell_type": "code",
   "execution_count": 87,
   "id": "ca577f2b-702e-408b-a676-49854d1f470a",
   "metadata": {},
   "outputs": [
    {
     "name": "stdout",
     "output_type": "stream",
     "text": [
      "a: {0, 2, 4, 6, 8, 10, 12, 14, 16, 18, 20}\n",
      "b: {11, 12, 13, 14, 15, 16, 17, 18, 19, 20}\n"
     ]
    }
   ],
   "source": [
    "a = {0, 2, 4, 6, 8, 10, 12, 14, 16, 18, 20}\n",
    "b = {11, 12, 13, 14, 15, 16, 17, 18, 19, 20}\n",
    "print(\"a:\", a)\n",
    "print(\"b:\", b)"
   ]
  },
  {
   "cell_type": "code",
   "execution_count": 89,
   "id": "8da0f1ea-ba1d-4373-aefc-b8e8f9786aae",
   "metadata": {},
   "outputs": [
    {
     "data": {
      "text/plain": [
       "{0, 2, 4, 6, 8, 10}"
      ]
     },
     "execution_count": 89,
     "metadata": {},
     "output_type": "execute_result"
    }
   ],
   "source": [
    "a.difference(b)"
   ]
  },
  {
   "cell_type": "code",
   "execution_count": 91,
   "id": "f6b77198-970c-459e-b928-9f652240e082",
   "metadata": {},
   "outputs": [
    {
     "data": {
      "text/plain": [
       "{11, 13, 15, 17, 19}"
      ]
     },
     "execution_count": 91,
     "metadata": {},
     "output_type": "execute_result"
    }
   ],
   "source": [
    "b.difference(a)"
   ]
  },
  {
   "cell_type": "code",
   "execution_count": 93,
   "id": "81322149-f9bd-4a08-9fed-71f064d47d6c",
   "metadata": {},
   "outputs": [
    {
     "name": "stdout",
     "output_type": "stream",
     "text": [
      "a: {0, 2, 4, 6, 8, 10, 12, 14, 16, 18, 20}\n",
      "b: {11, 12, 13, 14, 15, 16, 17, 18, 19, 20}\n"
     ]
    }
   ],
   "source": [
    "print(\"a:\", a)\n",
    "print(\"b:\", b)"
   ]
  },
  {
   "cell_type": "code",
   "execution_count": 95,
   "id": "6df798e3-1a02-47e3-ae6b-7ef293d3ee65",
   "metadata": {},
   "outputs": [],
   "source": [
    "a.difference_update(b)"
   ]
  },
  {
   "cell_type": "code",
   "execution_count": 97,
   "id": "e0ea59ec-6225-4243-a14a-c2c963ca9438",
   "metadata": {},
   "outputs": [
    {
     "name": "stdout",
     "output_type": "stream",
     "text": [
      "a: {0, 2, 4, 6, 8, 10}\n",
      "b: {11, 12, 13, 14, 15, 16, 17, 18, 19, 20}\n"
     ]
    }
   ],
   "source": [
    "print(\"a:\", a)\n",
    "print(\"b:\", b)"
   ]
  },
  {
   "cell_type": "code",
   "execution_count": 99,
   "id": "a62eadf1-5502-436c-b651-2f55ffd9d827",
   "metadata": {},
   "outputs": [
    {
     "name": "stdout",
     "output_type": "stream",
     "text": [
      "a: {0, 2, 4, 6, 8, 10, 12, 14, 16, 18, 20}\n",
      "b: {11, 12, 13, 14, 15, 16, 17, 18, 19, 20}\n"
     ]
    }
   ],
   "source": [
    "a = {0, 2, 4, 6, 8, 10, 12, 14, 16, 18, 20}\n",
    "b = {11, 12, 13, 14, 15, 16, 17, 18, 19, 20}\n",
    "print(\"a:\", a)\n",
    "print(\"b:\", b)"
   ]
  },
  {
   "cell_type": "code",
   "execution_count": 101,
   "id": "360c3bce-880a-4ec1-960e-3d5796274612",
   "metadata": {},
   "outputs": [],
   "source": [
    "b.difference_update(a)"
   ]
  },
  {
   "cell_type": "code",
   "execution_count": 103,
   "id": "57f72a0d-e6ba-428b-b9b7-780e183978f2",
   "metadata": {},
   "outputs": [
    {
     "name": "stdout",
     "output_type": "stream",
     "text": [
      "a: {0, 2, 4, 6, 8, 10, 12, 14, 16, 18, 20}\n",
      "b: {11, 13, 15, 17, 19}\n"
     ]
    }
   ],
   "source": [
    "print(\"a:\", a)\n",
    "print(\"b:\", b)"
   ]
  },
  {
   "cell_type": "code",
   "execution_count": null,
   "id": "5e70ca09-ef22-493a-8344-522c8041054f",
   "metadata": {},
   "outputs": [],
   "source": []
  },
  {
   "cell_type": "code",
   "execution_count": 105,
   "id": "bf5fe87e",
   "metadata": {},
   "outputs": [
    {
     "data": {
      "text/plain": [
       "\u001b[1;31mDocstring:\u001b[0m\n",
       "Return the symmetric difference of two sets as a new set.\n",
       "\n",
       "(i.e. all elements that are in exactly one of the sets.)\n",
       "\u001b[1;31mType:\u001b[0m      builtin_function_or_method"
      ]
     },
     "metadata": {},
     "output_type": "display_data"
    }
   ],
   "source": [
    "a.symmetric_difference?"
   ]
  },
  {
   "cell_type": "code",
   "execution_count": 109,
   "id": "96b8ea31",
   "metadata": {},
   "outputs": [
    {
     "name": "stdout",
     "output_type": "stream",
     "text": [
      "a: {0, 2, 4, 6, 8, 10, 12, 14, 16, 18, 20}\n",
      "b: {11, 12, 13, 14, 15, 16, 17, 18, 19, 20}\n"
     ]
    }
   ],
   "source": [
    "a = {0, 2, 4, 6, 8, 10, 12, 14, 16, 18, 20}\n",
    "b = {11, 12, 13, 14, 15, 16, 17, 18, 19, 20}\n",
    "print(\"a:\", a)\n",
    "print(\"b:\", b)"
   ]
  },
  {
   "cell_type": "code",
   "execution_count": 111,
   "id": "de138052-ee03-425a-8bb0-adca248b9c20",
   "metadata": {},
   "outputs": [
    {
     "data": {
      "text/plain": [
       "{0, 2, 4, 6, 8, 10, 11, 13, 15, 17, 19}"
      ]
     },
     "execution_count": 111,
     "metadata": {},
     "output_type": "execute_result"
    }
   ],
   "source": [
    "a.symmetric_difference(b)"
   ]
  },
  {
   "cell_type": "code",
   "execution_count": 113,
   "id": "322ff0b5-c07a-4a02-a0ec-d34619de4d69",
   "metadata": {},
   "outputs": [
    {
     "data": {
      "text/plain": [
       "{0, 2, 4, 6, 8, 10, 11, 13, 15, 17, 19}"
      ]
     },
     "execution_count": 113,
     "metadata": {},
     "output_type": "execute_result"
    }
   ],
   "source": [
    "b.symmetric_difference(a)"
   ]
  },
  {
   "cell_type": "code",
   "execution_count": null,
   "id": "cc3e7d3d-c806-4074-a5f5-b0c4e8fea04c",
   "metadata": {},
   "outputs": [],
   "source": []
  }
 ],
 "metadata": {
  "kernelspec": {
   "display_name": "Python 3 (ipykernel)",
   "language": "python",
   "name": "python3"
  },
  "language_info": {
   "codemirror_mode": {
    "name": "ipython",
    "version": 3
   },
   "file_extension": ".py",
   "mimetype": "text/x-python",
   "name": "python",
   "nbconvert_exporter": "python",
   "pygments_lexer": "ipython3",
   "version": "3.12.4"
  }
 },
 "nbformat": 4,
 "nbformat_minor": 5
}
