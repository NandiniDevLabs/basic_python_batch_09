{
 "cells": [
  {
   "cell_type": "markdown",
   "id": "742fed0e",
   "metadata": {},
   "source": [
    "# Set\n",
    "- Sets are unordered collections of unique elements.\n",
    "- Meaning there can only be one representative of the same object.\n",
    "- Example:\n",
    "    - {10, 20, 30, 40}"
   ]
  },
  {
   "cell_type": "code",
   "execution_count": 1,
   "id": "f9ded3bf-b241-43a5-922f-289a35d709df",
   "metadata": {},
   "outputs": [],
   "source": [
    "a = {0,1,2,3,4,5}"
   ]
  },
  {
   "cell_type": "code",
   "execution_count": null,
   "id": "457e7432-7850-4a24-9af1-861693aff10b",
   "metadata": {},
   "outputs": [],
   "source": [
    "type(a)"
   ]
  },
  {
   "cell_type": "code",
   "execution_count": 3,
   "id": "f342c4e2-212a-437d-8cea-a6cd25712677",
   "metadata": {},
   "outputs": [],
   "source": [
    "b= {10,20,30,40,50,40,30,20,10,0,-10,10,20,30,40}"
   ]
  },
  {
   "cell_type": "code",
   "execution_count": null,
   "id": "ae0f8dbb-6335-4349-a42e-1188e127b969",
   "metadata": {},
   "outputs": [],
   "source": [
    "b"
   ]
  },
  {
   "cell_type": "code",
   "execution_count": 5,
   "id": "2b2d3676-240e-43f5-a6f7-791ac0c7e2a5",
   "metadata": {},
   "outputs": [],
   "source": [
    "# a.*?\n",
    "# a.add --\n",
    "# a.clear --- \n",
    "# a.copy ??\n",
    "# a.difference --\n",
    "# a.difference_update --\n",
    "# a.discard --\n",
    "# a.intersection -- \n",
    "# a.intersection_update --\n",
    "# a.isdisjoint --\n",
    "# a.issubset --\n",
    "# a.issuperset --\n",
    "# a.pop --\n",
    "# a.remove --\n",
    "# a.symmetric_difference --\n",
    "# a.symmetric_difference_update --\n",
    "# a.union -- \n",
    "# a.update --"
   ]
  },
  {
   "cell_type": "code",
   "execution_count": 6,
   "id": "f04c8707-62f1-43dc-b788-cd3b2ea95fd7",
   "metadata": {},
   "outputs": [],
   "source": [
    "a = {0, 2, 4, 6, 8, 10, 12, 14, 16, 18, 20}"
   ]
  },
  {
   "cell_type": "code",
   "execution_count": null,
   "id": "97e9e8ba-3348-4c67-a758-0fa9496af09f",
   "metadata": {},
   "outputs": [],
   "source": [
    "a"
   ]
  },
  {
   "cell_type": "code",
   "execution_count": 8,
   "id": "6fe71697-24f4-4579-b8e7-65bf8006a2cb",
   "metadata": {},
   "outputs": [],
   "source": [
    "b = {11,12,13,14,15,16,17,18,19,20}"
   ]
  },
  {
   "cell_type": "code",
   "execution_count": null,
   "id": "33e0bc14-5068-4af8-8010-6ab945a7f31f",
   "metadata": {},
   "outputs": [],
   "source": [
    "b"
   ]
  },
  {
   "cell_type": "code",
   "execution_count": null,
   "id": "11348344-25c7-4f8e-b97b-e3ec3925ce07",
   "metadata": {},
   "outputs": [],
   "source": [
    "a.union(b) # returns a new set, and hence a and b remains unchanges"
   ]
  },
  {
   "cell_type": "code",
   "execution_count": null,
   "id": "39a1fd46-4b1d-45d5-99ee-8935e6601845",
   "metadata": {},
   "outputs": [],
   "source": [
    "a"
   ]
  },
  {
   "cell_type": "code",
   "execution_count": null,
   "id": "669282c4-d817-4c12-b23a-551e5fd2ffe0",
   "metadata": {},
   "outputs": [],
   "source": [
    "b"
   ]
  },
  {
   "cell_type": "code",
   "execution_count": null,
   "id": "d442922c-09e2-4128-9a67-b04862a3fdbe",
   "metadata": {},
   "outputs": [],
   "source": [
    "a.intersection(b)"
   ]
  },
  {
   "cell_type": "code",
   "execution_count": 16,
   "id": "f915cbd8-cd33-46d3-804f-20d70f184b8b",
   "metadata": {},
   "outputs": [],
   "source": [
    "c = {100, 200, 300, 400}"
   ]
  },
  {
   "cell_type": "code",
   "execution_count": null,
   "id": "9dfb02fd-0ab4-45f4-acba-80309661290b",
   "metadata": {},
   "outputs": [],
   "source": [
    "a.intersection(c)"
   ]
  },
  {
   "cell_type": "code",
   "execution_count": null,
   "id": "08483fbb-44d9-4a95-ac4c-622fa31d2b5b",
   "metadata": {},
   "outputs": [],
   "source": [
    "c"
   ]
  },
  {
   "cell_type": "code",
   "execution_count": 19,
   "id": "7e33621e-2f7e-4694-bc5f-0d7fa80eb914",
   "metadata": {},
   "outputs": [],
   "source": [
    "c.clear()"
   ]
  },
  {
   "cell_type": "code",
   "execution_count": null,
   "id": "3c6caacf-d37b-4092-bb05-23544ceb6a83",
   "metadata": {},
   "outputs": [],
   "source": [
    "c"
   ]
  },
  {
   "cell_type": "code",
   "execution_count": 21,
   "id": "9224f7f8-dc0e-4a9c-80e7-16095ebd0b1d",
   "metadata": {},
   "outputs": [],
   "source": [
    "c.add(1800)"
   ]
  },
  {
   "cell_type": "code",
   "execution_count": null,
   "id": "b54d52c2-1f9d-4a50-995d-698fb84fa90a",
   "metadata": {},
   "outputs": [],
   "source": [
    "c"
   ]
  },
  {
   "cell_type": "code",
   "execution_count": null,
   "id": "cd826361-9439-422f-a8d2-8f7f748eb446",
   "metadata": {},
   "outputs": [],
   "source": [
    "c.difference?"
   ]
  },
  {
   "cell_type": "code",
   "execution_count": null,
   "id": "ca577f2b-702e-408b-a676-49854d1f470a",
   "metadata": {},
   "outputs": [],
   "source": [
    "a"
   ]
  },
  {
   "cell_type": "code",
   "execution_count": null,
   "id": "3965b3a0-1a4f-4c54-bce2-ce3afba9d12a",
   "metadata": {},
   "outputs": [],
   "source": [
    "b"
   ]
  },
  {
   "cell_type": "code",
   "execution_count": null,
   "id": "8da0f1ea-ba1d-4373-aefc-b8e8f9786aae",
   "metadata": {},
   "outputs": [],
   "source": [
    "a.difference(b)"
   ]
  },
  {
   "cell_type": "code",
   "execution_count": null,
   "id": "f6b77198-970c-459e-b928-9f652240e082",
   "metadata": {},
   "outputs": [],
   "source": [
    "b.difference(a)"
   ]
  },
  {
   "cell_type": "code",
   "execution_count": null,
   "id": "bf5fe87e",
   "metadata": {},
   "outputs": [],
   "source": [
    "a.symmetric_difference?"
   ]
  },
  {
   "cell_type": "code",
   "execution_count": null,
   "id": "96b8ea31",
   "metadata": {},
   "outputs": [],
   "source": [
    "print(a)\n",
    "print(b)"
   ]
  },
  {
   "cell_type": "code",
   "execution_count": null,
   "id": "de138052-ee03-425a-8bb0-adca248b9c20",
   "metadata": {},
   "outputs": [],
   "source": [
    "a.symmetric_difference(b)"
   ]
  },
  {
   "cell_type": "code",
   "execution_count": null,
   "id": "322ff0b5-c07a-4a02-a0ec-d34619de4d69",
   "metadata": {},
   "outputs": [],
   "source": [
    "b.symmetric_difference(a)"
   ]
  },
  {
   "cell_type": "code",
   "execution_count": null,
   "id": "352faaf0-86b5-498a-b30b-2012e18422c6",
   "metadata": {},
   "outputs": [],
   "source": [
    "a.difference(b)"
   ]
  },
  {
   "cell_type": "code",
   "execution_count": null,
   "id": "3e652567-f4e5-414d-a80c-9b2f506324c2",
   "metadata": {},
   "outputs": [],
   "source": [
    "a"
   ]
  },
  {
   "cell_type": "code",
   "execution_count": null,
   "id": "46183a93-6b88-4a50-a801-eb6dd7631852",
   "metadata": {},
   "outputs": [],
   "source": [
    "b"
   ]
  },
  {
   "cell_type": "code",
   "execution_count": 35,
   "id": "1f6c5781-1776-4785-896f-3147d73e0748",
   "metadata": {},
   "outputs": [],
   "source": [
    "a.difference_update(b)"
   ]
  },
  {
   "cell_type": "code",
   "execution_count": null,
   "id": "589904b2-bf60-48cc-b2b9-4534abf507b2",
   "metadata": {},
   "outputs": [],
   "source": [
    "a"
   ]
  },
  {
   "cell_type": "code",
   "execution_count": null,
   "id": "c464e6d3-dc7e-4fd7-8d04-f04b3b98fcf8",
   "metadata": {},
   "outputs": [],
   "source": [
    "b"
   ]
  },
  {
   "cell_type": "code",
   "execution_count": null,
   "id": "1dd1d2db-59f0-41c6-882a-83cebd0ef016",
   "metadata": {},
   "outputs": [],
   "source": [
    "a"
   ]
  },
  {
   "cell_type": "code",
   "execution_count": null,
   "id": "5c9f6b60-d70c-4921-9379-ae186907814d",
   "metadata": {},
   "outputs": [],
   "source": []
  },
  {
   "cell_type": "code",
   "execution_count": null,
   "id": "5f99c729-544b-4a32-b48e-6a422869f0c5",
   "metadata": {},
   "outputs": [],
   "source": []
  }
 ],
 "metadata": {
  "kernelspec": {
   "display_name": "Python 3 (ipykernel)",
   "language": "python",
   "name": "python3"
  },
  "language_info": {
   "codemirror_mode": {
    "name": "ipython",
    "version": 3
   },
   "file_extension": ".py",
   "mimetype": "text/x-python",
   "name": "python",
   "nbconvert_exporter": "python",
   "pygments_lexer": "ipython3",
   "version": "3.12.4"
  }
 },
 "nbformat": 4,
 "nbformat_minor": 5
}
