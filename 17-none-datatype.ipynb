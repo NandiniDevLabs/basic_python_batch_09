{
 "cells": [
  {
   "cell_type": "code",
   "execution_count": 2,
   "id": "81acf5c7-fe5d-43d7-94c2-66f1b83d8148",
   "metadata": {},
   "outputs": [],
   "source": [
    "a = 'ABCDE'"
   ]
  },
  {
   "cell_type": "code",
   "execution_count": 4,
   "id": "361baeb4-1527-42ab-8dda-4fd0b7dfa41e",
   "metadata": {},
   "outputs": [
    {
     "data": {
      "text/plain": [
       "str"
      ]
     },
     "execution_count": 4,
     "metadata": {},
     "output_type": "execute_result"
    }
   ],
   "source": [
    "type(a)"
   ]
  },
  {
   "cell_type": "code",
   "execution_count": 6,
   "id": "5f9ee707-26ae-4ca4-81a9-7efc3cb25438",
   "metadata": {},
   "outputs": [],
   "source": [
    "# Python data types\n",
    "# int\n",
    "# Boolean\n",
    "# float \n",
    "# string"
   ]
  },
  {
   "cell_type": "code",
   "execution_count": 8,
   "id": "25d409f2-0342-42d2-9957-fea8cc33e5a9",
   "metadata": {},
   "outputs": [],
   "source": [
    "b = 10"
   ]
  },
  {
   "cell_type": "code",
   "execution_count": 10,
   "id": "7282c556-af60-4084-b8fa-5fc6e8e35f88",
   "metadata": {},
   "outputs": [],
   "source": [
    "c = None"
   ]
  },
  {
   "cell_type": "code",
   "execution_count": 12,
   "id": "9a3558a1-33e4-4822-bafb-708b94a440b8",
   "metadata": {},
   "outputs": [
    {
     "data": {
      "text/plain": [
       "''"
      ]
     },
     "execution_count": 12,
     "metadata": {},
     "output_type": "execute_result"
    }
   ],
   "source": [
    "'' # Empty string"
   ]
  },
  {
   "cell_type": "code",
   "execution_count": 14,
   "id": "24b2f9ac-3d94-4a5f-98d0-40a5cd3c31a0",
   "metadata": {},
   "outputs": [
    {
     "data": {
      "text/plain": [
       "str"
      ]
     },
     "execution_count": 14,
     "metadata": {},
     "output_type": "execute_result"
    }
   ],
   "source": [
    "type('')"
   ]
  },
  {
   "cell_type": "code",
   "execution_count": 23,
   "id": "bc43f0de-bf51-4cb7-838e-a9e59a794da2",
   "metadata": {},
   "outputs": [
    {
     "data": {
      "text/plain": [
       "NoneType"
      ]
     },
     "execution_count": 23,
     "metadata": {},
     "output_type": "execute_result"
    }
   ],
   "source": [
    "type(None)"
   ]
  },
  {
   "cell_type": "code",
   "execution_count": 25,
   "id": "330cd254-867e-4681-bcec-846ec67f8a41",
   "metadata": {},
   "outputs": [
    {
     "data": {
      "text/plain": [
       "False"
      ]
     },
     "execution_count": 25,
     "metadata": {},
     "output_type": "execute_result"
    }
   ],
   "source": [
    "None == '' # None and empty string are not same"
   ]
  },
  {
   "cell_type": "code",
   "execution_count": 27,
   "id": "6061e41d-a0a0-403b-ab63-e84fcf2d230b",
   "metadata": {},
   "outputs": [
    {
     "data": {
      "text/plain": [
       "False"
      ]
     },
     "execution_count": 27,
     "metadata": {},
     "output_type": "execute_result"
    }
   ],
   "source": [
    "None == 0 # None and zero are not same"
   ]
  },
  {
   "cell_type": "code",
   "execution_count": 29,
   "id": "5bc448f7-cb5b-48a3-985d-07eeb3e00e15",
   "metadata": {},
   "outputs": [
    {
     "data": {
      "text/plain": [
       "False"
      ]
     },
     "execution_count": 29,
     "metadata": {},
     "output_type": "execute_result"
    }
   ],
   "source": [
    "None == False # None and False are not same"
   ]
  },
  {
   "cell_type": "code",
   "execution_count": 31,
   "id": "6b2c12dd-ebd5-4cc1-8848-b5b453e2d3e4",
   "metadata": {},
   "outputs": [
    {
     "data": {
      "text/plain": [
       "True"
      ]
     },
     "execution_count": 31,
     "metadata": {},
     "output_type": "execute_result"
    }
   ],
   "source": [
    "None == None"
   ]
  },
  {
   "cell_type": "code",
   "execution_count": 33,
   "id": "39b1b70f-8330-421a-b7ea-bbd6f2e6d600",
   "metadata": {},
   "outputs": [
    {
     "data": {
      "text/plain": [
       "False"
      ]
     },
     "execution_count": 33,
     "metadata": {},
     "output_type": "execute_result"
    }
   ],
   "source": [
    "not True"
   ]
  },
  {
   "cell_type": "code",
   "execution_count": 35,
   "id": "ca9ee886-1379-418c-8a24-87696ee77f6c",
   "metadata": {},
   "outputs": [
    {
     "data": {
      "text/plain": [
       "True"
      ]
     },
     "execution_count": 35,
     "metadata": {},
     "output_type": "execute_result"
    }
   ],
   "source": [
    "not False"
   ]
  },
  {
   "cell_type": "code",
   "execution_count": 37,
   "id": "8900c650-eaeb-4774-b7bb-26cb94b51919",
   "metadata": {},
   "outputs": [
    {
     "data": {
      "text/plain": [
       "True"
      ]
     },
     "execution_count": 37,
     "metadata": {},
     "output_type": "execute_result"
    }
   ],
   "source": [
    "not None"
   ]
  },
  {
   "cell_type": "code",
   "execution_count": 59,
   "id": "4f998c49-2545-4624-b1d3-b4667c3be45b",
   "metadata": {},
   "outputs": [],
   "source": [
    "a = None\n",
    "# a = 'ABCDE'\n",
    "if a is not None:\n",
    "    print(\"Inside if block\")"
   ]
  },
  {
   "cell_type": "code",
   "execution_count": 61,
   "id": "247557a8-0506-40b4-984b-90344666bb2e",
   "metadata": {},
   "outputs": [
    {
     "name": "stdout",
     "output_type": "stream",
     "text": [
      "Inside if block, value of a is ABCDE\n"
     ]
    }
   ],
   "source": [
    "a = None\n",
    "a = 'ABCDE'\n",
    "if a is not None:\n",
    "    print(f\"Inside if block, value of a is {a}\")   # f-string"
   ]
  },
  {
   "cell_type": "code",
   "execution_count": 51,
   "id": "cbbfe970-9f76-42d7-bcd9-3657e483aab1",
   "metadata": {},
   "outputs": [
    {
     "ename": "NameError",
     "evalue": "name 'z' is not defined",
     "output_type": "error",
     "traceback": [
      "\u001b[1;31m---------------------------------------------------------------------------\u001b[0m",
      "\u001b[1;31mNameError\u001b[0m                                 Traceback (most recent call last)",
      "Cell \u001b[1;32mIn[51], line 1\u001b[0m\n\u001b[1;32m----> 1\u001b[0m z\n",
      "\u001b[1;31mNameError\u001b[0m: name 'z' is not defined"
     ]
    }
   ],
   "source": [
    "z"
   ]
  },
  {
   "cell_type": "code",
   "execution_count": 47,
   "id": "a15a2ce8-9301-482d-9d74-f214bf33ef38",
   "metadata": {},
   "outputs": [],
   "source": [
    "c = None"
   ]
  },
  {
   "cell_type": "code",
   "execution_count": 53,
   "id": "9d1142fb-c1ed-43ce-94df-110300a6957f",
   "metadata": {},
   "outputs": [],
   "source": [
    "c  # In Jupyter notebook, variables holding None will have no output"
   ]
  },
  {
   "cell_type": "code",
   "execution_count": 55,
   "id": "d36e5064-a4f7-4b51-9429-59696ef74b94",
   "metadata": {},
   "outputs": [
    {
     "name": "stdout",
     "output_type": "stream",
     "text": [
      "None\n"
     ]
    }
   ],
   "source": [
    "print(c)"
   ]
  },
  {
   "cell_type": "code",
   "execution_count": 57,
   "id": "56034fb9-381e-4c12-ac41-681a7c3732ef",
   "metadata": {},
   "outputs": [
    {
     "name": "stdout",
     "output_type": "stream",
     "text": [
      "this is from if block\n"
     ]
    }
   ],
   "source": [
    "if True:\n",
    "    print('this is from if block')"
   ]
  },
  {
   "cell_type": "code",
   "execution_count": 65,
   "id": "b73da757-da86-4196-b57c-acdf2092c815",
   "metadata": {},
   "outputs": [],
   "source": [
    "a = 'ABCDE'"
   ]
  },
  {
   "cell_type": "code",
   "execution_count": 67,
   "id": "094d42e9-d2de-484b-943a-d1f50c45034a",
   "metadata": {},
   "outputs": [
    {
     "name": "stdout",
     "output_type": "stream",
     "text": [
      "ABCDE\n",
      "this is from if block\n"
     ]
    }
   ],
   "source": [
    "print(a)\n",
    "if a is not None:\n",
    "    print('this is from if block')"
   ]
  },
  {
   "cell_type": "code",
   "execution_count": 69,
   "id": "88a84f06-0edd-4b99-8446-265b1add7922",
   "metadata": {},
   "outputs": [
    {
     "name": "stdout",
     "output_type": "stream",
     "text": [
      "10\n",
      "this is from if block\n"
     ]
    }
   ],
   "source": [
    "print(b)\n",
    "if b is not None:\n",
    "    print('this is from if block')"
   ]
  },
  {
   "cell_type": "code",
   "execution_count": 75,
   "id": "1983ad31-6a37-467a-9012-f1e6cd6a785e",
   "metadata": {},
   "outputs": [
    {
     "name": "stdout",
     "output_type": "stream",
     "text": [
      "None\n"
     ]
    }
   ],
   "source": [
    "print(c) # c is having None\n",
    "if c is not None:\n",
    "    print('this is from if block')"
   ]
  },
  {
   "cell_type": "code",
   "execution_count": 77,
   "id": "a54d6311-fa07-4f5d-b153-978d82f8f519",
   "metadata": {},
   "outputs": [
    {
     "data": {
      "text/plain": [
       "False"
      ]
     },
     "execution_count": 77,
     "metadata": {},
     "output_type": "execute_result"
    }
   ],
   "source": [
    "c is not None"
   ]
  },
  {
   "cell_type": "code",
   "execution_count": 79,
   "id": "b13ad225-06b3-420e-bddb-283fb6c27380",
   "metadata": {},
   "outputs": [
    {
     "name": "stdout",
     "output_type": "stream",
     "text": [
      "None\n"
     ]
    }
   ],
   "source": [
    "print(c)"
   ]
  },
  {
   "cell_type": "code",
   "execution_count": null,
   "id": "6c3d828a-8b29-4669-84e9-0cefae1c063f",
   "metadata": {},
   "outputs": [],
   "source": []
  }
 ],
 "metadata": {
  "kernelspec": {
   "display_name": "Python 3 (ipykernel)",
   "language": "python",
   "name": "python3"
  },
  "language_info": {
   "codemirror_mode": {
    "name": "ipython",
    "version": 3
   },
   "file_extension": ".py",
   "mimetype": "text/x-python",
   "name": "python",
   "nbconvert_exporter": "python",
   "pygments_lexer": "ipython3",
   "version": "3.12.4"
  }
 },
 "nbformat": 4,
 "nbformat_minor": 5
}
