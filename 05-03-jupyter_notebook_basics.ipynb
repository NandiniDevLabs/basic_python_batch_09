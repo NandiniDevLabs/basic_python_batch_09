{
 "cells": [
  {
   "cell_type": "markdown",
   "id": "24f7458f-4027-484a-ad1f-38247d5b0712",
   "metadata": {},
   "source": [
    "# Heading 1\n",
    "## Heading 2\n",
    "### Heading 3\n",
    "#### Heading 4\n",
    "##### Heading 5\n",
    "###### Heading 6"
   ]
  },
  {
   "cell_type": "markdown",
   "id": "ddeaa981-4a60-4896-979b-14ce107cf570",
   "metadata": {},
   "source": [
    "This is plain text"
   ]
  },
  {
   "cell_type": "markdown",
   "id": "c3793b5f-479b-4531-96b0-70a3d4bce1ef",
   "metadata": {},
   "source": [
    "**NumPy** is a community-driven *open source project* developed by a diverse group of contributors.\n",
    "\n",
    "---\n",
    "The ***NumPy*** leadership has made a strong commitment to creating an open, inclusive, and positive community. Please read the NumPy Code of Conduct for guidance on how to interact with others in a way that makes our community thrive."
   ]
  },
  {
   "cell_type": "markdown",
   "id": "24b13506-0639-4d0f-baac-f7ba6fb289eb",
   "metadata": {},
   "source": [
    "> The NumPy project welcomes your expertise and enthusiasm!"
   ]
  },
  {
   "cell_type": "markdown",
   "id": "33890a9d-3ea4-4cb4-96b5-8df551d652ff",
   "metadata": {},
   "source": [
    "This is list\n",
    " * review pull requests \n",
    " * help us stay on top of new and old issues \n",
    " * develop tutorials, presentations, and other educational materials \n",
    " * maintain and improve our website "
   ]
  },
  {
   "cell_type": "markdown",
   "id": "ddc3301b-da2c-45af-9734-5f05531e9421",
   "metadata": {},
   "source": [
    "This is list\n",
    " 1. review pull requests \n",
    " 2. help us stay on top of new and old issues \n",
    " 3. develop tutorials, presentations, and other educational materials \n",
    " 4. maintain and improve [our website](https://github.com/numpy/numpy.org)"
   ]
  },
  {
   "cell_type": "code",
   "execution_count": 1,
   "id": "602525e3-e06f-42da-b2a3-ad3c0f90d7a2",
   "metadata": {},
   "outputs": [
    {
     "name": "stdout",
     "output_type": "stream",
     "text": [
      "hi\n"
     ]
    }
   ],
   "source": [
    "print(\"hi\")"
   ]
  },
  {
   "cell_type": "markdown",
   "id": "68aaa8bf-a117-4af5-ab03-0485602516df",
   "metadata": {},
   "source": [
    "NumPy requires `pytest` and `hypothesis`. Tests can then be run after installation with:"
   ]
  },
  {
   "cell_type": "markdown",
   "id": "eb128ad6-98e8-4646-a9b5-8d3c032f769e",
   "metadata": {},
   "source": [
    "This is code-block\n",
    "\n",
    "```\n",
    "python -c \"import numpy, sys; sys.exit(numpy.test() is False)\"\n",
    "```"
   ]
  },
  {
   "cell_type": "markdown",
   "id": "94b58e42-bee2-401e-a817-78ec0f8dc6bf",
   "metadata": {},
   "source": [
    "This is code-block\n",
    "\n",
    "~~~\n",
    "python -c \"import numpy, sys; sys.exit(numpy.test() is False)\"\n",
    "~~~"
   ]
  },
  {
   "cell_type": "code",
   "execution_count": 56,
   "id": "20d84761-b654-4587-b71b-0f1ed7f1c453",
   "metadata": {},
   "outputs": [
    {
     "name": "stdout",
     "output_type": "stream",
     "text": [
      "hi\n"
     ]
    }
   ],
   "source": [
    "print(\"hi\")"
   ]
  },
  {
   "cell_type": "code",
   "execution_count": 58,
   "id": "e215cd04-1bc7-4be8-928b-494f06a7a5f2",
   "metadata": {},
   "outputs": [
    {
     "name": "stdout",
     "output_type": "stream",
     "text": [
      "hi\n"
     ]
    }
   ],
   "source": [
    "print(\"hi\")"
   ]
  },
  {
   "cell_type": "code",
   "execution_count": 63,
   "id": "5471c133-3628-44cd-9b97-4f55096ea743",
   "metadata": {},
   "outputs": [],
   "source": [
    "# This is markdown content."
   ]
  },
  {
   "cell_type": "code",
   "execution_count": null,
   "id": "7d040aad-3b59-452e-b513-7b63dc118a30",
   "metadata": {},
   "outputs": [],
   "source": []
  },
  {
   "cell_type": "code",
   "execution_count": null,
   "id": "e52d1c5b-8f60-4ca8-a832-d419bd8138f4",
   "metadata": {},
   "outputs": [],
   "source": []
  }
 ],
 "metadata": {
  "kernelspec": {
   "display_name": "Python 3 (ipykernel)",
   "language": "python",
   "name": "python3"
  },
  "language_info": {
   "codemirror_mode": {
    "name": "ipython",
    "version": 3
   },
   "file_extension": ".py",
   "mimetype": "text/x-python",
   "name": "python",
   "nbconvert_exporter": "python",
   "pygments_lexer": "ipython3",
   "version": "3.12.4"
  }
 },
 "nbformat": 4,
 "nbformat_minor": 5
}
