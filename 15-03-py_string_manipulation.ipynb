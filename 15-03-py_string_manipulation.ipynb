{
 "cells": [
  {
   "cell_type": "code",
   "execution_count": 4,
   "id": "686a1142-2e9e-467a-bf75-f9d7ff23eadf",
   "metadata": {},
   "outputs": [],
   "source": [
    "a = 'ABCDEFGHIJKL'"
   ]
  },
  {
   "cell_type": "code",
   "execution_count": null,
   "id": "422207c2-0092-4f06-ae17-e45674870b52",
   "metadata": {},
   "outputs": [],
   "source": [
    "a.encode('ascii')"
   ]
  },
  {
   "cell_type": "code",
   "execution_count": null,
   "id": "78fe7ba2-7c14-4676-ac69-54ec857e1eb7",
   "metadata": {},
   "outputs": [],
   "source": [
    "f'Values of a is: {a}'"
   ]
  },
  {
   "cell_type": "code",
   "execution_count": null,
   "id": "2d915997-464d-4248-bf4c-520efaf76e62",
   "metadata": {},
   "outputs": [],
   "source": [
    "'Values of a is: {}'.format(a)"
   ]
  },
  {
   "cell_type": "code",
   "execution_count": 17,
   "id": "e17eca9b-bfe0-4f49-a035-ae9efcee655d",
   "metadata": {},
   "outputs": [],
   "source": [
    "name = 'Ram'\n",
    "age = 15\n",
    "weight = 30.4"
   ]
  },
  {
   "cell_type": "code",
   "execution_count": null,
   "id": "23677d94-18c7-4e80-ab62-8e4bdc2d43bd",
   "metadata": {},
   "outputs": [],
   "source": [
    "f'Name: {name}, Age: {age},  Weight: {weight}' # F string"
   ]
  },
  {
   "cell_type": "code",
   "execution_count": null,
   "id": "acaf8273-95f9-4419-ad84-bfcebbcf3e2a",
   "metadata": {},
   "outputs": [],
   "source": [
    "'Name: {}, Age: {},  Weight: {}'.format(name, age, weight)"
   ]
  },
  {
   "cell_type": "code",
   "execution_count": null,
   "id": "d87c78ab-9885-4204-a3f6-d02f2cbaf43d",
   "metadata": {},
   "outputs": [],
   "source": [
    "'Name: {}, Age: {},  Weight: {}, Name: {}'.format(name, age, weight, name)"
   ]
  },
  {
   "cell_type": "code",
   "execution_count": null,
   "id": "47e2e1a8-7575-43ed-ae5a-e16caae0af45",
   "metadata": {},
   "outputs": [],
   "source": [
    "dict1 = {'Name':'Ram','Age':15,'Weight':30.4}\n",
    "print(dict1)"
   ]
  },
  {
   "cell_type": "code",
   "execution_count": null,
   "id": "f8e87491-d839-4b40-99db-3858ac8e626b",
   "metadata": {},
   "outputs": [],
   "source": [
    "'{Name} is {Age} years old.'.format_map(dict1)"
   ]
  },
  {
   "cell_type": "code",
   "execution_count": null,
   "id": "e638f0d1-9b76-45a9-8e15-135f5647199d",
   "metadata": {},
   "outputs": [],
   "source": [
    "'{Name} weight is {Weight} kgs.'.format_map(dict1)"
   ]
  },
  {
   "cell_type": "code",
   "execution_count": null,
   "id": "15f69544-7bf5-489a-81f6-772dcce83f40",
   "metadata": {},
   "outputs": [],
   "source": [
    "\"{Name}'s weight is {Weight} kgs.\".format_map(dict1)"
   ]
  },
  {
   "cell_type": "code",
   "execution_count": null,
   "id": "c26d59ce-fedc-4c44-8f80-f388174312c8",
   "metadata": {},
   "outputs": [],
   "source": [
    "'{Name}\"s weight is {Weight} kgs.'.format_map(dict1)"
   ]
  },
  {
   "cell_type": "code",
   "execution_count": null,
   "id": "4011ab69-3e5b-4e2c-8053-aa00b8eb000f",
   "metadata": {},
   "outputs": [],
   "source": [
    "a = 10\n",
    "b = 25\n",
    "c = 47\n",
    "'Value of a is: {}, value of b is: {}, value of c is: {}'.format(a,b,c)"
   ]
  },
  {
   "cell_type": "code",
   "execution_count": null,
   "id": "b04316ed-1630-42a7-893a-ce338977ef7c",
   "metadata": {},
   "outputs": [],
   "source": [
    "a = 10\n",
    "b = 25\n",
    "c = 47\n",
    "'Value of a is: {aa}, value of b is: {bb}, value of c is: {cc}'.format(aa=10*a, bb=b%2,cc=c)"
   ]
  },
  {
   "cell_type": "code",
   "execution_count": null,
   "id": "6402c2c8-9711-4395-ab83-ea9774b887e5",
   "metadata": {},
   "outputs": [],
   "source": [
    "a = 10\n",
    "b = 25\n",
    "c = 47\n",
    "'Value of a is: {0}, value of b is: {1}, value of c is: {2}'.format(a,b,c)"
   ]
  },
  {
   "cell_type": "code",
   "execution_count": null,
   "id": "6e52be0e-6ccd-4366-a148-ab9b808688cb",
   "metadata": {},
   "outputs": [],
   "source": [
    "'Name: {0}, Age: {1},  Weight: {2}, Name: {0}'.format(name, age, weight)"
   ]
  },
  {
   "cell_type": "code",
   "execution_count": 293,
   "id": "778dc3ff-7377-4c42-8d69-ac62690f146f",
   "metadata": {},
   "outputs": [],
   "source": [
    "a = 'ABCDEFGHIJKLM'"
   ]
  },
  {
   "cell_type": "code",
   "execution_count": null,
   "id": "f11a8c64-d3a1-40aa-8ce4-a037ac494d9e",
   "metadata": {},
   "outputs": [],
   "source": [
    "a.index('EFG')"
   ]
  },
  {
   "cell_type": "code",
   "execution_count": null,
   "id": "337b41a4-b807-4b57-97f5-c55375935247",
   "metadata": {},
   "outputs": [],
   "source": [
    "a.index('efg') # It gives error when sub-string is not found"
   ]
  },
  {
   "cell_type": "code",
   "execution_count": null,
   "id": "08be53ee-22a4-48a7-be5b-83d91146d2e3",
   "metadata": {},
   "outputs": [],
   "source": [
    "a.find('EFG')"
   ]
  },
  {
   "cell_type": "code",
   "execution_count": null,
   "id": "7dd20d71-159e-4953-83a5-196ddecef392",
   "metadata": {},
   "outputs": [],
   "source": [
    "a.find('efg') # It returns -1 when sub-string is not found"
   ]
  },
  {
   "cell_type": "code",
   "execution_count": null,
   "id": "11928ce3-f7c2-4a41-810f-be6912f9ccac",
   "metadata": {},
   "outputs": [],
   "source": [
    "a.isalnum()  # A-Z or a-z or 0-9"
   ]
  },
  {
   "cell_type": "code",
   "execution_count": null,
   "id": "496bcb37-4eeb-4ab8-ab46-35f065133780",
   "metadata": {},
   "outputs": [],
   "source": [
    "'123'.isalnum()"
   ]
  },
  {
   "cell_type": "code",
   "execution_count": null,
   "id": "20ec57eb-35d9-484c-b376-011c4fce073c",
   "metadata": {},
   "outputs": [],
   "source": [
    "'abc123X'.isalnum()"
   ]
  },
  {
   "cell_type": "code",
   "execution_count": null,
   "id": "4c9e632f-4402-4bec-b4f0-4c7d03f35f65",
   "metadata": {},
   "outputs": [],
   "source": [
    "'abc@123X'.isalnum()"
   ]
  },
  {
   "cell_type": "code",
   "execution_count": null,
   "id": "9f48271b-586e-45d6-8730-690008ee9f3a",
   "metadata": {},
   "outputs": [],
   "source": [
    "a.isalpha() # A-Z or a-z"
   ]
  },
  {
   "cell_type": "code",
   "execution_count": null,
   "id": "31957b84-15d4-45cd-af71-6f23856a86d3",
   "metadata": {},
   "outputs": [],
   "source": [
    "'123'.isalpha()"
   ]
  },
  {
   "cell_type": "code",
   "execution_count": null,
   "id": "09cfb57f-cf94-4a0a-919a-c2646815ec2d",
   "metadata": {},
   "outputs": [],
   "source": [
    "'abc'.isalpha()"
   ]
  },
  {
   "cell_type": "code",
   "execution_count": null,
   "id": "bc9ce131-9ea5-4381-a916-dc870a3689b3",
   "metadata": {},
   "outputs": [],
   "source": [
    "'abc2'.isalpha()"
   ]
  },
  {
   "cell_type": "code",
   "execution_count": null,
   "id": "1402ffc0-976d-4002-911d-b75859d3e509",
   "metadata": {},
   "outputs": [],
   "source": [
    "a.isascii?\n",
    "# https://www.w3schools.com/charsets/ref_html_ascii.asp"
   ]
  },
  {
   "cell_type": "code",
   "execution_count": null,
   "id": "bd31c1f0-33e0-4c70-99a1-f394bf867841",
   "metadata": {},
   "outputs": [],
   "source": [
    "'abc'.isascii()"
   ]
  },
  {
   "cell_type": "code",
   "execution_count": null,
   "id": "e1363d96-da41-4d25-a050-66c09a89f370",
   "metadata": {},
   "outputs": [],
   "source": [
    "\"Straße\".isascii()"
   ]
  },
  {
   "cell_type": "code",
   "execution_count": null,
   "id": "fc0bd63e-5261-4901-9969-4d4d5c3c22a5",
   "metadata": {},
   "outputs": [],
   "source": [
    "\"nandini@datavalley\".isascii()"
   ]
  },
  {
   "cell_type": "code",
   "execution_count": null,
   "id": "6fe1383f-6a66-4d67-b20f-1cafab63d46a",
   "metadata": {},
   "outputs": [],
   "source": [
    "a"
   ]
  },
  {
   "cell_type": "code",
   "execution_count": null,
   "id": "28d83709-bcfe-425c-8a19-3b0939de8ab1",
   "metadata": {},
   "outputs": [],
   "source": [
    "a.isdecimal()"
   ]
  },
  {
   "cell_type": "code",
   "execution_count": 155,
   "id": "a30e17f3-ac5b-4c91-b07d-9c218cdd2525",
   "metadata": {},
   "outputs": [],
   "source": [
    "# Decimal, digit and numeric\n",
    "# decimal -- 0-9 -- doesn't allow floating points\n",
    "# digit --\n",
    "# numeric -- conversion - ½, 2²"
   ]
  },
  {
   "cell_type": "code",
   "execution_count": null,
   "id": "7476b2cc-3f39-473c-bdf5-a809b56bda84",
   "metadata": {},
   "outputs": [],
   "source": [
    "'123'.isdecimal()"
   ]
  },
  {
   "cell_type": "code",
   "execution_count": null,
   "id": "dfc790d5-e559-445b-a6fb-fd0eab427a0a",
   "metadata": {},
   "outputs": [],
   "source": [
    "'123.45'.isdecimal()"
   ]
  },
  {
   "cell_type": "code",
   "execution_count": null,
   "id": "64476d0d-77f7-4e91-a447-d27bdb96d762",
   "metadata": {},
   "outputs": [],
   "source": [
    "''.isdecimal()"
   ]
  },
  {
   "cell_type": "code",
   "execution_count": null,
   "id": "48211b35-2cc2-4312-8b7a-50e49acdc9b4",
   "metadata": {},
   "outputs": [],
   "source": [
    "'2²'.isdecimal()"
   ]
  },
  {
   "cell_type": "code",
   "execution_count": null,
   "id": "c5feac70-314f-444b-b109-c22e983f386a",
   "metadata": {},
   "outputs": [],
   "source": [
    "'123'.isdigit()"
   ]
  },
  {
   "cell_type": "code",
   "execution_count": null,
   "id": "cbaf05f9-d83c-41aa-8560-c4a06145e90b",
   "metadata": {},
   "outputs": [],
   "source": [
    "'123.45'.isdigit()"
   ]
  },
  {
   "cell_type": "code",
   "execution_count": null,
   "id": "7480c1ef-7580-4ecf-aa9b-5ffe0322022f",
   "metadata": {},
   "outputs": [],
   "source": [
    "'2²'.isdigit()"
   ]
  },
  {
   "cell_type": "code",
   "execution_count": null,
   "id": "4ad8da82-83e2-4aab-a2c7-178e1cb4c291",
   "metadata": {},
   "outputs": [],
   "source": [
    "'½'.isnumeric()"
   ]
  },
  {
   "cell_type": "code",
   "execution_count": null,
   "id": "348b64e6-3336-433f-be42-5983334d47b6",
   "metadata": {},
   "outputs": [],
   "source": [
    "float('123.45')"
   ]
  },
  {
   "cell_type": "code",
   "execution_count": null,
   "id": "c4817f2c-41df-4bfa-9b79-235ec3044565",
   "metadata": {},
   "outputs": [],
   "source": [
    "'０３８'.isdecimal()"
   ]
  },
  {
   "cell_type": "code",
   "execution_count": 186,
   "id": "04248c57-a95e-41be-9dc4-6846cc6b2708",
   "metadata": {},
   "outputs": [],
   "source": [
    "# https://stackoverflow.com/questions/44891070/whats-the-difference-between-str-isdigit-isnumeric-and-isdecimal-in-pyth\n",
    "# Check the below table\n",
    "# isdecimal()\tisdigit()\tisnumeric()\tExample\n",
    "# True\tTrue\tTrue\t\"038\", \"੦੩੮\", \"０３８\"\n",
    "# False\tTrue\tTrue\t\"⁰³⁸\", \"🄀⒊⒏\", \"⓪③⑧\"\n",
    "# False\tFalse\tTrue\t\"↉⅛⅘\", \"ⅠⅢⅧ\", \"⑩⑬㊿\", \"壹貳參\"\n",
    "# False\tFalse\tFalse\t\"abc\", \"38.0\", \"-38\""
   ]
  },
  {
   "cell_type": "code",
   "execution_count": null,
   "id": "7eb51f75-0db2-48f0-93bb-4e66fbe87e74",
   "metadata": {},
   "outputs": [],
   "source": [
    "a"
   ]
  },
  {
   "cell_type": "code",
   "execution_count": null,
   "id": "96a9b405-4cdf-4f73-9b46-41b53ce761c9",
   "metadata": {},
   "outputs": [],
   "source": [
    "a.lower()"
   ]
  },
  {
   "cell_type": "code",
   "execution_count": null,
   "id": "12bf9400-1d87-4610-ae93-eeeaf9df9411",
   "metadata": {},
   "outputs": [],
   "source": [
    "a.islower()"
   ]
  },
  {
   "cell_type": "code",
   "execution_count": null,
   "id": "f88435c1-0d01-4a01-b6db-5af26019d42d",
   "metadata": {},
   "outputs": [],
   "source": [
    "'abcdefghijklm'.islower()"
   ]
  },
  {
   "cell_type": "code",
   "execution_count": null,
   "id": "67d7fa3e-8355-4e4c-8cff-8f735e429d5b",
   "metadata": {},
   "outputs": [],
   "source": [
    "a.upper()"
   ]
  },
  {
   "cell_type": "code",
   "execution_count": null,
   "id": "ad901deb-b1f7-4c72-8fc4-09cf9df84d01",
   "metadata": {},
   "outputs": [],
   "source": [
    "'ABCDEFGHIJKLM'.isupper()"
   ]
  },
  {
   "cell_type": "code",
   "execution_count": null,
   "id": "781d2191-653c-48c2-a56f-5627cff23007",
   "metadata": {},
   "outputs": [],
   "source": [
    "'abcdefghijklm'.isupper()"
   ]
  },
  {
   "cell_type": "code",
   "execution_count": null,
   "id": "a29a2090-7a04-4376-8ff6-b42561d3ec12",
   "metadata": {},
   "outputs": [],
   "source": [
    "print(a)\n",
    "print(a.title())"
   ]
  },
  {
   "cell_type": "code",
   "execution_count": null,
   "id": "a8d6e100-6144-48cc-bf73-c463e540167d",
   "metadata": {},
   "outputs": [],
   "source": [
    "'ABCDEFGHIJKLM'.istitle()"
   ]
  },
  {
   "cell_type": "code",
   "execution_count": null,
   "id": "0f4fdb3f-c078-46e2-b2c1-0f55dc9d0adb",
   "metadata": {},
   "outputs": [],
   "source": [
    "'Abcdefghijklm'.istitle()"
   ]
  },
  {
   "cell_type": "code",
   "execution_count": null,
   "id": "208a13ec-9590-4a50-8a70-e6632f9c11b2",
   "metadata": {},
   "outputs": [],
   "source": [
    "' '.isspace()"
   ]
  },
  {
   "cell_type": "code",
   "execution_count": null,
   "id": "ee384832-3190-4fee-82da-ed819f24ec07",
   "metadata": {},
   "outputs": [],
   "source": [
    "'a b c'.isspace()"
   ]
  },
  {
   "cell_type": "code",
   "execution_count": null,
   "id": "47a3c0c6-e9fa-44ce-b69c-64ddb895c102",
   "metadata": {},
   "outputs": [],
   "source": [
    "'       '.isspace()"
   ]
  },
  {
   "cell_type": "code",
   "execution_count": null,
   "id": "412cacc5-5cac-4bc4-ac9c-5faafe3f01c5",
   "metadata": {},
   "outputs": [],
   "source": [
    "a.isprintable()"
   ]
  },
  {
   "cell_type": "code",
   "execution_count": null,
   "id": "d2d8aeef-0286-41b3-9a2d-a0244502f7a8",
   "metadata": {},
   "outputs": [],
   "source": [
    "\"🄀⒊⒏\".isprintable()"
   ]
  },
  {
   "cell_type": "code",
   "execution_count": null,
   "id": "c2ffc4c1-065a-42bb-9e7d-94dc5a272ccd",
   "metadata": {},
   "outputs": [],
   "source": [
    "\"😀\".isprintable()"
   ]
  },
  {
   "cell_type": "code",
   "execution_count": null,
   "id": "cb200d5b-ef1e-48ee-be7c-3b44ad66926c",
   "metadata": {},
   "outputs": [],
   "source": [
    "print(\"😊😀\")"
   ]
  },
  {
   "cell_type": "code",
   "execution_count": null,
   "id": "c64615cb-c1d5-4d73-9f40-f1ba1315d96b",
   "metadata": {},
   "outputs": [],
   "source": [
    "print(\"🄀⒊⒏\")"
   ]
  },
  {
   "cell_type": "code",
   "execution_count": null,
   "id": "d77c4d21-8d94-4cd4-aba0-7e91eabcb8c5",
   "metadata": {},
   "outputs": [],
   "source": [
    "'input_string'.isidentifier() ## a-z or 0-9 or _(underscore)"
   ]
  },
  {
   "cell_type": "code",
   "execution_count": null,
   "id": "5b29a35a-819a-4679-8f5c-d2630303aabd",
   "metadata": {},
   "outputs": [],
   "source": [
    "'test string'.isidentifier()"
   ]
  },
  {
   "cell_type": "code",
   "execution_count": null,
   "id": "08bac0f2-6da0-4238-b0a6-5e3d915f9b5d",
   "metadata": {},
   "outputs": [],
   "source": [
    "'input_list'.isidentifier() # verify if it can be valid variable name or function name"
   ]
  },
  {
   "cell_type": "code",
   "execution_count": null,
   "id": "f72d4322-b90b-4e38-a172-75b45550d480",
   "metadata": {},
   "outputs": [],
   "source": [
    "'1a'.isidentifier()"
   ]
  },
  {
   "cell_type": "code",
   "execution_count": null,
   "id": "fdfaa2a3-8f23-445a-9d0a-84b91825a489",
   "metadata": {},
   "outputs": [],
   "source": [
    "'_a1'.isidentifier()"
   ]
  },
  {
   "cell_type": "code",
   "execution_count": null,
   "id": "642a9bd0-99d5-46a8-ab21-7d7e17f4cc1e",
   "metadata": {},
   "outputs": [],
   "source": [
    "'None'.isidentifier() \n",
    "# although it shows valid here, we shouldn't use if as variable name or function name"
   ]
  },
  {
   "cell_type": "code",
   "execution_count": null,
   "id": "2cde90c7-4083-42db-abfe-a2d7fcb94c4f",
   "metadata": {},
   "outputs": [],
   "source": []
  },
  {
   "cell_type": "code",
   "execution_count": null,
   "id": "89dfbb8a-0026-4d54-a4e6-4015206cd862",
   "metadata": {},
   "outputs": [],
   "source": []
  }
 ],
 "metadata": {
  "kernelspec": {
   "display_name": "Python 3 (ipykernel)",
   "language": "python",
   "name": "python3"
  },
  "language_info": {
   "codemirror_mode": {
    "name": "ipython",
    "version": 3
   },
   "file_extension": ".py",
   "mimetype": "text/x-python",
   "name": "python",
   "nbconvert_exporter": "python",
   "pygments_lexer": "ipython3",
   "version": "3.12.4"
  }
 },
 "nbformat": 4,
 "nbformat_minor": 5
}
