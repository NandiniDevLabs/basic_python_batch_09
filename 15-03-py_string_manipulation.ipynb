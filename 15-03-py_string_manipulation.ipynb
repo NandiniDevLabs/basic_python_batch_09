{
 "cells": [
  {
   "cell_type": "code",
   "execution_count": 1,
   "id": "686a1142-2e9e-467a-bf75-f9d7ff23eadf",
   "metadata": {},
   "outputs": [],
   "source": [
    "a = 'ABCDEFGHIJKL'"
   ]
  },
  {
   "cell_type": "code",
   "execution_count": 2,
   "id": "422207c2-0092-4f06-ae17-e45674870b52",
   "metadata": {},
   "outputs": [
    {
     "data": {
      "text/plain": [
       "b'ABCDEFGHIJKL'"
      ]
     },
     "execution_count": 2,
     "metadata": {},
     "output_type": "execute_result"
    }
   ],
   "source": [
    "a.encode('ascii')"
   ]
  },
  {
   "cell_type": "code",
   "execution_count": 3,
   "id": "78fe7ba2-7c14-4676-ac69-54ec857e1eb7",
   "metadata": {},
   "outputs": [
    {
     "data": {
      "text/plain": [
       "'Values of a is: ABCDEFGHIJKL'"
      ]
     },
     "execution_count": 3,
     "metadata": {},
     "output_type": "execute_result"
    }
   ],
   "source": [
    "f'Values of a is: {a}'"
   ]
  },
  {
   "cell_type": "code",
   "execution_count": 4,
   "id": "2d915997-464d-4248-bf4c-520efaf76e62",
   "metadata": {},
   "outputs": [
    {
     "data": {
      "text/plain": [
       "'Values of a is: ABCDEFGHIJKL'"
      ]
     },
     "execution_count": 4,
     "metadata": {},
     "output_type": "execute_result"
    }
   ],
   "source": [
    "'Values of a is: {}'.format(a)"
   ]
  },
  {
   "cell_type": "code",
   "execution_count": 5,
   "id": "e17eca9b-bfe0-4f49-a035-ae9efcee655d",
   "metadata": {},
   "outputs": [],
   "source": [
    "name = 'Ram'\n",
    "age = 15\n",
    "weight = 30.4"
   ]
  },
  {
   "cell_type": "code",
   "execution_count": 6,
   "id": "23677d94-18c7-4e80-ab62-8e4bdc2d43bd",
   "metadata": {},
   "outputs": [
    {
     "data": {
      "text/plain": [
       "'Name: Ram, Age: 15,  Weight: 30.4'"
      ]
     },
     "execution_count": 6,
     "metadata": {},
     "output_type": "execute_result"
    }
   ],
   "source": [
    "f'Name: {name}, Age: {age},  Weight: {weight}' # F string"
   ]
  },
  {
   "cell_type": "code",
   "execution_count": 7,
   "id": "acaf8273-95f9-4419-ad84-bfcebbcf3e2a",
   "metadata": {},
   "outputs": [
    {
     "data": {
      "text/plain": [
       "'Name: Ram, Age: 15,  Weight: 30.4'"
      ]
     },
     "execution_count": 7,
     "metadata": {},
     "output_type": "execute_result"
    }
   ],
   "source": [
    "'Name: {}, Age: {},  Weight: {}'.format(name, age, weight)"
   ]
  },
  {
   "cell_type": "code",
   "execution_count": 8,
   "id": "d87c78ab-9885-4204-a3f6-d02f2cbaf43d",
   "metadata": {},
   "outputs": [
    {
     "data": {
      "text/plain": [
       "'Name: Ram, Age: 15,  Weight: 30.4, Name: Ram'"
      ]
     },
     "execution_count": 8,
     "metadata": {},
     "output_type": "execute_result"
    }
   ],
   "source": [
    "'Name: {}, Age: {},  Weight: {}, Name: {}'.format(name, age, weight, name)"
   ]
  },
  {
   "cell_type": "code",
   "execution_count": 9,
   "id": "47e2e1a8-7575-43ed-ae5a-e16caae0af45",
   "metadata": {},
   "outputs": [
    {
     "name": "stdout",
     "output_type": "stream",
     "text": [
      "{'Name': 'Ram', 'Age': 15, 'Weight': 30.4}\n"
     ]
    }
   ],
   "source": [
    "dict1 = {'Name':'Ram','Age':15,'Weight':30.4}\n",
    "print(dict1)"
   ]
  },
  {
   "cell_type": "code",
   "execution_count": 10,
   "id": "f8e87491-d839-4b40-99db-3858ac8e626b",
   "metadata": {},
   "outputs": [
    {
     "data": {
      "text/plain": [
       "'Ram is 15 years old.'"
      ]
     },
     "execution_count": 10,
     "metadata": {},
     "output_type": "execute_result"
    }
   ],
   "source": [
    "'{Name} is {Age} years old.'.format_map(dict1)"
   ]
  },
  {
   "cell_type": "code",
   "execution_count": 11,
   "id": "e638f0d1-9b76-45a9-8e15-135f5647199d",
   "metadata": {},
   "outputs": [
    {
     "data": {
      "text/plain": [
       "'Ram weight is 30.4 kgs.'"
      ]
     },
     "execution_count": 11,
     "metadata": {},
     "output_type": "execute_result"
    }
   ],
   "source": [
    "'{Name} weight is {Weight} kgs.'.format_map(dict1)"
   ]
  },
  {
   "cell_type": "code",
   "execution_count": 12,
   "id": "15f69544-7bf5-489a-81f6-772dcce83f40",
   "metadata": {},
   "outputs": [
    {
     "data": {
      "text/plain": [
       "\"Ram's weight is 30.4 kgs.\""
      ]
     },
     "execution_count": 12,
     "metadata": {},
     "output_type": "execute_result"
    }
   ],
   "source": [
    "\"{Name}'s weight is {Weight} kgs.\".format_map(dict1)"
   ]
  },
  {
   "cell_type": "code",
   "execution_count": 13,
   "id": "c26d59ce-fedc-4c44-8f80-f388174312c8",
   "metadata": {},
   "outputs": [
    {
     "data": {
      "text/plain": [
       "'Ram\"s weight is 30.4 kgs.'"
      ]
     },
     "execution_count": 13,
     "metadata": {},
     "output_type": "execute_result"
    }
   ],
   "source": [
    "'{Name}\"s weight is {Weight} kgs.'.format_map(dict1)"
   ]
  },
  {
   "cell_type": "code",
   "execution_count": 14,
   "id": "4011ab69-3e5b-4e2c-8053-aa00b8eb000f",
   "metadata": {},
   "outputs": [
    {
     "data": {
      "text/plain": [
       "'Value of a is: 10, value of b is: 25, value of c is: 47'"
      ]
     },
     "execution_count": 14,
     "metadata": {},
     "output_type": "execute_result"
    }
   ],
   "source": [
    "a = 10\n",
    "b = 25\n",
    "c = 47\n",
    "'Value of a is: {}, value of b is: {}, value of c is: {}'.format(a,b,c)"
   ]
  },
  {
   "cell_type": "code",
   "execution_count": 15,
   "id": "b04316ed-1630-42a7-893a-ce338977ef7c",
   "metadata": {},
   "outputs": [
    {
     "data": {
      "text/plain": [
       "'Value of a is: 100, value of b is: 1, value of c is: 47'"
      ]
     },
     "execution_count": 15,
     "metadata": {},
     "output_type": "execute_result"
    }
   ],
   "source": [
    "a = 10\n",
    "b = 25\n",
    "c = 47\n",
    "'Value of a is: {aa}, value of b is: {bb}, value of c is: {cc}'.format(aa=10*a, bb=b%2,cc=c)"
   ]
  },
  {
   "cell_type": "code",
   "execution_count": 16,
   "id": "6402c2c8-9711-4395-ab83-ea9774b887e5",
   "metadata": {},
   "outputs": [
    {
     "data": {
      "text/plain": [
       "'Value of a is: 10, value of b is: 25, value of c is: 47'"
      ]
     },
     "execution_count": 16,
     "metadata": {},
     "output_type": "execute_result"
    }
   ],
   "source": [
    "a = 10\n",
    "b = 25\n",
    "c = 47\n",
    "'Value of a is: {0}, value of b is: {1}, value of c is: {2}'.format(a,b,c)"
   ]
  },
  {
   "cell_type": "code",
   "execution_count": 17,
   "id": "6e52be0e-6ccd-4366-a148-ab9b808688cb",
   "metadata": {},
   "outputs": [
    {
     "data": {
      "text/plain": [
       "'Name: Ram, Age: 15,  Weight: 30.4, Name: Ram'"
      ]
     },
     "execution_count": 17,
     "metadata": {},
     "output_type": "execute_result"
    }
   ],
   "source": [
    "'Name: {0}, Age: {1},  Weight: {2}, Name: {0}'.format(name, age, weight)"
   ]
  },
  {
   "cell_type": "code",
   "execution_count": 18,
   "id": "778dc3ff-7377-4c42-8d69-ac62690f146f",
   "metadata": {},
   "outputs": [],
   "source": [
    "a = 'ABCDEFGHIJKLM'"
   ]
  },
  {
   "cell_type": "code",
   "execution_count": 19,
   "id": "f11a8c64-d3a1-40aa-8ce4-a037ac494d9e",
   "metadata": {},
   "outputs": [
    {
     "data": {
      "text/plain": [
       "4"
      ]
     },
     "execution_count": 19,
     "metadata": {},
     "output_type": "execute_result"
    }
   ],
   "source": [
    "a.index('EFG')"
   ]
  },
  {
   "cell_type": "code",
   "execution_count": 21,
   "id": "337b41a4-b807-4b57-97f5-c55375935247",
   "metadata": {},
   "outputs": [
    {
     "ename": "ValueError",
     "evalue": "substring not found",
     "output_type": "error",
     "traceback": [
      "\u001b[1;31m---------------------------------------------------------------------------\u001b[0m",
      "\u001b[1;31mValueError\u001b[0m                                Traceback (most recent call last)",
      "Cell \u001b[1;32mIn[21], line 1\u001b[0m\n\u001b[1;32m----> 1\u001b[0m \u001b[43ma\u001b[49m\u001b[38;5;241;43m.\u001b[39;49m\u001b[43mindex\u001b[49m\u001b[43m(\u001b[49m\u001b[38;5;124;43m'\u001b[39;49m\u001b[38;5;124;43mefg\u001b[39;49m\u001b[38;5;124;43m'\u001b[39;49m\u001b[43m)\u001b[49m \u001b[38;5;66;03m# It gives error when sub-string is not found\u001b[39;00m\n",
      "\u001b[1;31mValueError\u001b[0m: substring not found"
     ]
    }
   ],
   "source": [
    "a.index('efg') # It gives error when sub-string is not found"
   ]
  },
  {
   "cell_type": "code",
   "execution_count": 22,
   "id": "08be53ee-22a4-48a7-be5b-83d91146d2e3",
   "metadata": {},
   "outputs": [
    {
     "data": {
      "text/plain": [
       "4"
      ]
     },
     "execution_count": 22,
     "metadata": {},
     "output_type": "execute_result"
    }
   ],
   "source": [
    "a.find('EFG')"
   ]
  },
  {
   "cell_type": "code",
   "execution_count": 23,
   "id": "7dd20d71-159e-4953-83a5-196ddecef392",
   "metadata": {},
   "outputs": [
    {
     "data": {
      "text/plain": [
       "-1"
      ]
     },
     "execution_count": 23,
     "metadata": {},
     "output_type": "execute_result"
    }
   ],
   "source": [
    "a.find('efg') # It returns -1 when sub-string is not found"
   ]
  },
  {
   "cell_type": "code",
   "execution_count": 24,
   "id": "11928ce3-f7c2-4a41-810f-be6912f9ccac",
   "metadata": {},
   "outputs": [
    {
     "data": {
      "text/plain": [
       "True"
      ]
     },
     "execution_count": 24,
     "metadata": {},
     "output_type": "execute_result"
    }
   ],
   "source": [
    "a.isalnum()  # A-Z or a-z or 0-9"
   ]
  },
  {
   "cell_type": "code",
   "execution_count": 25,
   "id": "496bcb37-4eeb-4ab8-ab46-35f065133780",
   "metadata": {},
   "outputs": [
    {
     "data": {
      "text/plain": [
       "True"
      ]
     },
     "execution_count": 25,
     "metadata": {},
     "output_type": "execute_result"
    }
   ],
   "source": [
    "'123'.isalnum()"
   ]
  },
  {
   "cell_type": "code",
   "execution_count": 26,
   "id": "20ec57eb-35d9-484c-b376-011c4fce073c",
   "metadata": {},
   "outputs": [
    {
     "data": {
      "text/plain": [
       "True"
      ]
     },
     "execution_count": 26,
     "metadata": {},
     "output_type": "execute_result"
    }
   ],
   "source": [
    "'abc123X'.isalnum()"
   ]
  },
  {
   "cell_type": "code",
   "execution_count": 27,
   "id": "4c9e632f-4402-4bec-b4f0-4c7d03f35f65",
   "metadata": {},
   "outputs": [
    {
     "data": {
      "text/plain": [
       "False"
      ]
     },
     "execution_count": 27,
     "metadata": {},
     "output_type": "execute_result"
    }
   ],
   "source": [
    "'abc@123X'.isalnum()"
   ]
  },
  {
   "cell_type": "code",
   "execution_count": 28,
   "id": "9f48271b-586e-45d6-8730-690008ee9f3a",
   "metadata": {},
   "outputs": [
    {
     "data": {
      "text/plain": [
       "True"
      ]
     },
     "execution_count": 28,
     "metadata": {},
     "output_type": "execute_result"
    }
   ],
   "source": [
    "a.isalpha() # A-Z or a-z"
   ]
  },
  {
   "cell_type": "code",
   "execution_count": 29,
   "id": "31957b84-15d4-45cd-af71-6f23856a86d3",
   "metadata": {},
   "outputs": [
    {
     "data": {
      "text/plain": [
       "False"
      ]
     },
     "execution_count": 29,
     "metadata": {},
     "output_type": "execute_result"
    }
   ],
   "source": [
    "'123'.isalpha()"
   ]
  },
  {
   "cell_type": "code",
   "execution_count": 30,
   "id": "09cfb57f-cf94-4a0a-919a-c2646815ec2d",
   "metadata": {},
   "outputs": [
    {
     "data": {
      "text/plain": [
       "True"
      ]
     },
     "execution_count": 30,
     "metadata": {},
     "output_type": "execute_result"
    }
   ],
   "source": [
    "'abc'.isalpha()"
   ]
  },
  {
   "cell_type": "code",
   "execution_count": 31,
   "id": "bc9ce131-9ea5-4381-a916-dc870a3689b3",
   "metadata": {},
   "outputs": [
    {
     "data": {
      "text/plain": [
       "False"
      ]
     },
     "execution_count": 31,
     "metadata": {},
     "output_type": "execute_result"
    }
   ],
   "source": [
    "'abc2'.isalpha()"
   ]
  },
  {
   "cell_type": "code",
   "execution_count": 32,
   "id": "1402ffc0-976d-4002-911d-b75859d3e509",
   "metadata": {},
   "outputs": [
    {
     "name": "stdout",
     "output_type": "stream",
     "text": [
      "\u001b[1;31mSignature:\u001b[0m \u001b[0ma\u001b[0m\u001b[1;33m.\u001b[0m\u001b[0misascii\u001b[0m\u001b[1;33m(\u001b[0m\u001b[1;33m)\u001b[0m\u001b[1;33m\u001b[0m\u001b[1;33m\u001b[0m\u001b[0m\n",
      "\u001b[1;31mDocstring:\u001b[0m\n",
      "Return True if all characters in the string are ASCII, False otherwise.\n",
      "\n",
      "ASCII characters have code points in the range U+0000-U+007F.\n",
      "Empty string is ASCII too.\n",
      "\u001b[1;31mType:\u001b[0m      builtin_function_or_method"
     ]
    }
   ],
   "source": [
    "a.isascii?\n",
    "# https://www.w3schools.com/charsets/ref_html_ascii.asp"
   ]
  },
  {
   "cell_type": "code",
   "execution_count": 33,
   "id": "bd31c1f0-33e0-4c70-99a1-f394bf867841",
   "metadata": {},
   "outputs": [
    {
     "data": {
      "text/plain": [
       "True"
      ]
     },
     "execution_count": 33,
     "metadata": {},
     "output_type": "execute_result"
    }
   ],
   "source": [
    "'abc'.isascii()"
   ]
  },
  {
   "cell_type": "code",
   "execution_count": 34,
   "id": "e1363d96-da41-4d25-a050-66c09a89f370",
   "metadata": {},
   "outputs": [
    {
     "data": {
      "text/plain": [
       "False"
      ]
     },
     "execution_count": 34,
     "metadata": {},
     "output_type": "execute_result"
    }
   ],
   "source": [
    "\"Straße\".isascii()"
   ]
  },
  {
   "cell_type": "code",
   "execution_count": 35,
   "id": "fc0bd63e-5261-4901-9969-4d4d5c3c22a5",
   "metadata": {},
   "outputs": [
    {
     "data": {
      "text/plain": [
       "True"
      ]
     },
     "execution_count": 35,
     "metadata": {},
     "output_type": "execute_result"
    }
   ],
   "source": [
    "\"nandini@datavalley\".isascii()"
   ]
  },
  {
   "cell_type": "code",
   "execution_count": 36,
   "id": "6fe1383f-6a66-4d67-b20f-1cafab63d46a",
   "metadata": {},
   "outputs": [
    {
     "data": {
      "text/plain": [
       "'ABCDEFGHIJKLM'"
      ]
     },
     "execution_count": 36,
     "metadata": {},
     "output_type": "execute_result"
    }
   ],
   "source": [
    "a"
   ]
  },
  {
   "cell_type": "code",
   "execution_count": 37,
   "id": "28d83709-bcfe-425c-8a19-3b0939de8ab1",
   "metadata": {},
   "outputs": [
    {
     "data": {
      "text/plain": [
       "False"
      ]
     },
     "execution_count": 37,
     "metadata": {},
     "output_type": "execute_result"
    }
   ],
   "source": [
    "a.isdecimal()"
   ]
  },
  {
   "cell_type": "code",
   "execution_count": 38,
   "id": "a30e17f3-ac5b-4c91-b07d-9c218cdd2525",
   "metadata": {},
   "outputs": [],
   "source": [
    "# Decimal, digit and numeric\n",
    "# decimal -- 0-9 -- doesn't allow floating points\n",
    "# digit --\n",
    "# numeric -- conversion - ½, 2²"
   ]
  },
  {
   "cell_type": "code",
   "execution_count": 39,
   "id": "7476b2cc-3f39-473c-bdf5-a809b56bda84",
   "metadata": {},
   "outputs": [
    {
     "data": {
      "text/plain": [
       "True"
      ]
     },
     "execution_count": 39,
     "metadata": {},
     "output_type": "execute_result"
    }
   ],
   "source": [
    "'123'.isdecimal()"
   ]
  },
  {
   "cell_type": "code",
   "execution_count": 40,
   "id": "dfc790d5-e559-445b-a6fb-fd0eab427a0a",
   "metadata": {},
   "outputs": [
    {
     "data": {
      "text/plain": [
       "False"
      ]
     },
     "execution_count": 40,
     "metadata": {},
     "output_type": "execute_result"
    }
   ],
   "source": [
    "'123.45'.isdecimal()"
   ]
  },
  {
   "cell_type": "code",
   "execution_count": 41,
   "id": "64476d0d-77f7-4e91-a447-d27bdb96d762",
   "metadata": {},
   "outputs": [
    {
     "data": {
      "text/plain": [
       "False"
      ]
     },
     "execution_count": 41,
     "metadata": {},
     "output_type": "execute_result"
    }
   ],
   "source": [
    "''.isdecimal()"
   ]
  },
  {
   "cell_type": "code",
   "execution_count": 42,
   "id": "48211b35-2cc2-4312-8b7a-50e49acdc9b4",
   "metadata": {},
   "outputs": [
    {
     "data": {
      "text/plain": [
       "False"
      ]
     },
     "execution_count": 42,
     "metadata": {},
     "output_type": "execute_result"
    }
   ],
   "source": [
    "'2²'.isdecimal()"
   ]
  },
  {
   "cell_type": "code",
   "execution_count": 43,
   "id": "c5feac70-314f-444b-b109-c22e983f386a",
   "metadata": {},
   "outputs": [
    {
     "data": {
      "text/plain": [
       "True"
      ]
     },
     "execution_count": 43,
     "metadata": {},
     "output_type": "execute_result"
    }
   ],
   "source": [
    "'123'.isdigit()"
   ]
  },
  {
   "cell_type": "code",
   "execution_count": 44,
   "id": "cbaf05f9-d83c-41aa-8560-c4a06145e90b",
   "metadata": {},
   "outputs": [
    {
     "data": {
      "text/plain": [
       "False"
      ]
     },
     "execution_count": 44,
     "metadata": {},
     "output_type": "execute_result"
    }
   ],
   "source": [
    "'123.45'.isdigit()"
   ]
  },
  {
   "cell_type": "code",
   "execution_count": 45,
   "id": "7480c1ef-7580-4ecf-aa9b-5ffe0322022f",
   "metadata": {},
   "outputs": [
    {
     "data": {
      "text/plain": [
       "True"
      ]
     },
     "execution_count": 45,
     "metadata": {},
     "output_type": "execute_result"
    }
   ],
   "source": [
    "'2²'.isdigit()"
   ]
  },
  {
   "cell_type": "code",
   "execution_count": 46,
   "id": "4ad8da82-83e2-4aab-a2c7-178e1cb4c291",
   "metadata": {},
   "outputs": [
    {
     "data": {
      "text/plain": [
       "True"
      ]
     },
     "execution_count": 46,
     "metadata": {},
     "output_type": "execute_result"
    }
   ],
   "source": [
    "'½'.isnumeric()"
   ]
  },
  {
   "cell_type": "code",
   "execution_count": 47,
   "id": "348b64e6-3336-433f-be42-5983334d47b6",
   "metadata": {},
   "outputs": [
    {
     "data": {
      "text/plain": [
       "123.45"
      ]
     },
     "execution_count": 47,
     "metadata": {},
     "output_type": "execute_result"
    }
   ],
   "source": [
    "float('123.45')"
   ]
  },
  {
   "cell_type": "code",
   "execution_count": 48,
   "id": "c4817f2c-41df-4bfa-9b79-235ec3044565",
   "metadata": {},
   "outputs": [
    {
     "data": {
      "text/plain": [
       "True"
      ]
     },
     "execution_count": 48,
     "metadata": {},
     "output_type": "execute_result"
    }
   ],
   "source": [
    "'０３８'.isdecimal()"
   ]
  },
  {
   "cell_type": "code",
   "execution_count": 49,
   "id": "04248c57-a95e-41be-9dc4-6846cc6b2708",
   "metadata": {},
   "outputs": [],
   "source": [
    "# https://stackoverflow.com/questions/44891070/whats-the-difference-between-str-isdigit-isnumeric-and-isdecimal-in-pyth\n",
    "# Check the below table\n",
    "# isdecimal()\tisdigit()\tisnumeric()\tExample\n",
    "# True\tTrue\tTrue\t\"038\", \"੦੩੮\", \"０３８\"\n",
    "# False\tTrue\tTrue\t\"⁰³⁸\", \"🄀⒊⒏\", \"⓪③⑧\"\n",
    "# False\tFalse\tTrue\t\"↉⅛⅘\", \"ⅠⅢⅧ\", \"⑩⑬㊿\", \"壹貳參\"\n",
    "# False\tFalse\tFalse\t\"abc\", \"38.0\", \"-38\""
   ]
  },
  {
   "cell_type": "code",
   "execution_count": 50,
   "id": "7eb51f75-0db2-48f0-93bb-4e66fbe87e74",
   "metadata": {},
   "outputs": [
    {
     "data": {
      "text/plain": [
       "'ABCDEFGHIJKLM'"
      ]
     },
     "execution_count": 50,
     "metadata": {},
     "output_type": "execute_result"
    }
   ],
   "source": [
    "a"
   ]
  },
  {
   "cell_type": "code",
   "execution_count": 51,
   "id": "96a9b405-4cdf-4f73-9b46-41b53ce761c9",
   "metadata": {},
   "outputs": [
    {
     "data": {
      "text/plain": [
       "'abcdefghijklm'"
      ]
     },
     "execution_count": 51,
     "metadata": {},
     "output_type": "execute_result"
    }
   ],
   "source": [
    "a.lower()"
   ]
  },
  {
   "cell_type": "code",
   "execution_count": 52,
   "id": "12bf9400-1d87-4610-ae93-eeeaf9df9411",
   "metadata": {},
   "outputs": [
    {
     "data": {
      "text/plain": [
       "False"
      ]
     },
     "execution_count": 52,
     "metadata": {},
     "output_type": "execute_result"
    }
   ],
   "source": [
    "a.islower()"
   ]
  },
  {
   "cell_type": "code",
   "execution_count": 53,
   "id": "f88435c1-0d01-4a01-b6db-5af26019d42d",
   "metadata": {},
   "outputs": [
    {
     "data": {
      "text/plain": [
       "True"
      ]
     },
     "execution_count": 53,
     "metadata": {},
     "output_type": "execute_result"
    }
   ],
   "source": [
    "'abcdefghijklm'.islower()"
   ]
  },
  {
   "cell_type": "code",
   "execution_count": 54,
   "id": "67d7fa3e-8355-4e4c-8cff-8f735e429d5b",
   "metadata": {},
   "outputs": [
    {
     "data": {
      "text/plain": [
       "'ABCDEFGHIJKLM'"
      ]
     },
     "execution_count": 54,
     "metadata": {},
     "output_type": "execute_result"
    }
   ],
   "source": [
    "a.upper()"
   ]
  },
  {
   "cell_type": "code",
   "execution_count": 55,
   "id": "ad901deb-b1f7-4c72-8fc4-09cf9df84d01",
   "metadata": {},
   "outputs": [
    {
     "data": {
      "text/plain": [
       "True"
      ]
     },
     "execution_count": 55,
     "metadata": {},
     "output_type": "execute_result"
    }
   ],
   "source": [
    "'ABCDEFGHIJKLM'.isupper()"
   ]
  },
  {
   "cell_type": "code",
   "execution_count": 56,
   "id": "781d2191-653c-48c2-a56f-5627cff23007",
   "metadata": {},
   "outputs": [
    {
     "data": {
      "text/plain": [
       "False"
      ]
     },
     "execution_count": 56,
     "metadata": {},
     "output_type": "execute_result"
    }
   ],
   "source": [
    "'abcdefghijklm'.isupper()"
   ]
  },
  {
   "cell_type": "code",
   "execution_count": 57,
   "id": "a29a2090-7a04-4376-8ff6-b42561d3ec12",
   "metadata": {},
   "outputs": [
    {
     "name": "stdout",
     "output_type": "stream",
     "text": [
      "ABCDEFGHIJKLM\n",
      "Abcdefghijklm\n"
     ]
    }
   ],
   "source": [
    "print(a)\n",
    "print(a.title())"
   ]
  },
  {
   "cell_type": "code",
   "execution_count": 58,
   "id": "a8d6e100-6144-48cc-bf73-c463e540167d",
   "metadata": {},
   "outputs": [
    {
     "data": {
      "text/plain": [
       "False"
      ]
     },
     "execution_count": 58,
     "metadata": {},
     "output_type": "execute_result"
    }
   ],
   "source": [
    "'ABCDEFGHIJKLM'.istitle()"
   ]
  },
  {
   "cell_type": "code",
   "execution_count": 59,
   "id": "0f4fdb3f-c078-46e2-b2c1-0f55dc9d0adb",
   "metadata": {},
   "outputs": [
    {
     "data": {
      "text/plain": [
       "True"
      ]
     },
     "execution_count": 59,
     "metadata": {},
     "output_type": "execute_result"
    }
   ],
   "source": [
    "'Abcdefghijklm'.istitle()"
   ]
  },
  {
   "cell_type": "code",
   "execution_count": 60,
   "id": "208a13ec-9590-4a50-8a70-e6632f9c11b2",
   "metadata": {},
   "outputs": [
    {
     "data": {
      "text/plain": [
       "True"
      ]
     },
     "execution_count": 60,
     "metadata": {},
     "output_type": "execute_result"
    }
   ],
   "source": [
    "' '.isspace()"
   ]
  },
  {
   "cell_type": "code",
   "execution_count": 61,
   "id": "ee384832-3190-4fee-82da-ed819f24ec07",
   "metadata": {},
   "outputs": [
    {
     "data": {
      "text/plain": [
       "False"
      ]
     },
     "execution_count": 61,
     "metadata": {},
     "output_type": "execute_result"
    }
   ],
   "source": [
    "'a b c'.isspace()"
   ]
  },
  {
   "cell_type": "code",
   "execution_count": 62,
   "id": "47a3c0c6-e9fa-44ce-b69c-64ddb895c102",
   "metadata": {},
   "outputs": [
    {
     "data": {
      "text/plain": [
       "True"
      ]
     },
     "execution_count": 62,
     "metadata": {},
     "output_type": "execute_result"
    }
   ],
   "source": [
    "'       '.isspace()"
   ]
  },
  {
   "cell_type": "code",
   "execution_count": 63,
   "id": "412cacc5-5cac-4bc4-ac9c-5faafe3f01c5",
   "metadata": {},
   "outputs": [
    {
     "data": {
      "text/plain": [
       "True"
      ]
     },
     "execution_count": 63,
     "metadata": {},
     "output_type": "execute_result"
    }
   ],
   "source": [
    "a.isprintable()"
   ]
  },
  {
   "cell_type": "code",
   "execution_count": 64,
   "id": "d2d8aeef-0286-41b3-9a2d-a0244502f7a8",
   "metadata": {},
   "outputs": [
    {
     "data": {
      "text/plain": [
       "True"
      ]
     },
     "execution_count": 64,
     "metadata": {},
     "output_type": "execute_result"
    }
   ],
   "source": [
    "\"🄀⒊⒏\".isprintable()"
   ]
  },
  {
   "cell_type": "code",
   "execution_count": 65,
   "id": "c2ffc4c1-065a-42bb-9e7d-94dc5a272ccd",
   "metadata": {},
   "outputs": [
    {
     "data": {
      "text/plain": [
       "True"
      ]
     },
     "execution_count": 65,
     "metadata": {},
     "output_type": "execute_result"
    }
   ],
   "source": [
    "\"😀\".isprintable()"
   ]
  },
  {
   "cell_type": "code",
   "execution_count": 66,
   "id": "cb200d5b-ef1e-48ee-be7c-3b44ad66926c",
   "metadata": {},
   "outputs": [
    {
     "name": "stdout",
     "output_type": "stream",
     "text": [
      "😊😀\n"
     ]
    }
   ],
   "source": [
    "print(\"😊😀\")"
   ]
  },
  {
   "cell_type": "code",
   "execution_count": 67,
   "id": "c64615cb-c1d5-4d73-9f40-f1ba1315d96b",
   "metadata": {},
   "outputs": [
    {
     "name": "stdout",
     "output_type": "stream",
     "text": [
      "🄀⒊⒏\n"
     ]
    }
   ],
   "source": [
    "print(\"🄀⒊⒏\")"
   ]
  },
  {
   "cell_type": "code",
   "execution_count": 68,
   "id": "d77c4d21-8d94-4cd4-aba0-7e91eabcb8c5",
   "metadata": {},
   "outputs": [
    {
     "data": {
      "text/plain": [
       "True"
      ]
     },
     "execution_count": 68,
     "metadata": {},
     "output_type": "execute_result"
    }
   ],
   "source": [
    "'input_string'.isidentifier() ## a-z or 0-9 or _(underscore)"
   ]
  },
  {
   "cell_type": "code",
   "execution_count": 69,
   "id": "5b29a35a-819a-4679-8f5c-d2630303aabd",
   "metadata": {},
   "outputs": [
    {
     "data": {
      "text/plain": [
       "False"
      ]
     },
     "execution_count": 69,
     "metadata": {},
     "output_type": "execute_result"
    }
   ],
   "source": [
    "'test string'.isidentifier()"
   ]
  },
  {
   "cell_type": "code",
   "execution_count": 70,
   "id": "08bac0f2-6da0-4238-b0a6-5e3d915f9b5d",
   "metadata": {},
   "outputs": [
    {
     "data": {
      "text/plain": [
       "True"
      ]
     },
     "execution_count": 70,
     "metadata": {},
     "output_type": "execute_result"
    }
   ],
   "source": [
    "'input_list'.isidentifier() # verify if it can be valid variable name or function name"
   ]
  },
  {
   "cell_type": "code",
   "execution_count": 71,
   "id": "f72d4322-b90b-4e38-a172-75b45550d480",
   "metadata": {},
   "outputs": [
    {
     "data": {
      "text/plain": [
       "False"
      ]
     },
     "execution_count": 71,
     "metadata": {},
     "output_type": "execute_result"
    }
   ],
   "source": [
    "'1a'.isidentifier()"
   ]
  },
  {
   "cell_type": "code",
   "execution_count": 72,
   "id": "fdfaa2a3-8f23-445a-9d0a-84b91825a489",
   "metadata": {},
   "outputs": [
    {
     "data": {
      "text/plain": [
       "True"
      ]
     },
     "execution_count": 72,
     "metadata": {},
     "output_type": "execute_result"
    }
   ],
   "source": [
    "'_a1'.isidentifier()"
   ]
  },
  {
   "cell_type": "code",
   "execution_count": 73,
   "id": "642a9bd0-99d5-46a8-ab21-7d7e17f4cc1e",
   "metadata": {},
   "outputs": [
    {
     "data": {
      "text/plain": [
       "True"
      ]
     },
     "execution_count": 73,
     "metadata": {},
     "output_type": "execute_result"
    }
   ],
   "source": [
    "'None'.isidentifier() \n",
    "# although it shows valid here, we shouldn't use if as variable name or function name"
   ]
  },
  {
   "cell_type": "code",
   "execution_count": null,
   "id": "2cde90c7-4083-42db-abfe-a2d7fcb94c4f",
   "metadata": {},
   "outputs": [],
   "source": []
  }
 ],
 "metadata": {
  "kernelspec": {
   "display_name": "Python 3 (ipykernel)",
   "language": "python",
   "name": "python3"
  },
  "language_info": {
   "codemirror_mode": {
    "name": "ipython",
    "version": 3
   },
   "file_extension": ".py",
   "mimetype": "text/x-python",
   "name": "python",
   "nbconvert_exporter": "python",
   "pygments_lexer": "ipython3",
   "version": "3.12.4"
  }
 },
 "nbformat": 4,
 "nbformat_minor": 5
}
