{
 "cells": [
  {
   "cell_type": "code",
   "execution_count": 2,
   "id": "d42143d1-9bf1-4288-88e5-2d82bd006840",
   "metadata": {},
   "outputs": [],
   "source": [
    "input_dict = {'a':1, 'b':2, 'c':3, 'd':4}"
   ]
  },
  {
   "cell_type": "code",
   "execution_count": 4,
   "id": "18381feb-d4ba-40e9-919b-96769fe89436",
   "metadata": {},
   "outputs": [
    {
     "name": "stdout",
     "output_type": "stream",
     "text": [
      "{'a': 1, 'b': 2, 'c': 3, 'd': 4}\n"
     ]
    }
   ],
   "source": [
    "print(input_dict)"
   ]
  },
  {
   "cell_type": "code",
   "execution_count": 6,
   "id": "a2ab0982-1e45-47da-8798-ec38cc319a9e",
   "metadata": {},
   "outputs": [],
   "source": [
    "input_strs = ['cat','dog','bird','lizard']"
   ]
  },
  {
   "cell_type": "code",
   "execution_count": 26,
   "id": "b9ff2dcc-dbc8-4551-aea4-2902c9ad14f1",
   "metadata": {},
   "outputs": [],
   "source": [
    "# output_dict = {'cat':3, 'dog':3, 'bird':4, 'lizard':6}"
   ]
  },
  {
   "cell_type": "code",
   "execution_count": 28,
   "id": "ca8bb088-2a62-4472-8a9b-4a15853573e6",
   "metadata": {},
   "outputs": [
    {
     "name": "stdout",
     "output_type": "stream",
     "text": [
      "cat 3\n",
      "output_dict: {'cat': 3}\n",
      "dog 3\n",
      "output_dict: {'cat': 3, 'dog': 3}\n",
      "bird 4\n",
      "output_dict: {'cat': 3, 'dog': 3, 'bird': 4}\n",
      "lizard 6\n",
      "output_dict: {'cat': 3, 'dog': 3, 'bird': 4, 'lizard': 6}\n"
     ]
    }
   ],
   "source": [
    "output_dict = {}\n",
    "for i in input_strs:\n",
    "    print(i, len(i))\n",
    "    output_dict.update({i:len(i)})\n",
    "    print(f\"output_dict: {output_dict}\")"
   ]
  },
  {
   "cell_type": "code",
   "execution_count": 22,
   "id": "850eb210-7b0d-4902-8fd5-aff97b48367b",
   "metadata": {},
   "outputs": [
    {
     "data": {
      "text/plain": [
       "\u001b[1;31mDocstring:\u001b[0m\n",
       "D.update([E, ]**F) -> None.  Update D from dict/iterable E and F.\n",
       "If E is present and has a .keys() method, then does:  for k in E: D[k] = E[k]\n",
       "If E is present and lacks a .keys() method, then does:  for k, v in E: D[k] = v\n",
       "In either case, this is followed by: for k in F:  D[k] = F[k]\n",
       "\u001b[1;31mType:\u001b[0m      builtin_function_or_method"
      ]
     },
     "metadata": {},
     "output_type": "display_data"
    }
   ],
   "source": [
    "output_dict.update?"
   ]
  },
  {
   "cell_type": "markdown",
   "id": "95f67736-1365-4fc3-835b-07d022a9879c",
   "metadata": {},
   "source": [
    "## Dictionary Comprehension"
   ]
  },
  {
   "cell_type": "code",
   "execution_count": 32,
   "id": "897a0f0a-1ae2-4f2b-96b2-4fceb374dbd8",
   "metadata": {},
   "outputs": [
    {
     "data": {
      "text/plain": [
       "['cat', 'dog', 'bird', 'lizard']"
      ]
     },
     "execution_count": 32,
     "metadata": {},
     "output_type": "execute_result"
    }
   ],
   "source": [
    "input_strs\n",
    "# Sample Output\n",
    "# output_dict = {'cat':3, 'dog':3, 'bird':4, 'lizard':6}"
   ]
  },
  {
   "cell_type": "code",
   "execution_count": 34,
   "id": "9ce77fd8-df2a-430a-bc8a-ded26cfadbe5",
   "metadata": {},
   "outputs": [
    {
     "data": {
      "text/plain": [
       "{'cat': 3, 'dog': 3, 'bird': 4, 'lizard': 6}"
      ]
     },
     "execution_count": 34,
     "metadata": {},
     "output_type": "execute_result"
    }
   ],
   "source": [
    "{i:len(i) for i in input_strs}"
   ]
  },
  {
   "cell_type": "code",
   "execution_count": 36,
   "id": "598ace09-715b-46c3-946b-1d765f6b0af6",
   "metadata": {},
   "outputs": [
    {
     "data": {
      "text/plain": [
       "{'cat': None, 'dog': None, 'bird': None, 'lizard': None}"
      ]
     },
     "execution_count": 36,
     "metadata": {},
     "output_type": "execute_result"
    }
   ],
   "source": [
    "{i:None for i in input_strs}"
   ]
  },
  {
   "cell_type": "code",
   "execution_count": 38,
   "id": "e326ba20-87bf-4fa6-8999-d434e95aedf1",
   "metadata": {},
   "outputs": [],
   "source": [
    "name = 'Vijaya Nandini'"
   ]
  },
  {
   "cell_type": "code",
   "execution_count": 42,
   "id": "9d6d94d2-8121-4e5a-b14c-c42f5fa7852b",
   "metadata": {},
   "outputs": [
    {
     "data": {
      "text/plain": [
       "{'V': False,\n",
       " 'i': False,\n",
       " 'j': False,\n",
       " 'a': False,\n",
       " 'y': False,\n",
       " ' ': False,\n",
       " 'N': False,\n",
       " 'n': False,\n",
       " 'd': False}"
      ]
     },
     "execution_count": 42,
     "metadata": {},
     "output_type": "execute_result"
    }
   ],
   "source": [
    "{i:False for i in name}"
   ]
  },
  {
   "cell_type": "code",
   "execution_count": 49,
   "id": "00ee245c-6506-4e9e-a361-3b16e8cf8fb7",
   "metadata": {},
   "outputs": [
    {
     "data": {
      "text/plain": [
       "{0: 100,\n",
       " 5: 100,\n",
       " 10: 100,\n",
       " 15: 100,\n",
       " 20: 100,\n",
       " 25: 100,\n",
       " 30: 100,\n",
       " 35: 100,\n",
       " 40: 100,\n",
       " 45: 100}"
      ]
     },
     "execution_count": 49,
     "metadata": {},
     "output_type": "execute_result"
    }
   ],
   "source": [
    "{i*5:100 for i in range(10)}"
   ]
  },
  {
   "cell_type": "code",
   "execution_count": 51,
   "id": "35001e3c-6ec3-47b4-a909-5c05b286547b",
   "metadata": {},
   "outputs": [
    {
     "name": "stdout",
     "output_type": "stream",
     "text": [
      "[0, 1, 2, 3, 4, 5, 6, 7, 8, 9]\n"
     ]
    }
   ],
   "source": [
    "input_list = list(range(10))\n",
    "print(input_list)"
   ]
  },
  {
   "cell_type": "code",
   "execution_count": 53,
   "id": "db4b8bd8-b54f-446d-933a-699c78d2d3f9",
   "metadata": {},
   "outputs": [],
   "source": [
    "# Expected output\n",
    "# output_dict = {0:'Even', 1:'Odd', 2:'Even', 3:'Odd', ..}"
   ]
  },
  {
   "cell_type": "code",
   "execution_count": 61,
   "id": "a38b0f40-c486-4ba1-a5dc-685620007b20",
   "metadata": {},
   "outputs": [
    {
     "data": {
      "text/plain": [
       "{0: 'Even', 2: 'Even', 4: 'Even', 6: 'Even', 8: 'Even'}"
      ]
     },
     "execution_count": 61,
     "metadata": {},
     "output_type": "execute_result"
    }
   ],
   "source": [
    "{ i:'Even' for i in input_list if i%2==0}"
   ]
  },
  {
   "cell_type": "code",
   "execution_count": 63,
   "id": "96955721-63d7-4f3a-a803-f045d8fb59c8",
   "metadata": {},
   "outputs": [
    {
     "data": {
      "text/plain": [
       "{1: 'Odd', 3: 'Odd', 5: 'Odd', 7: 'Odd', 9: 'Odd'}"
      ]
     },
     "execution_count": 63,
     "metadata": {},
     "output_type": "execute_result"
    }
   ],
   "source": [
    "{ i:'Odd' for i in input_list if i%2!=0}"
   ]
  },
  {
   "cell_type": "code",
   "execution_count": null,
   "id": "17ac363d-1f8a-44fd-8f1c-4ddcfbf78c0f",
   "metadata": {},
   "outputs": [],
   "source": [
    "# "
   ]
  }
 ],
 "metadata": {
  "kernelspec": {
   "display_name": "Python 3 (ipykernel)",
   "language": "python",
   "name": "python3"
  },
  "language_info": {
   "codemirror_mode": {
    "name": "ipython",
    "version": 3
   },
   "file_extension": ".py",
   "mimetype": "text/x-python",
   "name": "python",
   "nbconvert_exporter": "python",
   "pygments_lexer": "ipython3",
   "version": "3.12.4"
  }
 },
 "nbformat": 4,
 "nbformat_minor": 5
}
