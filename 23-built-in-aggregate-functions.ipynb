{
 "cells": [
  {
   "cell_type": "markdown",
   "id": "78187e07-ee50-49a6-8701-5121903e783d",
   "metadata": {},
   "source": [
    "# Built-in aggregate functions in Python\n",
    "For list, dict, set, tuple\n",
    "1. sum()\n",
    "2. max()\n",
    "3. min()\n",
    "4. len()\n",
    "5. any()\n",
    "6. all()\n",
    "7. sorted()\n",
    "8. reversed()"
   ]
  },
  {
   "cell_type": "code",
   "execution_count": 4,
   "id": "9b511385",
   "metadata": {},
   "outputs": [
    {
     "name": "stdout",
     "output_type": "stream",
     "text": [
      "\u001b[1;31mSignature:\u001b[0m \u001b[0mall\u001b[0m\u001b[1;33m(\u001b[0m\u001b[0miterable\u001b[0m\u001b[1;33m,\u001b[0m \u001b[1;33m/\u001b[0m\u001b[1;33m)\u001b[0m\u001b[1;33m\u001b[0m\u001b[1;33m\u001b[0m\u001b[0m\n",
      "\u001b[1;31mDocstring:\u001b[0m\n",
      "Return True if bool(x) is True for all values x in the iterable.\n",
      "\n",
      "If the iterable is empty, return True.\n",
      "\u001b[1;31mType:\u001b[0m      builtin_function_or_method"
     ]
    }
   ],
   "source": [
    "all?"
   ]
  },
  {
   "cell_type": "code",
   "execution_count": 15,
   "id": "f4c9f272-d058-4408-8318-faca0c16f279",
   "metadata": {},
   "outputs": [],
   "source": [
    "a = [1, -3, 0, 5, 4]"
   ]
  },
  {
   "cell_type": "code",
   "execution_count": 16,
   "id": "55bd93de-6487-4b4b-abe4-c3a1b1da23e7",
   "metadata": {},
   "outputs": [
    {
     "data": {
      "text/plain": [
       "[1, -3, 0, 5, 4]"
      ]
     },
     "execution_count": 16,
     "metadata": {},
     "output_type": "execute_result"
    }
   ],
   "source": [
    "a"
   ]
  },
  {
   "cell_type": "code",
   "execution_count": 17,
   "id": "2ce3eecc-454a-4f53-bd2f-1b9a9470f049",
   "metadata": {},
   "outputs": [
    {
     "data": {
      "text/plain": [
       "7"
      ]
     },
     "execution_count": 17,
     "metadata": {},
     "output_type": "execute_result"
    }
   ],
   "source": [
    "sum(a)"
   ]
  },
  {
   "cell_type": "code",
   "execution_count": 18,
   "id": "638b6cd4",
   "metadata": {},
   "outputs": [
    {
     "data": {
      "text/plain": [
       "[1, -3, 0, 5, 4]"
      ]
     },
     "execution_count": 18,
     "metadata": {},
     "output_type": "execute_result"
    }
   ],
   "source": [
    "a"
   ]
  },
  {
   "cell_type": "code",
   "execution_count": 19,
   "id": "244d4599-78b3-4534-ac55-54aba44e473d",
   "metadata": {},
   "outputs": [],
   "source": [
    "def my_sum(a):\n",
    "    result = 0\n",
    "    for item in a:\n",
    "        result = result + item\n",
    "    return result\n",
    "\n",
    "## a = [1, -10, 0, 5, 4]\n",
    "# result=0\n",
    "# item=1 ---> result=0+1 --> result=1\n",
    "# item=-10 --> result=1+(-10) --> result=-9\n",
    "# ..."
   ]
  },
  {
   "cell_type": "code",
   "execution_count": 20,
   "id": "f595efa1-68d4-48bb-a8c8-27bb185c9a02",
   "metadata": {},
   "outputs": [
    {
     "data": {
      "text/plain": [
       "7"
      ]
     },
     "execution_count": 20,
     "metadata": {},
     "output_type": "execute_result"
    }
   ],
   "source": [
    "my_sum(a)"
   ]
  },
  {
   "cell_type": "code",
   "execution_count": 21,
   "id": "46765e76-9ea7-4a98-9bb8-3a81e2ee5396",
   "metadata": {},
   "outputs": [
    {
     "data": {
      "text/plain": [
       "[1, -3, 0, 5, 4]"
      ]
     },
     "execution_count": 21,
     "metadata": {},
     "output_type": "execute_result"
    }
   ],
   "source": [
    "a"
   ]
  },
  {
   "cell_type": "code",
   "execution_count": 22,
   "id": "dbb62d3d-cd2e-461c-a048-489cc9cbf220",
   "metadata": {},
   "outputs": [
    {
     "data": {
      "text/plain": [
       "5"
      ]
     },
     "execution_count": 22,
     "metadata": {},
     "output_type": "execute_result"
    }
   ],
   "source": [
    "max(a)"
   ]
  },
  {
   "cell_type": "code",
   "execution_count": 28,
   "id": "64834d04",
   "metadata": {},
   "outputs": [
    {
     "data": {
      "text/plain": [
       "[1, -3, 0, 5, 4]"
      ]
     },
     "execution_count": 28,
     "metadata": {},
     "output_type": "execute_result"
    }
   ],
   "source": [
    "a"
   ]
  },
  {
   "cell_type": "code",
   "execution_count": 29,
   "id": "f8c39320-f9f0-4db8-bec0-00abf63600e0",
   "metadata": {},
   "outputs": [],
   "source": [
    "def my_max(a):\n",
    "    max_value = a[0]\n",
    "    for i in a[1:]:\n",
    "        if i > max_value:\n",
    "            max_value = i\n",
    "        #\n",
    "        print(f\"max: {max_value}, i: {i}\")\n",
    "    #\n",
    "    return max_value"
   ]
  },
  {
   "cell_type": "code",
   "execution_count": 27,
   "id": "9dddb52c",
   "metadata": {},
   "outputs": [
    {
     "name": "stdout",
     "output_type": "stream",
     "text": [
      "max: 1, i: -3\n",
      "max: 1, i: 0\n",
      "max: 5, i: 5\n",
      "max: 5, i: 4\n"
     ]
    },
    {
     "data": {
      "text/plain": [
       "5"
      ]
     },
     "execution_count": 27,
     "metadata": {},
     "output_type": "execute_result"
    }
   ],
   "source": [
    "my_max(a)"
   ]
  },
  {
   "cell_type": "code",
   "execution_count": 30,
   "id": "208792b6-ca23-4391-a6f5-6b4e40181b03",
   "metadata": {},
   "outputs": [
    {
     "data": {
      "text/plain": [
       "[1, -3, 0, 5, 4]"
      ]
     },
     "execution_count": 30,
     "metadata": {},
     "output_type": "execute_result"
    }
   ],
   "source": [
    "a"
   ]
  },
  {
   "cell_type": "code",
   "execution_count": 31,
   "id": "985a1dc6-461a-4eab-92b0-62ac116d9c0f",
   "metadata": {},
   "outputs": [
    {
     "data": {
      "text/plain": [
       "-3"
      ]
     },
     "execution_count": 31,
     "metadata": {},
     "output_type": "execute_result"
    }
   ],
   "source": [
    "min(a)"
   ]
  },
  {
   "cell_type": "code",
   "execution_count": 32,
   "id": "fa372425-89cc-4089-b18d-082161135ead",
   "metadata": {},
   "outputs": [],
   "source": [
    "def my_min():\n",
    "    pass"
   ]
  },
  {
   "cell_type": "code",
   "execution_count": 33,
   "id": "a44b695f-6c7a-4d2b-9cc8-52af3ce73f78",
   "metadata": {},
   "outputs": [
    {
     "data": {
      "text/plain": [
       "[1, -3, 0, 5, 4]"
      ]
     },
     "execution_count": 33,
     "metadata": {},
     "output_type": "execute_result"
    }
   ],
   "source": [
    "a"
   ]
  },
  {
   "cell_type": "code",
   "execution_count": 34,
   "id": "f3b33059-4b8f-4d2b-be63-9e2fa095beb9",
   "metadata": {},
   "outputs": [
    {
     "data": {
      "text/plain": [
       "5"
      ]
     },
     "execution_count": 34,
     "metadata": {},
     "output_type": "execute_result"
    }
   ],
   "source": [
    "len(a)"
   ]
  },
  {
   "cell_type": "code",
   "execution_count": 35,
   "id": "2af23cb0-4b3e-473d-8747-2dae79409655",
   "metadata": {},
   "outputs": [],
   "source": [
    "def my_len(a):\n",
    "    pass"
   ]
  },
  {
   "cell_type": "code",
   "execution_count": 36,
   "id": "25649d38-be7f-442d-87a4-c94c0278226d",
   "metadata": {},
   "outputs": [],
   "source": [
    "# my_len(a)"
   ]
  },
  {
   "cell_type": "code",
   "execution_count": 37,
   "id": "e7e1c17c-5b80-4d42-91b8-dbf02b01d1bd",
   "metadata": {},
   "outputs": [],
   "source": [
    "# any() \n",
    "# Output - True or False\n",
    "# True -- if input list contains any one non-zero number\n",
    "# False -- if input list contains all zero number\n",
    "# Equivalent to 'or' condition"
   ]
  },
  {
   "cell_type": "code",
   "execution_count": 42,
   "id": "0f851801",
   "metadata": {},
   "outputs": [
    {
     "data": {
      "text/plain": [
       "[1, -3, 0, 5, 4]"
      ]
     },
     "execution_count": 42,
     "metadata": {},
     "output_type": "execute_result"
    }
   ],
   "source": [
    "a"
   ]
  },
  {
   "cell_type": "code",
   "execution_count": null,
   "id": "9eeca3ca",
   "metadata": {},
   "outputs": [
    {
     "data": {
      "text/plain": [
       "True"
      ]
     },
     "execution_count": 41,
     "metadata": {},
     "output_type": "execute_result"
    }
   ],
   "source": [
    "any(a)"
   ]
  },
  {
   "cell_type": "code",
   "execution_count": 43,
   "id": "5bd62ec9-74b0-4a80-948f-25aeb9422c74",
   "metadata": {},
   "outputs": [
    {
     "data": {
      "text/plain": [
       "False"
      ]
     },
     "execution_count": 43,
     "metadata": {},
     "output_type": "execute_result"
    }
   ],
   "source": [
    "any([0,0,0])"
   ]
  },
  {
   "cell_type": "code",
   "execution_count": 44,
   "id": "99b90b29-7555-4134-8069-8481a62bf5d5",
   "metadata": {},
   "outputs": [
    {
     "data": {
      "text/plain": [
       "True"
      ]
     },
     "execution_count": 44,
     "metadata": {},
     "output_type": "execute_result"
    }
   ],
   "source": [
    "any([0,10,0])"
   ]
  },
  {
   "cell_type": "code",
   "execution_count": 45,
   "id": "0b910d28-f314-40ea-b4c6-4bdf4a92d780",
   "metadata": {},
   "outputs": [
    {
     "data": {
      "text/plain": [
       "True"
      ]
     },
     "execution_count": 45,
     "metadata": {},
     "output_type": "execute_result"
    }
   ],
   "source": [
    "any([0,-1,0])"
   ]
  },
  {
   "cell_type": "code",
   "execution_count": 46,
   "id": "454ce082",
   "metadata": {},
   "outputs": [
    {
     "data": {
      "text/plain": [
       "True"
      ]
     },
     "execution_count": 46,
     "metadata": {},
     "output_type": "execute_result"
    }
   ],
   "source": [
    "bool(-1)"
   ]
  },
  {
   "cell_type": "code",
   "execution_count": 47,
   "id": "127b7d23-6d91-4fdd-bf4c-3fd6442052ab",
   "metadata": {},
   "outputs": [],
   "source": [
    "# all() \n",
    "# Output - True or False\n",
    "# True -- if input list contains all non-zero number\n",
    "# False -- if input list contains any one zero number\n",
    "# Equivalent to 'and' condition"
   ]
  },
  {
   "cell_type": "code",
   "execution_count": 49,
   "id": "6860982e",
   "metadata": {},
   "outputs": [
    {
     "data": {
      "text/plain": [
       "[1, -3, 0, 5, 4]"
      ]
     },
     "execution_count": 49,
     "metadata": {},
     "output_type": "execute_result"
    }
   ],
   "source": [
    "a"
   ]
  },
  {
   "cell_type": "code",
   "execution_count": 48,
   "id": "5eb20c66-d18c-4bd5-87c5-4bba316ba0ef",
   "metadata": {},
   "outputs": [
    {
     "data": {
      "text/plain": [
       "False"
      ]
     },
     "execution_count": 48,
     "metadata": {},
     "output_type": "execute_result"
    }
   ],
   "source": [
    "all(a)"
   ]
  },
  {
   "cell_type": "code",
   "execution_count": 50,
   "id": "9032fba7-a1dc-4c2b-a89d-8e273adffd12",
   "metadata": {},
   "outputs": [
    {
     "data": {
      "text/plain": [
       "False"
      ]
     },
     "execution_count": 50,
     "metadata": {},
     "output_type": "execute_result"
    }
   ],
   "source": [
    "all([0,0,0])"
   ]
  },
  {
   "cell_type": "code",
   "execution_count": 51,
   "id": "69d35aad-414b-499c-8fb0-af80fbf33d8b",
   "metadata": {},
   "outputs": [
    {
     "data": {
      "text/plain": [
       "False"
      ]
     },
     "execution_count": 51,
     "metadata": {},
     "output_type": "execute_result"
    }
   ],
   "source": [
    "all([0,1,0])"
   ]
  },
  {
   "cell_type": "code",
   "execution_count": 52,
   "id": "95685e2a-3202-4f42-8e3e-c0d65a6b2d14",
   "metadata": {},
   "outputs": [
    {
     "data": {
      "text/plain": [
       "False"
      ]
     },
     "execution_count": 52,
     "metadata": {},
     "output_type": "execute_result"
    }
   ],
   "source": [
    "all([1,1,0])"
   ]
  },
  {
   "cell_type": "code",
   "execution_count": 54,
   "id": "50b2a6c5-e1e4-45e8-a1d1-9e7bdec08e8e",
   "metadata": {},
   "outputs": [
    {
     "data": {
      "text/plain": [
       "True"
      ]
     },
     "execution_count": 54,
     "metadata": {},
     "output_type": "execute_result"
    }
   ],
   "source": [
    "all([10,-1,1])"
   ]
  },
  {
   "cell_type": "code",
   "execution_count": 56,
   "id": "f6a44fee",
   "metadata": {},
   "outputs": [
    {
     "data": {
      "text/plain": [
       "False"
      ]
     },
     "execution_count": 56,
     "metadata": {},
     "output_type": "execute_result"
    }
   ],
   "source": [
    "bool('')"
   ]
  },
  {
   "cell_type": "code",
   "execution_count": 58,
   "id": "87eacac0-6322-4289-a557-f7dc2d7cd065",
   "metadata": {},
   "outputs": [],
   "source": [
    "input_strs = ['a','b','']   # True, True, False"
   ]
  },
  {
   "cell_type": "code",
   "execution_count": 59,
   "id": "f16eb7d3-4fec-49a4-ba88-cda84b2767ff",
   "metadata": {},
   "outputs": [
    {
     "data": {
      "text/plain": [
       "True"
      ]
     },
     "execution_count": 59,
     "metadata": {},
     "output_type": "execute_result"
    }
   ],
   "source": [
    "any(input_strs)"
   ]
  },
  {
   "cell_type": "code",
   "execution_count": 60,
   "id": "6780aa72-29e9-4d68-943e-40fc13deeb63",
   "metadata": {},
   "outputs": [
    {
     "data": {
      "text/plain": [
       "False"
      ]
     },
     "execution_count": 60,
     "metadata": {},
     "output_type": "execute_result"
    }
   ],
   "source": [
    "all(input_strs)"
   ]
  },
  {
   "cell_type": "code",
   "execution_count": 61,
   "id": "4efbf3b3-664a-4b84-8ec6-9360f646e935",
   "metadata": {},
   "outputs": [
    {
     "data": {
      "text/plain": [
       "True"
      ]
     },
     "execution_count": 61,
     "metadata": {},
     "output_type": "execute_result"
    }
   ],
   "source": [
    "all(['a','b','x'])"
   ]
  },
  {
   "cell_type": "code",
   "execution_count": 62,
   "id": "c9cabf86-0801-42f6-ba28-1d2858368a7a",
   "metadata": {},
   "outputs": [
    {
     "data": {
      "text/plain": [
       "[1, -3, 0, 5, 4]"
      ]
     },
     "execution_count": 62,
     "metadata": {},
     "output_type": "execute_result"
    }
   ],
   "source": [
    "a"
   ]
  },
  {
   "cell_type": "code",
   "execution_count": 63,
   "id": "29a0874c-4cc1-4c79-8bad-e66878299e15",
   "metadata": {},
   "outputs": [],
   "source": [
    "b = [1, -3, 0, 5, 4]"
   ]
  },
  {
   "cell_type": "code",
   "execution_count": 64,
   "id": "a66616a1-4f6b-432f-ac36-a473adfbcfef",
   "metadata": {},
   "outputs": [],
   "source": [
    "b.sort() # Modifies original list"
   ]
  },
  {
   "cell_type": "code",
   "execution_count": 65,
   "id": "44692535-29aa-423a-a8e6-b45785c21204",
   "metadata": {},
   "outputs": [
    {
     "data": {
      "text/plain": [
       "[-3, 0, 1, 4, 5]"
      ]
     },
     "execution_count": 65,
     "metadata": {},
     "output_type": "execute_result"
    }
   ],
   "source": [
    "b"
   ]
  },
  {
   "cell_type": "code",
   "execution_count": 66,
   "id": "5394638c",
   "metadata": {},
   "outputs": [
    {
     "data": {
      "text/plain": [
       "[1, -3, 0, 5, 4]"
      ]
     },
     "execution_count": 66,
     "metadata": {},
     "output_type": "execute_result"
    }
   ],
   "source": [
    "a"
   ]
  },
  {
   "cell_type": "code",
   "execution_count": 67,
   "id": "0b6b2f43-e222-4df0-b2af-00d4509f74f6",
   "metadata": {},
   "outputs": [
    {
     "data": {
      "text/plain": [
       "[-3, 0, 1, 4, 5]"
      ]
     },
     "execution_count": 67,
     "metadata": {},
     "output_type": "execute_result"
    }
   ],
   "source": [
    "sorted(a)  # Provides new sorted list"
   ]
  },
  {
   "cell_type": "code",
   "execution_count": 68,
   "id": "16738759-b8a9-47c6-94a7-81637ca02dd7",
   "metadata": {},
   "outputs": [
    {
     "data": {
      "text/plain": [
       "[1, -3, 0, 5, 4]"
      ]
     },
     "execution_count": 68,
     "metadata": {},
     "output_type": "execute_result"
    }
   ],
   "source": [
    "a"
   ]
  },
  {
   "cell_type": "code",
   "execution_count": 71,
   "id": "74c8e6cb-2987-4ff7-8ce4-d33e86d4d1ba",
   "metadata": {},
   "outputs": [
    {
     "data": {
      "text/plain": [
       "[-3, 0, 1, 4, 5]"
      ]
     },
     "execution_count": 71,
     "metadata": {},
     "output_type": "execute_result"
    }
   ],
   "source": [
    "b"
   ]
  },
  {
   "cell_type": "code",
   "execution_count": 72,
   "id": "1cee32a1-7bdc-43b1-ab03-72e331351e7a",
   "metadata": {},
   "outputs": [],
   "source": [
    "b.reverse() # Modifies input list"
   ]
  },
  {
   "cell_type": "code",
   "execution_count": 73,
   "id": "43142b83-c381-47c3-9f1c-b4435304783e",
   "metadata": {},
   "outputs": [
    {
     "data": {
      "text/plain": [
       "[5, 4, 1, 0, -3]"
      ]
     },
     "execution_count": 73,
     "metadata": {},
     "output_type": "execute_result"
    }
   ],
   "source": [
    "b"
   ]
  },
  {
   "cell_type": "code",
   "execution_count": 74,
   "id": "f3ef9899-b731-4522-9b02-aed3c7045d19",
   "metadata": {},
   "outputs": [
    {
     "data": {
      "text/plain": [
       "[1, -3, 0, 5, 4]"
      ]
     },
     "execution_count": 74,
     "metadata": {},
     "output_type": "execute_result"
    }
   ],
   "source": [
    "a"
   ]
  },
  {
   "cell_type": "code",
   "execution_count": 76,
   "id": "0ec77594-bb3d-423a-ab49-9553a8ecac64",
   "metadata": {},
   "outputs": [
    {
     "data": {
      "text/plain": [
       "[4, 5, 0, -3, 1]"
      ]
     },
     "execution_count": 76,
     "metadata": {},
     "output_type": "execute_result"
    }
   ],
   "source": [
    "list(reversed(a)) #  Provides new reversed list"
   ]
  },
  {
   "cell_type": "code",
   "execution_count": 77,
   "id": "2d164bb1",
   "metadata": {},
   "outputs": [
    {
     "data": {
      "text/plain": [
       "[1, -3, 0, 5, 4]"
      ]
     },
     "execution_count": 77,
     "metadata": {},
     "output_type": "execute_result"
    }
   ],
   "source": [
    "a"
   ]
  },
  {
   "cell_type": "markdown",
   "id": "2c2abd0f",
   "metadata": {},
   "source": [
    "# Built-in aggregate functions for tuples"
   ]
  },
  {
   "cell_type": "code",
   "execution_count": 78,
   "id": "7cca0b14",
   "metadata": {},
   "outputs": [],
   "source": [
    "tup = (4, 3, 2, 1)"
   ]
  },
  {
   "cell_type": "code",
   "execution_count": 79,
   "id": "48c4e22b",
   "metadata": {},
   "outputs": [
    {
     "data": {
      "text/plain": [
       "(4, 3, 2, 1)"
      ]
     },
     "execution_count": 79,
     "metadata": {},
     "output_type": "execute_result"
    }
   ],
   "source": [
    "tup"
   ]
  },
  {
   "cell_type": "code",
   "execution_count": 80,
   "id": "f568f96b",
   "metadata": {},
   "outputs": [
    {
     "data": {
      "text/plain": [
       "10"
      ]
     },
     "execution_count": 80,
     "metadata": {},
     "output_type": "execute_result"
    }
   ],
   "source": [
    "sum(tup)"
   ]
  },
  {
   "cell_type": "code",
   "execution_count": 81,
   "id": "ff1ee5e9",
   "metadata": {},
   "outputs": [
    {
     "data": {
      "text/plain": [
       "1"
      ]
     },
     "execution_count": 81,
     "metadata": {},
     "output_type": "execute_result"
    }
   ],
   "source": [
    "min(tup)"
   ]
  },
  {
   "cell_type": "code",
   "execution_count": 82,
   "id": "4fde8007",
   "metadata": {},
   "outputs": [
    {
     "data": {
      "text/plain": [
       "-2"
      ]
     },
     "execution_count": 82,
     "metadata": {},
     "output_type": "execute_result"
    }
   ],
   "source": [
    "min((0,2,4,5,-2,7))"
   ]
  },
  {
   "cell_type": "code",
   "execution_count": 83,
   "id": "4a70cc40",
   "metadata": {},
   "outputs": [
    {
     "data": {
      "text/plain": [
       "(4, 3, 2, 1)"
      ]
     },
     "execution_count": 83,
     "metadata": {},
     "output_type": "execute_result"
    }
   ],
   "source": [
    "tup"
   ]
  },
  {
   "cell_type": "code",
   "execution_count": 84,
   "id": "8771150a",
   "metadata": {},
   "outputs": [
    {
     "data": {
      "text/plain": [
       "4"
      ]
     },
     "execution_count": 84,
     "metadata": {},
     "output_type": "execute_result"
    }
   ],
   "source": [
    "max(tup)"
   ]
  },
  {
   "cell_type": "code",
   "execution_count": 85,
   "id": "f620e9dc",
   "metadata": {},
   "outputs": [
    {
     "data": {
      "text/plain": [
       "4"
      ]
     },
     "execution_count": 85,
     "metadata": {},
     "output_type": "execute_result"
    }
   ],
   "source": [
    "len(tup)"
   ]
  },
  {
   "cell_type": "code",
   "execution_count": 86,
   "id": "7b1b0552",
   "metadata": {},
   "outputs": [
    {
     "data": {
      "text/plain": [
       "True"
      ]
     },
     "execution_count": 86,
     "metadata": {},
     "output_type": "execute_result"
    }
   ],
   "source": [
    "any(tup)   # any non-zero items -- true"
   ]
  },
  {
   "cell_type": "code",
   "execution_count": 87,
   "id": "9f86bff4",
   "metadata": {},
   "outputs": [
    {
     "data": {
      "text/plain": [
       "False"
      ]
     },
     "execution_count": 87,
     "metadata": {},
     "output_type": "execute_result"
    }
   ],
   "source": [
    "any((0,0,0))"
   ]
  },
  {
   "cell_type": "code",
   "execution_count": 88,
   "id": "58b897f3",
   "metadata": {},
   "outputs": [
    {
     "data": {
      "text/plain": [
       "(4, 3, 2, 1)"
      ]
     },
     "execution_count": 88,
     "metadata": {},
     "output_type": "execute_result"
    }
   ],
   "source": [
    "tup"
   ]
  },
  {
   "cell_type": "code",
   "execution_count": 89,
   "id": "bcc153c3",
   "metadata": {},
   "outputs": [
    {
     "data": {
      "text/plain": [
       "True"
      ]
     },
     "execution_count": 89,
     "metadata": {},
     "output_type": "execute_result"
    }
   ],
   "source": [
    "all(tup) # all non-zero items -- True"
   ]
  },
  {
   "cell_type": "code",
   "execution_count": 90,
   "id": "c75c9a22",
   "metadata": {},
   "outputs": [
    {
     "data": {
      "text/plain": [
       "False"
      ]
     },
     "execution_count": 90,
     "metadata": {},
     "output_type": "execute_result"
    }
   ],
   "source": [
    "all((0,10,1))"
   ]
  },
  {
   "cell_type": "code",
   "execution_count": 91,
   "id": "d05d3a0d",
   "metadata": {},
   "outputs": [
    {
     "data": {
      "text/plain": [
       "(4, 3, 2, 1)"
      ]
     },
     "execution_count": 91,
     "metadata": {},
     "output_type": "execute_result"
    }
   ],
   "source": [
    "tup"
   ]
  },
  {
   "cell_type": "code",
   "execution_count": 92,
   "id": "105f46a7",
   "metadata": {},
   "outputs": [
    {
     "data": {
      "text/plain": [
       "[1, 2, 3, 4]"
      ]
     },
     "execution_count": 92,
     "metadata": {},
     "output_type": "execute_result"
    }
   ],
   "source": [
    "sorted(tup)"
   ]
  },
  {
   "cell_type": "code",
   "execution_count": 93,
   "id": "9b506e10",
   "metadata": {},
   "outputs": [
    {
     "data": {
      "text/plain": [
       "(4, 3, 2, 1)"
      ]
     },
     "execution_count": 93,
     "metadata": {},
     "output_type": "execute_result"
    }
   ],
   "source": [
    "tup"
   ]
  },
  {
   "cell_type": "code",
   "execution_count": 94,
   "id": "ae509e8e",
   "metadata": {},
   "outputs": [
    {
     "data": {
      "text/plain": [
       "(1, 2, 3, 4)"
      ]
     },
     "execution_count": 94,
     "metadata": {},
     "output_type": "execute_result"
    }
   ],
   "source": [
    "tuple(reversed(tup))"
   ]
  },
  {
   "cell_type": "code",
   "execution_count": 95,
   "id": "5b3a3d0f",
   "metadata": {},
   "outputs": [
    {
     "data": {
      "text/plain": [
       "(4, 3, 2, 1)"
      ]
     },
     "execution_count": 95,
     "metadata": {},
     "output_type": "execute_result"
    }
   ],
   "source": [
    "tup"
   ]
  },
  {
   "cell_type": "code",
   "execution_count": 96,
   "id": "76dd0dc0",
   "metadata": {},
   "outputs": [
    {
     "name": "stdout",
     "output_type": "stream",
     "text": [
      "(4, 3, 2, 1)\n",
      "<class 'tuple'>\n"
     ]
    }
   ],
   "source": [
    "x = (4,3,2,1)\n",
    "print(x)\n",
    "print(type(x))"
   ]
  },
  {
   "cell_type": "code",
   "execution_count": 97,
   "id": "408cd1a7",
   "metadata": {},
   "outputs": [
    {
     "name": "stdout",
     "output_type": "stream",
     "text": [
      "[1, 2, 3, 4]\n",
      "<class 'list'>\n"
     ]
    }
   ],
   "source": [
    "x = sorted(x)\n",
    "print(x)\n",
    "print(type(x))"
   ]
  },
  {
   "cell_type": "code",
   "execution_count": 98,
   "id": "b8777d09",
   "metadata": {},
   "outputs": [
    {
     "data": {
      "text/plain": [
       "True"
      ]
     },
     "execution_count": 98,
     "metadata": {},
     "output_type": "execute_result"
    }
   ],
   "source": [
    "type(x) == list"
   ]
  },
  {
   "cell_type": "code",
   "execution_count": 99,
   "id": "581a58a2",
   "metadata": {},
   "outputs": [
    {
     "data": {
      "text/plain": [
       "False"
      ]
     },
     "execution_count": 99,
     "metadata": {},
     "output_type": "execute_result"
    }
   ],
   "source": [
    "type(x) == int"
   ]
  },
  {
   "cell_type": "code",
   "execution_count": 100,
   "id": "3f5c1c19",
   "metadata": {},
   "outputs": [
    {
     "data": {
      "text/plain": [
       "True"
      ]
     },
     "execution_count": 100,
     "metadata": {},
     "output_type": "execute_result"
    }
   ],
   "source": [
    "isinstance(x, list)"
   ]
  },
  {
   "cell_type": "code",
   "execution_count": 101,
   "id": "10a4871a",
   "metadata": {},
   "outputs": [
    {
     "data": {
      "text/plain": [
       "False"
      ]
     },
     "execution_count": 101,
     "metadata": {},
     "output_type": "execute_result"
    }
   ],
   "source": [
    "isinstance(x, int)"
   ]
  },
  {
   "cell_type": "code",
   "execution_count": 102,
   "id": "fcfdb6c5",
   "metadata": {},
   "outputs": [
    {
     "data": {
      "text/plain": [
       "True"
      ]
     },
     "execution_count": 102,
     "metadata": {},
     "output_type": "execute_result"
    }
   ],
   "source": [
    "isinstance(10,(int,str))"
   ]
  },
  {
   "cell_type": "code",
   "execution_count": 103,
   "id": "7ec404c7",
   "metadata": {},
   "outputs": [
    {
     "data": {
      "text/plain": [
       "True"
      ]
     },
     "execution_count": 103,
     "metadata": {},
     "output_type": "execute_result"
    }
   ],
   "source": [
    "isinstance('Hi',(int,str))"
   ]
  },
  {
   "cell_type": "code",
   "execution_count": 104,
   "id": "ab1b69f2",
   "metadata": {},
   "outputs": [
    {
     "data": {
      "text/plain": [
       "False"
      ]
     },
     "execution_count": 104,
     "metadata": {},
     "output_type": "execute_result"
    }
   ],
   "source": [
    "isinstance(12.5,(int,str))"
   ]
  },
  {
   "cell_type": "code",
   "execution_count": 110,
   "id": "4d4496e4",
   "metadata": {},
   "outputs": [
    {
     "name": "stdout",
     "output_type": "stream",
     "text": [
      "Unexpected input type\n"
     ]
    }
   ],
   "source": [
    "if isinstance(12.5,(int,str)):\n",
    "    print(\"I got expected input type\")\n",
    "else:\n",
    "    print(\"Unexpected input type\")"
   ]
  },
  {
   "cell_type": "code",
   "execution_count": 114,
   "id": "5fc0a004",
   "metadata": {},
   "outputs": [
    {
     "name": "stdout",
     "output_type": "stream",
     "text": [
      "Unexpected input type\n"
     ]
    }
   ],
   "source": [
    "a = 12.5\n",
    "if type(a)==str or type(a)==int:\n",
    "    print(\"I got expected input type\")\n",
    "else:\n",
    "    print(\"Unexpected input type\")"
   ]
  },
  {
   "cell_type": "code",
   "execution_count": null,
   "id": "4fa93c54",
   "metadata": {},
   "outputs": [],
   "source": []
  }
 ],
 "metadata": {
  "kernelspec": {
   "display_name": "Python 3",
   "language": "python",
   "name": "python3"
  },
  "language_info": {
   "codemirror_mode": {
    "name": "ipython",
    "version": 3
   },
   "file_extension": ".py",
   "mimetype": "text/x-python",
   "name": "python",
   "nbconvert_exporter": "python",
   "pygments_lexer": "ipython3",
   "version": "3.11.9"
  }
 },
 "nbformat": 4,
 "nbformat_minor": 5
}
