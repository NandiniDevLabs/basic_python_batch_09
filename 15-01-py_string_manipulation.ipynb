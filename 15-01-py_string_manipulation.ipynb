{
 "cells": [
  {
   "cell_type": "markdown",
   "id": "19b80ef3-7a8e-4219-941f-e2ad7b0d3418",
   "metadata": {},
   "source": [
    "# String Manipulation"
   ]
  },
  {
   "cell_type": "code",
   "execution_count": 2,
   "id": "e8e34721-00db-4fee-99f2-fc14f3c0da66",
   "metadata": {},
   "outputs": [],
   "source": [
    "a = \"This is a sample string\""
   ]
  },
  {
   "cell_type": "code",
   "execution_count": 6,
   "id": "e3b24955-8d6f-4c1a-9162-51fdbb3d7a3b",
   "metadata": {},
   "outputs": [
    {
     "data": {
      "text/plain": [
       "'This is a sample string'"
      ]
     },
     "execution_count": 6,
     "metadata": {},
     "output_type": "execute_result"
    }
   ],
   "source": [
    "a"
   ]
  },
  {
   "cell_type": "code",
   "execution_count": 8,
   "id": "5b81a1d2-d126-4cc7-831c-6b29beadf140",
   "metadata": {},
   "outputs": [
    {
     "data": {
      "text/plain": [
       "'This is a sample string.'"
      ]
     },
     "execution_count": 8,
     "metadata": {},
     "output_type": "execute_result"
    }
   ],
   "source": [
    "a + '.' # String concatenation"
   ]
  },
  {
   "cell_type": "code",
   "execution_count": 10,
   "id": "6c2b9d75-5d5a-458e-9fa5-a6c4754016bf",
   "metadata": {},
   "outputs": [
    {
     "data": {
      "text/plain": [
       "'....This is a sample string'"
      ]
     },
     "execution_count": 10,
     "metadata": {},
     "output_type": "execute_result"
    }
   ],
   "source": [
    "'....' + a"
   ]
  },
  {
   "cell_type": "code",
   "execution_count": 16,
   "id": "648635e4-f380-42d2-beb7-8037a294696e",
   "metadata": {},
   "outputs": [
    {
     "data": {
      "text/plain": [
       "'Hi all'"
      ]
     },
     "execution_count": 16,
     "metadata": {},
     "output_type": "execute_result"
    }
   ],
   "source": [
    "'Hi' + ' ' + 'all'"
   ]
  },
  {
   "cell_type": "code",
   "execution_count": 20,
   "id": "048f4c76-0eaf-49a2-9586-78e4c83d08f1",
   "metadata": {},
   "outputs": [],
   "source": [
    "# a.*?\n",
    "# a.capitalize\n",
    "# a.casefold\n",
    "# a.center\n",
    "# a.count\n",
    "# a.encode\n",
    "# a.endswith\n",
    "# a.expandtabs\n",
    "# a.find\n",
    "# a.format\n",
    "# a.format_map\n",
    "# a.index\n",
    "# a.isalnum\n",
    "# a.isalpha\n",
    "# a.isascii\n",
    "# a.isdecimal\n",
    "# a.isdigit\n",
    "# a.isidentifier\n",
    "# a.islower\n",
    "# a.isnumeric\n",
    "# a.isprintable\n",
    "# a.isspace\n",
    "# a.istitle\n",
    "# a.isupper\n",
    "# a.join\n",
    "# a.ljust\n",
    "# a.lower\n",
    "# a.lstrip\n",
    "# a.maketrans\n",
    "# a.partition\n",
    "# a.removeprefix\n",
    "# a.removesuffix\n",
    "# a.replace\n",
    "# a.rfind\n",
    "# a.rindex\n",
    "# a.rjust\n",
    "# a.rpartition\n",
    "# a.rsplit\n",
    "# a.rstrip\n",
    "# a.split\n",
    "# a.splitlines\n",
    "# a.startswith\n",
    "# a.strip\n",
    "# a.swapcase\n",
    "# a.title\n",
    "# a.translate\n",
    "# a.upper\n",
    "# a.zfill"
   ]
  },
  {
   "cell_type": "code",
   "execution_count": 22,
   "id": "36771980-0551-4184-9ae7-d3a0a4d716fa",
   "metadata": {},
   "outputs": [
    {
     "data": {
      "text/plain": [
       "'This is a sample string'"
      ]
     },
     "execution_count": 22,
     "metadata": {},
     "output_type": "execute_result"
    }
   ],
   "source": [
    "a"
   ]
  },
  {
   "cell_type": "code",
   "execution_count": 24,
   "id": "b78e0b72-44d3-440d-afc3-ab3f498dc4d5",
   "metadata": {},
   "outputs": [
    {
     "data": {
      "text/plain": [
       "'THIS IS A SAMPLE STRING'"
      ]
     },
     "execution_count": 24,
     "metadata": {},
     "output_type": "execute_result"
    }
   ],
   "source": [
    "a.upper()"
   ]
  },
  {
   "cell_type": "code",
   "execution_count": 26,
   "id": "7145f167-d53f-404e-93e1-857b4f4d0460",
   "metadata": {},
   "outputs": [
    {
     "data": {
      "text/plain": [
       "'this is a sample string'"
      ]
     },
     "execution_count": 26,
     "metadata": {},
     "output_type": "execute_result"
    }
   ],
   "source": [
    "a.lower()"
   ]
  },
  {
   "cell_type": "code",
   "execution_count": 34,
   "id": "ed994a43-d89f-4a03-857d-27dba01f8cb2",
   "metadata": {},
   "outputs": [
    {
     "data": {
      "text/plain": [
       "False"
      ]
     },
     "execution_count": 34,
     "metadata": {},
     "output_type": "execute_result"
    }
   ],
   "source": [
    "'VIJAYA' == 'vijaya'\n",
    "# Case sensitive -- we consider both lower and upper casing -- both are different\n",
    "# Case insensitive --- both are same"
   ]
  },
  {
   "cell_type": "code",
   "execution_count": 38,
   "id": "836e7018-2e13-4b34-b172-dcc5de4718e8",
   "metadata": {},
   "outputs": [
    {
     "data": {
      "text/plain": [
       "True"
      ]
     },
     "execution_count": 38,
     "metadata": {},
     "output_type": "execute_result"
    }
   ],
   "source": [
    "'Vijaya'.lower() == 'vijaya'.lower()"
   ]
  },
  {
   "cell_type": "code",
   "execution_count": 40,
   "id": "a0d14160-b53c-4985-a522-623d79294c6c",
   "metadata": {},
   "outputs": [
    {
     "data": {
      "text/plain": [
       "'This is a sample string'"
      ]
     },
     "execution_count": 40,
     "metadata": {},
     "output_type": "execute_result"
    }
   ],
   "source": [
    "a"
   ]
  },
  {
   "cell_type": "code",
   "execution_count": 42,
   "id": "c4c595f6-88eb-48e3-9ae3-2e8d7cc8e8ac",
   "metadata": {},
   "outputs": [
    {
     "data": {
      "text/plain": [
       "'This Is A Sample String'"
      ]
     },
     "execution_count": 42,
     "metadata": {},
     "output_type": "execute_result"
    }
   ],
   "source": [
    "a.title()"
   ]
  },
  {
   "cell_type": "code",
   "execution_count": 16,
   "id": "b7fe68aa-dd7d-47a9-b273-6e427fcdc0a2",
   "metadata": {},
   "outputs": [],
   "source": [
    "myFirstVar1 = 'Hi'\n",
    "# Variable name, Function name, Class name\n",
    "# Snake case - Ex: my_first_var_1 -- var, function names ***\n",
    "# Camel case - Ex: myFirstVar1 -- var, function names\n",
    "# pascal case - Ex: MyFirstVar1 -- class names"
   ]
  },
  {
   "cell_type": "code",
   "execution_count": 44,
   "id": "77e08ef2-9bb0-4eca-9214-781c45d8d2c4",
   "metadata": {},
   "outputs": [
    {
     "data": {
      "text/plain": [
       "'This is a sample string'"
      ]
     },
     "execution_count": 44,
     "metadata": {},
     "output_type": "execute_result"
    }
   ],
   "source": [
    "a"
   ]
  },
  {
   "cell_type": "code",
   "execution_count": 46,
   "id": "614b8582-369b-4234-94ff-62d306d23d53",
   "metadata": {},
   "outputs": [
    {
     "data": {
      "text/plain": [
       "'tHIS IS A SAMPLE STRING'"
      ]
     },
     "execution_count": 46,
     "metadata": {},
     "output_type": "execute_result"
    }
   ],
   "source": [
    "a.swapcase()"
   ]
  },
  {
   "cell_type": "code",
   "execution_count": 50,
   "id": "604ed75e-c4cc-4c22-b4fa-73c66b33a4c3",
   "metadata": {},
   "outputs": [
    {
     "data": {
      "text/plain": [
       "'This is a sample string'"
      ]
     },
     "execution_count": 50,
     "metadata": {},
     "output_type": "execute_result"
    }
   ],
   "source": [
    "a"
   ]
  },
  {
   "cell_type": "code",
   "execution_count": 56,
   "id": "276aec18-0fc3-4a79-89b7-16099e5ca91c",
   "metadata": {},
   "outputs": [
    {
     "data": {
      "text/plain": [
       "['This', 'is', 'a', 'sample', 'string']"
      ]
     },
     "execution_count": 56,
     "metadata": {},
     "output_type": "execute_result"
    }
   ],
   "source": [
    "a.split()"
   ]
  },
  {
   "cell_type": "code",
   "execution_count": 54,
   "id": "96bdcba7-8dc5-42f0-90ec-e228f3166fdf",
   "metadata": {},
   "outputs": [
    {
     "data": {
      "text/plain": [
       "'string'"
      ]
     },
     "execution_count": 54,
     "metadata": {},
     "output_type": "execute_result"
    }
   ],
   "source": [
    "a.split()[-1]"
   ]
  },
  {
   "cell_type": "code",
   "execution_count": 62,
   "id": "f9e5508a-60ce-4031-97e1-7a00d9f31e76",
   "metadata": {},
   "outputs": [],
   "source": [
    "name = 'Vijaya Nandini M'"
   ]
  },
  {
   "cell_type": "code",
   "execution_count": 64,
   "id": "d88b2cb6-3cf0-4e26-bdbc-81fdde34acbc",
   "metadata": {},
   "outputs": [
    {
     "data": {
      "text/plain": [
       "['Vijaya', 'Nandini', 'M']"
      ]
     },
     "execution_count": 64,
     "metadata": {},
     "output_type": "execute_result"
    }
   ],
   "source": [
    "name.split()"
   ]
  },
  {
   "cell_type": "code",
   "execution_count": 66,
   "id": "d51a0040-96ce-48df-abaf-c1ca1062871a",
   "metadata": {},
   "outputs": [
    {
     "data": {
      "text/plain": [
       "['Vij', 'y', ' N', 'ndini M']"
      ]
     },
     "execution_count": 66,
     "metadata": {},
     "output_type": "execute_result"
    }
   ],
   "source": [
    "name.split('a')"
   ]
  },
  {
   "cell_type": "code",
   "execution_count": 68,
   "id": "18670ef7-bb36-488d-9dce-d135dbf70091",
   "metadata": {},
   "outputs": [],
   "source": [
    "b = 'We- are- trying to- understand string functions.'"
   ]
  },
  {
   "cell_type": "code",
   "execution_count": 70,
   "id": "deca319e-c535-44a4-bfa1-cc38bf9cbb9e",
   "metadata": {},
   "outputs": [
    {
     "data": {
      "text/plain": [
       "'We- are- trying to- understand string functions.'"
      ]
     },
     "execution_count": 70,
     "metadata": {},
     "output_type": "execute_result"
    }
   ],
   "source": [
    "b"
   ]
  },
  {
   "cell_type": "code",
   "execution_count": 72,
   "id": "a17cb98d-0d18-4a97-887c-8a621f1c29c9",
   "metadata": {},
   "outputs": [
    {
     "name": "stdout",
     "output_type": "stream",
     "text": [
      "['We-', 'are-', 'trying', 'to-', 'understand', 'string', 'functions.']\n"
     ]
    }
   ],
   "source": [
    "o1 = b.split()\n",
    "print(o1)"
   ]
  },
  {
   "cell_type": "code",
   "execution_count": 74,
   "id": "df0cf391-9080-48eb-b608-21ea307389bc",
   "metadata": {},
   "outputs": [
    {
     "data": {
      "text/plain": [
       "'We-'"
      ]
     },
     "execution_count": 74,
     "metadata": {},
     "output_type": "execute_result"
    }
   ],
   "source": [
    "o1[0]"
   ]
  },
  {
   "cell_type": "code",
   "execution_count": 76,
   "id": "c9acfd21-43d5-43a7-b63c-62db78766e31",
   "metadata": {},
   "outputs": [
    {
     "data": {
      "text/plain": [
       "'to-'"
      ]
     },
     "execution_count": 76,
     "metadata": {},
     "output_type": "execute_result"
    }
   ],
   "source": [
    "o1[3]"
   ]
  },
  {
   "cell_type": "code",
   "execution_count": 78,
   "id": "de58c59a-8220-48c9-82eb-889f5a880368",
   "metadata": {},
   "outputs": [
    {
     "data": {
      "text/plain": [
       "7"
      ]
     },
     "execution_count": 78,
     "metadata": {},
     "output_type": "execute_result"
    }
   ],
   "source": [
    "len(o1)"
   ]
  },
  {
   "cell_type": "code",
   "execution_count": 80,
   "id": "be8f12eb-dab2-4cae-b97b-7ac761ce5eb3",
   "metadata": {},
   "outputs": [
    {
     "data": {
      "text/plain": [
       "'We- are- trying to- understand string functions.'"
      ]
     },
     "execution_count": 80,
     "metadata": {},
     "output_type": "execute_result"
    }
   ],
   "source": [
    "b"
   ]
  },
  {
   "cell_type": "code",
   "execution_count": 82,
   "id": "d3cfc804-681c-487f-82f8-8481fa50d9fa",
   "metadata": {},
   "outputs": [
    {
     "name": "stdout",
     "output_type": "stream",
     "text": [
      "['We', ' are', ' trying to', ' understand string functions.']\n"
     ]
    }
   ],
   "source": [
    "o2 = b.split('-')\n",
    "print(o2)"
   ]
  },
  {
   "cell_type": "code",
   "execution_count": 84,
   "id": "af4d67b8-845b-4fd3-8a0a-e06934e9402f",
   "metadata": {},
   "outputs": [
    {
     "data": {
      "text/plain": [
       "4"
      ]
     },
     "execution_count": 84,
     "metadata": {},
     "output_type": "execute_result"
    }
   ],
   "source": [
    "len(o2)"
   ]
  },
  {
   "cell_type": "code",
   "execution_count": 86,
   "id": "f0c274ca-c21f-4a27-862f-43c55121f338",
   "metadata": {},
   "outputs": [
    {
     "data": {
      "text/plain": [
       "' understand string functions.'"
      ]
     },
     "execution_count": 86,
     "metadata": {},
     "output_type": "execute_result"
    }
   ],
   "source": [
    "o2[3]"
   ]
  },
  {
   "cell_type": "code",
   "execution_count": 88,
   "id": "dc67bf1e-e486-418d-9c7e-ae45f037d224",
   "metadata": {},
   "outputs": [
    {
     "data": {
      "text/plain": [
       "'We- are- trying to- understand string functions.'"
      ]
     },
     "execution_count": 88,
     "metadata": {},
     "output_type": "execute_result"
    }
   ],
   "source": [
    "b"
   ]
  },
  {
   "cell_type": "code",
   "execution_count": 90,
   "id": "97c09a89-0b72-42de-a2a1-0ad9a5dc5420",
   "metadata": {},
   "outputs": [
    {
     "data": {
      "text/plain": [
       "['We- are- ', 'rying ', 'o- unders', 'and s', 'ring func', 'ions.']"
      ]
     },
     "execution_count": 90,
     "metadata": {},
     "output_type": "execute_result"
    }
   ],
   "source": [
    "b.split('t')"
   ]
  },
  {
   "cell_type": "code",
   "execution_count": 92,
   "id": "8121f42d-0f38-4a6d-ac96-c0293a184854",
   "metadata": {},
   "outputs": [
    {
     "data": {
      "text/plain": [
       "['We- are- trying to- under', 'tand ', 'tring function', '.']"
      ]
     },
     "execution_count": 92,
     "metadata": {},
     "output_type": "execute_result"
    }
   ],
   "source": [
    "b.split('s')"
   ]
  },
  {
   "cell_type": "code",
   "execution_count": 94,
   "id": "c44c7f34-be8e-4943-951c-d3c25b15b6e2",
   "metadata": {},
   "outputs": [
    {
     "data": {
      "text/plain": [
       "['vijaya.nandini', 'gmail.com']"
      ]
     },
     "execution_count": 94,
     "metadata": {},
     "output_type": "execute_result"
    }
   ],
   "source": [
    "'vijaya.nandini@gmail.com'.split('@')"
   ]
  },
  {
   "cell_type": "code",
   "execution_count": 98,
   "id": "1b102ec1-8a63-4ed1-9e9a-49158fabeae8",
   "metadata": {},
   "outputs": [
    {
     "data": {
      "text/plain": [
       "'Hi all'"
      ]
     },
     "execution_count": 98,
     "metadata": {},
     "output_type": "execute_result"
    }
   ],
   "source": [
    "'hi all'.capitalize()"
   ]
  },
  {
   "cell_type": "code",
   "execution_count": 102,
   "id": "ef60fd8a-cf1a-4fe0-b773-aed59090cc72",
   "metadata": {},
   "outputs": [
    {
     "data": {
      "text/plain": [
       "'Hi all'"
      ]
     },
     "execution_count": 102,
     "metadata": {},
     "output_type": "execute_result"
    }
   ],
   "source": [
    "'HI ALL'.capitalize()"
   ]
  },
  {
   "cell_type": "code",
   "execution_count": 104,
   "id": "526c96a1-db3e-4d51-984e-d31f426222d3",
   "metadata": {},
   "outputs": [
    {
     "data": {
      "text/plain": [
       "'Hi All'"
      ]
     },
     "execution_count": 104,
     "metadata": {},
     "output_type": "execute_result"
    }
   ],
   "source": [
    "'hi all'.title()"
   ]
  },
  {
   "cell_type": "code",
   "execution_count": 106,
   "id": "51467f45-440d-4175-b8eb-807b219f8965",
   "metadata": {},
   "outputs": [
    {
     "data": {
      "text/plain": [
       "'Hi All'"
      ]
     },
     "execution_count": 106,
     "metadata": {},
     "output_type": "execute_result"
    }
   ],
   "source": [
    "'HI ALL'.title()"
   ]
  },
  {
   "cell_type": "code",
   "execution_count": 108,
   "id": "0012d984-7747-4ae6-add4-74ebbfe6a07a",
   "metadata": {},
   "outputs": [
    {
     "data": {
      "text/plain": [
       "'We- are- trying to- understand string functions.'"
      ]
     },
     "execution_count": 108,
     "metadata": {},
     "output_type": "execute_result"
    }
   ],
   "source": [
    "b"
   ]
  },
  {
   "cell_type": "code",
   "execution_count": 110,
   "id": "74f90176-6173-4003-99a5-b6336c5a1ea9",
   "metadata": {},
   "outputs": [
    {
     "data": {
      "text/plain": [
       "'We, are, trying to, understand string functions.'"
      ]
     },
     "execution_count": 110,
     "metadata": {},
     "output_type": "execute_result"
    }
   ],
   "source": [
    "b.replace('-',',')"
   ]
  },
  {
   "cell_type": "code",
   "execution_count": 116,
   "id": "0ca3d463-c19e-4351-bb32-5e84c2651dd1",
   "metadata": {},
   "outputs": [
    {
     "data": {
      "text/plain": [
       "'We are trying to understand string functions.'"
      ]
     },
     "execution_count": 116,
     "metadata": {},
     "output_type": "execute_result"
    }
   ],
   "source": [
    "b.replace('-','')"
   ]
  },
  {
   "cell_type": "code",
   "execution_count": 114,
   "id": "6d6bb93f-1520-4a3a-84d1-1a810311dfb2",
   "metadata": {},
   "outputs": [
    {
     "data": {
      "text/plain": [
       "'Wearetryingtounderstandstringfunctions.'"
      ]
     },
     "execution_count": 114,
     "metadata": {},
     "output_type": "execute_result"
    }
   ],
   "source": [
    "b.replace('-','').replace(' ','')"
   ]
  },
  {
   "cell_type": "code",
   "execution_count": 118,
   "id": "bb856b13-8ed8-4135-88c2-bcd2233e4ca7",
   "metadata": {},
   "outputs": [
    {
     "data": {
      "text/plain": [
       "'We- are- trying to- understand string functions.'"
      ]
     },
     "execution_count": 118,
     "metadata": {},
     "output_type": "execute_result"
    }
   ],
   "source": [
    "b"
   ]
  },
  {
   "cell_type": "code",
   "execution_count": 120,
   "id": "e319e2c6-c845-49a0-8e60-5321e7ac0771",
   "metadata": {},
   "outputs": [
    {
     "data": {
      "text/plain": [
       "'We- are- 123 understand string functions.'"
      ]
     },
     "execution_count": 120,
     "metadata": {},
     "output_type": "execute_result"
    }
   ],
   "source": [
    "b.replace('trying to-','123')"
   ]
  },
  {
   "cell_type": "code",
   "execution_count": 124,
   "id": "f0b8c1b1-5adb-4178-82b1-6f5fe4c561df",
   "metadata": {},
   "outputs": [],
   "source": [
    "c = 'hi All'"
   ]
  },
  {
   "cell_type": "code",
   "execution_count": 126,
   "id": "b08cd089-3ae5-47ac-8321-f5a5cdbd9914",
   "metadata": {},
   "outputs": [
    {
     "name": "stdout",
     "output_type": "stream",
     "text": [
      "hi All\n"
     ]
    }
   ],
   "source": [
    "print(c)"
   ]
  },
  {
   "cell_type": "code",
   "execution_count": 128,
   "id": "0d48d103-3dc8-487b-a938-86f9c1435da9",
   "metadata": {},
   "outputs": [
    {
     "data": {
      "text/plain": [
       "6"
      ]
     },
     "execution_count": 128,
     "metadata": {},
     "output_type": "execute_result"
    }
   ],
   "source": [
    "len(c)"
   ]
  },
  {
   "cell_type": "code",
   "execution_count": 130,
   "id": "15485bb3-0c12-48d2-ac43-6066195a6980",
   "metadata": {},
   "outputs": [],
   "source": [
    "d = 'December'"
   ]
  },
  {
   "cell_type": "code",
   "execution_count": 132,
   "id": "68a18a96-e21d-43c3-b417-d5392324d096",
   "metadata": {},
   "outputs": [
    {
     "data": {
      "text/plain": [
       "'December 31'"
      ]
     },
     "execution_count": 132,
     "metadata": {},
     "output_type": "execute_result"
    }
   ],
   "source": [
    "'December 31'"
   ]
  },
  {
   "cell_type": "code",
   "execution_count": 134,
   "id": "271234b7-bedb-40b8-83f6-3d3352d40c7f",
   "metadata": {},
   "outputs": [
    {
     "ename": "TypeError",
     "evalue": "can only concatenate str (not \"int\") to str",
     "output_type": "error",
     "traceback": [
      "\u001b[1;31m---------------------------------------------------------------------------\u001b[0m",
      "\u001b[1;31mTypeError\u001b[0m                                 Traceback (most recent call last)",
      "Cell \u001b[1;32mIn[134], line 1\u001b[0m\n\u001b[1;32m----> 1\u001b[0m d \u001b[38;5;241m+\u001b[39m \u001b[38;5;241m28\u001b[39m\n",
      "\u001b[1;31mTypeError\u001b[0m: can only concatenate str (not \"int\") to str"
     ]
    }
   ],
   "source": [
    "d + 28 # d is string and 28 is integer"
   ]
  },
  {
   "cell_type": "code",
   "execution_count": 144,
   "id": "bc77c032-97d5-4f11-b3a6-084f512ee1ba",
   "metadata": {},
   "outputs": [
    {
     "data": {
      "text/plain": [
       "'December 28'"
      ]
     },
     "execution_count": 144,
     "metadata": {},
     "output_type": "execute_result"
    }
   ],
   "source": [
    "d + ' ' + str(28)"
   ]
  },
  {
   "cell_type": "code",
   "execution_count": 146,
   "id": "81e35453-8daa-4c19-a584-edc0eace9fa9",
   "metadata": {},
   "outputs": [],
   "source": [
    "# output : 567\n",
    "e = '56' "
   ]
  },
  {
   "cell_type": "code",
   "execution_count": 148,
   "id": "af7fccf9-74df-473d-91b5-88bba1f5e3c5",
   "metadata": {},
   "outputs": [
    {
     "data": {
      "text/plain": [
       "'567'"
      ]
     },
     "execution_count": 148,
     "metadata": {},
     "output_type": "execute_result"
    }
   ],
   "source": [
    "e + str(7)"
   ]
  },
  {
   "cell_type": "code",
   "execution_count": 150,
   "id": "4c0660f7-1036-47d1-98dd-4f8719f819bb",
   "metadata": {},
   "outputs": [
    {
     "data": {
      "text/plain": [
       "63"
      ]
     },
     "execution_count": 150,
     "metadata": {},
     "output_type": "execute_result"
    }
   ],
   "source": [
    "int(e) + 7"
   ]
  },
  {
   "cell_type": "code",
   "execution_count": 152,
   "id": "a2e3e54f",
   "metadata": {},
   "outputs": [
    {
     "data": {
      "text/plain": [
       "'7'"
      ]
     },
     "execution_count": 152,
     "metadata": {},
     "output_type": "execute_result"
    }
   ],
   "source": [
    "str(7)"
   ]
  },
  {
   "cell_type": "code",
   "execution_count": 154,
   "id": "17eacd16-99a4-478d-b0d6-0aecff44e59a",
   "metadata": {},
   "outputs": [
    {
     "data": {
      "text/plain": [
       "'567'"
      ]
     },
     "execution_count": 154,
     "metadata": {},
     "output_type": "execute_result"
    }
   ],
   "source": [
    "'56' + '7'"
   ]
  },
  {
   "cell_type": "code",
   "execution_count": null,
   "id": "8c236010-344b-4ce5-b4f4-a1bcff75687c",
   "metadata": {},
   "outputs": [],
   "source": []
  }
 ],
 "metadata": {
  "kernelspec": {
   "display_name": "Python 3 (ipykernel)",
   "language": "python",
   "name": "python3"
  },
  "language_info": {
   "codemirror_mode": {
    "name": "ipython",
    "version": 3
   },
   "file_extension": ".py",
   "mimetype": "text/x-python",
   "name": "python",
   "nbconvert_exporter": "python",
   "pygments_lexer": "ipython3",
   "version": "3.12.4"
  }
 },
 "nbformat": 4,
 "nbformat_minor": 5
}
