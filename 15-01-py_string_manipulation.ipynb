{
 "cells": [
  {
   "cell_type": "markdown",
   "id": "19b80ef3-7a8e-4219-941f-e2ad7b0d3418",
   "metadata": {},
   "source": [
    "# String Manipulation"
   ]
  },
  {
   "cell_type": "code",
   "execution_count": 8,
   "id": "e8e34721-00db-4fee-99f2-fc14f3c0da66",
   "metadata": {},
   "outputs": [],
   "source": [
    "a = \"This is a sample string\""
   ]
  },
  {
   "cell_type": "code",
   "execution_count": null,
   "id": "e3b24955-8d6f-4c1a-9162-51fdbb3d7a3b",
   "metadata": {},
   "outputs": [],
   "source": [
    "a"
   ]
  },
  {
   "cell_type": "code",
   "execution_count": null,
   "id": "5b81a1d2-d126-4cc7-831c-6b29beadf140",
   "metadata": {},
   "outputs": [],
   "source": [
    "a + '.' # String concatenation"
   ]
  },
  {
   "cell_type": "code",
   "execution_count": null,
   "id": "6c2b9d75-5d5a-458e-9fa5-a6c4754016bf",
   "metadata": {},
   "outputs": [],
   "source": [
    "'....' + a"
   ]
  },
  {
   "cell_type": "code",
   "execution_count": null,
   "id": "648635e4-f380-42d2-beb7-8037a294696e",
   "metadata": {},
   "outputs": [],
   "source": [
    "'Hi' + ' ' + 'all'"
   ]
  },
  {
   "cell_type": "code",
   "execution_count": 22,
   "id": "048f4c76-0eaf-49a2-9586-78e4c83d08f1",
   "metadata": {},
   "outputs": [],
   "source": [
    "# a.*?\n",
    "# a.capitalize --\n",
    "# a.casefold --\n",
    "# a.center --\n",
    "# a.count -- **\n",
    "# a.encode --\n",
    "# a.endswith --\n",
    "# a.expandtabs --\n",
    "# a.find -- **\n",
    "# a.format -- **\n",
    "# a.format_map --\n",
    "# a.index --\n",
    "# a.isalnum --\n",
    "# a.isalpha --\n",
    "# a.isascii --\n",
    "# a.isdecimal --\n",
    "# a.isdigit --\n",
    "# a.isidentifier --\n",
    "# a.islower --\n",
    "# a.isnumeric --\n",
    "# a.isprintable --\n",
    "# a.isspace --\n",
    "# a.istitle --\n",
    "# a.isupper --\n",
    "# a.join -- **\n",
    "# a.ljust --\n",
    "# a.lower --\n",
    "# a.lstrip --\n",
    "# a.maketrans --\n",
    "# a.partition --\n",
    "# a.removeprefix --\n",
    "# a.removesuffix --\n",
    "# a.replace -- **\n",
    "# a.rfind --\n",
    "# a.rindex --\n",
    "# a.rjust --\n",
    "# a.rpartition --\n",
    "# a.rsplit --\n",
    "# a.rstrip --\n",
    "# a.split -- **\n",
    "# a.splitlines --\n",
    "# a.startswith --\n",
    "# a.strip -- **\n",
    "# a.swapcase -- \n",
    "# a.title --\n",
    "# a.translate --\n",
    "# a.upper --\n",
    "# a.zfill --"
   ]
  },
  {
   "cell_type": "code",
   "execution_count": null,
   "id": "36771980-0551-4184-9ae7-d3a0a4d716fa",
   "metadata": {},
   "outputs": [],
   "source": [
    "a"
   ]
  },
  {
   "cell_type": "code",
   "execution_count": null,
   "id": "b78e0b72-44d3-440d-afc3-ab3f498dc4d5",
   "metadata": {},
   "outputs": [],
   "source": [
    "a.upper()"
   ]
  },
  {
   "cell_type": "code",
   "execution_count": null,
   "id": "7145f167-d53f-404e-93e1-857b4f4d0460",
   "metadata": {},
   "outputs": [],
   "source": [
    "a.lower()"
   ]
  },
  {
   "cell_type": "code",
   "execution_count": null,
   "id": "c4c595f6-88eb-48e3-9ae3-2e8d7cc8e8ac",
   "metadata": {},
   "outputs": [],
   "source": [
    "a.title()"
   ]
  },
  {
   "cell_type": "code",
   "execution_count": 43,
   "id": "b7fe68aa-dd7d-47a9-b273-6e427fcdc0a2",
   "metadata": {},
   "outputs": [],
   "source": [
    "rithvikVar1 = 'Hi'\n",
    "# Variable name, Function name, Class name\n",
    "# Snake case - Ex: rithvik_var_1 -- var, function names ***\n",
    "# Camel case - Ex: rithvikVar1 -- var, function names\n",
    "# pascal case - Ex: RithvikVar1 -- class names"
   ]
  },
  {
   "cell_type": "code",
   "execution_count": null,
   "id": "77e08ef2-9bb0-4eca-9214-781c45d8d2c4",
   "metadata": {},
   "outputs": [],
   "source": [
    "a"
   ]
  },
  {
   "cell_type": "code",
   "execution_count": null,
   "id": "614b8582-369b-4234-94ff-62d306d23d53",
   "metadata": {},
   "outputs": [],
   "source": [
    "a.swapcase()"
   ]
  },
  {
   "cell_type": "code",
   "execution_count": null,
   "id": "604ed75e-c4cc-4c22-b4fa-73c66b33a4c3",
   "metadata": {},
   "outputs": [],
   "source": [
    "a"
   ]
  },
  {
   "cell_type": "code",
   "execution_count": null,
   "id": "96bdcba7-8dc5-42f0-90ec-e228f3166fdf",
   "metadata": {},
   "outputs": [],
   "source": [
    "a.split()"
   ]
  },
  {
   "cell_type": "code",
   "execution_count": 110,
   "id": "18670ef7-bb36-488d-9dce-d135dbf70091",
   "metadata": {},
   "outputs": [],
   "source": [
    "b = 'We- are- trying to- understand string functions.'"
   ]
  },
  {
   "cell_type": "code",
   "execution_count": null,
   "id": "deca319e-c535-44a4-bfa1-cc38bf9cbb9e",
   "metadata": {},
   "outputs": [],
   "source": [
    "b"
   ]
  },
  {
   "cell_type": "code",
   "execution_count": null,
   "id": "a17cb98d-0d18-4a97-887c-8a621f1c29c9",
   "metadata": {},
   "outputs": [],
   "source": [
    "o1 = b.split()\n",
    "print(o1)"
   ]
  },
  {
   "cell_type": "code",
   "execution_count": null,
   "id": "df0cf391-9080-48eb-b608-21ea307389bc",
   "metadata": {},
   "outputs": [],
   "source": [
    "o1[0]"
   ]
  },
  {
   "cell_type": "code",
   "execution_count": null,
   "id": "c9acfd21-43d5-43a7-b63c-62db78766e31",
   "metadata": {},
   "outputs": [],
   "source": [
    "o1[3]"
   ]
  },
  {
   "cell_type": "code",
   "execution_count": null,
   "id": "de58c59a-8220-48c9-82eb-889f5a880368",
   "metadata": {},
   "outputs": [],
   "source": [
    "len(o1)"
   ]
  },
  {
   "cell_type": "code",
   "execution_count": null,
   "id": "be8f12eb-dab2-4cae-b97b-7ac761ce5eb3",
   "metadata": {},
   "outputs": [],
   "source": [
    "b"
   ]
  },
  {
   "cell_type": "code",
   "execution_count": null,
   "id": "d3cfc804-681c-487f-82f8-8481fa50d9fa",
   "metadata": {},
   "outputs": [],
   "source": [
    "o2 = b.split('-')\n",
    "print(o2)"
   ]
  },
  {
   "cell_type": "code",
   "execution_count": null,
   "id": "af4d67b8-845b-4fd3-8a0a-e06934e9402f",
   "metadata": {},
   "outputs": [],
   "source": [
    "len(o2)"
   ]
  },
  {
   "cell_type": "code",
   "execution_count": null,
   "id": "f0c274ca-c21f-4a27-862f-43c55121f338",
   "metadata": {},
   "outputs": [],
   "source": [
    "o2[3]"
   ]
  },
  {
   "cell_type": "code",
   "execution_count": null,
   "id": "dc67bf1e-e486-418d-9c7e-ae45f037d224",
   "metadata": {},
   "outputs": [],
   "source": [
    "b"
   ]
  },
  {
   "cell_type": "code",
   "execution_count": null,
   "id": "97c09a89-0b72-42de-a2a1-0ad9a5dc5420",
   "metadata": {},
   "outputs": [],
   "source": [
    "b.split('t')"
   ]
  },
  {
   "cell_type": "code",
   "execution_count": null,
   "id": "8121f42d-0f38-4a6d-ac96-c0293a184854",
   "metadata": {},
   "outputs": [],
   "source": [
    "b.split('s')"
   ]
  },
  {
   "cell_type": "code",
   "execution_count": null,
   "id": "c44c7f34-be8e-4943-951c-d3c25b15b6e2",
   "metadata": {},
   "outputs": [],
   "source": [
    "'vijaya.nandini@gmail.com'.split('@')"
   ]
  },
  {
   "cell_type": "code",
   "execution_count": null,
   "id": "cbec12b8-956e-4e62-b9f0-23204c7a4c63",
   "metadata": {},
   "outputs": [],
   "source": [
    "b"
   ]
  },
  {
   "cell_type": "code",
   "execution_count": null,
   "id": "1b102ec1-8a63-4ed1-9e9a-49158fabeae8",
   "metadata": {},
   "outputs": [],
   "source": [
    "'hi all'.capitalize()"
   ]
  },
  {
   "cell_type": "code",
   "execution_count": null,
   "id": "526c96a1-db3e-4d51-984e-d31f426222d3",
   "metadata": {},
   "outputs": [],
   "source": [
    "'hi all'.title()"
   ]
  },
  {
   "cell_type": "code",
   "execution_count": null,
   "id": "0012d984-7747-4ae6-add4-74ebbfe6a07a",
   "metadata": {},
   "outputs": [],
   "source": [
    "b"
   ]
  },
  {
   "cell_type": "code",
   "execution_count": null,
   "id": "74f90176-6173-4003-99a5-b6336c5a1ea9",
   "metadata": {},
   "outputs": [],
   "source": [
    "b.replace('-',',')"
   ]
  },
  {
   "cell_type": "code",
   "execution_count": null,
   "id": "6d6bb93f-1520-4a3a-84d1-1a810311dfb2",
   "metadata": {},
   "outputs": [],
   "source": [
    "b.replace('-','')"
   ]
  },
  {
   "cell_type": "code",
   "execution_count": null,
   "id": "e319e2c6-c845-49a0-8e60-5321e7ac0771",
   "metadata": {},
   "outputs": [],
   "source": [
    "b.replace('trying to-','to')"
   ]
  },
  {
   "cell_type": "code",
   "execution_count": 171,
   "id": "f0b8c1b1-5adb-4178-82b1-6f5fe4c561df",
   "metadata": {},
   "outputs": [],
   "source": [
    "c = 'hi All'"
   ]
  },
  {
   "cell_type": "code",
   "execution_count": null,
   "id": "b08cd089-3ae5-47ac-8321-f5a5cdbd9914",
   "metadata": {},
   "outputs": [],
   "source": [
    "print(c)"
   ]
  },
  {
   "cell_type": "code",
   "execution_count": null,
   "id": "0d48d103-3dc8-487b-a938-86f9c1435da9",
   "metadata": {},
   "outputs": [],
   "source": [
    "len(c)"
   ]
  },
  {
   "cell_type": "code",
   "execution_count": 177,
   "id": "15485bb3-0c12-48d2-ac43-6066195a6980",
   "metadata": {},
   "outputs": [],
   "source": [
    "d = 'August'"
   ]
  },
  {
   "cell_type": "code",
   "execution_count": null,
   "id": "68a18a96-e21d-43c3-b417-d5392324d096",
   "metadata": {},
   "outputs": [],
   "source": [
    "'August 28'"
   ]
  },
  {
   "cell_type": "code",
   "execution_count": null,
   "id": "271234b7-bedb-40b8-83f6-3d3352d40c7f",
   "metadata": {},
   "outputs": [],
   "source": [
    "d + 28 # d is string and 28 is integer"
   ]
  },
  {
   "cell_type": "code",
   "execution_count": null,
   "id": "bc77c032-97d5-4f11-b3a6-084f512ee1ba",
   "metadata": {},
   "outputs": [],
   "source": [
    "d + ' ' + str(28)"
   ]
  },
  {
   "cell_type": "code",
   "execution_count": 189,
   "id": "81e35453-8daa-4c19-a584-edc0eace9fa9",
   "metadata": {},
   "outputs": [],
   "source": [
    "# output : 567\n",
    "e = '56' "
   ]
  },
  {
   "cell_type": "code",
   "execution_count": null,
   "id": "af7fccf9-74df-473d-91b5-88bba1f5e3c5",
   "metadata": {},
   "outputs": [],
   "source": [
    "e + str(7)"
   ]
  },
  {
   "cell_type": "code",
   "execution_count": null,
   "id": "4c0660f7-1036-47d1-98dd-4f8719f819bb",
   "metadata": {},
   "outputs": [],
   "source": [
    "int(e) + 7"
   ]
  },
  {
   "cell_type": "code",
   "execution_count": null,
   "id": "adb94f2a-e22f-4019-a13c-ce63cd39f393",
   "metadata": {},
   "outputs": [],
   "source": []
  }
 ],
 "metadata": {
  "kernelspec": {
   "display_name": "Python 3 (ipykernel)",
   "language": "python",
   "name": "python3"
  },
  "language_info": {
   "codemirror_mode": {
    "name": "ipython",
    "version": 3
   },
   "file_extension": ".py",
   "mimetype": "text/x-python",
   "name": "python",
   "nbconvert_exporter": "python",
   "pygments_lexer": "ipython3",
   "version": "3.12.4"
  }
 },
 "nbformat": 4,
 "nbformat_minor": 5
}
